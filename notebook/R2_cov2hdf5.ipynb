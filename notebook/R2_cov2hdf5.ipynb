{
 "metadata": {
  "name": "",
  "signature": "sha256:8e9027cbb79eae929d8b74c107ffec052366ed19b9034a6007e00e554d1dc741"
 },
 "nbformat": 3,
 "nbformat_minor": 0,
 "worksheets": [
  {
   "cells": [
    {
     "cell_type": "code",
     "collapsed": false,
     "input": [
      "import os\n",
      "import h5py\n",
      "import sklearn\n",
      "import cv2\n",
      "import pandas as pd\n",
      "import numpy as np\n",
      "import sklearn.datasets\n",
      "import sklearn.linear_model\n",
      "import matplotlib.pyplot as plt\n",
      "%matplotlib inline\n",
      "\n",
      "# Make sure that caffe is on the python path:\n",
      "caffe_root = '../'  # this file is expected to be in {caffe_root}/examples\n",
      "import sys\n",
      "sys.path.insert(0, caffe_root + 'python')\n",
      "\n",
      "import caffe, caffe.draw"
     ],
     "language": "python",
     "metadata": {},
     "outputs": [],
     "prompt_number": 2
    },
    {
     "cell_type": "markdown",
     "metadata": {},
     "source": [
      "### \u4ece\u6587\u6863\u5217\u8868\u4e2d\u5c06\u6b63\u6837\u672c\u5bfc\u5165\u8bad\u7ec3\u6570\u636e"
     ]
    },
    {
     "cell_type": "code",
     "collapsed": false,
     "input": [
      "pos_dir = '/Users/chickenchen/Data/R2_hand/palm20x20/'\n",
      "img_url = open(pos_dir + 'pos_sub_url.txt')\n",
      "if not os.path.exists(pos_dir):\n",
      "    os.makedirs(pos_dir)\n",
      "train_filename = os.path.join(pos_dir, 'train_pos.h5')\n",
      "\n",
      "# \u5c06\u6b63\u6837\u672c\u6570\u636e\u5b58\u50a8\u4e3ahdf5\u683c\u5f0f\uff0c\u5e76\u5c06hdf5\u6587\u4ef6\u7684\u4f4d\u7f6e\u8f93\u51fa\u5230\u6587\u672c\u6587\u4ef6\n",
      "with h5py.File(train_filename, 'w') as f:\n",
      "    dset_data = f.create_dataset('data', (0,1, 20,20), maxshape=(None, 1, 20, 20))\n",
      "    dset_label = f.create_dataset('label', (0,), maxshape=(None,))\n",
      "    for i in img_url:\n",
      "        img = cv2.imread(i.strip('\\n'),0)\n",
      "        img = img/255.0\n",
      "        dset_data.resize( (dset_data.shape[0]+1, 1, 20, 20) )\n",
      "        dset_data[-1, :, :, :] = img\n",
      "        dset_label.resize( (dset_label.shape[0]+1,) )\n",
      "        dset_label[-1] = 1.0\n",
      "    print dset_data.shape\n",
      "    print dset_label.shape"
     ],
     "language": "python",
     "metadata": {},
     "outputs": [
      {
       "output_type": "stream",
       "stream": "stdout",
       "text": [
        "(26373, 1, 20, 20)\n",
        "(26373,)\n"
       ]
      }
     ],
     "prompt_number": 7
    },
    {
     "cell_type": "markdown",
     "metadata": {},
     "source": [
      "### \u4ece\u6587\u6863\u5217\u8868\u4e2d\u5c06\u6b63\u6837\u672c\u5bfc\u5165\u8bad\u7ec3\u6570\u636e"
     ]
    },
    {
     "cell_type": "code",
     "collapsed": false,
     "input": [
      "neg_dir = '/Users/chickenchen/Data/images-0226/'\n",
      "neg_url = []\n",
      "neg_sub0_url = open(os.path.join(neg_dir,'sub0/neg_sub_url.txt'))\n",
      "neg_url.append(neg_sub0_url)\n",
      "neg_sub1_url = open(os.path.join(neg_dir,'sub1/neg_sub_url.txt'))\n",
      "neg_url.append(neg_sub1_url)\n",
      "neg_sub2_url = open(os.path.join(neg_dir,'sub2/neg_sub_url.txt'))\n",
      "neg_url.append(neg_sub2_url)\n",
      "neg_sub3_url = open(os.path.join(neg_dir,'sub3/neg_sub_url.txt'))\n",
      "neg_url.append(neg_sub3_url)\n",
      "\n",
      "if not os.path.exists(neg_dir):\n",
      "    os.makedirs(neg_dir)\n",
      "train_filename = os.path.join(neg_dir, 'train_neg.h5')\n",
      "\n",
      "# \u5c06\u8d1f\u6837\u672c\u6570\u636e\u5b58\u50a8\u4e3ahdf5\u683c\u5f0f\uff0c\u5e76\u5c06hdf5\u6587\u4ef6\u7684\u4f4d\u7f6e\u8f93\u51fa\u5230\u6587\u672c\u6587\u4ef6\n",
      "with h5py.File(train_filename, 'w') as f:\n",
      "    dset_data = f.create_dataset('data', (0,1, 20, 20), maxshape=(None, 1, 20, 20))\n",
      "    dset_label = f.create_dataset('label', (0,), maxshape=(None,))\n",
      "    for url in neg_url:\n",
      "        for i in url:\n",
      "            img = cv2.imread(i.strip('\\n'),0)\n",
      "            img = img/255.0\n",
      "            dset_data.resize( (dset_data.shape[0]+1, 1, 20, 20) )\n",
      "            dset_data[-1, :,:] = img\n",
      "            dset_label.resize( (dset_label.shape[0]+1,) )\n",
      "            dset_label[-1] = 0.0\n",
      "    print dset_data.shape\n",
      "    print dset_label.shape"
     ],
     "language": "python",
     "metadata": {},
     "outputs": [
      {
       "output_type": "stream",
       "stream": "stdout",
       "text": [
        "(57940, 1, 20, 20)\n",
        "(57940,)\n"
       ]
      }
     ],
     "prompt_number": 8
    },
    {
     "cell_type": "code",
     "collapsed": false,
     "input": [],
     "language": "python",
     "metadata": {},
     "outputs": []
    }
   ],
   "metadata": {}
  }
 ]
}