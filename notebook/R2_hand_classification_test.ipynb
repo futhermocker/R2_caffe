{
 "metadata": {
  "name": "",
  "signature": "sha256:7201babdcdd441f6675b12e59e6b24b1ceae754fd70c36f161be1805c90d25e5"
 },
 "nbformat": 3,
 "nbformat_minor": 0,
 "worksheets": [
  {
   "cells": [
    {
     "cell_type": "code",
     "collapsed": false,
     "input": [
      "import os\n",
      "import h5py\n",
      "import sklearn\n",
      "import Image as im\n",
      "import pandas as pd\n",
      "import numpy as np\n",
      "import sklearn.datasets\n",
      "import sklearn.linear_model\n",
      "import matplotlib.pyplot as plt\n",
      "%matplotlib inline\n",
      "\n",
      "# Make sure that caffe is on the python path:\n",
      "caffe_root = '../'  # this file is expected to be in {caffe_root}/examples\n",
      "import sys\n",
      "sys.path.insert(0, caffe_root + 'python')\n",
      "\n",
      "import caffe, caffe.draw"
     ],
     "language": "python",
     "metadata": {},
     "outputs": [],
     "prompt_number": 14
    },
    {
     "cell_type": "code",
     "collapsed": false,
     "input": [
      "basedir = caffe_root + 'examples/R2_hand_classification/R2_hand'\n",
      "img_url = open(os.path.join(basedir,'img_url.txt'))\n",
      "noise_url = open(os.path.join(basedir,'noise_url.txt'))\n",
      "\n",
      "X = []\n",
      "for i in img_url:\n",
      "    img = im.open(i.strip('\\n'))\n",
      "    img = img.convert(\"L\")\n",
      "    img_ndarray = np.asarray(img, dtype='float64')/255\n",
      "    img_ndarray = img_ndarray.reshape((img_ndarray.size))\n",
      "    X.append(img_ndarray)\n",
      "y = [1.0]*len(X)\n",
      "\n",
      "cout = 0\n",
      "for i in noise_url:\n",
      "    img = im.open('./R2_hand_classification/R2_hand/noise/' + i.strip('\\n'))\n",
      "    img = img.convert(\"L\")\n",
      "    img_ndarray = np.asarray(img, dtype='float64')/255\n",
      "    img_ndarray = img_ndarray.reshape((img_ndarray.size))\n",
      "    X.append(img_ndarray)\n",
      "    cout += 1\n",
      "y = y + ([0.0]*cout)\n",
      "    \n",
      "# print len(y)\n",
      "# print len(X)\n",
      "\n",
      "# Split into train and test\n",
      "X, Xt, y, yt = sklearn.cross_validation.train_test_split(X, y)\n",
      "\n",
      "# print len(Xt)\n",
      "# print yt\n",
      "# print y\n",
      "# print len(X)"
     ],
     "language": "python",
     "metadata": {},
     "outputs": [],
     "prompt_number": 2
    },
    {
     "cell_type": "code",
     "collapsed": false,
     "input": [
      "# Visualize sample of the data\n",
      "ind = np.random.permutation(len(X))[:1000]\n",
      "df = pd.DataFrame(X[ind])\n",
      "_ = pd.scatter_matrix(df, figsize=(9, 9), diagonal='kde', marker='o', s=40, alpha=.4, c=y[ind])"
     ],
     "language": "python",
     "metadata": {},
     "outputs": [
      {
       "ename": "TypeError",
       "evalue": "only integer arrays with one element can be converted to an index",
       "output_type": "pyerr",
       "traceback": [
        "\u001b[0;31m---------------------------------------------------------------------------\u001b[0m\n\u001b[0;31mTypeError\u001b[0m                                 Traceback (most recent call last)",
        "\u001b[0;32m<ipython-input-3-2668a91ef294>\u001b[0m in \u001b[0;36m<module>\u001b[0;34m()\u001b[0m\n\u001b[1;32m      1\u001b[0m \u001b[0;31m# Visualize sample of the data\u001b[0m\u001b[0;34m\u001b[0m\u001b[0;34m\u001b[0m\u001b[0m\n\u001b[1;32m      2\u001b[0m \u001b[0mind\u001b[0m \u001b[0;34m=\u001b[0m \u001b[0mnp\u001b[0m\u001b[0;34m.\u001b[0m\u001b[0mrandom\u001b[0m\u001b[0;34m.\u001b[0m\u001b[0mpermutation\u001b[0m\u001b[0;34m(\u001b[0m\u001b[0mlen\u001b[0m\u001b[0;34m(\u001b[0m\u001b[0mX\u001b[0m\u001b[0;34m)\u001b[0m\u001b[0;34m)\u001b[0m\u001b[0;34m[\u001b[0m\u001b[0;34m:\u001b[0m\u001b[0;36m1000\u001b[0m\u001b[0;34m]\u001b[0m\u001b[0;34m\u001b[0m\u001b[0m\n\u001b[0;32m----> 3\u001b[0;31m \u001b[0mdf\u001b[0m \u001b[0;34m=\u001b[0m \u001b[0mpd\u001b[0m\u001b[0;34m.\u001b[0m\u001b[0mDataFrame\u001b[0m\u001b[0;34m(\u001b[0m\u001b[0mX\u001b[0m\u001b[0;34m[\u001b[0m\u001b[0mind\u001b[0m\u001b[0;34m]\u001b[0m\u001b[0;34m)\u001b[0m\u001b[0;34m\u001b[0m\u001b[0m\n\u001b[0m\u001b[1;32m      4\u001b[0m \u001b[0m_\u001b[0m \u001b[0;34m=\u001b[0m \u001b[0mpd\u001b[0m\u001b[0;34m.\u001b[0m\u001b[0mscatter_matrix\u001b[0m\u001b[0;34m(\u001b[0m\u001b[0mdf\u001b[0m\u001b[0;34m,\u001b[0m \u001b[0mfigsize\u001b[0m\u001b[0;34m=\u001b[0m\u001b[0;34m(\u001b[0m\u001b[0;36m9\u001b[0m\u001b[0;34m,\u001b[0m \u001b[0;36m9\u001b[0m\u001b[0;34m)\u001b[0m\u001b[0;34m,\u001b[0m \u001b[0mdiagonal\u001b[0m\u001b[0;34m=\u001b[0m\u001b[0;34m'kde'\u001b[0m\u001b[0;34m,\u001b[0m \u001b[0mmarker\u001b[0m\u001b[0;34m=\u001b[0m\u001b[0;34m'o'\u001b[0m\u001b[0;34m,\u001b[0m \u001b[0ms\u001b[0m\u001b[0;34m=\u001b[0m\u001b[0;36m40\u001b[0m\u001b[0;34m,\u001b[0m \u001b[0malpha\u001b[0m\u001b[0;34m=\u001b[0m\u001b[0;36m.4\u001b[0m\u001b[0;34m,\u001b[0m \u001b[0mc\u001b[0m\u001b[0;34m=\u001b[0m\u001b[0my\u001b[0m\u001b[0;34m[\u001b[0m\u001b[0mind\u001b[0m\u001b[0;34m]\u001b[0m\u001b[0;34m)\u001b[0m\u001b[0;34m\u001b[0m\u001b[0m\n",
        "\u001b[0;31mTypeError\u001b[0m: only integer arrays with one element can be converted to an index"
       ]
      }
     ],
     "prompt_number": 3
    },
    {
     "cell_type": "code",
     "collapsed": false,
     "input": [
      "# Train and test the scikit-learn SGD logistic regression.\n",
      "clf = sklearn.linear_model.SGDClassifier(\n",
      "    loss='log', n_iter=1000, penalty='l2', alpha=1e-3, class_weight='auto')\n",
      "\n",
      "clf.fit(X, y)\n",
      "yt_pred = clf.predict(Xt)\n",
      "print('Accuracy: {:.3f}'.format(sklearn.metrics.accuracy_score(yt, yt_pred)))"
     ],
     "language": "python",
     "metadata": {},
     "outputs": [
      {
       "output_type": "stream",
       "stream": "stdout",
       "text": [
        "Accuracy: 0.804\n"
       ]
      }
     ],
     "prompt_number": 4
    },
    {
     "cell_type": "code",
     "collapsed": false,
     "input": [
      "# Write out the data to HDF5 files in a temp directory.\n",
      "# This file is assumed to be caffe_root/examples/hdf5_classification.ipynb\n",
      "dirname = os.path.abspath('./R2_hand_classification/data')\n",
      "if not os.path.exists(dirname):\n",
      "    os.makedirs(dirname)\n",
      "\n",
      "train_filename = os.path.join(dirname, 'train.h5')\n",
      "test_filename = os.path.join(dirname, 'test.h5')\n",
      "\n",
      "# HDF5DataLayer source should be a file containing a list of HDF5 filenames.\n",
      "# To show this off, we'll list the same data file twice.\n",
      "with h5py.File(train_filename, 'w') as f:\n",
      "    f['data'] = X\n",
      "    # f['label'] = y.astype(np.float32)\n",
      "    f['label'] = y\n",
      "with open(os.path.join(dirname, 'train.txt'), 'w') as f:\n",
      "    f.write(train_filename + '\\n')\n",
      "    f.write(train_filename + '\\n')\n",
      "    \n",
      "# HDF5 is pretty efficient, but can be further compressed.\n",
      "comp_kwargs = {'compression': 'gzip', 'compression_opts': 1}\n",
      "with h5py.File(test_filename, 'w') as f:\n",
      "    f.create_dataset('data', data=Xt, **comp_kwargs)\n",
      "    f.create_dataset('label', data=yt, **comp_kwargs)\n",
      "with open(os.path.join(dirname, 'test.txt'), 'w') as f:\n",
      "    f.write(test_filename + '\\n')"
     ],
     "language": "python",
     "metadata": {},
     "outputs": [],
     "prompt_number": 5
    },
    {
     "cell_type": "code",
     "collapsed": false,
     "input": [
      "# Run caffe. Scroll down in the output to see the final\n",
      "# test accuracy, which should be about the same as above.\n",
      "!cd .. && ./build/tools/caffe train -solver examples/R2_hand_classification/data/solver.prototxt"
     ],
     "language": "python",
     "metadata": {},
     "outputs": [
      {
       "output_type": "stream",
       "stream": "stdout",
       "text": [
        "F0225 10:45:57.640342 1928278784 io.cpp:33] Check failed: fd != -1 (-1 vs. -1) File not found: examples/R2_hand_classification/data/solver.prototxt\r\n",
        "*** Check failure stack trace: ***\r\n",
        "    @        0x10c2bd88a  google::LogMessage::Fail()\r\n",
        "    @        0x10c2bcaa8  google::LogMessage::SendToLog()\r\n",
        "    @        0x10c2bd51a  google::LogMessage::Flush()\r\n",
        "    @        0x10c2c1008  google::LogMessageFatal::~LogMessageFatal()\r\n",
        "    @        0x10c2bdd25  google::LogMessageFatal::~LogMessageFatal()\r\n",
        "    @        0x10c1adf2b  caffe::ReadProtoFromTextFile()\r\n",
        "    @        0x10c0e2d31  train()\r\n",
        "    @        0x10c0e4fb1  main\r\n",
        "    @     0x7fff84abd5c9  start\r\n"
       ]
      },
      {
       "output_type": "stream",
       "stream": "stdout",
       "text": [
        "/bin/sh: line 1:  3403 Abort trap: 6           ./build/tools/caffe train -solver examples/R2_hand_classification/data/solver.prototxt\r\n"
       ]
      }
     ],
     "prompt_number": 7
    },
    {
     "cell_type": "code",
     "collapsed": false,
     "input": [
      "!cd .. && ./build/tools/caffe train -solver examples/R2_hand_classification/data/solver2.prototxt"
     ],
     "language": "python",
     "metadata": {},
     "outputs": [
      {
       "output_type": "stream",
       "stream": "stdout",
       "text": [
        "I0225 10:46:30.872555 1928278784 caffe.cpp:103] Use CPU.\r\n",
        "I0225 10:46:30.873414 1928278784 caffe.cpp:107] Starting Optimization\r\n",
        "I0225 10:46:30.873424 1928278784 solver.cpp:32] Initializing solver from parameters: \r\n",
        "test_iter: 1000\r\n",
        "test_interval: 1000\r\n",
        "base_lr: 0.01\r\n",
        "display: 1000\r\n",
        "max_iter: 10000\r\n",
        "lr_policy: \"step\"\r\n",
        "gamma: 0.1\r\n",
        "momentum: 0.9\r\n",
        "weight_decay: 0.0005\r\n",
        "stepsize: 5000\r\n",
        "snapshot: 10000\r\n",
        "snapshot_prefix: \"examples/R2_hand_classification/data/train\"\r\n",
        "solver_mode: CPU\r\n",
        "net: \"examples/R2_hand_classification/data/train_val2.prototxt\"\r\n",
        "I0225 10:46:30.873805 1928278784 solver.cpp:67] Creating training net from net file: examples/R2_hand_classification/data/train_val2.prototxt\r\n",
        "I0225 10:46:30.875494 1928278784 net.cpp:275] The NetState phase (0) differed from the phase (1) specified by a rule in layer data\r\n",
        "I0225 10:46:30.875540 1928278784 net.cpp:275] The NetState phase (0) differed from the phase (1) specified by a rule in layer accuracy\r\n",
        "I0225 10:46:30.875550 1928278784 net.cpp:39] Initializing net from parameters: \r\n",
        "name: \"LogisticRegressionNet\"\r\n",
        "layers {\r\n",
        "  top: \"data\"\r\n",
        "  top: \"label\"\r\n",
        "  name: \"data\"\r\n",
        "  type: HDF5_DATA\r\n",
        "  hdf5_data_param {\r\n",
        "    source: \"examples/R2_hand_classification/data/train.txt\"\r\n",
        "    batch_size: 10\r\n",
        "  }\r\n",
        "  include {\r\n",
        "    phase: TRAIN\r\n",
        "  }\r\n",
        "}\r\n",
        "layers {\r\n",
        "  bottom: \"data\"\r\n",
        "  top: \"fc1\"\r\n",
        "  name: \"fc1\"\r\n",
        "  type: INNER_PRODUCT\r\n",
        "  blobs_lr: 1\r\n",
        "  blobs_lr: 2\r\n",
        "  weight_decay: 1\r\n",
        "  weight_decay: 0\r\n",
        "  inner_product_param {\r\n",
        "    num_output: 40\r\n",
        "    weight_filler {\r\n",
        "      type: \"gaussian\"\r\n",
        "      std: 0.01\r\n",
        "    }\r\n",
        "    bias_filler {\r\n",
        "      type: \"constant\"\r\n",
        "      value: 0\r\n",
        "    }\r\n",
        "  }\r\n",
        "}\r\n",
        "layers {\r\n",
        "  bottom: \"fc1\"\r\n",
        "  top: \"fc1\"\r\n",
        "  name: \"relu1\"\r\n",
        "  type: RELU\r\n",
        "}\r\n",
        "layers {\r\n",
        "  bottom: \"fc1\"\r\n",
        "  top: \"fc2\"\r\n",
        "  name: \"fc2\"\r\n",
        "  type: INNER_PRODUCT\r\n",
        "  blobs_lr: 1\r\n",
        "  blobs_lr: 2\r\n",
        "  weight_decay: 1\r\n",
        "  weight_decay: 0\r\n",
        "  inner_product_param {\r\n",
        "    num_output: 2\r\n",
        "    weight_filler {\r\n",
        "      type: \"gaussian\"\r\n",
        "      std: 0.01\r\n",
        "    }\r\n",
        "    bias_filler {\r",
        "\r\n",
        "      type: \"constant\"\r\n",
        "      value: 0\r\n",
        "    }\r\n",
        "  }\r\n",
        "}\r\n",
        "layers {\r\n",
        "  bottom: \"fc2\"\r\n",
        "  bottom: \"label\"\r\n",
        "  top: \"loss\"\r\n",
        "  name: \"loss\"\r\n",
        "  type: SOFTMAX_LOSS\r\n",
        "}\r\n",
        "state {\r\n",
        "  phase: TRAIN\r\n",
        "}\r\n",
        "I0225 10:46:30.875977 1928278784 layer_factory.hpp:78] Creating layer data\r\n",
        "I0225 10:46:30.876329 1928278784 net.cpp:67] Creating Layer data\r\n",
        "I0225 10:46:30.876371 1928278784 net.cpp:356] data -> data\r\n",
        "I0225 10:46:30.876389 1928278784 net.cpp:356] data -> label\r\n",
        "I0225 10:46:30.876401 1928278784 net.cpp:96] Setting up data\r\n",
        "I0225 10:46:30.876411 1928278784 hdf5_data_layer.cpp:63] Loading list of HDF5 filenames from: examples/R2_hand_classification/data/train.txt\r\n",
        "I0225 10:46:30.877297 1928278784 hdf5_data_layer.cpp:77] Number of HDF5 files: 2\r\n"
       ]
      },
      {
       "output_type": "stream",
       "stream": "stdout",
       "text": [
        "I0225 10:46:30.953241 1928278784 net.cpp:103] Top shape: 10 384 1 1 (3840)\r\n",
        "I0225 10:46:30.953281 1928278784 net.cpp:103] Top shape: 10 1 1 1 (10)\r\n",
        "I0225 10:46:30.953289 1928278784 layer_factory.hpp:78] Creating layer fc1\r\n",
        "I0225 10:46:30.953313 1928278784 net.cpp:67] Creating Layer fc1\r\n",
        "I0225 10:46:30.953320 1928278784 net.cpp:394] fc1 <- data\r\n",
        "I0225 10:46:30.953331 1928278784 net.cpp:356] fc1 -> fc1\r\n",
        "I0225 10:46:30.953343 1928278784 net.cpp:96] Setting up fc1\r\n",
        "I0225 10:46:30.958693 1928278784 net.cpp:103] Top shape: 10 40 1 1 (400)\r\n",
        "I0225 10:46:30.958720 1928278784 layer_factory.hpp:78] Creating layer relu1\r\n",
        "I0225 10:46:30.958734 1928278784 net.cpp:67] Creating Layer relu1\r\n",
        "I0225 10:46:30.958740 1928278784 net.cpp:394] relu1 <- fc1\r\n",
        "I0225 10:46:30.958748 1928278784 net.cpp:345] relu1 -> fc1 (in-place)\r\n",
        "I0225 10:46:30.958755 1928278784 net.cpp:96] Setting up relu1\r\n",
        "I0225 10:46:30.958761 1928278784 net.cpp:103] Top shape: 10 40 1 1 (400)\r\n",
        "I0225 10:46:30.958766 1928278784 layer_factory.hpp:78] Creating layer fc2\r\n",
        "I0225 10:46:30.958773 1928278784 net.cpp:67] Creating Layer fc2\r\n",
        "I0225 10:46:30.958778 1928278784 net.cpp:394] fc2 <- fc1\r\n",
        "I0225 10:46:30.958786 1928278784 net.cpp:356] fc2 -> fc2\r\n",
        "I0225 10:46:30.958793 1928278784 net.cpp:96] Setting up fc2\r\n",
        "I0225 10:46:30.958806 1928278784 net.cpp:103] Top shape: 10 2 1 1 (20)\r\n",
        "I0225 10:46:30.958813 1928278784 layer_factory.hpp:78] Creating layer loss\r\n",
        "I0225 10:46:30.958824 1928278784 net.cpp:67] Creating Layer loss\r\n",
        "I0225 10:46:30.958830 1928278784 net.cpp:394] loss <- fc2\r\n",
        "I0225 10:46:30.958837 1928278784 net.cpp:394] loss <- label\r\n",
        "I0225 10:46:30.958868 1928278784 net.cpp:356] loss -> loss\r\n",
        "I0225 10:46:30.958876 1928278784 net.cpp:96] Setting up loss\r\n",
        "I0225 10:46:30.958889 1928278784 net.cpp:103] Top shape: 1 1 1 1 (1)\r\n",
        "I0225 10:46:30.958894 1928278784 net.cpp:109]     with loss weight 1\r\n",
        "I0225 10:46:30.959249 1928278784 net.cpp:170] loss needs backward computation.\r\n",
        "I0225 10:46:30.959259 1928278784 net.cpp:170] fc2 needs backward computation.\r\n",
        "I0225 10:46:30.959264 1928278784 net.cpp:170] relu1 needs backward computation.\r\n",
        "I0225 10:46:30.959270 1928278784 net.cpp:170] fc1 needs backward computation.\r\n",
        "I0225 10:46:30.959275 1928278784 net.cpp:172] data does not need backward computation.\r\n",
        "I0225 10:46:30.959278 1928278784 net.cpp:208] This network produces output loss\r\n",
        "I0225 10:46:30.959288 1928278784 net.cpp:467] Collecting Learning Rate and Weight Decay.\r\n",
        "I0225 10:46:30.959295 1928278784 net.cpp:219] Network initialization done.\r\n",
        "I0225 10:46:30.959300 1928278784 net.cpp:220] Memory required for data: 18684\r\n",
        "I0225 10:46:30.960077 1928278784 solver.cpp:151] Creating test net (#0) specified by net file: examples/R2_hand_classification/data/train_val2.prototxt\r\n",
        "I0225 10:46:30.960103 1928278784 net.cpp:275] The NetState phase (1) differed from the phase (0) specified by a rule in layer data\r\n",
        "I0225 10:46:30.960115 1928278784 net.cpp:39] Initializing net from parameters: \r\n",
        "name: \"LogisticRegressionNet\"\r\n",
        "layers {\r\n",
        "  top: \"data\"\r\n",
        "  top: \"label\"\r\n",
        "  name: \"data\"\r\n",
        "  type: HDF5_DATA\r\n",
        "  hdf5_data_param {\r\n",
        "    source: \"examples/R2_hand_classification/data/test.txt\"\r\n",
        "    batch_size: 10\r\n",
        "  }\r\n",
        "  include {\r\n",
        "    phase: TEST\r\n",
        "  }\r\n",
        "}\r\n",
        "layers {\r\n",
        "  bottom: \"data\"\r\n",
        "  top: \"fc1\"\r\n",
        "  name: \"fc1\"\r\n",
        "  type: INNER_PRODUCT\r\n",
        "  blobs_lr: 1\r\n",
        "  blobs_lr: 2\r\n",
        "  weight_decay: 1\r\n",
        "  weight_decay: 0\r\n",
        "  inner_product_param {\r\n",
        "    num_output: 40\r\n",
        "    weight_filler {\r\n",
        "      type: \"gaussian\"\r\n",
        "      std: 0.01\r\n",
        "    }\r\n",
        "    bias_filler {\r\n",
        "      type: \"constant\"\r\n",
        "      value: 0\r\n",
        "    }\r\n",
        "  }\r\n",
        "}\r\n",
        "layers {\r\n",
        "  bottom: \"fc1\"\r\n",
        "  top: \"fc1\"\r\n",
        "  name: \"relu1\"\r\n",
        "  type: RELU\r\n",
        "}\r\n",
        "layers {\r\n",
        "  bottom: \"fc1\"\r\n",
        "  top: \"fc2\"\r\n",
        "  name: \"fc2\"\r\n",
        "  type: INNER_PRODUCT\r\n",
        "  blobs_lr: 1\r\n",
        "  blobs_lr: 2\r\n",
        "  weight_decay: 1\r\n",
        "  weight_decay: 0\r\n",
        "  inner_product_param {\r\n",
        "    num_output: 2\r\n",
        "    weight_filler {\r\n",
        "      type: \"gaussian\"\r\n",
        "      std: 0.01\r\n",
        "    }\r\n",
        "    bias_filler {\r\n",
        "      type: \"constant\"\r\n",
        "      value: 0\r\n",
        "    }\r\n",
        "  }\r\n",
        "}\r\n",
        "layers {\r\n",
        "  bottom: \"fc2\"\r\n",
        "  bottom: \"label\"\r\n",
        "  top: \"loss\"\r\n",
        "  name: \"loss\"\r\n",
        "  type: SOFTMAX_LOSS\r\n",
        "}\r\n",
        "layers {\r\n",
        "  bottom: \"fc2\"\r\n",
        "  bottom: \"label\"\r\n",
        "  top: \"accuracy\"\r\n",
        "  name: \"accuracy\"\r\n",
        "  type: ACCURACY\r\n",
        "  include {\r\n",
        "    phase: TEST\r\n",
        "  }\r\n",
        "}\r\n",
        "state {\r\n",
        "  phase: TEST\r\n",
        "}\r\n",
        "I0225 10:46:30.960533 1928278784 layer_factory.hpp:78] Creating layer data\r\n",
        "I0225 10:46:30.960543 1928278784 net.cpp:67] Creating Layer data\r\n",
        "I0225 10:46:30.960549 1928278784 net.cpp:356] data -> data\r\n",
        "I0225 10:46:30.960559 1928278784 net.cpp:356] data -> label\r\n",
        "I0225 10:46:30.960567 1928278784 net.cpp:96] Setting up data\r\n",
        "I0225 10:46:30.960572 1928278784 hdf5_data_layer.cpp:63] Loading list of HDF5 filenames from: examples/R2_hand_classification/data/test.txt\r\n",
        "I0225 10:46:30.960849 1928278784 hdf5_data_layer.cpp:77] Number of HDF5 files: 1\r\n"
       ]
      },
      {
       "output_type": "stream",
       "stream": "stdout",
       "text": [
        "I0225 10:46:31.008630 1928278784 net.cpp:103] Top shape: 10 384 1 1 (3840)\r\n",
        "I0225 10:46:31.008666 1928278784 net.cpp:103] Top shape: 10 1 1 1 (10)\r\n",
        "I0225 10:46:31.008674 1928278784 layer_factory.hpp:78] Creating layer label_data_1_split\r\n",
        "I0225 10:46:31.008688 1928278784 net.cpp:67] Creating Layer label_data_1_split\r\n",
        "I0225 10:46:31.008694 1928278784 net.cpp:394] label_data_1_split <- label\r\n",
        "I0225 10:46:31.008702 1928278784 net.cpp:356] label_data_1_split -> label_data_1_split_0\r\n",
        "I0225 10:46:31.008713 1928278784 net.cpp:356] label_data_1_split -> label_data_1_split_1\r\n",
        "I0225 10:46:31.008720 1928278784 net.cpp:96] Setting up label_data_1_split\r\n",
        "I0225 10:46:31.008728 1928278784 net.cpp:103] Top shape: 10 1 1 1 (10)\r\n",
        "I0225 10:46:31.008733 1928278784 net.cpp:103] Top shape: 10 1 1 1 (10)\r\n",
        "I0225 10:46:31.008738 1928278784 layer_factory.hpp:78] Creating layer fc1\r\n",
        "I0225 10:46:31.008745 1928278784 net.cpp:67] Creating Layer fc1\r\n",
        "I0225 10:46:31.008750 1928278784 net.cpp:394] fc1 <- data\r\n",
        "I0225 10:46:31.008757 1928278784 net.cpp:356] fc1 -> fc1\r\n",
        "I0225 10:46:31.009258 1928278784 net.cpp:96] Setting up fc1\r\n",
        "I0225 10:46:31.009492 1928278784 net.cpp:103] Top shape: 10 40 1 1 (400)\r\n",
        "I0225 10:46:31.009505 1928278784 layer_factory.hpp:78] Creating layer relu1\r\n",
        "I0225 10:46:31.009513 1928278784 net.cpp:67] Creating Layer relu1\r\n",
        "I0225 10:46:31.009518 1928278784 net.cpp:394] relu1 <- fc1\r\n",
        "I0225 10:46:31.009534 1928278784 net.cpp:345] relu1 -> fc1 (in-place)\r\n",
        "I0225 10:46:31.009541 1928278784 net.cpp:96] Setting up relu1\r\n",
        "I0225 10:46:31.009546 1928278784 net.cpp:103] Top shape: 10 40 1 1 (400)\r\n",
        "I0225 10:46:31.009551 1928278784 layer_factory.hpp:78] Creating layer fc2\r\n",
        "I0225 10:46:31.009558 1928278784 net.cpp:67] Creating Layer fc2\r\n",
        "I0225 10:46:31.009563 1928278784 net.cpp:394] fc2 <- fc1\r\n",
        "I0225 10:46:31.009570 1928278784 net.cpp:356] fc2 -> fc2\r\n",
        "I0225 10:46:31.009577 1928278784 net.cpp:96] Setting up fc2\r\n",
        "I0225 10:46:31.009588 1928278784 net.cpp:103] Top shape: 10 2 1 1 (20)\r\n",
        "I0225 10:46:31.009595 1928278784 layer_factory.hpp:78] Creating layer fc2_fc2_0_split\r\n",
        "I0225 10:46:31.009603 1928278784 net.cpp:67] Creating Layer fc2_fc2_0_split\r\n",
        "I0225 10:46:31.009608 1928278784 net.cpp:394] fc2_fc2_0_split <- fc2\r\n",
        "I0225 10:46:31.009613 1928278784 net.cpp:356] fc2_fc2_0_split -> fc2_fc2_0_split_0\r\n",
        "I0225 10:46:31.009621 1928278784 net.cpp:356] fc2_fc2_0_split -> fc2_fc2_0_split_1\r\n",
        "I0225 10:46:31.009629 1928278784 net.cpp:96] Setting up fc2_fc2_0_split\r\n",
        "I0225 10:46:31.009634 1928278784 net.cpp:103] Top shape: 10 2 1 1 (20)\r\n",
        "I0225 10:46:31.009639 1928278784 net.cpp:103] Top shape: 10 2 1 1 (20)\r\n",
        "I0225 10:46:31.009644 1928278784 layer_factory.hpp:78] Creating layer loss\r\n",
        "I0225 10:46:31.009650 1928278784 net.cpp:67] Creating Layer loss\r\n",
        "I0225 10:46:31.009757 1928278784 net.cpp:394] loss <- fc2_fc2_0_split_0\r\n",
        "I0225 10:46:31.009769 1928278784 net.cpp:394] loss <- label_data_1_split_0\r\n",
        "I0225 10:46:31.009778 1928278784 net.cpp:356] loss -> loss\r\n",
        "I0225 10:46:31.009788 1928278784 net.cpp:96] Setting up loss\r\n",
        "I0225 10:46:31.009796 1928278784 net.cpp:103] Top shape: 1 1 1 1 (1)\r\n",
        "I0225 10:46:31.009801 1928278784 net.cpp:109]     with loss weight 1\r\n",
        "I0225 10:46:31.009814 1928278784 layer_factory.hpp:78] Creating layer accuracy\r\n",
        "I0225 10:46:31.009821 1928278784 net.cpp:67] Creating Layer accuracy\r\n",
        "I0225 10:46:31.009826 1928278784 net.cpp:394] accuracy <- fc2_fc2_0_split_1\r\n",
        "I0225 10:46:31.009831 1928278784 net.cpp:394] accuracy <- label_data_1_split_1\r\n",
        "I0225 10:46:31.009838 1928278784 net.cpp:356] accuracy -> accuracy\r\n",
        "I0225 10:46:31.009845 1928278784 net.cpp:96] Setting up accuracy\r\n",
        "I0225 10:46:31.009851 1928278784 net.cpp:103] Top shape: 1 1 1 1 (1)\r\n",
        "I0225 10:46:31.009856 1928278784 net.cpp:172] accuracy does not need backward computation.\r\n",
        "I0225 10:46:31.009903 1928278784 net.cpp:170] loss needs backward computation.\r\n",
        "I0225 10:46:31.009914 1928278784 net.cpp:170] fc2_fc2_0_split needs backward computation.\r\n",
        "I0225 10:46:31.009919 1928278784 net.cpp:170] fc2 needs backward computation.\r\n",
        "I0225 10:46:31.009924 1928278784 net.cpp:170] relu1 needs backward computation.\r\n",
        "I0225 10:46:31.009928 1928278784 net.cpp:170] fc1 needs backward computation.\r\n",
        "I0225 10:46:31.009933 1928278784 net.cpp:172] label_data_1_split does not need backward computation.\r\n",
        "I0225 10:46:31.009938 1928278784 net.cpp:172] data does not need backward computation.\r\n",
        "I0225 10:46:31.009943 1928278784 net.cpp:208] This network produces output accuracy\r\n",
        "I0225 10:46:31.009948 1928278784 net.cpp:208] This network produces output loss\r\n",
        "I0225 10:46:31.009958 1928278784 net.cpp:467] Collecting Learning Rate and Weight Decay.\r\n",
        "I0225 10:46:31.009963 1928278784 net.cpp:219] Network initialization done.\r\n",
        "I0225 10:46:31.009968 1928278784 net.cpp:220] Memory required for data: 18928\r\n",
        "I0225 10:46:31.010090 1928278784 solver.cpp:41] Solver scaffolding done.\r\n",
        "I0225 10:46:31.010105 1928278784 solver.cpp:160] Solving LogisticRegressionNet\r\n",
        "I0225 10:46:31.010123 1928278784 solver.cpp:263] Iteration 0, Testing net (#0)\r\n"
       ]
      },
      {
       "output_type": "stream",
       "stream": "stdout",
       "text": [
        "I0225 10:46:31.044025 1928278784 solver.cpp:314]     Test net output #0: accuracy = 0.526\r\n",
        "I0225 10:46:31.044073 1928278784 solver.cpp:314]     Test net output #1: loss = 0.69321 (* 1 = 0.69321 loss)\r\n",
        "I0225 10:46:31.044260 1928278784 solver.cpp:207] Iteration 0, loss = 0.693478\r\n",
        "I0225 10:46:31.044280 1928278784 solver.cpp:222]     Train net output #0: loss = 0.693478 (* 1 = 0.693478 loss)\r\n",
        "I0225 10:46:31.044292 1928278784 solver.cpp:419] Iteration 0, lr = 0.01\r\n"
       ]
      },
      {
       "output_type": "stream",
       "stream": "stdout",
       "text": [
        "I0225 10:46:31.146903 1928278784 solver.cpp:263] Iteration 1000, Testing net (#0)\r\n",
        "I0225 10:46:31.172749 1928278784 solver.cpp:314]     Test net output #0: accuracy = 0.580601\r\n",
        "I0225 10:46:31.172796 1928278784 solver.cpp:314]     Test net output #1: loss = 0.670658 (* 1 = 0.670658 loss)\r\n",
        "I0225 10:46:31.172900 1928278784 solver.cpp:207] Iteration 1000, loss = 0.624541\r\n",
        "I0225 10:46:31.172925 1928278784 solver.cpp:222]     Train net output #0: loss = 0.624542 (* 1 = 0.624542 loss)\r\n",
        "I0225 10:46:31.172935 1928278784 solver.cpp:419] Iteration 1000, lr = 0.01\r\n"
       ]
      },
      {
       "output_type": "stream",
       "stream": "stdout",
       "text": [
        "I0225 10:46:31.275871 1928278784 solver.cpp:263] Iteration 2000, Testing net (#0)\r\n"
       ]
      },
      {
       "output_type": "stream",
       "stream": "stdout",
       "text": [
        "I0225 10:46:31.299978 1928278784 solver.cpp:314]     Test net output #0: accuracy = 0.858301\r\n",
        "I0225 10:46:31.300017 1928278784 solver.cpp:314]     Test net output #1: loss = 0.391707 (* 1 = 0.391707 loss)\r\n",
        "I0225 10:46:31.300112 1928278784 solver.cpp:207] Iteration 2000, loss = 0.312669\r\n",
        "I0225 10:46:31.300128 1928278784 solver.cpp:222]     Train net output #0: loss = 0.31267 (* 1 = 0.31267 loss)\r\n",
        "I0225 10:46:31.300137 1928278784 solver.cpp:419] Iteration 2000, lr = 0.01\r\n"
       ]
      },
      {
       "output_type": "stream",
       "stream": "stdout",
       "text": [
        "I0225 10:46:31.392504 1928278784 solver.cpp:263] Iteration 3000, Testing net (#0)\r\n"
       ]
      },
      {
       "output_type": "stream",
       "stream": "stdout",
       "text": [
        "I0225 10:46:31.426151 1928278784 solver.cpp:314]     Test net output #0: accuracy = 0.842501\r\n",
        "I0225 10:46:31.426201 1928278784 solver.cpp:314]     Test net output #1: loss = 0.427983 (* 1 = 0.427983 loss)\r\n",
        "I0225 10:46:31.426338 1928278784 solver.cpp:207] Iteration 3000, loss = 0.270178\r\n",
        "I0225 10:46:31.426357 1928278784 solver.cpp:222]     Train net output #0: loss = 0.270179 (* 1 = 0.270179 loss)\r\n",
        "I0225 10:46:31.426367 1928278784 solver.cpp:419] Iteration 3000, lr = 0.01\r\n"
       ]
      },
      {
       "output_type": "stream",
       "stream": "stdout",
       "text": [
        "I0225 10:46:31.518054 1928278784 solver.cpp:263] Iteration 4000, Testing net (#0)\r\n",
        "I0225 10:46:31.541101 1928278784 solver.cpp:314]     Test net output #0: accuracy = 0.839301\r\n",
        "I0225 10:46:31.541157 1928278784 solver.cpp:314]     Test net output #1: loss = 0.396992 (* 1 = 0.396992 loss)\r\n",
        "I0225 10:46:31.541306 1928278784 solver.cpp:207] Iteration 4000, loss = 0.465804\r\n",
        "I0225 10:46:31.541334 1928278784 solver.cpp:222]     Train net output #0: loss = 0.465804 (* 1 = 0.465804 loss)\r\n",
        "I0225 10:46:31.541347 1928278784 solver.cpp:419] Iteration 4000, lr = 0.01\r\n"
       ]
      },
      {
       "output_type": "stream",
       "stream": "stdout",
       "text": [
        "I0225 10:46:31.639636 1928278784 solver.cpp:263] Iteration 5000, Testing net (#0)\r\n"
       ]
      },
      {
       "output_type": "stream",
       "stream": "stdout",
       "text": [
        "I0225 10:46:31.663087 1928278784 solver.cpp:314]     Test net output #0: accuracy = 0.847701\r\n",
        "I0225 10:46:31.663130 1928278784 solver.cpp:314]     Test net output #1: loss = 0.398679 (* 1 = 0.398679 loss)\r\n",
        "I0225 10:46:31.663235 1928278784 solver.cpp:207] Iteration 5000, loss = 0.37592\r\n",
        "I0225 10:46:31.663255 1928278784 solver.cpp:222]     Train net output #0: loss = 0.375921 (* 1 = 0.375921 loss)\r\n",
        "I0225 10:46:31.663264 1928278784 solver.cpp:419] Iteration 5000, lr = 0.001\r\n"
       ]
      },
      {
       "output_type": "stream",
       "stream": "stdout",
       "text": [
        "I0225 10:46:31.759255 1928278784 solver.cpp:263] Iteration 6000, Testing net (#0)\r\n",
        "I0225 10:46:31.781704 1928278784 solver.cpp:314]     Test net output #0: accuracy = 0.852801\r\n",
        "I0225 10:46:31.781749 1928278784 solver.cpp:314]     Test net output #1: loss = 0.384703 (* 1 = 0.384703 loss)\r\n",
        "I0225 10:46:31.781863 1928278784 solver.cpp:207] Iteration 6000, loss = 0.447185\r\n",
        "I0225 10:46:31.781893 1928278784 solver.cpp:222]     Train net output #0: loss = 0.447187 (* 1 = 0.447187 loss)\r\n",
        "I0225 10:46:31.781906 1928278784 solver.cpp:419] Iteration 6000, lr = 0.001\r\n"
       ]
      },
      {
       "output_type": "stream",
       "stream": "stdout",
       "text": [
        "I0225 10:46:31.888437 1928278784 solver.cpp:263] Iteration 7000, Testing net (#0)\r\n"
       ]
      },
      {
       "output_type": "stream",
       "stream": "stdout",
       "text": [
        "I0225 10:46:31.913534 1928278784 solver.cpp:314]     Test net output #0: accuracy = 0.855601\r\n",
        "I0225 10:46:31.913573 1928278784 solver.cpp:314]     Test net output #1: loss = 0.37955 (* 1 = 0.37955 loss)\r\n",
        "I0225 10:46:31.913681 1928278784 solver.cpp:207] Iteration 7000, loss = 0.218751\r\n",
        "I0225 10:46:31.913700 1928278784 solver.cpp:222]     Train net output #0: loss = 0.218752 (* 1 = 0.218752 loss)\r\n",
        "I0225 10:46:31.913743 1928278784 solver.cpp:419] Iteration 7000, lr = 0.001\r\n"
       ]
      },
      {
       "output_type": "stream",
       "stream": "stdout",
       "text": [
        "I0225 10:46:32.008147 1928278784 solver.cpp:263] Iteration 8000, Testing net (#0)\r\n"
       ]
      },
      {
       "output_type": "stream",
       "stream": "stdout",
       "text": [
        "I0225 10:46:32.045454 1928278784 solver.cpp:314]     Test net output #0: accuracy = 0.842501\r\n",
        "I0225 10:46:32.045506 1928278784 solver.cpp:314]     Test net output #1: loss = 0.38161 (* 1 = 0.38161 loss)\r\n",
        "I0225 10:46:32.045611 1928278784 solver.cpp:207] Iteration 8000, loss = 0.19924\r\n",
        "I0225 10:46:32.045634 1928278784 solver.cpp:222]     Train net output #0: loss = 0.199242 (* 1 = 0.199242 loss)\r\n",
        "I0225 10:46:32.045645 1928278784 solver.cpp:419] Iteration 8000, lr = 0.001\r\n"
       ]
      },
      {
       "output_type": "stream",
       "stream": "stdout",
       "text": [
        "I0225 10:46:32.139360 1928278784 solver.cpp:263] Iteration 9000, Testing net (#0)\r\n",
        "I0225 10:46:32.162071 1928278784 solver.cpp:314]     Test net output #0: accuracy = 0.848501\r\n",
        "I0225 10:46:32.162127 1928278784 solver.cpp:314]     Test net output #1: loss = 0.373842 (* 1 = 0.373842 loss)\r\n",
        "I0225 10:46:32.162257 1928278784 solver.cpp:207] Iteration 9000, loss = 0.202428\r\n",
        "I0225 10:46:32.162281 1928278784 solver.cpp:222]     Train net output #0: loss = 0.202431 (* 1 = 0.202431 loss)\r\n",
        "I0225 10:46:32.162292 1928278784 solver.cpp:419] Iteration 9000, lr = 0.001\r\n"
       ]
      },
      {
       "output_type": "stream",
       "stream": "stdout",
       "text": [
        "I0225 10:46:32.254326 1928278784 solver.cpp:333] Snapshotting to examples/R2_hand_classification/data/train_iter_10000.caffemodel\r\n",
        "I0225 10:46:32.255494 1928278784 solver.cpp:340] Snapshotting solver state to examples/R2_hand_classification/data/train_iter_10000.solverstate\r\n",
        "I0225 10:46:32.256186 1928278784 solver.cpp:244] Iteration 10000, loss = 0.234112\r\n",
        "I0225 10:46:32.256206 1928278784 solver.cpp:263] Iteration 10000, Testing net (#0)\r\n"
       ]
      },
      {
       "output_type": "stream",
       "stream": "stdout",
       "text": [
        "I0225 10:46:32.278740 1928278784 solver.cpp:314]     Test net output #0: accuracy = 0.848201\r\n",
        "I0225 10:46:32.278777 1928278784 solver.cpp:314]     Test net output #1: loss = 0.374724 (* 1 = 0.374724 loss)\r\n",
        "I0225 10:46:32.278786 1928278784 solver.cpp:249] Optimization Done.\r\n",
        "I0225 10:46:32.278791 1928278784 caffe.cpp:121] Optimization Done.\r\n"
       ]
      }
     ],
     "prompt_number": 8
    },
    {
     "cell_type": "code",
     "collapsed": false,
     "input": [
      "!cd .. && python ./python/draw_net.py examples/R2_hand_classification/R2_hand_train_test.prototxt examples/pic0.png"
     ],
     "language": "python",
     "metadata": {},
     "outputs": [
      {
       "output_type": "stream",
       "stream": "stdout",
       "text": [
        "Drawing net to examples/pic0.png\r\n"
       ]
      }
     ],
     "prompt_number": 9
    },
    {
     "cell_type": "code",
     "collapsed": false,
     "input": [
      "basedir = caffe_root + 'examples/R2_hand_classification/R2_hand'\n",
      "img_url = open(os.path.join(basedir,'img_url.txt'))\n",
      "noise_url = open(os.path.join(basedir,'noise_url.txt'))\n",
      "\n",
      "X = []\n",
      "for i in img_url:\n",
      "    x = []\n",
      "    img = im.open(i.strip('\\n'))\n",
      "    img = img.convert(\"L\")\n",
      "    img_ndarray = np.asarray(img, dtype='float64')/255\n",
      "    x.append(img_ndarray)\n",
      "    X.append(x)\n",
      "y = [1.0]*len(X)\n",
      "\n",
      "cout = 0\n",
      "for i in noise_url:\n",
      "    x = []\n",
      "    img = im.open('./R2_hand_classification/R2_hand/noise/' + i.strip('\\n'))\n",
      "    img = img.convert(\"L\")\n",
      "    img_ndarray = np.asarray(img, dtype='float64')/255\n",
      "    x.append(img_ndarray)\n",
      "    X.append(x)\n",
      "    cout += 1\n",
      "y = y + ([0.0]*cout)\n",
      "    \n",
      "# print len(y)\n",
      "# print X\n",
      "\n",
      "# Split into train and test\n",
      "X, Xt, y, yt = sklearn.cross_validation.train_test_split(X, y)\n",
      "\n",
      "# print len(Xt)\n",
      "# print yt\n",
      "# print y\n",
      "# print len(X)"
     ],
     "language": "python",
     "metadata": {},
     "outputs": [],
     "prompt_number": 10
    },
    {
     "cell_type": "code",
     "collapsed": false,
     "input": [
      "# Write out the data to HDF5 files in a temp directory.\n",
      "# This file is assumed to be caffe_root/examples/hdf5_classification.ipynb\n",
      "dirname = os.path.abspath('./R2_hand_classification/data')\n",
      "if not os.path.exists(dirname):\n",
      "    os.makedirs(dirname)\n",
      "\n",
      "train_filename = os.path.join(dirname, 'train.h5')\n",
      "test_filename = os.path.join(dirname, 'test.h5')\n",
      "\n",
      "# HDF5DataLayer source should be a file containing a list of HDF5 filenames.\n",
      "# To show this off, we'll list the same data file twice.\n",
      "with h5py.File(train_filename, 'w') as f:\n",
      "    f['data'] = X\n",
      "    # f['label'] = y.astype(np.float32)\n",
      "    f['label'] = y\n",
      "with open(os.path.join(dirname, 'train.txt'), 'w') as f:\n",
      "    f.write(train_filename + '\\n')\n",
      "    f.write(train_filename + '\\n')\n",
      "    \n",
      "# HDF5 is pretty efficient, but can be further compressed.\n",
      "comp_kwargs = {'compression': 'gzip', 'compression_opts': 1}\n",
      "with h5py.File(test_filename, 'w') as f:\n",
      "    f.create_dataset('data', data=Xt, **comp_kwargs)\n",
      "    f.create_dataset('label', data=yt, **comp_kwargs)\n",
      "with open(os.path.join(dirname, 'test.txt'), 'w') as f:\n",
      "    f.write(test_filename + '\\n')"
     ],
     "language": "python",
     "metadata": {},
     "outputs": [],
     "prompt_number": 11
    },
    {
     "cell_type": "code",
     "collapsed": false,
     "input": [
      "!cd .. && ./build/tools/caffe train -solver examples/R2_hand_classification/R2_hand_solver.prototxt"
     ],
     "language": "python",
     "metadata": {},
     "outputs": [
      {
       "output_type": "stream",
       "stream": "stdout",
       "text": [
        "I0225 11:29:34.886699 1928278784 caffe.cpp:103] Use CPU.\r\n",
        "I0225 11:29:34.888208 1928278784 caffe.cpp:107] Starting Optimization\r\n",
        "I0225 11:29:34.888221 1928278784 solver.cpp:32] Initializing solver from parameters: \r\n",
        "test_iter: 100\r\n",
        "test_interval: 500\r\n",
        "base_lr: 0.01\r\n",
        "display: 100\r\n",
        "max_iter: 10000\r\n",
        "lr_policy: \"inv\"\r\n",
        "gamma: 0.0001\r\n",
        "power: 0.75\r\n",
        "momentum: 0.9\r\n",
        "weight_decay: 0.0005\r\n",
        "snapshot: 5000\r\n",
        "snapshot_prefix: \"examples/R2_hand_classification/data/train\"\r\n",
        "solver_mode: CPU\r\n",
        "net: \"examples/R2_hand_classification/R2_hand_train_test.prototxt\"\r\n",
        "I0225 11:29:34.888339 1928278784 solver.cpp:67] Creating training net from net file: examples/R2_hand_classification/R2_hand_train_test.prototxt\r\n",
        "I0225 11:29:34.889796 1928278784 net.cpp:275] The NetState phase (0) differed from the phase (1) specified by a rule in layer data\r\n",
        "I0225 11:29:34.889821 1928278784 net.cpp:275] The NetState phase (0) differed from the phase (1) specified by a rule in layer accuracy\r\n",
        "I0225 11:29:34.889830 1928278784 net.cpp:39] Initializing net from parameters: \r\n",
        "name: \"R2hand\"\r\n",
        "layers {\r\n",
        "  top: \"data\"\r\n",
        "  top: \"label\"\r\n",
        "  name: \"data\"\r\n",
        "  type: HDF5_DATA\r\n",
        "  hdf5_data_param {\r\n",
        "    source: \"examples/R2_hand_classification/data/train.txt\"\r\n",
        "    batch_size: 10\r\n",
        "  }\r\n",
        "  include {\r\n",
        "    phase: TRAIN\r\n",
        "  }\r\n",
        "}\r\n",
        "layers {\r\n",
        "  bottom: \"data\"\r\n",
        "  top: \"conv1\"\r\n",
        "  name: \"conv1\"\r\n",
        "  type: CONVOLUTION\r\n",
        "  blobs_lr: 1\r\n",
        "  blobs_lr: 2\r\n",
        "  convolution_param {\r\n",
        "    num_output: 20\r\n",
        "    kernel_size: 5\r\n",
        "    stride: 1\r\n",
        "    weight_filler {\r\n",
        "      type: \"xavier\"\r\n",
        "    }\r\n",
        "    bias_filler {\r\n",
        "      type: \"constant\"\r\n",
        "    }\r\n",
        "  }\r\n",
        "}\r\n",
        "layers {\r\n",
        "  bottom: \"conv1\"\r\n",
        "  top: \"pool1\"\r\n",
        "  name: \"pool1\"\r\n",
        "  type: POOLING\r\n",
        "  pooling_param {\r\n",
        "    pool: MAX\r\n",
        "    kernel_size: 2\r\n",
        "    stride: 2\r\n",
        "  }\r\n",
        "}\r\n",
        "layers {\r\n",
        "  bottom: \"pool1\"\r\n",
        "  top: \"ip1\"\r\n",
        "  name: \"ip1\"\r\n",
        "  type: INNER_PRODUCT\r\n",
        "  blobs_lr: 1\r\n",
        "  blobs_lr: 2\r\n",
        "  inner_product_param {\r\n",
        "    num_output: 100\r\n",
        "    weight_filler {\r\n",
        "      type: \"xavier\"\r\n",
        "    }\r\n",
        "    bias_filler {\r\n",
        "      type: \"constant\"\r\n",
        "    }\r\n",
        "  }\r\n",
        "}\r\n",
        "layers {\r\n",
        "  bottom: \"ip1\"\r\n",
        "  top: \"ip1\"\r\n",
        "  name: \"relu1\"\r\n",
        "  type: RELU\r\n",
        "}\r\n",
        "layers {\r\n",
        "  bottom: \"ip1\"\r\n",
        "  top: \"ip2\"\r\n",
        "  name: \"ip2\"\r\n",
        "  type: INNER_PRODUCT\r\n",
        "  blobs_lr: 1\r\n",
        "  blobs_lr: 2\r\n",
        "  inner_product_param {\r\n",
        "    num_output: 2\r\n",
        "    weight_filler {\r\n",
        "      type: \"xavier\"\r\n",
        "    }\r\n",
        "    bias_filler {\r\n",
        "      type: \"constant\"\r\n",
        "    }\r\n",
        "  }\r\n",
        "}\r\n",
        "layers {\r\n",
        "  bottom: \"ip2\"\r\n",
        "  bottom: \"label\"\r\n",
        "  top: \"loss\"\r\n",
        "  name: \"loss\"\r\n",
        "  type: SOFTMAX_LOSS\r\n",
        "}\r\n",
        "state {\r\n",
        "  phase: TRAIN\r\n",
        "}\r\n",
        "I0225 11:29:34.890277 1928278784 layer_factory.hpp:78] Creating layer data\r\n",
        "I0225 11:29:34.890297 1928278784 net.cpp:67] Creating Layer data\r\n",
        "I0225 11:29:34.890308 1928278784 net.cpp:356] data -> data\r\n",
        "I0225 11:29:34.890323 1928278784 net.cpp:356] data -> label\r\n",
        "I0225 11:29:34.890334 1928278784 net.cpp:96] Setting up data\r\n",
        "I0225 11:29:34.891113 1928278784 hdf5_data_layer.cpp:63] Loading list of HDF5 filenames from: examples/R2_hand_classification/data/train.txt\r\n",
        "I0225 11:29:34.891479 1928278784 hdf5_data_layer.cpp:77] Number of HDF5 files: 2\r\n",
        "I0225 11:29:34.911670 1928278784 net.cpp:103] Top shape: 10 1 24 16 (3840)\r\n",
        "I0225 11:29:34.911712 1928278784 net.cpp:103] Top shape: 10 1 1 1 (10)\r\n",
        "I0225 11:29:34.911720 1928278784 layer_factory.hpp:78] Creating layer conv1\r\n",
        "I0225 11:29:34.911743 1928278784 net.cpp:67] Creating Layer conv1\r\n",
        "I0225 11:29:34.911749 1928278784 net.cpp:394] conv1 <- data\r\n",
        "I0225 11:29:34.911761 1928278784 net.cpp:356] conv1 -> conv1\r\n",
        "I0225 11:29:34.911772 1928278784 net.cpp:96] Setting up conv1\r\n",
        "I0225 11:29:34.916682 1928278784 net.cpp:103] Top shape: 10 20 20 12 (48000)\r\n",
        "I0225 11:29:34.916704 1928278784 layer_factory.hpp:78] Creating layer pool1\r\n",
        "I0225 11:29:34.916717 1928278784 net.cpp:67] Creating Layer pool1\r\n",
        "I0225 11:29:34.916723 1928278784 net.cpp:394] pool1 <- conv1\r\n",
        "I0225 11:29:34.916729 1928278784 net.cpp:356] pool1 -> pool1\r\n",
        "I0225 11:29:34.916738 1928278784 net.cpp:96] Setting up pool1\r\n",
        "I0225 11:29:34.916753 1928278784 net.cpp:103] Top shape: 10 20 10 6 (12000)\r\n",
        "I0225 11:29:34.916759 1928278784 layer_factory.hpp:78] Creating layer ip1\r\n",
        "I0225 11:29:34.916769 1928278784 net.cpp:67] Creating Layer ip1\r\n",
        "I0225 11:29:34.916774 1928278784 net.cpp:394] ip1 <- pool1\r\n",
        "I0225 11:29:34.916780 1928278784 net.cpp:356] ip1 -> ip1\r\n",
        "I0225 11:29:34.916790 1928278784 net.cpp:96] Setting up ip1\r\n",
        "I0225 11:29:34.917739 1928278784 net.cpp:103] Top shape: 10 100 1 1 (1000)\r\n",
        "I0225 11:29:34.917752 1928278784 layer_factory.hpp:78] Creating layer relu1\r\n",
        "I0225 11:29:34.917760 1928278784 net.cpp:67] Creating Layer relu1\r\n",
        "I0225 11:29:34.917765 1928278784 net.cpp:394] relu1 <- ip1\r\n",
        "I0225 11:29:34.917772 1928278784 net.cpp:345] relu1 -> ip1 (in-place)\r\n",
        "I0225 11:29:34.917778 1928278784 net.cpp:96] Setting up relu1\r\n",
        "I0225 11:29:34.917783 1928278784 net.cpp:103] Top shape: 10 100 1 1 (1000)\r\n",
        "I0225 11:29:34.917788 1928278784 layer_factory.hpp:78] Creating layer ip2\r\n",
        "I0225 11:29:34.917796 1928278784 net.cpp:67] Creating Layer ip2\r\n",
        "I0225 11:29:34.917800 1928278784 net.cpp:394] ip2 <- ip1\r\n",
        "I0225 11:29:34.917807 1928278784 net.cpp:356] ip2 -> ip2\r\n",
        "I0225 11:29:34.917814 1928278784 net.cpp:96] Setting up ip2\r\n",
        "I0225 11:29:34.917825 1928278784 net.cpp:103] Top shape: 10 2 1 1 (20)\r\n",
        "I0225 11:29:34.917834 1928278784 layer_factory.hpp:78] Creating layer loss\r\n",
        "I0225 11:29:34.917843 1928278784 net.cpp:67] Creating Layer loss\r\n",
        "I0225 11:29:34.917850 1928278784 net.cpp:394] loss <- ip2\r\n",
        "I0225 11:29:34.917855 1928278784 net.cpp:394] loss <- label\r\n",
        "I0225 11:29:34.917861 1928278784 net.cpp:356] loss -> loss\r\n",
        "I0225 11:29:34.917868 1928278784 net.cpp:96] Setting up loss\r\n",
        "I0225 11:29:34.917879 1928278784 net.cpp:103] Top shape: 1 1 1 1 (1)\r\n",
        "I0225 11:29:34.917884 1928278784 net.cpp:109]     with loss weight 1\r\n",
        "I0225 11:29:34.917898 1928278784 net.cpp:170] loss needs backward computation.\r\n",
        "I0225 11:29:34.917903 1928278784 net.cpp:170] ip2 needs backward computation.\r\n",
        "I0225 11:29:34.918021 1928278784 net.cpp:170] relu1 needs backward computation.\r\n",
        "I0225 11:29:34.918028 1928278784 net.cpp:170] ip1 needs backward computation.\r\n",
        "I0225 11:29:34.918033 1928278784 net.cpp:170] pool1 needs backward computation.\r\n",
        "I0225 11:29:34.918038 1928278784 net.cpp:170] conv1 needs backward computation.\r\n",
        "I0225 11:29:34.918042 1928278784 net.cpp:172] data does not need backward computation.\r\n",
        "I0225 11:29:34.918047 1928278784 net.cpp:208] This network produces output loss\r\n",
        "I0225 11:29:34.918056 1928278784 net.cpp:467] Collecting Learning Rate and Weight Decay.\r\n",
        "I0225 11:29:34.918063 1928278784 net.cpp:219] Network initialization done.\r\n",
        "I0225 11:29:34.918067 1928278784 net.cpp:220] Memory required for data: 263484\r\n",
        "I0225 11:29:34.918470 1928278784 solver.cpp:151] Creating test net (#0) specified by net file: examples/R2_hand_classification/R2_hand_train_test.prototxt\r\n",
        "I0225 11:29:34.918495 1928278784 net.cpp:275] The NetState phase (1) differed from the phase (0) specified by a rule in layer data\r\n",
        "I0225 11:29:34.918508 1928278784 net.cpp:39] Initializing net from parameters: \r\n",
        "name: \"R2hand\"\r\n",
        "layers {\r\n",
        "  top: \"data\"\r\n",
        "  top: \"label\"\r\n",
        "  name: \"data\"\r\n",
        "  type: HDF5_DATA\r\n",
        "  hdf5_data_param {\r\n",
        "    source: \"examples/R2_hand_classification/data/test.txt\"\r\n",
        "    batch_size: 20\r\n",
        "  }\r\n",
        "  include {\r\n",
        "    phase: TEST\r\n",
        "  }\r\n",
        "}\r\n",
        "layers {\r\n",
        "  bottom: \"data\"\r\n",
        "  top: \"conv1\"\r\n",
        "  name: \"conv1\"\r\n",
        "  type: CONVOLUTION\r\n",
        "  blobs_lr: 1\r\n",
        "  blobs_lr: 2\r\n",
        "  convolution_param {\r\n",
        "    num_output: 20\r\n",
        "    kernel_size: 5\r\n",
        "    stride: 1\r\n",
        "    weight_filler {\r\n",
        "      type: \"xavier\"\r\n",
        "    }\r\n",
        "    bias_filler {\r\n",
        "      type: \"constant\"\r\n",
        "    }\r\n",
        "  }\r\n",
        "}\r\n",
        "layers {\r\n",
        "  bottom: \"conv1\"\r\n",
        "  top: \"pool1\"\r\n",
        "  name: \"pool1\"\r\n",
        "  type: POOLING\r\n",
        "  pooling_param {\r\n",
        "    pool: MAX\r\n",
        "    kernel_size: 2\r\n",
        "    stride: 2\r\n",
        "  }\r\n",
        "}\r\n",
        "layers {\r\n",
        "  bottom: \"pool1\"\r\n",
        "  top: \"ip1\"\r\n",
        "  name: \"ip1\"\r\n",
        "  type: INNER_PRODUCT\r\n",
        "  blobs_lr: 1\r\n",
        "  blobs_lr: 2\r\n",
        "  inner_product_param {\r\n",
        "    num_output: 100\r\n",
        "    weight_filler {\r\n",
        "      type: \"xavier\"\r\n",
        "    }\r\n",
        "    bias_filler {\r\n",
        "      type: \"constant\"\r\n",
        "    }\r\n",
        "  }\r\n",
        "}\r\n",
        "layers {\r\n",
        "  bottom: \"ip1\"\r\n",
        "  top: \"ip1\"\r\n",
        "  name: \"relu1\"\r\n",
        "  type: RELU\r\n",
        "}\r\n",
        "layers {\r\n",
        "  bottom: \"ip1\"\r\n",
        "  top: \"ip2\"\r\n",
        "  name: \"ip2\"\r\n",
        "  type: INNER_PRODUCT\r\n",
        "  blobs_lr: 1\r\n",
        "  blobs_lr: 2\r\n",
        "  inner_product_param {\r\n",
        "    num_output: 2\r\n",
        "    weight_filler {\r\n",
        "      type: \"xavier\"\r\n",
        "    }\r\n",
        "    bias_filler {\r\n",
        "      type: \"constant\"\r\n",
        "    }\r\n",
        "  }\r\n",
        "}\r\n",
        "layers {\r\n",
        "  bottom: \"ip2\"\r\n",
        "  bottom: \"label\"\r\n",
        "  top: \"accuracy\"\r\n",
        "  name: \"accuracy\"\r\n",
        "  type: ACCURACY\r\n",
        "  include {\r\n",
        "    phase: TEST\r\n",
        "  }\r\n",
        "}\r\n",
        "layers {\r\n",
        "  bottom: \"ip2\"\r\n",
        "  bottom: \"label\"\r\n",
        "  top: \"loss\"\r\n",
        "  name: \"loss\"\r\n",
        "  type: SOFTMAX_LOSS\r\n",
        "}\r\n",
        "state {\r\n",
        "  phase: TEST\r\n",
        "}\r\n",
        "I0225 11:29:34.918972 1928278784 layer_factory.hpp:78] Creating layer data\r\n",
        "I0225 11:29:34.919003 1928278784 net.cpp:67] Creating Layer data\r\n",
        "I0225 11:29:34.919009 1928278784 net.cpp:356] data -> data\r\n",
        "I0225 11:29:34.919019 1928278784 net.cpp:356] data -> label\r\n",
        "I0225 11:29:34.919028 1928278784 net.cpp:96] Setting up data\r\n",
        "I0225 11:29:34.919033 1928278784 hdf5_data_layer.cpp:63] Loading list of HDF5 filenames from: examples/R2_hand_classification/data/test.txt\r\n",
        "I0225 11:29:34.919078 1928278784 hdf5_data_layer.cpp:77] Number of HDF5 files: 1\r\n"
       ]
      },
      {
       "output_type": "stream",
       "stream": "stdout",
       "text": [
        "I0225 11:29:34.965262 1928278784 net.cpp:103] Top shape: 20 1 24 16 (7680)\r\n",
        "I0225 11:29:34.965303 1928278784 net.cpp:103] Top shape: 20 1 1 1 (20)\r\n",
        "I0225 11:29:34.965312 1928278784 layer_factory.hpp:78] Creating layer label_data_1_split\r\n",
        "I0225 11:29:34.965325 1928278784 net.cpp:67] Creating Layer label_data_1_split\r\n",
        "I0225 11:29:34.965332 1928278784 net.cpp:394] label_data_1_split <- label\r\n",
        "I0225 11:29:34.965340 1928278784 net.cpp:356] label_data_1_split -> label_data_1_split_0\r\n",
        "I0225 11:29:34.965351 1928278784 net.cpp:356] label_data_1_split -> label_data_1_split_1\r\n",
        "I0225 11:29:34.965358 1928278784 net.cpp:96] Setting up label_data_1_split\r\n",
        "I0225 11:29:34.965365 1928278784 net.cpp:103] Top shape: 20 1 1 1 (20)\r\n",
        "I0225 11:29:34.965370 1928278784 net.cpp:103] Top shape: 20 1 1 1 (20)\r\n",
        "I0225 11:29:34.965375 1928278784 layer_factory.hpp:78] Creating layer conv1\r\n",
        "I0225 11:29:34.965384 1928278784 net.cpp:67] Creating Layer conv1\r\n",
        "I0225 11:29:34.965389 1928278784 net.cpp:394] conv1 <- data\r\n",
        "I0225 11:29:34.965400 1928278784 net.cpp:356] conv1 -> conv1\r\n",
        "I0225 11:29:34.965409 1928278784 net.cpp:96] Setting up conv1\r\n",
        "I0225 11:29:34.965430 1928278784 net.cpp:103] Top shape: 20 20 20 12 (96000)\r\n",
        "I0225 11:29:34.965451 1928278784 layer_factory.hpp:78] Creating layer pool1\r\n",
        "I0225 11:29:34.965458 1928278784 net.cpp:67] Creating Layer pool1\r\n",
        "I0225 11:29:34.965463 1928278784 net.cpp:394] pool1 <- conv1\r\n",
        "I0225 11:29:34.965469 1928278784 net.cpp:356] pool1 -> pool1\r\n",
        "I0225 11:29:34.965476 1928278784 net.cpp:96] Setting up pool1\r\n",
        "I0225 11:29:34.965589 1928278784 net.cpp:103] Top shape: 20 20 10 6 (24000)\r\n",
        "I0225 11:29:34.965600 1928278784 layer_factory.hpp:78] Creating layer ip1\r\n",
        "I0225 11:29:34.965620 1928278784 net.cpp:67] Creating Layer ip1\r\n",
        "I0225 11:29:34.965626 1928278784 net.cpp:394] ip1 <- pool1\r\n",
        "I0225 11:29:34.965633 1928278784 net.cpp:356] ip1 -> ip1\r\n",
        "I0225 11:29:34.965641 1928278784 net.cpp:96] Setting up ip1\r\n",
        "I0225 11:29:34.966579 1928278784 net.cpp:103] Top shape: 20 100 1 1 (2000)\r\n",
        "I0225 11:29:34.966593 1928278784 layer_factory.hpp:78] Creating layer relu1\r\n",
        "I0225 11:29:34.966600 1928278784 net.cpp:67] Creating Layer relu1\r\n",
        "I0225 11:29:34.966604 1928278784 net.cpp:394] relu1 <- ip1\r\n",
        "I0225 11:29:34.966611 1928278784 net.cpp:345] relu1 -> ip1 (in-place)\r\n",
        "I0225 11:29:34.966617 1928278784 net.cpp:96] Setting up relu1\r\n",
        "I0225 11:29:34.966622 1928278784 net.cpp:103] Top shape: 20 100 1 1 (2000)\r\n",
        "I0225 11:29:34.966627 1928278784 layer_factory.hpp:78] Creating layer ip2\r\n",
        "I0225 11:29:34.966634 1928278784 net.cpp:67] Creating Layer ip2\r\n",
        "I0225 11:29:34.966639 1928278784 net.cpp:394] ip2 <- ip1\r\n",
        "I0225 11:29:34.966646 1928278784 net.cpp:356] ip2 -> ip2\r\n",
        "I0225 11:29:34.966653 1928278784 net.cpp:96] Setting up ip2\r\n",
        "I0225 11:29:34.966663 1928278784 net.cpp:103] Top shape: 20 2 1 1 (40)\r\n",
        "I0225 11:29:34.966671 1928278784 layer_factory.hpp:78] Creating layer ip2_ip2_0_split\r\n",
        "I0225 11:29:34.966678 1928278784 net.cpp:67] Creating Layer ip2_ip2_0_split\r\n",
        "I0225 11:29:34.966682 1928278784 net.cpp:394] ip2_ip2_0_split <- ip2\r\n",
        "I0225 11:29:34.966689 1928278784 net.cpp:356] ip2_ip2_0_split -> ip2_ip2_0_split_0\r\n",
        "I0225 11:29:34.966784 1928278784 net.cpp:356] ip2_ip2_0_split -> ip2_ip2_0_split_1\r\n",
        "I0225 11:29:34.966799 1928278784 net.cpp:96] Setting up ip2_ip2_0_split\r\n",
        "I0225 11:29:34.966806 1928278784 net.cpp:103] Top shape: 20 2 1 1 (40)\r\n",
        "I0225 11:29:34.966811 1928278784 net.cpp:103] Top shape: 20 2 1 1 (40)\r\n",
        "I0225 11:29:34.966816 1928278784 layer_factory.hpp:78] Creating layer accuracy\r\n",
        "I0225 11:29:34.966825 1928278784 net.cpp:67] Creating Layer accuracy\r\n",
        "I0225 11:29:34.966830 1928278784 net.cpp:394] accuracy <- ip2_ip2_0_split_0\r\n",
        "I0225 11:29:34.966861 1928278784 net.cpp:394] accuracy <- label_data_1_split_0\r\n",
        "I0225 11:29:34.966868 1928278784 net.cpp:356] accuracy -> accuracy\r\n",
        "I0225 11:29:34.966876 1928278784 net.cpp:96] Setting up accuracy\r\n",
        "I0225 11:29:34.966881 1928278784 net.cpp:103] Top shape: 1 1 1 1 (1)\r\n",
        "I0225 11:29:34.966889 1928278784 layer_factory.hpp:78] Creating layer loss\r\n",
        "I0225 11:29:34.966897 1928278784 net.cpp:67] Creating Layer loss\r\n",
        "I0225 11:29:34.966902 1928278784 net.cpp:394] loss <- ip2_ip2_0_split_1\r\n",
        "I0225 11:29:34.966936 1928278784 net.cpp:394] loss <- label_data_1_split_1\r\n",
        "I0225 11:29:34.966944 1928278784 net.cpp:356] loss -> loss\r\n",
        "I0225 11:29:34.966951 1928278784 net.cpp:96] Setting up loss\r\n",
        "I0225 11:29:34.966963 1928278784 net.cpp:103] Top shape: 1 1 1 1 (1)\r\n",
        "I0225 11:29:34.966969 1928278784 net.cpp:109]     with loss weight 1\r\n",
        "I0225 11:29:34.966980 1928278784 net.cpp:170] loss needs backward computation.\r\n",
        "I0225 11:29:34.966985 1928278784 net.cpp:172] accuracy does not need backward computation.\r\n",
        "I0225 11:29:34.966990 1928278784 net.cpp:170] ip2_ip2_0_split needs backward computation.\r\n",
        "I0225 11:29:34.966995 1928278784 net.cpp:170] ip2 needs backward computation.\r\n",
        "I0225 11:29:34.967000 1928278784 net.cpp:170] relu1 needs backward computation.\r\n",
        "I0225 11:29:34.967003 1928278784 net.cpp:170] ip1 needs backward computation.\r\n",
        "I0225 11:29:34.967008 1928278784 net.cpp:170] pool1 needs backward computation.\r\n",
        "I0225 11:29:34.967013 1928278784 net.cpp:170] conv1 needs backward computation.\r",
        "\r\n",
        "I0225 11:29:34.967103 1928278784 net.cpp:172] label_data_1_split does not need backward computation.\r\n",
        "I0225 11:29:34.967108 1928278784 net.cpp:172] data does not need backward computation.\r\n",
        "I0225 11:29:34.967113 1928278784 net.cpp:208] This network produces output accuracy\r\n",
        "I0225 11:29:34.967118 1928278784 net.cpp:208] This network produces output loss\r\n",
        "I0225 11:29:34.967128 1928278784 net.cpp:467] Collecting Learning Rate and Weight Decay.\r\n",
        "I0225 11:29:34.967134 1928278784 net.cpp:219] Network initialization done.\r\n",
        "I0225 11:29:34.967139 1928278784 net.cpp:220] Memory required for data: 527448\r\n",
        "I0225 11:29:34.967185 1928278784 solver.cpp:41] Solver scaffolding done.\r\n",
        "I0225 11:29:34.967197 1928278784 solver.cpp:160] Solving R2hand\r\n",
        "I0225 11:29:34.967218 1928278784 solver.cpp:263] Iteration 0, Testing net (#0)\r\n"
       ]
      },
      {
       "output_type": "stream",
       "stream": "stdout",
       "text": [
        "I0225 11:29:35.155421 1928278784 solver.cpp:314]     Test net output #0: accuracy = 0.5885\r\n",
        "I0225 11:29:35.155462 1928278784 solver.cpp:314]     Test net output #1: loss = 0.692319 (* 1 = 0.692319 loss)\r\n",
        "I0225 11:29:35.157960 1928278784 solver.cpp:207] Iteration 0, loss = 0.697109\r\n",
        "I0225 11:29:35.157985 1928278784 solver.cpp:222]     Train net output #0: loss = 0.697109 (* 1 = 0.697109 loss)\r\n",
        "I0225 11:29:35.157999 1928278784 solver.cpp:419] Iteration 0, lr = 0.01\r\n"
       ]
      },
      {
       "output_type": "stream",
       "stream": "stdout",
       "text": [
        "I0225 11:29:35.314214 1928278784 solver.cpp:207] Iteration 100, loss = 0.000734684\r\n",
        "I0225 11:29:35.314254 1928278784 solver.cpp:222]     Train net output #0: loss = 0.000734688 (* 1 = 0.000734688 loss)\r\n",
        "I0225 11:29:35.314263 1928278784 solver.cpp:419] Iteration 100, lr = 0.00992565\r\n"
       ]
      },
      {
       "output_type": "stream",
       "stream": "stdout",
       "text": [
        "I0225 11:29:35.470604 1928278784 solver.cpp:207] Iteration 200, loss = 0.000280464\r\n",
        "I0225 11:29:35.470644 1928278784 solver.cpp:222]     Train net output #0: loss = 0.000280468 (* 1 = 0.000280468 loss)\r\n",
        "I0225 11:29:35.470654 1928278784 solver.cpp:419] Iteration 200, lr = 0.00985258\r\n"
       ]
      },
      {
       "output_type": "stream",
       "stream": "stdout",
       "text": [
        "I0225 11:29:35.627182 1928278784 solver.cpp:207] Iteration 300, loss = 0.000342165\r\n",
        "I0225 11:29:35.627219 1928278784 solver.cpp:222]     Train net output #0: loss = 0.000342169 (* 1 = 0.000342169 loss)\r\n",
        "I0225 11:29:35.627228 1928278784 solver.cpp:419] Iteration 300, lr = 0.00978075\r\n"
       ]
      },
      {
       "output_type": "stream",
       "stream": "stdout",
       "text": [
        "I0225 11:29:35.784162 1928278784 solver.cpp:207] Iteration 400, loss = 0.000300842\r\n",
        "I0225 11:29:35.784199 1928278784 solver.cpp:222]     Train net output #0: loss = 0.000300846 (* 1 = 0.000300846 loss)\r\n",
        "I0225 11:29:35.784207 1928278784 solver.cpp:419] Iteration 400, lr = 0.00971013\r\n"
       ]
      },
      {
       "output_type": "stream",
       "stream": "stdout",
       "text": [
        "I0225 11:29:35.938138 1928278784 solver.cpp:263] Iteration 500, Testing net (#0)\r\n"
       ]
      },
      {
       "output_type": "stream",
       "stream": "stdout",
       "text": [
        "I0225 11:29:36.123538 1928278784 solver.cpp:314]     Test net output #0: accuracy = 1\r\n",
        "I0225 11:29:36.123579 1928278784 solver.cpp:314]     Test net output #1: loss = 0.000317341 (* 1 = 0.000317341 loss)\r\n",
        "I0225 11:29:36.125036 1928278784 solver.cpp:207] Iteration 500, loss = 0.000257704\r\n",
        "I0225 11:29:36.125058 1928278784 solver.cpp:222]     Train net output #0: loss = 0.000257708 (* 1 = 0.000257708 loss)\r\n",
        "I0225 11:29:36.125068 1928278784 solver.cpp:419] Iteration 500, lr = 0.00964069\r\n"
       ]
      },
      {
       "output_type": "stream",
       "stream": "stdout",
       "text": [
        "I0225 11:29:36.282670 1928278784 solver.cpp:207] Iteration 600, loss = 0.000137687\r\n",
        "I0225 11:29:36.282709 1928278784 solver.cpp:222]     Train net output #0: loss = 0.000137691 (* 1 = 0.000137691 loss)\r\n",
        "I0225 11:29:36.282719 1928278784 solver.cpp:419] Iteration 600, lr = 0.0095724\r\n"
       ]
      },
      {
       "output_type": "stream",
       "stream": "stdout",
       "text": [
        "I0225 11:29:36.441351 1928278784 solver.cpp:207] Iteration 700, loss = 0.000139548\r\n",
        "I0225 11:29:36.441391 1928278784 solver.cpp:222]     Train net output #0: loss = 0.000139552 (* 1 = 0.000139552 loss)\r\n",
        "I0225 11:29:36.441400 1928278784 solver.cpp:419] Iteration 700, lr = 0.00950522\r\n"
       ]
      },
      {
       "output_type": "stream",
       "stream": "stdout",
       "text": [
        "I0225 11:29:36.601241 1928278784 solver.cpp:207] Iteration 800, loss = 0.000345983\r\n",
        "I0225 11:29:36.601282 1928278784 solver.cpp:222]     Train net output #0: loss = 0.000345987 (* 1 = 0.000345987 loss)\r\n",
        "I0225 11:29:36.601291 1928278784 solver.cpp:419] Iteration 800, lr = 0.00943913\r\n"
       ]
      },
      {
       "output_type": "stream",
       "stream": "stdout",
       "text": [
        "I0225 11:29:36.774374 1928278784 solver.cpp:207] Iteration 900, loss = 0.000179904\r\n",
        "I0225 11:29:36.774412 1928278784 solver.cpp:222]     Train net output #0: loss = 0.000179909 (* 1 = 0.000179909 loss)\r\n",
        "I0225 11:29:36.774421 1928278784 solver.cpp:419] Iteration 900, lr = 0.00937411\r\n"
       ]
      },
      {
       "output_type": "stream",
       "stream": "stdout",
       "text": [
        "I0225 11:29:36.927307 1928278784 solver.cpp:263] Iteration 1000, Testing net (#0)\r\n"
       ]
      },
      {
       "output_type": "stream",
       "stream": "stdout",
       "text": [
        "I0225 11:29:37.108517 1928278784 solver.cpp:314]     Test net output #0: accuracy = 1\r\n",
        "I0225 11:29:37.108559 1928278784 solver.cpp:314]     Test net output #1: loss = 0.000191075 (* 1 = 0.000191075 loss)\r\n",
        "I0225 11:29:37.110168 1928278784 solver.cpp:207] Iteration 1000, loss = 0.000121951\r\n",
        "I0225 11:29:37.110206 1928278784 solver.cpp:222]     Train net output #0: loss = 0.000121955 (* 1 = 0.000121955 loss)\r\n",
        "I0225 11:29:37.110216 1928278784 solver.cpp:419] Iteration 1000, lr = 0.00931012\r\n"
       ]
      },
      {
       "output_type": "stream",
       "stream": "stdout",
       "text": [
        "I0225 11:29:37.270901 1928278784 solver.cpp:207] Iteration 1100, loss = 2.27174e-05\r\n",
        "I0225 11:29:37.270938 1928278784 solver.cpp:222]     Train net output #0: loss = 2.27219e-05 (* 1 = 2.27219e-05 loss)\r\n",
        "I0225 11:29:37.270947 1928278784 solver.cpp:419] Iteration 1100, lr = 0.00924715\r\n"
       ]
      },
      {
       "output_type": "stream",
       "stream": "stdout",
       "text": [
        "I0225 11:29:37.423429 1928278784 solver.cpp:207] Iteration 1200, loss = 0.000655989\r\n",
        "I0225 11:29:37.423466 1928278784 solver.cpp:222]     Train net output #0: loss = 0.000655993 (* 1 = 0.000655993 loss)\r\n",
        "I0225 11:29:37.423475 1928278784 solver.cpp:419] Iteration 1200, lr = 0.00918515\r\n"
       ]
      },
      {
       "output_type": "stream",
       "stream": "stdout",
       "text": [
        "I0225 11:29:37.576441 1928278784 solver.cpp:207] Iteration 1300, loss = 6.97288e-05\r\n",
        "I0225 11:29:37.576479 1928278784 solver.cpp:222]     Train net output #0: loss = 6.97332e-05 (* 1 = 6.97332e-05 loss)\r\n",
        "I0225 11:29:37.576488 1928278784 solver.cpp:419] Iteration 1300, lr = 0.00912412\r\n"
       ]
      },
      {
       "output_type": "stream",
       "stream": "stdout",
       "text": [
        "I0225 11:29:37.732568 1928278784 solver.cpp:207] Iteration 1400, loss = 7.21108e-05\r\n",
        "I0225 11:29:37.732609 1928278784 solver.cpp:222]     Train net output #0: loss = 7.21152e-05 (* 1 = 7.21152e-05 loss)\r\n",
        "I0225 11:29:37.732616 1928278784 solver.cpp:419] Iteration 1400, lr = 0.00906403\r\n"
       ]
      },
      {
       "output_type": "stream",
       "stream": "stdout",
       "text": [
        "I0225 11:29:37.886636 1928278784 solver.cpp:263] Iteration 1500, Testing net (#0)\r\n"
       ]
      },
      {
       "output_type": "stream",
       "stream": "stdout",
       "text": [
        "I0225 11:29:38.061206 1928278784 solver.cpp:314]     Test net output #0: accuracy = 1\r\n",
        "I0225 11:29:38.061245 1928278784 solver.cpp:314]     Test net output #1: loss = 0.000178109 (* 1 = 0.000178109 loss)\r\n",
        "I0225 11:29:38.062691 1928278784 solver.cpp:207] Iteration 1500, loss = 7.3234e-05\r\n",
        "I0225 11:29:38.062716 1928278784 solver.cpp:222]     Train net output #0: loss = 7.32385e-05 (* 1 = 7.32385e-05 loss)\r\n",
        "I0225 11:29:38.062726 1928278784 solver.cpp:419] Iteration 1500, lr = 0.00900485\r\n"
       ]
      },
      {
       "output_type": "stream",
       "stream": "stdout",
       "text": [
        "I0225 11:29:38.218328 1928278784 solver.cpp:207] Iteration 1600, loss = 5.33125e-05\r\n",
        "I0225 11:29:38.218366 1928278784 solver.cpp:222]     Train net output #0: loss = 5.3317e-05 (* 1 = 5.3317e-05 loss)\r\n",
        "I0225 11:29:38.218374 1928278784 solver.cpp:419] Iteration 1600, lr = 0.00894657\r\n"
       ]
      },
      {
       "output_type": "stream",
       "stream": "stdout",
       "text": [
        "I0225 11:29:38.372285 1928278784 solver.cpp:207] Iteration 1700, loss = 6.50601e-05\r\n",
        "I0225 11:29:38.372355 1928278784 solver.cpp:222]     Train net output #0: loss = 6.50645e-05 (* 1 = 6.50645e-05 loss)\r\n",
        "I0225 11:29:38.372365 1928278784 solver.cpp:419] Iteration 1700, lr = 0.00888916\r\n"
       ]
      },
      {
       "output_type": "stream",
       "stream": "stdout",
       "text": [
        "I0225 11:29:38.540138 1928278784 solver.cpp:207] Iteration 1800, loss = 0.000149284\r\n",
        "I0225 11:29:38.540179 1928278784 solver.cpp:222]     Train net output #0: loss = 0.000149288 (* 1 = 0.000149288 loss)\r\n",
        "I0225 11:29:38.540187 1928278784 solver.cpp:419] Iteration 1800, lr = 0.0088326\r\n"
       ]
      },
      {
       "output_type": "stream",
       "stream": "stdout",
       "text": [
        "I0225 11:29:38.693640 1928278784 solver.cpp:207] Iteration 1900, loss = 0.000136162\r\n",
        "I0225 11:29:38.693680 1928278784 solver.cpp:222]     Train net output #0: loss = 0.000136167 (* 1 = 0.000136167 loss)\r\n",
        "I0225 11:29:38.693687 1928278784 solver.cpp:419] Iteration 1900, lr = 0.00877687\r\n"
       ]
      },
      {
       "output_type": "stream",
       "stream": "stdout",
       "text": [
        "I0225 11:29:38.850786 1928278784 solver.cpp:263] Iteration 2000, Testing net (#0)\r\n"
       ]
      },
      {
       "output_type": "stream",
       "stream": "stdout",
       "text": [
        "I0225 11:29:39.026185 1928278784 solver.cpp:314]     Test net output #0: accuracy = 1\r\n",
        "I0225 11:29:39.026226 1928278784 solver.cpp:314]     Test net output #1: loss = 0.000157879 (* 1 = 0.000157879 loss)\r\n",
        "I0225 11:29:39.027875 1928278784 solver.cpp:207] Iteration 2000, loss = 4.76642e-05\r\n",
        "I0225 11:29:39.027911 1928278784 solver.cpp:222]     Train net output #0: loss = 4.76689e-05 (* 1 = 4.76689e-05 loss)\r\n",
        "I0225 11:29:39.027921 1928278784 solver.cpp:419] Iteration 2000, lr = 0.00872196\r\n"
       ]
      },
      {
       "output_type": "stream",
       "stream": "stdout",
       "text": [
        "I0225 11:29:39.199651 1928278784 solver.cpp:207] Iteration 2100, loss = 4.4617e-05\r\n",
        "I0225 11:29:39.199689 1928278784 solver.cpp:222]     Train net output #0: loss = 4.46218e-05 (* 1 = 4.46218e-05 loss)\r\n",
        "I0225 11:29:39.199698 1928278784 solver.cpp:419] Iteration 2100, lr = 0.00866784\r\n"
       ]
      },
      {
       "output_type": "stream",
       "stream": "stdout",
       "text": [
        "I0225 11:29:39.355733 1928278784 solver.cpp:207] Iteration 2200, loss = 4.64239e-05\r\n",
        "I0225 11:29:39.355773 1928278784 solver.cpp:222]     Train net output #0: loss = 4.64287e-05 (* 1 = 4.64287e-05 loss)\r\n",
        "I0225 11:29:39.355782 1928278784 solver.cpp:419] Iteration 2200, lr = 0.0086145\r\n"
       ]
      },
      {
       "output_type": "stream",
       "stream": "stdout",
       "text": [
        "I0225 11:29:39.509626 1928278784 solver.cpp:207] Iteration 2300, loss = 0.000214286\r\n",
        "I0225 11:29:39.509665 1928278784 solver.cpp:222]     Train net output #0: loss = 0.000214291 (* 1 = 0.000214291 loss)\r\n",
        "I0225 11:29:39.509673 1928278784 solver.cpp:419] Iteration 2300, lr = 0.00856192\r\n"
       ]
      },
      {
       "output_type": "stream",
       "stream": "stdout",
       "text": [
        "I0225 11:29:39.666043 1928278784 solver.cpp:207] Iteration 2400, loss = 0.000275004\r\n",
        "I0225 11:29:39.666080 1928278784 solver.cpp:222]     Train net output #0: loss = 0.000275009 (* 1 = 0.000275009 loss)\r\n",
        "I0225 11:29:39.666090 1928278784 solver.cpp:419] Iteration 2400, lr = 0.00851008\r\n"
       ]
      },
      {
       "output_type": "stream",
       "stream": "stdout",
       "text": [
        "I0225 11:29:39.820302 1928278784 solver.cpp:263] Iteration 2500, Testing net (#0)\r\n"
       ]
      },
      {
       "output_type": "stream",
       "stream": "stdout",
       "text": [
        "I0225 11:29:39.989032 1928278784 solver.cpp:314]     Test net output #0: accuracy = 1\r\n",
        "I0225 11:29:39.989069 1928278784 solver.cpp:314]     Test net output #1: loss = 0.000139176 (* 1 = 0.000139176 loss)\r\n",
        "I0225 11:29:39.990494 1928278784 solver.cpp:207] Iteration 2500, loss = 0.000139684\r\n",
        "I0225 11:29:39.990517 1928278784 solver.cpp:222]     Train net output #0: loss = 0.000139689 (* 1 = 0.000139689 loss)\r\n",
        "I0225 11:29:39.990526 1928278784 solver.cpp:419] Iteration 2500, lr = 0.00845897\r\n"
       ]
      },
      {
       "output_type": "stream",
       "stream": "stdout",
       "text": [
        "I0225 11:29:40.151693 1928278784 solver.cpp:207] Iteration 2600, loss = 0.000154625\r\n",
        "I0225 11:29:40.151731 1928278784 solver.cpp:222]     Train net output #0: loss = 0.00015463 (* 1 = 0.00015463 loss)\r\n",
        "I0225 11:29:40.151741 1928278784 solver.cpp:419] Iteration 2600, lr = 0.00840857\r\n"
       ]
      },
      {
       "output_type": "stream",
       "stream": "stdout",
       "text": [
        "I0225 11:29:40.319578 1928278784 solver.cpp:207] Iteration 2700, loss = 0.000241423\r\n",
        "I0225 11:29:40.319617 1928278784 solver.cpp:222]     Train net output #0: loss = 0.000241428 (* 1 = 0.000241428 loss)\r\n",
        "I0225 11:29:40.319624 1928278784 solver.cpp:419] Iteration 2700, lr = 0.00835886\r\n"
       ]
      },
      {
       "output_type": "stream",
       "stream": "stdout",
       "text": [
        "I0225 11:29:40.472275 1928278784 solver.cpp:207] Iteration 2800, loss = 7.48688e-05\r\n",
        "I0225 11:29:40.472313 1928278784 solver.cpp:222]     Train net output #0: loss = 7.48735e-05 (* 1 = 7.48735e-05 loss)\r\n",
        "I0225 11:29:40.472321 1928278784 solver.cpp:419] Iteration 2800, lr = 0.00830984\r\n"
       ]
      },
      {
       "output_type": "stream",
       "stream": "stdout",
       "text": [
        "I0225 11:29:40.625329 1928278784 solver.cpp:207] Iteration 2900, loss = 0.000198026\r\n",
        "I0225 11:29:40.625367 1928278784 solver.cpp:222]     Train net output #0: loss = 0.000198031 (* 1 = 0.000198031 loss)\r\n",
        "I0225 11:29:40.625411 1928278784 solver.cpp:419] Iteration 2900, lr = 0.00826148\r\n"
       ]
      },
      {
       "output_type": "stream",
       "stream": "stdout",
       "text": [
        "I0225 11:29:40.781049 1928278784 solver.cpp:263] Iteration 3000, Testing net (#0)\r\n"
       ]
      },
      {
       "output_type": "stream",
       "stream": "stdout",
       "text": [
        "I0225 11:29:40.948457 1928278784 solver.cpp:314]     Test net output #0: accuracy = 1\r\n",
        "I0225 11:29:40.948495 1928278784 solver.cpp:314]     Test net output #1: loss = 0.00014726 (* 1 = 0.00014726 loss)\r\n",
        "I0225 11:29:40.949878 1928278784 solver.cpp:207] Iteration 3000, loss = 0.000367784\r\n",
        "I0225 11:29:40.949900 1928278784 solver.cpp:222]     Train net output #0: loss = 0.000367789 (* 1 = 0.000367789 loss)\r\n",
        "I0225 11:29:40.949910 1928278784 solver.cpp:419] Iteration 3000, lr = 0.00821377\r\n"
       ]
      },
      {
       "output_type": "stream",
       "stream": "stdout",
       "text": [
        "I0225 11:29:41.110553 1928278784 solver.cpp:207] Iteration 3100, loss = 0.000252076\r\n",
        "I0225 11:29:41.110594 1928278784 solver.cpp:222]     Train net output #0: loss = 0.000252081 (* 1 = 0.000252081 loss)\r\n",
        "I0225 11:29:41.110604 1928278784 solver.cpp:419] Iteration 3100, lr = 0.0081667\r\n"
       ]
      },
      {
       "output_type": "stream",
       "stream": "stdout",
       "text": [
        "I0225 11:29:41.265439 1928278784 solver.cpp:207] Iteration 3200, loss = 6.22925e-05\r\n",
        "I0225 11:29:41.265477 1928278784 solver.cpp:222]     Train net output #0: loss = 6.22973e-05 (* 1 = 6.22973e-05 loss)\r\n",
        "I0225 11:29:41.265486 1928278784 solver.cpp:419] Iteration 3200, lr = 0.00812025\r\n"
       ]
      },
      {
       "output_type": "stream",
       "stream": "stdout",
       "text": [
        "I0225 11:29:41.418731 1928278784 solver.cpp:207] Iteration 3300, loss = 0.000151638\r\n",
        "I0225 11:29:41.418771 1928278784 solver.cpp:222]     Train net output #0: loss = 0.000151643 (* 1 = 0.000151643 loss)\r\n",
        "I0225 11:29:41.418779 1928278784 solver.cpp:419] Iteration 3300, lr = 0.00807442\r\n"
       ]
      },
      {
       "output_type": "stream",
       "stream": "stdout",
       "text": [
        "I0225 11:29:41.571159 1928278784 solver.cpp:207] Iteration 3400, loss = 7.72831e-05\r\n",
        "I0225 11:29:41.571197 1928278784 solver.cpp:222]     Train net output #0: loss = 7.72879e-05 (* 1 = 7.72879e-05 loss)\r\n",
        "I0225 11:29:41.571205 1928278784 solver.cpp:419] Iteration 3400, lr = 0.00802918\r\n"
       ]
      },
      {
       "output_type": "stream",
       "stream": "stdout",
       "text": [
        "I0225 11:29:41.737813 1928278784 solver.cpp:263] Iteration 3500, Testing net (#0)\r\n"
       ]
      },
      {
       "output_type": "stream",
       "stream": "stdout",
       "text": [
        "I0225 11:29:41.904582 1928278784 solver.cpp:314]     Test net output #0: accuracy = 1\r\n",
        "I0225 11:29:41.904619 1928278784 solver.cpp:314]     Test net output #1: loss = 0.000148904 (* 1 = 0.000148904 loss)\r\n",
        "I0225 11:29:41.906183 1928278784 solver.cpp:207] Iteration 3500, loss = 0.000564726\r\n",
        "I0225 11:29:41.906208 1928278784 solver.cpp:222]     Train net output #0: loss = 0.00056473 (* 1 = 0.00056473 loss)\r\n",
        "I0225 11:29:41.906218 1928278784 solver.cpp:419] Iteration 3500, lr = 0.00798454\r\n"
       ]
      },
      {
       "output_type": "stream",
       "stream": "stdout",
       "text": [
        "I0225 11:29:42.079108 1928278784 solver.cpp:207] Iteration 3600, loss = 5.74472e-05\r\n",
        "I0225 11:29:42.079150 1928278784 solver.cpp:222]     Train net output #0: loss = 5.74521e-05 (* 1 = 5.74521e-05 loss)\r\n",
        "I0225 11:29:42.079159 1928278784 solver.cpp:419] Iteration 3600, lr = 0.00794046\r\n"
       ]
      },
      {
       "output_type": "stream",
       "stream": "stdout",
       "text": [
        "I0225 11:29:42.231794 1928278784 solver.cpp:207] Iteration 3700, loss = 0.000308346\r\n",
        "I0225 11:29:42.231833 1928278784 solver.cpp:222]     Train net output #0: loss = 0.000308351 (* 1 = 0.000308351 loss)\r\n",
        "I0225 11:29:42.231842 1928278784 solver.cpp:419] Iteration 3700, lr = 0.00789695\r\n"
       ]
      },
      {
       "output_type": "stream",
       "stream": "stdout",
       "text": [
        "I0225 11:29:42.384428 1928278784 solver.cpp:207] Iteration 3800, loss = 5.31498e-05\r\n",
        "I0225 11:29:42.384469 1928278784 solver.cpp:222]     Train net output #0: loss = 5.31545e-05 (* 1 = 5.31545e-05 loss)\r\n",
        "I0225 11:29:42.384479 1928278784 solver.cpp:419] Iteration 3800, lr = 0.007854\r\n"
       ]
      },
      {
       "output_type": "stream",
       "stream": "stdout",
       "text": [
        "I0225 11:29:42.537200 1928278784 solver.cpp:207] Iteration 3900, loss = 0.000210877\r\n",
        "I0225 11:29:42.537240 1928278784 solver.cpp:222]     Train net output #0: loss = 0.000210881 (* 1 = 0.000210881 loss)\r\n",
        "I0225 11:29:42.537248 1928278784 solver.cpp:419] Iteration 3900, lr = 0.00781158\r\n"
       ]
      },
      {
       "output_type": "stream",
       "stream": "stdout",
       "text": [
        "I0225 11:29:42.688189 1928278784 solver.cpp:263] Iteration 4000, Testing net (#0)\r\n"
       ]
      },
      {
       "output_type": "stream",
       "stream": "stdout",
       "text": [
        "I0225 11:29:42.858758 1928278784 solver.cpp:314]     Test net output #0: accuracy = 1\r\n",
        "I0225 11:29:42.858796 1928278784 solver.cpp:314]     Test net output #1: loss = 0.000126048 (* 1 = 0.000126048 loss)\r\n",
        "I0225 11:29:42.860226 1928278784 solver.cpp:207] Iteration 4000, loss = 2.38022e-05\r\n",
        "I0225 11:29:42.860249 1928278784 solver.cpp:222]     Train net output #0: loss = 2.38068e-05 (* 1 = 2.38068e-05 loss)\r\n",
        "I0225 11:29:42.860260 1928278784 solver.cpp:419] Iteration 4000, lr = 0.0077697\r\n"
       ]
      },
      {
       "output_type": "stream",
       "stream": "stdout",
       "text": [
        "I0225 11:29:43.023252 1928278784 solver.cpp:207] Iteration 4100, loss = 9.44705e-05\r\n",
        "I0225 11:29:43.023324 1928278784 solver.cpp:222]     Train net output #0: loss = 9.44753e-05 (* 1 = 9.44753e-05 loss)\r\n",
        "I0225 11:29:43.023334 1928278784 solver.cpp:419] Iteration 4100, lr = 0.00772833\r\n"
       ]
      },
      {
       "output_type": "stream",
       "stream": "stdout",
       "text": [
        "I0225 11:29:43.180039 1928278784 solver.cpp:207] Iteration 4200, loss = 8.29089e-05\r\n",
        "I0225 11:29:43.180074 1928278784 solver.cpp:222]     Train net output #0: loss = 8.29137e-05 (* 1 = 8.29137e-05 loss)\r\n",
        "I0225 11:29:43.180084 1928278784 solver.cpp:419] Iteration 4200, lr = 0.00768748\r\n"
       ]
      },
      {
       "output_type": "stream",
       "stream": "stdout",
       "text": [
        "I0225 11:29:43.333621 1928278784 solver.cpp:207] Iteration 4300, loss = 0.000103982\r\n",
        "I0225 11:29:43.333657 1928278784 solver.cpp:222]     Train net output #0: loss = 0.000103986 (* 1 = 0.000103986 loss)\r\n",
        "I0225 11:29:43.333667 1928278784 solver.cpp:419] Iteration 4300, lr = 0.00764712\r\n"
       ]
      },
      {
       "output_type": "stream",
       "stream": "stdout",
       "text": [
        "I0225 11:29:43.502954 1928278784 solver.cpp:207] Iteration 4400, loss = 0.000205974\r\n",
        "I0225 11:29:43.502993 1928278784 solver.cpp:222]     Train net output #0: loss = 0.000205978 (* 1 = 0.000205978 loss)\r\n",
        "I0225 11:29:43.503002 1928278784 solver.cpp:419] Iteration 4400, lr = 0.00760726\r\n"
       ]
      },
      {
       "output_type": "stream",
       "stream": "stdout",
       "text": [
        "I0225 11:29:43.654857 1928278784 solver.cpp:263] Iteration 4500, Testing net (#0)\r\n"
       ]
      },
      {
       "output_type": "stream",
       "stream": "stdout",
       "text": [
        "I0225 11:29:43.825111 1928278784 solver.cpp:314]     Test net output #0: accuracy = 1\r\n",
        "I0225 11:29:43.825153 1928278784 solver.cpp:314]     Test net output #1: loss = 0.000146675 (* 1 = 0.000146675 loss)\r\n",
        "I0225 11:29:43.826639 1928278784 solver.cpp:207] Iteration 4500, loss = 7.95791e-05\r\n",
        "I0225 11:29:43.826661 1928278784 solver.cpp:222]     Train net output #0: loss = 7.95839e-05 (* 1 = 7.95839e-05 loss)\r\n",
        "I0225 11:29:43.826671 1928278784 solver.cpp:419] Iteration 4500, lr = 0.00756788\r\n"
       ]
      },
      {
       "output_type": "stream",
       "stream": "stdout",
       "text": [
        "I0225 11:29:43.983290 1928278784 solver.cpp:207] Iteration 4600, loss = 0.000157084\r\n",
        "I0225 11:29:43.983331 1928278784 solver.cpp:222]     Train net output #0: loss = 0.000157089 (* 1 = 0.000157089 loss)\r\n",
        "I0225 11:29:43.983340 1928278784 solver.cpp:419] Iteration 4600, lr = 0.00752897\r\n"
       ]
      },
      {
       "output_type": "stream",
       "stream": "stdout",
       "text": [
        "I0225 11:29:44.152850 1928278784 solver.cpp:207] Iteration 4700, loss = 5.64739e-05\r\n",
        "I0225 11:29:44.152889 1928278784 solver.cpp:222]     Train net output #0: loss = 5.64786e-05 (* 1 = 5.64786e-05 loss)\r\n",
        "I0225 11:29:44.152897 1928278784 solver.cpp:419] Iteration 4700, lr = 0.00749052\r\n"
       ]
      },
      {
       "output_type": "stream",
       "stream": "stdout",
       "text": [
        "I0225 11:29:44.317468 1928278784 solver.cpp:207] Iteration 4800, loss = 0.000240738\r\n",
        "I0225 11:29:44.317507 1928278784 solver.cpp:222]     Train net output #0: loss = 0.000240743 (* 1 = 0.000240743 loss)\r\n",
        "I0225 11:29:44.317517 1928278784 solver.cpp:419] Iteration 4800, lr = 0.00745253\r\n"
       ]
      },
      {
       "output_type": "stream",
       "stream": "stdout",
       "text": [
        "I0225 11:29:44.470162 1928278784 solver.cpp:207] Iteration 4900, loss = 0.00037711\r\n",
        "I0225 11:29:44.470201 1928278784 solver.cpp:222]     Train net output #0: loss = 0.000377115 (* 1 = 0.000377115 loss)\r\n",
        "I0225 11:29:44.470209 1928278784 solver.cpp:419] Iteration 4900, lr = 0.00741498\r\n"
       ]
      },
      {
       "output_type": "stream",
       "stream": "stdout",
       "text": [
        "I0225 11:29:44.622629 1928278784 solver.cpp:333] Snapshotting to examples/R2_hand_classification/data/train_iter_5000.caffemodel\r\n",
        "I0225 11:29:44.626495 1928278784 solver.cpp:340] Snapshotting solver state to examples/R2_hand_classification/data/train_iter_5000.solverstate\r\n",
        "I0225 11:29:44.628485 1928278784 solver.cpp:263] Iteration 5000, Testing net (#0)\r\n"
       ]
      },
      {
       "output_type": "stream",
       "stream": "stdout",
       "text": [
        "I0225 11:29:44.797888 1928278784 solver.cpp:314]     Test net output #0: accuracy = 1\r\n",
        "I0225 11:29:44.797924 1928278784 solver.cpp:314]     Test net output #1: loss = 0.000141941 (* 1 = 0.000141941 loss)\r\n",
        "I0225 11:29:44.799387 1928278784 solver.cpp:207] Iteration 5000, loss = 4.64888e-05\r\n",
        "I0225 11:29:44.799410 1928278784 solver.cpp:222]     Train net output #0: loss = 4.64937e-05 (* 1 = 4.64937e-05 loss)\r\n",
        "I0225 11:29:44.799419 1928278784 solver.cpp:419] Iteration 5000, lr = 0.00737788\r\n"
       ]
      },
      {
       "output_type": "stream",
       "stream": "stdout",
       "text": [
        "I0225 11:29:44.957183 1928278784 solver.cpp:207] Iteration 5100, loss = 5.24938e-05\r\n",
        "I0225 11:29:44.957224 1928278784 solver.cpp:222]     Train net output #0: loss = 5.24987e-05 (* 1 = 5.24987e-05 loss)\r\n",
        "I0225 11:29:44.957234 1928278784 solver.cpp:419] Iteration 5100, lr = 0.0073412\r\n"
       ]
      },
      {
       "output_type": "stream",
       "stream": "stdout",
       "text": [
        "I0225 11:29:45.123091 1928278784 solver.cpp:207] Iteration 5200, loss = 7.81417e-05\r\n",
        "I0225 11:29:45.123132 1928278784 solver.cpp:222]     Train net output #0: loss = 7.81466e-05 (* 1 = 7.81466e-05 loss)\r\n",
        "I0225 11:29:45.123173 1928278784 solver.cpp:419] Iteration 5200, lr = 0.00730495\r\n"
       ]
      },
      {
       "output_type": "stream",
       "stream": "stdout",
       "text": [
        "I0225 11:29:45.292206 1928278784 solver.cpp:207] Iteration 5300, loss = 0.000416916\r\n",
        "I0225 11:29:45.292248 1928278784 solver.cpp:222]     Train net output #0: loss = 0.00041692 (* 1 = 0.00041692 loss)\r\n",
        "I0225 11:29:45.292263 1928278784 solver.cpp:419] Iteration 5300, lr = 0.00726911\r\n"
       ]
      },
      {
       "output_type": "stream",
       "stream": "stdout",
       "text": [
        "I0225 11:29:45.447527 1928278784 solver.cpp:207] Iteration 5400, loss = 8.65362e-05\r\n",
        "I0225 11:29:45.447566 1928278784 solver.cpp:222]     Train net output #0: loss = 8.65409e-05 (* 1 = 8.65409e-05 loss)\r\n",
        "I0225 11:29:45.447574 1928278784 solver.cpp:419] Iteration 5400, lr = 0.00723368\r\n"
       ]
      },
      {
       "output_type": "stream",
       "stream": "stdout",
       "text": [
        "I0225 11:29:45.599535 1928278784 solver.cpp:263] Iteration 5500, Testing net (#0)\r\n"
       ]
      },
      {
       "output_type": "stream",
       "stream": "stdout",
       "text": [
        "I0225 11:29:45.770917 1928278784 solver.cpp:314]     Test net output #0: accuracy = 1\r\n",
        "I0225 11:29:45.770957 1928278784 solver.cpp:314]     Test net output #1: loss = 0.000142048 (* 1 = 0.000142048 loss)\r\n",
        "I0225 11:29:45.772409 1928278784 solver.cpp:207] Iteration 5500, loss = 7.76557e-05\r\n",
        "I0225 11:29:45.772428 1928278784 solver.cpp:222]     Train net output #0: loss = 7.76604e-05 (* 1 = 7.76604e-05 loss)\r\n",
        "I0225 11:29:45.772438 1928278784 solver.cpp:419] Iteration 5500, lr = 0.00719865\r\n"
       ]
      },
      {
       "output_type": "stream",
       "stream": "stdout",
       "text": [
        "I0225 11:29:45.925672 1928278784 solver.cpp:207] Iteration 5600, loss = 5.58356e-05\r\n",
        "I0225 11:29:45.925710 1928278784 solver.cpp:222]     Train net output #0: loss = 5.58402e-05 (* 1 = 5.58402e-05 loss)\r\n",
        "I0225 11:29:45.925719 1928278784 solver.cpp:419] Iteration 5600, lr = 0.00716402\r\n"
       ]
      },
      {
       "output_type": "stream",
       "stream": "stdout",
       "text": [
        "I0225 11:29:46.088510 1928278784 solver.cpp:207] Iteration 5700, loss = 9.24921e-05\r\n",
        "I0225 11:29:46.088551 1928278784 solver.cpp:222]     Train net output #0: loss = 9.24966e-05 (* 1 = 9.24966e-05 loss)\r\n",
        "I0225 11:29:46.088560 1928278784 solver.cpp:419] Iteration 5700, lr = 0.00712977\r\n"
       ]
      },
      {
       "output_type": "stream",
       "stream": "stdout",
       "text": [
        "I0225 11:29:46.241008 1928278784 solver.cpp:207] Iteration 5800, loss = 0.000102567\r\n",
        "I0225 11:29:46.241049 1928278784 solver.cpp:222]     Train net output #0: loss = 0.000102571 (* 1 = 0.000102571 loss)\r\n",
        "I0225 11:29:46.241057 1928278784 solver.cpp:419] Iteration 5800, lr = 0.0070959\r\n"
       ]
      },
      {
       "output_type": "stream",
       "stream": "stdout",
       "text": [
        "I0225 11:29:46.394500 1928278784 solver.cpp:207] Iteration 5900, loss = 0.000210411\r\n",
        "I0225 11:29:46.394541 1928278784 solver.cpp:222]     Train net output #0: loss = 0.000210415 (* 1 = 0.000210415 loss)\r\n",
        "I0225 11:29:46.394556 1928278784 solver.cpp:419] Iteration 5900, lr = 0.0070624\r\n"
       ]
      },
      {
       "output_type": "stream",
       "stream": "stdout",
       "text": [
        "I0225 11:29:46.547132 1928278784 solver.cpp:263] Iteration 6000, Testing net (#0)\r\n"
       ]
      },
      {
       "output_type": "stream",
       "stream": "stdout",
       "text": [
        "I0225 11:29:46.716092 1928278784 solver.cpp:314]     Test net output #0: accuracy = 1\r\n",
        "I0225 11:29:46.716127 1928278784 solver.cpp:314]     Test net output #1: loss = 0.000142198 (* 1 = 0.000142198 loss)\r\n",
        "I0225 11:29:46.717604 1928278784 solver.cpp:207] Iteration 6000, loss = 0.000102932\r\n",
        "I0225 11:29:46.717630 1928278784 solver.cpp:222]     Train net output #0: loss = 0.000102936 (* 1 = 0.000102936 loss)\r\n",
        "I0225 11:29:46.717640 1928278784 solver.cpp:419] Iteration 6000, lr = 0.00702927\r\n"
       ]
      },
      {
       "output_type": "stream",
       "stream": "stdout",
       "text": [
        "I0225 11:29:46.888382 1928278784 solver.cpp:207] Iteration 6100, loss = 8.44274e-05\r\n",
        "I0225 11:29:46.888428 1928278784 solver.cpp:222]     Train net output #0: loss = 8.44317e-05 (* 1 = 8.44317e-05 loss)\r\n",
        "I0225 11:29:46.888439 1928278784 solver.cpp:419] Iteration 6100, lr = 0.0069965\r\n"
       ]
      },
      {
       "output_type": "stream",
       "stream": "stdout",
       "text": [
        "I0225 11:29:47.052983 1928278784 solver.cpp:207] Iteration 6200, loss = 5.38226e-05\r\n",
        "I0225 11:29:47.053022 1928278784 solver.cpp:222]     Train net output #0: loss = 5.3827e-05 (* 1 = 5.3827e-05 loss)\r\n",
        "I0225 11:29:47.053030 1928278784 solver.cpp:419] Iteration 6200, lr = 0.00696408\r\n"
       ]
      },
      {
       "output_type": "stream",
       "stream": "stdout",
       "text": [
        "I0225 11:29:47.205576 1928278784 solver.cpp:207] Iteration 6300, loss = 0.000257069\r\n",
        "I0225 11:29:47.205612 1928278784 solver.cpp:222]     Train net output #0: loss = 0.000257074 (* 1 = 0.000257074 loss)\r\n",
        "I0225 11:29:47.205621 1928278784 solver.cpp:419] Iteration 6300, lr = 0.00693201\r\n"
       ]
      },
      {
       "output_type": "stream",
       "stream": "stdout",
       "text": [
        "I0225 11:29:47.361246 1928278784 solver.cpp:207] Iteration 6400, loss = 0.000293836\r\n",
        "I0225 11:29:47.361289 1928278784 solver.cpp:222]     Train net output #0: loss = 0.00029384 (* 1 = 0.00029384 loss)\r\n",
        "I0225 11:29:47.361304 1928278784 solver.cpp:419] Iteration 6400, lr = 0.00690029\r\n"
       ]
      },
      {
       "output_type": "stream",
       "stream": "stdout",
       "text": [
        "I0225 11:29:47.512787 1928278784 solver.cpp:263] Iteration 6500, Testing net (#0)\r\n"
       ]
      },
      {
       "output_type": "stream",
       "stream": "stdout",
       "text": [
        "I0225 11:29:47.678773 1928278784 solver.cpp:314]     Test net output #0: accuracy = 1\r\n",
        "I0225 11:29:47.678810 1928278784 solver.cpp:314]     Test net output #1: loss = 0.000144352 (* 1 = 0.000144352 loss)\r\n",
        "I0225 11:29:47.680263 1928278784 solver.cpp:207] Iteration 6500, loss = 6.16417e-05\r\n",
        "I0225 11:29:47.680286 1928278784 solver.cpp:222]     Train net output #0: loss = 6.1646e-05 (* 1 = 6.1646e-05 loss)\r\n",
        "I0225 11:29:47.680295 1928278784 solver.cpp:419] Iteration 6500, lr = 0.0068689\r\n"
       ]
      },
      {
       "output_type": "stream",
       "stream": "stdout",
       "text": [
        "I0225 11:29:47.835471 1928278784 solver.cpp:207] Iteration 6600, loss = 9.69548e-05\r\n",
        "I0225 11:29:47.835510 1928278784 solver.cpp:222]     Train net output #0: loss = 9.69591e-05 (* 1 = 9.69591e-05 loss)\r\n",
        "I0225 11:29:47.835520 1928278784 solver.cpp:419] Iteration 6600, lr = 0.00683784\r\n"
       ]
      },
      {
       "output_type": "stream",
       "stream": "stdout",
       "text": [
        "I0225 11:29:47.989760 1928278784 solver.cpp:207] Iteration 6700, loss = 4.09406e-05\r\n",
        "I0225 11:29:47.989799 1928278784 solver.cpp:222]     Train net output #0: loss = 4.09449e-05 (* 1 = 4.09449e-05 loss)\r\n",
        "I0225 11:29:47.989809 1928278784 solver.cpp:419] Iteration 6700, lr = 0.00680711\r\n"
       ]
      },
      {
       "output_type": "stream",
       "stream": "stdout",
       "text": [
        "I0225 11:29:48.151044 1928278784 solver.cpp:207] Iteration 6800, loss = 0.000139477\r\n",
        "I0225 11:29:48.151083 1928278784 solver.cpp:222]     Train net output #0: loss = 0.000139481 (* 1 = 0.000139481 loss)\r\n",
        "I0225 11:29:48.151093 1928278784 solver.cpp:419] Iteration 6800, lr = 0.0067767\r\n"
       ]
      },
      {
       "output_type": "stream",
       "stream": "stdout",
       "text": [
        "I0225 11:29:48.308153 1928278784 solver.cpp:207] Iteration 6900, loss = 9.36107e-05\r\n",
        "I0225 11:29:48.308195 1928278784 solver.cpp:222]     Train net output #0: loss = 9.3615e-05 (* 1 = 9.3615e-05 loss)\r\n",
        "I0225 11:29:48.308204 1928278784 solver.cpp:419] Iteration 6900, lr = 0.0067466\r\n"
       ]
      },
      {
       "output_type": "stream",
       "stream": "stdout",
       "text": [
        "I0225 11:29:48.474622 1928278784 solver.cpp:263] Iteration 7000, Testing net (#0)\r\n"
       ]
      },
      {
       "output_type": "stream",
       "stream": "stdout",
       "text": [
        "I0225 11:29:48.645804 1928278784 solver.cpp:314]     Test net output #0: accuracy = 1\r\n",
        "I0225 11:29:48.645844 1928278784 solver.cpp:314]     Test net output #1: loss = 0.000141533 (* 1 = 0.000141533 loss)\r\n",
        "I0225 11:29:48.647315 1928278784 solver.cpp:207] Iteration 7000, loss = 4.78959e-05\r\n",
        "I0225 11:29:48.647336 1928278784 solver.cpp:222]     Train net output #0: loss = 4.79003e-05 (* 1 = 4.79003e-05 loss)\r\n",
        "I0225 11:29:48.647344 1928278784 solver.cpp:419] Iteration 7000, lr = 0.00671681\r\n"
       ]
      },
      {
       "output_type": "stream",
       "stream": "stdout",
       "text": [
        "I0225 11:29:48.801530 1928278784 solver.cpp:207] Iteration 7100, loss = 0.000139372\r\n",
        "I0225 11:29:48.801568 1928278784 solver.cpp:222]     Train net output #0: loss = 0.000139376 (* 1 = 0.000139376 loss)\r\n",
        "I0225 11:29:48.801578 1928278784 solver.cpp:419] Iteration 7100, lr = 0.00668733\r\n"
       ]
      },
      {
       "output_type": "stream",
       "stream": "stdout",
       "text": [
        "I0225 11:29:48.956779 1928278784 solver.cpp:207] Iteration 7200, loss = 8.2486e-05\r\n",
        "I0225 11:29:48.956820 1928278784 solver.cpp:222]     Train net output #0: loss = 8.24904e-05 (* 1 = 8.24904e-05 loss)\r\n",
        "I0225 11:29:48.956828 1928278784 solver.cpp:419] Iteration 7200, lr = 0.00665815\r\n"
       ]
      },
      {
       "output_type": "stream",
       "stream": "stdout",
       "text": [
        "I0225 11:29:49.133050 1928278784 solver.cpp:207] Iteration 7300, loss = 4.37952e-05\r\n",
        "I0225 11:29:49.133090 1928278784 solver.cpp:222]     Train net output #0: loss = 4.37996e-05 (* 1 = 4.37996e-05 loss)\r\n",
        "I0225 11:29:49.133100 1928278784 solver.cpp:419] Iteration 7300, lr = 0.00662927\r\n"
       ]
      },
      {
       "output_type": "stream",
       "stream": "stdout",
       "text": [
        "I0225 11:29:49.289407 1928278784 solver.cpp:207] Iteration 7400, loss = 0.000549537\r\n",
        "I0225 11:29:49.289445 1928278784 solver.cpp:222]     Train net output #0: loss = 0.000549541 (* 1 = 0.000549541 loss)\r\n",
        "I0225 11:29:49.289454 1928278784 solver.cpp:419] Iteration 7400, lr = 0.00660067\r\n"
       ]
      },
      {
       "output_type": "stream",
       "stream": "stdout",
       "text": [
        "I0225 11:29:49.444771 1928278784 solver.cpp:263] Iteration 7500, Testing net (#0)\r\n"
       ]
      },
      {
       "output_type": "stream",
       "stream": "stdout",
       "text": [
        "I0225 11:29:49.615577 1928278784 solver.cpp:314]     Test net output #0: accuracy = 1\r\n",
        "I0225 11:29:49.615614 1928278784 solver.cpp:314]     Test net output #1: loss = 0.000140425 (* 1 = 0.000140425 loss)\r\n",
        "I0225 11:29:49.617094 1928278784 solver.cpp:207] Iteration 7500, loss = 7.96593e-05\r\n",
        "I0225 11:29:49.617117 1928278784 solver.cpp:222]     Train net output #0: loss = 7.96637e-05 (* 1 = 7.96637e-05 loss)\r\n",
        "I0225 11:29:49.617126 1928278784 solver.cpp:419] Iteration 7500, lr = 0.00657236\r\n"
       ]
      },
      {
       "output_type": "stream",
       "stream": "stdout",
       "text": [
        "I0225 11:29:49.772115 1928278784 solver.cpp:207] Iteration 7600, loss = 2.86022e-05\r\n",
        "I0225 11:29:49.772150 1928278784 solver.cpp:222]     Train net output #0: loss = 2.86066e-05 (* 1 = 2.86066e-05 loss)\r\n",
        "I0225 11:29:49.772193 1928278784 solver.cpp:419] Iteration 7600, lr = 0.00654433\r\n"
       ]
      },
      {
       "output_type": "stream",
       "stream": "stdout",
       "text": [
        "I0225 11:29:49.936897 1928278784 solver.cpp:207] Iteration 7700, loss = 3.82277e-05\r\n",
        "I0225 11:29:49.936933 1928278784 solver.cpp:222]     Train net output #0: loss = 3.82321e-05 (* 1 = 3.82321e-05 loss)\r\n",
        "I0225 11:29:49.936943 1928278784 solver.cpp:419] Iteration 7700, lr = 0.00651658\r\n"
       ]
      },
      {
       "output_type": "stream",
       "stream": "stdout",
       "text": [
        "I0225 11:29:50.100250 1928278784 solver.cpp:207] Iteration 7800, loss = 8.39509e-05\r\n",
        "I0225 11:29:50.100288 1928278784 solver.cpp:222]     Train net output #0: loss = 8.39551e-05 (* 1 = 8.39551e-05 loss)\r\n",
        "I0225 11:29:50.100297 1928278784 solver.cpp:419] Iteration 7800, lr = 0.00648911\r\n"
       ]
      },
      {
       "output_type": "stream",
       "stream": "stdout",
       "text": [
        "I0225 11:29:50.268990 1928278784 solver.cpp:207] Iteration 7900, loss = 9.11226e-05\r\n",
        "I0225 11:29:50.269028 1928278784 solver.cpp:222]     Train net output #0: loss = 9.11268e-05 (* 1 = 9.11268e-05 loss)\r\n",
        "I0225 11:29:50.269037 1928278784 solver.cpp:419] Iteration 7900, lr = 0.0064619\r\n"
       ]
      },
      {
       "output_type": "stream",
       "stream": "stdout",
       "text": [
        "I0225 11:29:50.423758 1928278784 solver.cpp:263] Iteration 8000, Testing net (#0)\r\n"
       ]
      },
      {
       "output_type": "stream",
       "stream": "stdout",
       "text": [
        "I0225 11:29:50.593240 1928278784 solver.cpp:314]     Test net output #0: accuracy = 1\r\n",
        "I0225 11:29:50.593277 1928278784 solver.cpp:314]     Test net output #1: loss = 0.000148145 (* 1 = 0.000148145 loss)\r\n",
        "I0225 11:29:50.594702 1928278784 solver.cpp:207] Iteration 8000, loss = 0.000111568\r\n",
        "I0225 11:29:50.594720 1928278784 solver.cpp:222]     Train net output #0: loss = 0.000111572 (* 1 = 0.000111572 loss)\r\n",
        "I0225 11:29:50.594728 1928278784 solver.cpp:419] Iteration 8000, lr = 0.00643496\r\n"
       ]
      },
      {
       "output_type": "stream",
       "stream": "stdout",
       "text": [
        "I0225 11:29:50.751531 1928278784 solver.cpp:207] Iteration 8100, loss = 0.000194006\r\n",
        "I0225 11:29:50.751571 1928278784 solver.cpp:222]     Train net output #0: loss = 0.00019401 (* 1 = 0.00019401 loss)\r\n",
        "I0225 11:29:50.751585 1928278784 solver.cpp:419] Iteration 8100, lr = 0.00640827\r\n"
       ]
      },
      {
       "output_type": "stream",
       "stream": "stdout",
       "text": [
        "I0225 11:29:50.904996 1928278784 solver.cpp:207] Iteration 8200, loss = 1.99874e-05\r\n",
        "I0225 11:29:50.905033 1928278784 solver.cpp:222]     Train net output #0: loss = 1.99919e-05 (* 1 = 1.99919e-05 loss)\r\n",
        "I0225 11:29:50.905042 1928278784 solver.cpp:419] Iteration 8200, lr = 0.00638185\r\n"
       ]
      },
      {
       "output_type": "stream",
       "stream": "stdout",
       "text": [
        "I0225 11:29:51.070060 1928278784 solver.cpp:207] Iteration 8300, loss = 5.67268e-05\r\n",
        "I0225 11:29:51.070099 1928278784 solver.cpp:222]     Train net output #0: loss = 5.67313e-05 (* 1 = 5.67313e-05 loss)\r\n",
        "I0225 11:29:51.070109 1928278784 solver.cpp:419] Iteration 8300, lr = 0.00635567\r\n"
       ]
      },
      {
       "output_type": "stream",
       "stream": "stdout",
       "text": [
        "I0225 11:29:51.223464 1928278784 solver.cpp:207] Iteration 8400, loss = 4.90958e-05\r\n",
        "I0225 11:29:51.223501 1928278784 solver.cpp:222]     Train net output #0: loss = 4.91001e-05 (* 1 = 4.91001e-05 loss)\r\n",
        "I0225 11:29:51.223510 1928278784 solver.cpp:419] Iteration 8400, lr = 0.00632975\r\n"
       ]
      },
      {
       "output_type": "stream",
       "stream": "stdout",
       "text": [
        "I0225 11:29:51.377338 1928278784 solver.cpp:263] Iteration 8500, Testing net (#0)\r\n"
       ]
      },
      {
       "output_type": "stream",
       "stream": "stdout",
       "text": [
        "I0225 11:29:51.544280 1928278784 solver.cpp:314]     Test net output #0: accuracy = 1\r\n",
        "I0225 11:29:51.544317 1928278784 solver.cpp:314]     Test net output #1: loss = 0.000144847 (* 1 = 0.000144847 loss)\r\n",
        "I0225 11:29:51.546294 1928278784 solver.cpp:207] Iteration 8500, loss = 4.89417e-05\r\n",
        "I0225 11:29:51.546319 1928278784 solver.cpp:222]     Train net output #0: loss = 4.89461e-05 (* 1 = 4.89461e-05 loss)\r\n",
        "I0225 11:29:51.546329 1928278784 solver.cpp:419] Iteration 8500, lr = 0.00630407\r\n"
       ]
      },
      {
       "output_type": "stream",
       "stream": "stdout",
       "text": [
        "I0225 11:29:51.704545 1928278784 solver.cpp:207] Iteration 8600, loss = 2.8857e-05\r\n",
        "I0225 11:29:51.704586 1928278784 solver.cpp:222]     Train net output #0: loss = 2.88615e-05 (* 1 = 2.88615e-05 loss)\r\n",
        "I0225 11:29:51.704593 1928278784 solver.cpp:419] Iteration 8600, lr = 0.00627864\r\n"
       ]
      },
      {
       "output_type": "stream",
       "stream": "stdout",
       "text": [
        "I0225 11:29:51.859415 1928278784 solver.cpp:207] Iteration 8700, loss = 2.57765e-05\r\n",
        "I0225 11:29:51.859452 1928278784 solver.cpp:222]     Train net output #0: loss = 2.57809e-05 (* 1 = 2.57809e-05 loss)\r\n",
        "I0225 11:29:51.859462 1928278784 solver.cpp:419] Iteration 8700, lr = 0.00625344\r\n"
       ]
      },
      {
       "output_type": "stream",
       "stream": "stdout",
       "text": [
        "I0225 11:29:52.038018 1928278784 solver.cpp:207] Iteration 8800, loss = 0.000464387\r\n",
        "I0225 11:29:52.038059 1928278784 solver.cpp:222]     Train net output #0: loss = 0.000464391 (* 1 = 0.000464391 loss)\r\n",
        "I0225 11:29:52.038069 1928278784 solver.cpp:419] Iteration 8800, lr = 0.00622847\r\n"
       ]
      },
      {
       "output_type": "stream",
       "stream": "stdout",
       "text": [
        "I0225 11:29:52.192821 1928278784 solver.cpp:207] Iteration 8900, loss = 0.000273981\r\n",
        "I0225 11:29:52.192893 1928278784 solver.cpp:222]     Train net output #0: loss = 0.000273986 (* 1 = 0.000273986 loss)\r\n",
        "I0225 11:29:52.192903 1928278784 solver.cpp:419] Iteration 8900, lr = 0.00620374\r\n"
       ]
      },
      {
       "output_type": "stream",
       "stream": "stdout",
       "text": [
        "I0225 11:29:52.345007 1928278784 solver.cpp:263] Iteration 9000, Testing net (#0)\r\n"
       ]
      },
      {
       "output_type": "stream",
       "stream": "stdout",
       "text": [
        "I0225 11:29:52.512408 1928278784 solver.cpp:314]     Test net output #0: accuracy = 1\r\n",
        "I0225 11:29:52.512447 1928278784 solver.cpp:314]     Test net output #1: loss = 0.000140887 (* 1 = 0.000140887 loss)\r\n",
        "I0225 11:29:52.513929 1928278784 solver.cpp:207] Iteration 9000, loss = 0.000353403\r\n",
        "I0225 11:29:52.513952 1928278784 solver.cpp:222]     Train net output #0: loss = 0.000353408 (* 1 = 0.000353408 loss)\r\n",
        "I0225 11:29:52.513960 1928278784 solver.cpp:419] Iteration 9000, lr = 0.00617924\r\n"
       ]
      },
      {
       "output_type": "stream",
       "stream": "stdout",
       "text": [
        "I0225 11:29:52.666476 1928278784 solver.cpp:207] Iteration 9100, loss = 0.000300826\r\n",
        "I0225 11:29:52.666515 1928278784 solver.cpp:222]     Train net output #0: loss = 0.00030083 (* 1 = 0.00030083 loss)\r\n",
        "I0225 11:29:52.666524 1928278784 solver.cpp:419] Iteration 9100, lr = 0.00615496\r\n"
       ]
      },
      {
       "output_type": "stream",
       "stream": "stdout",
       "text": [
        "I0225 11:29:52.822229 1928278784 solver.cpp:207] Iteration 9200, loss = 9.00986e-05\r\n",
        "I0225 11:29:52.822270 1928278784 solver.cpp:222]     Train net output #0: loss = 9.01033e-05 (* 1 = 9.01033e-05 loss)\r\n",
        "I0225 11:29:52.822278 1928278784 solver.cpp:419] Iteration 9200, lr = 0.0061309\r\n"
       ]
      },
      {
       "output_type": "stream",
       "stream": "stdout",
       "text": [
        "I0225 11:29:52.977318 1928278784 solver.cpp:207] Iteration 9300, loss = 0.000311395\r\n",
        "I0225 11:29:52.977356 1928278784 solver.cpp:222]     Train net output #0: loss = 0.0003114 (* 1 = 0.0003114 loss)\r\n",
        "I0225 11:29:52.977365 1928278784 solver.cpp:419] Iteration 9300, lr = 0.00610706\r\n"
       ]
      },
      {
       "output_type": "stream",
       "stream": "stdout",
       "text": [
        "I0225 11:29:53.151553 1928278784 solver.cpp:207] Iteration 9400, loss = 6.44502e-05\r\n",
        "I0225 11:29:53.151597 1928278784 solver.cpp:222]     Train net output #0: loss = 6.44548e-05 (* 1 = 6.44548e-05 loss)\r\n",
        "I0225 11:29:53.151605 1928278784 solver.cpp:419] Iteration 9400, lr = 0.00608343\r\n"
       ]
      },
      {
       "output_type": "stream",
       "stream": "stdout",
       "text": [
        "I0225 11:29:53.306926 1928278784 solver.cpp:263] Iteration 9500, Testing net (#0)\r\n"
       ]
      },
      {
       "output_type": "stream",
       "stream": "stdout",
       "text": [
        "I0225 11:29:53.482494 1928278784 solver.cpp:314]     Test net output #0: accuracy = 1\r\n",
        "I0225 11:29:53.482540 1928278784 solver.cpp:314]     Test net output #1: loss = 0.000153172 (* 1 = 0.000153172 loss)\r\n",
        "I0225 11:29:53.483988 1928278784 solver.cpp:207] Iteration 9500, loss = 0.000125792\r\n",
        "I0225 11:29:53.484010 1928278784 solver.cpp:222]     Train net output #0: loss = 0.000125797 (* 1 = 0.000125797 loss)\r\n",
        "I0225 11:29:53.484019 1928278784 solver.cpp:419] Iteration 9500, lr = 0.00606002\r\n"
       ]
      },
      {
       "output_type": "stream",
       "stream": "stdout",
       "text": [
        "I0225 11:29:53.668779 1928278784 solver.cpp:207] Iteration 9600, loss = 0.000150397\r\n",
        "I0225 11:29:53.668819 1928278784 solver.cpp:222]     Train net output #0: loss = 0.000150402 (* 1 = 0.000150402 loss)\r\n",
        "I0225 11:29:53.668828 1928278784 solver.cpp:419] Iteration 9600, lr = 0.00603682\r\n"
       ]
      },
      {
       "output_type": "stream",
       "stream": "stdout",
       "text": [
        "I0225 11:29:53.825649 1928278784 solver.cpp:207] Iteration 9700, loss = 4.47846e-05\r\n",
        "I0225 11:29:53.825685 1928278784 solver.cpp:222]     Train net output #0: loss = 4.47893e-05 (* 1 = 4.47893e-05 loss)\r\n",
        "I0225 11:29:53.825695 1928278784 solver.cpp:419] Iteration 9700, lr = 0.00601382\r\n"
       ]
      },
      {
       "output_type": "stream",
       "stream": "stdout",
       "text": [
        "I0225 11:29:53.979647 1928278784 solver.cpp:207] Iteration 9800, loss = 0.000132868\r\n",
        "I0225 11:29:53.979686 1928278784 solver.cpp:222]     Train net output #0: loss = 0.000132872 (* 1 = 0.000132872 loss)\r\n",
        "I0225 11:29:53.979696 1928278784 solver.cpp:419] Iteration 9800, lr = 0.00599102\r\n"
       ]
      },
      {
       "output_type": "stream",
       "stream": "stdout",
       "text": [
        "I0225 11:29:54.153054 1928278784 solver.cpp:207] Iteration 9900, loss = 9.15682e-05\r\n",
        "I0225 11:29:54.153095 1928278784 solver.cpp:222]     Train net output #0: loss = 9.1573e-05 (* 1 = 9.1573e-05 loss)\r\n",
        "I0225 11:29:54.153105 1928278784 solver.cpp:419] Iteration 9900, lr = 0.00596843\r\n"
       ]
      },
      {
       "output_type": "stream",
       "stream": "stdout",
       "text": [
        "I0225 11:29:54.305604 1928278784 solver.cpp:333] Snapshotting to examples/R2_hand_classification/data/train_iter_10000.caffemodel\r\n",
        "I0225 11:29:54.309643 1928278784 solver.cpp:340] Snapshotting solver state to examples/R2_hand_classification/data/train_iter_10000.solverstate\r\n",
        "I0225 11:29:54.315511 1928278784 solver.cpp:244] Iteration 10000, loss = 0.000176472\r\n",
        "I0225 11:29:54.315546 1928278784 solver.cpp:263] Iteration 10000, Testing net (#0)\r\n"
       ]
      },
      {
       "output_type": "stream",
       "stream": "stdout",
       "text": [
        "I0225 11:29:54.482945 1928278784 solver.cpp:314]     Test net output #0: accuracy = 1\r\n",
        "I0225 11:29:54.482985 1928278784 solver.cpp:314]     Test net output #1: loss = 0.000151718 (* 1 = 0.000151718 loss)\r\n",
        "I0225 11:29:54.482992 1928278784 solver.cpp:249] Optimization Done.\r\n",
        "I0225 11:29:54.482997 1928278784 caffe.cpp:121] Optimization Done.\r\n"
       ]
      }
     ],
     "prompt_number": 12
    },
    {
     "cell_type": "code",
     "collapsed": false,
     "input": [
      "!cd .. && ./build/tools/caffe train -solver examples/mnist/mnist_autoencoder_solver.prototxt"
     ],
     "language": "python",
     "metadata": {},
     "outputs": [
      {
       "output_type": "stream",
       "stream": "stdout",
       "text": [
        "I0309 02:20:20.997742 1946825472 caffe.cpp:103] Use CPU.\r\n",
        "I0309 02:20:20.998900 1946825472 caffe.cpp:107] Starting Optimization\r\n",
        "I0309 02:20:20.998914 1946825472 solver.cpp:32] Initializing solver from parameters: \r\n",
        "test_iter: 500\r\n",
        "test_iter: 100\r\n",
        "test_interval: 500\r\n",
        "base_lr: 0.01\r\n",
        "display: 100\r\n",
        "max_iter: 65000\r\n",
        "lr_policy: \"step\"\r\n",
        "gamma: 0.1\r\n",
        "momentum: 0.9\r\n",
        "weight_decay: 0.0005\r\n",
        "stepsize: 10000\r\n",
        "snapshot: 10000\r\n",
        "snapshot_prefix: \"examples/mnist/mnist_autoencoder\"\r\n",
        "solver_mode: CPU\r\n",
        "test_compute_loss: true\r\n",
        "net: \"examples/mnist/mnist_autoencoder.prototxt\"\r\n",
        "test_state {\r\n",
        "  stage: \"test-on-train\"\r\n",
        "}\r\n",
        "test_state {\r\n",
        "  stage: \"test-on-test\"\r\n",
        "}\r\n",
        "I0309 02:20:20.999074 1946825472 solver.cpp:67] Creating training net from net file: examples/mnist/mnist_autoencoder.prototxt\r\n",
        "I0309 02:20:21.000633 1946825472 net.cpp:275] The NetState phase (0) differed from the phase (1) specified by a rule in layer data\r\n",
        "I0309 02:20:21.000907 1946825472 net.cpp:275] The NetState phase (0) differed from the phase (1) specified by a rule in layer data\r\n",
        "I0309 02:20:21.000926 1946825472 net.cpp:39] Initializing net from parameters: \r\n",
        "name: \"MNISTAutoencoder\"\r\n",
        "layers {\r\n",
        "  top: \"data\"\r\n",
        "  name: \"data\"\r\n",
        "  type: DATA\r\n",
        "  data_param {\r\n",
        "    source: \"examples/mnist/mnist_train_lmdb\"\r\n",
        "    batch_size: 100\r\n",
        "    backend: LMDB\r\n",
        "  }\r\n",
        "  include {\r\n",
        "    phase: TRAIN\r\n",
        "  }\r\n",
        "  transform_param {\r\n",
        "    scale: 0.0039215684\r\n",
        "  }\r\n",
        "}\r\n",
        "layers {\r\n",
        "  bottom: \"data\"\r\n",
        "  top: \"flatdata\"\r\n",
        "  name: \"flatdata\"\r\n",
        "  type: FLATTEN\r\n",
        "}\r\n",
        "layers {\r\n",
        "  bottom: \"data\"\r\n",
        "  top: \"encode1\"\r\n",
        "  name: \"encode1\"\r\n",
        "  type: INNER_PRODUCT\r\n",
        "  blobs_lr: 1\r\n",
        "  blobs_lr: 1\r\n",
        "  weight_decay: 1\r\n",
        "  weight_decay: 0\r\n",
        "  inner_product_param {\r\n",
        "    num_output: 1000\r\n",
        "    weight_filler {\r\n",
        "      type: \"gaussian\"\r\n",
        "      std: 1\r\n",
        "      sparse: 15\r\n",
        "    }\r\n",
        "    bias_filler {\r\n",
        "      type: \"constant\"\r\n",
        "      value: 0\r\n",
        "    }\r\n",
        "  }\r\n",
        "}\r\n",
        "layers {\r\n",
        "  bottom: \"encode1\"\r\n",
        "  top: \"encode1neuron\"\r\n",
        "  name: \"encode1neuron\"\r\n",
        "  type: SIGMOID\r\n",
        "}\r\n",
        "layers {\r\n",
        "  bottom: \"encode1neuron\"\r\n",
        "  top: \"encode2\"\r\n",
        "  name: \"encode2\"\r\n",
        "  type: INNER_PRODUCT\r\n",
        "  blobs_lr: 1\r\n",
        "  blobs_lr: 1\r\n",
        "  weight_decay: 1\r\n",
        "  weight_decay: 0\r\n",
        "  inner_product_param {\r\n",
        "    num_output: 500\r\n",
        "    weight_filler {\r\n",
        "      type: \"gaussian\"\r\n",
        "      std: 1\r\n",
        "      sparse: 15\r\n",
        "    }\r\n",
        "    bias_filler {\r\n",
        "      type: \"constant\"\r\n",
        "      value: 0\r\n",
        "    }\r\n",
        "  }\r\n",
        "}\r\n",
        "layers {\r\n",
        "  bottom: \"encode2\"\r\n",
        "  top: \"encode2neuron\"\r\n",
        "  name: \"encode2neuron\"\r\n",
        "  type: SIGMOID\r\n",
        "}\r\n",
        "layers {\r\n",
        "  bottom: \"encode2neuron\"\r\n",
        "  top: \"encode3\"\r\n",
        "  name: \"encode3\"\r\n",
        "  type: INNER_PRODUCT\r\n",
        "  blobs_lr: 1\r\n",
        "  blobs_lr: 1\r\n",
        "  weight_decay: 1\r\n",
        "  weight_decay: 0\r\n",
        "  inner_product_param {\r\n",
        "    num_output: 250\r\n",
        "    weight_filler {\r\n",
        "      type: \"gaussian\"\r\n",
        "      std: 1\r\n",
        "      sparse: 15\r\n",
        "    }\r\n",
        "    bias_filler {\r\n",
        "      type: \"constant\"\r\n",
        "      value: 0\r\n",
        "    }\r\n",
        "  }\r\n",
        "}\r\n",
        "layers {\r\n",
        "  bottom: \"encode3\"\r\n",
        "  top: \"encode3neuron\"\r\n",
        "  name: \"encode3neuron\"\r\n",
        "  type: SIGMOID\r\n",
        "}\r\n",
        "layers {\r\n",
        "  bottom: \"encode3neuron\"\r\n",
        "  top: \"encode4\"\r\n",
        "  name: \"encode4\"\r\n",
        "  type: INNER_PRODUCT\r\n",
        "  blobs_lr: 1\r\n",
        "  blobs_lr: 1\r\n",
        "  weight_decay: 1\r\n",
        "  weight_decay: 0\r\n",
        "  inner_product_param {\r\n",
        "    num_output: 30\r\n",
        "    weight_filler {\r\n",
        "      type: \"gaussian\"\r\n",
        "      std: 1\r\n",
        "      sparse: 15\r\n",
        "    }\r\n",
        "    bias_filler {\r\n",
        "      type: \"constant\"\r\n",
        "      value: 0\r\n",
        "    }\r\n",
        "  }\r\n",
        "}\r\n",
        "layers {\r\n",
        "  bottom: \"encode4\"\r\n",
        "  top: \"decode4\"\r\n",
        "  name: \"decode4\"\r\n",
        "  type: INNER_PRODUCT\r\n",
        "  blobs_lr: 1\r\n",
        "  blobs_lr: 1\r\n",
        "  weight_decay: 1\r\n",
        "  weight_decay: 0\r\n",
        "  inner_product_param {\r\n",
        "    num_output: 250\r\n",
        "    weight_filler {\r\n",
        "      type: \"gaussian\"\r\n",
        "      std: 1\r\n",
        "      sparse: 15\r\n",
        "    }\r\n",
        "    bias_filler {\r\n",
        "      type: \"constant\"\r\n",
        "      value: 0\r\n",
        "    }\r\n",
        "  }\r\n",
        "}\r\n",
        "layers {\r\n",
        "  bottom: \"decode4\"\r\n",
        "  top: \"decode4neuron\"\r\n",
        "  name: \"decode4neuron\"\r\n",
        "  type: SIGMOID\r\n",
        "}\r\n",
        "layers {\r\n",
        "  bottom: \"decode4neuron\"\r\n",
        "  top: \"decode3\"\r\n",
        "  name: \"decode3\"\r\n",
        "  type: INNER_PRODUCT\r\n",
        "  blobs_lr: 1\r\n",
        "  blobs_lr: 1\r\n",
        "  weight_decay: 1\r\n",
        "  weight_decay: 0\r\n",
        "  inner_product_param {\r\n",
        "    num_output: 500\r\n",
        "    weight_filler {\r\n",
        "      type: \"gaussian\"\r\n",
        "      std: 1\r\n",
        "      sparse: 15\r\n",
        "    }\r\n",
        "    bias_filler {\r\n",
        "      type: \"constant\"\r\n",
        "      value: 0\r\n",
        "    }\r\n",
        "  }\r\n",
        "}\r\n",
        "layers {\r\n",
        "  bottom: \"decode3\"\r\n",
        "  top: \"decode3neuron\"\r\n",
        "  name: \"decode3neuron\"\r\n",
        "  type: SIGMOID\r\n",
        "}\r\n",
        "layers {\r\n",
        "  bottom: \"decode3neuron\"\r\n",
        "  top: \"decode2\"\r\n",
        "  name: \"decode2\"\r\n",
        "  type: INNER_PRODUCT\r\n",
        "  blobs_lr: 1\r\n",
        "  blobs_lr: 1\r\n",
        "  weight_decay: 1\r\n",
        "  weight_decay: 0\r\n",
        "  inner_product_param {\r\n",
        "    num_output: 1000\r\n",
        "    weight_filler {\r\n",
        "      type: \"gaussian\"\r\n",
        "      std: 1\r\n",
        "      sparse: 15\r\n",
        "    }\r\n",
        "    bias_filler {\r\n",
        "      type: \"constant\"\r\n",
        "      value: 0\r\n",
        "    }\r\n",
        "  }\r\n",
        "}\r\n",
        "layers {\r\n",
        "  bottom: \"decode2\"\r\n",
        "  top: \"decode2neuron\"\r\n",
        "  name: \"decode2neuron\"\r\n",
        "  type: SIGMOID\r\n",
        "}\r\n",
        "layers {\r\n",
        "  bottom: \"decode2neuron\"\r\n",
        "  top: \"decode1\"\r\n",
        "  name: \"decode1\"\r\n",
        "  type: INNER_PRODUCT\r\n",
        "  blobs_lr: 1\r\n",
        "  blobs_lr: 1\r\n",
        "  weight_decay: 1\r\n",
        "  weight_decay: 0\r\n",
        "  inner_product_param {\r\n",
        "    num_output: 784\r\n",
        "    weight_filler {\r\n",
        "      type: \"gaussian\"\r\n",
        "      std: 1\r\n",
        "      sparse: 15\r\n",
        "    }\r\n",
        "    bias_filler {\r\n",
        "      type: \"constant\"\r\n",
        "      value: 0\r\n",
        "    }\r\n",
        "  }\r\n",
        "}\r\n",
        "layers {\r\n",
        "  bottom: \"decode1\"\r\n",
        "  bottom: \"flatdata\"\r\n",
        "  top: \"cross_entropy_loss\"\r\n",
        "  name: \"loss\"\r\n",
        "  type: SIGMOID_CROSS_ENTROPY_LOSS\r\n",
        "  loss_weight: 1\r\n",
        "}\r\n",
        "layers {\r\n",
        "  bottom: \"decode1\"\r\n",
        "  top: \"decode1neuron\"\r\n",
        "  name: \"decode1neuron\"\r\n",
        "  type: SIGMOID\r\n",
        "}\r\n",
        "layers {\r\n",
        "  bottom: \"decode1neuron\"\r\n",
        "  bottom: \"flatdata\"\r\n",
        "  top: \"l2_error\"\r\n",
        "  name: \"loss\"\r\n",
        "  type: EUCLIDEAN_LOSS\r\n",
        "  loss_weight: 0\r\n",
        "}\r\n",
        "state {\r\n",
        "  phase: TRAIN\r\n",
        "}\r\n",
        "I0309 02:20:21.002043 1946825472 layer_factory.hpp:78] Creating layer data\r\n",
        "I0309 02:20:21.002068 1946825472 net.cpp:67] Creating Layer data\r\n",
        "I0309 02:20:21.002079 1946825472 net.cpp:356] data -> data\r\n",
        "I0309 02:20:21.002097 1946825472 net.cpp:96] Setting up data\r\n",
        "I0309 02:20:21.003692 1946825472 data_layer.cpp:68] Opening lmdb examples/mnist/mnist_train_lmdb\r\n",
        "I0309 02:20:21.004439 1946825472 data_layer.cpp:131] output data size: 100,1,28,28\r\n",
        "I0309 02:20:21.004950 1946825472 net.cpp:103] Top shape: 100 1 28 28 (78400)\r\n",
        "I0309 02:20:21.004981 1946825472 layer_factory.hpp:78] Creating layer data_data_0_split\r\n",
        "I0309 02:20:21.005007 1946825472 net.cpp:67] Creating Layer data_data_0_split\r\n",
        "I0309 02:20:21.005018 1946825472 net.cpp:394] data_data_0_split <- data\r\n"
       ]
      },
      {
       "output_type": "stream",
       "stream": "stdout",
       "text": [
        "I0309 02:20:21.005035 1946825472 net.cpp:356] data_data_0_split -> data_data_0_split_0\r\n",
        "I0309 02:20:21.005054 1946825472 net.cpp:356] data_data_0_split -> data_data_0_split_1\r\n",
        "I0309 02:20:21.005066 1946825472 net.cpp:96] Setting up data_data_0_split\r\n",
        "I0309 02:20:21.005075 1946825472 net.cpp:103] Top shape: 100 1 28 28 (78400)\r\n",
        "I0309 02:20:21.005080 1946825472 net.cpp:103] Top shape: 100 1 28 28 (78400)\r\n",
        "I0309 02:20:21.005085 1946825472 layer_factory.hpp:78] Creating layer flatdata\r\n",
        "I0309 02:20:21.005092 1946825472 net.cpp:67] Creating Layer flatdata\r\n",
        "I0309 02:20:21.005097 1946825472 net.cpp:394] flatdata <- data_data_0_split_0\r\n",
        "I0309 02:20:21.005108 1946825472 net.cpp:356] flatdata -> flatdata\r\n",
        "I0309 02:20:21.005115 1946825472 net.cpp:96] Setting up flatdata\r\n",
        "I0309 02:20:21.005121 1946825472 net.cpp:103] Top shape: 100 784 1 1 (78400)\r\n",
        "I0309 02:20:21.005126 1946825472 layer_factory.hpp:78] Creating layer flatdata_flatdata_0_split\r\n",
        "I0309 02:20:21.005132 1946825472 net.cpp:67] Creating Layer flatdata_flatdata_0_split\r\n",
        "I0309 02:20:21.006646 1946825472 net.cpp:394] flatdata_flatdata_0_split <- flatdata\r\n",
        "I0309 02:20:21.006696 1946825472 net.cpp:356] flatdata_flatdata_0_split -> flatdata_flatdata_0_split_0\r\n",
        "I0309 02:20:21.006721 1946825472 net.cpp:356] flatdata_flatdata_0_split -> flatdata_flatdata_0_split_1\r\n",
        "I0309 02:20:21.006734 1946825472 net.cpp:96] Setting up flatdata_flatdata_0_split\r\n",
        "I0309 02:20:21.006748 1946825472 net.cpp:103] Top shape: 100 784 1 1 (78400)\r\n",
        "I0309 02:20:21.006757 1946825472 net.cpp:103] Top shape: 100 784 1 1 (78400)\r\n",
        "I0309 02:20:21.006767 1946825472 layer_factory.hpp:78] Creating layer encode1\r\n",
        "I0309 02:20:21.006786 1946825472 net.cpp:67] Creating Layer encode1\r\n",
        "I0309 02:20:21.006795 1946825472 net.cpp:394] encode1 <- data_data_0_split_1\r\n",
        "I0309 02:20:21.006808 1946825472 net.cpp:356] encode1 -> encode1\r\n",
        "I0309 02:20:21.006822 1946825472 net.cpp:96] Setting up encode1\r\n",
        "I0309 02:20:21.030575 1946825472 net.cpp:103] Top shape: 100 1000 1 1 (100000)\r\n",
        "I0309 02:20:21.030627 1946825472 layer_factory.hpp:78] Creating layer encode1neuron\r\n",
        "I0309 02:20:21.030652 1946825472 net.cpp:67] Creating Layer encode1neuron\r\n",
        "I0309 02:20:21.030660 1946825472 net.cpp:394] encode1neuron <- encode1\r\n",
        "I0309 02:20:21.030670 1946825472 net.cpp:356] encode1neuron -> encode1neuron\r\n",
        "I0309 02:20:21.030681 1946825472 net.cpp:96] Setting up encode1neuron\r\n",
        "I0309 02:20:21.030730 1946825472 net.cpp:103] Top shape: 100 1000 1 1 (100000)\r\n",
        "I0309 02:20:21.030735 1946825472 layer_factory.hpp:78] Creating layer encode2\r\n",
        "I0309 02:20:21.030745 1946825472 net.cpp:67] Creating Layer encode2\r\n",
        "I0309 02:20:21.030751 1946825472 net.cpp:394] encode2 <- encode1neuron\r\n",
        "I0309 02:20:21.030763 1946825472 net.cpp:356] encode2 -> encode2\r\n",
        "I0309 02:20:21.030774 1946825472 net.cpp:96] Setting up encode2\r\n",
        "I0309 02:20:21.042075 1946825472 net.cpp:103] Top shape: 100 500 1 1 (50000)\r\n",
        "I0309 02:20:21.042119 1946825472 layer_factory.hpp:78] Creating layer encode2neuron\r\n",
        "I0309 02:20:21.042134 1946825472 net.cpp:67] Creating Layer encode2neuron\r\n",
        "I0309 02:20:21.042140 1946825472 net.cpp:394] encode2neuron <- encode2\r\n",
        "I0309 02:20:21.042155 1946825472 net.cpp:356] encode2neuron -> encode2neuron\r\n",
        "I0309 02:20:21.042167 1946825472 net.cpp:96] Setting up encode2neuron\r\n",
        "I0309 02:20:21.042175 1946825472 net.cpp:103] Top shape: 100 500 1 1 (50000)\r\n",
        "I0309 02:20:21.042179 1946825472 layer_factory.hpp:78] Creating layer encode3\r\n",
        "I0309 02:20:21.042191 1946825472 net.cpp:67] Creating Layer encode3\r\n",
        "I0309 02:20:21.042196 1946825472 net.cpp:394] encode3 <- encode2neuron\r\n",
        "I0309 02:20:21.042204 1946825472 net.cpp:356] encode3 -> encode3\r\n",
        "I0309 02:20:21.042213 1946825472 net.cpp:96] Setting up encode3\r\n",
        "I0309 02:20:21.045771 1946825472 net.cpp:103] Top shape: 100 250 1 1 (25000)\r\n",
        "I0309 02:20:21.045850 1946825472 layer_factory.hpp:78] Creating layer encode3neuron\r\n",
        "I0309 02:20:21.045868 1946825472 net.cpp:67] Creating Layer encode3neuron\r\n",
        "I0309 02:20:21.045876 1946825472 net.cpp:394] encode3neuron <- encode3\r\n",
        "I0309 02:20:21.045887 1946825472 net.cpp:356] encode3neuron -> encode3neuron\r\n",
        "I0309 02:20:21.045899 1946825472 net.cpp:96] Setting up encode3neuron\r\n",
        "I0309 02:20:21.045907 1946825472 net.cpp:103] Top shape: 100 250 1 1 (25000)\r\n",
        "I0309 02:20:21.045912 1946825472 layer_factory.hpp:78] Creating layer encode4\r\n",
        "I0309 02:20:21.045922 1946825472 net.cpp:67] Creating Layer encode4\r\n",
        "I0309 02:20:21.045928 1946825472 net.cpp:394] encode4 <- encode3neuron\r\n",
        "I0309 02:20:21.045938 1946825472 net.cpp:356] encode4 -> encode4\r\n",
        "I0309 02:20:21.045951 1946825472 net.cpp:96] Setting up encode4\r\n",
        "I0309 02:20:21.046223 1946825472 net.cpp:103] Top shape: 100 30 1 1 (3000)\r\n",
        "I0309 02:20:21.046244 1946825472 layer_factory.hpp:78] Creating layer decode4\r\n",
        "I0309 02:20:21.046255 1946825472 net.cpp:67] Creating Layer decode4\r\n",
        "I0309 02:20:21.046262 1946825472 net.cpp:394] decode4 <- encode4\r\n",
        "I0309 02:20:21.046272 1946825472 net.cpp:356] decode4 -> decode4\r\n",
        "I0309 02:20:21.046282 1946825472 net.cpp:96] Setting up decode4\r\n",
        "I0309 02:20:21.046474 1946825472 net.cpp:103] Top shape: 100 250 1 1 (25000)\r\n",
        "I0309 02:20:21.046499 1946825472 layer_factory.hpp:78] Creating layer decode4neuron\r\n",
        "I0309 02:20:21.046514 1946825472 net.cpp:67] Creating Layer decode4neuron\r\n",
        "I0309 02:20:21.046525 1946825472 net.cpp:394] decode4neuron <- decode4\r\n",
        "I0309 02:20:21.046537 1946825472 net.cpp:356] decode4neuron -> decode4neuron\r\n",
        "I0309 02:20:21.046550 1946825472 net.cpp:96] Setting up decode4neuron\r\n",
        "I0309 02:20:21.046557 1946825472 net.cpp:103] Top shape: 100 250 1 1 (25000)\r\n",
        "I0309 02:20:21.046562 1946825472 layer_factory.hpp:78] Creating layer decode3\r\n",
        "I0309 02:20:21.046571 1946825472 net.cpp:67] Creating Layer decode3\r\n",
        "I0309 02:20:21.046577 1946825472 net.cpp:394] decode3 <- decode4neuron\r\n",
        "I0309 02:20:21.046584 1946825472 net.cpp:356] decode3 -> decode3\r\n",
        "I0309 02:20:21.046593 1946825472 net.cpp:96] Setting up decode3\r\n",
        "I0309 02:20:21.049476 1946825472 net.cpp:103] Top shape: 100 500 1 1 (50000)\r\n",
        "I0309 02:20:21.049515 1946825472 layer_factory.hpp:78] Creating layer decode3neuron\r\n",
        "I0309 02:20:21.049525 1946825472 net.cpp:67] Creating Layer decode3neuron\r\n",
        "I0309 02:20:21.049532 1946825472 net.cpp:394] decode3neuron <- decode3\r\n",
        "I0309 02:20:21.049541 1946825472 net.cpp:356] decode3neuron -> decode3neuron\r\n",
        "I0309 02:20:21.049553 1946825472 net.cpp:96] Setting up decode3neuron\r\n",
        "I0309 02:20:21.049561 1946825472 net.cpp:103] Top shape: 100 500 1 1 (50000)\r\n",
        "I0309 02:20:21.049566 1946825472 layer_factory.hpp:78] Creating layer decode2\r\n",
        "I0309 02:20:21.049574 1946825472 net.cpp:67] Creating Layer decode2\r\n",
        "I0309 02:20:21.049621 1946825472 net.cpp:394] decode2 <- decode3neuron\r\n",
        "I0309 02:20:21.049630 1946825472 net.cpp:356] decode2 -> decode2\r\n",
        "I0309 02:20:21.049639 1946825472 net.cpp:96] Setting up decode2\r\n"
       ]
      },
      {
       "output_type": "stream",
       "stream": "stdout",
       "text": [
        "I0309 02:20:21.060833 1946825472 net.cpp:103] Top shape: 100 1000 1 1 (100000)\r\n",
        "I0309 02:20:21.060921 1946825472 layer_factory.hpp:78] Creating layer decode2neuron\r\n",
        "I0309 02:20:21.060947 1946825472 net.cpp:67] Creating Layer decode2neuron\r\n",
        "I0309 02:20:21.060956 1946825472 net.cpp:394] decode2neuron <- decode2\r\n",
        "I0309 02:20:21.060966 1946825472 net.cpp:356] decode2neuron -> decode2neuron\r\n",
        "I0309 02:20:21.060976 1946825472 net.cpp:96] Setting up decode2neuron\r\n",
        "I0309 02:20:21.060983 1946825472 net.cpp:103] Top shape: 100 1000 1 1 (100000)\r\n",
        "I0309 02:20:21.060988 1946825472 layer_factory.hpp:78] Creating layer decode1\r\n",
        "I0309 02:20:21.060997 1946825472 net.cpp:67] Creating Layer decode1\r\n",
        "I0309 02:20:21.061003 1946825472 net.cpp:394] decode1 <- decode2neuron\r\n",
        "I0309 02:20:21.061010 1946825472 net.cpp:356] decode1 -> decode1\r\n",
        "I0309 02:20:21.061019 1946825472 net.cpp:96] Setting up decode1\r\n",
        "I0309 02:20:21.080859 1946825472 net.cpp:103] Top shape: 100 784 1 1 (78400)\r\n",
        "I0309 02:20:21.080916 1946825472 layer_factory.hpp:78] Creating layer decode1_decode1_0_split\r\n",
        "I0309 02:20:21.080931 1946825472 net.cpp:67] Creating Layer decode1_decode1_0_split\r\n",
        "I0309 02:20:21.080940 1946825472 net.cpp:394] decode1_decode1_0_split <- decode1\r\n",
        "I0309 02:20:21.080950 1946825472 net.cpp:356] decode1_decode1_0_split -> decode1_decode1_0_split_0\r\n",
        "I0309 02:20:21.080965 1946825472 net.cpp:356] decode1_decode1_0_split -> decode1_decode1_0_split_1\r\n",
        "I0309 02:20:21.080972 1946825472 net.cpp:96] Setting up decode1_decode1_0_split\r\n",
        "I0309 02:20:21.080981 1946825472 net.cpp:103] Top shape: 100 784 1 1 (78400)\r\n",
        "I0309 02:20:21.080986 1946825472 net.cpp:103] Top shape: 100 784 1 1 (78400)\r\n",
        "I0309 02:20:21.080991 1946825472 layer_factory.hpp:78] Creating layer loss\r\n",
        "I0309 02:20:21.081017 1946825472 net.cpp:67] Creating Layer loss\r\n",
        "I0309 02:20:21.081025 1946825472 net.cpp:394] loss <- decode1_decode1_0_split_0\r\n",
        "I0309 02:20:21.081032 1946825472 net.cpp:394] loss <- flatdata_flatdata_0_split_0\r\n",
        "I0309 02:20:21.081040 1946825472 net.cpp:356] loss -> cross_entropy_loss\r\n",
        "I0309 02:20:21.081048 1946825472 net.cpp:96] Setting up loss\r\n",
        "I0309 02:20:21.081082 1946825472 net.cpp:103] Top shape: 1 1 1 1 (1)\r\n",
        "I0309 02:20:21.081089 1946825472 net.cpp:109]     with loss weight 1\r\n",
        "I0309 02:20:21.081112 1946825472 layer_factory.hpp:78] Creating layer decode1neuron\r\n",
        "I0309 02:20:21.081120 1946825472 net.cpp:67] Creating Layer decode1neuron\r\n",
        "I0309 02:20:21.081125 1946825472 net.cpp:394] decode1neuron <- decode1_decode1_0_split_1\r\n",
        "I0309 02:20:21.081133 1946825472 net.cpp:356] decode1neuron -> decode1neuron\r\n",
        "I0309 02:20:21.081141 1946825472 net.cpp:96] Setting up decode1neuron\r\n",
        "I0309 02:20:21.081146 1946825472 net.cpp:103] Top shape: 100 784 1 1 (78400)\r\n",
        "I0309 02:20:21.081228 1946825472 layer_factory.hpp:78] Creating layer loss\r\n",
        "I0309 02:20:21.081238 1946825472 net.cpp:67] Creating Layer loss\r\n",
        "I0309 02:20:21.081244 1946825472 net.cpp:394] loss <- decode1neuron\r\n",
        "I0309 02:20:21.081251 1946825472 net.cpp:394] loss <- flatdata_flatdata_0_split_1\r\n",
        "I0309 02:20:21.081262 1946825472 net.cpp:356] loss -> l2_error\r\n",
        "I0309 02:20:21.081272 1946825472 net.cpp:96] Setting up loss\r\n",
        "I0309 02:20:21.081279 1946825472 net.cpp:103] Top shape: 1 1 1 1 (1)\r\n",
        "I0309 02:20:21.081284 1946825472 net.cpp:172] loss does not need backward computation.\r\n",
        "I0309 02:20:21.081290 1946825472 net.cpp:172] decode1neuron does not need backward computation.\r\n",
        "I0309 02:20:21.081295 1946825472 net.cpp:170] loss needs backward computation.\r\n",
        "I0309 02:20:21.081300 1946825472 net.cpp:170] decode1_decode1_0_split needs backward computation.\r\n",
        "I0309 02:20:21.081305 1946825472 net.cpp:170] decode1 needs backward computation.\r\n",
        "I0309 02:20:21.081310 1946825472 net.cpp:170] decode2neuron needs backward computation.\r\n",
        "I0309 02:20:21.081393 1946825472 net.cpp:170] decode2 needs backward computation.\r\n",
        "I0309 02:20:21.081400 1946825472 net.cpp:170] decode3neuron needs backward computation.\r\n",
        "I0309 02:20:21.081454 1946825472 net.cpp:170] decode3 needs backward computation.\r\n",
        "I0309 02:20:21.081459 1946825472 net.cpp:170] decode4neuron needs backward computation.\r\n",
        "I0309 02:20:21.081465 1946825472 net.cpp:170] decode4 needs backward computation.\r\n",
        "I0309 02:20:21.081471 1946825472 net.cpp:170] encode4 needs backward computation.\r\n",
        "I0309 02:20:21.081476 1946825472 net.cpp:170] encode3neuron needs backward computation.\r\n",
        "I0309 02:20:21.081482 1946825472 net.cpp:170] encode3 needs backward computation.\r\n",
        "I0309 02:20:21.081487 1946825472 net.cpp:170] encode2neuron needs backward computation.\r\n",
        "I0309 02:20:21.081493 1946825472 net.cpp:170] encode2 needs backward computation.\r\n",
        "I0309 02:20:21.081500 1946825472 net.cpp:170] encode1neuron needs backward computation.\r\n",
        "I0309 02:20:21.081504 1946825472 net.cpp:170] encode1 needs backward computation.\r\n",
        "I0309 02:20:21.081560 1946825472 net.cpp:172] flatdata_flatdata_0_split does not need backward computation.\r\n",
        "I0309 02:20:21.081568 1946825472 net.cpp:172] flatdata does not need backward computation.\r\n",
        "I0309 02:20:21.081573 1946825472 net.cpp:172] data_data_0_split does not need backward computation.\r\n",
        "I0309 02:20:21.081578 1946825472 net.cpp:172] data does not need backward computation.\r\n",
        "I0309 02:20:21.081583 1946825472 net.cpp:208] This network produces output cross_entropy_loss\r\n",
        "I0309 02:20:21.081591 1946825472 net.cpp:208] This network produces output l2_error\r\n",
        "I0309 02:20:21.081609 1946825472 net.cpp:467] Collecting Learning Rate and Weight Decay.\r\n",
        "I0309 02:20:21.081619 1946825472 net.cpp:219] Network initialization done.\r\n",
        "I0309 02:20:21.081624 1946825472 net.cpp:220] Memory required for data: 5948008\r\n",
        "I0309 02:20:21.083401 1946825472 solver.cpp:151] Creating test net (#0) specified by net file: examples/mnist/mnist_autoencoder.prototxt\r\n",
        "I0309 02:20:21.083470 1946825472 net.cpp:275] The NetState phase (1) differed from the phase (0) specified by a rule in layer data\r\n",
        "I0309 02:20:21.083480 1946825472 net.cpp:308] The NetState did not contain stage 'test-on-test' specified by a rule in layer data\r\n",
        "I0309 02:20:21.083498 1946825472 net.cpp:39] Initializing net from parameters: \r\n",
        "name: \"MNISTAutoencoder\"\r\n",
        "layers {\r\n",
        "  top: \"data\"\r\n",
        "  name: \"data\"\r\n",
        "  type: DATA\r\n",
        "  data_param {\r\n",
        "    source: \"examples/mnist/mnist_train_lmdb\"\r\n",
        "    batch_size: 100\r\n",
        "    backend: LMDB\r\n",
        "  }\r\n",
        "  include {\r\n",
        "    phase: TEST\r\n",
        "    stage: \"test-on-train\"\r\n",
        "  }\r\n",
        "  transform_param {\r\n",
        "    scale: 0.0039215684\r\n",
        "  }\r\n",
        "}\r\n",
        "layers {\r\n",
        "  bottom: \"data\"\r\n",
        "  top: \"flatdata\"\r\n",
        "  name: \"flatdata\"\r\n",
        "  type: FLATTEN\r\n",
        "}\r\n",
        "layers {\r\n",
        "  bottom: \"data\"\r\n",
        "  top: \"encode1\"\r\n",
        "  name: \"encode1\"\r\n",
        "  type: INNER_PRODUCT\r\n",
        "  blobs_lr: 1\r\n",
        "  blobs_lr: 1\r\n",
        "  weight_decay: 1\r\n",
        "  weight_decay: 0\r\n",
        "  inner_product_param {\r\n",
        "    num_output: 1000\r\n",
        "    weight_filler {\r\n",
        "      type: \"gaussian\"\r\n",
        "      std: 1\r\n",
        "      sparse: 15\r\n",
        "    }\r\n",
        "    bias_filler {\r\n",
        "      type: \"constant\"\r\n",
        "      value: 0\r\n",
        "    }\r\n",
        "  }\r\n",
        "}\r\n",
        "layers {\r\n",
        "  bottom: \"encode1\"\r\n",
        "  top: \"encode1neuron\"\r\n",
        "  name: \"encode1neuron\"\r\n",
        "  type: SIGMOID\r\n",
        "}\r\n",
        "layers {\r\n",
        "  bottom: \"encode1neuron\"\r\n",
        "  top: \"encode2\"\r\n",
        "  name: \"encode2\"\r\n",
        "  type: INNER_PRODUCT\r\n",
        "  blobs_lr: 1\r\n",
        "  blobs_lr: 1\r\n",
        "  weight_decay: 1\r\n",
        "  weight_decay: 0\r\n",
        "  inner_product_param {\r\n",
        "    num_output: 500\r\n",
        "    weight_filler {\r\n",
        "      type: \"gaussian\"\r\n",
        "      std: 1\r\n",
        "      sparse: 15\r\n",
        "    }\r\n",
        "    bias_filler {\r\n",
        "      type: \"constant\"\r\n",
        "      value: 0\r\n",
        "    }\r\n",
        "  }\r\n",
        "}\r\n",
        "layers {\r\n",
        "  bottom: \"encode2\"\r\n",
        "  top: \"encode2neuron\"\r\n",
        "  name: \"encode2neuron\"\r\n",
        "  type: SIGMOID\r\n",
        "}\r\n",
        "layers {\r\n",
        "  bottom: \"encode2neuron\"\r\n",
        "  top: \"encode3\"\r\n",
        "  name: \"encode3\"\r\n",
        "  type: INNER_PRODUCT\r\n",
        "  blobs_lr: 1\r\n",
        "  blobs_lr: 1\r\n",
        "  weight_decay: 1\r\n",
        "  weight_decay: 0\r\n",
        "  inner_product_param {\r\n",
        "    num_output: 250\r\n",
        "    weight_filler {\r\n",
        "      type: \"gaussian\"\r\n",
        "      std: 1\r\n",
        "      sparse: 15\r\n",
        "    }\r\n",
        "    bias_filler {\r\n",
        "      type: \"constant\"\r\n",
        "      value: 0\r\n",
        "    }\r\n",
        "  }\r\n",
        "}\r\n",
        "layers {\r\n",
        "  bottom: \"encode3\"\r\n",
        "  top: \"encode3neuron\"\r\n",
        "  name: \"encode3neuron\"\r\n",
        "  type: SIGMOID\r\n",
        "}\r\n",
        "layers {\r\n",
        "  bottom: \"encode3neuron\"\r\n",
        "  top: \"encode4\"\r\n",
        "  name: \"encode4\"\r\n",
        "  type: INNER_PRODUCT\r\n",
        "  blobs_lr: 1\r\n",
        "  blobs_lr: 1\r\n",
        "  weight_decay: 1\r\n",
        "  weight_decay: 0\r\n",
        "  inner_product_param {\r\n",
        "    num_output: 30\r\n",
        "    weight_filler {\r\n",
        "      type: \"gaussian\"\r\n",
        "      std: 1\r\n",
        "      sparse: 15\r\n",
        "    }\r\n",
        "    bias_filler {\r\n",
        "      type: \"constant\"\r\n",
        "      value: 0\r\n",
        "    }\r\n",
        "  }\r\n",
        "}\r\n",
        "layers {\r\n",
        "  bottom: \"encode4\"\r\n",
        "  top: \"decode4\"\r\n",
        "  name: \"decode4\"\r\n",
        "  type: INNER_PRODUCT\r\n",
        "  blobs_lr: 1\r\n",
        "  blobs_lr: 1\r\n",
        "  weight_decay: 1\r\n",
        "  weight_decay: 0\r\n",
        "  inner_product_param {\r\n",
        "    num_output: 250\r\n",
        "    weight_filler {\r\n",
        "      type: \"gaussian\"\r\n",
        "      std: 1\r\n",
        "      sparse: 15\r\n",
        "    }\r\n",
        "    bias_filler {\r\n",
        "      type: \"constant\"\r\n",
        "      value: 0\r\n",
        "    }\r\n",
        "  }\r\n",
        "}\r\n",
        "layers {\r\n",
        "  bottom: \"decode4\"\r\n",
        "  top: \"decode4neuron\"\r\n",
        "  name: \"decode4neuron\"\r\n",
        "  type: SIGMOID\r\n",
        "}\r\n",
        "layers {\r\n",
        "  bottom: \"decode4neuron\"\r\n",
        "  top: \"decode3\"\r\n",
        "  name: \"decode3\"\r\n",
        "  type: INNER_PRODUCT\r\n",
        "  blobs_lr: 1\r\n",
        "  blobs_lr: 1\r\n",
        "  weight_decay: 1\r\n",
        "  weight_decay: 0\r\n",
        "  inner_product_param {\r\n",
        "    num_output: 500\r\n",
        "    weight_filler {\r\n",
        "      type: \"gaussian\"\r\n",
        "      std: 1\r\n",
        "      sparse: 15\r\n",
        "    }\r\n",
        "    bias_filler {\r\n",
        "      type: \"constant\"\r\n",
        "      value: 0\r\n",
        "    }\r\n",
        "  }\r\n",
        "}\r",
        "\r\n",
        "layers {\r\n",
        "  bottom: \"decode3\"\r\n",
        "  top: \"decode3neuron\"\r\n",
        "  name: \"decode3neuron\"\r\n",
        "  type: SIGMOID\r\n",
        "}\r\n",
        "layers {\r\n",
        "  bottom: \"decode3neuron\"\r\n",
        "  top: \"decode2\"\r\n",
        "  name: \"decode2\"\r\n",
        "  type: INNER_PRODUCT\r\n",
        "  blobs_lr: 1\r\n",
        "  blobs_lr: 1\r\n",
        "  weight_decay: 1\r\n",
        "  weight_decay: 0\r\n",
        "  inner_product_param {\r\n",
        "    num_output: 1000\r\n",
        "    weight_filler {\r\n",
        "      type: \"gaussian\"\r\n",
        "      std: 1\r\n",
        "      sparse: 15\r\n",
        "    }\r\n",
        "    bias_filler {\r\n",
        "      type: \"constant\"\r\n",
        "      value: 0\r\n",
        "    }\r\n",
        "  }\r\n",
        "}\r\n",
        "layers {\r\n",
        "  bottom: \"decode2\"\r\n",
        "  top: \"decode2neuron\"\r\n",
        "  name: \"decode2neuron\"\r\n",
        "  type: SIGMOID\r\n",
        "}\r\n",
        "layers {\r\n",
        "  bottom: \"decode2neuron\"\r\n",
        "  top: \"decode1\"\r\n",
        "  name: \"decode1\"\r\n",
        "  type: INNER_PRODUCT\r\n",
        "  blobs_lr: 1\r\n",
        "  blobs_lr: 1\r\n",
        "  weight_decay: 1\r\n",
        "  weight_decay: 0\r\n",
        "  inner_product_param {\r\n",
        "    num_output: 784\r\n",
        "    weight_filler {\r\n",
        "      type: \"gaussian\"\r\n",
        "      std: 1\r\n",
        "      sparse: 15\r\n",
        "    }\r\n",
        "    bias_filler {\r\n",
        "      type: \"constant\"\r\n",
        "      value: 0\r\n",
        "    }\r\n",
        "  }\r\n",
        "}\r\n",
        "layers {\r\n",
        "  bottom: \"decode1\"\r\n",
        "  bottom: \"flatdata\"\r\n",
        "  top: \"cross_entropy_loss\"\r\n",
        "  name: \"loss\"\r\n",
        "  type: SIGMOID_CROSS_ENTROPY_LOSS\r\n",
        "  loss_weight: 1\r\n",
        "}\r\n",
        "layers {\r\n",
        "  bottom: \"decode1\"\r\n",
        "  top: \"decode1neuron\"\r\n",
        "  name: \"decode1neuron\"\r\n",
        "  type: SIGMOID\r\n",
        "}\r\n",
        "layers {\r\n",
        "  bottom: \"decode1neuron\"\r\n",
        "  bottom: \"flatdata\"\r\n",
        "  top: \"l2_error\"\r\n",
        "  name: \"loss\"\r\n",
        "  type: EUCLIDEAN_LOSS\r\n",
        "  loss_weight: 0\r\n",
        "}\r\n",
        "state {\r\n",
        "  phase: TEST\r\n",
        "  stage: \"test-on-train\"\r\n",
        "}\r\n",
        "I0309 02:20:21.084712 1946825472 layer_factory.hpp:78] Creating layer data\r\n",
        "I0309 02:20:21.084738 1946825472 net.cpp:67] Creating Layer data\r\n",
        "I0309 02:20:21.084746 1946825472 net.cpp:356] data -> data\r\n",
        "I0309 02:20:21.084758 1946825472 net.cpp:96] Setting up data\r\n",
        "I0309 02:20:21.085072 1946825472 data_layer.cpp:68] Opening lmdb examples/mnist/mnist_train_lmdb\r\n",
        "I0309 02:20:21.085099 1946825472 data_layer.cpp:131] output data size: 100,1,28,28\r\n",
        "I0309 02:20:21.085330 1946825472 net.cpp:103] Top shape: 100 1 28 28 (78400)\r\n",
        "I0309 02:20:21.085341 1946825472 layer_factory.hpp:78] Creating layer data_data_0_split\r\n",
        "I0309 02:20:21.085355 1946825472 net.cpp:67] Creating Layer data_data_0_split\r\n",
        "I0309 02:20:21.085361 1946825472 net.cpp:394] data_data_0_split <- data\r\n",
        "I0309 02:20:21.085367 1946825472 net.cpp:356] data_data_0_split -> data_data_0_split_0\r\n",
        "I0309 02:20:21.085377 1946825472 net.cpp:356] data_data_0_split -> data_data_0_split_1\r\n",
        "I0309 02:20:21.085386 1946825472 net.cpp:96] Setting up data_data_0_split\r\n",
        "I0309 02:20:21.085393 1946825472 net.cpp:103] Top shape: 100 1 28 28 (78400)\r\n",
        "I0309 02:20:21.085398 1946825472 net.cpp:103] Top shape: 100 1 28 28 (78400)\r\n",
        "I0309 02:20:21.085404 1946825472 layer_factory.hpp:78] Creating layer flatdata\r\n",
        "I0309 02:20:21.085412 1946825472 net.cpp:67] Creating Layer flatdata\r\n",
        "I0309 02:20:21.085417 1946825472 net.cpp:394] flatdata <- data_data_0_split_0\r\n",
        "I0309 02:20:21.085423 1946825472 net.cpp:356] flatdata -> flatdata\r\n",
        "I0309 02:20:21.085430 1946825472 net.cpp:96] Setting up flatdata\r\n",
        "I0309 02:20:21.085456 1946825472 net.cpp:103] Top shape: 100 784 1 1 (78400)\r\n",
        "I0309 02:20:21.085464 1946825472 layer_factory.hpp:78] Creating layer flatdata_flatdata_0_split\r\n",
        "I0309 02:20:21.085469 1946825472 net.cpp:67] Creating Layer flatdata_flatdata_0_split\r\n",
        "I0309 02:20:21.085475 1946825472 net.cpp:394] flatdata_flatdata_0_split <- flatdata\r\n",
        "I0309 02:20:21.085482 1946825472 net.cpp:356] flatdata_flatdata_0_split -> flatdata_flatdata_0_split_0\r\n",
        "I0309 02:20:21.085520 1946825472 net.cpp:356] flatdata_flatdata_0_split -> flatdata_flatdata_0_split_1\r\n",
        "I0309 02:20:21.085528 1946825472 net.cpp:96] Setting up flatdata_flatdata_0_split\r\n",
        "I0309 02:20:21.085535 1946825472 net.cpp:103] Top shape: 100 784 1 1 (78400)\r\n",
        "I0309 02:20:21.085541 1946825472 net.cpp:103] Top shape: 100 784 1 1 (78400)\r\n",
        "I0309 02:20:21.085546 1946825472 layer_factory.hpp:78] Creating layer encode1\r\n",
        "I0309 02:20:21.085569 1946825472 net.cpp:67] Creating Layer encode1\r\n",
        "I0309 02:20:21.085577 1946825472 net.cpp:394] encode1 <- data_data_0_split_1\r\n",
        "I0309 02:20:21.085656 1946825472 net.cpp:356] encode1 -> encode1\r\n",
        "I0309 02:20:21.085675 1946825472 net.cpp:96] Setting up encode1\r\n",
        "I0309 02:20:21.102524 1946825472 net.cpp:103] Top shape: 100 1000 1 1 (100000)\r\n",
        "I0309 02:20:21.102565 1946825472 layer_factory.hpp:78] Creating layer encode1neuron\r\n",
        "I0309 02:20:21.102577 1946825472 net.cpp:67] Creating Layer encode1neuron\r\n",
        "I0309 02:20:21.102583 1946825472 net.cpp:394] encode1neuron <- encode1\r\n",
        "I0309 02:20:21.102599 1946825472 net.cpp:356] encode1neuron -> encode1neuron\r\n",
        "I0309 02:20:21.102609 1946825472 net.cpp:96] Setting up encode1neuron\r\n",
        "I0309 02:20:21.102615 1946825472 net.cpp:103] Top shape: 100 1000 1 1 (100000)\r\n",
        "I0309 02:20:21.102622 1946825472 layer_factory.hpp:78] Creating layer encode2\r\n",
        "I0309 02:20:21.102629 1946825472 net.cpp:67] Creating Layer encode2\r\n",
        "I0309 02:20:21.102634 1946825472 net.cpp:394] encode2 <- encode1neuron\r\n",
        "I0309 02:20:21.102641 1946825472 net.cpp:356] encode2 -> encode2\r\n",
        "I0309 02:20:21.102651 1946825472 net.cpp:96] Setting up encode2\r\n"
       ]
      },
      {
       "output_type": "stream",
       "stream": "stdout",
       "text": [
        "I0309 02:20:21.112335 1946825472 net.cpp:103] Top shape: 100 500 1 1 (50000)\r\n",
        "I0309 02:20:21.112386 1946825472 layer_factory.hpp:78] Creating layer encode2neuron\r\n",
        "I0309 02:20:21.112404 1946825472 net.cpp:67] Creating Layer encode2neuron\r\n",
        "I0309 02:20:21.112412 1946825472 net.cpp:394] encode2neuron <- encode2\r\n",
        "I0309 02:20:21.112421 1946825472 net.cpp:356] encode2neuron -> encode2neuron\r\n",
        "I0309 02:20:21.112431 1946825472 net.cpp:96] Setting up encode2neuron\r\n",
        "I0309 02:20:21.112437 1946825472 net.cpp:103] Top shape: 100 500 1 1 (50000)\r\n",
        "I0309 02:20:21.112442 1946825472 layer_factory.hpp:78] Creating layer encode3\r\n",
        "I0309 02:20:21.112450 1946825472 net.cpp:67] Creating Layer encode3\r\n",
        "I0309 02:20:21.112457 1946825472 net.cpp:394] encode3 <- encode2neuron\r\n",
        "I0309 02:20:21.112468 1946825472 net.cpp:356] encode3 -> encode3\r\n",
        "I0309 02:20:21.112476 1946825472 net.cpp:96] Setting up encode3\r\n",
        "I0309 02:20:21.115351 1946825472 net.cpp:103] Top shape: 100 250 1 1 (25000)\r\n",
        "I0309 02:20:21.115391 1946825472 layer_factory.hpp:78] Creating layer encode3neuron\r\n",
        "I0309 02:20:21.115403 1946825472 net.cpp:67] Creating Layer encode3neuron\r\n",
        "I0309 02:20:21.115409 1946825472 net.cpp:394] encode3neuron <- encode3\r\n",
        "I0309 02:20:21.115425 1946825472 net.cpp:356] encode3neuron -> encode3neuron\r\n",
        "I0309 02:20:21.115435 1946825472 net.cpp:96] Setting up encode3neuron\r\n",
        "I0309 02:20:21.115442 1946825472 net.cpp:103] Top shape: 100 250 1 1 (25000)\r\n",
        "I0309 02:20:21.115447 1946825472 layer_factory.hpp:78] Creating layer encode4\r\n",
        "I0309 02:20:21.115454 1946825472 net.cpp:67] Creating Layer encode4\r\n",
        "I0309 02:20:21.115459 1946825472 net.cpp:394] encode4 <- encode3neuron\r\n",
        "I0309 02:20:21.115466 1946825472 net.cpp:356] encode4 -> encode4\r\n",
        "I0309 02:20:21.115474 1946825472 net.cpp:96] Setting up encode4\r\n",
        "I0309 02:20:21.115680 1946825472 net.cpp:103] Top shape: 100 30 1 1 (3000)\r\n",
        "I0309 02:20:21.115691 1946825472 layer_factory.hpp:78] Creating layer decode4\r\n",
        "I0309 02:20:21.115703 1946825472 net.cpp:67] Creating Layer decode4\r\n",
        "I0309 02:20:21.115710 1946825472 net.cpp:394] decode4 <- encode4\r\n",
        "I0309 02:20:21.115716 1946825472 net.cpp:356] decode4 -> decode4\r\n",
        "I0309 02:20:21.115725 1946825472 net.cpp:96] Setting up decode4\r\n",
        "I0309 02:20:21.115882 1946825472 net.cpp:103] Top shape: 100 250 1 1 (25000)\r\n",
        "I0309 02:20:21.115892 1946825472 layer_factory.hpp:78] Creating layer decode4neuron\r\n",
        "I0309 02:20:21.115900 1946825472 net.cpp:67] Creating Layer decode4neuron\r\n",
        "I0309 02:20:21.115903 1946825472 net.cpp:394] decode4neuron <- decode4\r\n",
        "I0309 02:20:21.115944 1946825472 net.cpp:356] decode4neuron -> decode4neuron\r\n",
        "I0309 02:20:21.115952 1946825472 net.cpp:96] Setting up decode4neuron\r\n",
        "I0309 02:20:21.115957 1946825472 net.cpp:103] Top shape: 100 250 1 1 (25000)\r\n",
        "I0309 02:20:21.115962 1946825472 layer_factory.hpp:78] Creating layer decode3\r\n",
        "I0309 02:20:21.115972 1946825472 net.cpp:67] Creating Layer decode3\r\n",
        "I0309 02:20:21.115978 1946825472 net.cpp:394] decode3 <- decode4neuron\r\n",
        "I0309 02:20:21.115984 1946825472 net.cpp:356] decode3 -> decode3\r\n",
        "I0309 02:20:21.115993 1946825472 net.cpp:96] Setting up decode3\r\n",
        "I0309 02:20:21.118569 1946825472 net.cpp:103] Top shape: 100 500 1 1 (50000)\r\n",
        "I0309 02:20:21.118648 1946825472 layer_factory.hpp:78] Creating layer decode3neuron\r\n",
        "I0309 02:20:21.118670 1946825472 net.cpp:67] Creating Layer decode3neuron\r\n",
        "I0309 02:20:21.118680 1946825472 net.cpp:394] decode3neuron <- decode3\r\n",
        "I0309 02:20:21.118692 1946825472 net.cpp:356] decode3neuron -> decode3neuron\r\n",
        "I0309 02:20:21.118705 1946825472 net.cpp:96] Setting up decode3neuron\r\n",
        "I0309 02:20:21.118712 1946825472 net.cpp:103] Top shape: 100 500 1 1 (50000)\r\n",
        "I0309 02:20:21.118717 1946825472 layer_factory.hpp:78] Creating layer decode2\r\n",
        "I0309 02:20:21.118726 1946825472 net.cpp:67] Creating Layer decode2\r\n",
        "I0309 02:20:21.118731 1946825472 net.cpp:394] decode2 <- decode3neuron\r\n",
        "I0309 02:20:21.118743 1946825472 net.cpp:356] decode2 -> decode2\r\n",
        "I0309 02:20:21.118752 1946825472 net.cpp:96] Setting up decode2\r\n",
        "I0309 02:20:21.129403 1946825472 net.cpp:103] Top shape: 100 1000 1 1 (100000)\r\n",
        "I0309 02:20:21.129443 1946825472 layer_factory.hpp:78] Creating layer decode2neuron\r\n",
        "I0309 02:20:21.129458 1946825472 net.cpp:67] Creating Layer decode2neuron\r\n",
        "I0309 02:20:21.129465 1946825472 net.cpp:394] decode2neuron <- decode2\r\n",
        "I0309 02:20:21.129473 1946825472 net.cpp:356] decode2neuron -> decode2neuron\r\n",
        "I0309 02:20:21.129482 1946825472 net.cpp:96] Setting up decode2neuron\r\n",
        "I0309 02:20:21.129488 1946825472 net.cpp:103] Top shape: 100 1000 1 1 (100000)\r\n",
        "I0309 02:20:21.129493 1946825472 layer_factory.hpp:78] Creating layer decode1\r\n",
        "I0309 02:20:21.129501 1946825472 net.cpp:67] Creating Layer decode1\r\n",
        "I0309 02:20:21.129508 1946825472 net.cpp:394] decode1 <- decode2neuron\r\n",
        "I0309 02:20:21.129514 1946825472 net.cpp:356] decode1 -> decode1\r\n",
        "I0309 02:20:21.129523 1946825472 net.cpp:96] Setting up decode1\r\n",
        "I0309 02:20:21.147380 1946825472 net.cpp:103] Top shape: 100 784 1 1 (78400)\r\n",
        "I0309 02:20:21.147418 1946825472 layer_factory.hpp:78] Creating layer decode1_decode1_0_split\r\n",
        "I0309 02:20:21.147431 1946825472 net.cpp:67] Creating Layer decode1_decode1_0_split\r\n",
        "I0309 02:20:21.147438 1946825472 net.cpp:394] decode1_decode1_0_split <- decode1\r\n",
        "I0309 02:20:21.147445 1946825472 net.cpp:356] decode1_decode1_0_split -> decode1_decode1_0_split_0\r\n",
        "I0309 02:20:21.147455 1946825472 net.cpp:356] decode1_decode1_0_split -> decode1_decode1_0_split_1\r\n",
        "I0309 02:20:21.147464 1946825472 net.cpp:96] Setting up decode1_decode1_0_split\r\n",
        "I0309 02:20:21.147470 1946825472 net.cpp:103] Top shape: 100 784 1 1 (78400)\r\n",
        "I0309 02:20:21.147475 1946825472 net.cpp:103] Top shape: 100 784 1 1 (78400)\r\n",
        "I0309 02:20:21.147480 1946825472 layer_factory.hpp:78] Creating layer loss\r\n",
        "I0309 02:20:21.147488 1946825472 net.cpp:67] Creating Layer loss\r\n",
        "I0309 02:20:21.147493 1946825472 net.cpp:394] loss <- decode1_decode1_0_split_0\r\n",
        "I0309 02:20:21.147500 1946825472 net.cpp:394] loss <- flatdata_flatdata_0_split_0\r\n",
        "I0309 02:20:21.147510 1946825472 net.cpp:356] loss -> cross_entropy_loss\r\n",
        "I0309 02:20:21.147517 1946825472 net.cpp:96] Setting up loss\r\n",
        "I0309 02:20:21.147548 1946825472 net.cpp:103] Top shape: 1 1 1 1 (1)\r\n",
        "I0309 02:20:21.147555 1946825472 net.cpp:109]     with loss weight 1\r\n",
        "I0309 02:20:21.147578 1946825472 layer_factory.hpp:78] Creating layer decode1neuron\r\n",
        "I0309 02:20:21.147585 1946825472 net.cpp:67] Creating Layer decode1neuron\r\n",
        "I0309 02:20:21.147590 1946825472 net.cpp:394] decode1neuron <- decode1_decode1_0_split_1\r\n",
        "I0309 02:20:21.147598 1946825472 net.cpp:356] decode1neuron -> decode1neuron\r\n",
        "I0309 02:20:21.147604 1946825472 net.cpp:96] Setting up decode1neuron\r\n",
        "I0309 02:20:21.147706 1946825472 net.cpp:103] Top shape: 100 784 1 1 (78400)\r\n",
        "I0309 02:20:21.147770 1946825472 layer_factory.hpp:78] Creating layer loss\r\n",
        "I0309 02:20:21.147780 1946825472 net.cpp:67] Creating Layer loss\r\n",
        "I0309 02:20:21.147786 1946825472 net.cpp:394] loss <- decode1neuron\r\n",
        "I0309 02:20:21.147793 1946825472 net.cpp:394] loss <- flatdata_flatdata_0_split_1\r\n",
        "I0309 02:20:21.147799 1946825472 net.cpp:356] loss -> l2_error\r\n",
        "I0309 02:20:21.147809 1946825472 net.cpp:96] Setting up loss\r\n",
        "I0309 02:20:21.147817 1946825472 net.cpp:103] Top shape: 1 1 1 1 (1)\r\n",
        "I0309 02:20:21.147824 1946825472 net.cpp:172] loss does not need backward computation.\r\n",
        "I0309 02:20:21.147827 1946825472 net.cpp:172] decode1neuron does not need backward computation.\r\n",
        "I0309 02:20:21.147832 1946825472 net.cpp:170] loss needs backward computation.\r\n",
        "I0309 02:20:21.147837 1946825472 net.cpp:170] decode1_decode1_0_split needs backward computation.\r\n",
        "I0309 02:20:21.147841 1946825472 net.cpp:170] decode1 needs backward computation.\r\n",
        "I0309 02:20:21.147860 1946825472 net.cpp:170] decode2neuron needs backward computation.\r\n",
        "I0309 02:20:21.147866 1946825472 net.cpp:170] decode2 needs backward computation.\r\n",
        "I0309 02:20:21.147871 1946825472 net.cpp:170] decode3neuron needs backward computation.\r\n",
        "I0309 02:20:21.147876 1946825472 net.cpp:170] decode3 needs backward computation.\r\n",
        "I0309 02:20:21.147881 1946825472 net.cpp:170] decode4neuron needs backward computation.\r\n",
        "I0309 02:20:21.147886 1946825472 net.cpp:170] decode4 needs backward computation.\r\n",
        "I0309 02:20:21.147892 1946825472 net.cpp:170] encode4 needs backward computation.\r\n",
        "I0309 02:20:21.147897 1946825472 net.cpp:170] encode3neuron needs backward computation.\r\n",
        "I0309 02:20:21.147902 1946825472 net.cpp:170] encode3 needs backward computation.\r\n",
        "I0309 02:20:21.147907 1946825472 net.cpp:170] encode2neuron needs backward computation.\r\n",
        "I0309 02:20:21.147912 1946825472 net.cpp:170] encode2 needs backward computation.\r\n",
        "I0309 02:20:21.147917 1946825472 net.cpp:170] encode1neuron needs backward computation.\r\n",
        "I0309 02:20:21.148028 1946825472 net.cpp:170] encode1 needs backward computation.\r\n",
        "I0309 02:20:21.148039 1946825472 net.cpp:172] flatdata_flatdata_0_split does not need backward computation.\r\n",
        "I0309 02:20:21.148046 1946825472 net.cpp:172] flatdata does not need backward computation.\r\n",
        "I0309 02:20:21.148051 1946825472 net.cpp:172] data_data_0_split does not need backward computation.\r\n",
        "I0309 02:20:21.148056 1946825472 net.cpp:172] data does not need backward computation.\r\n",
        "I0309 02:20:21.148061 1946825472 net.cpp:208] This network produces output cross_entropy_loss\r\n",
        "I0309 02:20:21.148066 1946825472 net.cpp:208] This network produces output l2_error\r\n",
        "I0309 02:20:21.148082 1946825472 net.cpp:467] Collecting Learning Rate and Weight Decay.\r\n",
        "I0309 02:20:21.148090 1946825472 net.cpp:219] Network initialization done.\r\n",
        "I0309 02:20:21.148094 1946825472 net.cpp:220] Memory required for data: 5948008\r\n",
        "I0309 02:20:21.148160 1946825472 solver.cpp:151] Creating test net (#1) specified by net file: examples/mnist/mnist_autoencoder.prototxt\r\n",
        "I0309 02:20:21.148223 1946825472 net.cpp:275] The NetState phase (1) differed from the phase (0) specified by a rule in layer data\r\n",
        "I0309 02:20:21.148231 1946825472 net.cpp:308] The NetState did not contain stage 'test-on-train' specified by a rule in layer data\r\n",
        "I0309 02:20:21.148247 1946825472 net.cpp:39] Initializing net from parameters: \r\n",
        "name: \"MNISTAutoencoder\"\r\n",
        "layers {\r\n",
        "  top: \"data\"\r\n",
        "  name: \"data\"\r\n",
        "  type: DATA\r\n",
        "  data_param {\r\n",
        "    source: \"examples/mnist/mnist_test_lmdb\"\r\n",
        "    batch_size: 100\r\n",
        "    backend: LMDB\r\n",
        "  }\r\n",
        "  include {\r\n",
        "    phase: TEST\r\n",
        "    stage: \"test-on-test\"\r\n",
        "  }\r\n",
        "  transform_param {\r\n",
        "    scale: 0.0039215684\r\n",
        "  }\r\n",
        "}\r\n",
        "layers {\r\n",
        "  bottom: \"data\"\r\n",
        "  top: \"flatdata\"\r\n",
        "  name: \"flatdata\"\r\n",
        "  type: FLATTEN\r\n",
        "}\r\n",
        "layers {\r\n",
        "  bottom: \"data\"\r\n",
        "  top: \"encode1\"\r\n",
        "  name: \"encode1\"\r\n",
        "  type: INNER_PRODUCT\r\n",
        "  blobs_lr: 1\r\n",
        "  blobs_lr: 1\r\n",
        "  weight_decay: 1\r\n",
        "  weight_decay: 0\r\n",
        "  inner_product_param {\r\n",
        "    num_output: 1000\r\n",
        "    weight_filler {\r\n",
        "      type: \"gaussian\"\r\n",
        "      std: 1\r\n",
        "      sparse: 15\r\n",
        "    }\r\n",
        "    bias_filler {\r\n",
        "      type: \"constant\"\r\n",
        "      value: 0\r\n",
        "    }\r\n",
        "  }\r\n",
        "}\r\n",
        "layers {\r\n",
        "  bottom: \"encode1\"\r\n",
        "  top: \"encode1neuron\"\r\n",
        "  name: \"encode1neuron\"\r\n",
        "  type: SIGMOID\r\n",
        "}\r\n",
        "layers {\r\n",
        "  bottom: \"encode1neuron\"\r\n",
        "  top: \"encode2\"\r\n",
        "  name: \"encode2\"\r\n",
        "  type: INNER_PRODUCT\r\n",
        "  blobs_lr: 1\r\n",
        "  blobs_lr: 1\r\n",
        "  weight_decay: 1\r\n",
        "  weight_decay: 0\r\n",
        "  inner_product_param {\r\n",
        "    num_output: 500\r\n",
        "    weight_filler {\r\n",
        "      type: \"gaussian\"\r\n",
        "      std: 1\r\n",
        "      sparse: 15\r\n",
        "    }\r\n",
        "    bias_filler {\r\n",
        "      type: \"constant\"\r\n",
        "      value: 0\r\n",
        "    }\r\n",
        "  }\r\n",
        "}\r\n",
        "layers {\r\n",
        "  bottom: \"encode2\"\r\n",
        "  top: \"encode2neuron\"\r\n",
        "  name: \"encode2neuron\"\r\n",
        "  type: SIGMOID\r\n",
        "}\r\n",
        "layers {\r\n",
        "  bottom: \"encode2neuron\"\r\n",
        "  top: \"encode3\"\r\n",
        "  name: \"encode3\"\r\n",
        "  type: INNER_PRODUCT\r\n",
        "  blobs_lr: 1\r\n",
        "  blobs_lr: 1\r\n",
        "  weight_decay: 1\r\n",
        "  weight_decay: 0\r\n",
        "  inner_product_param {\r\n",
        "    num_output: 250\r\n",
        "    weight_filler {\r\n",
        "      type: \"gaussian\"\r\n",
        "      std: 1\r\n",
        "      sparse: 15\r\n",
        "    }\r\n",
        "    bias_filler {\r\n",
        "      type: \"constant\"\r\n",
        "      value: 0\r\n",
        "    }\r\n",
        "  }\r\n",
        "}\r\n",
        "layers {\r\n",
        "  bottom: \"encode3\"\r\n",
        "  top: \"encode3neuron\"\r\n",
        "  name: \"encode3neuron\"\r\n",
        "  type: SIGMOID\r\n",
        "}\r\n",
        "layers {\r\n",
        "  bottom: \"encode3neuron\"\r\n",
        "  top: \"encode4\"\r\n",
        "  name: \"encode4\"\r\n",
        "  type: INNER_PRODUCT\r\n",
        "  blobs_lr: 1\r\n",
        "  blobs_lr: 1\r\n",
        "  weight_decay: 1\r\n",
        "  weight_decay: 0\r\n",
        "  inner_product_param {\r\n",
        "    num_output: 30\r\n",
        "    weight_filler {\r\n",
        "      type: \"gaussian\"\r\n",
        "      std: 1\r\n",
        "      sparse: 15\r\n",
        "    }\r\n",
        "    bias_filler {\r\n",
        "      type: \"constant\"\r\n",
        "      value: 0\r\n",
        "    }\r\n",
        "  }\r\n",
        "}\r\n",
        "layers {\r\n",
        "  bottom: \"encode4\"\r\n",
        "  top: \"decode4\"\r\n",
        "  name: \"decode4\"\r\n",
        "  type: INNER_PRODUCT\r\n",
        "  blobs_lr: 1\r\n",
        "  blobs_lr: 1\r\n",
        "  weight_decay: 1\r\n",
        "  weight_decay: 0\r\n",
        "  inner_product_param {\r\n",
        "    num_output: 250\r\n",
        "    weight_filler {\r\n",
        "      type: \"gaussian\"\r\n",
        "      std: 1\r\n",
        "      sparse: 15\r\n",
        "    }\r\n",
        "    bias_filler {\r\n",
        "      type: \"constant\"\r\n",
        "      value: 0\r\n",
        "    }\r\n",
        "  }\r\n",
        "}\r\n",
        "layers {\r\n",
        "  bottom: \"decode4\"\r\n",
        "  top: \"decode4neuron\"\r\n",
        "  name: \"decode4neuron\"\r\n",
        "  type: SIGMOID\r\n",
        "}\r\n",
        "layers {\r\n",
        "  bottom: \"decode4neuron\"\r\n",
        "  top: \"decode3\"\r\n",
        "  name: \"decode3\"\r\n",
        "  type: INNER_PRODUCT\r\n",
        "  blobs_lr: 1\r\n",
        "  blobs_lr: 1\r\n",
        "  weight_decay: 1\r\n",
        "  weight_decay: 0\r\n",
        "  inner_product_param {\r\n",
        "    num_output: 500\r\n",
        "    weight_filler {\r\n",
        "      type: \"gaussian\"\r\n",
        "      std: 1\r\n",
        "      sparse: 15\r\n",
        "    }\r\n",
        "    bias_filler {\r\n",
        "      type: \"constant\"\r\n",
        "      value: 0\r\n",
        "    }\r\n",
        "  }\r\n",
        "}\r\n",
        "layers {\r\n",
        "  bottom: \"decode3\"\r\n",
        "  top: \"decode3neuron\"\r\n",
        "  name: \"decode3neuron\"\r\n",
        "  type: SIGMOID\r\n",
        "}\r\n",
        "layers {\r\n",
        "  bottom: \"decode3neuron\"\r\n",
        "  top: \"decode2\"\r\n",
        "  name: \"decode2\"\r\n",
        "  type: INNER_PRODUCT\r\n",
        "  blobs_lr: 1\r\n",
        "  blobs_lr: 1\r\n",
        "  weight_decay: 1\r\n",
        "  weight_decay: 0\r\n",
        "  inner_product_param {\r\n",
        "    num_output: 1000\r\n",
        "    weight_filler {\r\n",
        "      type: \"gaussian\"\r\n",
        "      std: 1\r\n",
        "      sparse: 15\r\n",
        "    }\r\n",
        "    bias_filler {\r\n",
        "      type: \"constant\"\r\n",
        "      value: 0\r\n",
        "    }\r\n",
        "  }\r\n",
        "}\r\n",
        "layers {\r\n",
        "  bottom: \"decode2\"\r\n",
        "  top: \"decode2neuron\"\r\n",
        "  name: \"decode2neuron\"\r\n",
        "  type: SIGMOID\r\n",
        "}\r\n",
        "layers {\r\n",
        "  bottom: \"decode2neuron\"\r\n",
        "  top: \"decode1\"\r\n",
        "  name: \"decode1\"\r\n",
        "  type: INNER_PRODUCT\r\n",
        "  blobs_lr: 1\r\n",
        "  blobs_lr: 1\r\n",
        "  weight_decay: 1\r\n",
        "  weight_decay: 0\r\n",
        "  inner_product_param {\r\n",
        "    num_output: 784\r\n",
        "    weight_filler {\r\n",
        "      type: \"gaussian\"\r\n",
        "      std: 1\r\n",
        "      sparse: 15\r\n",
        "    }\r\n",
        "    bias_filler {\r\n",
        "      type: \"constant\"\r\n",
        "      value: 0\r\n",
        "    }\r\n",
        "  }\r\n",
        "}\r\n",
        "layers {\r\n",
        "  bottom: \"decode1\"\r\n",
        "  bottom: \"flatdata\"\r\n",
        "  top: \"cross_entropy_loss\"\r\n",
        "  name: \"loss\"\r\n",
        "  type: SIGMOID_CROSS_ENTROPY_LOSS\r\n",
        "  loss_weight: 1\r\n",
        "}\r\n",
        "layers {\r\n",
        "  bottom: \"decode1\"\r\n",
        "  top: \"decode1neuron\"\r\n",
        "  name: \"decode1neuron\"\r\n",
        "  type: SIGMOID\r\n",
        "}\r\n",
        "layers {\r\n",
        "  bottom: \"decode1neuron\"\r\n",
        "  bottom: \"flatdata\"\r\n",
        "  top: \"l2_error\"\r\n",
        "  name: \"loss\"\r\n",
        "  type: EUCLIDEAN_LOSS\r\n",
        "  loss_weight: 0\r\n",
        "}\r\n",
        "state {\r\n",
        "  phase: TEST\r\n",
        "  stage: \"test-on-test\"\r\n",
        "}\r\n",
        "I0309 02:20:21.149466 1946825472 layer_factory.hpp:78] Creating layer data\r\n",
        "I0309 02:20:21.149482 1946825472 net.cpp:67] Creating Layer data\r\n",
        "I0309 02:20:21.149490 1946825472 net.cpp:356] data -> data\r\n",
        "I0309 02:20:21.149502 1946825472 net.cpp:96] Setting up data\r\n",
        "I0309 02:20:21.150506 1946825472 data_layer.cpp:68] Opening lmdb examples/mnist/mnist_test_lmdb\r\n",
        "I0309 02:20:21.151132 1946825472 data_layer.cpp:131] output data size: 100,1,28,28\r\n",
        "I0309 02:20:21.151326 1946825472 net.cpp:103] Top shape: 100 1 28 28 (78400)\r\n",
        "I0309 02:20:21.151336 1946825472 layer_factory.hpp:78] Creating layer data_data_0_split\r\n",
        "I0309 02:20:21.151346 1946825472 net.cpp:67] Creating Layer data_data_0_split\r\n",
        "I0309 02:20:21.151352 1946825472 net.cpp:394] data_data_0_split <- data\r\n",
        "I0309 02:20:21.151381 1946825472 net.cpp:356] data_data_0_split -> data_data_0_split_0\r\n",
        "I0309 02:20:21.151392 1946825472 net.cpp:356] data_data_0_split -> data_data_0_split_1\r\n",
        "I0309 02:20:21.151401 1946825472 net.cpp:96] Setting up data_data_0_split\r\n",
        "I0309 02:20:21.151407 1946825472 net.cpp:103] Top shape: 100 1 28 28 (78400)\r\n",
        "I0309 02:20:21.151412 1946825472 net.cpp:103] Top shape: 100 1 28 28 (78400)\r\n",
        "I0309 02:20:21.151417 1946825472 layer_factory.hpp:78] Creating layer flatdata\r\n",
        "I0309 02:20:21.151427 1946825472 net.cpp:67] Creating Layer flatdata\r\n",
        "I0309 02:20:21.151432 1946825472 net.cpp:394] flatdata <- data_data_0_split_0\r\n",
        "I0309 02:20:21.151445 1946825472 net.cpp:356] flatdata -> flatdata\r\n",
        "I0309 02:20:21.151453 1946825472 net.cpp:96] Setting up flatdata\r\n",
        "I0309 02:20:21.151458 1946825472 net.cpp:103] Top shape: 100 784 1 1 (78400)\r\n",
        "I0309 02:20:21.151463 1946825472 layer_factory.hpp:78] Creating layer flatdata_flatdata_0_split\r\n",
        "I0309 02:20:21.151469 1946825472 net.cpp:67] Creating Layer flatdata_flatdata_0_split\r\n",
        "I0309 02:20:21.151541 1946825472 net.cpp:394] flatdata_flatdata_0_split <- flatdata\r\n",
        "I0309 02:20:21.151551 1946825472 net.cpp:356] flatdata_flatdata_0_split -> flatdata_flatdata_0_split_0\r\n",
        "I0309 02:20:21.151559 1946825472 net.cpp:356] flatdata_flatdata_0_split -> flatdata_flatdata_0_split_1\r\n",
        "I0309 02:20:21.151566 1946825472 net.cpp:96] Setting up flatdata_flatdata_0_split\r\n",
        "I0309 02:20:21.151572 1946825472 net.cpp:103] Top shape: 100 784 1 1 (78400)\r\n",
        "I0309 02:20:21.151577 1946825472 net.cpp:103] Top shape: 100 784 1 1 (78400)\r\n",
        "I0309 02:20:21.151595 1946825472 layer_factory.hpp:78] Creating layer encode1\r\n",
        "I0309 02:20:21.151617 1946825472 net.cpp:67] Creating Layer encode1\r\n",
        "I0309 02:20:21.151623 1946825472 net.cpp:394] encode1 <- data_data_0_split_1\r\n",
        "I0309 02:20:21.151631 1946825472 net.cpp:356] encode1 -> encode1\r\n",
        "I0309 02:20:21.151640 1946825472 net.cpp:96] Setting up encode1\r\n"
       ]
      },
      {
       "output_type": "stream",
       "stream": "stdout",
       "text": [
        "I0309 02:20:21.167927 1946825472 net.cpp:103] Top shape: 100 1000 1 1 (100000)\r\n",
        "I0309 02:20:21.167969 1946825472 layer_factory.hpp:78] Creating layer encode1neuron\r\n",
        "I0309 02:20:21.167982 1946825472 net.cpp:67] Creating Layer encode1neuron\r\n",
        "I0309 02:20:21.167989 1946825472 net.cpp:394] encode1neuron <- encode1\r\n",
        "I0309 02:20:21.167996 1946825472 net.cpp:356] encode1neuron -> encode1neuron\r\n",
        "I0309 02:20:21.168005 1946825472 net.cpp:96] Setting up encode1neuron\r\n",
        "I0309 02:20:21.168011 1946825472 net.cpp:103] Top shape: 100 1000 1 1 (100000)\r\n",
        "I0309 02:20:21.168016 1946825472 layer_factory.hpp:78] Creating layer encode2\r\n",
        "I0309 02:20:21.168025 1946825472 net.cpp:67] Creating Layer encode2\r\n",
        "I0309 02:20:21.168030 1946825472 net.cpp:394] encode2 <- encode1neuron\r\n",
        "I0309 02:20:21.168036 1946825472 net.cpp:356] encode2 -> encode2\r\n",
        "I0309 02:20:21.168045 1946825472 net.cpp:96] Setting up encode2\r\n",
        "I0309 02:20:21.177714 1946825472 net.cpp:103] Top shape: 100 500 1 1 (50000)\r\n",
        "I0309 02:20:21.177755 1946825472 layer_factory.hpp:78] Creating layer encode2neuron\r\n",
        "I0309 02:20:21.177768 1946825472 net.cpp:67] Creating Layer encode2neuron\r\n",
        "I0309 02:20:21.177775 1946825472 net.cpp:394] encode2neuron <- encode2\r\n",
        "I0309 02:20:21.177783 1946825472 net.cpp:356] encode2neuron -> encode2neuron\r\n",
        "I0309 02:20:21.177793 1946825472 net.cpp:96] Setting up encode2neuron\r\n",
        "I0309 02:20:21.177799 1946825472 net.cpp:103] Top shape: 100 500 1 1 (50000)\r\n",
        "I0309 02:20:21.177804 1946825472 layer_factory.hpp:78] Creating layer encode3\r\n",
        "I0309 02:20:21.177814 1946825472 net.cpp:67] Creating Layer encode3\r\n",
        "I0309 02:20:21.177819 1946825472 net.cpp:394] encode3 <- encode2neuron\r\n",
        "I0309 02:20:21.177827 1946825472 net.cpp:356] encode3 -> encode3\r\n",
        "I0309 02:20:21.177835 1946825472 net.cpp:96] Setting up encode3\r\n",
        "I0309 02:20:21.180904 1946825472 net.cpp:103] Top shape: 100 250 1 1 (25000)\r\n",
        "I0309 02:20:21.180946 1946825472 layer_factory.hpp:78] Creating layer encode3neuron\r\n",
        "I0309 02:20:21.180964 1946825472 net.cpp:67] Creating Layer encode3neuron\r\n",
        "I0309 02:20:21.180974 1946825472 net.cpp:394] encode3neuron <- encode3\r\n",
        "I0309 02:20:21.180986 1946825472 net.cpp:356] encode3neuron -> encode3neuron\r\n",
        "I0309 02:20:21.181000 1946825472 net.cpp:96] Setting up encode3neuron\r\n",
        "I0309 02:20:21.181047 1946825472 net.cpp:103] Top shape: 100 250 1 1 (25000)\r\n",
        "I0309 02:20:21.181053 1946825472 layer_factory.hpp:78] Creating layer encode4\r\n",
        "I0309 02:20:21.181062 1946825472 net.cpp:67] Creating Layer encode4\r\n",
        "I0309 02:20:21.181067 1946825472 net.cpp:394] encode4 <- encode3neuron\r\n",
        "I0309 02:20:21.181076 1946825472 net.cpp:356] encode4 -> encode4\r\n",
        "I0309 02:20:21.181084 1946825472 net.cpp:96] Setting up encode4\r\n",
        "I0309 02:20:21.181285 1946825472 net.cpp:103] Top shape: 100 30 1 1 (3000)\r\n",
        "I0309 02:20:21.181301 1946825472 layer_factory.hpp:78] Creating layer decode4\r\n",
        "I0309 02:20:21.181313 1946825472 net.cpp:67] Creating Layer decode4\r\n",
        "I0309 02:20:21.181324 1946825472 net.cpp:394] decode4 <- encode4\r\n",
        "I0309 02:20:21.181339 1946825472 net.cpp:356] decode4 -> decode4\r\n",
        "I0309 02:20:21.181354 1946825472 net.cpp:96] Setting up decode4\r\n",
        "I0309 02:20:21.181555 1946825472 net.cpp:103] Top shape: 100 250 1 1 (25000)\r\n",
        "I0309 02:20:21.181572 1946825472 layer_factory.hpp:78] Creating layer decode4neuron\r\n",
        "I0309 02:20:21.181587 1946825472 net.cpp:67] Creating Layer decode4neuron\r\n",
        "I0309 02:20:21.181596 1946825472 net.cpp:394] decode4neuron <- decode4\r\n",
        "I0309 02:20:21.181608 1946825472 net.cpp:356] decode4neuron -> decode4neuron\r\n",
        "I0309 02:20:21.181620 1946825472 net.cpp:96] Setting up decode4neuron\r\n",
        "I0309 02:20:21.181628 1946825472 net.cpp:103] Top shape: 100 250 1 1 (25000)\r\n",
        "I0309 02:20:21.181635 1946825472 layer_factory.hpp:78] Creating layer decode3\r\n",
        "I0309 02:20:21.181648 1946825472 net.cpp:67] Creating Layer decode3\r\n",
        "I0309 02:20:21.181658 1946825472 net.cpp:394] decode3 <- decode4neuron\r\n",
        "I0309 02:20:21.181673 1946825472 net.cpp:356] decode3 -> decode3\r\n",
        "I0309 02:20:21.181686 1946825472 net.cpp:96] Setting up decode3\r\n",
        "I0309 02:20:21.184340 1946825472 net.cpp:103] Top shape: 100 500 1 1 (50000)\r\n",
        "I0309 02:20:21.184381 1946825472 layer_factory.hpp:78] Creating layer decode3neuron\r\n",
        "I0309 02:20:21.184397 1946825472 net.cpp:67] Creating Layer decode3neuron\r\n",
        "I0309 02:20:21.184406 1946825472 net.cpp:394] decode3neuron <- decode3\r\n",
        "I0309 02:20:21.184425 1946825472 net.cpp:356] decode3neuron -> decode3neuron\r\n",
        "I0309 02:20:21.184443 1946825472 net.cpp:96] Setting up decode3neuron\r\n",
        "I0309 02:20:21.184453 1946825472 net.cpp:103] Top shape: 100 500 1 1 (50000)\r\n",
        "I0309 02:20:21.184459 1946825472 layer_factory.hpp:78] Creating layer decode2\r\n",
        "I0309 02:20:21.184468 1946825472 net.cpp:67] Creating Layer decode2\r\n",
        "I0309 02:20:21.184473 1946825472 net.cpp:394] decode2 <- decode3neuron\r\n",
        "I0309 02:20:21.184481 1946825472 net.cpp:356] decode2 -> decode2\r\n",
        "I0309 02:20:21.184489 1946825472 net.cpp:96] Setting up decode2\r\n",
        "I0309 02:20:21.195256 1946825472 net.cpp:103] Top shape: 100 1000 1 1 (100000)\r\n",
        "I0309 02:20:21.195297 1946825472 layer_factory.hpp:78] Creating layer decode2neuron\r\n",
        "I0309 02:20:21.195313 1946825472 net.cpp:67] Creating Layer decode2neuron\r\n",
        "I0309 02:20:21.195320 1946825472 net.cpp:394] decode2neuron <- decode2\r\n",
        "I0309 02:20:21.195329 1946825472 net.cpp:356] decode2neuron -> decode2neuron\r\n",
        "I0309 02:20:21.195338 1946825472 net.cpp:96] Setting up decode2neuron\r\n",
        "I0309 02:20:21.195344 1946825472 net.cpp:103] Top shape: 100 1000 1 1 (100000)\r\n",
        "I0309 02:20:21.195349 1946825472 layer_factory.hpp:78] Creating layer decode1\r\n",
        "I0309 02:20:21.195358 1946825472 net.cpp:67] Creating Layer decode1\r\n",
        "I0309 02:20:21.195363 1946825472 net.cpp:394] decode1 <- decode2neuron\r\n",
        "I0309 02:20:21.195370 1946825472 net.cpp:356] decode1 -> decode1\r\n",
        "I0309 02:20:21.195379 1946825472 net.cpp:96] Setting up decode1\r\n"
       ]
      },
      {
       "output_type": "stream",
       "stream": "stdout",
       "text": [
        "I0309 02:20:21.213131 1946825472 net.cpp:103] Top shape: 100 784 1 1 (78400)\r\n",
        "I0309 02:20:21.213165 1946825472 layer_factory.hpp:78] Creating layer decode1_decode1_0_split\r\n",
        "I0309 02:20:21.213178 1946825472 net.cpp:67] Creating Layer decode1_decode1_0_split\r\n",
        "I0309 02:20:21.213184 1946825472 net.cpp:394] decode1_decode1_0_split <- decode1\r\n",
        "I0309 02:20:21.213194 1946825472 net.cpp:356] decode1_decode1_0_split -> decode1_decode1_0_split_0\r\n",
        "I0309 02:20:21.213204 1946825472 net.cpp:356] decode1_decode1_0_split -> decode1_decode1_0_split_1\r\n",
        "I0309 02:20:21.213212 1946825472 net.cpp:96] Setting up decode1_decode1_0_split\r\n",
        "I0309 02:20:21.213258 1946825472 net.cpp:103] Top shape: 100 784 1 1 (78400)\r\n",
        "I0309 02:20:21.213263 1946825472 net.cpp:103] Top shape: 100 784 1 1 (78400)\r\n",
        "I0309 02:20:21.213268 1946825472 layer_factory.hpp:78] Creating layer loss\r\n",
        "I0309 02:20:21.213276 1946825472 net.cpp:67] Creating Layer loss\r\n",
        "I0309 02:20:21.213281 1946825472 net.cpp:394] loss <- decode1_decode1_0_split_0\r\n",
        "I0309 02:20:21.213289 1946825472 net.cpp:394] loss <- flatdata_flatdata_0_split_0\r\n",
        "I0309 02:20:21.213373 1946825472 net.cpp:356] loss -> cross_entropy_loss\r\n",
        "I0309 02:20:21.213383 1946825472 net.cpp:96] Setting up loss\r\n",
        "I0309 02:20:21.213418 1946825472 net.cpp:103] Top shape: 1 1 1 1 (1)\r\n",
        "I0309 02:20:21.213425 1946825472 net.cpp:109]     with loss weight 1\r\n",
        "I0309 02:20:21.213438 1946825472 layer_factory.hpp:78] Creating layer decode1neuron\r\n",
        "I0309 02:20:21.213444 1946825472 net.cpp:67] Creating Layer decode1neuron\r\n",
        "I0309 02:20:21.213449 1946825472 net.cpp:394] decode1neuron <- decode1_decode1_0_split_1\r\n",
        "I0309 02:20:21.213456 1946825472 net.cpp:356] decode1neuron -> decode1neuron\r\n",
        "I0309 02:20:21.213464 1946825472 net.cpp:96] Setting up decode1neuron\r\n",
        "I0309 02:20:21.213469 1946825472 net.cpp:103] Top shape: 100 784 1 1 (78400)\r\n",
        "I0309 02:20:21.213474 1946825472 layer_factory.hpp:78] Creating layer loss\r\n",
        "I0309 02:20:21.213481 1946825472 net.cpp:67] Creating Layer loss\r\n",
        "I0309 02:20:21.213485 1946825472 net.cpp:394] loss <- decode1neuron\r\n",
        "I0309 02:20:21.213491 1946825472 net.cpp:394] loss <- flatdata_flatdata_0_split_1\r\n",
        "I0309 02:20:21.213523 1946825472 net.cpp:356] loss -> l2_error\r\n",
        "I0309 02:20:21.213531 1946825472 net.cpp:96] Setting up loss\r\n",
        "I0309 02:20:21.213537 1946825472 net.cpp:103] Top shape: 1 1 1 1 (1)\r\n",
        "I0309 02:20:21.213542 1946825472 net.cpp:172] loss does not need backward computation.\r\n",
        "I0309 02:20:21.213547 1946825472 net.cpp:172] decode1neuron does not need backward computation.\r\n",
        "I0309 02:20:21.213551 1946825472 net.cpp:170] loss needs backward computation.\r\n",
        "I0309 02:20:21.213557 1946825472 net.cpp:170] decode1_decode1_0_split needs backward computation.\r\n",
        "I0309 02:20:21.213573 1946825472 net.cpp:170] decode1 needs backward computation.\r\n",
        "I0309 02:20:21.213578 1946825472 net.cpp:170] decode2neuron needs backward computation.\r\n",
        "I0309 02:20:21.213583 1946825472 net.cpp:170] decode2 needs backward computation.\r\n",
        "I0309 02:20:21.213588 1946825472 net.cpp:170] decode3neuron needs backward computation.\r\n",
        "I0309 02:20:21.213593 1946825472 net.cpp:170] decode3 needs backward computation.\r\n",
        "I0309 02:20:21.213724 1946825472 net.cpp:170] decode4neuron needs backward computation.\r\n",
        "I0309 02:20:21.213737 1946825472 net.cpp:170] decode4 needs backward computation.\r\n",
        "I0309 02:20:21.213745 1946825472 net.cpp:170] encode4 needs backward computation.\r\n",
        "I0309 02:20:21.213752 1946825472 net.cpp:170] encode3neuron needs backward computation.\r\n",
        "I0309 02:20:21.213760 1946825472 net.cpp:170] encode3 needs backward computation.\r\n",
        "I0309 02:20:21.213768 1946825472 net.cpp:170] encode2neuron needs backward computation.\r\n",
        "I0309 02:20:21.213773 1946825472 net.cpp:170] encode2 needs backward computation.\r\n",
        "I0309 02:20:21.213779 1946825472 net.cpp:170] encode1neuron needs backward computation.\r\n",
        "I0309 02:20:21.213784 1946825472 net.cpp:170] encode1 needs backward computation.\r\n",
        "I0309 02:20:21.213789 1946825472 net.cpp:172] flatdata_flatdata_0_split does not need backward computation.\r\n",
        "I0309 02:20:21.213795 1946825472 net.cpp:172] flatdata does not need backward computation.\r\n",
        "I0309 02:20:21.213800 1946825472 net.cpp:172] data_data_0_split does not need backward computation.\r\n",
        "I0309 02:20:21.213876 1946825472 net.cpp:172] data does not need backward computation.\r\n",
        "I0309 02:20:21.213881 1946825472 net.cpp:208] This network produces output cross_entropy_loss\r\n",
        "I0309 02:20:21.213887 1946825472 net.cpp:208] This network produces output l2_error\r\n",
        "I0309 02:20:21.213908 1946825472 net.cpp:467] Collecting Learning Rate and Weight Decay.\r\n",
        "I0309 02:20:21.213917 1946825472 net.cpp:219] Network initialization done.\r\n",
        "I0309 02:20:21.213922 1946825472 net.cpp:220] Memory required for data: 5948008\r\n",
        "I0309 02:20:21.214087 1946825472 solver.cpp:41] Solver scaffolding done.\r\n",
        "I0309 02:20:21.214138 1946825472 solver.cpp:160] Solving MNISTAutoencoder\r\n",
        "I0309 02:20:21.214177 1946825472 solver.cpp:263] Iteration 0, Testing net (#0)\r\n"
       ]
      },
      {
       "output_type": "stream",
       "stream": "stdout",
       "text": [
        "I0309 02:20:29.860801 1946825472 solver.cpp:301] Test loss: 931.054\r\n",
        "I0309 02:20:29.860853 1946825472 solver.cpp:314]     Test net output #0: cross_entropy_loss = 931.054 (* 1 = 931.054 loss)\r\n",
        "I0309 02:20:29.860863 1946825472 solver.cpp:314]     Test net output #1: l2_error = 135.551\r\n",
        "I0309 02:20:29.860872 1946825472 solver.cpp:263] Iteration 0, Testing net (#1)\r\n"
       ]
      },
      {
       "output_type": "stream",
       "stream": "stdout",
       "text": [
        "I0309 02:20:31.524235 1946825472 solver.cpp:301] Test loss: 931.793\r\n",
        "I0309 02:20:31.524284 1946825472 solver.cpp:314]     Test net output #0: cross_entropy_loss = 931.793 (* 1 = 931.793 loss)\r\n",
        "I0309 02:20:31.524294 1946825472 solver.cpp:314]     Test net output #1: l2_error = 135.701\r\n",
        "I0309 02:20:31.560997 1946825472 solver.cpp:207] Iteration 0, loss = 927.122\r\n",
        "I0309 02:20:31.561045 1946825472 solver.cpp:222]     Train net output #0: cross_entropy_loss = 927.122 (* 1 = 927.122 loss)\r\n",
        "I0309 02:20:31.561055 1946825472 solver.cpp:222]     Train net output #1: l2_error = 135.083\r\n",
        "I0309 02:20:31.561071 1946825472 solver.cpp:419] Iteration 0, lr = 0.01\r\n"
       ]
      },
      {
       "output_type": "stream",
       "stream": "stdout",
       "text": [
        "I0309 02:20:35.423310 1946825472 solver.cpp:207] Iteration 100, loss = 212.767\r\n",
        "I0309 02:20:35.423363 1946825472 solver.cpp:222]     Train net output #0: cross_entropy_loss = 212.767 (* 1 = 212.767 loss)\r\n",
        "I0309 02:20:35.423373 1946825472 solver.cpp:222]     Train net output #1: l2_error = 27.685\r\n",
        "I0309 02:20:35.423383 1946825472 solver.cpp:419] Iteration 100, lr = 0.01\r\n"
       ]
      },
      {
       "output_type": "stream",
       "stream": "stdout",
       "text": [
        "I0309 02:20:38.766508 1946825472 solver.cpp:207] Iteration 200, loss = 224.411\r\n",
        "I0309 02:20:38.766553 1946825472 solver.cpp:222]     Train net output #0: cross_entropy_loss = 224.411 (* 1 = 224.411 loss)\r\n",
        "I0309 02:20:38.766563 1946825472 solver.cpp:222]     Train net output #1: l2_error = 29.2811\r\n",
        "I0309 02:20:38.766571 1946825472 solver.cpp:419] Iteration 200, lr = 0.01\r\n"
       ]
      },
      {
       "output_type": "stream",
       "stream": "stdout",
       "text": [
        "I0309 02:20:42.445313 1946825472 solver.cpp:207] Iteration 300, loss = 198.154\r\n",
        "I0309 02:20:42.445355 1946825472 solver.cpp:222]     Train net output #0: cross_entropy_loss = 198.154 (* 1 = 198.154 loss)\r\n",
        "I0309 02:20:42.445365 1946825472 solver.cpp:222]     Train net output #1: l2_error = 24.8244\r\n",
        "I0309 02:20:42.445375 1946825472 solver.cpp:419] Iteration 300, lr = 0.01\r\n"
       ]
      },
      {
       "output_type": "stream",
       "stream": "stdout",
       "text": [
        "I0309 02:20:46.750179 1946825472 solver.cpp:207] Iteration 400, loss = 168.881\r\n",
        "I0309 02:20:46.750226 1946825472 solver.cpp:222]     Train net output #0: cross_entropy_loss = 168.881 (* 1 = 168.881 loss)\r\n",
        "I0309 02:20:46.750237 1946825472 solver.cpp:222]     Train net output #1: l2_error = 20.5087\r\n",
        "I0309 02:20:46.750247 1946825472 solver.cpp:419] Iteration 400, lr = 0.01\r\n"
       ]
      },
      {
       "output_type": "stream",
       "stream": "stdout",
       "text": [
        "I0309 02:20:50.519146 1946825472 solver.cpp:263] Iteration 500, Testing net (#0)\r\n"
       ]
      },
      {
       "output_type": "stream",
       "stream": "stdout",
       "text": [
        "I0309 02:20:58.193063 1946825472 solver.cpp:301] Test loss: 165.585\r\n",
        "I0309 02:20:58.193125 1946825472 solver.cpp:314]     Test net output #0: cross_entropy_loss = 165.585 (* 1 = 165.585 loss)\r\n",
        "I0309 02:20:58.193135 1946825472 solver.cpp:314]     Test net output #1: l2_error = 19.5311\r\n",
        "I0309 02:20:58.193142 1946825472 solver.cpp:263] Iteration 500, Testing net (#1)\r\n"
       ]
      },
      {
       "output_type": "stream",
       "stream": "stdout",
       "text": [
        "I0309 02:20:59.652067 1946825472 solver.cpp:301] Test loss: 164.579\r\n",
        "I0309 02:20:59.652112 1946825472 solver.cpp:314]     Test net output #0: cross_entropy_loss = 164.579 (* 1 = 164.579 loss)\r\n",
        "I0309 02:20:59.652122 1946825472 solver.cpp:314]     Test net output #1: l2_error = 19.3867\r\n"
       ]
      },
      {
       "output_type": "stream",
       "stream": "stdout",
       "text": [
        "I0309 02:20:59.680193 1946825472 solver.cpp:207] Iteration 500, loss = 156.738\r\n",
        "I0309 02:20:59.680238 1946825472 solver.cpp:222]     Train net output #0: cross_entropy_loss = 156.738 (* 1 = 156.738 loss)\r\n",
        "I0309 02:20:59.680248 1946825472 solver.cpp:222]     Train net output #1: l2_error = 18.5453\r\n",
        "I0309 02:20:59.680255 1946825472 solver.cpp:419] Iteration 500, lr = 0.01\r\n"
       ]
      },
      {
       "output_type": "stream",
       "stream": "stdout",
       "text": [
        "I0309 02:21:02.914283 1946825472 solver.cpp:207] Iteration 600, loss = 140.499\r\n",
        "I0309 02:21:02.914327 1946825472 solver.cpp:222]     Train net output #0: cross_entropy_loss = 140.499 (* 1 = 140.499 loss)\r\n",
        "I0309 02:21:02.914337 1946825472 solver.cpp:222]     Train net output #1: l2_error = 15.0207\r\n",
        "I0309 02:21:02.914345 1946825472 solver.cpp:419] Iteration 600, lr = 0.01\r\n"
       ]
      },
      {
       "output_type": "stream",
       "stream": "stdout",
       "text": [
        "I0309 02:21:06.043959 1946825472 solver.cpp:207] Iteration 700, loss = 130.818\r\n",
        "I0309 02:21:06.044005 1946825472 solver.cpp:222]     Train net output #0: cross_entropy_loss = 130.818 (* 1 = 130.818 loss)\r\n",
        "I0309 02:21:06.044015 1946825472 solver.cpp:222]     Train net output #1: l2_error = 13.4095\r\n",
        "I0309 02:21:06.044023 1946825472 solver.cpp:419] Iteration 700, lr = 0.01\r\n"
       ]
      },
      {
       "output_type": "stream",
       "stream": "stdout",
       "text": [
        "I0309 02:21:09.151939 1946825472 solver.cpp:207] Iteration 800, loss = 136.246\r\n",
        "I0309 02:21:09.151984 1946825472 solver.cpp:222]     Train net output #0: cross_entropy_loss = 136.246 (* 1 = 136.246 loss)\r\n",
        "I0309 02:21:09.151994 1946825472 solver.cpp:222]     Train net output #1: l2_error = 14.1703\r\n",
        "I0309 02:21:09.152004 1946825472 solver.cpp:419] Iteration 800, lr = 0.01\r\n"
       ]
      },
      {
       "output_type": "stream",
       "stream": "stdout",
       "text": [
        "I0309 02:21:12.286449 1946825472 solver.cpp:207] Iteration 900, loss = 125.265\r\n",
        "I0309 02:21:12.286495 1946825472 solver.cpp:222]     Train net output #0: cross_entropy_loss = 125.265 (* 1 = 125.265 loss)\r\n",
        "I0309 02:21:12.286506 1946825472 solver.cpp:222]     Train net output #1: l2_error = 12.1235\r\n",
        "I0309 02:21:12.286514 1946825472 solver.cpp:419] Iteration 900, lr = 0.01\r\n"
       ]
      },
      {
       "output_type": "stream",
       "stream": "stdout",
       "text": [
        "I0309 02:21:15.325610 1946825472 solver.cpp:263] Iteration 1000, Testing net (#0)\r\n"
       ]
      },
      {
       "output_type": "stream",
       "stream": "stdout",
       "text": [
        "I0309 02:21:22.125326 1946825472 solver.cpp:301] Test loss: 112.972\r\n",
        "I0309 02:21:22.125368 1946825472 solver.cpp:314]     Test net output #0: cross_entropy_loss = 112.972 (* 1 = 112.972 loss)\r\n",
        "I0309 02:21:22.125378 1946825472 solver.cpp:314]     Test net output #1: l2_error = 10.4619\r\n",
        "I0309 02:21:22.125385 1946825472 solver.cpp:263] Iteration 1000, Testing net (#1)\r\n"
       ]
      },
      {
       "output_type": "stream",
       "stream": "stdout",
       "text": [
        "I0309 02:21:23.471580 1946825472 solver.cpp:301] Test loss: 111.701\r\n",
        "I0309 02:21:23.471623 1946825472 solver.cpp:314]     Test net output #0: cross_entropy_loss = 111.701 (* 1 = 111.701 loss)\r\n",
        "I0309 02:21:23.471632 1946825472 solver.cpp:314]     Test net output #1: l2_error = 10.2729\r\n",
        "I0309 02:21:23.494704 1946825472 solver.cpp:207] Iteration 1000, loss = 107.837\r\n",
        "I0309 02:21:23.494753 1946825472 solver.cpp:222]     Train net output #0: cross_entropy_loss = 107.837 (* 1 = 107.837 loss)\r\n",
        "I0309 02:21:23.494768 1946825472 solver.cpp:222]     Train net output #1: l2_error = 9.76395\r\n",
        "I0309 02:21:23.494781 1946825472 solver.cpp:419] Iteration 1000, lr = 0.01\r\n"
       ]
      },
      {
       "output_type": "stream",
       "stream": "stdout",
       "text": [
        "I0309 02:21:26.536331 1946825472 solver.cpp:207] Iteration 1100, loss = 102.364\r\n",
        "I0309 02:21:26.536377 1946825472 solver.cpp:222]     Train net output #0: cross_entropy_loss = 102.364 (* 1 = 102.364 loss)\r\n",
        "I0309 02:21:26.536388 1946825472 solver.cpp:222]     Train net output #1: l2_error = 9.18424\r\n",
        "I0309 02:21:26.536396 1946825472 solver.cpp:419] Iteration 1100, lr = 0.01\r\n"
       ]
      },
      {
       "output_type": "stream",
       "stream": "stdout",
       "text": [
        "I0309 02:21:29.607250 1946825472 solver.cpp:207] Iteration 1200, loss = 104.821\r\n",
        "I0309 02:21:29.607336 1946825472 solver.cpp:222]     Train net output #0: cross_entropy_loss = 104.821 (* 1 = 104.821 loss)\r\n",
        "I0309 02:21:29.607345 1946825472 solver.cpp:222]     Train net output #1: l2_error = 9.14129\r\n",
        "I0309 02:21:29.607353 1946825472 solver.cpp:419] Iteration 1200, lr = 0.01\r\n"
       ]
      },
      {
       "output_type": "stream",
       "stream": "stdout",
       "text": [
        "I0309 02:21:32.682386 1946825472 solver.cpp:207] Iteration 1300, loss = 100.873\r\n",
        "I0309 02:21:32.682432 1946825472 solver.cpp:222]     Train net output #0: cross_entropy_loss = 100.873 (* 1 = 100.873 loss)\r\n",
        "I0309 02:21:32.682442 1946825472 solver.cpp:222]     Train net output #1: l2_error = 8.40369\r\n",
        "I0309 02:21:32.682451 1946825472 solver.cpp:419] Iteration 1300, lr = 0.01\r\n"
       ]
      },
      {
       "output_type": "stream",
       "stream": "stdout",
       "text": [
        "I0309 02:21:35.699621 1946825472 solver.cpp:207] Iteration 1400, loss = 103.306\r\n",
        "I0309 02:21:35.699669 1946825472 solver.cpp:222]     Train net output #0: cross_entropy_loss = 103.306 (* 1 = 103.306 loss)\r\n",
        "I0309 02:21:35.699679 1946825472 solver.cpp:222]     Train net output #1: l2_error = 8.53476\r\n",
        "I0309 02:21:35.699688 1946825472 solver.cpp:419] Iteration 1400, lr = 0.01\r\n"
       ]
      },
      {
       "output_type": "stream",
       "stream": "stdout",
       "text": [
        "I0309 02:21:38.749645 1946825472 solver.cpp:263] Iteration 1500, Testing net (#0)\r\n"
       ]
      },
      {
       "output_type": "stream",
       "stream": "stdout",
       "text": [
        "I0309 02:21:45.537462 1946825472 solver.cpp:301] Test loss: 93.989\r\n",
        "I0309 02:21:45.537505 1946825472 solver.cpp:314]     Test net output #0: cross_entropy_loss = 93.989 (* 1 = 93.989 loss)\r\n",
        "I0309 02:21:45.537513 1946825472 solver.cpp:314]     Test net output #1: l2_error = 7.27871\r\n",
        "I0309 02:21:45.537521 1946825472 solver.cpp:263] Iteration 1500, Testing net (#1)\r\n"
       ]
      },
      {
       "output_type": "stream",
       "stream": "stdout",
       "text": [
        "I0309 02:21:46.924582 1946825472 solver.cpp:301] Test loss: 92.6738\r\n",
        "I0309 02:21:46.924626 1946825472 solver.cpp:314]     Test net output #0: cross_entropy_loss = 92.6738 (* 1 = 92.6738 loss)\r\n",
        "I0309 02:21:46.924635 1946825472 solver.cpp:314]     Test net output #1: l2_error = 7.1016\r\n",
        "I0309 02:21:46.949496 1946825472 solver.cpp:207] Iteration 1500, loss = 101.876\r\n",
        "I0309 02:21:46.949540 1946825472 solver.cpp:222]     Train net output #0: cross_entropy_loss = 101.876 (* 1 = 101.876 loss)\r\n",
        "I0309 02:21:46.949549 1946825472 solver.cpp:222]     Train net output #1: l2_error = 8.22002\r\n",
        "I0309 02:21:46.949558 1946825472 solver.cpp:419] Iteration 1500, lr = 0.01\r\n"
       ]
      },
      {
       "output_type": "stream",
       "stream": "stdout",
       "text": [
        "I0309 02:21:50.080668 1946825472 solver.cpp:207] Iteration 1600, loss = 87.986\r\n",
        "I0309 02:21:50.080713 1946825472 solver.cpp:222]     Train net output #0: cross_entropy_loss = 87.986 (* 1 = 87.986 loss)\r\n",
        "I0309 02:21:50.080721 1946825472 solver.cpp:222]     Train net output #1: l2_error = 6.45673\r\n",
        "I0309 02:21:50.080729 1946825472 solver.cpp:419] Iteration 1600, lr = 0.01\r\n"
       ]
      },
      {
       "output_type": "stream",
       "stream": "stdout",
       "text": [
        "I0309 02:21:53.273010 1946825472 solver.cpp:207] Iteration 1700, loss = 85.5088\r\n",
        "I0309 02:21:53.273058 1946825472 solver.cpp:222]     Train net output #0: cross_entropy_loss = 85.5088 (* 1 = 85.5088 loss)\r\n",
        "I0309 02:21:53.273068 1946825472 solver.cpp:222]     Train net output #1: l2_error = 6.3221\r\n",
        "I0309 02:21:53.273077 1946825472 solver.cpp:419] Iteration 1700, lr = 0.01\r\n"
       ]
      },
      {
       "output_type": "stream",
       "stream": "stdout",
       "text": [
        "I0309 02:21:56.354074 1946825472 solver.cpp:207] Iteration 1800, loss = 91.1222\r\n",
        "I0309 02:21:56.354120 1946825472 solver.cpp:222]     Train net output #0: cross_entropy_loss = 91.1222 (* 1 = 91.1222 loss)\r\n",
        "I0309 02:21:56.354128 1946825472 solver.cpp:222]     Train net output #1: l2_error = 6.90957\r\n",
        "I0309 02:21:56.354136 1946825472 solver.cpp:419] Iteration 1800, lr = 0.01\r\n"
       ]
      },
      {
       "output_type": "stream",
       "stream": "stdout",
       "text": [
        "I0309 02:21:59.464083 1946825472 solver.cpp:207] Iteration 1900, loss = 87.2981\r\n",
        "I0309 02:21:59.464128 1946825472 solver.cpp:222]     Train net output #0: cross_entropy_loss = 87.2981 (* 1 = 87.2981 loss)\r\n",
        "I0309 02:21:59.464138 1946825472 solver.cpp:222]     Train net output #1: l2_error = 6.17905\r\n",
        "I0309 02:21:59.464146 1946825472 solver.cpp:419] Iteration 1900, lr = 0.01\r\n"
       ]
      },
      {
       "output_type": "stream",
       "stream": "stdout",
       "text": [
        "I0309 02:22:02.517691 1946825472 solver.cpp:263] Iteration 2000, Testing net (#0)\r\n"
       ]
      },
      {
       "output_type": "stream",
       "stream": "stdout",
       "text": [
        "I0309 02:22:09.185921 1946825472 solver.cpp:301] Test loss: 86.4193\r\n",
        "I0309 02:22:09.185963 1946825472 solver.cpp:314]     Test net output #0: cross_entropy_loss = 86.4193 (* 1 = 86.4193 loss)\r\n",
        "I0309 02:22:09.185972 1946825472 solver.cpp:314]     Test net output #1: l2_error = 6.06973\r\n",
        "I0309 02:22:09.185979 1946825472 solver.cpp:263] Iteration 2000, Testing net (#1)\r\n"
       ]
      },
      {
       "output_type": "stream",
       "stream": "stdout",
       "text": [
        "I0309 02:22:10.519960 1946825472 solver.cpp:301] Test loss: 85.2255\r\n",
        "I0309 02:22:10.520001 1946825472 solver.cpp:314]     Test net output #0: cross_entropy_loss = 85.2255 (* 1 = 85.2255 loss)\r\n",
        "I0309 02:22:10.520010 1946825472 solver.cpp:314]     Test net output #1: l2_error = 5.91397\r\n"
       ]
      },
      {
       "output_type": "stream",
       "stream": "stdout",
       "text": [
        "I0309 02:22:10.545912 1946825472 solver.cpp:207] Iteration 2000, loss = 90.2476\r\n",
        "I0309 02:22:10.545955 1946825472 solver.cpp:222]     Train net output #0: cross_entropy_loss = 90.2476 (* 1 = 90.2476 loss)\r\n",
        "I0309 02:22:10.545964 1946825472 solver.cpp:222]     Train net output #1: l2_error = 6.48947\r\n",
        "I0309 02:22:10.545974 1946825472 solver.cpp:419] Iteration 2000, lr = 0.01\r\n"
       ]
      },
      {
       "output_type": "stream",
       "stream": "stdout",
       "text": [
        "I0309 02:22:13.718641 1946825472 solver.cpp:207] Iteration 2100, loss = 90.007\r\n",
        "I0309 02:22:13.718686 1946825472 solver.cpp:222]     Train net output #0: cross_entropy_loss = 90.007 (* 1 = 90.007 loss)\r\n",
        "I0309 02:22:13.718696 1946825472 solver.cpp:222]     Train net output #1: l2_error = 6.25482\r\n",
        "I0309 02:22:13.718704 1946825472 solver.cpp:419] Iteration 2100, lr = 0.01\r\n"
       ]
      },
      {
       "output_type": "stream",
       "stream": "stdout",
       "text": [
        "I0309 02:22:16.783205 1946825472 solver.cpp:207] Iteration 2200, loss = 79.5947\r\n",
        "I0309 02:22:16.783249 1946825472 solver.cpp:222]     Train net output #0: cross_entropy_loss = 79.5947 (* 1 = 79.5947 loss)\r\n",
        "I0309 02:22:16.783258 1946825472 solver.cpp:222]     Train net output #1: l2_error = 5.14561\r\n",
        "I0309 02:22:16.783267 1946825472 solver.cpp:419] Iteration 2200, lr = 0.01\r\n"
       ]
      },
      {
       "output_type": "stream",
       "stream": "stdout",
       "text": [
        "I0309 02:22:19.946121 1946825472 solver.cpp:207] Iteration 2300, loss = 77.2186\r\n",
        "I0309 02:22:19.946164 1946825472 solver.cpp:222]     Train net output #0: cross_entropy_loss = 77.2186 (* 1 = 77.2186 loss)\r\n",
        "I0309 02:22:19.946174 1946825472 solver.cpp:222]     Train net output #1: l2_error = 5.01656\r\n",
        "I0309 02:22:19.946182 1946825472 solver.cpp:419] Iteration 2300, lr = 0.01\r\n"
       ]
      },
      {
       "output_type": "stream",
       "stream": "stdout",
       "text": [
        "I0309 02:22:23.068171 1946825472 solver.cpp:207] Iteration 2400, loss = 86.4751\r\n",
        "I0309 02:22:23.068214 1946825472 solver.cpp:222]     Train net output #0: cross_entropy_loss = 86.4751 (* 1 = 86.4751 loss)\r\n",
        "I0309 02:22:23.068224 1946825472 solver.cpp:222]     Train net output #1: l2_error = 6.08274\r\n",
        "I0309 02:22:23.068233 1946825472 solver.cpp:419] Iteration 2400, lr = 0.01\r\n"
       ]
      },
      {
       "output_type": "stream",
       "stream": "stdout",
       "text": [
        "I0309 02:22:26.109268 1946825472 solver.cpp:263] Iteration 2500, Testing net (#0)\r\n"
       ]
      },
      {
       "output_type": "stream",
       "stream": "stdout",
       "text": [
        "I0309 02:22:33.185039 1946825472 solver.cpp:301] Test loss: 79.2988\r\n",
        "I0309 02:22:33.185116 1946825472 solver.cpp:314]     Test net output #0: cross_entropy_loss = 79.2988 (* 1 = 79.2988 loss)\r\n",
        "I0309 02:22:33.185125 1946825472 solver.cpp:314]     Test net output #1: l2_error = 4.93061\r\n",
        "I0309 02:22:33.185132 1946825472 solver.cpp:263] Iteration 2500, Testing net (#1)\r\n"
       ]
      },
      {
       "output_type": "stream",
       "stream": "stdout",
       "text": [
        "I0309 02:22:34.507973 1946825472 solver.cpp:301] Test loss: 78.3048\r\n",
        "I0309 02:22:34.508018 1946825472 solver.cpp:314]     Test net output #0: cross_entropy_loss = 78.3048 (* 1 = 78.3048 loss)\r\n",
        "I0309 02:22:34.508026 1946825472 solver.cpp:314]     Test net output #1: l2_error = 4.80122\r\n"
       ]
      },
      {
       "output_type": "stream",
       "stream": "stdout",
       "text": [
        "I0309 02:22:34.531823 1946825472 solver.cpp:207] Iteration 2500, loss = 79.9408\r\n",
        "I0309 02:22:34.531870 1946825472 solver.cpp:222]     Train net output #0: cross_entropy_loss = 79.9408 (* 1 = 79.9408 loss)\r\n",
        "I0309 02:22:34.531880 1946825472 solver.cpp:222]     Train net output #1: l2_error = 5.01183\r\n",
        "I0309 02:22:34.531889 1946825472 solver.cpp:419] Iteration 2500, lr = 0.01\r\n"
       ]
      },
      {
       "output_type": "stream",
       "stream": "stdout",
       "text": [
        "I0309 02:22:37.510224 1946825472 solver.cpp:207] Iteration 2600, loss = 81.8952\r\n",
        "I0309 02:22:37.510269 1946825472 solver.cpp:222]     Train net output #0: cross_entropy_loss = 81.8952 (* 1 = 81.8952 loss)\r\n",
        "I0309 02:22:37.510279 1946825472 solver.cpp:222]     Train net output #1: l2_error = 5.18659\r\n",
        "I0309 02:22:37.510288 1946825472 solver.cpp:419] Iteration 2600, lr = 0.01\r\n"
       ]
      },
      {
       "output_type": "stream",
       "stream": "stdout",
       "text": [
        "I0309 02:22:40.513823 1946825472 solver.cpp:207] Iteration 2700, loss = 83.9919\r\n",
        "I0309 02:22:40.513866 1946825472 solver.cpp:222]     Train net output #0: cross_entropy_loss = 83.9919 (* 1 = 83.9919 loss)\r\n",
        "I0309 02:22:40.513875 1946825472 solver.cpp:222]     Train net output #1: l2_error = 5.31788\r\n",
        "I0309 02:22:40.513883 1946825472 solver.cpp:419] Iteration 2700, lr = 0.01\r\n"
       ]
      },
      {
       "output_type": "stream",
       "stream": "stdout",
       "text": [
        "I0309 02:22:43.776679 1946825472 solver.cpp:207] Iteration 2800, loss = 74.9169\r\n",
        "I0309 02:22:43.776726 1946825472 solver.cpp:222]     Train net output #0: cross_entropy_loss = 74.9169 (* 1 = 74.9169 loss)\r\n",
        "I0309 02:22:43.776736 1946825472 solver.cpp:222]     Train net output #1: l2_error = 4.42807\r\n",
        "I0309 02:22:43.776746 1946825472 solver.cpp:419] Iteration 2800, lr = 0.01\r\n"
       ]
      },
      {
       "output_type": "stream",
       "stream": "stdout",
       "text": [
        "I0309 02:22:46.796422 1946825472 solver.cpp:207] Iteration 2900, loss = 72.6753\r\n",
        "I0309 02:22:46.796476 1946825472 solver.cpp:222]     Train net output #0: cross_entropy_loss = 72.6753 (* 1 = 72.6753 loss)\r\n",
        "I0309 02:22:46.796491 1946825472 solver.cpp:222]     Train net output #1: l2_error = 4.27304\r\n",
        "I0309 02:22:46.796504 1946825472 solver.cpp:419] Iteration 2900, lr = 0.01\r\n"
       ]
      },
      {
       "output_type": "stream",
       "stream": "stdout",
       "text": [
        "I0309 02:22:49.803148 1946825472 solver.cpp:263] Iteration 3000, Testing net (#0)\r\n"
       ]
      },
      {
       "output_type": "stream",
       "stream": "stdout",
       "text": [
        "I0309 02:22:56.357620 1946825472 solver.cpp:301] Test loss: 85.7241\r\n",
        "I0309 02:22:56.357661 1946825472 solver.cpp:314]     Test net output #0: cross_entropy_loss = 85.7241 (* 1 = 85.7241 loss)\r\n",
        "I0309 02:22:56.357673 1946825472 solver.cpp:314]     Test net output #1: l2_error = 6.06668\r\n",
        "I0309 02:22:56.357681 1946825472 solver.cpp:263] Iteration 3000, Testing net (#1)\r\n"
       ]
      },
      {
       "output_type": "stream",
       "stream": "stdout",
       "text": [
        "I0309 02:22:57.681499 1946825472 solver.cpp:301] Test loss: 85.2121\r\n",
        "I0309 02:22:57.681542 1946825472 solver.cpp:314]     Test net output #0: cross_entropy_loss = 85.2121 (* 1 = 85.2121 loss)\r\n",
        "I0309 02:22:57.681551 1946825472 solver.cpp:314]     Test net output #1: l2_error = 6.00081\r\n",
        "I0309 02:22:57.703354 1946825472 solver.cpp:207] Iteration 3000, loss = 82.8916\r\n",
        "I0309 02:22:57.703397 1946825472 solver.cpp:222]     Train net output #0: cross_entropy_loss = 82.8916 (* 1 = 82.8916 loss)\r\n",
        "I0309 02:22:57.703407 1946825472 solver.cpp:222]     Train net output #1: l2_error = 5.5674\r\n",
        "I0309 02:22:57.703414 1946825472 solver.cpp:419] Iteration 3000, lr = 0.01\r\n"
       ]
      },
      {
       "output_type": "stream",
       "stream": "stdout",
       "text": [
        "I0309 02:23:00.714507 1946825472 solver.cpp:207] Iteration 3100, loss = 75.8521\r\n",
        "I0309 02:23:00.714547 1946825472 solver.cpp:222]     Train net output #0: cross_entropy_loss = 75.8521 (* 1 = 75.8521 loss)\r\n",
        "I0309 02:23:00.714557 1946825472 solver.cpp:222]     Train net output #1: l2_error = 4.34211\r\n",
        "I0309 02:23:00.714565 1946825472 solver.cpp:419] Iteration 3100, lr = 0.01\r\n"
       ]
      },
      {
       "output_type": "stream",
       "stream": "stdout",
       "text": [
        "I0309 02:23:03.725946 1946825472 solver.cpp:207] Iteration 3200, loss = 78.2428\r\n",
        "I0309 02:23:03.726027 1946825472 solver.cpp:222]     Train net output #0: cross_entropy_loss = 78.2428 (* 1 = 78.2428 loss)\r\n",
        "I0309 02:23:03.726037 1946825472 solver.cpp:222]     Train net output #1: l2_error = 4.62996\r\n",
        "I0309 02:23:03.726045 1946825472 solver.cpp:419] Iteration 3200, lr = 0.01\r\n"
       ]
      },
      {
       "output_type": "stream",
       "stream": "stdout",
       "text": [
        "I0309 02:23:06.821372 1946825472 solver.cpp:207] Iteration 3300, loss = 79.4335\r\n",
        "I0309 02:23:06.821418 1946825472 solver.cpp:222]     Train net output #0: cross_entropy_loss = 79.4335 (* 1 = 79.4335 loss)\r\n",
        "I0309 02:23:06.821426 1946825472 solver.cpp:222]     Train net output #1: l2_error = 4.62838\r\n",
        "I0309 02:23:06.821435 1946825472 solver.cpp:419] Iteration 3300, lr = 0.01\r\n"
       ]
      },
      {
       "output_type": "stream",
       "stream": "stdout",
       "text": [
        "I0309 02:23:09.869200 1946825472 solver.cpp:207] Iteration 3400, loss = 71.6022\r\n",
        "I0309 02:23:09.869245 1946825472 solver.cpp:222]     Train net output #0: cross_entropy_loss = 71.6022 (* 1 = 71.6022 loss)\r\n",
        "I0309 02:23:09.869254 1946825472 solver.cpp:222]     Train net output #1: l2_error = 3.90235\r\n",
        "I0309 02:23:09.869262 1946825472 solver.cpp:419] Iteration 3400, lr = 0.01\r\n"
       ]
      },
      {
       "output_type": "stream",
       "stream": "stdout",
       "text": [
        "I0309 02:23:12.948176 1946825472 solver.cpp:263] Iteration 3500, Testing net (#0)\r\n"
       ]
      },
      {
       "output_type": "stream",
       "stream": "stdout",
       "text": [
        "I0309 02:23:19.513146 1946825472 solver.cpp:301] Test loss: 73.1887\r\n",
        "I0309 02:23:19.513190 1946825472 solver.cpp:314]     Test net output #0: cross_entropy_loss = 73.1887 (* 1 = 73.1887 loss)\r\n",
        "I0309 02:23:19.513198 1946825472 solver.cpp:314]     Test net output #1: l2_error = 3.98801\r\n",
        "I0309 02:23:19.513206 1946825472 solver.cpp:263] Iteration 3500, Testing net (#1)\r\n"
       ]
      },
      {
       "output_type": "stream",
       "stream": "stdout",
       "text": [
        "I0309 02:23:20.816349 1946825472 solver.cpp:301] Test loss: 72.7257\r\n",
        "I0309 02:23:20.816392 1946825472 solver.cpp:314]     Test net output #0: cross_entropy_loss = 72.7257 (* 1 = 72.7257 loss)\r\n",
        "I0309 02:23:20.816401 1946825472 solver.cpp:314]     Test net output #1: l2_error = 3.93756\r\n",
        "I0309 02:23:20.838094 1946825472 solver.cpp:207] Iteration 3500, loss = 69.9259\r\n",
        "I0309 02:23:20.838138 1946825472 solver.cpp:222]     Train net output #0: cross_entropy_loss = 69.9259 (* 1 = 69.9259 loss)\r\n",
        "I0309 02:23:20.838147 1946825472 solver.cpp:222]     Train net output #1: l2_error = 3.84798\r\n",
        "I0309 02:23:20.838155 1946825472 solver.cpp:419] Iteration 3500, lr = 0.01\r\n"
       ]
      },
      {
       "output_type": "stream",
       "stream": "stdout",
       "text": [
        "I0309 02:23:23.820338 1946825472 solver.cpp:207] Iteration 3600, loss = 76.9625\r\n",
        "I0309 02:23:23.820381 1946825472 solver.cpp:222]     Train net output #0: cross_entropy_loss = 76.9625 (* 1 = 76.9625 loss)\r\n",
        "I0309 02:23:23.820390 1946825472 solver.cpp:222]     Train net output #1: l2_error = 4.55909\r\n",
        "I0309 02:23:23.820399 1946825472 solver.cpp:419] Iteration 3600, lr = 0.01\r\n"
       ]
      },
      {
       "output_type": "stream",
       "stream": "stdout",
       "text": [
        "I0309 02:23:26.814784 1946825472 solver.cpp:207] Iteration 3700, loss = 72.7361\r\n",
        "I0309 02:23:26.814828 1946825472 solver.cpp:222]     Train net output #0: cross_entropy_loss = 72.7361 (* 1 = 72.7361 loss)\r\n",
        "I0309 02:23:26.814837 1946825472 solver.cpp:222]     Train net output #1: l2_error = 3.85529\r\n",
        "I0309 02:23:26.814846 1946825472 solver.cpp:419] Iteration 3700, lr = 0.01\r\n"
       ]
      },
      {
       "output_type": "stream",
       "stream": "stdout",
       "text": [
        "I0309 02:23:29.856484 1946825472 solver.cpp:207] Iteration 3800, loss = 75.309\r\n",
        "I0309 02:23:29.856528 1946825472 solver.cpp:222]     Train net output #0: cross_entropy_loss = 75.309 (* 1 = 75.309 loss)\r\n",
        "I0309 02:23:29.856539 1946825472 solver.cpp:222]     Train net output #1: l2_error = 4.19779\r\n",
        "I0309 02:23:29.856546 1946825472 solver.cpp:419] Iteration 3800, lr = 0.01\r\n"
       ]
      },
      {
       "output_type": "stream",
       "stream": "stdout",
       "text": [
        "I0309 02:23:32.854876 1946825472 solver.cpp:207] Iteration 3900, loss = 76.512\r\n",
        "I0309 02:23:32.854919 1946825472 solver.cpp:222]     Train net output #0: cross_entropy_loss = 76.512 (* 1 = 76.512 loss)\r\n",
        "I0309 02:23:32.854929 1946825472 solver.cpp:222]     Train net output #1: l2_error = 4.16699\r\n",
        "I0309 02:23:32.854938 1946825472 solver.cpp:419] Iteration 3900, lr = 0.01\r\n"
       ]
      },
      {
       "output_type": "stream",
       "stream": "stdout",
       "text": [
        "I0309 02:23:35.870805 1946825472 solver.cpp:263] Iteration 4000, Testing net (#0)\r\n"
       ]
      },
      {
       "output_type": "stream",
       "stream": "stdout",
       "text": [
        "I0309 02:23:42.533679 1946825472 solver.cpp:301] Test loss: 70.6499\r\n",
        "I0309 02:23:42.533723 1946825472 solver.cpp:314]     Test net output #0: cross_entropy_loss = 70.6499 (* 1 = 70.6499 loss)\r\n",
        "I0309 02:23:42.533732 1946825472 solver.cpp:314]     Test net output #1: l2_error = 3.57305\r\n",
        "I0309 02:23:42.533740 1946825472 solver.cpp:263] Iteration 4000, Testing net (#1)\r\n"
       ]
      },
      {
       "output_type": "stream",
       "stream": "stdout",
       "text": [
        "I0309 02:23:43.868748 1946825472 solver.cpp:301] Test loss: 70.068\r\n",
        "I0309 02:23:43.868790 1946825472 solver.cpp:314]     Test net output #0: cross_entropy_loss = 70.068 (* 1 = 70.068 loss)\r\n",
        "I0309 02:23:43.868799 1946825472 solver.cpp:314]     Test net output #1: l2_error = 3.51193\r\n"
       ]
      },
      {
       "output_type": "stream",
       "stream": "stdout",
       "text": [
        "I0309 02:23:43.893996 1946825472 solver.cpp:207] Iteration 4000, loss = 68.5966\r\n",
        "I0309 02:23:43.894040 1946825472 solver.cpp:222]     Train net output #0: cross_entropy_loss = 68.5966 (* 1 = 68.5966 loss)\r\n",
        "I0309 02:23:43.894049 1946825472 solver.cpp:222]     Train net output #1: l2_error = 3.4167\r\n",
        "I0309 02:23:43.894057 1946825472 solver.cpp:419] Iteration 4000, lr = 0.01\r\n"
       ]
      },
      {
       "output_type": "stream",
       "stream": "stdout",
       "text": [
        "I0309 02:23:46.956212 1946825472 solver.cpp:207] Iteration 4100, loss = 67.6666\r\n",
        "I0309 02:23:46.956256 1946825472 solver.cpp:222]     Train net output #0: cross_entropy_loss = 67.6666 (* 1 = 67.6666 loss)\r\n",
        "I0309 02:23:46.956266 1946825472 solver.cpp:222]     Train net output #1: l2_error = 3.49412\r\n",
        "I0309 02:23:46.956274 1946825472 solver.cpp:419] Iteration 4100, lr = 0.01\r\n"
       ]
      },
      {
       "output_type": "stream",
       "stream": "stdout",
       "text": [
        "I0309 02:23:49.978126 1946825472 solver.cpp:207] Iteration 4200, loss = 73.4159\r\n",
        "I0309 02:23:49.978171 1946825472 solver.cpp:222]     Train net output #0: cross_entropy_loss = 73.4159 (* 1 = 73.4159 loss)\r\n",
        "I0309 02:23:49.978181 1946825472 solver.cpp:222]     Train net output #1: l2_error = 3.99514\r\n",
        "I0309 02:23:49.978189 1946825472 solver.cpp:419] Iteration 4200, lr = 0.01\r\n"
       ]
      },
      {
       "output_type": "stream",
       "stream": "stdout",
       "text": [
        "I0309 02:23:53.022855 1946825472 solver.cpp:207] Iteration 4300, loss = 70.2439\r\n",
        "I0309 02:23:53.022899 1946825472 solver.cpp:222]     Train net output #0: cross_entropy_loss = 70.2439 (* 1 = 70.2439 loss)\r\n",
        "I0309 02:23:53.022908 1946825472 solver.cpp:222]     Train net output #1: l2_error = 3.45462\r\n",
        "I0309 02:23:53.022917 1946825472 solver.cpp:419] Iteration 4300, lr = 0.01\r\n"
       ]
      },
      {
       "output_type": "stream",
       "stream": "stdout",
       "text": [
        "I0309 02:23:55.994703 1946825472 solver.cpp:207] Iteration 4400, loss = 72.4903\r\n",
        "I0309 02:23:55.994746 1946825472 solver.cpp:222]     Train net output #0: cross_entropy_loss = 72.4903 (* 1 = 72.4903 loss)\r\n",
        "I0309 02:23:55.994755 1946825472 solver.cpp:222]     Train net output #1: l2_error = 3.76313\r\n",
        "I0309 02:23:55.994763 1946825472 solver.cpp:419] Iteration 4400, lr = 0.01\r\n"
       ]
      },
      {
       "output_type": "stream",
       "stream": "stdout",
       "text": [
        "I0309 02:23:59.041770 1946825472 solver.cpp:263] Iteration 4500, Testing net (#0)\r\n"
       ]
      },
      {
       "output_type": "stream",
       "stream": "stdout",
       "text": [
        "I0309 02:24:05.544730 1946825472 solver.cpp:301] Test loss: 70.0895\r\n",
        "I0309 02:24:05.544770 1946825472 solver.cpp:314]     Test net output #0: cross_entropy_loss = 70.0895 (* 1 = 70.0895 loss)\r\n",
        "I0309 02:24:05.544780 1946825472 solver.cpp:314]     Test net output #1: l2_error = 3.47416\r\n",
        "I0309 02:24:05.544785 1946825472 solver.cpp:263] Iteration 4500, Testing net (#1)\r\n"
       ]
      },
      {
       "output_type": "stream",
       "stream": "stdout",
       "text": [
        "I0309 02:24:06.849592 1946825472 solver.cpp:301] Test loss: 69.4759\r\n",
        "I0309 02:24:06.849653 1946825472 solver.cpp:314]     Test net output #0: cross_entropy_loss = 69.4759 (* 1 = 69.4759 loss)\r\n",
        "I0309 02:24:06.849661 1946825472 solver.cpp:314]     Test net output #1: l2_error = 3.41654\r\n"
       ]
      },
      {
       "output_type": "stream",
       "stream": "stdout",
       "text": [
        "I0309 02:24:06.874421 1946825472 solver.cpp:207] Iteration 4500, loss = 74.7408\r\n",
        "I0309 02:24:06.874466 1946825472 solver.cpp:222]     Train net output #0: cross_entropy_loss = 74.7408 (* 1 = 74.7408 loss)\r\n",
        "I0309 02:24:06.874475 1946825472 solver.cpp:222]     Train net output #1: l2_error = 3.88024\r\n",
        "I0309 02:24:06.874483 1946825472 solver.cpp:419] Iteration 4500, lr = 0.01\r\n"
       ]
      },
      {
       "output_type": "stream",
       "stream": "stdout",
       "text": [
        "I0309 02:24:09.941757 1946825472 solver.cpp:207] Iteration 4600, loss = 66.7226\r\n",
        "I0309 02:24:09.941799 1946825472 solver.cpp:222]     Train net output #0: cross_entropy_loss = 66.7226 (* 1 = 66.7226 loss)\r\n",
        "I0309 02:24:09.941808 1946825472 solver.cpp:222]     Train net output #1: l2_error = 3.12651\r\n",
        "I0309 02:24:09.941817 1946825472 solver.cpp:419] Iteration 4600, lr = 0.01\r\n"
       ]
      },
      {
       "output_type": "stream",
       "stream": "stdout",
       "text": [
        "I0309 02:24:12.934023 1946825472 solver.cpp:207] Iteration 4700, loss = 65.9165\r\n",
        "I0309 02:24:12.934068 1946825472 solver.cpp:222]     Train net output #0: cross_entropy_loss = 65.9165 (* 1 = 65.9165 loss)\r\n",
        "I0309 02:24:12.934077 1946825472 solver.cpp:222]     Train net output #1: l2_error = 3.22876\r\n",
        "I0309 02:24:12.934085 1946825472 solver.cpp:419] Iteration 4700, lr = 0.01\r\n"
       ]
      },
      {
       "output_type": "stream",
       "stream": "stdout",
       "text": [
        "I0309 02:24:15.911840 1946825472 solver.cpp:207] Iteration 4800, loss = 71.6465\r\n",
        "I0309 02:24:15.911885 1946825472 solver.cpp:222]     Train net output #0: cross_entropy_loss = 71.6465 (* 1 = 71.6465 loss)\r\n",
        "I0309 02:24:15.911893 1946825472 solver.cpp:222]     Train net output #1: l2_error = 3.73521\r\n",
        "I0309 02:24:15.911901 1946825472 solver.cpp:419] Iteration 4800, lr = 0.01\r\n"
       ]
      },
      {
       "output_type": "stream",
       "stream": "stdout",
       "text": [
        "I0309 02:24:18.941454 1946825472 solver.cpp:207] Iteration 4900, loss = 68.5618\r\n",
        "I0309 02:24:18.941499 1946825472 solver.cpp:222]     Train net output #0: cross_entropy_loss = 68.5618 (* 1 = 68.5618 loss)\r\n",
        "I0309 02:24:18.941509 1946825472 solver.cpp:222]     Train net output #1: l2_error = 3.19272\r\n",
        "I0309 02:24:18.941517 1946825472 solver.cpp:419] Iteration 4900, lr = 0.01\r\n"
       ]
      },
      {
       "output_type": "stream",
       "stream": "stdout",
       "text": [
        "I0309 02:24:21.893810 1946825472 solver.cpp:263] Iteration 5000, Testing net (#0)\r\n"
       ]
      },
      {
       "output_type": "stream",
       "stream": "stdout",
       "text": [
        "I0309 02:24:28.480520 1946825472 solver.cpp:301] Test loss: 68.7107\r\n",
        "I0309 02:24:28.480562 1946825472 solver.cpp:314]     Test net output #0: cross_entropy_loss = 68.7107 (* 1 = 68.7107 loss)\r\n",
        "I0309 02:24:28.480571 1946825472 solver.cpp:314]     Test net output #1: l2_error = 3.26981\r\n",
        "I0309 02:24:28.480578 1946825472 solver.cpp:263] Iteration 5000, Testing net (#1)\r\n"
       ]
      },
      {
       "output_type": "stream",
       "stream": "stdout",
       "text": [
        "I0309 02:24:29.793172 1946825472 solver.cpp:301] Test loss: 68.2554\r\n",
        "I0309 02:24:29.793216 1946825472 solver.cpp:314]     Test net output #0: cross_entropy_loss = 68.2554 (* 1 = 68.2554 loss)\r\n",
        "I0309 02:24:29.793226 1946825472 solver.cpp:314]     Test net output #1: l2_error = 3.23966\r\n",
        "I0309 02:24:29.816057 1946825472 solver.cpp:207] Iteration 5000, loss = 70.4823\r\n",
        "I0309 02:24:29.816102 1946825472 solver.cpp:222]     Train net output #0: cross_entropy_loss = 70.4823 (* 1 = 70.4823 loss)\r\n",
        "I0309 02:24:29.816110 1946825472 solver.cpp:222]     Train net output #1: l2_error = 3.47141\r\n",
        "I0309 02:24:29.816118 1946825472 solver.cpp:419] Iteration 5000, lr = 0.01\r\n"
       ]
      },
      {
       "output_type": "stream",
       "stream": "stdout",
       "text": [
        "I0309 02:24:32.797492 1946825472 solver.cpp:207] Iteration 5100, loss = 72.5475\r\n",
        "I0309 02:24:32.797536 1946825472 solver.cpp:222]     Train net output #0: cross_entropy_loss = 72.5475 (* 1 = 72.5475 loss)\r\n",
        "I0309 02:24:32.797545 1946825472 solver.cpp:222]     Train net output #1: l2_error = 3.52808\r\n",
        "I0309 02:24:32.797554 1946825472 solver.cpp:419] Iteration 5100, lr = 0.01\r\n"
       ]
      },
      {
       "output_type": "stream",
       "stream": "stdout",
       "text": [
        "I0309 02:24:35.814965 1946825472 solver.cpp:207] Iteration 5200, loss = 65.5806\r\n",
        "I0309 02:24:35.815011 1946825472 solver.cpp:222]     Train net output #0: cross_entropy_loss = 65.5806 (* 1 = 65.5806 loss)\r\n",
        "I0309 02:24:35.815019 1946825472 solver.cpp:222]     Train net output #1: l2_error = 2.95879\r\n",
        "I0309 02:24:35.815027 1946825472 solver.cpp:419] Iteration 5200, lr = 0.01\r\n"
       ]
      },
      {
       "output_type": "stream",
       "stream": "stdout",
       "text": [
        "I0309 02:24:38.815779 1946825472 solver.cpp:207] Iteration 5300, loss = 64.5381\r\n",
        "I0309 02:24:38.815865 1946825472 solver.cpp:222]     Train net output #0: cross_entropy_loss = 64.5381 (* 1 = 64.5381 loss)\r\n",
        "I0309 02:24:38.815875 1946825472 solver.cpp:222]     Train net output #1: l2_error = 3.00901\r\n",
        "I0309 02:24:38.815883 1946825472 solver.cpp:419] Iteration 5300, lr = 0.01\r\n"
       ]
      },
      {
       "output_type": "stream",
       "stream": "stdout",
       "text": [
        "I0309 02:24:41.870561 1946825472 solver.cpp:207] Iteration 5400, loss = 70.5054\r\n",
        "I0309 02:24:41.870611 1946825472 solver.cpp:222]     Train net output #0: cross_entropy_loss = 70.5054 (* 1 = 70.5054 loss)\r\n",
        "I0309 02:24:41.870622 1946825472 solver.cpp:222]     Train net output #1: l2_error = 3.54268\r\n",
        "I0309 02:24:41.870630 1946825472 solver.cpp:419] Iteration 5400, lr = 0.01\r\n"
       ]
      },
      {
       "output_type": "stream",
       "stream": "stdout",
       "text": [
        "I0309 02:24:44.877451 1946825472 solver.cpp:263] Iteration 5500, Testing net (#0)\r\n"
       ]
      },
      {
       "output_type": "stream",
       "stream": "stdout",
       "text": [
        "I0309 02:24:51.483733 1946825472 solver.cpp:301] Test loss: 67.3349\r\n",
        "I0309 02:24:51.483775 1946825472 solver.cpp:314]     Test net output #0: cross_entropy_loss = 67.3349 (* 1 = 67.3349 loss)\r\n",
        "I0309 02:24:51.483784 1946825472 solver.cpp:314]     Test net output #1: l2_error = 3.05083\r\n",
        "I0309 02:24:51.483791 1946825472 solver.cpp:263] Iteration 5500, Testing net (#1)\r\n"
       ]
      },
      {
       "output_type": "stream",
       "stream": "stdout",
       "text": [
        "I0309 02:24:52.794333 1946825472 solver.cpp:301] Test loss: 66.8576\r\n",
        "I0309 02:24:52.794374 1946825472 solver.cpp:314]     Test net output #0: cross_entropy_loss = 66.8576 (* 1 = 66.8576 loss)\r\n",
        "I0309 02:24:52.794384 1946825472 solver.cpp:314]     Test net output #1: l2_error = 3.01143\r\n",
        "I0309 02:24:52.819778 1946825472 solver.cpp:207] Iteration 5500, loss = 67.3899\r\n",
        "I0309 02:24:52.819824 1946825472 solver.cpp:222]     Train net output #0: cross_entropy_loss = 67.3899 (* 1 = 67.3899 loss)\r\n",
        "I0309 02:24:52.819835 1946825472 solver.cpp:222]     Train net output #1: l2_error = 3.01459\r\n",
        "I0309 02:24:52.819844 1946825472 solver.cpp:419] Iteration 5500, lr = 0.01\r\n"
       ]
      },
      {
       "output_type": "stream",
       "stream": "stdout",
       "text": [
        "I0309 02:24:55.818886 1946825472 solver.cpp:207] Iteration 5600, loss = 68.8612\r\n",
        "I0309 02:24:55.818930 1946825472 solver.cpp:222]     Train net output #0: cross_entropy_loss = 68.8612 (* 1 = 68.8612 loss)\r\n",
        "I0309 02:24:55.818940 1946825472 solver.cpp:222]     Train net output #1: l2_error = 3.22746\r\n",
        "I0309 02:24:55.818948 1946825472 solver.cpp:419] Iteration 5600, lr = 0.01\r\n"
       ]
      },
      {
       "output_type": "stream",
       "stream": "stdout",
       "text": [
        "I0309 02:24:58.880414 1946825472 solver.cpp:207] Iteration 5700, loss = 71.3783\r\n",
        "I0309 02:24:58.880457 1946825472 solver.cpp:222]     Train net output #0: cross_entropy_loss = 71.3783 (* 1 = 71.3783 loss)\r\n",
        "I0309 02:24:58.880467 1946825472 solver.cpp:222]     Train net output #1: l2_error = 3.35311\r\n",
        "I0309 02:24:58.880475 1946825472 solver.cpp:419] Iteration 5700, lr = 0.01\r\n"
       ]
      },
      {
       "output_type": "stream",
       "stream": "stdout",
       "text": [
        "I0309 02:25:01.864488 1946825472 solver.cpp:207] Iteration 5800, loss = 64.5037\r\n",
        "I0309 02:25:01.864532 1946825472 solver.cpp:222]     Train net output #0: cross_entropy_loss = 64.5037 (* 1 = 64.5037 loss)\r\n",
        "I0309 02:25:01.864542 1946825472 solver.cpp:222]     Train net output #1: l2_error = 2.78692\r\n",
        "I0309 02:25:01.864549 1946825472 solver.cpp:419] Iteration 5800, lr = 0.01\r\n"
       ]
      },
      {
       "output_type": "stream",
       "stream": "stdout",
       "text": [
        "I0309 02:25:04.846349 1946825472 solver.cpp:207] Iteration 5900, loss = 63.7268\r\n",
        "I0309 02:25:04.846391 1946825472 solver.cpp:222]     Train net output #0: cross_entropy_loss = 63.7268 (* 1 = 63.7268 loss)\r\n",
        "I0309 02:25:04.846400 1946825472 solver.cpp:222]     Train net output #1: l2_error = 2.88391\r\n",
        "I0309 02:25:04.846410 1946825472 solver.cpp:419] Iteration 5900, lr = 0.01\r\n"
       ]
      },
      {
       "output_type": "stream",
       "stream": "stdout",
       "text": [
        "I0309 02:25:07.835582 1946825472 solver.cpp:263] Iteration 6000, Testing net (#0)\r\n"
       ]
      },
      {
       "output_type": "stream",
       "stream": "stdout",
       "text": [
        "I0309 02:25:14.405544 1946825472 solver.cpp:301] Test loss: 70.61\r\n",
        "I0309 02:25:14.405622 1946825472 solver.cpp:314]     Test net output #0: cross_entropy_loss = 70.61 (* 1 = 70.61 loss)\r\n",
        "I0309 02:25:14.405632 1946825472 solver.cpp:314]     Test net output #1: l2_error = 3.60433\r\n",
        "I0309 02:25:14.405638 1946825472 solver.cpp:263] Iteration 6000, Testing net (#1)\r\n"
       ]
      },
      {
       "output_type": "stream",
       "stream": "stdout",
       "text": [
        "I0309 02:25:15.712677 1946825472 solver.cpp:301] Test loss: 70.3605\r\n",
        "I0309 02:25:15.712720 1946825472 solver.cpp:314]     Test net output #0: cross_entropy_loss = 70.3605 (* 1 = 70.3605 loss)\r\n",
        "I0309 02:25:15.712728 1946825472 solver.cpp:314]     Test net output #1: l2_error = 3.58416\r\n"
       ]
      },
      {
       "output_type": "stream",
       "stream": "stdout",
       "text": [
        "I0309 02:25:15.737406 1946825472 solver.cpp:207] Iteration 6000, loss = 68.4953\r\n",
        "I0309 02:25:15.737450 1946825472 solver.cpp:222]     Train net output #0: cross_entropy_loss = 68.4953 (* 1 = 68.4953 loss)\r\n",
        "I0309 02:25:15.737460 1946825472 solver.cpp:222]     Train net output #1: l2_error = 3.24303\r\n",
        "I0309 02:25:15.737468 1946825472 solver.cpp:419] Iteration 6000, lr = 0.01\r\n"
       ]
      },
      {
       "output_type": "stream",
       "stream": "stdout",
       "text": [
        "I0309 02:25:18.723007 1946825472 solver.cpp:207] Iteration 6100, loss = 66.4039\r\n",
        "I0309 02:25:18.723052 1946825472 solver.cpp:222]     Train net output #0: cross_entropy_loss = 66.4039 (* 1 = 66.4039 loss)\r\n",
        "I0309 02:25:18.723062 1946825472 solver.cpp:222]     Train net output #1: l2_error = 2.85737\r\n",
        "I0309 02:25:18.723069 1946825472 solver.cpp:419] Iteration 6100, lr = 0.01\r\n"
       ]
      },
      {
       "output_type": "stream",
       "stream": "stdout",
       "text": [
        "I0309 02:25:21.741868 1946825472 solver.cpp:207] Iteration 6200, loss = 67.6403\r\n",
        "I0309 02:25:21.741912 1946825472 solver.cpp:222]     Train net output #0: cross_entropy_loss = 67.6403 (* 1 = 67.6403 loss)\r\n",
        "I0309 02:25:21.741922 1946825472 solver.cpp:222]     Train net output #1: l2_error = 3.04293\r\n",
        "I0309 02:25:21.741930 1946825472 solver.cpp:419] Iteration 6200, lr = 0.01\r\n"
       ]
      },
      {
       "output_type": "stream",
       "stream": "stdout",
       "text": [
        "I0309 02:25:24.769788 1946825472 solver.cpp:207] Iteration 6300, loss = 70.3918\r\n",
        "I0309 02:25:24.769834 1946825472 solver.cpp:222]     Train net output #0: cross_entropy_loss = 70.3918 (* 1 = 70.3918 loss)\r\n",
        "I0309 02:25:24.769843 1946825472 solver.cpp:222]     Train net output #1: l2_error = 3.19875\r\n",
        "I0309 02:25:24.769851 1946825472 solver.cpp:419] Iteration 6300, lr = 0.01\r\n"
       ]
      },
      {
       "output_type": "stream",
       "stream": "stdout",
       "text": [
        "I0309 02:25:27.806283 1946825472 solver.cpp:207] Iteration 6400, loss = 63.9891\r\n",
        "I0309 02:25:27.806327 1946825472 solver.cpp:222]     Train net output #0: cross_entropy_loss = 63.9891 (* 1 = 63.9891 loss)\r\n",
        "I0309 02:25:27.806337 1946825472 solver.cpp:222]     Train net output #1: l2_error = 2.71191\r\n",
        "I0309 02:25:27.806344 1946825472 solver.cpp:419] Iteration 6400, lr = 0.01\r\n"
       ]
      },
      {
       "output_type": "stream",
       "stream": "stdout",
       "text": [
        "I0309 02:25:30.756114 1946825472 solver.cpp:263] Iteration 6500, Testing net (#0)\r\n"
       ]
      },
      {
       "output_type": "stream",
       "stream": "stdout",
       "text": [
        "I0309 02:25:37.280658 1946825472 solver.cpp:301] Test loss: 66.0272\r\n",
        "I0309 02:25:37.280700 1946825472 solver.cpp:314]     Test net output #0: cross_entropy_loss = 66.0272 (* 1 = 66.0272 loss)\r\n",
        "I0309 02:25:37.280709 1946825472 solver.cpp:314]     Test net output #1: l2_error = 2.86764\r\n",
        "I0309 02:25:37.280716 1946825472 solver.cpp:263] Iteration 6500, Testing net (#1)\r\n"
       ]
      },
      {
       "output_type": "stream",
       "stream": "stdout",
       "text": [
        "I0309 02:25:38.606981 1946825472 solver.cpp:301] Test loss: 65.8979\r\n",
        "I0309 02:25:38.607023 1946825472 solver.cpp:314]     Test net output #0: cross_entropy_loss = 65.8979 (* 1 = 65.8979 loss)\r\n",
        "I0309 02:25:38.607031 1946825472 solver.cpp:314]     Test net output #1: l2_error = 2.87547\r\n",
        "I0309 02:25:38.629075 1946825472 solver.cpp:207] Iteration 6500, loss = 63.0441\r\n",
        "I0309 02:25:38.629118 1946825472 solver.cpp:222]     Train net output #0: cross_entropy_loss = 63.0441 (* 1 = 63.0441 loss)\r\n",
        "I0309 02:25:38.629127 1946825472 solver.cpp:222]     Train net output #1: l2_error = 2.77493\r\n",
        "I0309 02:25:38.629135 1946825472 solver.cpp:419] Iteration 6500, lr = 0.01\r\n"
       ]
      },
      {
       "output_type": "stream",
       "stream": "stdout",
       "text": [
        "I0309 02:25:41.652123 1946825472 solver.cpp:207] Iteration 6600, loss = 68.4634\r\n",
        "I0309 02:25:41.652169 1946825472 solver.cpp:222]     Train net output #0: cross_entropy_loss = 68.4634 (* 1 = 68.4634 loss)\r\n",
        "I0309 02:25:41.652179 1946825472 solver.cpp:222]     Train net output #1: l2_error = 3.23529\r\n",
        "I0309 02:25:41.652189 1946825472 solver.cpp:419] Iteration 6600, lr = 0.01\r\n"
       ]
      },
      {
       "output_type": "stream",
       "stream": "stdout",
       "text": [
        "I0309 02:25:44.787441 1946825472 solver.cpp:207] Iteration 6700, loss = 65.898\r\n",
        "I0309 02:25:44.787523 1946825472 solver.cpp:222]     Train net output #0: cross_entropy_loss = 65.898 (* 1 = 65.898 loss)\r\n",
        "I0309 02:25:44.787533 1946825472 solver.cpp:222]     Train net output #1: l2_error = 2.77691\r\n",
        "I0309 02:25:44.787540 1946825472 solver.cpp:419] Iteration 6700, lr = 0.01\r\n"
       ]
      },
      {
       "output_type": "stream",
       "stream": "stdout",
       "text": [
        "I0309 02:25:47.789815 1946825472 solver.cpp:207] Iteration 6800, loss = 67.0412\r\n",
        "I0309 02:25:47.789860 1946825472 solver.cpp:222]     Train net output #0: cross_entropy_loss = 67.0412 (* 1 = 67.0412 loss)\r\n",
        "I0309 02:25:47.789870 1946825472 solver.cpp:222]     Train net output #1: l2_error = 2.97608\r\n",
        "I0309 02:25:47.789877 1946825472 solver.cpp:419] Iteration 6800, lr = 0.01\r\n"
       ]
      },
      {
       "output_type": "stream",
       "stream": "stdout",
       "text": [
        "I0309 02:25:50.868135 1946825472 solver.cpp:207] Iteration 6900, loss = 69.9686\r\n",
        "I0309 02:25:50.868180 1946825472 solver.cpp:222]     Train net output #0: cross_entropy_loss = 69.9686 (* 1 = 69.9686 loss)\r\n",
        "I0309 02:25:50.868190 1946825472 solver.cpp:222]     Train net output #1: l2_error = 3.14962\r\n",
        "I0309 02:25:50.868197 1946825472 solver.cpp:419] Iteration 6900, lr = 0.01\r\n"
       ]
      },
      {
       "output_type": "stream",
       "stream": "stdout",
       "text": [
        "I0309 02:25:53.817653 1946825472 solver.cpp:263] Iteration 7000, Testing net (#0)\r\n"
       ]
      },
      {
       "output_type": "stream",
       "stream": "stdout",
       "text": [
        "I0309 02:26:00.410838 1946825472 solver.cpp:301] Test loss: 65.4058\r\n",
        "I0309 02:26:00.410881 1946825472 solver.cpp:314]     Test net output #0: cross_entropy_loss = 65.4058 (* 1 = 65.4058 loss)\r\n",
        "I0309 02:26:00.410890 1946825472 solver.cpp:314]     Test net output #1: l2_error = 2.76848\r\n",
        "I0309 02:26:00.410898 1946825472 solver.cpp:263] Iteration 7000, Testing net (#1)\r\n"
       ]
      },
      {
       "output_type": "stream",
       "stream": "stdout",
       "text": [
        "I0309 02:26:01.739825 1946825472 solver.cpp:301] Test loss: 65.1354\r\n",
        "I0309 02:26:01.739871 1946825472 solver.cpp:314]     Test net output #0: cross_entropy_loss = 65.1354 (* 1 = 65.1354 loss)\r\n",
        "I0309 02:26:01.739879 1946825472 solver.cpp:314]     Test net output #1: l2_error = 2.75915\r\n",
        "I0309 02:26:01.762094 1946825472 solver.cpp:207] Iteration 7000, loss = 63.31\r\n",
        "I0309 02:26:01.762138 1946825472 solver.cpp:222]     Train net output #0: cross_entropy_loss = 63.31 (* 1 = 63.31 loss)\r\n",
        "I0309 02:26:01.762147 1946825472 solver.cpp:222]     Train net output #1: l2_error = 2.61171\r\n",
        "I0309 02:26:01.762156 1946825472 solver.cpp:419] Iteration 7000, lr = 0.01\r\n"
       ]
      },
      {
       "output_type": "stream",
       "stream": "stdout",
       "text": [
        "I0309 02:26:04.753103 1946825472 solver.cpp:207] Iteration 7100, loss = 62.4341\r\n",
        "I0309 02:26:04.753149 1946825472 solver.cpp:222]     Train net output #0: cross_entropy_loss = 62.4341 (* 1 = 62.4341 loss)\r\n",
        "I0309 02:26:04.753157 1946825472 solver.cpp:222]     Train net output #1: l2_error = 2.67207\r\n",
        "I0309 02:26:04.753166 1946825472 solver.cpp:419] Iteration 7100, lr = 0.01\r\n"
       ]
      },
      {
       "output_type": "stream",
       "stream": "stdout",
       "text": [
        "I0309 02:26:07.807621 1946825472 solver.cpp:207] Iteration 7200, loss = 66.541\r\n",
        "I0309 02:26:07.807667 1946825472 solver.cpp:222]     Train net output #0: cross_entropy_loss = 66.541 (* 1 = 66.541 loss)\r\n",
        "I0309 02:26:07.807675 1946825472 solver.cpp:222]     Train net output #1: l2_error = 2.94302\r\n",
        "I0309 02:26:07.807684 1946825472 solver.cpp:419] Iteration 7200, lr = 0.01\r\n"
       ]
      },
      {
       "output_type": "stream",
       "stream": "stdout",
       "text": [
        "I0309 02:26:10.805506 1946825472 solver.cpp:207] Iteration 7300, loss = 64.9797\r\n",
        "I0309 02:26:10.805549 1946825472 solver.cpp:222]     Train net output #0: cross_entropy_loss = 64.9797 (* 1 = 64.9797 loss)\r\n",
        "I0309 02:26:10.805559 1946825472 solver.cpp:222]     Train net output #1: l2_error = 2.63339\r\n",
        "I0309 02:26:10.805567 1946825472 solver.cpp:419] Iteration 7300, lr = 0.01\r\n"
       ]
      },
      {
       "output_type": "stream",
       "stream": "stdout",
       "text": [
        "I0309 02:26:13.825544 1946825472 solver.cpp:207] Iteration 7400, loss = 65.9389\r\n",
        "I0309 02:26:13.825588 1946825472 solver.cpp:222]     Train net output #0: cross_entropy_loss = 65.9389 (* 1 = 65.9389 loss)\r\n",
        "I0309 02:26:13.825598 1946825472 solver.cpp:222]     Train net output #1: l2_error = 2.7885\r\n",
        "I0309 02:26:13.825605 1946825472 solver.cpp:419] Iteration 7400, lr = 0.01\r\n"
       ]
      },
      {
       "output_type": "stream",
       "stream": "stdout",
       "text": [
        "I0309 02:26:16.822973 1946825472 solver.cpp:263] Iteration 7500, Testing net (#0)\r\n"
       ]
      },
      {
       "output_type": "stream",
       "stream": "stdout",
       "text": [
        "I0309 02:26:23.342425 1946825472 solver.cpp:301] Test loss: 65.1031\r\n",
        "I0309 02:26:23.342468 1946825472 solver.cpp:314]     Test net output #0: cross_entropy_loss = 65.1031 (* 1 = 65.1031 loss)\r\n",
        "I0309 02:26:23.342476 1946825472 solver.cpp:314]     Test net output #1: l2_error = 2.68931\r\n",
        "I0309 02:26:23.342483 1946825472 solver.cpp:263] Iteration 7500, Testing net (#1)\r\n"
       ]
      },
      {
       "output_type": "stream",
       "stream": "stdout",
       "text": [
        "I0309 02:26:24.641196 1946825472 solver.cpp:301] Test loss: 64.7867\r\n",
        "I0309 02:26:24.641239 1946825472 solver.cpp:314]     Test net output #0: cross_entropy_loss = 64.7867 (* 1 = 64.7867 loss)\r\n",
        "I0309 02:26:24.641247 1946825472 solver.cpp:314]     Test net output #1: l2_error = 2.68323\r\n"
       ]
      },
      {
       "output_type": "stream",
       "stream": "stdout",
       "text": [
        "I0309 02:26:24.663086 1946825472 solver.cpp:207] Iteration 7500, loss = 69.1634\r\n",
        "I0309 02:26:24.663128 1946825472 solver.cpp:222]     Train net output #0: cross_entropy_loss = 69.1634 (* 1 = 69.1634 loss)\r\n",
        "I0309 02:26:24.663137 1946825472 solver.cpp:222]     Train net output #1: l2_error = 3.01986\r\n",
        "I0309 02:26:24.663146 1946825472 solver.cpp:419] Iteration 7500, lr = 0.01\r\n"
       ]
      },
      {
       "output_type": "stream",
       "stream": "stdout",
       "text": [
        "I0309 02:26:27.705881 1946825472 solver.cpp:207] Iteration 7600, loss = 62.5914\r\n",
        "I0309 02:26:27.705926 1946825472 solver.cpp:222]     Train net output #0: cross_entropy_loss = 62.5914 (* 1 = 62.5914 loss)\r\n",
        "I0309 02:26:27.705936 1946825472 solver.cpp:222]     Train net output #1: l2_error = 2.49338\r\n",
        "I0309 02:26:27.705945 1946825472 solver.cpp:419] Iteration 7600, lr = 0.01\r\n"
       ]
      },
      {
       "output_type": "stream",
       "stream": "stdout",
       "text": [
        "I0309 02:26:30.672823 1946825472 solver.cpp:207] Iteration 7700, loss = 61.8119\r\n",
        "I0309 02:26:30.672868 1946825472 solver.cpp:222]     Train net output #0: cross_entropy_loss = 61.8119 (* 1 = 61.8119 loss)\r\n",
        "I0309 02:26:30.672876 1946825472 solver.cpp:222]     Train net output #1: l2_error = 2.57454\r\n",
        "I0309 02:26:30.672884 1946825472 solver.cpp:419] Iteration 7700, lr = 0.01\r\n"
       ]
      },
      {
       "output_type": "stream",
       "stream": "stdout",
       "text": [
        "I0309 02:26:33.665184 1946825472 solver.cpp:207] Iteration 7800, loss = 65.8992\r\n",
        "I0309 02:26:33.665228 1946825472 solver.cpp:222]     Train net output #0: cross_entropy_loss = 65.8992 (* 1 = 65.8992 loss)\r\n",
        "I0309 02:26:33.665237 1946825472 solver.cpp:222]     Train net output #1: l2_error = 2.85012\r\n",
        "I0309 02:26:33.665246 1946825472 solver.cpp:419] Iteration 7800, lr = 0.01\r\n"
       ]
      },
      {
       "output_type": "stream",
       "stream": "stdout",
       "text": [
        "I0309 02:26:36.643105 1946825472 solver.cpp:207] Iteration 7900, loss = 64.3334\r\n",
        "I0309 02:26:36.643147 1946825472 solver.cpp:222]     Train net output #0: cross_entropy_loss = 64.3334 (* 1 = 64.3334 loss)\r\n",
        "I0309 02:26:36.643157 1946825472 solver.cpp:222]     Train net output #1: l2_error = 2.52994\r\n",
        "I0309 02:26:36.643165 1946825472 solver.cpp:419] Iteration 7900, lr = 0.01\r\n"
       ]
      },
      {
       "output_type": "stream",
       "stream": "stdout",
       "text": [
        "I0309 02:26:39.618922 1946825472 solver.cpp:263] Iteration 8000, Testing net (#0)\r\n"
       ]
      },
      {
       "output_type": "stream",
       "stream": "stdout",
       "text": [
        "I0309 02:26:46.218678 1946825472 solver.cpp:301] Test loss: 64.2852\r\n",
        "I0309 02:26:46.218721 1946825472 solver.cpp:314]     Test net output #0: cross_entropy_loss = 64.2852 (* 1 = 64.2852 loss)\r\n",
        "I0309 02:26:46.218730 1946825472 solver.cpp:314]     Test net output #1: l2_error = 2.58609\r\n",
        "I0309 02:26:46.218737 1946825472 solver.cpp:263] Iteration 8000, Testing net (#1)\r\n"
       ]
      },
      {
       "output_type": "stream",
       "stream": "stdout",
       "text": [
        "I0309 02:26:47.573514 1946825472 solver.cpp:301] Test loss: 64.009\r\n",
        "I0309 02:26:47.573595 1946825472 solver.cpp:314]     Test net output #0: cross_entropy_loss = 64.009 (* 1 = 64.009 loss)\r\n",
        "I0309 02:26:47.573604 1946825472 solver.cpp:314]     Test net output #1: l2_error = 2.58851\r\n",
        "I0309 02:26:47.595887 1946825472 solver.cpp:207] Iteration 8000, loss = 65.0462\r\n",
        "I0309 02:26:47.595932 1946825472 solver.cpp:222]     Train net output #0: cross_entropy_loss = 65.0462 (* 1 = 65.0462 loss)\r\n",
        "I0309 02:26:47.595940 1946825472 solver.cpp:222]     Train net output #1: l2_error = 2.6443\r\n",
        "I0309 02:26:47.595949 1946825472 solver.cpp:419] Iteration 8000, lr = 0.01\r\n"
       ]
      },
      {
       "output_type": "stream",
       "stream": "stdout",
       "text": [
        "I0309 02:26:50.669689 1946825472 solver.cpp:207] Iteration 8100, loss = 68.8094\r\n",
        "I0309 02:26:50.669734 1946825472 solver.cpp:222]     Train net output #0: cross_entropy_loss = 68.8094 (* 1 = 68.8094 loss)\r\n",
        "I0309 02:26:50.669744 1946825472 solver.cpp:222]     Train net output #1: l2_error = 2.96634\r\n",
        "I0309 02:26:50.669752 1946825472 solver.cpp:419] Iteration 8100, lr = 0.01\r\n"
       ]
      },
      {
       "output_type": "stream",
       "stream": "stdout",
       "text": [
        "I0309 02:26:53.656510 1946825472 solver.cpp:207] Iteration 8200, loss = 62.0397\r\n",
        "I0309 02:26:53.656553 1946825472 solver.cpp:222]     Train net output #0: cross_entropy_loss = 62.0397 (* 1 = 62.0397 loss)\r\n",
        "I0309 02:26:53.656563 1946825472 solver.cpp:222]     Train net output #1: l2_error = 2.40557\r\n",
        "I0309 02:26:53.656570 1946825472 solver.cpp:419] Iteration 8200, lr = 0.01\r\n"
       ]
      },
      {
       "output_type": "stream",
       "stream": "stdout",
       "text": [
        "I0309 02:26:56.662483 1946825472 solver.cpp:207] Iteration 8300, loss = 61.3724\r\n",
        "I0309 02:26:56.662529 1946825472 solver.cpp:222]     Train net output #0: cross_entropy_loss = 61.3724 (* 1 = 61.3724 loss)\r\n",
        "I0309 02:26:56.662539 1946825472 solver.cpp:222]     Train net output #1: l2_error = 2.50518\r\n",
        "I0309 02:26:56.662547 1946825472 solver.cpp:419] Iteration 8300, lr = 0.01\r\n"
       ]
      },
      {
       "output_type": "stream",
       "stream": "stdout",
       "text": [
        "I0309 02:26:59.708029 1946825472 solver.cpp:207] Iteration 8400, loss = 65.0483\r\n",
        "I0309 02:26:59.708075 1946825472 solver.cpp:222]     Train net output #0: cross_entropy_loss = 65.0483 (* 1 = 65.0483 loss)\r\n",
        "I0309 02:26:59.708083 1946825472 solver.cpp:222]     Train net output #1: l2_error = 2.71778\r\n",
        "I0309 02:26:59.708091 1946825472 solver.cpp:419] Iteration 8400, lr = 0.01\r\n"
       ]
      },
      {
       "output_type": "stream",
       "stream": "stdout",
       "text": [
        "I0309 02:27:02.714855 1946825472 solver.cpp:263] Iteration 8500, Testing net (#0)\r\n"
       ]
      },
      {
       "output_type": "stream",
       "stream": "stdout",
       "text": [
        "I0309 02:27:09.901564 1946825472 solver.cpp:301] Test loss: 63.5717\r\n",
        "I0309 02:27:09.901608 1946825472 solver.cpp:314]     Test net output #0: cross_entropy_loss = 63.5717 (* 1 = 63.5717 loss)\r\n",
        "I0309 02:27:09.901618 1946825472 solver.cpp:314]     Test net output #1: l2_error = 2.46019\r\n",
        "I0309 02:27:09.901626 1946825472 solver.cpp:263] Iteration 8500, Testing net (#1)\r\n"
       ]
      },
      {
       "output_type": "stream",
       "stream": "stdout",
       "text": [
        "I0309 02:27:11.340270 1946825472 solver.cpp:301] Test loss: 63.3241\r\n",
        "I0309 02:27:11.340313 1946825472 solver.cpp:314]     Test net output #0: cross_entropy_loss = 63.3241 (* 1 = 63.3241 loss)\r\n",
        "I0309 02:27:11.340322 1946825472 solver.cpp:314]     Test net output #1: l2_error = 2.46109\r\n",
        "I0309 02:27:11.364794 1946825472 solver.cpp:207] Iteration 8500, loss = 63.7859\r\n",
        "I0309 02:27:11.364838 1946825472 solver.cpp:222]     Train net output #0: cross_entropy_loss = 63.7859 (* 1 = 63.7859 loss)\r\n",
        "I0309 02:27:11.364848 1946825472 solver.cpp:222]     Train net output #1: l2_error = 2.44665\r\n",
        "I0309 02:27:11.364856 1946825472 solver.cpp:419] Iteration 8500, lr = 0.01\r\n"
       ]
      },
      {
       "output_type": "stream",
       "stream": "stdout",
       "text": [
        "I0309 02:27:14.475613 1946825472 solver.cpp:207] Iteration 8600, loss = 64.4433\r\n",
        "I0309 02:27:14.475658 1946825472 solver.cpp:222]     Train net output #0: cross_entropy_loss = 64.4433 (* 1 = 64.4433 loss)\r\n",
        "I0309 02:27:14.475668 1946825472 solver.cpp:222]     Train net output #1: l2_error = 2.55018\r\n",
        "I0309 02:27:14.475677 1946825472 solver.cpp:419] Iteration 8600, lr = 0.01\r\n"
       ]
      },
      {
       "output_type": "stream",
       "stream": "stdout",
       "text": [
        "I0309 02:27:17.793894 1946825472 solver.cpp:207] Iteration 8700, loss = 68.2434\r\n",
        "I0309 02:27:17.793985 1946825472 solver.cpp:222]     Train net output #0: cross_entropy_loss = 68.2434 (* 1 = 68.2434 loss)\r\n",
        "I0309 02:27:17.794003 1946825472 solver.cpp:222]     Train net output #1: l2_error = 2.87976\r\n",
        "I0309 02:27:17.794014 1946825472 solver.cpp:419] Iteration 8700, lr = 0.01\r\n"
       ]
      },
      {
       "output_type": "stream",
       "stream": "stdout",
       "text": [
        "I0309 02:27:21.271930 1946825472 solver.cpp:207] Iteration 8800, loss = 61.4825\r\n",
        "I0309 02:27:21.271978 1946825472 solver.cpp:222]     Train net output #0: cross_entropy_loss = 61.4825 (* 1 = 61.4825 loss)\r\n",
        "I0309 02:27:21.271988 1946825472 solver.cpp:222]     Train net output #1: l2_error = 2.31826\r\n",
        "I0309 02:27:21.271997 1946825472 solver.cpp:419] Iteration 8800, lr = 0.01\r\n"
       ]
      },
      {
       "output_type": "stream",
       "stream": "stdout",
       "text": [
        "I0309 02:27:24.858441 1946825472 solver.cpp:207] Iteration 8900, loss = 60.8094\r\n",
        "I0309 02:27:24.858489 1946825472 solver.cpp:222]     Train net output #0: cross_entropy_loss = 60.8094 (* 1 = 60.8094 loss)\r\n",
        "I0309 02:27:24.858500 1946825472 solver.cpp:222]     Train net output #1: l2_error = 2.41395\r\n",
        "I0309 02:27:24.858507 1946825472 solver.cpp:419] Iteration 8900, lr = 0.01\r\n"
       ]
      },
      {
       "output_type": "stream",
       "stream": "stdout",
       "text": [
        "I0309 02:27:28.152719 1946825472 solver.cpp:263] Iteration 9000, Testing net (#0)\r\n"
       ]
      },
      {
       "output_type": "stream",
       "stream": "stdout",
       "text": [
        "I0309 02:27:35.018584 1946825472 solver.cpp:301] Test loss: 65.627\r\n",
        "I0309 02:27:35.018630 1946825472 solver.cpp:314]     Test net output #0: cross_entropy_loss = 65.627 (* 1 = 65.627 loss)\r\n",
        "I0309 02:27:35.018638 1946825472 solver.cpp:314]     Test net output #1: l2_error = 2.82393\r\n",
        "I0309 02:27:35.018646 1946825472 solver.cpp:263] Iteration 9000, Testing net (#1)\r\n"
       ]
      },
      {
       "output_type": "stream",
       "stream": "stdout",
       "text": [
        "I0309 02:27:36.419875 1946825472 solver.cpp:301] Test loss: 65.5849\r\n",
        "I0309 02:27:36.419924 1946825472 solver.cpp:314]     Test net output #0: cross_entropy_loss = 65.5849 (* 1 = 65.5849 loss)\r\n",
        "I0309 02:27:36.419937 1946825472 solver.cpp:314]     Test net output #1: l2_error = 2.84208\r\n",
        "I0309 02:27:36.443662 1946825472 solver.cpp:207] Iteration 9000, loss = 64.1169\r\n",
        "I0309 02:27:36.443706 1946825472 solver.cpp:222]     Train net output #0: cross_entropy_loss = 64.1169 (* 1 = 64.1169 loss)\r\n",
        "I0309 02:27:36.443716 1946825472 solver.cpp:222]     Train net output #1: l2_error = 2.57055\r\n",
        "I0309 02:27:36.443723 1946825472 solver.cpp:419] Iteration 9000, lr = 0.01\r\n"
       ]
      },
      {
       "output_type": "stream",
       "stream": "stdout",
       "text": [
        "I0309 02:27:39.690026 1946825472 solver.cpp:207] Iteration 9100, loss = 63.3713\r\n",
        "I0309 02:27:39.690075 1946825472 solver.cpp:222]     Train net output #0: cross_entropy_loss = 63.3713 (* 1 = 63.3713 loss)\r\n",
        "I0309 02:27:39.690085 1946825472 solver.cpp:222]     Train net output #1: l2_error = 2.3852\r\n",
        "I0309 02:27:39.690094 1946825472 solver.cpp:419] Iteration 9100, lr = 0.01\r\n"
       ]
      },
      {
       "output_type": "stream",
       "stream": "stdout",
       "text": [
        "I0309 02:27:43.049093 1946825472 solver.cpp:207] Iteration 9200, loss = 63.9647\r\n",
        "I0309 02:27:43.049139 1946825472 solver.cpp:222]     Train net output #0: cross_entropy_loss = 63.9647 (* 1 = 63.9647 loss)\r\n",
        "I0309 02:27:43.049149 1946825472 solver.cpp:222]     Train net output #1: l2_error = 2.47638\r\n",
        "I0309 02:27:43.049159 1946825472 solver.cpp:419] Iteration 9200, lr = 0.01\r\n"
       ]
      },
      {
       "output_type": "stream",
       "stream": "stdout",
       "text": [
        "I0309 02:27:46.304877 1946825472 solver.cpp:207] Iteration 9300, loss = 67.4937\r\n",
        "I0309 02:27:46.304921 1946825472 solver.cpp:222]     Train net output #0: cross_entropy_loss = 67.4937 (* 1 = 67.4937 loss)\r\n",
        "I0309 02:27:46.304931 1946825472 solver.cpp:222]     Train net output #1: l2_error = 2.76085\r\n",
        "I0309 02:27:46.304939 1946825472 solver.cpp:419] Iteration 9300, lr = 0.01\r\n"
       ]
      },
      {
       "output_type": "stream",
       "stream": "stdout",
       "text": [
        "I0309 02:27:49.506894 1946825472 solver.cpp:207] Iteration 9400, loss = 61.0407\r\n",
        "I0309 02:27:49.506975 1946825472 solver.cpp:222]     Train net output #0: cross_entropy_loss = 61.0407 (* 1 = 61.0407 loss)\r\n",
        "I0309 02:27:49.506985 1946825472 solver.cpp:222]     Train net output #1: l2_error = 2.24914\r\n",
        "I0309 02:27:49.506994 1946825472 solver.cpp:419] Iteration 9400, lr = 0.01\r\n"
       ]
      },
      {
       "output_type": "stream",
       "stream": "stdout",
       "text": [
        "I0309 02:27:52.625434 1946825472 solver.cpp:263] Iteration 9500, Testing net (#0)\r\n"
       ]
      },
      {
       "output_type": "stream",
       "stream": "stdout",
       "text": [
        "I0309 02:27:59.463176 1946825472 solver.cpp:301] Test loss: 63.138\r\n",
        "I0309 02:27:59.463218 1946825472 solver.cpp:314]     Test net output #0: cross_entropy_loss = 63.138 (* 1 = 63.138 loss)\r\n",
        "I0309 02:27:59.463227 1946825472 solver.cpp:314]     Test net output #1: l2_error = 2.41148\r\n",
        "I0309 02:27:59.463233 1946825472 solver.cpp:263] Iteration 9500, Testing net (#1)\r\n"
       ]
      },
      {
       "output_type": "stream",
       "stream": "stdout",
       "text": [
        "I0309 02:28:00.827044 1946825472 solver.cpp:301] Test loss: 63.1264\r\n",
        "I0309 02:28:00.827092 1946825472 solver.cpp:314]     Test net output #0: cross_entropy_loss = 63.1264 (* 1 = 63.1264 loss)\r\n",
        "I0309 02:28:00.827106 1946825472 solver.cpp:314]     Test net output #1: l2_error = 2.44043\r\n"
       ]
      },
      {
       "output_type": "stream",
       "stream": "stdout",
       "text": [
        "I0309 02:28:00.850688 1946825472 solver.cpp:207] Iteration 9500, loss = 60.3125\r\n",
        "I0309 02:28:00.850731 1946825472 solver.cpp:222]     Train net output #0: cross_entropy_loss = 60.3125 (* 1 = 60.3125 loss)\r\n",
        "I0309 02:28:00.850740 1946825472 solver.cpp:222]     Train net output #1: l2_error = 2.33487\r\n",
        "I0309 02:28:00.850749 1946825472 solver.cpp:419] Iteration 9500, lr = 0.01\r\n"
       ]
      },
      {
       "output_type": "stream",
       "stream": "stdout",
       "text": [
        "I0309 02:28:04.018203 1946825472 solver.cpp:207] Iteration 9600, loss = 63.4615\r\n",
        "I0309 02:28:04.018252 1946825472 solver.cpp:222]     Train net output #0: cross_entropy_loss = 63.4615 (* 1 = 63.4615 loss)\r\n",
        "I0309 02:28:04.018263 1946825472 solver.cpp:222]     Train net output #1: l2_error = 2.4681\r\n",
        "I0309 02:28:04.018271 1946825472 solver.cpp:419] Iteration 9600, lr = 0.01\r\n"
       ]
      },
      {
       "output_type": "stream",
       "stream": "stdout",
       "text": [
        "I0309 02:28:07.365742 1946825472 solver.cpp:207] Iteration 9700, loss = 63.0078\r\n",
        "I0309 02:28:07.365793 1946825472 solver.cpp:222]     Train net output #0: cross_entropy_loss = 63.0078 (* 1 = 63.0078 loss)\r\n",
        "I0309 02:28:07.365808 1946825472 solver.cpp:222]     Train net output #1: l2_error = 2.33089\r\n",
        "I0309 02:28:07.365821 1946825472 solver.cpp:419] Iteration 9700, lr = 0.01\r\n"
       ]
      },
      {
       "output_type": "stream",
       "stream": "stdout",
       "text": [
        "I0309 02:28:10.600062 1946825472 solver.cpp:207] Iteration 9800, loss = 63.5637\r\n",
        "I0309 02:28:10.600107 1946825472 solver.cpp:222]     Train net output #0: cross_entropy_loss = 63.5637 (* 1 = 63.5637 loss)\r\n",
        "I0309 02:28:10.600117 1946825472 solver.cpp:222]     Train net output #1: l2_error = 2.41478\r\n",
        "I0309 02:28:10.600126 1946825472 solver.cpp:419] Iteration 9800, lr = 0.01\r\n"
       ]
      },
      {
       "output_type": "stream",
       "stream": "stdout",
       "text": [
        "I0309 02:28:13.839548 1946825472 solver.cpp:207] Iteration 9900, loss = 66.9012\r\n",
        "I0309 02:28:13.839593 1946825472 solver.cpp:222]     Train net output #0: cross_entropy_loss = 66.9012 (* 1 = 66.9012 loss)\r\n",
        "I0309 02:28:13.839602 1946825472 solver.cpp:222]     Train net output #1: l2_error = 2.66768\r\n",
        "I0309 02:28:13.839611 1946825472 solver.cpp:419] Iteration 9900, lr = 0.01\r\n"
       ]
      },
      {
       "output_type": "stream",
       "stream": "stdout",
       "text": [
        "I0309 02:28:16.828649 1946825472 solver.cpp:333] Snapshotting to examples/mnist/mnist_autoencoder_iter_10000.caffemodel\r\n"
       ]
      },
      {
       "output_type": "stream",
       "stream": "stdout",
       "text": [
        "I0309 02:28:16.908133 1946825472 solver.cpp:340] Snapshotting solver state to examples/mnist/mnist_autoencoder_iter_10000.solverstate\r\n"
       ]
      },
      {
       "output_type": "stream",
       "stream": "stdout",
       "text": [
        "I0309 02:28:16.972239 1946825472 solver.cpp:263] Iteration 10000, Testing net (#0)\r\n"
       ]
      },
      {
       "output_type": "stream",
       "stream": "stdout",
       "text": [
        "I0309 02:28:23.498675 1946825472 solver.cpp:301] Test loss: 62.5283\r\n",
        "I0309 02:28:23.498735 1946825472 solver.cpp:314]     Test net output #0: cross_entropy_loss = 62.5283 (* 1 = 62.5283 loss)\r\n",
        "I0309 02:28:23.498744 1946825472 solver.cpp:314]     Test net output #1: l2_error = 2.30928\r\n",
        "I0309 02:28:23.498751 1946825472 solver.cpp:263] Iteration 10000, Testing net (#1)\r\n"
       ]
      },
      {
       "output_type": "stream",
       "stream": "stdout",
       "text": [
        "I0309 02:28:24.807276 1946825472 solver.cpp:301] Test loss: 62.3955\r\n",
        "I0309 02:28:24.807322 1946825472 solver.cpp:314]     Test net output #0: cross_entropy_loss = 62.3955 (* 1 = 62.3955 loss)\r\n",
        "I0309 02:28:24.807332 1946825472 solver.cpp:314]     Test net output #1: l2_error = 2.32596\r\n"
       ]
      },
      {
       "output_type": "stream",
       "stream": "stdout",
       "text": [
        "I0309 02:28:24.831748 1946825472 solver.cpp:207] Iteration 10000, loss = 60.7221\r\n",
        "I0309 02:28:24.831791 1946825472 solver.cpp:222]     Train net output #0: cross_entropy_loss = 60.7221 (* 1 = 60.7221 loss)\r\n",
        "I0309 02:28:24.831800 1946825472 solver.cpp:222]     Train net output #1: l2_error = 2.2005\r\n",
        "I0309 02:28:24.831809 1946825472 solver.cpp:419] Iteration 10000, lr = 0.001\r\n"
       ]
      },
      {
       "output_type": "stream",
       "stream": "stdout",
       "text": [
        "I0309 02:28:27.860644 1946825472 solver.cpp:207] Iteration 10100, loss = 58.8409\r\n",
        "I0309 02:28:27.860687 1946825472 solver.cpp:222]     Train net output #0: cross_entropy_loss = 58.8409 (* 1 = 58.8409 loss)\r\n",
        "I0309 02:28:27.860697 1946825472 solver.cpp:222]     Train net output #1: l2_error = 2.09416\r\n",
        "I0309 02:28:27.860705 1946825472 solver.cpp:419] Iteration 10100, lr = 0.001\r\n"
       ]
      },
      {
       "output_type": "stream",
       "stream": "stdout",
       "text": [
        "I0309 02:28:30.890693 1946825472 solver.cpp:207] Iteration 10200, loss = 60.7013\r\n",
        "I0309 02:28:30.890739 1946825472 solver.cpp:222]     Train net output #0: cross_entropy_loss = 60.7013 (* 1 = 60.7013 loss)\r\n",
        "I0309 02:28:30.890749 1946825472 solver.cpp:222]     Train net output #1: l2_error = 2.01263\r\n",
        "I0309 02:28:30.890758 1946825472 solver.cpp:419] Iteration 10200, lr = 0.001\r\n"
       ]
      },
      {
       "output_type": "stream",
       "stream": "stdout",
       "text": [
        "I0309 02:28:33.884965 1946825472 solver.cpp:207] Iteration 10300, loss = 61.9042\r\n",
        "I0309 02:28:33.885010 1946825472 solver.cpp:222]     Train net output #0: cross_entropy_loss = 61.9042 (* 1 = 61.9042 loss)\r\n",
        "I0309 02:28:33.885018 1946825472 solver.cpp:222]     Train net output #1: l2_error = 2.15521\r\n",
        "I0309 02:28:33.885026 1946825472 solver.cpp:419] Iteration 10300, lr = 0.001\r\n"
       ]
      },
      {
       "output_type": "stream",
       "stream": "stdout",
       "text": [
        "I0309 02:28:36.881934 1946825472 solver.cpp:207] Iteration 10400, loss = 62.2998\r\n",
        "I0309 02:28:36.881989 1946825472 solver.cpp:222]     Train net output #0: cross_entropy_loss = 62.2998 (* 1 = 62.2998 loss)\r\n",
        "I0309 02:28:36.882000 1946825472 solver.cpp:222]     Train net output #1: l2_error = 2.19405\r\n",
        "I0309 02:28:36.882009 1946825472 solver.cpp:419] Iteration 10400, lr = 0.001\r\n"
       ]
      },
      {
       "output_type": "stream",
       "stream": "stdout",
       "text": [
        "I0309 02:28:39.846271 1946825472 solver.cpp:263] Iteration 10500, Testing net (#0)\r\n"
       ]
      },
      {
       "output_type": "stream",
       "stream": "stdout",
       "text": [
        "I0309 02:28:46.500820 1946825472 solver.cpp:301] Test loss: 61.4144\r\n",
        "I0309 02:28:46.500861 1946825472 solver.cpp:314]     Test net output #0: cross_entropy_loss = 61.4144 (* 1 = 61.4144 loss)\r\n",
        "I0309 02:28:46.500869 1946825472 solver.cpp:314]     Test net output #1: l2_error = 2.11263\r\n",
        "I0309 02:28:46.500876 1946825472 solver.cpp:263] Iteration 10500, Testing net (#1)\r\n"
       ]
      },
      {
       "output_type": "stream",
       "stream": "stdout",
       "text": [
        "I0309 02:28:47.878972 1946825472 solver.cpp:301] Test loss: 61.2353\r\n",
        "I0309 02:28:47.879012 1946825472 solver.cpp:314]     Test net output #0: cross_entropy_loss = 61.2353 (* 1 = 61.2353 loss)\r\n",
        "I0309 02:28:47.879021 1946825472 solver.cpp:314]     Test net output #1: l2_error = 2.13434\r\n"
       ]
      },
      {
       "output_type": "stream",
       "stream": "stdout",
       "text": [
        "I0309 02:28:47.903101 1946825472 solver.cpp:207] Iteration 10500, loss = 65.1838\r\n",
        "I0309 02:28:47.903148 1946825472 solver.cpp:222]     Train net output #0: cross_entropy_loss = 65.1838 (* 1 = 65.1838 loss)\r\n",
        "I0309 02:28:47.903159 1946825472 solver.cpp:222]     Train net output #1: l2_error = 2.38682\r\n",
        "I0309 02:28:47.903167 1946825472 solver.cpp:419] Iteration 10500, lr = 0.001\r\n"
       ]
      },
      {
       "output_type": "stream",
       "stream": "stdout",
       "text": [
        "I0309 02:28:50.976693 1946825472 solver.cpp:207] Iteration 10600, loss = 59.7286\r\n",
        "I0309 02:28:50.976740 1946825472 solver.cpp:222]     Train net output #0: cross_entropy_loss = 59.7286 (* 1 = 59.7286 loss)\r\n",
        "I0309 02:28:50.976750 1946825472 solver.cpp:222]     Train net output #1: l2_error = 2.04045\r\n",
        "I0309 02:28:50.976759 1946825472 solver.cpp:419] Iteration 10600, lr = 0.001\r\n"
       ]
      },
      {
       "output_type": "stream",
       "stream": "stdout",
       "text": [
        "I0309 02:28:53.971524 1946825472 solver.cpp:207] Iteration 10700, loss = 58.6062\r\n",
        "I0309 02:28:53.971729 1946825472 solver.cpp:222]     Train net output #0: cross_entropy_loss = 58.6062 (* 1 = 58.6062 loss)\r\n",
        "I0309 02:28:53.971740 1946825472 solver.cpp:222]     Train net output #1: l2_error = 2.05677\r\n",
        "I0309 02:28:53.971748 1946825472 solver.cpp:419] Iteration 10700, lr = 0.001\r\n"
       ]
      },
      {
       "output_type": "stream",
       "stream": "stdout",
       "text": [
        "I0309 02:28:57.011272 1946825472 solver.cpp:207] Iteration 10800, loss = 60.5605\r\n",
        "I0309 02:28:57.011319 1946825472 solver.cpp:222]     Train net output #0: cross_entropy_loss = 60.5605 (* 1 = 60.5605 loss)\r\n",
        "I0309 02:28:57.011328 1946825472 solver.cpp:222]     Train net output #1: l2_error = 1.99067\r\n",
        "I0309 02:28:57.011337 1946825472 solver.cpp:419] Iteration 10800, lr = 0.001\r\n"
       ]
      },
      {
       "output_type": "stream",
       "stream": "stdout",
       "text": [
        "I0309 02:29:00.041962 1946825472 solver.cpp:207] Iteration 10900, loss = 61.7927\r\n",
        "I0309 02:29:00.042008 1946825472 solver.cpp:222]     Train net output #0: cross_entropy_loss = 61.7927 (* 1 = 61.7927 loss)\r\n",
        "I0309 02:29:00.042018 1946825472 solver.cpp:222]     Train net output #1: l2_error = 2.13866\r\n",
        "I0309 02:29:00.042027 1946825472 solver.cpp:419] Iteration 10900, lr = 0.001\r\n"
       ]
      },
      {
       "output_type": "stream",
       "stream": "stdout",
       "text": [
        "I0309 02:29:03.011283 1946825472 solver.cpp:263] Iteration 11000, Testing net (#0)\r\n"
       ]
      },
      {
       "output_type": "stream",
       "stream": "stdout",
       "text": [
        "I0309 02:29:09.562696 1946825472 solver.cpp:301] Test loss: 61.3671\r\n",
        "I0309 02:29:09.562736 1946825472 solver.cpp:314]     Test net output #0: cross_entropy_loss = 61.3671 (* 1 = 61.3671 loss)\r\n",
        "I0309 02:29:09.562744 1946825472 solver.cpp:314]     Test net output #1: l2_error = 2.11027\r\n",
        "I0309 02:29:09.562752 1946825472 solver.cpp:263] Iteration 11000, Testing net (#1)\r\n"
       ]
      },
      {
       "output_type": "stream",
       "stream": "stdout",
       "text": [
        "I0309 02:29:10.890498 1946825472 solver.cpp:301] Test loss: 61.1979\r\n",
        "I0309 02:29:10.890542 1946825472 solver.cpp:314]     Test net output #0: cross_entropy_loss = 61.1979 (* 1 = 61.1979 loss)\r\n",
        "I0309 02:29:10.890552 1946825472 solver.cpp:314]     Test net output #1: l2_error = 2.13295\r\n",
        "I0309 02:29:10.915901 1946825472 solver.cpp:207] Iteration 11000, loss = 62.1889\r\n",
        "I0309 02:29:10.915949 1946825472 solver.cpp:222]     Train net output #0: cross_entropy_loss = 62.1889 (* 1 = 62.1889 loss)\r\n",
        "I0309 02:29:10.915959 1946825472 solver.cpp:222]     Train net output #1: l2_error = 2.17572\r\n",
        "I0309 02:29:10.915968 1946825472 solver.cpp:419] Iteration 11000, lr = 0.001\r\n"
       ]
      },
      {
       "output_type": "stream",
       "stream": "stdout",
       "text": [
        "I0309 02:29:13.914116 1946825472 solver.cpp:207] Iteration 11100, loss = 65.0866\r\n",
        "I0309 02:29:13.914160 1946825472 solver.cpp:222]     Train net output #0: cross_entropy_loss = 65.0866 (* 1 = 65.0866 loss)\r\n",
        "I0309 02:29:13.914168 1946825472 solver.cpp:222]     Train net output #1: l2_error = 2.37177\r\n",
        "I0309 02:29:13.914176 1946825472 solver.cpp:419] Iteration 11100, lr = 0.001\r\n"
       ]
      },
      {
       "output_type": "stream",
       "stream": "stdout",
       "text": [
        "I0309 02:29:16.969774 1946825472 solver.cpp:207] Iteration 11200, loss = 59.6485\r\n",
        "I0309 02:29:16.969818 1946825472 solver.cpp:222]     Train net output #0: cross_entropy_loss = 59.6485 (* 1 = 59.6485 loss)\r\n",
        "I0309 02:29:16.969828 1946825472 solver.cpp:222]     Train net output #1: l2_error = 2.02864\r\n",
        "I0309 02:29:16.969836 1946825472 solver.cpp:419] Iteration 11200, lr = 0.001\r\n"
       ]
      },
      {
       "output_type": "stream",
       "stream": "stdout",
       "text": [
        "I0309 02:29:19.935694 1946825472 solver.cpp:207] Iteration 11300, loss = 58.5354\r\n",
        "I0309 02:29:19.935739 1946825472 solver.cpp:222]     Train net output #0: cross_entropy_loss = 58.5354 (* 1 = 58.5354 loss)\r\n",
        "I0309 02:29:19.935747 1946825472 solver.cpp:222]     Train net output #1: l2_error = 2.04596\r\n",
        "I0309 02:29:19.935755 1946825472 solver.cpp:419] Iteration 11300, lr = 0.001\r\n"
       ]
      },
      {
       "output_type": "stream",
       "stream": "stdout",
       "text": [
        "I0309 02:29:22.939134 1946825472 solver.cpp:207] Iteration 11400, loss = 60.4934\r\n",
        "I0309 02:29:22.939179 1946825472 solver.cpp:222]     Train net output #0: cross_entropy_loss = 60.4934 (* 1 = 60.4934 loss)\r\n",
        "I0309 02:29:22.939188 1946825472 solver.cpp:222]     Train net output #1: l2_error = 1.98044\r\n",
        "I0309 02:29:22.939196 1946825472 solver.cpp:419] Iteration 11400, lr = 0.001\r\n"
       ]
      },
      {
       "output_type": "stream",
       "stream": "stdout",
       "text": [
        "I0309 02:29:25.902078 1946825472 solver.cpp:263] Iteration 11500, Testing net (#0)\r\n"
       ]
      },
      {
       "output_type": "stream",
       "stream": "stdout",
       "text": [
        "I0309 02:29:32.467211 1946825472 solver.cpp:301] Test loss: 61.2507\r\n",
        "I0309 02:29:32.467254 1946825472 solver.cpp:314]     Test net output #0: cross_entropy_loss = 61.2507 (* 1 = 61.2507 loss)\r\n",
        "I0309 02:29:32.467263 1946825472 solver.cpp:314]     Test net output #1: l2_error = 2.09396\r\n",
        "I0309 02:29:32.467270 1946825472 solver.cpp:263] Iteration 11500, Testing net (#1)\r\n"
       ]
      },
      {
       "output_type": "stream",
       "stream": "stdout",
       "text": [
        "I0309 02:29:33.761720 1946825472 solver.cpp:301] Test loss: 61.1098\r\n",
        "I0309 02:29:33.761762 1946825472 solver.cpp:314]     Test net output #0: cross_entropy_loss = 61.1098 (* 1 = 61.1098 loss)\r\n",
        "I0309 02:29:33.761771 1946825472 solver.cpp:314]     Test net output #1: l2_error = 2.1152\r\n"
       ]
      },
      {
       "output_type": "stream",
       "stream": "stdout",
       "text": [
        "I0309 02:29:33.786684 1946825472 solver.cpp:207] Iteration 11500, loss = 61.7312\r\n",
        "I0309 02:29:33.786731 1946825472 solver.cpp:222]     Train net output #0: cross_entropy_loss = 61.7312 (* 1 = 61.7312 loss)\r\n",
        "I0309 02:29:33.786741 1946825472 solver.cpp:222]     Train net output #1: l2_error = 2.12953\r\n",
        "I0309 02:29:33.786751 1946825472 solver.cpp:419] Iteration 11500, lr = 0.001\r\n"
       ]
      },
      {
       "output_type": "stream",
       "stream": "stdout",
       "text": [
        "I0309 02:29:36.809209 1946825472 solver.cpp:207] Iteration 11600, loss = 62.1187\r\n",
        "I0309 02:29:36.809253 1946825472 solver.cpp:222]     Train net output #0: cross_entropy_loss = 62.1187 (* 1 = 62.1187 loss)\r\n",
        "I0309 02:29:36.809263 1946825472 solver.cpp:222]     Train net output #1: l2_error = 2.16499\r\n",
        "I0309 02:29:36.809273 1946825472 solver.cpp:419] Iteration 11600, lr = 0.001\r\n"
       ]
      },
      {
       "output_type": "stream",
       "stream": "stdout",
       "text": [
        "I0309 02:29:39.846151 1946825472 solver.cpp:207] Iteration 11700, loss = 65.0254\r\n",
        "I0309 02:29:39.846197 1946825472 solver.cpp:222]     Train net output #0: cross_entropy_loss = 65.0254 (* 1 = 65.0254 loss)\r\n",
        "I0309 02:29:39.846206 1946825472 solver.cpp:222]     Train net output #1: l2_error = 2.36262\r\n",
        "I0309 02:29:39.846215 1946825472 solver.cpp:419] Iteration 11700, lr = 0.001\r\n"
       ]
      },
      {
       "output_type": "stream",
       "stream": "stdout",
       "text": [
        "I0309 02:29:42.867074 1946825472 solver.cpp:207] Iteration 11800, loss = 59.5896\r\n",
        "I0309 02:29:42.867120 1946825472 solver.cpp:222]     Train net output #0: cross_entropy_loss = 59.5896 (* 1 = 59.5896 loss)\r\n",
        "I0309 02:29:42.867128 1946825472 solver.cpp:222]     Train net output #1: l2_error = 2.01968\r\n",
        "I0309 02:29:42.867136 1946825472 solver.cpp:419] Iteration 11800, lr = 0.001\r\n"
       ]
      },
      {
       "output_type": "stream",
       "stream": "stdout",
       "text": [
        "I0309 02:29:45.929750 1946825472 solver.cpp:207] Iteration 11900, loss = 58.485\r\n",
        "I0309 02:29:45.929793 1946825472 solver.cpp:222]     Train net output #0: cross_entropy_loss = 58.485 (* 1 = 58.485 loss)\r\n",
        "I0309 02:29:45.929802 1946825472 solver.cpp:222]     Train net output #1: l2_error = 2.03832\r\n",
        "I0309 02:29:45.929811 1946825472 solver.cpp:419] Iteration 11900, lr = 0.001\r\n"
       ]
      },
      {
       "output_type": "stream",
       "stream": "stdout",
       "text": [
        "I0309 02:29:48.923017 1946825472 solver.cpp:263] Iteration 12000, Testing net (#0)\r\n"
       ]
      },
      {
       "output_type": "stream",
       "stream": "stdout",
       "text": [
        "I0309 02:29:55.535739 1946825472 solver.cpp:301] Test loss: 61.1753\r\n",
        "I0309 02:29:55.535784 1946825472 solver.cpp:314]     Test net output #0: cross_entropy_loss = 61.1753 (* 1 = 61.1753 loss)\r\n",
        "I0309 02:29:55.535794 1946825472 solver.cpp:314]     Test net output #1: l2_error = 2.09135\r\n",
        "I0309 02:29:55.535800 1946825472 solver.cpp:263] Iteration 12000, Testing net (#1)\r\n"
       ]
      },
      {
       "output_type": "stream",
       "stream": "stdout",
       "text": [
        "I0309 02:29:56.872527 1946825472 solver.cpp:301] Test loss: 61.1135\r\n",
        "I0309 02:29:56.872607 1946825472 solver.cpp:314]     Test net output #0: cross_entropy_loss = 61.1135 (* 1 = 61.1135 loss)\r\n",
        "I0309 02:29:56.872617 1946825472 solver.cpp:314]     Test net output #1: l2_error = 2.11805\r\n",
        "I0309 02:29:56.896309 1946825472 solver.cpp:207] Iteration 12000, loss = 60.4421\r\n",
        "I0309 02:29:56.896350 1946825472 solver.cpp:222]     Train net output #0: cross_entropy_loss = 60.4421 (* 1 = 60.4421 loss)\r\n",
        "I0309 02:29:56.896360 1946825472 solver.cpp:222]     Train net output #1: l2_error = 1.97262\r\n",
        "I0309 02:29:56.896368 1946825472 solver.cpp:419] Iteration 12000, lr = 0.001\r\n"
       ]
      },
      {
       "output_type": "stream",
       "stream": "stdout",
       "text": [
        "I0309 02:29:59.931432 1946825472 solver.cpp:207] Iteration 12100, loss = 61.6823\r\n",
        "I0309 02:29:59.931474 1946825472 solver.cpp:222]     Train net output #0: cross_entropy_loss = 61.6823 (* 1 = 61.6823 loss)\r\n",
        "I0309 02:29:59.931484 1946825472 solver.cpp:222]     Train net output #1: l2_error = 2.12227\r\n",
        "I0309 02:29:59.931493 1946825472 solver.cpp:419] Iteration 12100, lr = 0.001\r\n"
       ]
      },
      {
       "output_type": "stream",
       "stream": "stdout",
       "text": [
        "I0309 02:30:02.970646 1946825472 solver.cpp:207] Iteration 12200, loss = 62.0611\r\n",
        "I0309 02:30:02.970691 1946825472 solver.cpp:222]     Train net output #0: cross_entropy_loss = 62.0611 (* 1 = 62.0611 loss)\r\n",
        "I0309 02:30:02.970700 1946825472 solver.cpp:222]     Train net output #1: l2_error = 2.15646\r\n",
        "I0309 02:30:02.970710 1946825472 solver.cpp:419] Iteration 12200, lr = 0.001\r\n"
       ]
      },
      {
       "output_type": "stream",
       "stream": "stdout",
       "text": [
        "I0309 02:30:05.991122 1946825472 solver.cpp:207] Iteration 12300, loss = 64.9733\r\n",
        "I0309 02:30:05.991169 1946825472 solver.cpp:222]     Train net output #0: cross_entropy_loss = 64.9733 (* 1 = 64.9733 loss)\r\n",
        "I0309 02:30:05.991179 1946825472 solver.cpp:222]     Train net output #1: l2_error = 2.35495\r\n",
        "I0309 02:30:05.991189 1946825472 solver.cpp:419] Iteration 12300, lr = 0.001\r\n"
       ]
      },
      {
       "output_type": "stream",
       "stream": "stdout",
       "text": [
        "I0309 02:30:09.034050 1946825472 solver.cpp:207] Iteration 12400, loss = 59.54\r\n",
        "I0309 02:30:09.034095 1946825472 solver.cpp:222]     Train net output #0: cross_entropy_loss = 59.54 (* 1 = 59.54 loss)\r\n",
        "I0309 02:30:09.034104 1946825472 solver.cpp:222]     Train net output #1: l2_error = 2.01198\r\n",
        "I0309 02:30:09.034112 1946825472 solver.cpp:419] Iteration 12400, lr = 0.001\r\n"
       ]
      },
      {
       "output_type": "stream",
       "stream": "stdout",
       "text": [
        "I0309 02:30:12.030350 1946825472 solver.cpp:263] Iteration 12500, Testing net (#0)\r\n"
       ]
      },
      {
       "output_type": "stream",
       "stream": "stdout",
       "text": [
        "I0309 02:30:18.521142 1946825472 solver.cpp:301] Test loss: 60.9677\r\n",
        "I0309 02:30:18.521185 1946825472 solver.cpp:314]     Test net output #0: cross_entropy_loss = 60.9677 (* 1 = 60.9677 loss)\r\n",
        "I0309 02:30:18.521194 1946825472 solver.cpp:314]     Test net output #1: l2_error = 2.06068\r\n",
        "I0309 02:30:18.521201 1946825472 solver.cpp:263] Iteration 12500, Testing net (#1)\r\n"
       ]
      },
      {
       "output_type": "stream",
       "stream": "stdout",
       "text": [
        "I0309 02:30:19.827986 1946825472 solver.cpp:301] Test loss: 61.0349\r\n",
        "I0309 02:30:19.828030 1946825472 solver.cpp:314]     Test net output #0: cross_entropy_loss = 61.0349 (* 1 = 61.0349 loss)\r\n",
        "I0309 02:30:19.828039 1946825472 solver.cpp:314]     Test net output #1: l2_error = 2.10415\r\n",
        "I0309 02:30:19.850069 1946825472 solver.cpp:207] Iteration 12500, loss = 58.4404\r\n",
        "I0309 02:30:19.850112 1946825472 solver.cpp:222]     Train net output #0: cross_entropy_loss = 58.4404 (* 1 = 58.4404 loss)\r\n",
        "I0309 02:30:19.850121 1946825472 solver.cpp:222]     Train net output #1: l2_error = 2.0317\r\n",
        "I0309 02:30:19.850129 1946825472 solver.cpp:419] Iteration 12500, lr = 0.001\r\n"
       ]
      },
      {
       "output_type": "stream",
       "stream": "stdout",
       "text": [
        "I0309 02:30:22.853165 1946825472 solver.cpp:207] Iteration 12600, loss = 60.3973\r\n",
        "I0309 02:30:22.853209 1946825472 solver.cpp:222]     Train net output #0: cross_entropy_loss = 60.3973 (* 1 = 60.3973 loss)\r\n",
        "I0309 02:30:22.853219 1946825472 solver.cpp:222]     Train net output #1: l2_error = 1.9659\r\n",
        "I0309 02:30:22.853227 1946825472 solver.cpp:419] Iteration 12600, lr = 0.001\r\n"
       ]
      },
      {
       "output_type": "stream",
       "stream": "stdout",
       "text": [
        "I0309 02:30:25.792403 1946825472 solver.cpp:207] Iteration 12700, loss = 61.6394\r\n",
        "I0309 02:30:25.792448 1946825472 solver.cpp:222]     Train net output #0: cross_entropy_loss = 61.6394 (* 1 = 61.6394 loss)\r\n",
        "I0309 02:30:25.792457 1946825472 solver.cpp:222]     Train net output #1: l2_error = 2.11588\r\n",
        "I0309 02:30:25.792465 1946825472 solver.cpp:419] Iteration 12700, lr = 0.001\r\n"
       ]
      },
      {
       "output_type": "stream",
       "stream": "stdout",
       "text": [
        "I0309 02:30:28.859582 1946825472 solver.cpp:207] Iteration 12800, loss = 62.0088\r\n",
        "I0309 02:30:28.859663 1946825472 solver.cpp:222]     Train net output #0: cross_entropy_loss = 62.0088 (* 1 = 62.0088 loss)\r\n",
        "I0309 02:30:28.859673 1946825472 solver.cpp:222]     Train net output #1: l2_error = 2.1489\r\n",
        "I0309 02:30:28.859681 1946825472 solver.cpp:419] Iteration 12800, lr = 0.001\r\n"
       ]
      },
      {
       "output_type": "stream",
       "stream": "stdout",
       "text": [
        "I0309 02:30:31.826920 1946825472 solver.cpp:207] Iteration 12900, loss = 64.9257\r\n",
        "I0309 02:30:31.826964 1946825472 solver.cpp:222]     Train net output #0: cross_entropy_loss = 64.9257 (* 1 = 64.9257 loss)\r\n",
        "I0309 02:30:31.826973 1946825472 solver.cpp:222]     Train net output #1: l2_error = 2.34789\r\n",
        "I0309 02:30:31.826982 1946825472 solver.cpp:419] Iteration 12900, lr = 0.001\r\n"
       ]
      },
      {
       "output_type": "stream",
       "stream": "stdout",
       "text": [
        "I0309 02:30:34.796885 1946825472 solver.cpp:263] Iteration 13000, Testing net (#0)\r\n"
       ]
      },
      {
       "output_type": "stream",
       "stream": "stdout",
       "text": [
        "I0309 02:30:41.360370 1946825472 solver.cpp:301] Test loss: 61.0915\r\n",
        "I0309 02:30:41.360414 1946825472 solver.cpp:314]     Test net output #0: cross_entropy_loss = 61.0915 (* 1 = 61.0915 loss)\r\n",
        "I0309 02:30:41.360422 1946825472 solver.cpp:314]     Test net output #1: l2_error = 2.07457\r\n",
        "I0309 02:30:41.360430 1946825472 solver.cpp:263] Iteration 13000, Testing net (#1)\r\n"
       ]
      },
      {
       "output_type": "stream",
       "stream": "stdout",
       "text": [
        "I0309 02:30:42.671900 1946825472 solver.cpp:301] Test loss: 61.0058\r\n",
        "I0309 02:30:42.671942 1946825472 solver.cpp:314]     Test net output #0: cross_entropy_loss = 61.0058 (* 1 = 61.0058 loss)\r\n",
        "I0309 02:30:42.671952 1946825472 solver.cpp:314]     Test net output #1: l2_error = 2.10195\r\n",
        "I0309 02:30:42.697100 1946825472 solver.cpp:207] Iteration 13000, loss = 59.4952\r\n",
        "I0309 02:30:42.697145 1946825472 solver.cpp:222]     Train net output #0: cross_entropy_loss = 59.4952 (* 1 = 59.4952 loss)\r\n",
        "I0309 02:30:42.697155 1946825472 solver.cpp:222]     Train net output #1: l2_error = 2.00511\r\n",
        "I0309 02:30:42.697163 1946825472 solver.cpp:419] Iteration 13000, lr = 0.001\r\n"
       ]
      },
      {
       "output_type": "stream",
       "stream": "stdout",
       "text": [
        "I0309 02:30:45.721305 1946825472 solver.cpp:207] Iteration 13100, loss = 58.3994\r\n",
        "I0309 02:30:45.721351 1946825472 solver.cpp:222]     Train net output #0: cross_entropy_loss = 58.3994 (* 1 = 58.3994 loss)\r\n",
        "I0309 02:30:45.721360 1946825472 solver.cpp:222]     Train net output #1: l2_error = 2.02559\r\n",
        "I0309 02:30:45.721369 1946825472 solver.cpp:419] Iteration 13100, lr = 0.001\r\n"
       ]
      },
      {
       "output_type": "stream",
       "stream": "stdout",
       "text": [
        "I0309 02:30:48.732287 1946825472 solver.cpp:207] Iteration 13200, loss = 60.3569\r\n",
        "I0309 02:30:48.732331 1946825472 solver.cpp:222]     Train net output #0: cross_entropy_loss = 60.3569 (* 1 = 60.3569 loss)\r\n",
        "I0309 02:30:48.732342 1946825472 solver.cpp:222]     Train net output #1: l2_error = 1.95985\r\n",
        "I0309 02:30:48.732349 1946825472 solver.cpp:419] Iteration 13200, lr = 0.001\r\n"
       ]
      },
      {
       "output_type": "stream",
       "stream": "stdout",
       "text": [
        "I0309 02:30:51.869213 1946825472 solver.cpp:207] Iteration 13300, loss = 61.5999\r\n",
        "I0309 02:30:51.869261 1946825472 solver.cpp:222]     Train net output #0: cross_entropy_loss = 61.5999 (* 1 = 61.5999 loss)\r\n",
        "I0309 02:30:51.869271 1946825472 solver.cpp:222]     Train net output #1: l2_error = 2.11002\r\n",
        "I0309 02:30:51.869281 1946825472 solver.cpp:419] Iteration 13300, lr = 0.001\r\n"
       ]
      },
      {
       "output_type": "stream",
       "stream": "stdout",
       "text": [
        "I0309 02:30:54.852603 1946825472 solver.cpp:207] Iteration 13400, loss = 61.96\r\n",
        "I0309 02:30:54.852648 1946825472 solver.cpp:222]     Train net output #0: cross_entropy_loss = 61.96 (* 1 = 61.96 loss)\r\n",
        "I0309 02:30:54.852658 1946825472 solver.cpp:222]     Train net output #1: l2_error = 2.14187\r\n",
        "I0309 02:30:54.852666 1946825472 solver.cpp:419] Iteration 13400, lr = 0.001\r\n"
       ]
      },
      {
       "output_type": "stream",
       "stream": "stdout",
       "text": [
        "I0309 02:30:57.904531 1946825472 solver.cpp:263] Iteration 13500, Testing net (#0)\r\n"
       ]
      },
      {
       "output_type": "stream",
       "stream": "stdout",
       "text": [
        "I0309 02:31:04.439626 1946825472 solver.cpp:301] Test loss: 61.145\r\n",
        "I0309 02:31:04.439705 1946825472 solver.cpp:314]     Test net output #0: cross_entropy_loss = 61.145 (* 1 = 61.145 loss)\r\n",
        "I0309 02:31:04.439714 1946825472 solver.cpp:314]     Test net output #1: l2_error = 2.07104\r\n",
        "I0309 02:31:04.439723 1946825472 solver.cpp:263] Iteration 13500, Testing net (#1)\r\n"
       ]
      },
      {
       "output_type": "stream",
       "stream": "stdout",
       "text": [
        "I0309 02:31:05.756108 1946825472 solver.cpp:301] Test loss: 60.9763\r\n",
        "I0309 02:31:05.756155 1946825472 solver.cpp:314]     Test net output #0: cross_entropy_loss = 60.9763 (* 1 = 60.9763 loss)\r\n",
        "I0309 02:31:05.756165 1946825472 solver.cpp:314]     Test net output #1: l2_error = 2.09457\r\n"
       ]
      },
      {
       "output_type": "stream",
       "stream": "stdout",
       "text": [
        "I0309 02:31:05.780227 1946825472 solver.cpp:207] Iteration 13500, loss = 64.8806\r\n",
        "I0309 02:31:05.780272 1946825472 solver.cpp:222]     Train net output #0: cross_entropy_loss = 64.8806 (* 1 = 64.8806 loss)\r\n",
        "I0309 02:31:05.780280 1946825472 solver.cpp:222]     Train net output #1: l2_error = 2.3412\r\n",
        "I0309 02:31:05.780288 1946825472 solver.cpp:419] Iteration 13500, lr = 0.001\r\n"
       ]
      },
      {
       "output_type": "stream",
       "stream": "stdout",
       "text": [
        "I0309 02:31:08.820240 1946825472 solver.cpp:207] Iteration 13600, loss = 59.4542\r\n",
        "I0309 02:31:08.820283 1946825472 solver.cpp:222]     Train net output #0: cross_entropy_loss = 59.4542 (* 1 = 59.4542 loss)\r\n",
        "I0309 02:31:08.820293 1946825472 solver.cpp:222]     Train net output #1: l2_error = 1.99884\r\n",
        "I0309 02:31:08.820303 1946825472 solver.cpp:419] Iteration 13600, lr = 0.001\r\n"
       ]
      },
      {
       "output_type": "stream",
       "stream": "stdout",
       "text": [
        "I0309 02:31:11.843343 1946825472 solver.cpp:207] Iteration 13700, loss = 58.3603\r\n",
        "I0309 02:31:11.843387 1946825472 solver.cpp:222]     Train net output #0: cross_entropy_loss = 58.3603 (* 1 = 58.3603 loss)\r\n",
        "I0309 02:31:11.843396 1946825472 solver.cpp:222]     Train net output #1: l2_error = 2.01982\r\n",
        "I0309 02:31:11.843405 1946825472 solver.cpp:419] Iteration 13700, lr = 0.001\r\n"
       ]
      },
      {
       "output_type": "stream",
       "stream": "stdout",
       "text": [
        "I0309 02:31:14.787341 1946825472 solver.cpp:207] Iteration 13800, loss = 60.3189\r\n",
        "I0309 02:31:14.787385 1946825472 solver.cpp:222]     Train net output #0: cross_entropy_loss = 60.3189 (* 1 = 60.3189 loss)\r\n",
        "I0309 02:31:14.787395 1946825472 solver.cpp:222]     Train net output #1: l2_error = 1.95427\r\n",
        "I0309 02:31:14.787403 1946825472 solver.cpp:419] Iteration 13800, lr = 0.001\r\n"
       ]
      },
      {
       "output_type": "stream",
       "stream": "stdout",
       "text": [
        "I0309 02:31:17.892554 1946825472 solver.cpp:207] Iteration 13900, loss = 61.5622\r\n",
        "I0309 02:31:17.892604 1946825472 solver.cpp:222]     Train net output #0: cross_entropy_loss = 61.5622 (* 1 = 61.5622 loss)\r\n",
        "I0309 02:31:17.892614 1946825472 solver.cpp:222]     Train net output #1: l2_error = 2.10453\r\n",
        "I0309 02:31:17.892633 1946825472 solver.cpp:419] Iteration 13900, lr = 0.001\r\n"
       ]
      },
      {
       "output_type": "stream",
       "stream": "stdout",
       "text": [
        "I0309 02:31:21.129604 1946825472 solver.cpp:263] Iteration 14000, Testing net (#0)\r\n"
       ]
      },
      {
       "output_type": "stream",
       "stream": "stdout",
       "text": [
        "I0309 02:31:28.092514 1946825472 solver.cpp:301] Test loss: 61.1353\r\n",
        "I0309 02:31:28.092561 1946825472 solver.cpp:314]     Test net output #0: cross_entropy_loss = 61.1353 (* 1 = 61.1353 loss)\r\n",
        "I0309 02:31:28.092571 1946825472 solver.cpp:314]     Test net output #1: l2_error = 2.07507\r\n",
        "I0309 02:31:28.092577 1946825472 solver.cpp:263] Iteration 14000, Testing net (#1)\r\n"
       ]
      },
      {
       "output_type": "stream",
       "stream": "stdout",
       "text": [
        "I0309 02:31:29.514343 1946825472 solver.cpp:301] Test loss: 60.9716\r\n",
        "I0309 02:31:29.514381 1946825472 solver.cpp:314]     Test net output #0: cross_entropy_loss = 60.9716 (* 1 = 60.9716 loss)\r\n",
        "I0309 02:31:29.514390 1946825472 solver.cpp:314]     Test net output #1: l2_error = 2.09865\r\n"
       ]
      },
      {
       "output_type": "stream",
       "stream": "stdout",
       "text": [
        "I0309 02:31:29.540284 1946825472 solver.cpp:207] Iteration 14000, loss = 61.9131\r\n",
        "I0309 02:31:29.540328 1946825472 solver.cpp:222]     Train net output #0: cross_entropy_loss = 61.9131 (* 1 = 61.9131 loss)\r\n",
        "I0309 02:31:29.540336 1946825472 solver.cpp:222]     Train net output #1: l2_error = 2.13518\r\n",
        "I0309 02:31:29.540345 1946825472 solver.cpp:419] Iteration 14000, lr = 0.001\r\n"
       ]
      },
      {
       "output_type": "stream",
       "stream": "stdout",
       "text": [
        "I0309 02:31:32.808054 1946825472 solver.cpp:207] Iteration 14100, loss = 64.8375\r\n",
        "I0309 02:31:32.808099 1946825472 solver.cpp:222]     Train net output #0: cross_entropy_loss = 64.8375 (* 1 = 64.8375 loss)\r\n",
        "I0309 02:31:32.808107 1946825472 solver.cpp:222]     Train net output #1: l2_error = 2.3348\r\n",
        "I0309 02:31:32.808116 1946825472 solver.cpp:419] Iteration 14100, lr = 0.001\r\n"
       ]
      },
      {
       "output_type": "stream",
       "stream": "stdout",
       "text": [
        "I0309 02:31:35.820675 1946825472 solver.cpp:207] Iteration 14200, loss = 59.4161\r\n",
        "I0309 02:31:35.820758 1946825472 solver.cpp:222]     Train net output #0: cross_entropy_loss = 59.4161 (* 1 = 59.4161 loss)\r\n",
        "I0309 02:31:35.820768 1946825472 solver.cpp:222]     Train net output #1: l2_error = 1.99304\r\n",
        "I0309 02:31:35.820777 1946825472 solver.cpp:419] Iteration 14200, lr = 0.001\r\n"
       ]
      },
      {
       "output_type": "stream",
       "stream": "stdout",
       "text": [
        "I0309 02:31:38.816262 1946825472 solver.cpp:207] Iteration 14300, loss = 58.3234\r\n",
        "I0309 02:31:38.816308 1946825472 solver.cpp:222]     Train net output #0: cross_entropy_loss = 58.3234 (* 1 = 58.3234 loss)\r\n",
        "I0309 02:31:38.816316 1946825472 solver.cpp:222]     Train net output #1: l2_error = 2.0143\r\n",
        "I0309 02:31:38.816324 1946825472 solver.cpp:419] Iteration 14300, lr = 0.001\r\n"
       ]
      },
      {
       "output_type": "stream",
       "stream": "stdout",
       "text": [
        "I0309 02:31:41.829527 1946825472 solver.cpp:207] Iteration 14400, loss = 60.2834\r\n",
        "I0309 02:31:41.829581 1946825472 solver.cpp:222]     Train net output #0: cross_entropy_loss = 60.2834 (* 1 = 60.2834 loss)\r\n",
        "I0309 02:31:41.829591 1946825472 solver.cpp:222]     Train net output #1: l2_error = 1.94905\r\n",
        "I0309 02:31:41.829601 1946825472 solver.cpp:419] Iteration 14400, lr = 0.001\r\n"
       ]
      },
      {
       "output_type": "stream",
       "stream": "stdout",
       "text": [
        "I0309 02:31:44.919548 1946825472 solver.cpp:263] Iteration 14500, Testing net (#0)\r\n"
       ]
      },
      {
       "output_type": "stream",
       "stream": "stdout",
       "text": [
        "I0309 02:31:51.508182 1946825472 solver.cpp:301] Test loss: 61.0443\r\n",
        "I0309 02:31:51.508230 1946825472 solver.cpp:314]     Test net output #0: cross_entropy_loss = 61.0443 (* 1 = 61.0443 loss)\r\n",
        "I0309 02:31:51.508244 1946825472 solver.cpp:314]     Test net output #1: l2_error = 2.06326\r\n",
        "I0309 02:31:51.508250 1946825472 solver.cpp:263] Iteration 14500, Testing net (#1)\r\n"
       ]
      },
      {
       "output_type": "stream",
       "stream": "stdout",
       "text": [
        "I0309 02:31:52.830565 1946825472 solver.cpp:301] Test loss: 60.9106\r\n",
        "I0309 02:31:52.830610 1946825472 solver.cpp:314]     Test net output #0: cross_entropy_loss = 60.9106 (* 1 = 60.9106 loss)\r\n",
        "I0309 02:31:52.830618 1946825472 solver.cpp:314]     Test net output #1: l2_error = 2.08566\r\n",
        "I0309 02:31:52.852951 1946825472 solver.cpp:207] Iteration 14500, loss = 61.5266\r\n",
        "I0309 02:31:52.852993 1946825472 solver.cpp:222]     Train net output #0: cross_entropy_loss = 61.5266 (* 1 = 61.5266 loss)\r\n",
        "I0309 02:31:52.853003 1946825472 solver.cpp:222]     Train net output #1: l2_error = 2.09931\r\n",
        "I0309 02:31:52.853010 1946825472 solver.cpp:419] Iteration 14500, lr = 0.001\r\n"
       ]
      },
      {
       "output_type": "stream",
       "stream": "stdout",
       "text": [
        "I0309 02:31:55.838428 1946825472 solver.cpp:207] Iteration 14600, loss = 61.8681\r\n",
        "I0309 02:31:55.838477 1946825472 solver.cpp:222]     Train net output #0: cross_entropy_loss = 61.8681 (* 1 = 61.8681 loss)\r\n",
        "I0309 02:31:55.838488 1946825472 solver.cpp:222]     Train net output #1: l2_error = 2.12875\r\n",
        "I0309 02:31:55.838496 1946825472 solver.cpp:419] Iteration 14600, lr = 0.001\r\n"
       ]
      },
      {
       "output_type": "stream",
       "stream": "stdout",
       "text": [
        "I0309 02:31:59.169122 1946825472 solver.cpp:207] Iteration 14700, loss = 64.7957\r\n",
        "I0309 02:31:59.169194 1946825472 solver.cpp:222]     Train net output #0: cross_entropy_loss = 64.7957 (* 1 = 64.7957 loss)\r\n",
        "I0309 02:31:59.169239 1946825472 solver.cpp:222]     Train net output #1: l2_error = 2.32864\r\n",
        "I0309 02:31:59.169256 1946825472 solver.cpp:419] Iteration 14700, lr = 0.001\r\n"
       ]
      },
      {
       "output_type": "stream",
       "stream": "stdout",
       "text": [
        "I0309 02:32:02.361122 1946825472 solver.cpp:207] Iteration 14800, loss = 59.3806\r\n",
        "I0309 02:32:02.361168 1946825472 solver.cpp:222]     Train net output #0: cross_entropy_loss = 59.3806 (* 1 = 59.3806 loss)\r\n",
        "I0309 02:32:02.361177 1946825472 solver.cpp:222]     Train net output #1: l2_error = 1.98762\r\n",
        "I0309 02:32:02.361186 1946825472 solver.cpp:419] Iteration 14800, lr = 0.001\r\n"
       ]
      },
      {
       "output_type": "stream",
       "stream": "stdout",
       "text": [
        "I0309 02:32:05.399564 1946825472 solver.cpp:207] Iteration 14900, loss = 58.2875\r\n",
        "I0309 02:32:05.399615 1946825472 solver.cpp:222]     Train net output #0: cross_entropy_loss = 58.2875 (* 1 = 58.2875 loss)\r\n",
        "I0309 02:32:05.399624 1946825472 solver.cpp:222]     Train net output #1: l2_error = 2.00897\r\n",
        "I0309 02:32:05.399633 1946825472 solver.cpp:419] Iteration 14900, lr = 0.001\r\n"
       ]
      },
      {
       "output_type": "stream",
       "stream": "stdout",
       "text": [
        "I0309 02:32:08.388314 1946825472 solver.cpp:263] Iteration 15000, Testing net (#0)\r\n"
       ]
      },
      {
       "output_type": "stream",
       "stream": "stdout",
       "text": [
        "I0309 02:32:15.039898 1946825472 solver.cpp:301] Test loss: 60.9802\r\n",
        "I0309 02:32:15.039942 1946825472 solver.cpp:314]     Test net output #0: cross_entropy_loss = 60.9802 (* 1 = 60.9802 loss)\r\n",
        "I0309 02:32:15.039950 1946825472 solver.cpp:314]     Test net output #1: l2_error = 2.0626\r\n",
        "I0309 02:32:15.039958 1946825472 solver.cpp:263] Iteration 15000, Testing net (#1)\r\n"
       ]
      },
      {
       "output_type": "stream",
       "stream": "stdout",
       "text": [
        "I0309 02:32:16.420580 1946825472 solver.cpp:301] Test loss: 60.9235\r\n",
        "I0309 02:32:16.420622 1946825472 solver.cpp:314]     Test net output #0: cross_entropy_loss = 60.9235 (* 1 = 60.9235 loss)\r\n",
        "I0309 02:32:16.420639 1946825472 solver.cpp:314]     Test net output #1: l2_error = 2.09019\r\n",
        "I0309 02:32:16.443871 1946825472 solver.cpp:207] Iteration 15000, loss = 60.2494\r\n",
        "I0309 02:32:16.443914 1946825472 solver.cpp:222]     Train net output #0: cross_entropy_loss = 60.2494 (* 1 = 60.2494 loss)\r\n",
        "I0309 02:32:16.443923 1946825472 solver.cpp:222]     Train net output #1: l2_error = 1.9441\r\n",
        "I0309 02:32:16.443931 1946825472 solver.cpp:419] Iteration 15000, lr = 0.001\r\n"
       ]
      },
      {
       "output_type": "stream",
       "stream": "stdout",
       "text": [
        "I0309 02:32:19.557126 1946825472 solver.cpp:207] Iteration 15100, loss = 61.4925\r\n",
        "I0309 02:32:19.557173 1946825472 solver.cpp:222]     Train net output #0: cross_entropy_loss = 61.4925 (* 1 = 61.4925 loss)\r\n",
        "I0309 02:32:19.557183 1946825472 solver.cpp:222]     Train net output #1: l2_error = 2.0943\r\n",
        "I0309 02:32:19.557195 1946825472 solver.cpp:419] Iteration 15100, lr = 0.001\r\n"
       ]
      },
      {
       "output_type": "stream",
       "stream": "stdout",
       "text": [
        "I0309 02:32:22.870342 1946825472 solver.cpp:207] Iteration 15200, loss = 61.8246\r\n",
        "I0309 02:32:22.870386 1946825472 solver.cpp:222]     Train net output #0: cross_entropy_loss = 61.8246 (* 1 = 61.8246 loss)\r\n",
        "I0309 02:32:22.870395 1946825472 solver.cpp:222]     Train net output #1: l2_error = 2.12251\r\n",
        "I0309 02:32:22.870404 1946825472 solver.cpp:419] Iteration 15200, lr = 0.001\r\n"
       ]
      },
      {
       "output_type": "stream",
       "stream": "stdout",
       "text": [
        "I0309 02:32:26.204666 1946825472 solver.cpp:207] Iteration 15300, loss = 64.7552\r\n",
        "I0309 02:32:26.204712 1946825472 solver.cpp:222]     Train net output #0: cross_entropy_loss = 64.7552 (* 1 = 64.7552 loss)\r\n",
        "I0309 02:32:26.204721 1946825472 solver.cpp:222]     Train net output #1: l2_error = 2.32268\r\n",
        "I0309 02:32:26.204730 1946825472 solver.cpp:419] Iteration 15300, lr = 0.001\r\n"
       ]
      },
      {
       "output_type": "stream",
       "stream": "stdout",
       "text": [
        "I0309 02:32:29.383815 1946825472 solver.cpp:207] Iteration 15400, loss = 59.3469\r\n",
        "I0309 02:32:29.383860 1946825472 solver.cpp:222]     Train net output #0: cross_entropy_loss = 59.3469 (* 1 = 59.3469 loss)\r\n",
        "I0309 02:32:29.383870 1946825472 solver.cpp:222]     Train net output #1: l2_error = 1.98251\r\n",
        "I0309 02:32:29.383879 1946825472 solver.cpp:419] Iteration 15400, lr = 0.001\r\n"
       ]
      },
      {
       "output_type": "stream",
       "stream": "stdout",
       "text": [
        "I0309 02:32:32.659373 1946825472 solver.cpp:263] Iteration 15500, Testing net (#0)\r\n"
       ]
      },
      {
       "output_type": "stream",
       "stream": "stdout",
       "text": [
        "I0309 02:32:39.739454 1946825472 solver.cpp:301] Test loss: 60.7806\r\n",
        "I0309 02:32:39.739531 1946825472 solver.cpp:314]     Test net output #0: cross_entropy_loss = 60.7806 (* 1 = 60.7806 loss)\r\n",
        "I0309 02:32:39.739547 1946825472 solver.cpp:314]     Test net output #1: l2_error = 2.03254\r\n",
        "I0309 02:32:39.739554 1946825472 solver.cpp:263] Iteration 15500, Testing net (#1)\r\n"
       ]
      },
      {
       "output_type": "stream",
       "stream": "stdout",
       "text": [
        "I0309 02:32:41.135001 1946825472 solver.cpp:301] Test loss: 60.8518\r\n",
        "I0309 02:32:41.135049 1946825472 solver.cpp:314]     Test net output #0: cross_entropy_loss = 60.8518 (* 1 = 60.8518 loss)\r\n",
        "I0309 02:32:41.135058 1946825472 solver.cpp:314]     Test net output #1: l2_error = 2.07675\r\n"
       ]
      },
      {
       "output_type": "stream",
       "stream": "stdout",
       "text": [
        "I0309 02:32:41.160931 1946825472 solver.cpp:207] Iteration 15500, loss = 58.2526\r\n",
        "I0309 02:32:41.160974 1946825472 solver.cpp:222]     Train net output #0: cross_entropy_loss = 58.2526 (* 1 = 58.2526 loss)\r\n",
        "I0309 02:32:41.160982 1946825472 solver.cpp:222]     Train net output #1: l2_error = 2.00382\r\n",
        "I0309 02:32:41.160991 1946825472 solver.cpp:419] Iteration 15500, lr = 0.001\r\n"
       ]
      },
      {
       "output_type": "stream",
       "stream": "stdout",
       "text": [
        "I0309 02:32:44.535245 1946825472 solver.cpp:207] Iteration 15600, loss = 60.2174\r\n",
        "I0309 02:32:44.535290 1946825472 solver.cpp:222]     Train net output #0: cross_entropy_loss = 60.2174 (* 1 = 60.2174 loss)\r\n",
        "I0309 02:32:44.535300 1946825472 solver.cpp:222]     Train net output #1: l2_error = 1.93938\r\n",
        "I0309 02:32:44.535308 1946825472 solver.cpp:419] Iteration 15600, lr = 0.001\r\n"
       ]
      },
      {
       "output_type": "stream",
       "stream": "stdout",
       "text": [
        "I0309 02:32:48.111685 1946825472 solver.cpp:207] Iteration 15700, loss = 61.4595\r\n",
        "I0309 02:32:48.111733 1946825472 solver.cpp:222]     Train net output #0: cross_entropy_loss = 61.4595 (* 1 = 61.4595 loss)\r\n",
        "I0309 02:32:48.111743 1946825472 solver.cpp:222]     Train net output #1: l2_error = 2.08948\r\n",
        "I0309 02:32:48.111752 1946825472 solver.cpp:419] Iteration 15700, lr = 0.001\r\n"
       ]
      },
      {
       "output_type": "stream",
       "stream": "stdout",
       "text": [
        "I0309 02:32:51.595140 1946825472 solver.cpp:207] Iteration 15800, loss = 61.7818\r\n",
        "I0309 02:32:51.595185 1946825472 solver.cpp:222]     Train net output #0: cross_entropy_loss = 61.7818 (* 1 = 61.7818 loss)\r\n",
        "I0309 02:32:51.595193 1946825472 solver.cpp:222]     Train net output #1: l2_error = 2.11643\r\n",
        "I0309 02:32:51.595202 1946825472 solver.cpp:419] Iteration 15800, lr = 0.001\r\n"
       ]
      },
      {
       "output_type": "stream",
       "stream": "stdout",
       "text": [
        "I0309 02:32:54.808852 1946825472 solver.cpp:207] Iteration 15900, loss = 64.7164\r\n",
        "I0309 02:32:54.808897 1946825472 solver.cpp:222]     Train net output #0: cross_entropy_loss = 64.7164 (* 1 = 64.7164 loss)\r\n",
        "I0309 02:32:54.808907 1946825472 solver.cpp:222]     Train net output #1: l2_error = 2.31691\r\n",
        "I0309 02:32:54.808915 1946825472 solver.cpp:419] Iteration 15900, lr = 0.001\r\n"
       ]
      },
      {
       "output_type": "stream",
       "stream": "stdout",
       "text": [
        "I0309 02:32:58.571598 1946825472 solver.cpp:263] Iteration 16000, Testing net (#0)\r\n"
       ]
      },
      {
       "output_type": "stream",
       "stream": "stdout",
       "text": [
        "I0309 02:33:05.701319 1946825472 solver.cpp:301] Test loss: 60.9044\r\n",
        "I0309 02:33:05.701382 1946825472 solver.cpp:314]     Test net output #0: cross_entropy_loss = 60.9044 (* 1 = 60.9044 loss)\r\n",
        "I0309 02:33:05.701396 1946825472 solver.cpp:314]     Test net output #1: l2_error = 2.04627\r\n",
        "I0309 02:33:05.701406 1946825472 solver.cpp:263] Iteration 16000, Testing net (#1)\r\n"
       ]
      },
      {
       "output_type": "stream",
       "stream": "stdout",
       "text": [
        "I0309 02:33:07.009917 1946825472 solver.cpp:301] Test loss: 60.8306\r\n",
        "I0309 02:33:07.009963 1946825472 solver.cpp:314]     Test net output #0: cross_entropy_loss = 60.8306 (* 1 = 60.8306 loss)\r\n",
        "I0309 02:33:07.009973 1946825472 solver.cpp:314]     Test net output #1: l2_error = 2.07559\r\n"
       ]
      },
      {
       "output_type": "stream",
       "stream": "stdout",
       "text": [
        "I0309 02:33:07.032915 1946825472 solver.cpp:207] Iteration 16000, loss = 59.315\r\n",
        "I0309 02:33:07.032960 1946825472 solver.cpp:222]     Train net output #0: cross_entropy_loss = 59.315 (* 1 = 59.315 loss)\r\n",
        "I0309 02:33:07.032969 1946825472 solver.cpp:222]     Train net output #1: l2_error = 1.97766\r\n",
        "I0309 02:33:07.032977 1946825472 solver.cpp:419] Iteration 16000, lr = 0.001\r\n"
       ]
      },
      {
       "output_type": "stream",
       "stream": "stdout",
       "text": [
        "I0309 02:33:10.071374 1946825472 solver.cpp:207] Iteration 16100, loss = 58.219\r\n",
        "I0309 02:33:10.071457 1946825472 solver.cpp:222]     Train net output #0: cross_entropy_loss = 58.219 (* 1 = 58.219 loss)\r\n",
        "I0309 02:33:10.071467 1946825472 solver.cpp:222]     Train net output #1: l2_error = 1.99881\r\n",
        "I0309 02:33:10.071475 1946825472 solver.cpp:419] Iteration 16100, lr = 0.001\r\n"
       ]
      },
      {
       "output_type": "stream",
       "stream": "stdout",
       "text": [
        "I0309 02:33:13.076578 1946825472 solver.cpp:207] Iteration 16200, loss = 60.1858\r\n",
        "I0309 02:33:13.076623 1946825472 solver.cpp:222]     Train net output #0: cross_entropy_loss = 60.1858 (* 1 = 60.1858 loss)\r\n",
        "I0309 02:33:13.076632 1946825472 solver.cpp:222]     Train net output #1: l2_error = 1.93485\r\n",
        "I0309 02:33:13.076642 1946825472 solver.cpp:419] Iteration 16200, lr = 0.001\r\n"
       ]
      },
      {
       "output_type": "stream",
       "stream": "stdout",
       "text": [
        "I0309 02:33:16.097091 1946825472 solver.cpp:207] Iteration 16300, loss = 61.4276\r\n",
        "I0309 02:33:16.097136 1946825472 solver.cpp:222]     Train net output #0: cross_entropy_loss = 61.4276 (* 1 = 61.4276 loss)\r\n",
        "I0309 02:33:16.097146 1946825472 solver.cpp:222]     Train net output #1: l2_error = 2.08481\r\n",
        "I0309 02:33:16.097154 1946825472 solver.cpp:419] Iteration 16300, lr = 0.001\r\n"
       ]
      },
      {
       "output_type": "stream",
       "stream": "stdout",
       "text": [
        "I0309 02:33:19.086253 1946825472 solver.cpp:207] Iteration 16400, loss = 61.7409\r\n",
        "I0309 02:33:19.086323 1946825472 solver.cpp:222]     Train net output #0: cross_entropy_loss = 61.7409 (* 1 = 61.7409 loss)\r\n",
        "I0309 02:33:19.086340 1946825472 solver.cpp:222]     Train net output #1: l2_error = 2.11048\r\n",
        "I0309 02:33:19.086349 1946825472 solver.cpp:419] Iteration 16400, lr = 0.001\r\n"
       ]
      },
      {
       "output_type": "stream",
       "stream": "stdout",
       "text": [
        "I0309 02:33:22.210397 1946825472 solver.cpp:263] Iteration 16500, Testing net (#0)\r\n"
       ]
      },
      {
       "output_type": "stream",
       "stream": "stdout",
       "text": [
        "I0309 02:33:28.799726 1946825472 solver.cpp:301] Test loss: 60.9648\r\n",
        "I0309 02:33:28.799770 1946825472 solver.cpp:314]     Test net output #0: cross_entropy_loss = 60.9648 (* 1 = 60.9648 loss)\r\n",
        "I0309 02:33:28.799779 1946825472 solver.cpp:314]     Test net output #1: l2_error = 2.04404\r\n",
        "I0309 02:33:28.799787 1946825472 solver.cpp:263] Iteration 16500, Testing net (#1)\r\n"
       ]
      },
      {
       "output_type": "stream",
       "stream": "stdout",
       "text": [
        "I0309 02:33:30.135176 1946825472 solver.cpp:301] Test loss: 60.8053\r\n",
        "I0309 02:33:30.135222 1946825472 solver.cpp:314]     Test net output #0: cross_entropy_loss = 60.8053 (* 1 = 60.8053 loss)\r\n",
        "I0309 02:33:30.135231 1946825472 solver.cpp:314]     Test net output #1: l2_error = 2.0691\r\n"
       ]
      },
      {
       "output_type": "stream",
       "stream": "stdout",
       "text": [
        "I0309 02:33:30.160128 1946825472 solver.cpp:207] Iteration 16500, loss = 64.6784\r\n",
        "I0309 02:33:30.160176 1946825472 solver.cpp:222]     Train net output #0: cross_entropy_loss = 64.6784 (* 1 = 64.6784 loss)\r\n",
        "I0309 02:33:30.160187 1946825472 solver.cpp:222]     Train net output #1: l2_error = 2.31131\r\n",
        "I0309 02:33:30.160195 1946825472 solver.cpp:419] Iteration 16500, lr = 0.001\r\n"
       ]
      },
      {
       "output_type": "stream",
       "stream": "stdout",
       "text": [
        "I0309 02:33:33.154794 1946825472 solver.cpp:207] Iteration 16600, loss = 59.2844\r\n",
        "I0309 02:33:33.154839 1946825472 solver.cpp:222]     Train net output #0: cross_entropy_loss = 59.2844 (* 1 = 59.2844 loss)\r\n",
        "I0309 02:33:33.154847 1946825472 solver.cpp:222]     Train net output #1: l2_error = 1.97301\r\n",
        "I0309 02:33:33.154856 1946825472 solver.cpp:419] Iteration 16600, lr = 0.001\r\n"
       ]
      },
      {
       "output_type": "stream",
       "stream": "stdout",
       "text": [
        "I0309 02:33:36.147991 1946825472 solver.cpp:207] Iteration 16700, loss = 58.1863\r\n",
        "I0309 02:33:36.148036 1946825472 solver.cpp:222]     Train net output #0: cross_entropy_loss = 58.1863 (* 1 = 58.1863 loss)\r\n",
        "I0309 02:33:36.148046 1946825472 solver.cpp:222]     Train net output #1: l2_error = 1.99394\r\n",
        "I0309 02:33:36.148053 1946825472 solver.cpp:419] Iteration 16700, lr = 0.001\r\n"
       ]
      },
      {
       "output_type": "stream",
       "stream": "stdout",
       "text": [
        "I0309 02:33:39.167457 1946825472 solver.cpp:207] Iteration 16800, loss = 60.1556\r\n",
        "I0309 02:33:39.167501 1946825472 solver.cpp:222]     Train net output #0: cross_entropy_loss = 60.1556 (* 1 = 60.1556 loss)\r\n",
        "I0309 02:33:39.167510 1946825472 solver.cpp:222]     Train net output #1: l2_error = 1.93049\r\n",
        "I0309 02:33:39.167518 1946825472 solver.cpp:419] Iteration 16800, lr = 0.001\r\n"
       ]
      },
      {
       "output_type": "stream",
       "stream": "stdout",
       "text": [
        "I0309 02:33:42.187168 1946825472 solver.cpp:207] Iteration 16900, loss = 61.3964\r\n",
        "I0309 02:33:42.187249 1946825472 solver.cpp:222]     Train net output #0: cross_entropy_loss = 61.3964 (* 1 = 61.3964 loss)\r\n",
        "I0309 02:33:42.187259 1946825472 solver.cpp:222]     Train net output #1: l2_error = 2.08028\r\n",
        "I0309 02:33:42.187268 1946825472 solver.cpp:419] Iteration 16900, lr = 0.001\r\n"
       ]
      },
      {
       "output_type": "stream",
       "stream": "stdout",
       "text": [
        "I0309 02:33:45.264618 1946825472 solver.cpp:263] Iteration 17000, Testing net (#0)\r\n"
       ]
      },
      {
       "output_type": "stream",
       "stream": "stdout",
       "text": [
        "I0309 02:33:51.925323 1946825472 solver.cpp:301] Test loss: 60.956\r\n",
        "I0309 02:33:51.925367 1946825472 solver.cpp:314]     Test net output #0: cross_entropy_loss = 60.956 (* 1 = 60.956 loss)\r\n",
        "I0309 02:33:51.925376 1946825472 solver.cpp:314]     Test net output #1: l2_error = 2.048\r\n",
        "I0309 02:33:51.925384 1946825472 solver.cpp:263] Iteration 17000, Testing net (#1)\r\n"
       ]
      },
      {
       "output_type": "stream",
       "stream": "stdout",
       "text": [
        "I0309 02:33:53.235656 1946825472 solver.cpp:301] Test loss: 60.7998\r\n",
        "I0309 02:33:53.235698 1946825472 solver.cpp:314]     Test net output #0: cross_entropy_loss = 60.7998 (* 1 = 60.7998 loss)\r\n",
        "I0309 02:33:53.235707 1946825472 solver.cpp:314]     Test net output #1: l2_error = 2.07277\r\n"
       ]
      },
      {
       "output_type": "stream",
       "stream": "stdout",
       "text": [
        "I0309 02:33:53.260782 1946825472 solver.cpp:207] Iteration 17000, loss = 61.7002\r\n",
        "I0309 02:33:53.260824 1946825472 solver.cpp:222]     Train net output #0: cross_entropy_loss = 61.7002 (* 1 = 61.7002 loss)\r\n",
        "I0309 02:33:53.260834 1946825472 solver.cpp:222]     Train net output #1: l2_error = 2.10466\r\n",
        "I0309 02:33:53.260843 1946825472 solver.cpp:419] Iteration 17000, lr = 0.001\r\n"
       ]
      },
      {
       "output_type": "stream",
       "stream": "stdout",
       "text": [
        "I0309 02:33:56.245210 1946825472 solver.cpp:207] Iteration 17100, loss = 64.6417\r\n",
        "I0309 02:33:56.245254 1946825472 solver.cpp:222]     Train net output #0: cross_entropy_loss = 64.6417 (* 1 = 64.6417 loss)\r\n",
        "I0309 02:33:56.245264 1946825472 solver.cpp:222]     Train net output #1: l2_error = 2.30587\r\n",
        "I0309 02:33:56.245271 1946825472 solver.cpp:419] Iteration 17100, lr = 0.001\r\n"
       ]
      },
      {
       "output_type": "stream",
       "stream": "stdout",
       "text": [
        "I0309 02:33:59.281172 1946825472 solver.cpp:207] Iteration 17200, loss = 59.2544\r\n",
        "I0309 02:33:59.281235 1946825472 solver.cpp:222]     Train net output #0: cross_entropy_loss = 59.2544 (* 1 = 59.2544 loss)\r\n",
        "I0309 02:33:59.281254 1946825472 solver.cpp:222]     Train net output #1: l2_error = 1.96855\r\n",
        "I0309 02:33:59.281262 1946825472 solver.cpp:419] Iteration 17200, lr = 0.001\r\n"
       ]
      },
      {
       "output_type": "stream",
       "stream": "stdout",
       "text": [
        "I0309 02:34:02.323282 1946825472 solver.cpp:207] Iteration 17300, loss = 58.1546\r\n",
        "I0309 02:34:02.323326 1946825472 solver.cpp:222]     Train net output #0: cross_entropy_loss = 58.1546 (* 1 = 58.1546 loss)\r\n",
        "I0309 02:34:02.323335 1946825472 solver.cpp:222]     Train net output #1: l2_error = 1.9892\r\n",
        "I0309 02:34:02.323343 1946825472 solver.cpp:419] Iteration 17300, lr = 0.001\r\n"
       ]
      },
      {
       "output_type": "stream",
       "stream": "stdout",
       "text": [
        "I0309 02:34:05.331686 1946825472 solver.cpp:207] Iteration 17400, loss = 60.1267\r\n",
        "I0309 02:34:05.331730 1946825472 solver.cpp:222]     Train net output #0: cross_entropy_loss = 60.1267 (* 1 = 60.1267 loss)\r\n",
        "I0309 02:34:05.331739 1946825472 solver.cpp:222]     Train net output #1: l2_error = 1.92627\r\n",
        "I0309 02:34:05.331748 1946825472 solver.cpp:419] Iteration 17400, lr = 0.001\r\n"
       ]
      },
      {
       "output_type": "stream",
       "stream": "stdout",
       "text": [
        "I0309 02:34:08.273643 1946825472 solver.cpp:263] Iteration 17500, Testing net (#0)\r\n"
       ]
      },
      {
       "output_type": "stream",
       "stream": "stdout",
       "text": [
        "I0309 02:34:14.801744 1946825472 solver.cpp:301] Test loss: 60.8768\r\n",
        "I0309 02:34:14.801827 1946825472 solver.cpp:314]     Test net output #0: cross_entropy_loss = 60.8768 (* 1 = 60.8768 loss)\r\n",
        "I0309 02:34:14.801842 1946825472 solver.cpp:314]     Test net output #1: l2_error = 2.03858\r\n",
        "I0309 02:34:14.801852 1946825472 solver.cpp:263] Iteration 17500, Testing net (#1)\r\n"
       ]
      },
      {
       "output_type": "stream",
       "stream": "stdout",
       "text": [
        "I0309 02:34:16.091473 1946825472 solver.cpp:301] Test loss: 60.7512\r\n",
        "I0309 02:34:16.091516 1946825472 solver.cpp:314]     Test net output #0: cross_entropy_loss = 60.7512 (* 1 = 60.7512 loss)\r\n",
        "I0309 02:34:16.091524 1946825472 solver.cpp:314]     Test net output #1: l2_error = 2.06226\r\n",
        "I0309 02:34:16.112782 1946825472 solver.cpp:207] Iteration 17500, loss = 61.3658\r\n",
        "I0309 02:34:16.112825 1946825472 solver.cpp:222]     Train net output #0: cross_entropy_loss = 61.3658 (* 1 = 61.3658 loss)\r\n",
        "I0309 02:34:16.112834 1946825472 solver.cpp:222]     Train net output #1: l2_error = 2.07586\r\n",
        "I0309 02:34:16.112843 1946825472 solver.cpp:419] Iteration 17500, lr = 0.001\r\n"
       ]
      },
      {
       "output_type": "stream",
       "stream": "stdout",
       "text": [
        "I0309 02:34:19.116365 1946825472 solver.cpp:207] Iteration 17600, loss = 61.6606\r\n",
        "I0309 02:34:19.116410 1946825472 solver.cpp:222]     Train net output #0: cross_entropy_loss = 61.6606 (* 1 = 61.6606 loss)\r\n",
        "I0309 02:34:19.116420 1946825472 solver.cpp:222]     Train net output #1: l2_error = 2.09895\r\n",
        "I0309 02:34:19.116430 1946825472 solver.cpp:419] Iteration 17600, lr = 0.001\r\n"
       ]
      },
      {
       "output_type": "stream",
       "stream": "stdout",
       "text": [
        "I0309 02:34:22.089231 1946825472 solver.cpp:207] Iteration 17700, loss = 64.6055\r\n",
        "I0309 02:34:22.089274 1946825472 solver.cpp:222]     Train net output #0: cross_entropy_loss = 64.6055 (* 1 = 64.6055 loss)\r\n",
        "I0309 02:34:22.089284 1946825472 solver.cpp:222]     Train net output #1: l2_error = 2.30057\r\n",
        "I0309 02:34:22.089293 1946825472 solver.cpp:419] Iteration 17700, lr = 0.001\r\n"
       ]
      },
      {
       "output_type": "stream",
       "stream": "stdout",
       "text": [
        "I0309 02:34:25.072659 1946825472 solver.cpp:207] Iteration 17800, loss = 59.2255\r\n",
        "I0309 02:34:25.072702 1946825472 solver.cpp:222]     Train net output #0: cross_entropy_loss = 59.2255 (* 1 = 59.2255 loss)\r\n",
        "I0309 02:34:25.072711 1946825472 solver.cpp:222]     Train net output #1: l2_error = 1.96423\r\n",
        "I0309 02:34:25.072721 1946825472 solver.cpp:419] Iteration 17800, lr = 0.001\r\n"
       ]
      },
      {
       "output_type": "stream",
       "stream": "stdout",
       "text": [
        "I0309 02:34:28.062686 1946825472 solver.cpp:207] Iteration 17900, loss = 58.1235\r\n",
        "I0309 02:34:28.062731 1946825472 solver.cpp:222]     Train net output #0: cross_entropy_loss = 58.1235 (* 1 = 58.1235 loss)\r\n",
        "I0309 02:34:28.062739 1946825472 solver.cpp:222]     Train net output #1: l2_error = 1.98458\r\n",
        "I0309 02:34:28.062748 1946825472 solver.cpp:419] Iteration 17900, lr = 0.001\r\n"
       ]
      },
      {
       "output_type": "stream",
       "stream": "stdout",
       "text": [
        "I0309 02:34:31.018862 1946825472 solver.cpp:263] Iteration 18000, Testing net (#0)\r\n"
       ]
      },
      {
       "output_type": "stream",
       "stream": "stdout",
       "text": [
        "I0309 02:34:37.501675 1946825472 solver.cpp:301] Test loss: 60.8205\r\n",
        "I0309 02:34:37.501720 1946825472 solver.cpp:314]     Test net output #0: cross_entropy_loss = 60.8205 (* 1 = 60.8205 loss)\r\n",
        "I0309 02:34:37.501731 1946825472 solver.cpp:314]     Test net output #1: l2_error = 2.03929\r\n",
        "I0309 02:34:37.501739 1946825472 solver.cpp:263] Iteration 18000, Testing net (#1)\r\n"
       ]
      },
      {
       "output_type": "stream",
       "stream": "stdout",
       "text": [
        "I0309 02:34:38.862159 1946825472 solver.cpp:301] Test loss: 60.7706\r\n",
        "I0309 02:34:38.862202 1946825472 solver.cpp:314]     Test net output #0: cross_entropy_loss = 60.7706 (* 1 = 60.7706 loss)\r\n",
        "I0309 02:34:38.862211 1946825472 solver.cpp:314]     Test net output #1: l2_error = 2.06801\r\n"
       ]
      },
      {
       "output_type": "stream",
       "stream": "stdout",
       "text": [
        "I0309 02:34:38.888021 1946825472 solver.cpp:207] Iteration 18000, loss = 60.0983\r\n",
        "I0309 02:34:38.888066 1946825472 solver.cpp:222]     Train net output #0: cross_entropy_loss = 60.0983 (* 1 = 60.0983 loss)\r\n",
        "I0309 02:34:38.888075 1946825472 solver.cpp:222]     Train net output #1: l2_error = 1.92217\r\n",
        "I0309 02:34:38.888083 1946825472 solver.cpp:419] Iteration 18000, lr = 0.001\r\n"
       ]
      },
      {
       "output_type": "stream",
       "stream": "stdout",
       "text": [
        "I0309 02:34:41.927789 1946825472 solver.cpp:207] Iteration 18100, loss = 61.3362\r\n",
        "I0309 02:34:41.927834 1946825472 solver.cpp:222]     Train net output #0: cross_entropy_loss = 61.3362 (* 1 = 61.3362 loss)\r\n",
        "I0309 02:34:41.927844 1946825472 solver.cpp:222]     Train net output #1: l2_error = 2.07154\r\n",
        "I0309 02:34:41.927852 1946825472 solver.cpp:419] Iteration 18100, lr = 0.001\r\n"
       ]
      },
      {
       "output_type": "stream",
       "stream": "stdout",
       "text": [
        "I0309 02:34:44.946025 1946825472 solver.cpp:207] Iteration 18200, loss = 61.6217\r\n",
        "I0309 02:34:44.946107 1946825472 solver.cpp:222]     Train net output #0: cross_entropy_loss = 61.6217 (* 1 = 61.6217 loss)\r\n",
        "I0309 02:34:44.946117 1946825472 solver.cpp:222]     Train net output #1: l2_error = 2.09334\r\n",
        "I0309 02:34:44.946126 1946825472 solver.cpp:419] Iteration 18200, lr = 0.001\r\n"
       ]
      },
      {
       "output_type": "stream",
       "stream": "stdout",
       "text": [
        "I0309 02:34:47.969671 1946825472 solver.cpp:207] Iteration 18300, loss = 64.5704\r\n",
        "I0309 02:34:47.969715 1946825472 solver.cpp:222]     Train net output #0: cross_entropy_loss = 64.5704 (* 1 = 64.5704 loss)\r\n",
        "I0309 02:34:47.969725 1946825472 solver.cpp:222]     Train net output #1: l2_error = 2.2954\r\n",
        "I0309 02:34:47.969733 1946825472 solver.cpp:419] Iteration 18300, lr = 0.001\r\n"
       ]
      },
      {
       "output_type": "stream",
       "stream": "stdout",
       "text": [
        "I0309 02:34:51.022501 1946825472 solver.cpp:207] Iteration 18400, loss = 59.1975\r\n",
        "I0309 02:34:51.022546 1946825472 solver.cpp:222]     Train net output #0: cross_entropy_loss = 59.1975 (* 1 = 59.1975 loss)\r\n",
        "I0309 02:34:51.022554 1946825472 solver.cpp:222]     Train net output #1: l2_error = 1.96003\r\n",
        "I0309 02:34:51.022563 1946825472 solver.cpp:419] Iteration 18400, lr = 0.001\r\n"
       ]
      },
      {
       "output_type": "stream",
       "stream": "stdout",
       "text": [
        "I0309 02:34:53.944921 1946825472 solver.cpp:263] Iteration 18500, Testing net (#0)\r\n"
       ]
      },
      {
       "output_type": "stream",
       "stream": "stdout",
       "text": [
        "I0309 02:35:00.431645 1946825472 solver.cpp:301] Test loss: 60.6216\r\n",
        "I0309 02:35:00.431704 1946825472 solver.cpp:314]     Test net output #0: cross_entropy_loss = 60.6216 (* 1 = 60.6216 loss)\r\n",
        "I0309 02:35:00.431715 1946825472 solver.cpp:314]     Test net output #1: l2_error = 2.00852\r\n",
        "I0309 02:35:00.431720 1946825472 solver.cpp:263] Iteration 18500, Testing net (#1)\r\n"
       ]
      },
      {
       "output_type": "stream",
       "stream": "stdout",
       "text": [
        "I0309 02:35:01.718278 1946825472 solver.cpp:301] Test loss: 60.6984\r\n",
        "I0309 02:35:01.718324 1946825472 solver.cpp:314]     Test net output #0: cross_entropy_loss = 60.6984 (* 1 = 60.6984 loss)\r\n",
        "I0309 02:35:01.718338 1946825472 solver.cpp:314]     Test net output #1: l2_error = 2.05366\r\n"
       ]
      },
      {
       "output_type": "stream",
       "stream": "stdout",
       "text": [
        "I0309 02:35:01.742432 1946825472 solver.cpp:207] Iteration 18500, loss = 58.0933\r\n",
        "I0309 02:35:01.742486 1946825472 solver.cpp:222]     Train net output #0: cross_entropy_loss = 58.0933 (* 1 = 58.0933 loss)\r\n",
        "I0309 02:35:01.742501 1946825472 solver.cpp:222]     Train net output #1: l2_error = 1.98007\r\n",
        "I0309 02:35:01.742512 1946825472 solver.cpp:419] Iteration 18500, lr = 0.001\r\n"
       ]
      },
      {
       "output_type": "stream",
       "stream": "stdout",
       "text": [
        "I0309 02:35:04.718319 1946825472 solver.cpp:207] Iteration 18600, loss = 60.0707\r\n",
        "I0309 02:35:04.718364 1946825472 solver.cpp:222]     Train net output #0: cross_entropy_loss = 60.0707 (* 1 = 60.0707 loss)\r\n",
        "I0309 02:35:04.718372 1946825472 solver.cpp:222]     Train net output #1: l2_error = 1.91818\r\n",
        "I0309 02:35:04.718381 1946825472 solver.cpp:419] Iteration 18600, lr = 0.001\r\n"
       ]
      },
      {
       "output_type": "stream",
       "stream": "stdout",
       "text": [
        "I0309 02:35:07.667629 1946825472 solver.cpp:207] Iteration 18700, loss = 61.3069\r\n",
        "I0309 02:35:07.667673 1946825472 solver.cpp:222]     Train net output #0: cross_entropy_loss = 61.3069 (* 1 = 61.3069 loss)\r\n",
        "I0309 02:35:07.667683 1946825472 solver.cpp:222]     Train net output #1: l2_error = 2.06731\r\n",
        "I0309 02:35:07.667691 1946825472 solver.cpp:419] Iteration 18700, lr = 0.001\r\n"
       ]
      },
      {
       "output_type": "stream",
       "stream": "stdout",
       "text": [
        "I0309 02:35:10.695113 1946825472 solver.cpp:207] Iteration 18800, loss = 61.5836\r\n",
        "I0309 02:35:10.695160 1946825472 solver.cpp:222]     Train net output #0: cross_entropy_loss = 61.5836 (* 1 = 61.5836 loss)\r\n",
        "I0309 02:35:10.695169 1946825472 solver.cpp:222]     Train net output #1: l2_error = 2.08783\r\n",
        "I0309 02:35:10.695178 1946825472 solver.cpp:419] Iteration 18800, lr = 0.001\r\n"
       ]
      },
      {
       "output_type": "stream",
       "stream": "stdout",
       "text": [
        "I0309 02:35:13.662590 1946825472 solver.cpp:207] Iteration 18900, loss = 64.536\r\n",
        "I0309 02:35:13.662634 1946825472 solver.cpp:222]     Train net output #0: cross_entropy_loss = 64.536 (* 1 = 64.536 loss)\r\n",
        "I0309 02:35:13.662643 1946825472 solver.cpp:222]     Train net output #1: l2_error = 2.29037\r\n",
        "I0309 02:35:13.662652 1946825472 solver.cpp:419] Iteration 18900, lr = 0.001\r\n"
       ]
      },
      {
       "output_type": "stream",
       "stream": "stdout",
       "text": [
        "I0309 02:35:16.623158 1946825472 solver.cpp:263] Iteration 19000, Testing net (#0)\r\n"
       ]
      },
      {
       "output_type": "stream",
       "stream": "stdout",
       "text": [
        "I0309 02:35:23.097002 1946825472 solver.cpp:301] Test loss: 60.7487\r\n",
        "I0309 02:35:23.097043 1946825472 solver.cpp:314]     Test net output #0: cross_entropy_loss = 60.7487 (* 1 = 60.7487 loss)\r\n",
        "I0309 02:35:23.097051 1946825472 solver.cpp:314]     Test net output #1: l2_error = 2.0229\r\n",
        "I0309 02:35:23.097059 1946825472 solver.cpp:263] Iteration 19000, Testing net (#1)\r\n"
       ]
      },
      {
       "output_type": "stream",
       "stream": "stdout",
       "text": [
        "I0309 02:35:24.380152 1946825472 solver.cpp:301] Test loss: 60.6848\r\n",
        "I0309 02:35:24.380190 1946825472 solver.cpp:314]     Test net output #0: cross_entropy_loss = 60.6848 (* 1 = 60.6848 loss)\r\n",
        "I0309 02:35:24.380199 1946825472 solver.cpp:314]     Test net output #1: l2_error = 2.0538\r\n"
       ]
      },
      {
       "output_type": "stream",
       "stream": "stdout",
       "text": [
        "I0309 02:35:24.406011 1946825472 solver.cpp:207] Iteration 19000, loss = 59.1707\r\n",
        "I0309 02:35:24.406059 1946825472 solver.cpp:222]     Train net output #0: cross_entropy_loss = 59.1707 (* 1 = 59.1707 loss)\r\n",
        "I0309 02:35:24.406069 1946825472 solver.cpp:222]     Train net output #1: l2_error = 1.95594\r\n",
        "I0309 02:35:24.406076 1946825472 solver.cpp:419] Iteration 19000, lr = 0.001\r\n"
       ]
      },
      {
       "output_type": "stream",
       "stream": "stdout",
       "text": [
        "I0309 02:35:27.421964 1946825472 solver.cpp:207] Iteration 19100, loss = 58.0639\r\n",
        "I0309 02:35:27.422008 1946825472 solver.cpp:222]     Train net output #0: cross_entropy_loss = 58.0639 (* 1 = 58.0639 loss)\r\n",
        "I0309 02:35:27.422018 1946825472 solver.cpp:222]     Train net output #1: l2_error = 1.97566\r\n",
        "I0309 02:35:27.422026 1946825472 solver.cpp:419] Iteration 19100, lr = 0.001\r\n"
       ]
      },
      {
       "output_type": "stream",
       "stream": "stdout",
       "text": [
        "I0309 02:35:30.389953 1946825472 solver.cpp:207] Iteration 19200, loss = 60.0438\r\n",
        "I0309 02:35:30.389997 1946825472 solver.cpp:222]     Train net output #0: cross_entropy_loss = 60.0438 (* 1 = 60.0438 loss)\r\n",
        "I0309 02:35:30.390005 1946825472 solver.cpp:222]     Train net output #1: l2_error = 1.91429\r\n",
        "I0309 02:35:30.390013 1946825472 solver.cpp:419] Iteration 19200, lr = 0.001\r\n"
       ]
      },
      {
       "output_type": "stream",
       "stream": "stdout",
       "text": [
        "I0309 02:35:33.364449 1946825472 solver.cpp:207] Iteration 19300, loss = 61.2785\r\n",
        "I0309 02:35:33.364493 1946825472 solver.cpp:222]     Train net output #0: cross_entropy_loss = 61.2785 (* 1 = 61.2785 loss)\r\n",
        "I0309 02:35:33.364503 1946825472 solver.cpp:222]     Train net output #1: l2_error = 2.06317\r\n",
        "I0309 02:35:33.364511 1946825472 solver.cpp:419] Iteration 19300, lr = 0.001\r\n"
       ]
      },
      {
       "output_type": "stream",
       "stream": "stdout",
       "text": [
        "I0309 02:35:36.299466 1946825472 solver.cpp:207] Iteration 19400, loss = 61.5466\r\n",
        "I0309 02:35:36.299513 1946825472 solver.cpp:222]     Train net output #0: cross_entropy_loss = 61.5466 (* 1 = 61.5466 loss)\r\n",
        "I0309 02:35:36.299522 1946825472 solver.cpp:222]     Train net output #1: l2_error = 2.08242\r\n",
        "I0309 02:35:36.299530 1946825472 solver.cpp:419] Iteration 19400, lr = 0.001\r\n"
       ]
      },
      {
       "output_type": "stream",
       "stream": "stdout",
       "text": [
        "I0309 02:35:39.318603 1946825472 solver.cpp:263] Iteration 19500, Testing net (#0)\r\n"
       ]
      },
      {
       "output_type": "stream",
       "stream": "stdout",
       "text": [
        "I0309 02:35:45.853471 1946825472 solver.cpp:301] Test loss: 60.8104\r\n",
        "I0309 02:35:45.853514 1946825472 solver.cpp:314]     Test net output #0: cross_entropy_loss = 60.8104 (* 1 = 60.8104 loss)\r\n",
        "I0309 02:35:45.853523 1946825472 solver.cpp:314]     Test net output #1: l2_error = 2.02115\r\n",
        "I0309 02:35:45.853530 1946825472 solver.cpp:263] Iteration 19500, Testing net (#1)\r\n"
       ]
      },
      {
       "output_type": "stream",
       "stream": "stdout",
       "text": [
        "I0309 02:35:47.190757 1946825472 solver.cpp:301] Test loss: 60.6599\r\n",
        "I0309 02:35:47.190816 1946825472 solver.cpp:314]     Test net output #0: cross_entropy_loss = 60.6599 (* 1 = 60.6599 loss)\r\n",
        "I0309 02:35:47.190826 1946825472 solver.cpp:314]     Test net output #1: l2_error = 2.04764\r\n"
       ]
      },
      {
       "output_type": "stream",
       "stream": "stdout",
       "text": [
        "I0309 02:35:47.213490 1946825472 solver.cpp:207] Iteration 19500, loss = 64.5023\r\n",
        "I0309 02:35:47.213533 1946825472 solver.cpp:222]     Train net output #0: cross_entropy_loss = 64.5023 (* 1 = 64.5023 loss)\r\n",
        "I0309 02:35:47.213542 1946825472 solver.cpp:222]     Train net output #1: l2_error = 2.28545\r\n",
        "I0309 02:35:47.213551 1946825472 solver.cpp:419] Iteration 19500, lr = 0.001\r\n"
       ]
      },
      {
       "output_type": "stream",
       "stream": "stdout",
       "text": [
        "I0309 02:35:50.251621 1946825472 solver.cpp:207] Iteration 19600, loss = 59.1436\r\n",
        "I0309 02:35:50.251662 1946825472 solver.cpp:222]     Train net output #0: cross_entropy_loss = 59.1436 (* 1 = 59.1436 loss)\r\n",
        "I0309 02:35:50.251672 1946825472 solver.cpp:222]     Train net output #1: l2_error = 1.95194\r\n",
        "I0309 02:35:50.251680 1946825472 solver.cpp:419] Iteration 19600, lr = 0.001\r\n"
       ]
      },
      {
       "output_type": "stream",
       "stream": "stdout",
       "text": [
        "I0309 02:35:53.264096 1946825472 solver.cpp:207] Iteration 19700, loss = 58.035\r\n",
        "I0309 02:35:53.264142 1946825472 solver.cpp:222]     Train net output #0: cross_entropy_loss = 58.035 (* 1 = 58.035 loss)\r\n",
        "I0309 02:35:53.264150 1946825472 solver.cpp:222]     Train net output #1: l2_error = 1.97134\r\n",
        "I0309 02:35:53.264159 1946825472 solver.cpp:419] Iteration 19700, lr = 0.001\r\n"
       ]
      },
      {
       "output_type": "stream",
       "stream": "stdout",
       "text": [
        "I0309 02:35:56.225244 1946825472 solver.cpp:207] Iteration 19800, loss = 60.0178\r\n",
        "I0309 02:35:56.225287 1946825472 solver.cpp:222]     Train net output #0: cross_entropy_loss = 60.0178 (* 1 = 60.0178 loss)\r\n",
        "I0309 02:35:56.225296 1946825472 solver.cpp:222]     Train net output #1: l2_error = 1.91048\r\n",
        "I0309 02:35:56.225304 1946825472 solver.cpp:419] Iteration 19800, lr = 0.001\r\n"
       ]
      },
      {
       "output_type": "stream",
       "stream": "stdout",
       "text": [
        "I0309 02:35:59.258432 1946825472 solver.cpp:207] Iteration 19900, loss = 61.2505\r\n",
        "I0309 02:35:59.258478 1946825472 solver.cpp:222]     Train net output #0: cross_entropy_loss = 61.2505 (* 1 = 61.2505 loss)\r\n",
        "I0309 02:35:59.258488 1946825472 solver.cpp:222]     Train net output #1: l2_error = 2.0591\r\n",
        "I0309 02:35:59.258496 1946825472 solver.cpp:419] Iteration 19900, lr = 0.001\r\n"
       ]
      },
      {
       "output_type": "stream",
       "stream": "stdout",
       "text": [
        "I0309 02:36:02.191596 1946825472 solver.cpp:333] Snapshotting to examples/mnist/mnist_autoencoder_iter_20000.caffemodel\r\n"
       ]
      },
      {
       "output_type": "stream",
       "stream": "stdout",
       "text": [
        "I0309 02:36:02.377189 1946825472 solver.cpp:340] Snapshotting solver state to examples/mnist/mnist_autoencoder_iter_20000.solverstate\r\n"
       ]
      },
      {
       "output_type": "stream",
       "stream": "stdout",
       "text": [
        "I0309 02:36:02.456102 1946825472 solver.cpp:263] Iteration 20000, Testing net (#0)\r\n"
       ]
      },
      {
       "output_type": "stream",
       "stream": "stdout",
       "text": [
        "I0309 02:36:08.912750 1946825472 solver.cpp:301] Test loss: 60.7986\r\n",
        "I0309 02:36:08.912791 1946825472 solver.cpp:314]     Test net output #0: cross_entropy_loss = 60.7986 (* 1 = 60.7986 loss)\r\n",
        "I0309 02:36:08.912798 1946825472 solver.cpp:314]     Test net output #1: l2_error = 2.02424\r\n",
        "I0309 02:36:08.912806 1946825472 solver.cpp:263] Iteration 20000, Testing net (#1)\r\n"
       ]
      },
      {
       "output_type": "stream",
       "stream": "stdout",
       "text": [
        "I0309 02:36:10.227486 1946825472 solver.cpp:301] Test loss: 60.6502\r\n",
        "I0309 02:36:10.227530 1946825472 solver.cpp:314]     Test net output #0: cross_entropy_loss = 60.6502 (* 1 = 60.6502 loss)\r\n",
        "I0309 02:36:10.227540 1946825472 solver.cpp:314]     Test net output #1: l2_error = 2.05024\r\n"
       ]
      },
      {
       "output_type": "stream",
       "stream": "stdout",
       "text": [
        "I0309 02:36:10.252938 1946825472 solver.cpp:207] Iteration 20000, loss = 61.5101\r\n",
        "I0309 02:36:10.252982 1946825472 solver.cpp:222]     Train net output #0: cross_entropy_loss = 61.5101 (* 1 = 61.5101 loss)\r\n",
        "I0309 02:36:10.252992 1946825472 solver.cpp:222]     Train net output #1: l2_error = 2.07709\r\n",
        "I0309 02:36:10.253000 1946825472 solver.cpp:419] Iteration 20000, lr = 0.0001\r\n"
       ]
      },
      {
       "output_type": "stream",
       "stream": "stdout",
       "text": [
        "I0309 02:36:13.324367 1946825472 solver.cpp:207] Iteration 20100, loss = 64.4015\r\n",
        "I0309 02:36:13.324410 1946825472 solver.cpp:222]     Train net output #0: cross_entropy_loss = 64.4015 (* 1 = 64.4015 loss)\r\n",
        "I0309 02:36:13.324419 1946825472 solver.cpp:222]     Train net output #1: l2_error = 2.27347\r\n",
        "I0309 02:36:13.324427 1946825472 solver.cpp:419] Iteration 20100, lr = 0.0001\r\n"
       ]
      },
      {
       "output_type": "stream",
       "stream": "stdout",
       "text": [
        "I0309 02:36:16.345248 1946825472 solver.cpp:207] Iteration 20200, loss = 59.0291\r\n",
        "I0309 02:36:16.345293 1946825472 solver.cpp:222]     Train net output #0: cross_entropy_loss = 59.0291 (* 1 = 59.0291 loss)\r\n",
        "I0309 02:36:16.345304 1946825472 solver.cpp:222]     Train net output #1: l2_error = 1.9298\r\n",
        "I0309 02:36:16.345348 1946825472 solver.cpp:419] Iteration 20200, lr = 0.0001\r\n"
       ]
      },
      {
       "output_type": "stream",
       "stream": "stdout",
       "text": [
        "I0309 02:36:19.317126 1946825472 solver.cpp:207] Iteration 20300, loss = 57.935\r\n",
        "I0309 02:36:19.317208 1946825472 solver.cpp:222]     Train net output #0: cross_entropy_loss = 57.935 (* 1 = 57.935 loss)\r\n",
        "I0309 02:36:19.317216 1946825472 solver.cpp:222]     Train net output #1: l2_error = 1.95478\r\n",
        "I0309 02:36:19.317224 1946825472 solver.cpp:419] Iteration 20300, lr = 0.0001\r\n"
       ]
      },
      {
       "output_type": "stream",
       "stream": "stdout",
       "text": [
        "I0309 02:36:22.293427 1946825472 solver.cpp:207] Iteration 20400, loss = 59.8788\r\n",
        "I0309 02:36:22.293472 1946825472 solver.cpp:222]     Train net output #0: cross_entropy_loss = 59.8788 (* 1 = 59.8788 loss)\r\n",
        "I0309 02:36:22.293480 1946825472 solver.cpp:222]     Train net output #1: l2_error = 1.88821\r\n",
        "I0309 02:36:22.293489 1946825472 solver.cpp:419] Iteration 20400, lr = 0.0001\r\n"
       ]
      },
      {
       "output_type": "stream",
       "stream": "stdout",
       "text": [
        "I0309 02:36:25.245851 1946825472 solver.cpp:263] Iteration 20500, Testing net (#0)\r\n"
       ]
      },
      {
       "output_type": "stream",
       "stream": "stdout",
       "text": [
        "I0309 02:36:31.702311 1946825472 solver.cpp:301] Test loss: 60.6683\r\n",
        "I0309 02:36:31.702354 1946825472 solver.cpp:314]     Test net output #0: cross_entropy_loss = 60.6683 (* 1 = 60.6683 loss)\r\n",
        "I0309 02:36:31.702363 1946825472 solver.cpp:314]     Test net output #1: l2_error = 2.00619\r\n",
        "I0309 02:36:31.702369 1946825472 solver.cpp:263] Iteration 20500, Testing net (#1)\r\n"
       ]
      },
      {
       "output_type": "stream",
       "stream": "stdout",
       "text": [
        "I0309 02:36:33.002217 1946825472 solver.cpp:301] Test loss: 60.5573\r\n",
        "I0309 02:36:33.002259 1946825472 solver.cpp:314]     Test net output #0: cross_entropy_loss = 60.5573 (* 1 = 60.5573 loss)\r\n",
        "I0309 02:36:33.002269 1946825472 solver.cpp:314]     Test net output #1: l2_error = 2.03249\r\n",
        "I0309 02:36:33.024093 1946825472 solver.cpp:207] Iteration 20500, loss = 61.1528\r\n",
        "I0309 02:36:33.024138 1946825472 solver.cpp:222]     Train net output #0: cross_entropy_loss = 61.1528 (* 1 = 61.1528 loss)\r\n",
        "I0309 02:36:33.024147 1946825472 solver.cpp:222]     Train net output #1: l2_error = 2.04331\r\n",
        "I0309 02:36:33.024155 1946825472 solver.cpp:419] Iteration 20500, lr = 0.0001\r\n"
       ]
      },
      {
       "output_type": "stream",
       "stream": "stdout",
       "text": [
        "I0309 02:36:36.003868 1946825472 solver.cpp:207] Iteration 20600, loss = 61.3825\r\n",
        "I0309 02:36:36.003912 1946825472 solver.cpp:222]     Train net output #0: cross_entropy_loss = 61.3825 (* 1 = 61.3825 loss)\r\n",
        "I0309 02:36:36.003921 1946825472 solver.cpp:222]     Train net output #1: l2_error = 2.05268\r\n",
        "I0309 02:36:36.003929 1946825472 solver.cpp:419] Iteration 20600, lr = 0.0001\r\n"
       ]
      },
      {
       "output_type": "stream",
       "stream": "stdout",
       "text": [
        "I0309 02:36:38.993407 1946825472 solver.cpp:207] Iteration 20700, loss = 64.3878\r\n",
        "I0309 02:36:38.993451 1946825472 solver.cpp:222]     Train net output #0: cross_entropy_loss = 64.3878 (* 1 = 64.3878 loss)\r\n",
        "I0309 02:36:38.993461 1946825472 solver.cpp:222]     Train net output #1: l2_error = 2.27056\r\n",
        "I0309 02:36:38.993469 1946825472 solver.cpp:419] Iteration 20700, lr = 0.0001\r\n"
       ]
      },
      {
       "output_type": "stream",
       "stream": "stdout",
       "text": [
        "I0309 02:36:41.982061 1946825472 solver.cpp:207] Iteration 20800, loss = 59.0192\r\n",
        "I0309 02:36:41.982105 1946825472 solver.cpp:222]     Train net output #0: cross_entropy_loss = 59.0192 (* 1 = 59.0192 loss)\r\n",
        "I0309 02:36:41.982115 1946825472 solver.cpp:222]     Train net output #1: l2_error = 1.92879\r\n",
        "I0309 02:36:41.982123 1946825472 solver.cpp:419] Iteration 20800, lr = 0.0001\r\n"
       ]
      },
      {
       "output_type": "stream",
       "stream": "stdout",
       "text": [
        "I0309 02:36:45.002902 1946825472 solver.cpp:207] Iteration 20900, loss = 57.9287\r\n",
        "I0309 02:36:45.002948 1946825472 solver.cpp:222]     Train net output #0: cross_entropy_loss = 57.9287 (* 1 = 57.9287 loss)\r\n",
        "I0309 02:36:45.002959 1946825472 solver.cpp:222]     Train net output #1: l2_error = 1.95331\r\n",
        "I0309 02:36:45.002966 1946825472 solver.cpp:419] Iteration 20900, lr = 0.0001\r\n"
       ]
      },
      {
       "output_type": "stream",
       "stream": "stdout",
       "text": [
        "I0309 02:36:47.973464 1946825472 solver.cpp:263] Iteration 21000, Testing net (#0)\r\n"
       ]
      },
      {
       "output_type": "stream",
       "stream": "stdout",
       "text": [
        "I0309 02:36:54.470191 1946825472 solver.cpp:301] Test loss: 60.5912\r\n",
        "I0309 02:36:54.470249 1946825472 solver.cpp:314]     Test net output #0: cross_entropy_loss = 60.5912 (* 1 = 60.5912 loss)\r\n",
        "I0309 02:36:54.470258 1946825472 solver.cpp:314]     Test net output #1: l2_error = 2.00033\r\n",
        "I0309 02:36:54.470264 1946825472 solver.cpp:263] Iteration 21000, Testing net (#1)\r\n"
       ]
      },
      {
       "output_type": "stream",
       "stream": "stdout",
       "text": [
        "I0309 02:36:55.760521 1946825472 solver.cpp:301] Test loss: 60.5551\r\n",
        "I0309 02:36:55.760565 1946825472 solver.cpp:314]     Test net output #0: cross_entropy_loss = 60.5551 (* 1 = 60.5551 loss)\r\n",
        "I0309 02:36:55.760573 1946825472 solver.cpp:314]     Test net output #1: l2_error = 2.03142\r\n"
       ]
      },
      {
       "output_type": "stream",
       "stream": "stdout",
       "text": [
        "I0309 02:36:55.785377 1946825472 solver.cpp:207] Iteration 21000, loss = 59.8661\r\n",
        "I0309 02:36:55.785423 1946825472 solver.cpp:222]     Train net output #0: cross_entropy_loss = 59.8661 (* 1 = 59.8661 loss)\r\n",
        "I0309 02:36:55.785433 1946825472 solver.cpp:222]     Train net output #1: l2_error = 1.88605\r\n",
        "I0309 02:36:55.785441 1946825472 solver.cpp:419] Iteration 21000, lr = 0.0001\r\n"
       ]
      },
      {
       "output_type": "stream",
       "stream": "stdout",
       "text": [
        "I0309 02:36:58.811132 1946825472 solver.cpp:207] Iteration 21100, loss = 61.1513\r\n",
        "I0309 02:36:58.811177 1946825472 solver.cpp:222]     Train net output #0: cross_entropy_loss = 61.1513 (* 1 = 61.1513 loss)\r\n",
        "I0309 02:36:58.811187 1946825472 solver.cpp:222]     Train net output #1: l2_error = 2.04322\r\n",
        "I0309 02:36:58.811194 1946825472 solver.cpp:419] Iteration 21100, lr = 0.0001\r\n"
       ]
      },
      {
       "output_type": "stream",
       "stream": "stdout",
       "text": [
        "I0309 02:37:01.785866 1946825472 solver.cpp:207] Iteration 21200, loss = 61.3793\r\n",
        "I0309 02:37:01.785909 1946825472 solver.cpp:222]     Train net output #0: cross_entropy_loss = 61.3793 (* 1 = 61.3793 loss)\r\n",
        "I0309 02:37:01.785919 1946825472 solver.cpp:222]     Train net output #1: l2_error = 2.05226\r\n",
        "I0309 02:37:01.785928 1946825472 solver.cpp:419] Iteration 21200, lr = 0.0001\r\n"
       ]
      },
      {
       "output_type": "stream",
       "stream": "stdout",
       "text": [
        "I0309 02:37:04.755750 1946825472 solver.cpp:207] Iteration 21300, loss = 64.3832\r\n",
        "I0309 02:37:04.755795 1946825472 solver.cpp:222]     Train net output #0: cross_entropy_loss = 64.3832 (* 1 = 64.3832 loss)\r\n",
        "I0309 02:37:04.755805 1946825472 solver.cpp:222]     Train net output #1: l2_error = 2.26984\r\n",
        "I0309 02:37:04.755813 1946825472 solver.cpp:419] Iteration 21300, lr = 0.0001\r\n"
       ]
      },
      {
       "output_type": "stream",
       "stream": "stdout",
       "text": [
        "I0309 02:37:07.704401 1946825472 solver.cpp:207] Iteration 21400, loss = 59.0146\r\n",
        "I0309 02:37:07.704444 1946825472 solver.cpp:222]     Train net output #0: cross_entropy_loss = 59.0146 (* 1 = 59.0146 loss)\r\n",
        "I0309 02:37:07.704453 1946825472 solver.cpp:222]     Train net output #1: l2_error = 1.92827\r\n",
        "I0309 02:37:07.704463 1946825472 solver.cpp:419] Iteration 21400, lr = 0.0001\r\n"
       ]
      },
      {
       "output_type": "stream",
       "stream": "stdout",
       "text": [
        "I0309 02:37:10.726946 1946825472 solver.cpp:263] Iteration 21500, Testing net (#0)\r\n"
       ]
      },
      {
       "output_type": "stream",
       "stream": "stdout",
       "text": [
        "I0309 02:37:17.220791 1946825472 solver.cpp:301] Test loss: 60.4608\r\n",
        "I0309 02:37:17.220834 1946825472 solver.cpp:314]     Test net output #0: cross_entropy_loss = 60.4608 (* 1 = 60.4608 loss)\r\n",
        "I0309 02:37:17.220844 1946825472 solver.cpp:314]     Test net output #1: l2_error = 1.98454\r\n",
        "I0309 02:37:17.220850 1946825472 solver.cpp:263] Iteration 21500, Testing net (#1)\r\n"
       ]
      },
      {
       "output_type": "stream",
       "stream": "stdout",
       "text": [
        "I0309 02:37:18.543926 1946825472 solver.cpp:301] Test loss: 60.5522\r\n",
        "I0309 02:37:18.543970 1946825472 solver.cpp:314]     Test net output #0: cross_entropy_loss = 60.5522 (* 1 = 60.5522 loss)\r\n",
        "I0309 02:37:18.543980 1946825472 solver.cpp:314]     Test net output #1: l2_error = 2.03202\r\n",
        "I0309 02:37:18.565719 1946825472 solver.cpp:207] Iteration 21500, loss = 57.9261\r\n",
        "I0309 02:37:18.565763 1946825472 solver.cpp:222]     Train net output #0: cross_entropy_loss = 57.9261 (* 1 = 57.9261 loss)\r\n",
        "I0309 02:37:18.565773 1946825472 solver.cpp:222]     Train net output #1: l2_error = 1.95289\r\n",
        "I0309 02:37:18.565781 1946825472 solver.cpp:419] Iteration 21500, lr = 0.0001\r\n"
       ]
      },
      {
       "output_type": "stream",
       "stream": "stdout",
       "text": [
        "I0309 02:37:21.578794 1946825472 solver.cpp:207] Iteration 21600, loss = 59.86\r\n",
        "I0309 02:37:21.578840 1946825472 solver.cpp:222]     Train net output #0: cross_entropy_loss = 59.86 (* 1 = 59.86 loss)\r\n",
        "I0309 02:37:21.578848 1946825472 solver.cpp:222]     Train net output #1: l2_error = 1.88506\r\n",
        "I0309 02:37:21.578856 1946825472 solver.cpp:419] Iteration 21600, lr = 0.0001\r\n"
       ]
      },
      {
       "output_type": "stream",
       "stream": "stdout",
       "text": [
        "I0309 02:37:24.530417 1946825472 solver.cpp:207] Iteration 21700, loss = 61.1493\r\n",
        "I0309 02:37:24.530498 1946825472 solver.cpp:222]     Train net output #0: cross_entropy_loss = 61.1493 (* 1 = 61.1493 loss)\r\n",
        "I0309 02:37:24.530508 1946825472 solver.cpp:222]     Train net output #1: l2_error = 2.04293\r\n",
        "I0309 02:37:24.530515 1946825472 solver.cpp:419] Iteration 21700, lr = 0.0001\r\n"
       ]
      },
      {
       "output_type": "stream",
       "stream": "stdout",
       "text": [
        "I0309 02:37:27.571924 1946825472 solver.cpp:207] Iteration 21800, loss = 61.3746\r\n",
        "I0309 02:37:27.571969 1946825472 solver.cpp:222]     Train net output #0: cross_entropy_loss = 61.3746 (* 1 = 61.3746 loss)\r\n",
        "I0309 02:37:27.571979 1946825472 solver.cpp:222]     Train net output #1: l2_error = 2.05162\r\n",
        "I0309 02:37:27.571986 1946825472 solver.cpp:419] Iteration 21800, lr = 0.0001\r\n"
       ]
      },
      {
       "output_type": "stream",
       "stream": "stdout",
       "text": [
        "I0309 02:37:30.558616 1946825472 solver.cpp:207] Iteration 21900, loss = 64.379\r\n",
        "I0309 02:37:30.558660 1946825472 solver.cpp:222]     Train net output #0: cross_entropy_loss = 64.379 (* 1 = 64.379 loss)\r\n",
        "I0309 02:37:30.558670 1946825472 solver.cpp:222]     Train net output #1: l2_error = 2.26918\r\n",
        "I0309 02:37:30.558677 1946825472 solver.cpp:419] Iteration 21900, lr = 0.0001\r\n"
       ]
      },
      {
       "output_type": "stream",
       "stream": "stdout",
       "text": [
        "I0309 02:37:33.527936 1946825472 solver.cpp:263] Iteration 22000, Testing net (#0)\r\n"
       ]
      },
      {
       "output_type": "stream",
       "stream": "stdout",
       "text": [
        "I0309 02:37:40.037989 1946825472 solver.cpp:301] Test loss: 60.5937\r\n",
        "I0309 02:37:40.038036 1946825472 solver.cpp:314]     Test net output #0: cross_entropy_loss = 60.5937 (* 1 = 60.5937 loss)\r\n",
        "I0309 02:37:40.038046 1946825472 solver.cpp:314]     Test net output #1: l2_error = 1.99742\r\n",
        "I0309 02:37:40.038053 1946825472 solver.cpp:263] Iteration 22000, Testing net (#1)\r\n"
       ]
      },
      {
       "output_type": "stream",
       "stream": "stdout",
       "text": [
        "I0309 02:37:41.338136 1946825472 solver.cpp:301] Test loss: 60.5471\r\n",
        "I0309 02:37:41.338177 1946825472 solver.cpp:314]     Test net output #0: cross_entropy_loss = 60.5471 (* 1 = 60.5471 loss)\r\n",
        "I0309 02:37:41.338186 1946825472 solver.cpp:314]     Test net output #1: l2_error = 2.03141\r\n"
       ]
      },
      {
       "output_type": "stream",
       "stream": "stdout",
       "text": [
        "I0309 02:37:41.360364 1946825472 solver.cpp:207] Iteration 22000, loss = 59.0106\r\n",
        "I0309 02:37:41.360407 1946825472 solver.cpp:222]     Train net output #0: cross_entropy_loss = 59.0106 (* 1 = 59.0106 loss)\r\n",
        "I0309 02:37:41.360416 1946825472 solver.cpp:222]     Train net output #1: l2_error = 1.92771\r\n",
        "I0309 02:37:41.360424 1946825472 solver.cpp:419] Iteration 22000, lr = 0.0001\r\n"
       ]
      },
      {
       "output_type": "stream",
       "stream": "stdout",
       "text": [
        "I0309 02:37:44.416901 1946825472 solver.cpp:207] Iteration 22100, loss = 57.9235\r\n",
        "I0309 02:37:44.416949 1946825472 solver.cpp:222]     Train net output #0: cross_entropy_loss = 57.9235 (* 1 = 57.9235 loss)\r\n",
        "I0309 02:37:44.416960 1946825472 solver.cpp:222]     Train net output #1: l2_error = 1.95253\r\n",
        "I0309 02:37:44.416968 1946825472 solver.cpp:419] Iteration 22100, lr = 0.0001\r\n"
       ]
      },
      {
       "output_type": "stream",
       "stream": "stdout",
       "text": [
        "I0309 02:37:47.455338 1946825472 solver.cpp:207] Iteration 22200, loss = 59.8556\r\n",
        "I0309 02:37:47.455382 1946825472 solver.cpp:222]     Train net output #0: cross_entropy_loss = 59.8556 (* 1 = 59.8556 loss)\r\n",
        "I0309 02:37:47.455391 1946825472 solver.cpp:222]     Train net output #1: l2_error = 1.88435\r\n",
        "I0309 02:37:47.455399 1946825472 solver.cpp:419] Iteration 22200, lr = 0.0001\r\n"
       ]
      },
      {
       "output_type": "stream",
       "stream": "stdout",
       "text": [
        "I0309 02:37:50.515187 1946825472 solver.cpp:207] Iteration 22300, loss = 61.147\r\n",
        "I0309 02:37:50.515233 1946825472 solver.cpp:222]     Train net output #0: cross_entropy_loss = 61.147 (* 1 = 61.147 loss)\r\n",
        "I0309 02:37:50.515243 1946825472 solver.cpp:222]     Train net output #1: l2_error = 2.04258\r\n",
        "I0309 02:37:50.515250 1946825472 solver.cpp:419] Iteration 22300, lr = 0.0001\r\n"
       ]
      },
      {
       "output_type": "stream",
       "stream": "stdout",
       "text": [
        "I0309 02:37:53.458664 1946825472 solver.cpp:207] Iteration 22400, loss = 61.3699\r\n",
        "I0309 02:37:53.458706 1946825472 solver.cpp:222]     Train net output #0: cross_entropy_loss = 61.3699 (* 1 = 61.3699 loss)\r\n",
        "I0309 02:37:53.458717 1946825472 solver.cpp:222]     Train net output #1: l2_error = 2.05094\r\n",
        "I0309 02:37:53.458726 1946825472 solver.cpp:419] Iteration 22400, lr = 0.0001\r\n"
       ]
      },
      {
       "output_type": "stream",
       "stream": "stdout",
       "text": [
        "I0309 02:37:56.404558 1946825472 solver.cpp:263] Iteration 22500, Testing net (#0)\r\n"
       ]
      },
      {
       "output_type": "stream",
       "stream": "stdout",
       "text": [
        "I0309 02:38:02.864272 1946825472 solver.cpp:301] Test loss: 60.6797\r\n",
        "I0309 02:38:02.864315 1946825472 solver.cpp:314]     Test net output #0: cross_entropy_loss = 60.6797 (* 1 = 60.6797 loss)\r\n",
        "I0309 02:38:02.864323 1946825472 solver.cpp:314]     Test net output #1: l2_error = 2.00101\r\n",
        "I0309 02:38:02.864331 1946825472 solver.cpp:263] Iteration 22500, Testing net (#1)\r\n"
       ]
      },
      {
       "output_type": "stream",
       "stream": "stdout",
       "text": [
        "I0309 02:38:04.155943 1946825472 solver.cpp:301] Test loss: 60.5443\r\n",
        "I0309 02:38:04.155987 1946825472 solver.cpp:314]     Test net output #0: cross_entropy_loss = 60.5443 (* 1 = 60.5443 loss)\r\n",
        "I0309 02:38:04.155997 1946825472 solver.cpp:314]     Test net output #1: l2_error = 2.0304\r\n"
       ]
      },
      {
       "output_type": "stream",
       "stream": "stdout",
       "text": [
        "I0309 02:38:04.178805 1946825472 solver.cpp:207] Iteration 22500, loss = 64.3752\r\n",
        "I0309 02:38:04.178848 1946825472 solver.cpp:222]     Train net output #0: cross_entropy_loss = 64.3752 (* 1 = 64.3752 loss)\r\n",
        "I0309 02:38:04.178856 1946825472 solver.cpp:222]     Train net output #1: l2_error = 2.26855\r\n",
        "I0309 02:38:04.178865 1946825472 solver.cpp:419] Iteration 22500, lr = 0.0001\r\n"
       ]
      },
      {
       "output_type": "stream",
       "stream": "stdout",
       "text": [
        "I0309 02:38:07.149962 1946825472 solver.cpp:207] Iteration 22600, loss = 59.0068\r\n",
        "I0309 02:38:07.150007 1946825472 solver.cpp:222]     Train net output #0: cross_entropy_loss = 59.0068 (* 1 = 59.0068 loss)\r\n",
        "I0309 02:38:07.150017 1946825472 solver.cpp:222]     Train net output #1: l2_error = 1.92716\r\n",
        "I0309 02:38:07.150024 1946825472 solver.cpp:419] Iteration 22600, lr = 0.0001\r\n"
       ]
      },
      {
       "output_type": "stream",
       "stream": "stdout",
       "text": [
        "I0309 02:38:10.150970 1946825472 solver.cpp:207] Iteration 22700, loss = 57.921\r\n",
        "I0309 02:38:10.151015 1946825472 solver.cpp:222]     Train net output #0: cross_entropy_loss = 57.921 (* 1 = 57.921 loss)\r\n",
        "I0309 02:38:10.151024 1946825472 solver.cpp:222]     Train net output #1: l2_error = 1.95218\r\n",
        "I0309 02:38:10.151033 1946825472 solver.cpp:419] Iteration 22700, lr = 0.0001\r\n"
       ]
      },
      {
       "output_type": "stream",
       "stream": "stdout",
       "text": [
        "I0309 02:38:13.097511 1946825472 solver.cpp:207] Iteration 22800, loss = 59.8519\r\n",
        "I0309 02:38:13.097554 1946825472 solver.cpp:222]     Train net output #0: cross_entropy_loss = 59.8519 (* 1 = 59.8519 loss)\r\n",
        "I0309 02:38:13.097564 1946825472 solver.cpp:222]     Train net output #1: l2_error = 1.88376\r\n",
        "I0309 02:38:13.097573 1946825472 solver.cpp:419] Iteration 22800, lr = 0.0001\r\n"
       ]
      },
      {
       "output_type": "stream",
       "stream": "stdout",
       "text": [
        "I0309 02:38:16.054169 1946825472 solver.cpp:207] Iteration 22900, loss = 61.1448\r\n",
        "I0309 02:38:16.054214 1946825472 solver.cpp:222]     Train net output #0: cross_entropy_loss = 61.1448 (* 1 = 61.1448 loss)\r\n",
        "I0309 02:38:16.054222 1946825472 solver.cpp:222]     Train net output #1: l2_error = 2.04222\r\n",
        "I0309 02:38:16.054231 1946825472 solver.cpp:419] Iteration 22900, lr = 0.0001\r\n"
       ]
      },
      {
       "output_type": "stream",
       "stream": "stdout",
       "text": [
        "I0309 02:38:19.030464 1946825472 solver.cpp:263] Iteration 23000, Testing net (#0)\r\n"
       ]
      },
      {
       "output_type": "stream",
       "stream": "stdout",
       "text": [
        "I0309 02:38:25.435272 1946825472 solver.cpp:301] Test loss: 60.6808\r\n",
        "I0309 02:38:25.435313 1946825472 solver.cpp:314]     Test net output #0: cross_entropy_loss = 60.6808 (* 1 = 60.6808 loss)\r\n",
        "I0309 02:38:25.435322 1946825472 solver.cpp:314]     Test net output #1: l2_error = 2.00225\r\n",
        "I0309 02:38:25.435328 1946825472 solver.cpp:263] Iteration 23000, Testing net (#1)\r\n"
       ]
      },
      {
       "output_type": "stream",
       "stream": "stdout",
       "text": [
        "I0309 02:38:26.725256 1946825472 solver.cpp:301] Test loss: 60.542\r\n",
        "I0309 02:38:26.725334 1946825472 solver.cpp:314]     Test net output #0: cross_entropy_loss = 60.542 (* 1 = 60.542 loss)\r\n",
        "I0309 02:38:26.725344 1946825472 solver.cpp:314]     Test net output #1: l2_error = 2.03021\r\n",
        "I0309 02:38:26.747333 1946825472 solver.cpp:207] Iteration 23000, loss = 61.3656\r\n",
        "I0309 02:38:26.747378 1946825472 solver.cpp:222]     Train net output #0: cross_entropy_loss = 61.3656 (* 1 = 61.3656 loss)\r\n",
        "I0309 02:38:26.747387 1946825472 solver.cpp:222]     Train net output #1: l2_error = 2.05027\r\n",
        "I0309 02:38:26.747396 1946825472 solver.cpp:419] Iteration 23000, lr = 0.0001\r\n"
       ]
      },
      {
       "output_type": "stream",
       "stream": "stdout",
       "text": [
        "I0309 02:38:29.764117 1946825472 solver.cpp:207] Iteration 23100, loss = 64.3711\r\n",
        "I0309 02:38:29.764159 1946825472 solver.cpp:222]     Train net output #0: cross_entropy_loss = 64.3711 (* 1 = 64.3711 loss)\r\n",
        "I0309 02:38:29.764169 1946825472 solver.cpp:222]     Train net output #1: l2_error = 2.26794\r\n",
        "I0309 02:38:29.764178 1946825472 solver.cpp:419] Iteration 23100, lr = 0.0001\r\n"
       ]
      },
      {
       "output_type": "stream",
       "stream": "stdout",
       "text": [
        "I0309 02:38:32.724678 1946825472 solver.cpp:207] Iteration 23200, loss = 59.0032\r\n",
        "I0309 02:38:32.724721 1946825472 solver.cpp:222]     Train net output #0: cross_entropy_loss = 59.0032 (* 1 = 59.0032 loss)\r\n",
        "I0309 02:38:32.724731 1946825472 solver.cpp:222]     Train net output #1: l2_error = 1.92664\r\n",
        "I0309 02:38:32.724740 1946825472 solver.cpp:419] Iteration 23200, lr = 0.0001\r\n"
       ]
      },
      {
       "output_type": "stream",
       "stream": "stdout",
       "text": [
        "I0309 02:38:35.690253 1946825472 solver.cpp:207] Iteration 23300, loss = 57.9181\r\n",
        "I0309 02:38:35.690296 1946825472 solver.cpp:222]     Train net output #0: cross_entropy_loss = 57.9181 (* 1 = 57.9181 loss)\r\n",
        "I0309 02:38:35.690305 1946825472 solver.cpp:222]     Train net output #1: l2_error = 1.95182\r\n",
        "I0309 02:38:35.690314 1946825472 solver.cpp:419] Iteration 23300, lr = 0.0001\r\n"
       ]
      },
      {
       "output_type": "stream",
       "stream": "stdout",
       "text": [
        "I0309 02:38:38.705325 1946825472 solver.cpp:207] Iteration 23400, loss = 59.8486\r\n",
        "I0309 02:38:38.705374 1946825472 solver.cpp:222]     Train net output #0: cross_entropy_loss = 59.8486 (* 1 = 59.8486 loss)\r\n",
        "I0309 02:38:38.705384 1946825472 solver.cpp:222]     Train net output #1: l2_error = 1.88325\r\n",
        "I0309 02:38:38.705392 1946825472 solver.cpp:419] Iteration 23400, lr = 0.0001\r\n"
       ]
      },
      {
       "output_type": "stream",
       "stream": "stdout",
       "text": [
        "I0309 02:38:41.639184 1946825472 solver.cpp:263] Iteration 23500, Testing net (#0)\r\n"
       ]
      },
      {
       "output_type": "stream",
       "stream": "stdout",
       "text": [
        "I0309 02:38:48.196171 1946825472 solver.cpp:301] Test loss: 60.6493\r\n",
        "I0309 02:38:48.196212 1946825472 solver.cpp:314]     Test net output #0: cross_entropy_loss = 60.6493 (* 1 = 60.6493 loss)\r\n",
        "I0309 02:38:48.196220 1946825472 solver.cpp:314]     Test net output #1: l2_error = 2.00325\r\n",
        "I0309 02:38:48.196281 1946825472 solver.cpp:263] Iteration 23500, Testing net (#1)\r\n"
       ]
      },
      {
       "output_type": "stream",
       "stream": "stdout",
       "text": [
        "I0309 02:38:49.510103 1946825472 solver.cpp:301] Test loss: 60.5402\r\n",
        "I0309 02:38:49.510143 1946825472 solver.cpp:314]     Test net output #0: cross_entropy_loss = 60.5402 (* 1 = 60.5402 loss)\r\n",
        "I0309 02:38:49.510152 1946825472 solver.cpp:314]     Test net output #1: l2_error = 2.02988\r\n"
       ]
      },
      {
       "output_type": "stream",
       "stream": "stdout",
       "text": [
        "I0309 02:38:49.539398 1946825472 solver.cpp:207] Iteration 23500, loss = 61.1426\r\n",
        "I0309 02:38:49.539443 1946825472 solver.cpp:222]     Train net output #0: cross_entropy_loss = 61.1426 (* 1 = 61.1426 loss)\r\n",
        "I0309 02:38:49.539451 1946825472 solver.cpp:222]     Train net output #1: l2_error = 2.04186\r\n",
        "I0309 02:38:49.539460 1946825472 solver.cpp:419] Iteration 23500, lr = 0.0001\r\n"
       ]
      },
      {
       "output_type": "stream",
       "stream": "stdout",
       "text": [
        "I0309 02:38:52.577883 1946825472 solver.cpp:207] Iteration 23600, loss = 61.361\r\n",
        "I0309 02:38:52.577920 1946825472 solver.cpp:222]     Train net output #0: cross_entropy_loss = 61.361 (* 1 = 61.361 loss)\r\n",
        "I0309 02:38:52.577929 1946825472 solver.cpp:222]     Train net output #1: l2_error = 2.04961\r\n",
        "I0309 02:38:52.577937 1946825472 solver.cpp:419] Iteration 23600, lr = 0.0001\r\n"
       ]
      },
      {
       "output_type": "stream",
       "stream": "stdout",
       "text": [
        "I0309 02:38:55.530863 1946825472 solver.cpp:207] Iteration 23700, loss = 64.3675\r\n",
        "I0309 02:38:55.530906 1946825472 solver.cpp:222]     Train net output #0: cross_entropy_loss = 64.3675 (* 1 = 64.3675 loss)\r\n",
        "I0309 02:38:55.530915 1946825472 solver.cpp:222]     Train net output #1: l2_error = 2.26736\r\n",
        "I0309 02:38:55.530925 1946825472 solver.cpp:419] Iteration 23700, lr = 0.0001\r\n"
       ]
      },
      {
       "output_type": "stream",
       "stream": "stdout",
       "text": [
        "I0309 02:38:58.514876 1946825472 solver.cpp:207] Iteration 23800, loss = 58.9999\r\n",
        "I0309 02:38:58.514957 1946825472 solver.cpp:222]     Train net output #0: cross_entropy_loss = 58.9999 (* 1 = 58.9999 loss)\r\n",
        "I0309 02:38:58.514967 1946825472 solver.cpp:222]     Train net output #1: l2_error = 1.92614\r\n",
        "I0309 02:38:58.514976 1946825472 solver.cpp:419] Iteration 23800, lr = 0.0001\r\n"
       ]
      },
      {
       "output_type": "stream",
       "stream": "stdout",
       "text": [
        "I0309 02:39:01.478436 1946825472 solver.cpp:207] Iteration 23900, loss = 57.9153\r\n",
        "I0309 02:39:01.478481 1946825472 solver.cpp:222]     Train net output #0: cross_entropy_loss = 57.9153 (* 1 = 57.9153 loss)\r\n",
        "I0309 02:39:01.478490 1946825472 solver.cpp:222]     Train net output #1: l2_error = 1.95146\r\n",
        "I0309 02:39:01.478498 1946825472 solver.cpp:419] Iteration 23900, lr = 0.0001\r\n"
       ]
      },
      {
       "output_type": "stream",
       "stream": "stdout",
       "text": [
        "I0309 02:39:04.418040 1946825472 solver.cpp:263] Iteration 24000, Testing net (#0)\r\n"
       ]
      },
      {
       "output_type": "stream",
       "stream": "stdout",
       "text": [
        "I0309 02:39:10.871129 1946825472 solver.cpp:301] Test loss: 60.5748\r\n",
        "I0309 02:39:10.871171 1946825472 solver.cpp:314]     Test net output #0: cross_entropy_loss = 60.5748 (* 1 = 60.5748 loss)\r\n",
        "I0309 02:39:10.871181 1946825472 solver.cpp:314]     Test net output #1: l2_error = 1.99785\r\n",
        "I0309 02:39:10.871187 1946825472 solver.cpp:263] Iteration 24000, Testing net (#1)\r\n"
       ]
      },
      {
       "output_type": "stream",
       "stream": "stdout",
       "text": [
        "I0309 02:39:12.197384 1946825472 solver.cpp:301] Test loss: 60.5392\r\n",
        "I0309 02:39:12.197425 1946825472 solver.cpp:314]     Test net output #0: cross_entropy_loss = 60.5392 (* 1 = 60.5392 loss)\r\n",
        "I0309 02:39:12.197434 1946825472 solver.cpp:314]     Test net output #1: l2_error = 2.02903\r\n",
        "I0309 02:39:12.219552 1946825472 solver.cpp:207] Iteration 24000, loss = 59.8454\r\n",
        "I0309 02:39:12.219594 1946825472 solver.cpp:222]     Train net output #0: cross_entropy_loss = 59.8454 (* 1 = 59.8454 loss)\r\n",
        "I0309 02:39:12.219604 1946825472 solver.cpp:222]     Train net output #1: l2_error = 1.88278\r\n",
        "I0309 02:39:12.219611 1946825472 solver.cpp:419] Iteration 24000, lr = 0.0001\r\n"
       ]
      },
      {
       "output_type": "stream",
       "stream": "stdout",
       "text": [
        "I0309 02:39:15.135740 1946825472 solver.cpp:207] Iteration 24100, loss = 61.14\r\n",
        "I0309 02:39:15.135785 1946825472 solver.cpp:222]     Train net output #0: cross_entropy_loss = 61.14 (* 1 = 61.14 loss)\r\n",
        "I0309 02:39:15.135795 1946825472 solver.cpp:222]     Train net output #1: l2_error = 2.0415\r\n",
        "I0309 02:39:15.135803 1946825472 solver.cpp:419] Iteration 24100, lr = 0.0001\r\n"
       ]
      },
      {
       "output_type": "stream",
       "stream": "stdout",
       "text": [
        "I0309 02:39:18.164347 1946825472 solver.cpp:207] Iteration 24200, loss = 61.3566\r\n",
        "I0309 02:39:18.164391 1946825472 solver.cpp:222]     Train net output #0: cross_entropy_loss = 61.3566 (* 1 = 61.3566 loss)\r\n",
        "I0309 02:39:18.164402 1946825472 solver.cpp:222]     Train net output #1: l2_error = 2.04897\r\n",
        "I0309 02:39:18.164409 1946825472 solver.cpp:419] Iteration 24200, lr = 0.0001\r\n"
       ]
      },
      {
       "output_type": "stream",
       "stream": "stdout",
       "text": [
        "I0309 02:39:21.076948 1946825472 solver.cpp:207] Iteration 24300, loss = 64.3639\r\n",
        "I0309 02:39:21.076992 1946825472 solver.cpp:222]     Train net output #0: cross_entropy_loss = 64.3639 (* 1 = 64.3639 loss)\r\n",
        "I0309 02:39:21.077003 1946825472 solver.cpp:222]     Train net output #1: l2_error = 2.26679\r\n",
        "I0309 02:39:21.077010 1946825472 solver.cpp:419] Iteration 24300, lr = 0.0001\r\n"
       ]
      },
      {
       "output_type": "stream",
       "stream": "stdout",
       "text": [
        "I0309 02:39:24.057086 1946825472 solver.cpp:207] Iteration 24400, loss = 58.9968\r\n",
        "I0309 02:39:24.057131 1946825472 solver.cpp:222]     Train net output #0: cross_entropy_loss = 58.9968 (* 1 = 58.9968 loss)\r\n",
        "I0309 02:39:24.057139 1946825472 solver.cpp:222]     Train net output #1: l2_error = 1.92567\r\n",
        "I0309 02:39:24.057147 1946825472 solver.cpp:419] Iteration 24400, lr = 0.0001\r\n"
       ]
      },
      {
       "output_type": "stream",
       "stream": "stdout",
       "text": [
        "I0309 02:39:27.023332 1946825472 solver.cpp:263] Iteration 24500, Testing net (#0)\r\n"
       ]
      },
      {
       "output_type": "stream",
       "stream": "stdout",
       "text": [
        "I0309 02:39:33.559852 1946825472 solver.cpp:301] Test loss: 60.4454\r\n",
        "I0309 02:39:33.559932 1946825472 solver.cpp:314]     Test net output #0: cross_entropy_loss = 60.4454 (* 1 = 60.4454 loss)\r\n",
        "I0309 02:39:33.559944 1946825472 solver.cpp:314]     Test net output #1: l2_error = 1.98221\r\n",
        "I0309 02:39:33.559952 1946825472 solver.cpp:263] Iteration 24500, Testing net (#1)\r\n"
       ]
      },
      {
       "output_type": "stream",
       "stream": "stdout",
       "text": [
        "I0309 02:39:34.864995 1946825472 solver.cpp:301] Test loss: 60.537\r\n",
        "I0309 02:39:34.865038 1946825472 solver.cpp:314]     Test net output #0: cross_entropy_loss = 60.537 (* 1 = 60.537 loss)\r\n",
        "I0309 02:39:34.865047 1946825472 solver.cpp:314]     Test net output #1: l2_error = 2.02974\r\n"
       ]
      },
      {
       "output_type": "stream",
       "stream": "stdout",
       "text": [
        "I0309 02:39:34.890275 1946825472 solver.cpp:207] Iteration 24500, loss = 57.9126\r\n",
        "I0309 02:39:34.890321 1946825472 solver.cpp:222]     Train net output #0: cross_entropy_loss = 57.9126 (* 1 = 57.9126 loss)\r\n",
        "I0309 02:39:34.890331 1946825472 solver.cpp:222]     Train net output #1: l2_error = 1.95108\r\n",
        "I0309 02:39:34.890338 1946825472 solver.cpp:419] Iteration 24500, lr = 0.0001\r\n"
       ]
      },
      {
       "output_type": "stream",
       "stream": "stdout",
       "text": [
        "I0309 02:39:37.899195 1946825472 solver.cpp:207] Iteration 24600, loss = 59.8426\r\n",
        "I0309 02:39:37.899240 1946825472 solver.cpp:222]     Train net output #0: cross_entropy_loss = 59.8426 (* 1 = 59.8426 loss)\r\n",
        "I0309 02:39:37.899250 1946825472 solver.cpp:222]     Train net output #1: l2_error = 1.88233\r\n",
        "I0309 02:39:37.899257 1946825472 solver.cpp:419] Iteration 24600, lr = 0.0001\r\n"
       ]
      },
      {
       "output_type": "stream",
       "stream": "stdout",
       "text": [
        "I0309 02:39:40.999172 1946825472 solver.cpp:207] Iteration 24700, loss = 61.1376\r\n",
        "I0309 02:39:40.999215 1946825472 solver.cpp:222]     Train net output #0: cross_entropy_loss = 61.1376 (* 1 = 61.1376 loss)\r\n",
        "I0309 02:39:40.999225 1946825472 solver.cpp:222]     Train net output #1: l2_error = 2.04113\r\n",
        "I0309 02:39:40.999233 1946825472 solver.cpp:419] Iteration 24700, lr = 0.0001\r\n"
       ]
      },
      {
       "output_type": "stream",
       "stream": "stdout",
       "text": [
        "I0309 02:39:43.981019 1946825472 solver.cpp:207] Iteration 24800, loss = 61.3525\r\n",
        "I0309 02:39:43.981062 1946825472 solver.cpp:222]     Train net output #0: cross_entropy_loss = 61.3525 (* 1 = 61.3525 loss)\r\n",
        "I0309 02:39:43.981071 1946825472 solver.cpp:222]     Train net output #1: l2_error = 2.04834\r\n",
        "I0309 02:39:43.981081 1946825472 solver.cpp:419] Iteration 24800, lr = 0.0001\r\n"
       ]
      },
      {
       "output_type": "stream",
       "stream": "stdout",
       "text": [
        "I0309 02:39:47.058913 1946825472 solver.cpp:207] Iteration 24900, loss = 64.3602\r\n",
        "I0309 02:39:47.058959 1946825472 solver.cpp:222]     Train net output #0: cross_entropy_loss = 64.3602 (* 1 = 64.3602 loss)\r\n",
        "I0309 02:39:47.058967 1946825472 solver.cpp:222]     Train net output #1: l2_error = 2.26624\r\n",
        "I0309 02:39:47.058975 1946825472 solver.cpp:419] Iteration 24900, lr = 0.0001\r\n"
       ]
      },
      {
       "output_type": "stream",
       "stream": "stdout",
       "text": [
        "I0309 02:39:50.041939 1946825472 solver.cpp:263] Iteration 25000, Testing net (#0)\r\n"
       ]
      },
      {
       "output_type": "stream",
       "stream": "stdout",
       "text": [
        "I0309 02:39:56.548002 1946825472 solver.cpp:301] Test loss: 60.5786\r\n",
        "I0309 02:39:56.548046 1946825472 solver.cpp:314]     Test net output #0: cross_entropy_loss = 60.5786 (* 1 = 60.5786 loss)\r\n",
        "I0309 02:39:56.548060 1946825472 solver.cpp:314]     Test net output #1: l2_error = 1.99515\r\n",
        "I0309 02:39:56.548070 1946825472 solver.cpp:263] Iteration 25000, Testing net (#1)\r\n"
       ]
      },
      {
       "output_type": "stream",
       "stream": "stdout",
       "text": [
        "I0309 02:39:57.857082 1946825472 solver.cpp:301] Test loss: 60.5322\r\n",
        "I0309 02:39:57.857125 1946825472 solver.cpp:314]     Test net output #0: cross_entropy_loss = 60.5322 (* 1 = 60.5322 loss)\r\n",
        "I0309 02:39:57.857134 1946825472 solver.cpp:314]     Test net output #1: l2_error = 2.02919\r\n",
        "I0309 02:39:57.879241 1946825472 solver.cpp:207] Iteration 25000, loss = 58.9935\r\n",
        "I0309 02:39:57.879287 1946825472 solver.cpp:222]     Train net output #0: cross_entropy_loss = 58.9935 (* 1 = 58.9935 loss)\r\n",
        "I0309 02:39:57.879297 1946825472 solver.cpp:222]     Train net output #1: l2_error = 1.92521\r\n",
        "I0309 02:39:57.879307 1946825472 solver.cpp:419] Iteration 25000, lr = 0.0001\r\n"
       ]
      },
      {
       "output_type": "stream",
       "stream": "stdout",
       "text": [
        "I0309 02:40:00.840154 1946825472 solver.cpp:207] Iteration 25100, loss = 57.9099\r\n",
        "I0309 02:40:00.840198 1946825472 solver.cpp:222]     Train net output #0: cross_entropy_loss = 57.9099 (* 1 = 57.9099 loss)\r\n",
        "I0309 02:40:00.840209 1946825472 solver.cpp:222]     Train net output #1: l2_error = 1.9507\r\n",
        "I0309 02:40:00.840216 1946825472 solver.cpp:419] Iteration 25100, lr = 0.0001\r\n"
       ]
      },
      {
       "output_type": "stream",
       "stream": "stdout",
       "text": [
        "I0309 02:40:03.824923 1946825472 solver.cpp:207] Iteration 25200, loss = 59.8397\r\n",
        "I0309 02:40:03.825002 1946825472 solver.cpp:222]     Train net output #0: cross_entropy_loss = 59.8397 (* 1 = 59.8397 loss)\r\n",
        "I0309 02:40:03.825012 1946825472 solver.cpp:222]     Train net output #1: l2_error = 1.8819\r\n",
        "I0309 02:40:03.825021 1946825472 solver.cpp:419] Iteration 25200, lr = 0.0001\r\n"
       ]
      },
      {
       "output_type": "stream",
       "stream": "stdout",
       "text": [
        "I0309 02:40:06.829457 1946825472 solver.cpp:207] Iteration 25300, loss = 61.135\r\n",
        "I0309 02:40:06.829500 1946825472 solver.cpp:222]     Train net output #0: cross_entropy_loss = 61.135 (* 1 = 61.135 loss)\r\n",
        "I0309 02:40:06.829510 1946825472 solver.cpp:222]     Train net output #1: l2_error = 2.04076\r\n",
        "I0309 02:40:06.829519 1946825472 solver.cpp:419] Iteration 25300, lr = 0.0001\r\n"
       ]
      },
      {
       "output_type": "stream",
       "stream": "stdout",
       "text": [
        "I0309 02:40:09.823910 1946825472 solver.cpp:207] Iteration 25400, loss = 61.3482\r\n",
        "I0309 02:40:09.823954 1946825472 solver.cpp:222]     Train net output #0: cross_entropy_loss = 61.3482 (* 1 = 61.3482 loss)\r\n",
        "I0309 02:40:09.823964 1946825472 solver.cpp:222]     Train net output #1: l2_error = 2.04773\r\n",
        "I0309 02:40:09.823972 1946825472 solver.cpp:419] Iteration 25400, lr = 0.0001\r\n"
       ]
      },
      {
       "output_type": "stream",
       "stream": "stdout",
       "text": [
        "I0309 02:40:12.803832 1946825472 solver.cpp:263] Iteration 25500, Testing net (#0)\r\n"
       ]
      },
      {
       "output_type": "stream",
       "stream": "stdout",
       "text": [
        "I0309 02:40:19.299468 1946825472 solver.cpp:301] Test loss: 60.6647\r\n",
        "I0309 02:40:19.299511 1946825472 solver.cpp:314]     Test net output #0: cross_entropy_loss = 60.6647 (* 1 = 60.6647 loss)\r\n",
        "I0309 02:40:19.299520 1946825472 solver.cpp:314]     Test net output #1: l2_error = 1.99877\r\n",
        "I0309 02:40:19.299526 1946825472 solver.cpp:263] Iteration 25500, Testing net (#1)\r\n"
       ]
      },
      {
       "output_type": "stream",
       "stream": "stdout",
       "text": [
        "I0309 02:40:20.591866 1946825472 solver.cpp:301] Test loss: 60.5294\r\n",
        "I0309 02:40:20.591907 1946825472 solver.cpp:314]     Test net output #0: cross_entropy_loss = 60.5294 (* 1 = 60.5294 loss)\r\n",
        "I0309 02:40:20.591917 1946825472 solver.cpp:314]     Test net output #1: l2_error = 2.02819\r\n",
        "I0309 02:40:20.613749 1946825472 solver.cpp:207] Iteration 25500, loss = 64.3568\r\n",
        "I0309 02:40:20.613795 1946825472 solver.cpp:222]     Train net output #0: cross_entropy_loss = 64.3568 (* 1 = 64.3568 loss)\r\n",
        "I0309 02:40:20.613804 1946825472 solver.cpp:222]     Train net output #1: l2_error = 2.26569\r\n",
        "I0309 02:40:20.613813 1946825472 solver.cpp:419] Iteration 25500, lr = 0.0001\r\n"
       ]
      },
      {
       "output_type": "stream",
       "stream": "stdout",
       "text": [
        "I0309 02:40:23.579850 1946825472 solver.cpp:207] Iteration 25600, loss = 58.9905\r\n",
        "I0309 02:40:23.579895 1946825472 solver.cpp:222]     Train net output #0: cross_entropy_loss = 58.9905 (* 1 = 58.9905 loss)\r\n",
        "I0309 02:40:23.579905 1946825472 solver.cpp:222]     Train net output #1: l2_error = 1.92476\r\n",
        "I0309 02:40:23.579912 1946825472 solver.cpp:419] Iteration 25600, lr = 0.0001\r\n"
       ]
      },
      {
       "output_type": "stream",
       "stream": "stdout",
       "text": [
        "I0309 02:40:26.563062 1946825472 solver.cpp:207] Iteration 25700, loss = 57.9071\r\n",
        "I0309 02:40:26.563107 1946825472 solver.cpp:222]     Train net output #0: cross_entropy_loss = 57.9071 (* 1 = 57.9071 loss)\r\n",
        "I0309 02:40:26.563117 1946825472 solver.cpp:222]     Train net output #1: l2_error = 1.95031\r\n",
        "I0309 02:40:26.563124 1946825472 solver.cpp:419] Iteration 25700, lr = 0.0001\r\n"
       ]
      },
      {
       "output_type": "stream",
       "stream": "stdout",
       "text": [
        "I0309 02:40:29.544793 1946825472 solver.cpp:207] Iteration 25800, loss = 59.8368\r\n",
        "I0309 02:40:29.544837 1946825472 solver.cpp:222]     Train net output #0: cross_entropy_loss = 59.8368 (* 1 = 59.8368 loss)\r\n",
        "I0309 02:40:29.544847 1946825472 solver.cpp:222]     Train net output #1: l2_error = 1.88148\r\n",
        "I0309 02:40:29.544854 1946825472 solver.cpp:419] Iteration 25800, lr = 0.0001\r\n"
       ]
      },
      {
       "output_type": "stream",
       "stream": "stdout",
       "text": [
        "I0309 02:40:32.504133 1946825472 solver.cpp:207] Iteration 25900, loss = 61.1325\r\n",
        "I0309 02:40:32.504178 1946825472 solver.cpp:222]     Train net output #0: cross_entropy_loss = 61.1325 (* 1 = 61.1325 loss)\r\n",
        "I0309 02:40:32.504186 1946825472 solver.cpp:222]     Train net output #1: l2_error = 2.04038\r\n",
        "I0309 02:40:32.504195 1946825472 solver.cpp:419] Iteration 25900, lr = 0.0001\r\n"
       ]
      },
      {
       "output_type": "stream",
       "stream": "stdout",
       "text": [
        "I0309 02:40:35.455418 1946825472 solver.cpp:263] Iteration 26000, Testing net (#0)\r\n"
       ]
      },
      {
       "output_type": "stream",
       "stream": "stdout",
       "text": [
        "I0309 02:40:41.903388 1946825472 solver.cpp:301] Test loss: 60.6644\r\n",
        "I0309 02:40:41.903426 1946825472 solver.cpp:314]     Test net output #0: cross_entropy_loss = 60.6644 (* 1 = 60.6644 loss)\r\n",
        "I0309 02:40:41.903435 1946825472 solver.cpp:314]     Test net output #1: l2_error = 1.99976\r\n",
        "I0309 02:40:41.903442 1946825472 solver.cpp:263] Iteration 26000, Testing net (#1)\r\n"
       ]
      },
      {
       "output_type": "stream",
       "stream": "stdout",
       "text": [
        "I0309 02:40:43.199134 1946825472 solver.cpp:301] Test loss: 60.5273\r\n",
        "I0309 02:40:43.199177 1946825472 solver.cpp:314]     Test net output #0: cross_entropy_loss = 60.5273 (* 1 = 60.5273 loss)\r\n",
        "I0309 02:40:43.199185 1946825472 solver.cpp:314]     Test net output #1: l2_error = 2.02802\r\n"
       ]
      },
      {
       "output_type": "stream",
       "stream": "stdout",
       "text": [
        "I0309 02:40:43.223606 1946825472 solver.cpp:207] Iteration 26000, loss = 61.3441\r\n",
        "I0309 02:40:43.223651 1946825472 solver.cpp:222]     Train net output #0: cross_entropy_loss = 61.3441 (* 1 = 61.3441 loss)\r\n",
        "I0309 02:40:43.223660 1946825472 solver.cpp:222]     Train net output #1: l2_error = 2.04712\r\n",
        "I0309 02:40:43.223669 1946825472 solver.cpp:419] Iteration 26000, lr = 0.0001\r\n"
       ]
      },
      {
       "output_type": "stream",
       "stream": "stdout",
       "text": [
        "I0309 02:40:46.308814 1946825472 solver.cpp:207] Iteration 26100, loss = 64.353\r\n",
        "I0309 02:40:46.308861 1946825472 solver.cpp:222]     Train net output #0: cross_entropy_loss = 64.353 (* 1 = 64.353 loss)\r\n",
        "I0309 02:40:46.308872 1946825472 solver.cpp:222]     Train net output #1: l2_error = 2.26515\r\n",
        "I0309 02:40:46.308881 1946825472 solver.cpp:419] Iteration 26100, lr = 0.0001\r\n"
       ]
      },
      {
       "output_type": "stream",
       "stream": "stdout",
       "text": [
        "I0309 02:40:49.288960 1946825472 solver.cpp:207] Iteration 26200, loss = 58.9876\r\n",
        "I0309 02:40:49.289005 1946825472 solver.cpp:222]     Train net output #0: cross_entropy_loss = 58.9876 (* 1 = 58.9876 loss)\r\n",
        "I0309 02:40:49.289016 1946825472 solver.cpp:222]     Train net output #1: l2_error = 1.92432\r\n",
        "I0309 02:40:49.289023 1946825472 solver.cpp:419] Iteration 26200, lr = 0.0001\r\n"
       ]
      },
      {
       "output_type": "stream",
       "stream": "stdout",
       "text": [
        "I0309 02:40:52.339467 1946825472 solver.cpp:207] Iteration 26300, loss = 57.9042\r\n",
        "I0309 02:40:52.339510 1946825472 solver.cpp:222]     Train net output #0: cross_entropy_loss = 57.9042 (* 1 = 57.9042 loss)\r\n",
        "I0309 02:40:52.339519 1946825472 solver.cpp:222]     Train net output #1: l2_error = 1.94991\r\n",
        "I0309 02:40:52.339527 1946825472 solver.cpp:419] Iteration 26300, lr = 0.0001\r\n"
       ]
      },
      {
       "output_type": "stream",
       "stream": "stdout",
       "text": [
        "I0309 02:40:55.268054 1946825472 solver.cpp:207] Iteration 26400, loss = 59.8339\r\n",
        "I0309 02:40:55.268100 1946825472 solver.cpp:222]     Train net output #0: cross_entropy_loss = 59.8339 (* 1 = 59.8339 loss)\r\n",
        "I0309 02:40:55.268108 1946825472 solver.cpp:222]     Train net output #1: l2_error = 1.88108\r\n",
        "I0309 02:40:55.268117 1946825472 solver.cpp:419] Iteration 26400, lr = 0.0001\r\n"
       ]
      },
      {
       "output_type": "stream",
       "stream": "stdout",
       "text": [
        "I0309 02:40:58.255630 1946825472 solver.cpp:263] Iteration 26500, Testing net (#0)\r\n"
       ]
      },
      {
       "output_type": "stream",
       "stream": "stdout",
       "text": [
        "I0309 02:41:04.731791 1946825472 solver.cpp:301] Test loss: 60.6337\r\n",
        "I0309 02:41:04.731829 1946825472 solver.cpp:314]     Test net output #0: cross_entropy_loss = 60.6337 (* 1 = 60.6337 loss)\r\n",
        "I0309 02:41:04.731838 1946825472 solver.cpp:314]     Test net output #1: l2_error = 2.00091\r\n",
        "I0309 02:41:04.731844 1946825472 solver.cpp:263] Iteration 26500, Testing net (#1)\r\n"
       ]
      },
      {
       "output_type": "stream",
       "stream": "stdout",
       "text": [
        "I0309 02:41:06.079521 1946825472 solver.cpp:301] Test loss: 60.5258\r\n",
        "I0309 02:41:06.079581 1946825472 solver.cpp:314]     Test net output #0: cross_entropy_loss = 60.5258 (* 1 = 60.5258 loss)\r\n",
        "I0309 02:41:06.079591 1946825472 solver.cpp:314]     Test net output #1: l2_error = 2.02774\r\n",
        "I0309 02:41:06.101223 1946825472 solver.cpp:207] Iteration 26500, loss = 61.13\r\n",
        "I0309 02:41:06.101268 1946825472 solver.cpp:222]     Train net output #0: cross_entropy_loss = 61.13 (* 1 = 61.13 loss)\r\n",
        "I0309 02:41:06.101276 1946825472 solver.cpp:222]     Train net output #1: l2_error = 2.04001\r\n",
        "I0309 02:41:06.101284 1946825472 solver.cpp:419] Iteration 26500, lr = 0.0001\r\n"
       ]
      },
      {
       "output_type": "stream",
       "stream": "stdout",
       "text": [
        "I0309 02:41:09.090010 1946825472 solver.cpp:207] Iteration 26600, loss = 61.34\r\n",
        "I0309 02:41:09.090056 1946825472 solver.cpp:222]     Train net output #0: cross_entropy_loss = 61.34 (* 1 = 61.34 loss)\r\n",
        "I0309 02:41:09.090065 1946825472 solver.cpp:222]     Train net output #1: l2_error = 2.04653\r\n",
        "I0309 02:41:09.090075 1946825472 solver.cpp:419] Iteration 26600, lr = 0.0001\r\n"
       ]
      },
      {
       "output_type": "stream",
       "stream": "stdout",
       "text": [
        "I0309 02:41:12.090239 1946825472 solver.cpp:207] Iteration 26700, loss = 64.3496\r\n",
        "I0309 02:41:12.090282 1946825472 solver.cpp:222]     Train net output #0: cross_entropy_loss = 64.3496 (* 1 = 64.3496 loss)\r\n",
        "I0309 02:41:12.090291 1946825472 solver.cpp:222]     Train net output #1: l2_error = 2.26462\r\n",
        "I0309 02:41:12.090299 1946825472 solver.cpp:419] Iteration 26700, lr = 0.0001\r\n"
       ]
      },
      {
       "output_type": "stream",
       "stream": "stdout",
       "text": [
        "I0309 02:41:15.045068 1946825472 solver.cpp:207] Iteration 26800, loss = 58.9847\r\n",
        "I0309 02:41:15.045112 1946825472 solver.cpp:222]     Train net output #0: cross_entropy_loss = 58.9847 (* 1 = 58.9847 loss)\r\n",
        "I0309 02:41:15.045121 1946825472 solver.cpp:222]     Train net output #1: l2_error = 1.92389\r\n",
        "I0309 02:41:15.045130 1946825472 solver.cpp:419] Iteration 26800, lr = 0.0001\r\n"
       ]
      },
      {
       "output_type": "stream",
       "stream": "stdout",
       "text": [
        "I0309 02:41:18.055707 1946825472 solver.cpp:207] Iteration 26900, loss = 57.9015\r\n",
        "I0309 02:41:18.055750 1946825472 solver.cpp:222]     Train net output #0: cross_entropy_loss = 57.9015 (* 1 = 57.9015 loss)\r\n",
        "I0309 02:41:18.055758 1946825472 solver.cpp:222]     Train net output #1: l2_error = 1.94951\r\n",
        "I0309 02:41:18.055768 1946825472 solver.cpp:419] Iteration 26900, lr = 0.0001\r\n"
       ]
      },
      {
       "output_type": "stream",
       "stream": "stdout",
       "text": [
        "I0309 02:41:20.968252 1946825472 solver.cpp:263] Iteration 27000, Testing net (#0)\r\n"
       ]
      },
      {
       "output_type": "stream",
       "stream": "stdout",
       "text": [
        "I0309 02:41:27.412586 1946825472 solver.cpp:301] Test loss: 60.5597\r\n",
        "I0309 02:41:27.412631 1946825472 solver.cpp:314]     Test net output #0: cross_entropy_loss = 60.5597 (* 1 = 60.5597 loss)\r\n",
        "I0309 02:41:27.412638 1946825472 solver.cpp:314]     Test net output #1: l2_error = 1.99559\r\n",
        "I0309 02:41:27.412645 1946825472 solver.cpp:263] Iteration 27000, Testing net (#1)\r\n"
       ]
      },
      {
       "output_type": "stream",
       "stream": "stdout",
       "text": [
        "I0309 02:41:28.720731 1946825472 solver.cpp:301] Test loss: 60.5248\r\n",
        "I0309 02:41:28.720772 1946825472 solver.cpp:314]     Test net output #0: cross_entropy_loss = 60.5248 (* 1 = 60.5248 loss)\r\n",
        "I0309 02:41:28.720782 1946825472 solver.cpp:314]     Test net output #1: l2_error = 2.02689\r\n",
        "I0309 02:41:28.742542 1946825472 solver.cpp:207] Iteration 27000, loss = 59.831\r\n",
        "I0309 02:41:28.742584 1946825472 solver.cpp:222]     Train net output #0: cross_entropy_loss = 59.831 (* 1 = 59.831 loss)\r\n",
        "I0309 02:41:28.742594 1946825472 solver.cpp:222]     Train net output #1: l2_error = 1.88067\r\n",
        "I0309 02:41:28.742602 1946825472 solver.cpp:419] Iteration 27000, lr = 0.0001\r\n"
       ]
      },
      {
       "output_type": "stream",
       "stream": "stdout",
       "text": [
        "I0309 02:41:31.731233 1946825472 solver.cpp:207] Iteration 27100, loss = 61.1275\r\n",
        "I0309 02:41:31.731277 1946825472 solver.cpp:222]     Train net output #0: cross_entropy_loss = 61.1275 (* 1 = 61.1275 loss)\r\n",
        "I0309 02:41:31.731287 1946825472 solver.cpp:222]     Train net output #1: l2_error = 2.03963\r\n",
        "I0309 02:41:31.731295 1946825472 solver.cpp:419] Iteration 27100, lr = 0.0001\r\n"
       ]
      },
      {
       "output_type": "stream",
       "stream": "stdout",
       "text": [
        "I0309 02:41:34.668581 1946825472 solver.cpp:207] Iteration 27200, loss = 61.336\r\n",
        "I0309 02:41:34.668625 1946825472 solver.cpp:222]     Train net output #0: cross_entropy_loss = 61.336 (* 1 = 61.336 loss)\r\n",
        "I0309 02:41:34.668635 1946825472 solver.cpp:222]     Train net output #1: l2_error = 2.04595\r\n",
        "I0309 02:41:34.668643 1946825472 solver.cpp:419] Iteration 27200, lr = 0.0001\r\n"
       ]
      },
      {
       "output_type": "stream",
       "stream": "stdout",
       "text": [
        "I0309 02:41:37.648893 1946825472 solver.cpp:207] Iteration 27300, loss = 64.346\r\n",
        "I0309 02:41:37.648973 1946825472 solver.cpp:222]     Train net output #0: cross_entropy_loss = 64.346 (* 1 = 64.346 loss)\r\n",
        "I0309 02:41:37.648983 1946825472 solver.cpp:222]     Train net output #1: l2_error = 2.26409\r\n",
        "I0309 02:41:37.648993 1946825472 solver.cpp:419] Iteration 27300, lr = 0.0001\r\n"
       ]
      },
      {
       "output_type": "stream",
       "stream": "stdout",
       "text": [
        "I0309 02:41:40.614524 1946825472 solver.cpp:207] Iteration 27400, loss = 58.9818\r\n",
        "I0309 02:41:40.614567 1946825472 solver.cpp:222]     Train net output #0: cross_entropy_loss = 58.9818 (* 1 = 58.9818 loss)\r\n",
        "I0309 02:41:40.614576 1946825472 solver.cpp:222]     Train net output #1: l2_error = 1.92347\r\n",
        "I0309 02:41:40.614584 1946825472 solver.cpp:419] Iteration 27400, lr = 0.0001\r\n"
       ]
      },
      {
       "output_type": "stream",
       "stream": "stdout",
       "text": [
        "I0309 02:41:43.560271 1946825472 solver.cpp:263] Iteration 27500, Testing net (#0)\r\n"
       ]
      },
      {
       "output_type": "stream",
       "stream": "stdout",
       "text": [
        "I0309 02:41:50.094210 1946825472 solver.cpp:301] Test loss: 60.4306\r\n",
        "I0309 02:41:50.094252 1946825472 solver.cpp:314]     Test net output #0: cross_entropy_loss = 60.4306 (* 1 = 60.4306 loss)\r\n",
        "I0309 02:41:50.094261 1946825472 solver.cpp:314]     Test net output #1: l2_error = 1.98002\r\n",
        "I0309 02:41:50.094269 1946825472 solver.cpp:263] Iteration 27500, Testing net (#1)\r\n"
       ]
      },
      {
       "output_type": "stream",
       "stream": "stdout",
       "text": [
        "I0309 02:41:51.467823 1946825472 solver.cpp:301] Test loss: 60.5228\r\n",
        "I0309 02:41:51.467864 1946825472 solver.cpp:314]     Test net output #0: cross_entropy_loss = 60.5228 (* 1 = 60.5228 loss)\r\n",
        "I0309 02:41:51.467874 1946825472 solver.cpp:314]     Test net output #1: l2_error = 2.02762\r\n"
       ]
      },
      {
       "output_type": "stream",
       "stream": "stdout",
       "text": [
        "I0309 02:41:51.492660 1946825472 solver.cpp:207] Iteration 27500, loss = 57.8987\r\n",
        "I0309 02:41:51.492707 1946825472 solver.cpp:222]     Train net output #0: cross_entropy_loss = 57.8987 (* 1 = 57.8987 loss)\r\n",
        "I0309 02:41:51.492717 1946825472 solver.cpp:222]     Train net output #1: l2_error = 1.94911\r\n",
        "I0309 02:41:51.492725 1946825472 solver.cpp:419] Iteration 27500, lr = 0.0001\r\n"
       ]
      },
      {
       "output_type": "stream",
       "stream": "stdout",
       "text": [
        "I0309 02:41:54.466739 1946825472 solver.cpp:207] Iteration 27600, loss = 59.8283\r\n",
        "I0309 02:41:54.466784 1946825472 solver.cpp:222]     Train net output #0: cross_entropy_loss = 59.8283 (* 1 = 59.8283 loss)\r\n",
        "I0309 02:41:54.466792 1946825472 solver.cpp:222]     Train net output #1: l2_error = 1.88027\r\n",
        "I0309 02:41:54.466800 1946825472 solver.cpp:419] Iteration 27600, lr = 0.0001\r\n"
       ]
      },
      {
       "output_type": "stream",
       "stream": "stdout",
       "text": [
        "I0309 02:41:57.445014 1946825472 solver.cpp:207] Iteration 27700, loss = 61.125\r\n",
        "I0309 02:41:57.445058 1946825472 solver.cpp:222]     Train net output #0: cross_entropy_loss = 61.125 (* 1 = 61.125 loss)\r\n",
        "I0309 02:41:57.445067 1946825472 solver.cpp:222]     Train net output #1: l2_error = 2.03924\r\n",
        "I0309 02:41:57.445075 1946825472 solver.cpp:419] Iteration 27700, lr = 0.0001\r\n"
       ]
      },
      {
       "output_type": "stream",
       "stream": "stdout",
       "text": [
        "I0309 02:42:00.444263 1946825472 solver.cpp:207] Iteration 27800, loss = 61.3318\r\n",
        "I0309 02:42:00.444305 1946825472 solver.cpp:222]     Train net output #0: cross_entropy_loss = 61.3318 (* 1 = 61.3318 loss)\r\n",
        "I0309 02:42:00.444315 1946825472 solver.cpp:222]     Train net output #1: l2_error = 2.04537\r\n",
        "I0309 02:42:00.444324 1946825472 solver.cpp:419] Iteration 27800, lr = 0.0001\r\n"
       ]
      },
      {
       "output_type": "stream",
       "stream": "stdout",
       "text": [
        "I0309 02:42:03.399930 1946825472 solver.cpp:207] Iteration 27900, loss = 64.3426\r\n",
        "I0309 02:42:03.399974 1946825472 solver.cpp:222]     Train net output #0: cross_entropy_loss = 64.3426 (* 1 = 64.3426 loss)\r\n",
        "I0309 02:42:03.399983 1946825472 solver.cpp:222]     Train net output #1: l2_error = 2.26357\r\n",
        "I0309 02:42:03.399992 1946825472 solver.cpp:419] Iteration 27900, lr = 0.0001\r\n"
       ]
      },
      {
       "output_type": "stream",
       "stream": "stdout",
       "text": [
        "I0309 02:42:06.314980 1946825472 solver.cpp:263] Iteration 28000, Testing net (#0)\r\n"
       ]
      },
      {
       "output_type": "stream",
       "stream": "stdout",
       "text": [
        "I0309 02:42:12.798705 1946825472 solver.cpp:301] Test loss: 60.5638\r\n",
        "I0309 02:42:12.798784 1946825472 solver.cpp:314]     Test net output #0: cross_entropy_loss = 60.5638 (* 1 = 60.5638 loss)\r\n",
        "I0309 02:42:12.798794 1946825472 solver.cpp:314]     Test net output #1: l2_error = 1.99297\r\n",
        "I0309 02:42:12.798800 1946825472 solver.cpp:263] Iteration 28000, Testing net (#1)\r\n"
       ]
      },
      {
       "output_type": "stream",
       "stream": "stdout",
       "text": [
        "I0309 02:42:14.103538 1946825472 solver.cpp:301] Test loss: 60.5179\r\n",
        "I0309 02:42:14.103582 1946825472 solver.cpp:314]     Test net output #0: cross_entropy_loss = 60.5179 (* 1 = 60.5179 loss)\r\n",
        "I0309 02:42:14.103590 1946825472 solver.cpp:314]     Test net output #1: l2_error = 2.02708\r\n",
        "I0309 02:42:14.126288 1946825472 solver.cpp:207] Iteration 28000, loss = 58.979\r\n",
        "I0309 02:42:14.126332 1946825472 solver.cpp:222]     Train net output #0: cross_entropy_loss = 58.979 (* 1 = 58.979 loss)\r\n",
        "I0309 02:42:14.126340 1946825472 solver.cpp:222]     Train net output #1: l2_error = 1.92305\r\n",
        "I0309 02:42:14.126348 1946825472 solver.cpp:419] Iteration 28000, lr = 0.0001\r\n"
       ]
      },
      {
       "output_type": "stream",
       "stream": "stdout",
       "text": [
        "I0309 02:42:17.116953 1946825472 solver.cpp:207] Iteration 28100, loss = 57.896\r\n",
        "I0309 02:42:17.116998 1946825472 solver.cpp:222]     Train net output #0: cross_entropy_loss = 57.896 (* 1 = 57.896 loss)\r\n",
        "I0309 02:42:17.117007 1946825472 solver.cpp:222]     Train net output #1: l2_error = 1.94871\r\n",
        "I0309 02:42:17.117015 1946825472 solver.cpp:419] Iteration 28100, lr = 0.0001\r\n"
       ]
      },
      {
       "output_type": "stream",
       "stream": "stdout",
       "text": [
        "I0309 02:42:20.082734 1946825472 solver.cpp:207] Iteration 28200, loss = 59.8257\r\n",
        "I0309 02:42:20.082779 1946825472 solver.cpp:222]     Train net output #0: cross_entropy_loss = 59.8257 (* 1 = 59.8257 loss)\r\n",
        "I0309 02:42:20.082789 1946825472 solver.cpp:222]     Train net output #1: l2_error = 1.87987\r\n",
        "I0309 02:42:20.082798 1946825472 solver.cpp:419] Iteration 28200, lr = 0.0001\r\n"
       ]
      },
      {
       "output_type": "stream",
       "stream": "stdout",
       "text": [
        "I0309 02:42:23.077533 1946825472 solver.cpp:207] Iteration 28300, loss = 61.1222\r\n",
        "I0309 02:42:23.077575 1946825472 solver.cpp:222]     Train net output #0: cross_entropy_loss = 61.1222 (* 1 = 61.1222 loss)\r\n",
        "I0309 02:42:23.077585 1946825472 solver.cpp:222]     Train net output #1: l2_error = 2.03886\r\n",
        "I0309 02:42:23.077594 1946825472 solver.cpp:419] Iteration 28300, lr = 0.0001\r\n"
       ]
      },
      {
       "output_type": "stream",
       "stream": "stdout",
       "text": [
        "I0309 02:42:26.018540 1946825472 solver.cpp:207] Iteration 28400, loss = 61.3279\r\n",
        "I0309 02:42:26.018584 1946825472 solver.cpp:222]     Train net output #0: cross_entropy_loss = 61.3279 (* 1 = 61.3279 loss)\r\n",
        "I0309 02:42:26.018594 1946825472 solver.cpp:222]     Train net output #1: l2_error = 2.0448\r\n",
        "I0309 02:42:26.018601 1946825472 solver.cpp:419] Iteration 28400, lr = 0.0001\r\n"
       ]
      },
      {
       "output_type": "stream",
       "stream": "stdout",
       "text": [
        "I0309 02:42:28.950556 1946825472 solver.cpp:263] Iteration 28500, Testing net (#0)\r\n"
       ]
      },
      {
       "output_type": "stream",
       "stream": "stdout",
       "text": [
        "I0309 02:42:35.378641 1946825472 solver.cpp:301] Test loss: 60.65\r\n",
        "I0309 02:42:35.378677 1946825472 solver.cpp:314]     Test net output #0: cross_entropy_loss = 60.65 (* 1 = 60.65 loss)\r\n",
        "I0309 02:42:35.378686 1946825472 solver.cpp:314]     Test net output #1: l2_error = 1.9966\r\n",
        "I0309 02:42:35.378695 1946825472 solver.cpp:263] Iteration 28500, Testing net (#1)\r\n"
       ]
      },
      {
       "output_type": "stream",
       "stream": "stdout",
       "text": [
        "I0309 02:42:36.686511 1946825472 solver.cpp:301] Test loss: 60.5152\r\n",
        "I0309 02:42:36.686550 1946825472 solver.cpp:314]     Test net output #0: cross_entropy_loss = 60.5152 (* 1 = 60.5152 loss)\r\n",
        "I0309 02:42:36.686559 1946825472 solver.cpp:314]     Test net output #1: l2_error = 2.02608\r\n",
        "I0309 02:42:36.708257 1946825472 solver.cpp:207] Iteration 28500, loss = 64.3388\r\n",
        "I0309 02:42:36.708300 1946825472 solver.cpp:222]     Train net output #0: cross_entropy_loss = 64.3388 (* 1 = 64.3388 loss)\r\n",
        "I0309 02:42:36.708309 1946825472 solver.cpp:222]     Train net output #1: l2_error = 2.26305\r\n",
        "I0309 02:42:36.708317 1946825472 solver.cpp:419] Iteration 28500, lr = 0.0001\r\n"
       ]
      },
      {
       "output_type": "stream",
       "stream": "stdout",
       "text": [
        "I0309 02:42:39.720970 1946825472 solver.cpp:207] Iteration 28600, loss = 58.9763\r\n",
        "I0309 02:42:39.721014 1946825472 solver.cpp:222]     Train net output #0: cross_entropy_loss = 58.9763 (* 1 = 58.9763 loss)\r\n",
        "I0309 02:42:39.721024 1946825472 solver.cpp:222]     Train net output #1: l2_error = 1.92263\r\n",
        "I0309 02:42:39.721032 1946825472 solver.cpp:419] Iteration 28600, lr = 0.0001\r\n"
       ]
      },
      {
       "output_type": "stream",
       "stream": "stdout",
       "text": [
        "I0309 02:42:42.734737 1946825472 solver.cpp:207] Iteration 28700, loss = 57.8932\r\n",
        "I0309 02:42:42.734781 1946825472 solver.cpp:222]     Train net output #0: cross_entropy_loss = 57.8932 (* 1 = 57.8932 loss)\r\n",
        "I0309 02:42:42.734827 1946825472 solver.cpp:222]     Train net output #1: l2_error = 1.9483\r\n",
        "I0309 02:42:42.734838 1946825472 solver.cpp:419] Iteration 28700, lr = 0.0001\r\n"
       ]
      },
      {
       "output_type": "stream",
       "stream": "stdout",
       "text": [
        "I0309 02:42:45.775913 1946825472 solver.cpp:207] Iteration 28800, loss = 59.8229\r\n",
        "I0309 02:42:45.775974 1946825472 solver.cpp:222]     Train net output #0: cross_entropy_loss = 59.8229 (* 1 = 59.8229 loss)\r\n",
        "I0309 02:42:45.775985 1946825472 solver.cpp:222]     Train net output #1: l2_error = 1.87948\r\n",
        "I0309 02:42:45.775993 1946825472 solver.cpp:419] Iteration 28800, lr = 0.0001\r\n"
       ]
      },
      {
       "output_type": "stream",
       "stream": "stdout",
       "text": [
        "I0309 02:42:48.767034 1946825472 solver.cpp:207] Iteration 28900, loss = 61.1197\r\n",
        "I0309 02:42:48.767077 1946825472 solver.cpp:222]     Train net output #0: cross_entropy_loss = 61.1197 (* 1 = 61.1197 loss)\r\n",
        "I0309 02:42:48.767086 1946825472 solver.cpp:222]     Train net output #1: l2_error = 2.03848\r\n",
        "I0309 02:42:48.767096 1946825472 solver.cpp:419] Iteration 28900, lr = 0.0001\r\n"
       ]
      },
      {
       "output_type": "stream",
       "stream": "stdout",
       "text": [
        "I0309 02:42:51.822181 1946825472 solver.cpp:263] Iteration 29000, Testing net (#0)\r\n"
       ]
      },
      {
       "output_type": "stream",
       "stream": "stdout",
       "text": [
        "I0309 02:42:58.242130 1946825472 solver.cpp:301] Test loss: 60.649\r\n",
        "I0309 02:42:58.242172 1946825472 solver.cpp:314]     Test net output #0: cross_entropy_loss = 60.649 (* 1 = 60.649 loss)\r\n",
        "I0309 02:42:58.242182 1946825472 solver.cpp:314]     Test net output #1: l2_error = 1.99746\r\n",
        "I0309 02:42:58.242188 1946825472 solver.cpp:263] Iteration 29000, Testing net (#1)\r\n"
       ]
      },
      {
       "output_type": "stream",
       "stream": "stdout",
       "text": [
        "I0309 02:42:59.546011 1946825472 solver.cpp:301] Test loss: 60.5131\r\n",
        "I0309 02:42:59.546054 1946825472 solver.cpp:314]     Test net output #0: cross_entropy_loss = 60.5131 (* 1 = 60.5131 loss)\r\n",
        "I0309 02:42:59.546063 1946825472 solver.cpp:314]     Test net output #1: l2_error = 2.02592\r\n"
       ]
      },
      {
       "output_type": "stream",
       "stream": "stdout",
       "text": [
        "I0309 02:42:59.571005 1946825472 solver.cpp:207] Iteration 29000, loss = 61.3242\r\n",
        "I0309 02:42:59.571053 1946825472 solver.cpp:222]     Train net output #0: cross_entropy_loss = 61.3242 (* 1 = 61.3242 loss)\r\n",
        "I0309 02:42:59.571063 1946825472 solver.cpp:222]     Train net output #1: l2_error = 2.04424\r\n",
        "I0309 02:42:59.571070 1946825472 solver.cpp:419] Iteration 29000, lr = 0.0001\r\n"
       ]
      },
      {
       "output_type": "stream",
       "stream": "stdout",
       "text": [
        "I0309 02:43:02.530272 1946825472 solver.cpp:207] Iteration 29100, loss = 64.3354\r\n",
        "I0309 02:43:02.530316 1946825472 solver.cpp:222]     Train net output #0: cross_entropy_loss = 64.3354 (* 1 = 64.3354 loss)\r\n",
        "I0309 02:43:02.530325 1946825472 solver.cpp:222]     Train net output #1: l2_error = 2.26253\r\n",
        "I0309 02:43:02.530333 1946825472 solver.cpp:419] Iteration 29100, lr = 0.0001\r\n"
       ]
      },
      {
       "output_type": "stream",
       "stream": "stdout",
       "text": [
        "I0309 02:43:05.486863 1946825472 solver.cpp:207] Iteration 29200, loss = 58.9735\r\n",
        "I0309 02:43:05.486907 1946825472 solver.cpp:222]     Train net output #0: cross_entropy_loss = 58.9735 (* 1 = 58.9735 loss)\r\n",
        "I0309 02:43:05.486917 1946825472 solver.cpp:222]     Train net output #1: l2_error = 1.92222\r\n",
        "I0309 02:43:05.486925 1946825472 solver.cpp:419] Iteration 29200, lr = 0.0001\r\n"
       ]
      },
      {
       "output_type": "stream",
       "stream": "stdout",
       "text": [
        "I0309 02:43:08.484228 1946825472 solver.cpp:207] Iteration 29300, loss = 57.8904\r\n",
        "I0309 02:43:08.484274 1946825472 solver.cpp:222]     Train net output #0: cross_entropy_loss = 57.8904 (* 1 = 57.8904 loss)\r\n",
        "I0309 02:43:08.484284 1946825472 solver.cpp:222]     Train net output #1: l2_error = 1.9479\r\n",
        "I0309 02:43:08.484292 1946825472 solver.cpp:419] Iteration 29300, lr = 0.0001\r\n"
       ]
      },
      {
       "output_type": "stream",
       "stream": "stdout",
       "text": [
        "I0309 02:43:11.456655 1946825472 solver.cpp:207] Iteration 29400, loss = 59.8203\r\n",
        "I0309 02:43:11.456701 1946825472 solver.cpp:222]     Train net output #0: cross_entropy_loss = 59.8203 (* 1 = 59.8203 loss)\r\n",
        "I0309 02:43:11.456711 1946825472 solver.cpp:222]     Train net output #1: l2_error = 1.87909\r\n",
        "I0309 02:43:11.456719 1946825472 solver.cpp:419] Iteration 29400, lr = 0.0001\r\n"
       ]
      },
      {
       "output_type": "stream",
       "stream": "stdout",
       "text": [
        "I0309 02:43:14.389098 1946825472 solver.cpp:263] Iteration 29500, Testing net (#0)\r\n"
       ]
      },
      {
       "output_type": "stream",
       "stream": "stdout",
       "text": [
        "I0309 02:43:20.837364 1946825472 solver.cpp:301] Test loss: 60.6185\r\n",
        "I0309 02:43:20.837441 1946825472 solver.cpp:314]     Test net output #0: cross_entropy_loss = 60.6185 (* 1 = 60.6185 loss)\r\n",
        "I0309 02:43:20.837451 1946825472 solver.cpp:314]     Test net output #1: l2_error = 1.99867\r\n",
        "I0309 02:43:20.837458 1946825472 solver.cpp:263] Iteration 29500, Testing net (#1)\r\n"
       ]
      },
      {
       "output_type": "stream",
       "stream": "stdout",
       "text": [
        "I0309 02:43:22.130349 1946825472 solver.cpp:301] Test loss: 60.5117\r\n",
        "I0309 02:43:22.130391 1946825472 solver.cpp:314]     Test net output #0: cross_entropy_loss = 60.5117 (* 1 = 60.5117 loss)\r\n",
        "I0309 02:43:22.130400 1946825472 solver.cpp:314]     Test net output #1: l2_error = 2.02566\r\n"
       ]
      },
      {
       "output_type": "stream",
       "stream": "stdout",
       "text": [
        "I0309 02:43:22.154109 1946825472 solver.cpp:207] Iteration 29500, loss = 61.1171\r\n",
        "I0309 02:43:22.154155 1946825472 solver.cpp:222]     Train net output #0: cross_entropy_loss = 61.1171 (* 1 = 61.1171 loss)\r\n",
        "I0309 02:43:22.154165 1946825472 solver.cpp:222]     Train net output #1: l2_error = 2.03809\r\n",
        "I0309 02:43:22.154173 1946825472 solver.cpp:419] Iteration 29500, lr = 0.0001\r\n"
       ]
      },
      {
       "output_type": "stream",
       "stream": "stdout",
       "text": [
        "I0309 02:43:25.150599 1946825472 solver.cpp:207] Iteration 29600, loss = 61.3203\r\n",
        "I0309 02:43:25.150643 1946825472 solver.cpp:222]     Train net output #0: cross_entropy_loss = 61.3203 (* 1 = 61.3203 loss)\r\n",
        "I0309 02:43:25.150652 1946825472 solver.cpp:222]     Train net output #1: l2_error = 2.04368\r\n",
        "I0309 02:43:25.150660 1946825472 solver.cpp:419] Iteration 29600, lr = 0.0001\r\n"
       ]
      },
      {
       "output_type": "stream",
       "stream": "stdout",
       "text": [
        "I0309 02:43:28.120796 1946825472 solver.cpp:207] Iteration 29700, loss = 64.3321\r\n",
        "I0309 02:43:28.120841 1946825472 solver.cpp:222]     Train net output #0: cross_entropy_loss = 64.3321 (* 1 = 64.3321 loss)\r\n",
        "I0309 02:43:28.120851 1946825472 solver.cpp:222]     Train net output #1: l2_error = 2.26202\r\n",
        "I0309 02:43:28.120858 1946825472 solver.cpp:419] Iteration 29700, lr = 0.0001\r\n"
       ]
      },
      {
       "output_type": "stream",
       "stream": "stdout",
       "text": [
        "I0309 02:43:31.068436 1946825472 solver.cpp:207] Iteration 29800, loss = 58.9708\r\n",
        "I0309 02:43:31.068480 1946825472 solver.cpp:222]     Train net output #0: cross_entropy_loss = 58.9708 (* 1 = 58.9708 loss)\r\n",
        "I0309 02:43:31.068490 1946825472 solver.cpp:222]     Train net output #1: l2_error = 1.92181\r\n",
        "I0309 02:43:31.068497 1946825472 solver.cpp:419] Iteration 29800, lr = 0.0001\r\n"
       ]
      },
      {
       "output_type": "stream",
       "stream": "stdout",
       "text": [
        "I0309 02:43:34.029286 1946825472 solver.cpp:207] Iteration 29900, loss = 57.8875\r\n",
        "I0309 02:43:34.029331 1946825472 solver.cpp:222]     Train net output #0: cross_entropy_loss = 57.8875 (* 1 = 57.8875 loss)\r\n",
        "I0309 02:43:34.029340 1946825472 solver.cpp:222]     Train net output #1: l2_error = 1.94749\r\n",
        "I0309 02:43:34.029348 1946825472 solver.cpp:419] Iteration 29900, lr = 0.0001\r\n"
       ]
      },
      {
       "output_type": "stream",
       "stream": "stdout",
       "text": [
        "I0309 02:43:36.967530 1946825472 solver.cpp:333] Snapshotting to examples/mnist/mnist_autoencoder_iter_30000.caffemodel\r\n"
       ]
      },
      {
       "output_type": "stream",
       "stream": "stdout",
       "text": [
        "I0309 02:43:37.052126 1946825472 solver.cpp:340] Snapshotting solver state to examples/mnist/mnist_autoencoder_iter_30000.solverstate\r\n"
       ]
      },
      {
       "output_type": "stream",
       "stream": "stdout",
       "text": [
        "I0309 02:43:37.113309 1946825472 solver.cpp:263] Iteration 30000, Testing net (#0)\r\n"
       ]
      },
      {
       "output_type": "stream",
       "stream": "stdout",
       "text": [
        "I0309 02:43:43.592819 1946825472 solver.cpp:301] Test loss: 60.5449\r\n",
        "I0309 02:43:43.592859 1946825472 solver.cpp:314]     Test net output #0: cross_entropy_loss = 60.5449 (* 1 = 60.5449 loss)\r\n",
        "I0309 02:43:43.592869 1946825472 solver.cpp:314]     Test net output #1: l2_error = 1.99339\r\n",
        "I0309 02:43:43.592875 1946825472 solver.cpp:263] Iteration 30000, Testing net (#1)\r\n"
       ]
      },
      {
       "output_type": "stream",
       "stream": "stdout",
       "text": [
        "I0309 02:43:44.894234 1946825472 solver.cpp:301] Test loss: 60.5107\r\n",
        "I0309 02:43:44.894278 1946825472 solver.cpp:314]     Test net output #0: cross_entropy_loss = 60.5107 (* 1 = 60.5107 loss)\r\n",
        "I0309 02:43:44.894286 1946825472 solver.cpp:314]     Test net output #1: l2_error = 2.02481\r\n"
       ]
      },
      {
       "output_type": "stream",
       "stream": "stdout",
       "text": [
        "I0309 02:43:44.921782 1946825472 solver.cpp:207] Iteration 30000, loss = 59.8177\r\n",
        "I0309 02:43:44.921828 1946825472 solver.cpp:222]     Train net output #0: cross_entropy_loss = 59.8177 (* 1 = 59.8177 loss)\r\n",
        "I0309 02:43:44.921836 1946825472 solver.cpp:222]     Train net output #1: l2_error = 1.8787\r\n",
        "I0309 02:43:44.921845 1946825472 solver.cpp:419] Iteration 30000, lr = 1e-05\r\n"
       ]
      },
      {
       "output_type": "stream",
       "stream": "stdout",
       "text": [
        "I0309 02:43:48.048871 1946825472 solver.cpp:207] Iteration 30100, loss = 61.1155\r\n",
        "I0309 02:43:48.048916 1946825472 solver.cpp:222]     Train net output #0: cross_entropy_loss = 61.1155 (* 1 = 61.1155 loss)\r\n",
        "I0309 02:43:48.048926 1946825472 solver.cpp:222]     Train net output #1: l2_error = 2.03824\r\n",
        "I0309 02:43:48.048971 1946825472 solver.cpp:419] Iteration 30100, lr = 1e-05\r\n"
       ]
      },
      {
       "output_type": "stream",
       "stream": "stdout",
       "text": [
        "I0309 02:43:51.108235 1946825472 solver.cpp:207] Iteration 30200, loss = 61.3163\r\n",
        "I0309 02:43:51.108297 1946825472 solver.cpp:222]     Train net output #0: cross_entropy_loss = 61.3163 (* 1 = 61.3163 loss)\r\n",
        "I0309 02:43:51.108307 1946825472 solver.cpp:222]     Train net output #1: l2_error = 2.04259\r\n",
        "I0309 02:43:51.108315 1946825472 solver.cpp:419] Iteration 30200, lr = 1e-05\r\n"
       ]
      },
      {
       "output_type": "stream",
       "stream": "stdout",
       "text": [
        "I0309 02:43:54.086869 1946825472 solver.cpp:207] Iteration 30300, loss = 64.3318\r\n",
        "I0309 02:43:54.086913 1946825472 solver.cpp:222]     Train net output #0: cross_entropy_loss = 64.3318 (* 1 = 64.3318 loss)\r\n",
        "I0309 02:43:54.086922 1946825472 solver.cpp:222]     Train net output #1: l2_error = 2.26233\r\n",
        "I0309 02:43:54.086930 1946825472 solver.cpp:419] Iteration 30300, lr = 1e-05\r\n"
       ]
      },
      {
       "output_type": "stream",
       "stream": "stdout",
       "text": [
        "I0309 02:43:57.042841 1946825472 solver.cpp:207] Iteration 30400, loss = 58.9596\r\n",
        "I0309 02:43:57.042886 1946825472 solver.cpp:222]     Train net output #0: cross_entropy_loss = 58.9596 (* 1 = 58.9596 loss)\r\n",
        "I0309 02:43:57.042896 1946825472 solver.cpp:222]     Train net output #1: l2_error = 1.91885\r\n",
        "I0309 02:43:57.042904 1946825472 solver.cpp:419] Iteration 30400, lr = 1e-05\r\n"
       ]
      },
      {
       "output_type": "stream",
       "stream": "stdout",
       "text": [
        "I0309 02:43:59.999485 1946825472 solver.cpp:263] Iteration 30500, Testing net (#0)\r\n"
       ]
      },
      {
       "output_type": "stream",
       "stream": "stdout",
       "text": [
        "I0309 02:44:06.462074 1946825472 solver.cpp:301] Test loss: 60.4113\r\n",
        "I0309 02:44:06.462116 1946825472 solver.cpp:314]     Test net output #0: cross_entropy_loss = 60.4113 (* 1 = 60.4113 loss)\r\n",
        "I0309 02:44:06.462124 1946825472 solver.cpp:314]     Test net output #1: l2_error = 1.9765\r\n",
        "I0309 02:44:06.462131 1946825472 solver.cpp:263] Iteration 30500, Testing net (#1)\r\n"
       ]
      },
      {
       "output_type": "stream",
       "stream": "stdout",
       "text": [
        "I0309 02:44:07.738598 1946825472 solver.cpp:301] Test loss: 60.5049\r\n",
        "I0309 02:44:07.738651 1946825472 solver.cpp:314]     Test net output #0: cross_entropy_loss = 60.5049 (* 1 = 60.5049 loss)\r\n",
        "I0309 02:44:07.738662 1946825472 solver.cpp:314]     Test net output #1: l2_error = 2.02429\r\n"
       ]
      },
      {
       "output_type": "stream",
       "stream": "stdout",
       "text": [
        "I0309 02:44:07.762099 1946825472 solver.cpp:207] Iteration 30500, loss = 57.8764\r\n",
        "I0309 02:44:07.762142 1946825472 solver.cpp:222]     Train net output #0: cross_entropy_loss = 57.8764 (* 1 = 57.8764 loss)\r\n",
        "I0309 02:44:07.762151 1946825472 solver.cpp:222]     Train net output #1: l2_error = 1.94477\r\n",
        "I0309 02:44:07.762161 1946825472 solver.cpp:419] Iteration 30500, lr = 1e-05\r\n"
       ]
      },
      {
       "output_type": "stream",
       "stream": "stdout",
       "text": [
        "I0309 02:44:10.778092 1946825472 solver.cpp:207] Iteration 30600, loss = 59.8111\r\n",
        "I0309 02:44:10.778136 1946825472 solver.cpp:222]     Train net output #0: cross_entropy_loss = 59.8111 (* 1 = 59.8111 loss)\r\n",
        "I0309 02:44:10.778146 1946825472 solver.cpp:222]     Train net output #1: l2_error = 1.87826\r\n",
        "I0309 02:44:10.778153 1946825472 solver.cpp:419] Iteration 30600, lr = 1e-05\r\n"
       ]
      },
      {
       "output_type": "stream",
       "stream": "stdout",
       "text": [
        "I0309 02:44:13.790210 1946825472 solver.cpp:207] Iteration 30700, loss = 61.1123\r\n",
        "I0309 02:44:13.790253 1946825472 solver.cpp:222]     Train net output #0: cross_entropy_loss = 61.1123 (* 1 = 61.1123 loss)\r\n",
        "I0309 02:44:13.790262 1946825472 solver.cpp:222]     Train net output #1: l2_error = 2.03751\r\n",
        "I0309 02:44:13.790271 1946825472 solver.cpp:419] Iteration 30700, lr = 1e-05\r\n"
       ]
      },
      {
       "output_type": "stream",
       "stream": "stdout",
       "text": [
        "I0309 02:44:16.778622 1946825472 solver.cpp:207] Iteration 30800, loss = 61.3147\r\n",
        "I0309 02:44:16.778668 1946825472 solver.cpp:222]     Train net output #0: cross_entropy_loss = 61.3147 (* 1 = 61.3147 loss)\r\n",
        "I0309 02:44:16.778677 1946825472 solver.cpp:222]     Train net output #1: l2_error = 2.04225\r\n",
        "I0309 02:44:16.778686 1946825472 solver.cpp:419] Iteration 30800, lr = 1e-05\r\n"
       ]
      },
      {
       "output_type": "stream",
       "stream": "stdout",
       "text": [
        "I0309 02:44:19.724671 1946825472 solver.cpp:207] Iteration 30900, loss = 64.3291\r\n",
        "I0309 02:44:19.724716 1946825472 solver.cpp:222]     Train net output #0: cross_entropy_loss = 64.3291 (* 1 = 64.3291 loss)\r\n",
        "I0309 02:44:19.724725 1946825472 solver.cpp:222]     Train net output #1: l2_error = 2.26186\r\n",
        "I0309 02:44:19.724735 1946825472 solver.cpp:419] Iteration 30900, lr = 1e-05\r\n"
       ]
      },
      {
       "output_type": "stream",
       "stream": "stdout",
       "text": [
        "I0309 02:44:22.647650 1946825472 solver.cpp:263] Iteration 31000, Testing net (#0)\r\n"
       ]
      },
      {
       "output_type": "stream",
       "stream": "stdout",
       "text": [
        "I0309 02:44:29.117306 1946825472 solver.cpp:301] Test loss: 60.5463\r\n",
        "I0309 02:44:29.117348 1946825472 solver.cpp:314]     Test net output #0: cross_entropy_loss = 60.5463 (* 1 = 60.5463 loss)\r\n",
        "I0309 02:44:29.117357 1946825472 solver.cpp:314]     Test net output #1: l2_error = 1.98927\r\n",
        "I0309 02:44:29.117364 1946825472 solver.cpp:263] Iteration 31000, Testing net (#1)\r\n"
       ]
      },
      {
       "output_type": "stream",
       "stream": "stdout",
       "text": [
        "I0309 02:44:30.409644 1946825472 solver.cpp:301] Test loss: 60.504\r\n",
        "I0309 02:44:30.409687 1946825472 solver.cpp:314]     Test net output #0: cross_entropy_loss = 60.504 (* 1 = 60.504 loss)\r\n",
        "I0309 02:44:30.409695 1946825472 solver.cpp:314]     Test net output #1: l2_error = 2.02405\r\n",
        "I0309 02:44:30.430955 1946825472 solver.cpp:207] Iteration 31000, loss = 58.9595\r\n",
        "I0309 02:44:30.430999 1946825472 solver.cpp:222]     Train net output #0: cross_entropy_loss = 58.9595 (* 1 = 58.9595 loss)\r\n",
        "I0309 02:44:30.431007 1946825472 solver.cpp:222]     Train net output #1: l2_error = 1.91895\r\n",
        "I0309 02:44:30.431015 1946825472 solver.cpp:419] Iteration 31000, lr = 1e-05\r\n"
       ]
      },
      {
       "output_type": "stream",
       "stream": "stdout",
       "text": [
        "I0309 02:44:33.396932 1946825472 solver.cpp:207] Iteration 31100, loss = 57.8762\r\n",
        "I0309 02:44:33.396977 1946825472 solver.cpp:222]     Train net output #0: cross_entropy_loss = 57.8762 (* 1 = 57.8762 loss)\r\n",
        "I0309 02:44:33.396986 1946825472 solver.cpp:222]     Train net output #1: l2_error = 1.94473\r\n",
        "I0309 02:44:33.396996 1946825472 solver.cpp:419] Iteration 31100, lr = 1e-05\r\n"
       ]
      },
      {
       "output_type": "stream",
       "stream": "stdout",
       "text": [
        "I0309 02:44:36.369894 1946825472 solver.cpp:207] Iteration 31200, loss = 59.8105\r\n",
        "I0309 02:44:36.369937 1946825472 solver.cpp:222]     Train net output #0: cross_entropy_loss = 59.8105 (* 1 = 59.8105 loss)\r\n",
        "I0309 02:44:36.369946 1946825472 solver.cpp:222]     Train net output #1: l2_error = 1.8782\r\n",
        "I0309 02:44:36.369954 1946825472 solver.cpp:419] Iteration 31200, lr = 1e-05\r\n"
       ]
      },
      {
       "output_type": "stream",
       "stream": "stdout",
       "text": [
        "I0309 02:44:39.381958 1946825472 solver.cpp:207] Iteration 31300, loss = 61.1109\r\n",
        "I0309 02:44:39.382000 1946825472 solver.cpp:222]     Train net output #0: cross_entropy_loss = 61.1109 (* 1 = 61.1109 loss)\r\n",
        "I0309 02:44:39.382009 1946825472 solver.cpp:222]     Train net output #1: l2_error = 2.03723\r\n",
        "I0309 02:44:39.382019 1946825472 solver.cpp:419] Iteration 31300, lr = 1e-05\r\n"
       ]
      },
      {
       "output_type": "stream",
       "stream": "stdout",
       "text": [
        "I0309 02:44:42.351013 1946825472 solver.cpp:207] Iteration 31400, loss = 61.3137\r\n",
        "I0309 02:44:42.351059 1946825472 solver.cpp:222]     Train net output #0: cross_entropy_loss = 61.3137 (* 1 = 61.3137 loss)\r\n",
        "I0309 02:44:42.351068 1946825472 solver.cpp:222]     Train net output #1: l2_error = 2.04212\r\n",
        "I0309 02:44:42.351076 1946825472 solver.cpp:419] Iteration 31400, lr = 1e-05\r\n"
       ]
      },
      {
       "output_type": "stream",
       "stream": "stdout",
       "text": [
        "I0309 02:44:45.309494 1946825472 solver.cpp:263] Iteration 31500, Testing net (#0)\r\n"
       ]
      },
      {
       "output_type": "stream",
       "stream": "stdout",
       "text": [
        "I0309 02:44:51.898123 1946825472 solver.cpp:301] Test loss: 60.6349\r\n",
        "I0309 02:44:51.898164 1946825472 solver.cpp:314]     Test net output #0: cross_entropy_loss = 60.6349 (* 1 = 60.6349 loss)\r\n",
        "I0309 02:44:51.898174 1946825472 solver.cpp:314]     Test net output #1: l2_error = 1.99429\r\n",
        "I0309 02:44:51.898180 1946825472 solver.cpp:263] Iteration 31500, Testing net (#1)\r\n"
       ]
      },
      {
       "output_type": "stream",
       "stream": "stdout",
       "text": [
        "I0309 02:44:53.206295 1946825472 solver.cpp:301] Test loss: 60.5036\r\n",
        "I0309 02:44:53.206384 1946825472 solver.cpp:314]     Test net output #0: cross_entropy_loss = 60.5036 (* 1 = 60.5036 loss)\r\n",
        "I0309 02:44:53.206398 1946825472 solver.cpp:314]     Test net output #1: l2_error = 2.02439\r\n"
       ]
      },
      {
       "output_type": "stream",
       "stream": "stdout",
       "text": [
        "I0309 02:44:53.232180 1946825472 solver.cpp:207] Iteration 31500, loss = 64.3277\r\n",
        "I0309 02:44:53.232223 1946825472 solver.cpp:222]     Train net output #0: cross_entropy_loss = 64.3277 (* 1 = 64.3277 loss)\r\n",
        "I0309 02:44:53.232233 1946825472 solver.cpp:222]     Train net output #1: l2_error = 2.26161\r\n",
        "I0309 02:44:53.232240 1946825472 solver.cpp:419] Iteration 31500, lr = 1e-05\r\n"
       ]
      },
      {
       "output_type": "stream",
       "stream": "stdout",
       "text": [
        "I0309 02:44:56.181228 1946825472 solver.cpp:207] Iteration 31600, loss = 58.9597\r\n",
        "I0309 02:44:56.181273 1946825472 solver.cpp:222]     Train net output #0: cross_entropy_loss = 58.9597 (* 1 = 58.9597 loss)\r\n",
        "I0309 02:44:56.181283 1946825472 solver.cpp:222]     Train net output #1: l2_error = 1.91902\r\n",
        "I0309 02:44:56.181291 1946825472 solver.cpp:419] Iteration 31600, lr = 1e-05\r\n"
       ]
      },
      {
       "output_type": "stream",
       "stream": "stdout",
       "text": [
        "I0309 02:44:59.172874 1946825472 solver.cpp:207] Iteration 31700, loss = 57.8762\r\n",
        "I0309 02:44:59.172919 1946825472 solver.cpp:222]     Train net output #0: cross_entropy_loss = 57.8762 (* 1 = 57.8762 loss)\r\n",
        "I0309 02:44:59.172929 1946825472 solver.cpp:222]     Train net output #1: l2_error = 1.94474\r\n",
        "I0309 02:44:59.172937 1946825472 solver.cpp:419] Iteration 31700, lr = 1e-05\r\n"
       ]
      },
      {
       "output_type": "stream",
       "stream": "stdout",
       "text": [
        "I0309 02:45:02.149766 1946825472 solver.cpp:207] Iteration 31800, loss = 59.8097\r\n",
        "I0309 02:45:02.149811 1946825472 solver.cpp:222]     Train net output #0: cross_entropy_loss = 59.8097 (* 1 = 59.8097 loss)\r\n",
        "I0309 02:45:02.149821 1946825472 solver.cpp:222]     Train net output #1: l2_error = 1.87814\r\n",
        "I0309 02:45:02.149829 1946825472 solver.cpp:419] Iteration 31800, lr = 1e-05\r\n"
       ]
      },
      {
       "output_type": "stream",
       "stream": "stdout",
       "text": [
        "I0309 02:45:05.107818 1946825472 solver.cpp:207] Iteration 31900, loss = 61.1099\r\n",
        "I0309 02:45:05.107862 1946825472 solver.cpp:222]     Train net output #0: cross_entropy_loss = 61.1099 (* 1 = 61.1099 loss)\r\n",
        "I0309 02:45:05.107872 1946825472 solver.cpp:222]     Train net output #1: l2_error = 2.03706\r\n",
        "I0309 02:45:05.107880 1946825472 solver.cpp:419] Iteration 31900, lr = 1e-05\r\n"
       ]
      },
      {
       "output_type": "stream",
       "stream": "stdout",
       "text": [
        "I0309 02:45:08.025917 1946825472 solver.cpp:263] Iteration 32000, Testing net (#0)\r\n"
       ]
      },
      {
       "output_type": "stream",
       "stream": "stdout",
       "text": [
        "I0309 02:45:14.602741 1946825472 solver.cpp:301] Test loss: 60.636\r\n",
        "I0309 02:45:14.602782 1946825472 solver.cpp:314]     Test net output #0: cross_entropy_loss = 60.636 (* 1 = 60.636 loss)\r\n",
        "I0309 02:45:14.602792 1946825472 solver.cpp:314]     Test net output #1: l2_error = 1.99508\r\n",
        "I0309 02:45:14.602798 1946825472 solver.cpp:263] Iteration 32000, Testing net (#1)\r\n"
       ]
      },
      {
       "output_type": "stream",
       "stream": "stdout",
       "text": [
        "I0309 02:45:15.886150 1946825472 solver.cpp:301] Test loss: 60.5037\r\n",
        "I0309 02:45:15.886193 1946825472 solver.cpp:314]     Test net output #0: cross_entropy_loss = 60.5037 (* 1 = 60.5037 loss)\r\n",
        "I0309 02:45:15.886201 1946825472 solver.cpp:314]     Test net output #1: l2_error = 2.0242\r\n"
       ]
      },
      {
       "output_type": "stream",
       "stream": "stdout",
       "text": [
        "I0309 02:45:15.910480 1946825472 solver.cpp:207] Iteration 32000, loss = 61.313\r\n",
        "I0309 02:45:15.910523 1946825472 solver.cpp:222]     Train net output #0: cross_entropy_loss = 61.313 (* 1 = 61.313 loss)\r\n",
        "I0309 02:45:15.910531 1946825472 solver.cpp:222]     Train net output #1: l2_error = 2.04205\r\n",
        "I0309 02:45:15.910539 1946825472 solver.cpp:419] Iteration 32000, lr = 1e-05\r\n"
       ]
      },
      {
       "output_type": "stream",
       "stream": "stdout",
       "text": [
        "I0309 02:45:18.940485 1946825472 solver.cpp:207] Iteration 32100, loss = 64.3267\r\n",
        "I0309 02:45:18.940528 1946825472 solver.cpp:222]     Train net output #0: cross_entropy_loss = 64.3267 (* 1 = 64.3267 loss)\r\n",
        "I0309 02:45:18.940538 1946825472 solver.cpp:222]     Train net output #1: l2_error = 2.26146\r\n",
        "I0309 02:45:18.940546 1946825472 solver.cpp:419] Iteration 32100, lr = 1e-05\r\n"
       ]
      },
      {
       "output_type": "stream",
       "stream": "stdout",
       "text": [
        "I0309 02:45:22.008694 1946825472 solver.cpp:207] Iteration 32200, loss = 58.9597\r\n",
        "I0309 02:45:22.008743 1946825472 solver.cpp:222]     Train net output #0: cross_entropy_loss = 58.9597 (* 1 = 58.9597 loss)\r\n",
        "I0309 02:45:22.008752 1946825472 solver.cpp:222]     Train net output #1: l2_error = 1.91906\r\n",
        "I0309 02:45:22.008761 1946825472 solver.cpp:419] Iteration 32200, lr = 1e-05\r\n"
       ]
      },
      {
       "output_type": "stream",
       "stream": "stdout",
       "text": [
        "I0309 02:45:24.974550 1946825472 solver.cpp:207] Iteration 32300, loss = 57.8761\r\n",
        "I0309 02:45:24.974632 1946825472 solver.cpp:222]     Train net output #0: cross_entropy_loss = 57.8761 (* 1 = 57.8761 loss)\r\n",
        "I0309 02:45:24.974642 1946825472 solver.cpp:222]     Train net output #1: l2_error = 1.94474\r\n",
        "I0309 02:45:24.974649 1946825472 solver.cpp:419] Iteration 32300, lr = 1e-05\r\n"
       ]
      },
      {
       "output_type": "stream",
       "stream": "stdout",
       "text": [
        "I0309 02:45:27.980003 1946825472 solver.cpp:207] Iteration 32400, loss = 59.8091\r\n",
        "I0309 02:45:27.980047 1946825472 solver.cpp:222]     Train net output #0: cross_entropy_loss = 59.8091 (* 1 = 59.8091 loss)\r\n",
        "I0309 02:45:27.980057 1946825472 solver.cpp:222]     Train net output #1: l2_error = 1.87808\r\n",
        "I0309 02:45:27.980065 1946825472 solver.cpp:419] Iteration 32400, lr = 1e-05\r\n"
       ]
      },
      {
       "output_type": "stream",
       "stream": "stdout",
       "text": [
        "I0309 02:45:30.910487 1946825472 solver.cpp:263] Iteration 32500, Testing net (#0)\r\n"
       ]
      },
      {
       "output_type": "stream",
       "stream": "stdout",
       "text": [
        "I0309 02:45:37.337590 1946825472 solver.cpp:301] Test loss: 60.6066\r\n",
        "I0309 02:45:37.337633 1946825472 solver.cpp:314]     Test net output #0: cross_entropy_loss = 60.6066 (* 1 = 60.6066 loss)\r\n",
        "I0309 02:45:37.337642 1946825472 solver.cpp:314]     Test net output #1: l2_error = 1.99654\r\n",
        "I0309 02:45:37.337649 1946825472 solver.cpp:263] Iteration 32500, Testing net (#1)\r\n"
       ]
      },
      {
       "output_type": "stream",
       "stream": "stdout",
       "text": [
        "I0309 02:45:38.666082 1946825472 solver.cpp:301] Test loss: 60.5034\r\n",
        "I0309 02:45:38.666126 1946825472 solver.cpp:314]     Test net output #0: cross_entropy_loss = 60.5034 (* 1 = 60.5034 loss)\r\n",
        "I0309 02:45:38.666136 1946825472 solver.cpp:314]     Test net output #1: l2_error = 2.02408\r\n",
        "I0309 02:45:38.688968 1946825472 solver.cpp:207] Iteration 32500, loss = 61.1092\r\n",
        "I0309 02:45:38.689012 1946825472 solver.cpp:222]     Train net output #0: cross_entropy_loss = 61.1092 (* 1 = 61.1092 loss)\r\n",
        "I0309 02:45:38.689020 1946825472 solver.cpp:222]     Train net output #1: l2_error = 2.03693\r\n",
        "I0309 02:45:38.689028 1946825472 solver.cpp:419] Iteration 32500, lr = 1e-05\r\n"
       ]
      },
      {
       "output_type": "stream",
       "stream": "stdout",
       "text": [
        "I0309 02:45:41.666471 1946825472 solver.cpp:207] Iteration 32600, loss = 61.3125\r\n",
        "I0309 02:45:41.666515 1946825472 solver.cpp:222]     Train net output #0: cross_entropy_loss = 61.3125 (* 1 = 61.3125 loss)\r\n",
        "I0309 02:45:41.666524 1946825472 solver.cpp:222]     Train net output #1: l2_error = 2.042\r\n",
        "I0309 02:45:41.666532 1946825472 solver.cpp:419] Iteration 32600, lr = 1e-05\r\n"
       ]
      },
      {
       "output_type": "stream",
       "stream": "stdout",
       "text": [
        "I0309 02:45:44.628355 1946825472 solver.cpp:207] Iteration 32700, loss = 64.3259\r\n",
        "I0309 02:45:44.628399 1946825472 solver.cpp:222]     Train net output #0: cross_entropy_loss = 64.3259 (* 1 = 64.3259 loss)\r\n",
        "I0309 02:45:44.628408 1946825472 solver.cpp:222]     Train net output #1: l2_error = 2.26135\r\n",
        "I0309 02:45:44.628417 1946825472 solver.cpp:419] Iteration 32700, lr = 1e-05\r\n"
       ]
      },
      {
       "output_type": "stream",
       "stream": "stdout",
       "text": [
        "I0309 02:45:47.728091 1946825472 solver.cpp:207] Iteration 32800, loss = 58.9593\r\n",
        "I0309 02:45:47.728133 1946825472 solver.cpp:222]     Train net output #0: cross_entropy_loss = 58.9593 (* 1 = 58.9593 loss)\r\n",
        "I0309 02:45:47.728143 1946825472 solver.cpp:222]     Train net output #1: l2_error = 1.91906\r\n",
        "I0309 02:45:47.728152 1946825472 solver.cpp:419] Iteration 32800, lr = 1e-05\r\n"
       ]
      },
      {
       "output_type": "stream",
       "stream": "stdout",
       "text": [
        "I0309 02:45:50.765225 1946825472 solver.cpp:207] Iteration 32900, loss = 57.8757\r\n",
        "I0309 02:45:50.765270 1946825472 solver.cpp:222]     Train net output #0: cross_entropy_loss = 57.8757 (* 1 = 57.8757 loss)\r\n",
        "I0309 02:45:50.765280 1946825472 solver.cpp:222]     Train net output #1: l2_error = 1.94473\r\n",
        "I0309 02:45:50.765288 1946825472 solver.cpp:419] Iteration 32900, lr = 1e-05\r\n"
       ]
      },
      {
       "output_type": "stream",
       "stream": "stdout",
       "text": [
        "I0309 02:45:53.741714 1946825472 solver.cpp:263] Iteration 33000, Testing net (#0)\r\n"
       ]
      },
      {
       "output_type": "stream",
       "stream": "stdout",
       "text": [
        "I0309 02:46:00.182025 1946825472 solver.cpp:301] Test loss: 60.5358\r\n",
        "I0309 02:46:00.182103 1946825472 solver.cpp:314]     Test net output #0: cross_entropy_loss = 60.5358 (* 1 = 60.5358 loss)\r\n",
        "I0309 02:46:00.182113 1946825472 solver.cpp:314]     Test net output #1: l2_error = 1.9923\r\n",
        "I0309 02:46:00.182121 1946825472 solver.cpp:263] Iteration 33000, Testing net (#1)\r\n"
       ]
      },
      {
       "output_type": "stream",
       "stream": "stdout",
       "text": [
        "I0309 02:46:01.462194 1946825472 solver.cpp:301] Test loss: 60.5029\r\n",
        "I0309 02:46:01.462235 1946825472 solver.cpp:314]     Test net output #0: cross_entropy_loss = 60.5029 (* 1 = 60.5029 loss)\r\n",
        "I0309 02:46:01.462244 1946825472 solver.cpp:314]     Test net output #1: l2_error = 2.02389\r\n",
        "I0309 02:46:01.484567 1946825472 solver.cpp:207] Iteration 33000, loss = 59.8088\r\n",
        "I0309 02:46:01.484611 1946825472 solver.cpp:222]     Train net output #0: cross_entropy_loss = 59.8088 (* 1 = 59.8088 loss)\r\n",
        "I0309 02:46:01.484621 1946825472 solver.cpp:222]     Train net output #1: l2_error = 1.87803\r\n",
        "I0309 02:46:01.484628 1946825472 solver.cpp:419] Iteration 33000, lr = 1e-05\r\n"
       ]
      },
      {
       "output_type": "stream",
       "stream": "stdout",
       "text": [
        "I0309 02:46:04.461863 1946825472 solver.cpp:207] Iteration 33100, loss = 61.1085\r\n",
        "I0309 02:46:04.461907 1946825472 solver.cpp:222]     Train net output #0: cross_entropy_loss = 61.1085 (* 1 = 61.1085 loss)\r\n",
        "I0309 02:46:04.461917 1946825472 solver.cpp:222]     Train net output #1: l2_error = 2.03683\r\n",
        "I0309 02:46:04.461925 1946825472 solver.cpp:419] Iteration 33100, lr = 1e-05\r\n"
       ]
      },
      {
       "output_type": "stream",
       "stream": "stdout",
       "text": [
        "I0309 02:46:07.399075 1946825472 solver.cpp:207] Iteration 33200, loss = 61.3118\r\n",
        "I0309 02:46:07.399121 1946825472 solver.cpp:222]     Train net output #0: cross_entropy_loss = 61.3118 (* 1 = 61.3118 loss)\r\n",
        "I0309 02:46:07.399132 1946825472 solver.cpp:222]     Train net output #1: l2_error = 2.04194\r\n",
        "I0309 02:46:07.399139 1946825472 solver.cpp:419] Iteration 33200, lr = 1e-05\r\n"
       ]
      },
      {
       "output_type": "stream",
       "stream": "stdout",
       "text": [
        "I0309 02:46:10.409941 1946825472 solver.cpp:207] Iteration 33300, loss = 64.3254\r\n",
        "I0309 02:46:10.409987 1946825472 solver.cpp:222]     Train net output #0: cross_entropy_loss = 64.3254 (* 1 = 64.3254 loss)\r\n",
        "I0309 02:46:10.409996 1946825472 solver.cpp:222]     Train net output #1: l2_error = 2.26127\r\n",
        "I0309 02:46:10.410006 1946825472 solver.cpp:419] Iteration 33300, lr = 1e-05\r\n"
       ]
      },
      {
       "output_type": "stream",
       "stream": "stdout",
       "text": [
        "I0309 02:46:13.350139 1946825472 solver.cpp:207] Iteration 33400, loss = 58.9592\r\n",
        "I0309 02:46:13.350183 1946825472 solver.cpp:222]     Train net output #0: cross_entropy_loss = 58.9592 (* 1 = 58.9592 loss)\r\n",
        "I0309 02:46:13.350193 1946825472 solver.cpp:222]     Train net output #1: l2_error = 1.91905\r\n",
        "I0309 02:46:13.350200 1946825472 solver.cpp:419] Iteration 33400, lr = 1e-05\r\n"
       ]
      },
      {
       "output_type": "stream",
       "stream": "stdout",
       "text": [
        "I0309 02:46:16.306386 1946825472 solver.cpp:263] Iteration 33500, Testing net (#0)\r\n"
       ]
      },
      {
       "output_type": "stream",
       "stream": "stdout",
       "text": [
        "I0309 02:46:22.785918 1946825472 solver.cpp:301] Test loss: 60.4089\r\n",
        "I0309 02:46:22.785960 1946825472 solver.cpp:314]     Test net output #0: cross_entropy_loss = 60.4089 (* 1 = 60.4089 loss)\r\n",
        "I0309 02:46:22.785969 1946825472 solver.cpp:314]     Test net output #1: l2_error = 1.97618\r\n",
        "I0309 02:46:22.785975 1946825472 solver.cpp:263] Iteration 33500, Testing net (#1)\r\n"
       ]
      },
      {
       "output_type": "stream",
       "stream": "stdout",
       "text": [
        "I0309 02:46:24.081886 1946825472 solver.cpp:301] Test loss: 60.5023\r\n",
        "I0309 02:46:24.081928 1946825472 solver.cpp:314]     Test net output #0: cross_entropy_loss = 60.5023 (* 1 = 60.5023 loss)\r\n",
        "I0309 02:46:24.081938 1946825472 solver.cpp:314]     Test net output #1: l2_error = 2.02395\r\n",
        "I0309 02:46:24.104877 1946825472 solver.cpp:207] Iteration 33500, loss = 57.8755\r\n",
        "I0309 02:46:24.104923 1946825472 solver.cpp:222]     Train net output #0: cross_entropy_loss = 57.8755 (* 1 = 57.8755 loss)\r\n",
        "I0309 02:46:24.104931 1946825472 solver.cpp:222]     Train net output #1: l2_error = 1.94471\r\n",
        "I0309 02:46:24.104940 1946825472 solver.cpp:419] Iteration 33500, lr = 1e-05\r\n"
       ]
      },
      {
       "output_type": "stream",
       "stream": "stdout",
       "text": [
        "I0309 02:46:27.086555 1946825472 solver.cpp:207] Iteration 33600, loss = 59.8085\r\n",
        "I0309 02:46:27.086602 1946825472 solver.cpp:222]     Train net output #0: cross_entropy_loss = 59.8085 (* 1 = 59.8085 loss)\r\n",
        "I0309 02:46:27.086629 1946825472 solver.cpp:222]     Train net output #1: l2_error = 1.87797\r\n",
        "I0309 02:46:27.086638 1946825472 solver.cpp:419] Iteration 33600, lr = 1e-05\r\n"
       ]
      },
      {
       "output_type": "stream",
       "stream": "stdout",
       "text": [
        "I0309 02:46:30.054316 1946825472 solver.cpp:207] Iteration 33700, loss = 61.1082\r\n",
        "I0309 02:46:30.054360 1946825472 solver.cpp:222]     Train net output #0: cross_entropy_loss = 61.1082 (* 1 = 61.1082 loss)\r\n",
        "I0309 02:46:30.054409 1946825472 solver.cpp:222]     Train net output #1: l2_error = 2.03675\r\n",
        "I0309 02:46:30.054417 1946825472 solver.cpp:419] Iteration 33700, lr = 1e-05\r\n"
       ]
      },
      {
       "output_type": "stream",
       "stream": "stdout",
       "text": [
        "I0309 02:46:32.987910 1946825472 solver.cpp:207] Iteration 33800, loss = 61.3113\r\n",
        "I0309 02:46:32.987972 1946825472 solver.cpp:222]     Train net output #0: cross_entropy_loss = 61.3113 (* 1 = 61.3113 loss)\r\n",
        "I0309 02:46:32.987982 1946825472 solver.cpp:222]     Train net output #1: l2_error = 2.04189\r\n",
        "I0309 02:46:32.987990 1946825472 solver.cpp:419] Iteration 33800, lr = 1e-05\r\n"
       ]
      },
      {
       "output_type": "stream",
       "stream": "stdout",
       "text": [
        "I0309 02:46:35.942409 1946825472 solver.cpp:207] Iteration 33900, loss = 64.3251\r\n",
        "I0309 02:46:35.942450 1946825472 solver.cpp:222]     Train net output #0: cross_entropy_loss = 64.3251 (* 1 = 64.3251 loss)\r\n",
        "I0309 02:46:35.942459 1946825472 solver.cpp:222]     Train net output #1: l2_error = 2.2612\r\n",
        "I0309 02:46:35.942467 1946825472 solver.cpp:419] Iteration 33900, lr = 1e-05\r\n"
       ]
      },
      {
       "output_type": "stream",
       "stream": "stdout",
       "text": [
        "I0309 02:46:38.908862 1946825472 solver.cpp:263] Iteration 34000, Testing net (#0)\r\n"
       ]
      },
      {
       "output_type": "stream",
       "stream": "stdout",
       "text": [
        "I0309 02:46:45.354310 1946825472 solver.cpp:301] Test loss: 60.5446\r\n",
        "I0309 02:46:45.354362 1946825472 solver.cpp:314]     Test net output #0: cross_entropy_loss = 60.5446 (* 1 = 60.5446 loss)\r\n",
        "I0309 02:46:45.354372 1946825472 solver.cpp:314]     Test net output #1: l2_error = 1.98907\r\n",
        "I0309 02:46:45.354382 1946825472 solver.cpp:263] Iteration 34000, Testing net (#1)\r\n"
       ]
      },
      {
       "output_type": "stream",
       "stream": "stdout",
       "text": [
        "I0309 02:46:46.731578 1946825472 solver.cpp:301] Test loss: 60.5019\r\n",
        "I0309 02:46:46.731619 1946825472 solver.cpp:314]     Test net output #0: cross_entropy_loss = 60.5019 (* 1 = 60.5019 loss)\r\n",
        "I0309 02:46:46.731629 1946825472 solver.cpp:314]     Test net output #1: l2_error = 2.02379\r\n",
        "I0309 02:46:46.754014 1946825472 solver.cpp:207] Iteration 34000, loss = 58.9591\r\n",
        "I0309 02:46:46.754056 1946825472 solver.cpp:222]     Train net output #0: cross_entropy_loss = 58.9591 (* 1 = 58.9591 loss)\r\n",
        "I0309 02:46:46.754065 1946825472 solver.cpp:222]     Train net output #1: l2_error = 1.91904\r\n",
        "I0309 02:46:46.754075 1946825472 solver.cpp:419] Iteration 34000, lr = 1e-05\r\n"
       ]
      },
      {
       "output_type": "stream",
       "stream": "stdout",
       "text": [
        "I0309 02:46:49.785437 1946825472 solver.cpp:207] Iteration 34100, loss = 57.8753\r\n",
        "I0309 02:46:49.785483 1946825472 solver.cpp:222]     Train net output #0: cross_entropy_loss = 57.8753 (* 1 = 57.8753 loss)\r\n",
        "I0309 02:46:49.785492 1946825472 solver.cpp:222]     Train net output #1: l2_error = 1.94469\r\n",
        "I0309 02:46:49.785501 1946825472 solver.cpp:419] Iteration 34100, lr = 1e-05\r\n"
       ]
      },
      {
       "output_type": "stream",
       "stream": "stdout",
       "text": [
        "I0309 02:46:52.811774 1946825472 solver.cpp:207] Iteration 34200, loss = 59.8082\r\n",
        "I0309 02:46:52.811816 1946825472 solver.cpp:222]     Train net output #0: cross_entropy_loss = 59.8082 (* 1 = 59.8082 loss)\r\n",
        "I0309 02:46:52.811826 1946825472 solver.cpp:222]     Train net output #1: l2_error = 1.87792\r\n",
        "I0309 02:46:52.811835 1946825472 solver.cpp:419] Iteration 34200, lr = 1e-05\r\n"
       ]
      },
      {
       "output_type": "stream",
       "stream": "stdout",
       "text": [
        "I0309 02:46:55.734724 1946825472 solver.cpp:207] Iteration 34300, loss = 61.1078\r\n",
        "I0309 02:46:55.734768 1946825472 solver.cpp:222]     Train net output #0: cross_entropy_loss = 61.1078 (* 1 = 61.1078 loss)\r\n",
        "I0309 02:46:55.734777 1946825472 solver.cpp:222]     Train net output #1: l2_error = 2.03668\r\n",
        "I0309 02:46:55.734786 1946825472 solver.cpp:419] Iteration 34300, lr = 1e-05\r\n"
       ]
      },
      {
       "output_type": "stream",
       "stream": "stdout",
       "text": [
        "I0309 02:46:58.761898 1946825472 solver.cpp:207] Iteration 34400, loss = 61.3109\r\n",
        "I0309 02:46:58.761942 1946825472 solver.cpp:222]     Train net output #0: cross_entropy_loss = 61.3109 (* 1 = 61.3109 loss)\r\n",
        "I0309 02:46:58.761951 1946825472 solver.cpp:222]     Train net output #1: l2_error = 2.04184\r\n",
        "I0309 02:46:58.761960 1946825472 solver.cpp:419] Iteration 34400, lr = 1e-05\r\n"
       ]
      },
      {
       "output_type": "stream",
       "stream": "stdout",
       "text": [
        "I0309 02:47:01.698809 1946825472 solver.cpp:263] Iteration 34500, Testing net (#0)\r\n"
       ]
      },
      {
       "output_type": "stream",
       "stream": "stdout",
       "text": [
        "I0309 02:47:08.079905 1946825472 solver.cpp:301] Test loss: 60.6333\r\n",
        "I0309 02:47:08.079985 1946825472 solver.cpp:314]     Test net output #0: cross_entropy_loss = 60.6333 (* 1 = 60.6333 loss)\r\n",
        "I0309 02:47:08.079994 1946825472 solver.cpp:314]     Test net output #1: l2_error = 1.99411\r\n",
        "I0309 02:47:08.080001 1946825472 solver.cpp:263] Iteration 34500, Testing net (#1)\r\n"
       ]
      },
      {
       "output_type": "stream",
       "stream": "stdout",
       "text": [
        "I0309 02:47:09.512914 1946825472 solver.cpp:301] Test loss: 60.5018\r\n",
        "I0309 02:47:09.512961 1946825472 solver.cpp:314]     Test net output #0: cross_entropy_loss = 60.5018 (* 1 = 60.5018 loss)\r\n",
        "I0309 02:47:09.512976 1946825472 solver.cpp:314]     Test net output #1: l2_error = 2.02416\r\n"
       ]
      },
      {
       "output_type": "stream",
       "stream": "stdout",
       "text": [
        "I0309 02:47:09.549075 1946825472 solver.cpp:207] Iteration 34500, loss = 64.3246\r\n",
        "I0309 02:47:09.549119 1946825472 solver.cpp:222]     Train net output #0: cross_entropy_loss = 64.3246 (* 1 = 64.3246 loss)\r\n",
        "I0309 02:47:09.549129 1946825472 solver.cpp:222]     Train net output #1: l2_error = 2.26114\r\n",
        "I0309 02:47:09.549137 1946825472 solver.cpp:419] Iteration 34500, lr = 1e-05\r\n"
       ]
      },
      {
       "output_type": "stream",
       "stream": "stdout",
       "text": [
        "I0309 02:47:12.569540 1946825472 solver.cpp:207] Iteration 34600, loss = 58.9588\r\n",
        "I0309 02:47:12.569582 1946825472 solver.cpp:222]     Train net output #0: cross_entropy_loss = 58.9588 (* 1 = 58.9588 loss)\r\n",
        "I0309 02:47:12.569591 1946825472 solver.cpp:222]     Train net output #1: l2_error = 1.91901\r\n",
        "I0309 02:47:12.569599 1946825472 solver.cpp:419] Iteration 34600, lr = 1e-05\r\n"
       ]
      },
      {
       "output_type": "stream",
       "stream": "stdout",
       "text": [
        "I0309 02:47:15.516369 1946825472 solver.cpp:207] Iteration 34700, loss = 57.875\r\n",
        "I0309 02:47:15.516414 1946825472 solver.cpp:222]     Train net output #0: cross_entropy_loss = 57.875 (* 1 = 57.875 loss)\r\n",
        "I0309 02:47:15.516423 1946825472 solver.cpp:222]     Train net output #1: l2_error = 1.94466\r\n",
        "I0309 02:47:15.516433 1946825472 solver.cpp:419] Iteration 34700, lr = 1e-05\r\n"
       ]
      },
      {
       "output_type": "stream",
       "stream": "stdout",
       "text": [
        "I0309 02:47:18.482911 1946825472 solver.cpp:207] Iteration 34800, loss = 59.8078\r\n",
        "I0309 02:47:18.482959 1946825472 solver.cpp:222]     Train net output #0: cross_entropy_loss = 59.8078 (* 1 = 59.8078 loss)\r\n",
        "I0309 02:47:18.482969 1946825472 solver.cpp:222]     Train net output #1: l2_error = 1.87787\r\n",
        "I0309 02:47:18.482977 1946825472 solver.cpp:419] Iteration 34800, lr = 1e-05\r\n"
       ]
      },
      {
       "output_type": "stream",
       "stream": "stdout",
       "text": [
        "I0309 02:47:21.403122 1946825472 solver.cpp:207] Iteration 34900, loss = 61.1072\r\n",
        "I0309 02:47:21.403167 1946825472 solver.cpp:222]     Train net output #0: cross_entropy_loss = 61.1072 (* 1 = 61.1072 loss)\r\n",
        "I0309 02:47:21.403175 1946825472 solver.cpp:222]     Train net output #1: l2_error = 2.03662\r\n",
        "I0309 02:47:21.403183 1946825472 solver.cpp:419] Iteration 34900, lr = 1e-05\r\n"
       ]
      },
      {
       "output_type": "stream",
       "stream": "stdout",
       "text": [
        "I0309 02:47:24.331486 1946825472 solver.cpp:263] Iteration 35000, Testing net (#0)\r\n"
       ]
      },
      {
       "output_type": "stream",
       "stream": "stdout",
       "text": [
        "I0309 02:47:30.717429 1946825472 solver.cpp:301] Test loss: 60.6345\r\n",
        "I0309 02:47:30.717471 1946825472 solver.cpp:314]     Test net output #0: cross_entropy_loss = 60.6345 (* 1 = 60.6345 loss)\r\n",
        "I0309 02:47:30.717480 1946825472 solver.cpp:314]     Test net output #1: l2_error = 1.99489\r\n",
        "I0309 02:47:30.717488 1946825472 solver.cpp:263] Iteration 35000, Testing net (#1)\r\n"
       ]
      },
      {
       "output_type": "stream",
       "stream": "stdout",
       "text": [
        "I0309 02:47:32.015791 1946825472 solver.cpp:301] Test loss: 60.5021\r\n",
        "I0309 02:47:32.015833 1946825472 solver.cpp:314]     Test net output #0: cross_entropy_loss = 60.5021 (* 1 = 60.5021 loss)\r\n",
        "I0309 02:47:32.015842 1946825472 solver.cpp:314]     Test net output #1: l2_error = 2.02398\r\n"
       ]
      },
      {
       "output_type": "stream",
       "stream": "stdout",
       "text": [
        "I0309 02:47:32.038842 1946825472 solver.cpp:207] Iteration 35000, loss = 61.3105\r\n",
        "I0309 02:47:32.038889 1946825472 solver.cpp:222]     Train net output #0: cross_entropy_loss = 61.3105 (* 1 = 61.3105 loss)\r\n",
        "I0309 02:47:32.038898 1946825472 solver.cpp:222]     Train net output #1: l2_error = 2.04179\r\n",
        "I0309 02:47:32.038908 1946825472 solver.cpp:419] Iteration 35000, lr = 1e-05\r\n"
       ]
      },
      {
       "output_type": "stream",
       "stream": "stdout",
       "text": [
        "I0309 02:47:34.989711 1946825472 solver.cpp:207] Iteration 35100, loss = 64.3242\r\n",
        "I0309 02:47:34.989759 1946825472 solver.cpp:222]     Train net output #0: cross_entropy_loss = 64.3242 (* 1 = 64.3242 loss)\r\n",
        "I0309 02:47:34.989774 1946825472 solver.cpp:222]     Train net output #1: l2_error = 2.26108\r\n",
        "I0309 02:47:34.989786 1946825472 solver.cpp:419] Iteration 35100, lr = 1e-05\r\n"
       ]
      },
      {
       "output_type": "stream",
       "stream": "stdout",
       "text": [
        "I0309 02:47:37.952986 1946825472 solver.cpp:207] Iteration 35200, loss = 58.9587\r\n",
        "I0309 02:47:37.953029 1946825472 solver.cpp:222]     Train net output #0: cross_entropy_loss = 58.9587 (* 1 = 58.9587 loss)\r\n",
        "I0309 02:47:37.953075 1946825472 solver.cpp:222]     Train net output #1: l2_error = 1.91899\r\n",
        "I0309 02:47:37.953085 1946825472 solver.cpp:419] Iteration 35200, lr = 1e-05\r\n"
       ]
      },
      {
       "output_type": "stream",
       "stream": "stdout",
       "text": [
        "I0309 02:47:40.924052 1946825472 solver.cpp:207] Iteration 35300, loss = 57.8748\r\n",
        "I0309 02:47:40.924113 1946825472 solver.cpp:222]     Train net output #0: cross_entropy_loss = 57.8748 (* 1 = 57.8748 loss)\r\n",
        "I0309 02:47:40.924123 1946825472 solver.cpp:222]     Train net output #1: l2_error = 1.94462\r\n",
        "I0309 02:47:40.924130 1946825472 solver.cpp:419] Iteration 35300, lr = 1e-05\r\n"
       ]
      },
      {
       "output_type": "stream",
       "stream": "stdout",
       "text": [
        "I0309 02:47:43.874887 1946825472 solver.cpp:207] Iteration 35400, loss = 59.8073\r\n",
        "I0309 02:47:43.874932 1946825472 solver.cpp:222]     Train net output #0: cross_entropy_loss = 59.8073 (* 1 = 59.8073 loss)\r\n",
        "I0309 02:47:43.874940 1946825472 solver.cpp:222]     Train net output #1: l2_error = 1.87783\r\n",
        "I0309 02:47:43.874948 1946825472 solver.cpp:419] Iteration 35400, lr = 1e-05\r\n"
       ]
      },
      {
       "output_type": "stream",
       "stream": "stdout",
       "text": [
        "I0309 02:47:46.859457 1946825472 solver.cpp:263] Iteration 35500, Testing net (#0)\r\n"
       ]
      },
      {
       "output_type": "stream",
       "stream": "stdout",
       "text": [
        "I0309 02:47:53.332991 1946825472 solver.cpp:301] Test loss: 60.6052\r\n",
        "I0309 02:47:53.333034 1946825472 solver.cpp:314]     Test net output #0: cross_entropy_loss = 60.6052 (* 1 = 60.6052 loss)\r\n",
        "I0309 02:47:53.333042 1946825472 solver.cpp:314]     Test net output #1: l2_error = 1.99637\r\n",
        "I0309 02:47:53.333050 1946825472 solver.cpp:263] Iteration 35500, Testing net (#1)\r\n"
       ]
      },
      {
       "output_type": "stream",
       "stream": "stdout",
       "text": [
        "I0309 02:47:54.617465 1946825472 solver.cpp:301] Test loss: 60.5018\r\n",
        "I0309 02:47:54.617517 1946825472 solver.cpp:314]     Test net output #0: cross_entropy_loss = 60.5018 (* 1 = 60.5018 loss)\r\n",
        "I0309 02:47:54.617530 1946825472 solver.cpp:314]     Test net output #1: l2_error = 2.02387\r\n",
        "I0309 02:47:54.638957 1946825472 solver.cpp:207] Iteration 35500, loss = 61.1067\r\n",
        "I0309 02:47:54.638998 1946825472 solver.cpp:222]     Train net output #0: cross_entropy_loss = 61.1067 (* 1 = 61.1067 loss)\r\n",
        "I0309 02:47:54.639008 1946825472 solver.cpp:222]     Train net output #1: l2_error = 2.03656\r\n",
        "I0309 02:47:54.639015 1946825472 solver.cpp:419] Iteration 35500, lr = 1e-05\r\n"
       ]
      },
      {
       "output_type": "stream",
       "stream": "stdout",
       "text": [
        "I0309 02:47:57.582718 1946825472 solver.cpp:207] Iteration 35600, loss = 61.3099\r\n",
        "I0309 02:47:57.582759 1946825472 solver.cpp:222]     Train net output #0: cross_entropy_loss = 61.3099 (* 1 = 61.3099 loss)\r\n",
        "I0309 02:47:57.582769 1946825472 solver.cpp:222]     Train net output #1: l2_error = 2.04173\r\n",
        "I0309 02:47:57.582777 1946825472 solver.cpp:419] Iteration 35600, lr = 1e-05\r\n"
       ]
      },
      {
       "output_type": "stream",
       "stream": "stdout",
       "text": [
        "I0309 02:48:00.553843 1946825472 solver.cpp:207] Iteration 35700, loss = 64.3239\r\n",
        "I0309 02:48:00.553889 1946825472 solver.cpp:222]     Train net output #0: cross_entropy_loss = 64.3239 (* 1 = 64.3239 loss)\r\n",
        "I0309 02:48:00.553900 1946825472 solver.cpp:222]     Train net output #1: l2_error = 2.26102\r\n",
        "I0309 02:48:00.553907 1946825472 solver.cpp:419] Iteration 35700, lr = 1e-05\r\n"
       ]
      },
      {
       "output_type": "stream",
       "stream": "stdout",
       "text": [
        "I0309 02:48:03.438534 1946825472 solver.cpp:207] Iteration 35800, loss = 58.9585\r\n",
        "I0309 02:48:03.438578 1946825472 solver.cpp:222]     Train net output #0: cross_entropy_loss = 58.9585 (* 1 = 58.9585 loss)\r\n",
        "I0309 02:48:03.438587 1946825472 solver.cpp:222]     Train net output #1: l2_error = 1.91896\r\n",
        "I0309 02:48:03.438596 1946825472 solver.cpp:419] Iteration 35800, lr = 1e-05\r\n"
       ]
      },
      {
       "output_type": "stream",
       "stream": "stdout",
       "text": [
        "I0309 02:48:06.368773 1946825472 solver.cpp:207] Iteration 35900, loss = 57.8746\r\n",
        "I0309 02:48:06.368818 1946825472 solver.cpp:222]     Train net output #0: cross_entropy_loss = 57.8746 (* 1 = 57.8746 loss)\r\n",
        "I0309 02:48:06.368826 1946825472 solver.cpp:222]     Train net output #1: l2_error = 1.94459\r\n",
        "I0309 02:48:06.368834 1946825472 solver.cpp:419] Iteration 35900, lr = 1e-05\r\n"
       ]
      },
      {
       "output_type": "stream",
       "stream": "stdout",
       "text": [
        "I0309 02:48:09.251649 1946825472 solver.cpp:263] Iteration 36000, Testing net (#0)\r\n"
       ]
      },
      {
       "output_type": "stream",
       "stream": "stdout",
       "text": [
        "I0309 02:48:15.643174 1946825472 solver.cpp:301] Test loss: 60.534\r\n",
        "I0309 02:48:15.643251 1946825472 solver.cpp:314]     Test net output #0: cross_entropy_loss = 60.534 (* 1 = 60.534 loss)\r\n",
        "I0309 02:48:15.643260 1946825472 solver.cpp:314]     Test net output #1: l2_error = 1.99206\r\n",
        "I0309 02:48:15.643267 1946825472 solver.cpp:263] Iteration 36000, Testing net (#1)\r\n"
       ]
      },
      {
       "output_type": "stream",
       "stream": "stdout",
       "text": [
        "I0309 02:48:16.958607 1946825472 solver.cpp:301] Test loss: 60.5013\r\n",
        "I0309 02:48:16.958649 1946825472 solver.cpp:314]     Test net output #0: cross_entropy_loss = 60.5013 (* 1 = 60.5013 loss)\r\n",
        "I0309 02:48:16.958658 1946825472 solver.cpp:314]     Test net output #1: l2_error = 2.02368\r\n"
       ]
      },
      {
       "output_type": "stream",
       "stream": "stdout",
       "text": [
        "I0309 02:48:16.980875 1946825472 solver.cpp:207] Iteration 36000, loss = 59.8069\r\n",
        "I0309 02:48:16.980919 1946825472 solver.cpp:222]     Train net output #0: cross_entropy_loss = 59.8069 (* 1 = 59.8069 loss)\r\n",
        "I0309 02:48:16.980928 1946825472 solver.cpp:222]     Train net output #1: l2_error = 1.87778\r\n",
        "I0309 02:48:16.980937 1946825472 solver.cpp:419] Iteration 36000, lr = 1e-05\r\n"
       ]
      },
      {
       "output_type": "stream",
       "stream": "stdout",
       "text": [
        "I0309 02:48:19.914407 1946825472 solver.cpp:207] Iteration 36100, loss = 61.1063\r\n",
        "I0309 02:48:19.914451 1946825472 solver.cpp:222]     Train net output #0: cross_entropy_loss = 61.1063 (* 1 = 61.1063 loss)\r\n",
        "I0309 02:48:19.914460 1946825472 solver.cpp:222]     Train net output #1: l2_error = 2.0365\r\n",
        "I0309 02:48:19.914469 1946825472 solver.cpp:419] Iteration 36100, lr = 1e-05\r\n"
       ]
      },
      {
       "output_type": "stream",
       "stream": "stdout",
       "text": [
        "I0309 02:48:22.835582 1946825472 solver.cpp:207] Iteration 36200, loss = 61.3093\r\n",
        "I0309 02:48:22.835628 1946825472 solver.cpp:222]     Train net output #0: cross_entropy_loss = 61.3093 (* 1 = 61.3093 loss)\r\n",
        "I0309 02:48:22.835636 1946825472 solver.cpp:222]     Train net output #1: l2_error = 2.04167\r\n",
        "I0309 02:48:22.835644 1946825472 solver.cpp:419] Iteration 36200, lr = 1e-05\r\n"
       ]
      },
      {
       "output_type": "stream",
       "stream": "stdout",
       "text": [
        "I0309 02:48:25.768014 1946825472 solver.cpp:207] Iteration 36300, loss = 64.3234\r\n",
        "I0309 02:48:25.768059 1946825472 solver.cpp:222]     Train net output #0: cross_entropy_loss = 64.3234 (* 1 = 64.3234 loss)\r\n",
        "I0309 02:48:25.768067 1946825472 solver.cpp:222]     Train net output #1: l2_error = 2.26097\r\n",
        "I0309 02:48:25.768075 1946825472 solver.cpp:419] Iteration 36300, lr = 1e-05\r\n"
       ]
      },
      {
       "output_type": "stream",
       "stream": "stdout",
       "text": [
        "I0309 02:48:28.701308 1946825472 solver.cpp:207] Iteration 36400, loss = 58.9582\r\n",
        "I0309 02:48:28.701354 1946825472 solver.cpp:222]     Train net output #0: cross_entropy_loss = 58.9582 (* 1 = 58.9582 loss)\r\n",
        "I0309 02:48:28.701362 1946825472 solver.cpp:222]     Train net output #1: l2_error = 1.91893\r\n",
        "I0309 02:48:28.701371 1946825472 solver.cpp:419] Iteration 36400, lr = 1e-05\r\n"
       ]
      },
      {
       "output_type": "stream",
       "stream": "stdout",
       "text": [
        "I0309 02:48:31.574506 1946825472 solver.cpp:263] Iteration 36500, Testing net (#0)\r\n"
       ]
      },
      {
       "output_type": "stream",
       "stream": "stdout",
       "text": [
        "I0309 02:48:37.916651 1946825472 solver.cpp:301] Test loss: 60.4073\r\n",
        "I0309 02:48:37.916692 1946825472 solver.cpp:314]     Test net output #0: cross_entropy_loss = 60.4073 (* 1 = 60.4073 loss)\r\n",
        "I0309 02:48:37.916702 1946825472 solver.cpp:314]     Test net output #1: l2_error = 1.97597\r\n",
        "I0309 02:48:37.916707 1946825472 solver.cpp:263] Iteration 36500, Testing net (#1)\r\n"
       ]
      },
      {
       "output_type": "stream",
       "stream": "stdout",
       "text": [
        "I0309 02:48:39.216785 1946825472 solver.cpp:301] Test loss: 60.5009\r\n",
        "I0309 02:48:39.216828 1946825472 solver.cpp:314]     Test net output #0: cross_entropy_loss = 60.5009 (* 1 = 60.5009 loss)\r\n",
        "I0309 02:48:39.216837 1946825472 solver.cpp:314]     Test net output #1: l2_error = 2.02374\r\n"
       ]
      },
      {
       "output_type": "stream",
       "stream": "stdout",
       "text": [
        "I0309 02:48:39.238646 1946825472 solver.cpp:207] Iteration 36500, loss = 57.8743\r\n",
        "I0309 02:48:39.238692 1946825472 solver.cpp:222]     Train net output #0: cross_entropy_loss = 57.8743 (* 1 = 57.8743 loss)\r\n",
        "I0309 02:48:39.238700 1946825472 solver.cpp:222]     Train net output #1: l2_error = 1.94456\r\n",
        "I0309 02:48:39.238708 1946825472 solver.cpp:419] Iteration 36500, lr = 1e-05\r\n"
       ]
      },
      {
       "output_type": "stream",
       "stream": "stdout",
       "text": [
        "I0309 02:48:42.179384 1946825472 solver.cpp:207] Iteration 36600, loss = 59.8065\r\n",
        "I0309 02:48:42.179429 1946825472 solver.cpp:222]     Train net output #0: cross_entropy_loss = 59.8065 (* 1 = 59.8065 loss)\r\n",
        "I0309 02:48:42.179437 1946825472 solver.cpp:222]     Train net output #1: l2_error = 1.87774\r\n",
        "I0309 02:48:42.179445 1946825472 solver.cpp:419] Iteration 36600, lr = 1e-05\r\n"
       ]
      },
      {
       "output_type": "stream",
       "stream": "stdout",
       "text": [
        "I0309 02:48:45.075027 1946825472 solver.cpp:207] Iteration 36700, loss = 61.1058\r\n",
        "I0309 02:48:45.075081 1946825472 solver.cpp:222]     Train net output #0: cross_entropy_loss = 61.1058 (* 1 = 61.1058 loss)\r\n",
        "I0309 02:48:45.075145 1946825472 solver.cpp:222]     Train net output #1: l2_error = 2.03645\r\n",
        "I0309 02:48:45.075158 1946825472 solver.cpp:419] Iteration 36700, lr = 1e-05\r\n"
       ]
      },
      {
       "output_type": "stream",
       "stream": "stdout",
       "text": [
        "I0309 02:48:48.070791 1946825472 solver.cpp:207] Iteration 36800, loss = 61.3089\r\n",
        "I0309 02:48:48.070850 1946825472 solver.cpp:222]     Train net output #0: cross_entropy_loss = 61.3089 (* 1 = 61.3089 loss)\r\n",
        "I0309 02:48:48.070859 1946825472 solver.cpp:222]     Train net output #1: l2_error = 2.04161\r\n",
        "I0309 02:48:48.070868 1946825472 solver.cpp:419] Iteration 36800, lr = 1e-05\r\n"
       ]
      },
      {
       "output_type": "stream",
       "stream": "stdout",
       "text": [
        "I0309 02:48:51.049633 1946825472 solver.cpp:207] Iteration 36900, loss = 64.3229\r\n",
        "I0309 02:48:51.049679 1946825472 solver.cpp:222]     Train net output #0: cross_entropy_loss = 64.3229 (* 1 = 64.3229 loss)\r\n",
        "I0309 02:48:51.049687 1946825472 solver.cpp:222]     Train net output #1: l2_error = 2.26091\r\n",
        "I0309 02:48:51.049696 1946825472 solver.cpp:419] Iteration 36900, lr = 1e-05\r\n"
       ]
      },
      {
       "output_type": "stream",
       "stream": "stdout",
       "text": [
        "I0309 02:48:53.940194 1946825472 solver.cpp:263] Iteration 37000, Testing net (#0)\r\n"
       ]
      },
      {
       "output_type": "stream",
       "stream": "stdout",
       "text": [
        "I0309 02:49:00.318590 1946825472 solver.cpp:301] Test loss: 60.5432\r\n",
        "I0309 02:49:00.318632 1946825472 solver.cpp:314]     Test net output #0: cross_entropy_loss = 60.5432 (* 1 = 60.5432 loss)\r\n",
        "I0309 02:49:00.318641 1946825472 solver.cpp:314]     Test net output #1: l2_error = 1.98887\r\n",
        "I0309 02:49:00.318649 1946825472 solver.cpp:263] Iteration 37000, Testing net (#1)\r\n"
       ]
      },
      {
       "output_type": "stream",
       "stream": "stdout",
       "text": [
        "I0309 02:49:01.619619 1946825472 solver.cpp:301] Test loss: 60.5005\r\n",
        "I0309 02:49:01.619662 1946825472 solver.cpp:314]     Test net output #0: cross_entropy_loss = 60.5005 (* 1 = 60.5005 loss)\r\n",
        "I0309 02:49:01.619669 1946825472 solver.cpp:314]     Test net output #1: l2_error = 2.02359\r\n"
       ]
      },
      {
       "output_type": "stream",
       "stream": "stdout",
       "text": [
        "I0309 02:49:01.644387 1946825472 solver.cpp:207] Iteration 37000, loss = 58.9581\r\n",
        "I0309 02:49:01.644428 1946825472 solver.cpp:222]     Train net output #0: cross_entropy_loss = 58.9581 (* 1 = 58.9581 loss)\r\n",
        "I0309 02:49:01.644436 1946825472 solver.cpp:222]     Train net output #1: l2_error = 1.9189\r\n",
        "I0309 02:49:01.644444 1946825472 solver.cpp:419] Iteration 37000, lr = 1e-05\r\n"
       ]
      },
      {
       "output_type": "stream",
       "stream": "stdout",
       "text": [
        "I0309 02:49:04.546972 1946825472 solver.cpp:207] Iteration 37100, loss = 57.874\r\n",
        "I0309 02:49:04.547020 1946825472 solver.cpp:222]     Train net output #0: cross_entropy_loss = 57.874 (* 1 = 57.874 loss)\r\n",
        "I0309 02:49:04.547030 1946825472 solver.cpp:222]     Train net output #1: l2_error = 1.94452\r\n",
        "I0309 02:49:04.547056 1946825472 solver.cpp:419] Iteration 37100, lr = 1e-05\r\n"
       ]
      },
      {
       "output_type": "stream",
       "stream": "stdout",
       "text": [
        "I0309 02:49:07.425757 1946825472 solver.cpp:207] Iteration 37200, loss = 59.8062\r\n",
        "I0309 02:49:07.425802 1946825472 solver.cpp:222]     Train net output #0: cross_entropy_loss = 59.8062 (* 1 = 59.8062 loss)\r\n",
        "I0309 02:49:07.425812 1946825472 solver.cpp:222]     Train net output #1: l2_error = 1.8777\r\n",
        "I0309 02:49:07.425819 1946825472 solver.cpp:419] Iteration 37200, lr = 1e-05\r\n"
       ]
      },
      {
       "output_type": "stream",
       "stream": "stdout",
       "text": [
        "I0309 02:49:10.408897 1946825472 solver.cpp:207] Iteration 37300, loss = 61.1055\r\n",
        "I0309 02:49:10.408942 1946825472 solver.cpp:222]     Train net output #0: cross_entropy_loss = 61.1055 (* 1 = 61.1055 loss)\r\n",
        "I0309 02:49:10.408952 1946825472 solver.cpp:222]     Train net output #1: l2_error = 2.0364\r\n",
        "I0309 02:49:10.408962 1946825472 solver.cpp:419] Iteration 37300, lr = 1e-05\r\n"
       ]
      },
      {
       "output_type": "stream",
       "stream": "stdout",
       "text": [
        "I0309 02:49:13.329489 1946825472 solver.cpp:207] Iteration 37400, loss = 61.3086\r\n",
        "I0309 02:49:13.329534 1946825472 solver.cpp:222]     Train net output #0: cross_entropy_loss = 61.3086 (* 1 = 61.3086 loss)\r\n",
        "I0309 02:49:13.329542 1946825472 solver.cpp:222]     Train net output #1: l2_error = 2.04155\r\n",
        "I0309 02:49:13.329550 1946825472 solver.cpp:419] Iteration 37400, lr = 1e-05\r\n"
       ]
      },
      {
       "output_type": "stream",
       "stream": "stdout",
       "text": [
        "I0309 02:49:16.222605 1946825472 solver.cpp:263] Iteration 37500, Testing net (#0)\r\n"
       ]
      },
      {
       "output_type": "stream",
       "stream": "stdout",
       "text": [
        "I0309 02:49:22.644810 1946825472 solver.cpp:301] Test loss: 60.6319\r\n",
        "I0309 02:49:22.644870 1946825472 solver.cpp:314]     Test net output #0: cross_entropy_loss = 60.6319 (* 1 = 60.6319 loss)\r\n",
        "I0309 02:49:22.644879 1946825472 solver.cpp:314]     Test net output #1: l2_error = 1.99391\r\n",
        "I0309 02:49:22.644886 1946825472 solver.cpp:263] Iteration 37500, Testing net (#1)\r\n"
       ]
      },
      {
       "output_type": "stream",
       "stream": "stdout",
       "text": [
        "I0309 02:49:23.909389 1946825472 solver.cpp:301] Test loss: 60.5003\r\n",
        "I0309 02:49:23.909430 1946825472 solver.cpp:314]     Test net output #0: cross_entropy_loss = 60.5003 (* 1 = 60.5003 loss)\r\n",
        "I0309 02:49:23.909440 1946825472 solver.cpp:314]     Test net output #1: l2_error = 2.02396\r\n",
        "I0309 02:49:23.930871 1946825472 solver.cpp:207] Iteration 37500, loss = 64.3224\r\n",
        "I0309 02:49:23.930913 1946825472 solver.cpp:222]     Train net output #0: cross_entropy_loss = 64.3224 (* 1 = 64.3224 loss)\r\n",
        "I0309 02:49:23.930922 1946825472 solver.cpp:222]     Train net output #1: l2_error = 2.26086\r\n",
        "I0309 02:49:23.930930 1946825472 solver.cpp:419] Iteration 37500, lr = 1e-05\r\n"
       ]
      },
      {
       "output_type": "stream",
       "stream": "stdout",
       "text": [
        "I0309 02:49:26.811945 1946825472 solver.cpp:207] Iteration 37600, loss = 58.9578\r\n",
        "I0309 02:49:26.811990 1946825472 solver.cpp:222]     Train net output #0: cross_entropy_loss = 58.9578 (* 1 = 58.9578 loss)\r\n",
        "I0309 02:49:26.812000 1946825472 solver.cpp:222]     Train net output #1: l2_error = 1.91887\r\n",
        "I0309 02:49:26.812007 1946825472 solver.cpp:419] Iteration 37600, lr = 1e-05\r\n"
       ]
      },
      {
       "output_type": "stream",
       "stream": "stdout",
       "text": [
        "I0309 02:49:29.799607 1946825472 solver.cpp:207] Iteration 37700, loss = 57.8737\r\n",
        "I0309 02:49:29.799651 1946825472 solver.cpp:222]     Train net output #0: cross_entropy_loss = 57.8737 (* 1 = 57.8737 loss)\r\n",
        "I0309 02:49:29.799661 1946825472 solver.cpp:222]     Train net output #1: l2_error = 1.94448\r\n",
        "I0309 02:49:29.799670 1946825472 solver.cpp:419] Iteration 37700, lr = 1e-05\r\n"
       ]
      },
      {
       "output_type": "stream",
       "stream": "stdout",
       "text": [
        "I0309 02:49:32.706838 1946825472 solver.cpp:207] Iteration 37800, loss = 59.8059\r\n",
        "I0309 02:49:32.706881 1946825472 solver.cpp:222]     Train net output #0: cross_entropy_loss = 59.8059 (* 1 = 59.8059 loss)\r\n",
        "I0309 02:49:32.706890 1946825472 solver.cpp:222]     Train net output #1: l2_error = 1.87765\r\n",
        "I0309 02:49:32.706898 1946825472 solver.cpp:419] Iteration 37800, lr = 1e-05\r\n"
       ]
      },
      {
       "output_type": "stream",
       "stream": "stdout",
       "text": [
        "I0309 02:49:35.628763 1946825472 solver.cpp:207] Iteration 37900, loss = 61.1053\r\n",
        "I0309 02:49:35.628808 1946825472 solver.cpp:222]     Train net output #0: cross_entropy_loss = 61.1053 (* 1 = 61.1053 loss)\r\n",
        "I0309 02:49:35.628816 1946825472 solver.cpp:222]     Train net output #1: l2_error = 2.03635\r\n",
        "I0309 02:49:35.628824 1946825472 solver.cpp:419] Iteration 37900, lr = 1e-05\r\n"
       ]
      },
      {
       "output_type": "stream",
       "stream": "stdout",
       "text": [
        "I0309 02:49:38.530082 1946825472 solver.cpp:263] Iteration 38000, Testing net (#0)\r\n"
       ]
      },
      {
       "output_type": "stream",
       "stream": "stdout",
       "text": [
        "I0309 02:49:44.924062 1946825472 solver.cpp:301] Test loss: 60.6331\r\n",
        "I0309 02:49:44.924103 1946825472 solver.cpp:314]     Test net output #0: cross_entropy_loss = 60.6331 (* 1 = 60.6331 loss)\r\n",
        "I0309 02:49:44.924111 1946825472 solver.cpp:314]     Test net output #1: l2_error = 1.99469\r\n",
        "I0309 02:49:44.924126 1946825472 solver.cpp:263] Iteration 38000, Testing net (#1)\r\n"
       ]
      },
      {
       "output_type": "stream",
       "stream": "stdout",
       "text": [
        "I0309 02:49:46.229534 1946825472 solver.cpp:301] Test loss: 60.5006\r\n",
        "I0309 02:49:46.229576 1946825472 solver.cpp:314]     Test net output #0: cross_entropy_loss = 60.5006 (* 1 = 60.5006 loss)\r\n",
        "I0309 02:49:46.229584 1946825472 solver.cpp:314]     Test net output #1: l2_error = 2.02377\r\n",
        "I0309 02:49:46.250931 1946825472 solver.cpp:207] Iteration 38000, loss = 61.3082\r\n",
        "I0309 02:49:46.250973 1946825472 solver.cpp:222]     Train net output #0: cross_entropy_loss = 61.3082 (* 1 = 61.3082 loss)\r\n",
        "I0309 02:49:46.250982 1946825472 solver.cpp:222]     Train net output #1: l2_error = 2.04149\r\n",
        "I0309 02:49:46.250990 1946825472 solver.cpp:419] Iteration 38000, lr = 1e-05\r\n"
       ]
      },
      {
       "output_type": "stream",
       "stream": "stdout",
       "text": [
        "I0309 02:49:49.170879 1946825472 solver.cpp:207] Iteration 38100, loss = 64.322\r\n",
        "I0309 02:49:49.170924 1946825472 solver.cpp:222]     Train net output #0: cross_entropy_loss = 64.322 (* 1 = 64.322 loss)\r\n",
        "I0309 02:49:49.170933 1946825472 solver.cpp:222]     Train net output #1: l2_error = 2.26081\r\n",
        "I0309 02:49:49.170943 1946825472 solver.cpp:419] Iteration 38100, lr = 1e-05\r\n"
       ]
      },
      {
       "output_type": "stream",
       "stream": "stdout",
       "text": [
        "I0309 02:49:52.164096 1946825472 solver.cpp:207] Iteration 38200, loss = 58.9575\r\n",
        "I0309 02:49:52.164139 1946825472 solver.cpp:222]     Train net output #0: cross_entropy_loss = 58.9575 (* 1 = 58.9575 loss)\r\n",
        "I0309 02:49:52.164185 1946825472 solver.cpp:222]     Train net output #1: l2_error = 1.91884\r\n",
        "I0309 02:49:52.164193 1946825472 solver.cpp:419] Iteration 38200, lr = 1e-05\r\n"
       ]
      },
      {
       "output_type": "stream",
       "stream": "stdout",
       "text": [
        "I0309 02:49:55.051626 1946825472 solver.cpp:207] Iteration 38300, loss = 57.8735\r\n",
        "I0309 02:49:55.051687 1946825472 solver.cpp:222]     Train net output #0: cross_entropy_loss = 57.8735 (* 1 = 57.8735 loss)\r\n",
        "I0309 02:49:55.051697 1946825472 solver.cpp:222]     Train net output #1: l2_error = 1.94445\r\n",
        "I0309 02:49:55.051704 1946825472 solver.cpp:419] Iteration 38300, lr = 1e-05\r\n"
       ]
      },
      {
       "output_type": "stream",
       "stream": "stdout",
       "text": [
        "I0309 02:49:58.012599 1946825472 solver.cpp:207] Iteration 38400, loss = 59.8056\r\n",
        "I0309 02:49:58.012645 1946825472 solver.cpp:222]     Train net output #0: cross_entropy_loss = 59.8056 (* 1 = 59.8056 loss)\r\n",
        "I0309 02:49:58.012653 1946825472 solver.cpp:222]     Train net output #1: l2_error = 1.87761\r\n",
        "I0309 02:49:58.012662 1946825472 solver.cpp:419] Iteration 38400, lr = 1e-05\r\n"
       ]
      },
      {
       "output_type": "stream",
       "stream": "stdout",
       "text": [
        "I0309 02:50:00.876878 1946825472 solver.cpp:263] Iteration 38500, Testing net (#0)\r\n"
       ]
      },
      {
       "output_type": "stream",
       "stream": "stdout",
       "text": [
        "I0309 02:50:07.237373 1946825472 solver.cpp:301] Test loss: 60.6037\r\n",
        "I0309 02:50:07.237414 1946825472 solver.cpp:314]     Test net output #0: cross_entropy_loss = 60.6037 (* 1 = 60.6037 loss)\r\n",
        "I0309 02:50:07.237422 1946825472 solver.cpp:314]     Test net output #1: l2_error = 1.99617\r\n",
        "I0309 02:50:07.237429 1946825472 solver.cpp:263] Iteration 38500, Testing net (#1)\r\n"
       ]
      },
      {
       "output_type": "stream",
       "stream": "stdout",
       "text": [
        "I0309 02:50:08.521848 1946825472 solver.cpp:301] Test loss: 60.5003\r\n",
        "I0309 02:50:08.521890 1946825472 solver.cpp:314]     Test net output #0: cross_entropy_loss = 60.5003 (* 1 = 60.5003 loss)\r\n",
        "I0309 02:50:08.521899 1946825472 solver.cpp:314]     Test net output #1: l2_error = 2.02367\r\n",
        "I0309 02:50:08.543406 1946825472 solver.cpp:207] Iteration 38500, loss = 61.1049\r\n",
        "I0309 02:50:08.543449 1946825472 solver.cpp:222]     Train net output #0: cross_entropy_loss = 61.1049 (* 1 = 61.1049 loss)\r\n",
        "I0309 02:50:08.543458 1946825472 solver.cpp:222]     Train net output #1: l2_error = 2.0363\r\n",
        "I0309 02:50:08.543467 1946825472 solver.cpp:419] Iteration 38500, lr = 1e-05\r\n"
       ]
      },
      {
       "output_type": "stream",
       "stream": "stdout",
       "text": [
        "I0309 02:50:11.503691 1946825472 solver.cpp:207] Iteration 38600, loss = 61.3077\r\n",
        "I0309 02:50:11.503737 1946825472 solver.cpp:222]     Train net output #0: cross_entropy_loss = 61.3077 (* 1 = 61.3077 loss)\r\n",
        "I0309 02:50:11.503746 1946825472 solver.cpp:222]     Train net output #1: l2_error = 2.04144\r\n",
        "I0309 02:50:11.503754 1946825472 solver.cpp:419] Iteration 38600, lr = 1e-05\r\n"
       ]
      },
      {
       "output_type": "stream",
       "stream": "stdout",
       "text": [
        "I0309 02:50:14.390909 1946825472 solver.cpp:207] Iteration 38700, loss = 64.3217\r\n",
        "I0309 02:50:14.390955 1946825472 solver.cpp:222]     Train net output #0: cross_entropy_loss = 64.3217 (* 1 = 64.3217 loss)\r\n",
        "I0309 02:50:14.390964 1946825472 solver.cpp:222]     Train net output #1: l2_error = 2.26075\r\n",
        "I0309 02:50:14.390972 1946825472 solver.cpp:419] Iteration 38700, lr = 1e-05\r\n"
       ]
      },
      {
       "output_type": "stream",
       "stream": "stdout",
       "text": [
        "I0309 02:50:17.371729 1946825472 solver.cpp:207] Iteration 38800, loss = 58.9572\r\n",
        "I0309 02:50:17.371773 1946825472 solver.cpp:222]     Train net output #0: cross_entropy_loss = 58.9572 (* 1 = 58.9572 loss)\r\n",
        "I0309 02:50:17.371781 1946825472 solver.cpp:222]     Train net output #1: l2_error = 1.9188\r\n",
        "I0309 02:50:17.371789 1946825472 solver.cpp:419] Iteration 38800, lr = 1e-05\r\n"
       ]
      },
      {
       "output_type": "stream",
       "stream": "stdout",
       "text": [
        "I0309 02:50:20.253947 1946825472 solver.cpp:207] Iteration 38900, loss = 57.8732\r\n",
        "I0309 02:50:20.253991 1946825472 solver.cpp:222]     Train net output #0: cross_entropy_loss = 57.8732 (* 1 = 57.8732 loss)\r\n",
        "I0309 02:50:20.254000 1946825472 solver.cpp:222]     Train net output #1: l2_error = 1.94441\r\n",
        "I0309 02:50:20.254009 1946825472 solver.cpp:419] Iteration 38900, lr = 1e-05\r\n"
       ]
      },
      {
       "output_type": "stream",
       "stream": "stdout",
       "text": [
        "I0309 02:50:23.150516 1946825472 solver.cpp:263] Iteration 39000, Testing net (#0)\r\n"
       ]
      },
      {
       "output_type": "stream",
       "stream": "stdout",
       "text": [
        "I0309 02:50:29.490797 1946825472 solver.cpp:301] Test loss: 60.5324\r\n",
        "I0309 02:50:29.490880 1946825472 solver.cpp:314]     Test net output #0: cross_entropy_loss = 60.5324 (* 1 = 60.5324 loss)\r\n",
        "I0309 02:50:29.490890 1946825472 solver.cpp:314]     Test net output #1: l2_error = 1.99183\r\n",
        "I0309 02:50:29.490897 1946825472 solver.cpp:263] Iteration 39000, Testing net (#1)\r\n"
       ]
      },
      {
       "output_type": "stream",
       "stream": "stdout",
       "text": [
        "I0309 02:50:30.760459 1946825472 solver.cpp:301] Test loss: 60.4999\r\n",
        "I0309 02:50:30.760503 1946825472 solver.cpp:314]     Test net output #0: cross_entropy_loss = 60.4999 (* 1 = 60.4999 loss)\r\n",
        "I0309 02:50:30.760510 1946825472 solver.cpp:314]     Test net output #1: l2_error = 2.02348\r\n",
        "I0309 02:50:30.781800 1946825472 solver.cpp:207] Iteration 39000, loss = 59.8053\r\n",
        "I0309 02:50:30.781844 1946825472 solver.cpp:222]     Train net output #0: cross_entropy_loss = 59.8053 (* 1 = 59.8053 loss)\r\n",
        "I0309 02:50:30.781852 1946825472 solver.cpp:222]     Train net output #1: l2_error = 1.87757\r\n",
        "I0309 02:50:30.781860 1946825472 solver.cpp:419] Iteration 39000, lr = 1e-05\r\n"
       ]
      },
      {
       "output_type": "stream",
       "stream": "stdout",
       "text": [
        "I0309 02:50:33.693806 1946825472 solver.cpp:207] Iteration 39100, loss = 61.1045\r\n",
        "I0309 02:50:33.693850 1946825472 solver.cpp:222]     Train net output #0: cross_entropy_loss = 61.1045 (* 1 = 61.1045 loss)\r\n",
        "I0309 02:50:33.693858 1946825472 solver.cpp:222]     Train net output #1: l2_error = 2.03625\r\n",
        "I0309 02:50:33.693867 1946825472 solver.cpp:419] Iteration 39100, lr = 1e-05\r\n"
       ]
      },
      {
       "output_type": "stream",
       "stream": "stdout",
       "text": [
        "I0309 02:50:36.600791 1946825472 solver.cpp:207] Iteration 39200, loss = 61.3072\r\n",
        "I0309 02:50:36.600836 1946825472 solver.cpp:222]     Train net output #0: cross_entropy_loss = 61.3072 (* 1 = 61.3072 loss)\r\n",
        "I0309 02:50:36.600846 1946825472 solver.cpp:222]     Train net output #1: l2_error = 2.04138\r\n",
        "I0309 02:50:36.600853 1946825472 solver.cpp:419] Iteration 39200, lr = 1e-05\r\n"
       ]
      },
      {
       "output_type": "stream",
       "stream": "stdout",
       "text": [
        "I0309 02:50:39.551595 1946825472 solver.cpp:207] Iteration 39300, loss = 64.3214\r\n",
        "I0309 02:50:39.551641 1946825472 solver.cpp:222]     Train net output #0: cross_entropy_loss = 64.3214 (* 1 = 64.3214 loss)\r\n",
        "I0309 02:50:39.551651 1946825472 solver.cpp:222]     Train net output #1: l2_error = 2.2607\r\n",
        "I0309 02:50:39.551658 1946825472 solver.cpp:419] Iteration 39300, lr = 1e-05\r\n"
       ]
      },
      {
       "output_type": "stream",
       "stream": "stdout",
       "text": [
        "I0309 02:50:42.447943 1946825472 solver.cpp:207] Iteration 39400, loss = 58.9569\r\n",
        "I0309 02:50:42.447988 1946825472 solver.cpp:222]     Train net output #0: cross_entropy_loss = 58.9569 (* 1 = 58.9569 loss)\r\n",
        "I0309 02:50:42.447996 1946825472 solver.cpp:222]     Train net output #1: l2_error = 1.91877\r\n",
        "I0309 02:50:42.448005 1946825472 solver.cpp:419] Iteration 39400, lr = 1e-05\r\n"
       ]
      },
      {
       "output_type": "stream",
       "stream": "stdout",
       "text": [
        "I0309 02:50:45.357945 1946825472 solver.cpp:263] Iteration 39500, Testing net (#0)\r\n"
       ]
      },
      {
       "output_type": "stream",
       "stream": "stdout",
       "text": [
        "I0309 02:50:51.817701 1946825472 solver.cpp:301] Test loss: 60.4058\r\n",
        "I0309 02:50:51.817739 1946825472 solver.cpp:314]     Test net output #0: cross_entropy_loss = 60.4058 (* 1 = 60.4058 loss)\r\n",
        "I0309 02:50:51.817749 1946825472 solver.cpp:314]     Test net output #1: l2_error = 1.97575\r\n",
        "I0309 02:50:51.817754 1946825472 solver.cpp:263] Iteration 39500, Testing net (#1)\r\n"
       ]
      },
      {
       "output_type": "stream",
       "stream": "stdout",
       "text": [
        "I0309 02:50:53.113379 1946825472 solver.cpp:301] Test loss: 60.4994\r\n",
        "I0309 02:50:53.113421 1946825472 solver.cpp:314]     Test net output #0: cross_entropy_loss = 60.4994 (* 1 = 60.4994 loss)\r\n",
        "I0309 02:50:53.113430 1946825472 solver.cpp:314]     Test net output #1: l2_error = 2.02354\r\n",
        "I0309 02:50:53.134857 1946825472 solver.cpp:207] Iteration 39500, loss = 57.873\r\n",
        "I0309 02:50:53.134902 1946825472 solver.cpp:222]     Train net output #0: cross_entropy_loss = 57.873 (* 1 = 57.873 loss)\r\n",
        "I0309 02:50:53.134910 1946825472 solver.cpp:222]     Train net output #1: l2_error = 1.94437\r\n",
        "I0309 02:50:53.134918 1946825472 solver.cpp:419] Iteration 39500, lr = 1e-05\r\n"
       ]
      },
      {
       "output_type": "stream",
       "stream": "stdout",
       "text": [
        "I0309 02:50:56.013663 1946825472 solver.cpp:207] Iteration 39600, loss = 59.805\r\n",
        "I0309 02:50:56.013711 1946825472 solver.cpp:222]     Train net output #0: cross_entropy_loss = 59.805 (* 1 = 59.805 loss)\r\n",
        "I0309 02:50:56.013731 1946825472 solver.cpp:222]     Train net output #1: l2_error = 1.87753\r\n",
        "I0309 02:50:56.013741 1946825472 solver.cpp:419] Iteration 39600, lr = 1e-05\r\n"
       ]
      },
      {
       "output_type": "stream",
       "stream": "stdout",
       "text": [
        "I0309 02:50:59.045905 1946825472 solver.cpp:207] Iteration 39700, loss = 61.1042\r\n",
        "I0309 02:50:59.045949 1946825472 solver.cpp:222]     Train net output #0: cross_entropy_loss = 61.1042 (* 1 = 61.1042 loss)\r\n",
        "I0309 02:50:59.045995 1946825472 solver.cpp:222]     Train net output #1: l2_error = 2.03621\r\n",
        "I0309 02:50:59.046005 1946825472 solver.cpp:419] Iteration 39700, lr = 1e-05\r\n"
       ]
      },
      {
       "output_type": "stream",
       "stream": "stdout",
       "text": [
        "I0309 02:51:01.976830 1946825472 solver.cpp:207] Iteration 39800, loss = 61.3068\r\n",
        "I0309 02:51:01.976891 1946825472 solver.cpp:222]     Train net output #0: cross_entropy_loss = 61.3068 (* 1 = 61.3068 loss)\r\n",
        "I0309 02:51:01.976899 1946825472 solver.cpp:222]     Train net output #1: l2_error = 2.04132\r\n",
        "I0309 02:51:01.976907 1946825472 solver.cpp:419] Iteration 39800, lr = 1e-05\r\n"
       ]
      },
      {
       "output_type": "stream",
       "stream": "stdout",
       "text": [
        "I0309 02:51:04.883478 1946825472 solver.cpp:207] Iteration 39900, loss = 64.321\r\n",
        "I0309 02:51:04.883522 1946825472 solver.cpp:222]     Train net output #0: cross_entropy_loss = 64.321 (* 1 = 64.321 loss)\r\n",
        "I0309 02:51:04.883530 1946825472 solver.cpp:222]     Train net output #1: l2_error = 2.26065\r\n",
        "I0309 02:51:04.883539 1946825472 solver.cpp:419] Iteration 39900, lr = 1e-05\r\n"
       ]
      },
      {
       "output_type": "stream",
       "stream": "stdout",
       "text": [
        "I0309 02:51:07.812232 1946825472 solver.cpp:333] Snapshotting to examples/mnist/mnist_autoencoder_iter_40000.caffemodel\r\n"
       ]
      },
      {
       "output_type": "stream",
       "stream": "stdout",
       "text": [
        "I0309 02:51:07.892855 1946825472 solver.cpp:340] Snapshotting solver state to examples/mnist/mnist_autoencoder_iter_40000.solverstate\r\n"
       ]
      },
      {
       "output_type": "stream",
       "stream": "stdout",
       "text": [
        "I0309 02:51:07.953176 1946825472 solver.cpp:263] Iteration 40000, Testing net (#0)\r\n"
       ]
      },
      {
       "output_type": "stream",
       "stream": "stdout",
       "text": [
        "I0309 02:51:14.346000 1946825472 solver.cpp:301] Test loss: 60.5417\r\n",
        "I0309 02:51:14.346045 1946825472 solver.cpp:314]     Test net output #0: cross_entropy_loss = 60.5417 (* 1 = 60.5417 loss)\r\n",
        "I0309 02:51:14.346053 1946825472 solver.cpp:314]     Test net output #1: l2_error = 1.98866\r\n",
        "I0309 02:51:14.346060 1946825472 solver.cpp:263] Iteration 40000, Testing net (#1)\r\n"
       ]
      },
      {
       "output_type": "stream",
       "stream": "stdout",
       "text": [
        "I0309 02:51:15.617144 1946825472 solver.cpp:301] Test loss: 60.499\r\n",
        "I0309 02:51:15.617187 1946825472 solver.cpp:314]     Test net output #0: cross_entropy_loss = 60.499 (* 1 = 60.499 loss)\r\n",
        "I0309 02:51:15.617197 1946825472 solver.cpp:314]     Test net output #1: l2_error = 2.02339\r\n",
        "I0309 02:51:15.640223 1946825472 solver.cpp:207] Iteration 40000, loss = 58.9567\r\n",
        "I0309 02:51:15.640266 1946825472 solver.cpp:222]     Train net output #0: cross_entropy_loss = 58.9567 (* 1 = 58.9567 loss)\r\n",
        "I0309 02:51:15.640275 1946825472 solver.cpp:222]     Train net output #1: l2_error = 1.91873\r\n",
        "I0309 02:51:15.640283 1946825472 solver.cpp:419] Iteration 40000, lr = 1e-06\r\n"
       ]
      },
      {
       "output_type": "stream",
       "stream": "stdout",
       "text": [
        "I0309 02:51:18.554595 1946825472 solver.cpp:207] Iteration 40100, loss = 57.8717\r\n",
        "I0309 02:51:18.554641 1946825472 solver.cpp:222]     Train net output #0: cross_entropy_loss = 57.8717 (* 1 = 57.8717 loss)\r\n",
        "I0309 02:51:18.554651 1946825472 solver.cpp:222]     Train net output #1: l2_error = 1.9441\r\n",
        "I0309 02:51:18.554658 1946825472 solver.cpp:419] Iteration 40100, lr = 1e-06\r\n"
       ]
      },
      {
       "output_type": "stream",
       "stream": "stdout",
       "text": [
        "I0309 02:51:21.511369 1946825472 solver.cpp:207] Iteration 40200, loss = 59.8035\r\n",
        "I0309 02:51:21.511415 1946825472 solver.cpp:222]     Train net output #0: cross_entropy_loss = 59.8035 (* 1 = 59.8035 loss)\r\n",
        "I0309 02:51:21.511423 1946825472 solver.cpp:222]     Train net output #1: l2_error = 1.87744\r\n",
        "I0309 02:51:21.511431 1946825472 solver.cpp:419] Iteration 40200, lr = 1e-06\r\n"
       ]
      },
      {
       "output_type": "stream",
       "stream": "stdout",
       "text": [
        "I0309 02:51:24.459200 1946825472 solver.cpp:207] Iteration 40300, loss = 61.104\r\n",
        "I0309 02:51:24.459244 1946825472 solver.cpp:222]     Train net output #0: cross_entropy_loss = 61.104 (* 1 = 61.104 loss)\r\n",
        "I0309 02:51:24.459252 1946825472 solver.cpp:222]     Train net output #1: l2_error = 2.03628\r\n",
        "I0309 02:51:24.459261 1946825472 solver.cpp:419] Iteration 40300, lr = 1e-06\r\n"
       ]
      },
      {
       "output_type": "stream",
       "stream": "stdout",
       "text": [
        "I0309 02:51:27.356662 1946825472 solver.cpp:207] Iteration 40400, loss = 61.3039\r\n",
        "I0309 02:51:27.356708 1946825472 solver.cpp:222]     Train net output #0: cross_entropy_loss = 61.3039 (* 1 = 61.3039 loss)\r\n",
        "I0309 02:51:27.356717 1946825472 solver.cpp:222]     Train net output #1: l2_error = 2.04088\r\n",
        "I0309 02:51:27.356725 1946825472 solver.cpp:419] Iteration 40400, lr = 1e-06\r\n"
       ]
      },
      {
       "output_type": "stream",
       "stream": "stdout",
       "text": [
        "I0309 02:51:30.245401 1946825472 solver.cpp:263] Iteration 40500, Testing net (#0)\r\n"
       ]
      },
      {
       "output_type": "stream",
       "stream": "stdout",
       "text": [
        "I0309 02:51:36.789758 1946825472 solver.cpp:301] Test loss: 60.6301\r\n",
        "I0309 02:51:36.789832 1946825472 solver.cpp:314]     Test net output #0: cross_entropy_loss = 60.6301 (* 1 = 60.6301 loss)\r\n",
        "I0309 02:51:36.789841 1946825472 solver.cpp:314]     Test net output #1: l2_error = 1.9934\r\n",
        "I0309 02:51:36.789849 1946825472 solver.cpp:263] Iteration 40500, Testing net (#1)\r\n"
       ]
      },
      {
       "output_type": "stream",
       "stream": "stdout",
       "text": [
        "I0309 02:51:38.061686 1946825472 solver.cpp:301] Test loss: 60.4989\r\n",
        "I0309 02:51:38.061728 1946825472 solver.cpp:314]     Test net output #0: cross_entropy_loss = 60.4989 (* 1 = 60.4989 loss)\r\n",
        "I0309 02:51:38.061738 1946825472 solver.cpp:314]     Test net output #1: l2_error = 2.02349\r\n"
       ]
      },
      {
       "output_type": "stream",
       "stream": "stdout",
       "text": [
        "I0309 02:51:38.084450 1946825472 solver.cpp:207] Iteration 40500, loss = 64.3175\r\n",
        "I0309 02:51:38.084493 1946825472 solver.cpp:222]     Train net output #0: cross_entropy_loss = 64.3175 (* 1 = 64.3175 loss)\r\n",
        "I0309 02:51:38.084502 1946825472 solver.cpp:222]     Train net output #1: l2_error = 2.25973\r\n",
        "I0309 02:51:38.084511 1946825472 solver.cpp:419] Iteration 40500, lr = 1e-06\r\n"
       ]
      },
      {
       "output_type": "stream",
       "stream": "stdout",
       "text": [
        "I0309 02:51:41.034899 1946825472 solver.cpp:207] Iteration 40600, loss = 58.9557\r\n",
        "I0309 02:51:41.034941 1946825472 solver.cpp:222]     Train net output #0: cross_entropy_loss = 58.9557 (* 1 = 58.9557 loss)\r\n",
        "I0309 02:51:41.034950 1946825472 solver.cpp:222]     Train net output #1: l2_error = 1.91864\r\n",
        "I0309 02:51:41.034958 1946825472 solver.cpp:419] Iteration 40600, lr = 1e-06\r\n"
       ]
      },
      {
       "output_type": "stream",
       "stream": "stdout",
       "text": [
        "I0309 02:51:44.014747 1946825472 solver.cpp:207] Iteration 40700, loss = 57.8718\r\n",
        "I0309 02:51:44.014791 1946825472 solver.cpp:222]     Train net output #0: cross_entropy_loss = 57.8718 (* 1 = 57.8718 loss)\r\n",
        "I0309 02:51:44.014801 1946825472 solver.cpp:222]     Train net output #1: l2_error = 1.94413\r\n",
        "I0309 02:51:44.014811 1946825472 solver.cpp:419] Iteration 40700, lr = 1e-06\r\n"
       ]
      },
      {
       "output_type": "stream",
       "stream": "stdout",
       "text": [
        "I0309 02:51:47.040848 1946825472 solver.cpp:207] Iteration 40800, loss = 59.8033\r\n",
        "I0309 02:51:47.040891 1946825472 solver.cpp:222]     Train net output #0: cross_entropy_loss = 59.8033 (* 1 = 59.8033 loss)\r\n",
        "I0309 02:51:47.040900 1946825472 solver.cpp:222]     Train net output #1: l2_error = 1.87746\r\n",
        "I0309 02:51:47.040910 1946825472 solver.cpp:419] Iteration 40800, lr = 1e-06\r\n"
       ]
      },
      {
       "output_type": "stream",
       "stream": "stdout",
       "text": [
        "I0309 02:51:50.024034 1946825472 solver.cpp:207] Iteration 40900, loss = 61.1039\r\n",
        "I0309 02:51:50.024078 1946825472 solver.cpp:222]     Train net output #0: cross_entropy_loss = 61.1039 (* 1 = 61.1039 loss)\r\n",
        "I0309 02:51:50.024087 1946825472 solver.cpp:222]     Train net output #1: l2_error = 2.0362\r\n",
        "I0309 02:51:50.024096 1946825472 solver.cpp:419] Iteration 40900, lr = 1e-06\r\n"
       ]
      },
      {
       "output_type": "stream",
       "stream": "stdout",
       "text": [
        "I0309 02:51:52.963395 1946825472 solver.cpp:263] Iteration 41000, Testing net (#0)\r\n"
       ]
      },
      {
       "output_type": "stream",
       "stream": "stdout",
       "text": [
        "I0309 02:51:59.361335 1946825472 solver.cpp:301] Test loss: 60.6314\r\n",
        "I0309 02:51:59.361377 1946825472 solver.cpp:314]     Test net output #0: cross_entropy_loss = 60.6314 (* 1 = 60.6314 loss)\r\n",
        "I0309 02:51:59.361385 1946825472 solver.cpp:314]     Test net output #1: l2_error = 1.99436\r\n",
        "I0309 02:51:59.361392 1946825472 solver.cpp:263] Iteration 41000, Testing net (#1)\r\n"
       ]
      },
      {
       "output_type": "stream",
       "stream": "stdout",
       "text": [
        "I0309 02:52:00.622575 1946825472 solver.cpp:301] Test loss: 60.4989\r\n",
        "I0309 02:52:00.622620 1946825472 solver.cpp:314]     Test net output #0: cross_entropy_loss = 60.4989 (* 1 = 60.4989 loss)\r\n",
        "I0309 02:52:00.622638 1946825472 solver.cpp:314]     Test net output #1: l2_error = 2.02344\r\n"
       ]
      },
      {
       "output_type": "stream",
       "stream": "stdout",
       "text": [
        "I0309 02:52:00.644017 1946825472 solver.cpp:207] Iteration 41000, loss = 61.3041\r\n",
        "I0309 02:52:00.644062 1946825472 solver.cpp:222]     Train net output #0: cross_entropy_loss = 61.3041 (* 1 = 61.3041 loss)\r\n",
        "I0309 02:52:00.644070 1946825472 solver.cpp:222]     Train net output #1: l2_error = 2.04088\r\n",
        "I0309 02:52:00.644078 1946825472 solver.cpp:419] Iteration 41000, lr = 1e-06\r\n"
       ]
      },
      {
       "output_type": "stream",
       "stream": "stdout",
       "text": [
        "I0309 02:52:03.560746 1946825472 solver.cpp:207] Iteration 41100, loss = 64.3176\r\n",
        "I0309 02:52:03.560789 1946825472 solver.cpp:222]     Train net output #0: cross_entropy_loss = 64.3176 (* 1 = 64.3176 loss)\r\n",
        "I0309 02:52:03.560798 1946825472 solver.cpp:222]     Train net output #1: l2_error = 2.2598\r\n",
        "I0309 02:52:03.560806 1946825472 solver.cpp:419] Iteration 41100, lr = 1e-06\r\n"
       ]
      },
      {
       "output_type": "stream",
       "stream": "stdout",
       "text": [
        "I0309 02:52:06.436476 1946825472 solver.cpp:207] Iteration 41200, loss = 58.9557\r\n",
        "I0309 02:52:06.436522 1946825472 solver.cpp:222]     Train net output #0: cross_entropy_loss = 58.9557 (* 1 = 58.9557 loss)\r\n",
        "I0309 02:52:06.436568 1946825472 solver.cpp:222]     Train net output #1: l2_error = 1.91861\r\n",
        "I0309 02:52:06.436576 1946825472 solver.cpp:419] Iteration 41200, lr = 1e-06\r\n"
       ]
      },
      {
       "output_type": "stream",
       "stream": "stdout",
       "text": [
        "I0309 02:52:09.393432 1946825472 solver.cpp:207] Iteration 41300, loss = 57.8719\r\n",
        "I0309 02:52:09.393496 1946825472 solver.cpp:222]     Train net output #0: cross_entropy_loss = 57.8719 (* 1 = 57.8719 loss)\r\n",
        "I0309 02:52:09.393506 1946825472 solver.cpp:222]     Train net output #1: l2_error = 1.94414\r\n",
        "I0309 02:52:09.393513 1946825472 solver.cpp:419] Iteration 41300, lr = 1e-06\r\n"
       ]
      },
      {
       "output_type": "stream",
       "stream": "stdout",
       "text": [
        "I0309 02:52:12.308619 1946825472 solver.cpp:207] Iteration 41400, loss = 59.8033\r\n",
        "I0309 02:52:12.308665 1946825472 solver.cpp:222]     Train net output #0: cross_entropy_loss = 59.8033 (* 1 = 59.8033 loss)\r\n",
        "I0309 02:52:12.308673 1946825472 solver.cpp:222]     Train net output #1: l2_error = 1.87747\r\n",
        "I0309 02:52:12.308681 1946825472 solver.cpp:419] Iteration 41400, lr = 1e-06\r\n"
       ]
      },
      {
       "output_type": "stream",
       "stream": "stdout",
       "text": [
        "I0309 02:52:15.177920 1946825472 solver.cpp:263] Iteration 41500, Testing net (#0)\r\n"
       ]
      },
      {
       "output_type": "stream",
       "stream": "stdout",
       "text": [
        "I0309 02:52:21.584012 1946825472 solver.cpp:301] Test loss: 60.6023\r\n",
        "I0309 02:52:21.584053 1946825472 solver.cpp:314]     Test net output #0: cross_entropy_loss = 60.6023 (* 1 = 60.6023 loss)\r\n",
        "I0309 02:52:21.584063 1946825472 solver.cpp:314]     Test net output #1: l2_error = 1.99594\r\n",
        "I0309 02:52:21.584069 1946825472 solver.cpp:263] Iteration 41500, Testing net (#1)\r\n"
       ]
      },
      {
       "output_type": "stream",
       "stream": "stdout",
       "text": [
        "I0309 02:52:22.851213 1946825472 solver.cpp:301] Test loss: 60.4989\r\n",
        "I0309 02:52:22.851255 1946825472 solver.cpp:314]     Test net output #0: cross_entropy_loss = 60.4989 (* 1 = 60.4989 loss)\r\n",
        "I0309 02:52:22.851264 1946825472 solver.cpp:314]     Test net output #1: l2_error = 2.02341\r\n"
       ]
      },
      {
       "output_type": "stream",
       "stream": "stdout",
       "text": [
        "I0309 02:52:22.873034 1946825472 solver.cpp:207] Iteration 41500, loss = 61.104\r\n",
        "I0309 02:52:22.873076 1946825472 solver.cpp:222]     Train net output #0: cross_entropy_loss = 61.104 (* 1 = 61.104 loss)\r\n",
        "I0309 02:52:22.873085 1946825472 solver.cpp:222]     Train net output #1: l2_error = 2.03617\r\n",
        "I0309 02:52:22.873093 1946825472 solver.cpp:419] Iteration 41500, lr = 1e-06\r\n"
       ]
      },
      {
       "output_type": "stream",
       "stream": "stdout",
       "text": [
        "I0309 02:52:25.734228 1946825472 solver.cpp:207] Iteration 41600, loss = 61.3041\r\n",
        "I0309 02:52:25.734272 1946825472 solver.cpp:222]     Train net output #0: cross_entropy_loss = 61.3041 (* 1 = 61.3041 loss)\r\n",
        "I0309 02:52:25.734282 1946825472 solver.cpp:222]     Train net output #1: l2_error = 2.04088\r\n",
        "I0309 02:52:25.734289 1946825472 solver.cpp:419] Iteration 41600, lr = 1e-06\r\n"
       ]
      },
      {
       "output_type": "stream",
       "stream": "stdout",
       "text": [
        "I0309 02:52:28.680155 1946825472 solver.cpp:207] Iteration 41700, loss = 64.3177\r\n",
        "I0309 02:52:28.680198 1946825472 solver.cpp:222]     Train net output #0: cross_entropy_loss = 64.3177 (* 1 = 64.3177 loss)\r\n",
        "I0309 02:52:28.680208 1946825472 solver.cpp:222]     Train net output #1: l2_error = 2.25982\r\n",
        "I0309 02:52:28.680217 1946825472 solver.cpp:419] Iteration 41700, lr = 1e-06\r\n"
       ]
      },
      {
       "output_type": "stream",
       "stream": "stdout",
       "text": [
        "I0309 02:52:31.558440 1946825472 solver.cpp:207] Iteration 41800, loss = 58.9555\r\n",
        "I0309 02:52:31.558485 1946825472 solver.cpp:222]     Train net output #0: cross_entropy_loss = 58.9555 (* 1 = 58.9555 loss)\r\n",
        "I0309 02:52:31.558495 1946825472 solver.cpp:222]     Train net output #1: l2_error = 1.9186\r\n",
        "I0309 02:52:31.558502 1946825472 solver.cpp:419] Iteration 41800, lr = 1e-06\r\n"
       ]
      },
      {
       "output_type": "stream",
       "stream": "stdout",
       "text": [
        "I0309 02:52:34.468427 1946825472 solver.cpp:207] Iteration 41900, loss = 57.8719\r\n",
        "I0309 02:52:34.468473 1946825472 solver.cpp:222]     Train net output #0: cross_entropy_loss = 57.8719 (* 1 = 57.8719 loss)\r\n",
        "I0309 02:52:34.468482 1946825472 solver.cpp:222]     Train net output #1: l2_error = 1.94413\r\n",
        "I0309 02:52:34.468490 1946825472 solver.cpp:419] Iteration 41900, lr = 1e-06\r\n"
       ]
      },
      {
       "output_type": "stream",
       "stream": "stdout",
       "text": [
        "I0309 02:52:37.369398 1946825472 solver.cpp:263] Iteration 42000, Testing net (#0)\r\n"
       ]
      },
      {
       "output_type": "stream",
       "stream": "stdout",
       "text": [
        "I0309 02:52:43.773694 1946825472 solver.cpp:301] Test loss: 60.5312\r\n",
        "I0309 02:52:43.773767 1946825472 solver.cpp:314]     Test net output #0: cross_entropy_loss = 60.5312 (* 1 = 60.5312 loss)\r\n",
        "I0309 02:52:43.773777 1946825472 solver.cpp:314]     Test net output #1: l2_error = 1.99176\r\n",
        "I0309 02:52:43.773783 1946825472 solver.cpp:263] Iteration 42000, Testing net (#1)\r\n"
       ]
      },
      {
       "output_type": "stream",
       "stream": "stdout",
       "text": [
        "I0309 02:52:45.077306 1946825472 solver.cpp:301] Test loss: 60.4988\r\n",
        "I0309 02:52:45.077347 1946825472 solver.cpp:314]     Test net output #0: cross_entropy_loss = 60.4988 (* 1 = 60.4988 loss)\r\n",
        "I0309 02:52:45.077357 1946825472 solver.cpp:314]     Test net output #1: l2_error = 2.02343\r\n",
        "I0309 02:52:45.098779 1946825472 solver.cpp:207] Iteration 42000, loss = 59.8033\r\n",
        "I0309 02:52:45.098824 1946825472 solver.cpp:222]     Train net output #0: cross_entropy_loss = 59.8033 (* 1 = 59.8033 loss)\r\n",
        "I0309 02:52:45.098832 1946825472 solver.cpp:222]     Train net output #1: l2_error = 1.87747\r\n",
        "I0309 02:52:45.098840 1946825472 solver.cpp:419] Iteration 42000, lr = 1e-06\r\n"
       ]
      },
      {
       "output_type": "stream",
       "stream": "stdout",
       "text": [
        "I0309 02:52:48.059172 1946825472 solver.cpp:207] Iteration 42100, loss = 61.1039\r\n",
        "I0309 02:52:48.059217 1946825472 solver.cpp:222]     Train net output #0: cross_entropy_loss = 61.1039 (* 1 = 61.1039 loss)\r\n",
        "I0309 02:52:48.059226 1946825472 solver.cpp:222]     Train net output #1: l2_error = 2.03616\r\n",
        "I0309 02:52:48.059236 1946825472 solver.cpp:419] Iteration 42100, lr = 1e-06\r\n"
       ]
      },
      {
       "output_type": "stream",
       "stream": "stdout",
       "text": [
        "I0309 02:52:51.112669 1946825472 solver.cpp:207] Iteration 42200, loss = 61.304\r\n",
        "I0309 02:52:51.112712 1946825472 solver.cpp:222]     Train net output #0: cross_entropy_loss = 61.304 (* 1 = 61.304 loss)\r\n",
        "I0309 02:52:51.112722 1946825472 solver.cpp:222]     Train net output #1: l2_error = 2.04087\r\n",
        "I0309 02:52:51.112730 1946825472 solver.cpp:419] Iteration 42200, lr = 1e-06\r\n"
       ]
      },
      {
       "output_type": "stream",
       "stream": "stdout",
       "text": [
        "I0309 02:52:54.093245 1946825472 solver.cpp:207] Iteration 42300, loss = 64.3178\r\n",
        "I0309 02:52:54.093288 1946825472 solver.cpp:222]     Train net output #0: cross_entropy_loss = 64.3178 (* 1 = 64.3178 loss)\r\n",
        "I0309 02:52:54.093297 1946825472 solver.cpp:222]     Train net output #1: l2_error = 2.25983\r\n",
        "I0309 02:52:54.093307 1946825472 solver.cpp:419] Iteration 42300, lr = 1e-06\r\n"
       ]
      },
      {
       "output_type": "stream",
       "stream": "stdout",
       "text": [
        "I0309 02:52:57.017511 1946825472 solver.cpp:207] Iteration 42400, loss = 58.9555\r\n",
        "I0309 02:52:57.017555 1946825472 solver.cpp:222]     Train net output #0: cross_entropy_loss = 58.9555 (* 1 = 58.9555 loss)\r\n",
        "I0309 02:52:57.017565 1946825472 solver.cpp:222]     Train net output #1: l2_error = 1.91859\r\n",
        "I0309 02:52:57.017573 1946825472 solver.cpp:419] Iteration 42400, lr = 1e-06\r\n"
       ]
      },
      {
       "output_type": "stream",
       "stream": "stdout",
       "text": [
        "I0309 02:52:59.889704 1946825472 solver.cpp:263] Iteration 42500, Testing net (#0)\r\n"
       ]
      },
      {
       "output_type": "stream",
       "stream": "stdout",
       "text": [
        "I0309 02:53:06.268705 1946825472 solver.cpp:301] Test loss: 60.4046\r\n",
        "I0309 02:53:06.268748 1946825472 solver.cpp:314]     Test net output #0: cross_entropy_loss = 60.4046 (* 1 = 60.4046 loss)\r\n",
        "I0309 02:53:06.268755 1946825472 solver.cpp:314]     Test net output #1: l2_error = 1.97554\r\n",
        "I0309 02:53:06.268762 1946825472 solver.cpp:263] Iteration 42500, Testing net (#1)\r\n"
       ]
      },
      {
       "output_type": "stream",
       "stream": "stdout",
       "text": [
        "I0309 02:53:07.536686 1946825472 solver.cpp:301] Test loss: 60.4988\r\n",
        "I0309 02:53:07.536730 1946825472 solver.cpp:314]     Test net output #0: cross_entropy_loss = 60.4988 (* 1 = 60.4988 loss)\r\n",
        "I0309 02:53:07.536737 1946825472 solver.cpp:314]     Test net output #1: l2_error = 2.02343\r\n"
       ]
      },
      {
       "output_type": "stream",
       "stream": "stdout",
       "text": [
        "I0309 02:53:07.558532 1946825472 solver.cpp:207] Iteration 42500, loss = 57.872\r\n",
        "I0309 02:53:07.558574 1946825472 solver.cpp:222]     Train net output #0: cross_entropy_loss = 57.872 (* 1 = 57.872 loss)\r\n",
        "I0309 02:53:07.558583 1946825472 solver.cpp:222]     Train net output #1: l2_error = 1.94412\r\n",
        "I0309 02:53:07.558591 1946825472 solver.cpp:419] Iteration 42500, lr = 1e-06\r\n"
       ]
      },
      {
       "output_type": "stream",
       "stream": "stdout",
       "text": [
        "I0309 02:53:10.592217 1946825472 solver.cpp:207] Iteration 42600, loss = 59.8034\r\n",
        "I0309 02:53:10.592264 1946825472 solver.cpp:222]     Train net output #0: cross_entropy_loss = 59.8034 (* 1 = 59.8034 loss)\r\n",
        "I0309 02:53:10.592275 1946825472 solver.cpp:222]     Train net output #1: l2_error = 1.87747\r\n",
        "I0309 02:53:10.592283 1946825472 solver.cpp:419] Iteration 42600, lr = 1e-06\r\n"
       ]
      },
      {
       "output_type": "stream",
       "stream": "stdout",
       "text": [
        "I0309 02:53:13.727366 1946825472 solver.cpp:207] Iteration 42700, loss = 61.1038\r\n",
        "I0309 02:53:13.727408 1946825472 solver.cpp:222]     Train net output #0: cross_entropy_loss = 61.1038 (* 1 = 61.1038 loss)\r\n",
        "I0309 02:53:13.727453 1946825472 solver.cpp:222]     Train net output #1: l2_error = 2.03615\r\n",
        "I0309 02:53:13.727463 1946825472 solver.cpp:419] Iteration 42700, lr = 1e-06\r\n"
       ]
      },
      {
       "output_type": "stream",
       "stream": "stdout",
       "text": [
        "I0309 02:53:16.794286 1946825472 solver.cpp:207] Iteration 42800, loss = 61.3039\r\n",
        "I0309 02:53:16.794348 1946825472 solver.cpp:222]     Train net output #0: cross_entropy_loss = 61.3039 (* 1 = 61.3039 loss)\r\n",
        "I0309 02:53:16.794356 1946825472 solver.cpp:222]     Train net output #1: l2_error = 2.04086\r\n",
        "I0309 02:53:16.794364 1946825472 solver.cpp:419] Iteration 42800, lr = 1e-06\r\n"
       ]
      },
      {
       "output_type": "stream",
       "stream": "stdout",
       "text": [
        "I0309 02:53:19.693835 1946825472 solver.cpp:207] Iteration 42900, loss = 64.3178\r\n",
        "I0309 02:53:19.693889 1946825472 solver.cpp:222]     Train net output #0: cross_entropy_loss = 64.3178 (* 1 = 64.3178 loss)\r\n",
        "I0309 02:53:19.693899 1946825472 solver.cpp:222]     Train net output #1: l2_error = 2.25983\r\n",
        "I0309 02:53:19.693908 1946825472 solver.cpp:419] Iteration 42900, lr = 1e-06\r\n"
       ]
      },
      {
       "output_type": "stream",
       "stream": "stdout",
       "text": [
        "I0309 02:53:22.573508 1946825472 solver.cpp:263] Iteration 43000, Testing net (#0)\r\n"
       ]
      },
      {
       "output_type": "stream",
       "stream": "stdout",
       "text": [
        "I0309 02:53:28.939692 1946825472 solver.cpp:301] Test loss: 60.5411\r\n",
        "I0309 02:53:28.939733 1946825472 solver.cpp:314]     Test net output #0: cross_entropy_loss = 60.5411 (* 1 = 60.5411 loss)\r\n",
        "I0309 02:53:28.939741 1946825472 solver.cpp:314]     Test net output #1: l2_error = 1.98866\r\n",
        "I0309 02:53:28.939749 1946825472 solver.cpp:263] Iteration 43000, Testing net (#1)\r\n"
       ]
      },
      {
       "output_type": "stream",
       "stream": "stdout",
       "text": [
        "I0309 02:53:30.214614 1946825472 solver.cpp:301] Test loss: 60.4988\r\n",
        "I0309 02:53:30.214656 1946825472 solver.cpp:314]     Test net output #0: cross_entropy_loss = 60.4988 (* 1 = 60.4988 loss)\r\n",
        "I0309 02:53:30.214665 1946825472 solver.cpp:314]     Test net output #1: l2_error = 2.02344\r\n",
        "I0309 02:53:30.235887 1946825472 solver.cpp:207] Iteration 43000, loss = 58.9554\r\n",
        "I0309 02:53:30.235930 1946825472 solver.cpp:222]     Train net output #0: cross_entropy_loss = 58.9554 (* 1 = 58.9554 loss)\r\n",
        "I0309 02:53:30.235939 1946825472 solver.cpp:222]     Train net output #1: l2_error = 1.91858\r\n",
        "I0309 02:53:30.235947 1946825472 solver.cpp:419] Iteration 43000, lr = 1e-06\r\n"
       ]
      },
      {
       "output_type": "stream",
       "stream": "stdout",
       "text": [
        "I0309 02:53:33.177227 1946825472 solver.cpp:207] Iteration 43100, loss = 57.8718\r\n",
        "I0309 02:53:33.177273 1946825472 solver.cpp:222]     Train net output #0: cross_entropy_loss = 57.8718 (* 1 = 57.8718 loss)\r\n",
        "I0309 02:53:33.177283 1946825472 solver.cpp:222]     Train net output #1: l2_error = 1.94411\r\n",
        "I0309 02:53:33.177290 1946825472 solver.cpp:419] Iteration 43100, lr = 1e-06\r\n"
       ]
      },
      {
       "output_type": "stream",
       "stream": "stdout",
       "text": [
        "I0309 02:53:36.069875 1946825472 solver.cpp:207] Iteration 43200, loss = 59.8034\r\n",
        "I0309 02:53:36.069918 1946825472 solver.cpp:222]     Train net output #0: cross_entropy_loss = 59.8034 (* 1 = 59.8034 loss)\r\n",
        "I0309 02:53:36.069927 1946825472 solver.cpp:222]     Train net output #1: l2_error = 1.87746\r\n",
        "I0309 02:53:36.069936 1946825472 solver.cpp:419] Iteration 43200, lr = 1e-06\r\n"
       ]
      },
      {
       "output_type": "stream",
       "stream": "stdout",
       "text": [
        "I0309 02:53:39.046316 1946825472 solver.cpp:207] Iteration 43300, loss = 61.1038\r\n",
        "I0309 02:53:39.046360 1946825472 solver.cpp:222]     Train net output #0: cross_entropy_loss = 61.1038 (* 1 = 61.1038 loss)\r\n",
        "I0309 02:53:39.046370 1946825472 solver.cpp:222]     Train net output #1: l2_error = 2.03615\r\n",
        "I0309 02:53:39.046377 1946825472 solver.cpp:419] Iteration 43300, lr = 1e-06\r\n"
       ]
      },
      {
       "output_type": "stream",
       "stream": "stdout",
       "text": [
        "I0309 02:53:41.993099 1946825472 solver.cpp:207] Iteration 43400, loss = 61.304\r\n",
        "I0309 02:53:41.993144 1946825472 solver.cpp:222]     Train net output #0: cross_entropy_loss = 61.304 (* 1 = 61.304 loss)\r\n",
        "I0309 02:53:41.993152 1946825472 solver.cpp:222]     Train net output #1: l2_error = 2.04086\r\n",
        "I0309 02:53:41.993160 1946825472 solver.cpp:419] Iteration 43400, lr = 1e-06\r\n"
       ]
      },
      {
       "output_type": "stream",
       "stream": "stdout",
       "text": [
        "I0309 02:53:44.989789 1946825472 solver.cpp:263] Iteration 43500, Testing net (#0)\r\n"
       ]
      },
      {
       "output_type": "stream",
       "stream": "stdout",
       "text": [
        "I0309 02:53:51.478608 1946825472 solver.cpp:301] Test loss: 60.6299\r\n",
        "I0309 02:53:51.478688 1946825472 solver.cpp:314]     Test net output #0: cross_entropy_loss = 60.6299 (* 1 = 60.6299 loss)\r\n",
        "I0309 02:53:51.478698 1946825472 solver.cpp:314]     Test net output #1: l2_error = 1.99335\r\n",
        "I0309 02:53:51.478704 1946825472 solver.cpp:263] Iteration 43500, Testing net (#1)\r\n"
       ]
      },
      {
       "output_type": "stream",
       "stream": "stdout",
       "text": [
        "I0309 02:53:52.763160 1946825472 solver.cpp:301] Test loss: 60.4988\r\n",
        "I0309 02:53:52.763203 1946825472 solver.cpp:314]     Test net output #0: cross_entropy_loss = 60.4988 (* 1 = 60.4988 loss)\r\n",
        "I0309 02:53:52.763212 1946825472 solver.cpp:314]     Test net output #1: l2_error = 2.02348\r\n",
        "I0309 02:53:52.784718 1946825472 solver.cpp:207] Iteration 43500, loss = 64.3177\r\n",
        "I0309 02:53:52.784760 1946825472 solver.cpp:222]     Train net output #0: cross_entropy_loss = 64.3177 (* 1 = 64.3177 loss)\r\n",
        "I0309 02:53:52.784770 1946825472 solver.cpp:222]     Train net output #1: l2_error = 2.25983\r\n",
        "I0309 02:53:52.784777 1946825472 solver.cpp:419] Iteration 43500, lr = 1e-06\r\n"
       ]
      },
      {
       "output_type": "stream",
       "stream": "stdout",
       "text": [
        "I0309 02:53:55.703016 1946825472 solver.cpp:207] Iteration 43600, loss = 58.9554\r\n",
        "I0309 02:53:55.703059 1946825472 solver.cpp:222]     Train net output #0: cross_entropy_loss = 58.9554 (* 1 = 58.9554 loss)\r\n",
        "I0309 02:53:55.703069 1946825472 solver.cpp:222]     Train net output #1: l2_error = 1.91857\r\n",
        "I0309 02:53:55.703078 1946825472 solver.cpp:419] Iteration 43600, lr = 1e-06\r\n"
       ]
      },
      {
       "output_type": "stream",
       "stream": "stdout",
       "text": [
        "I0309 02:53:58.635227 1946825472 solver.cpp:207] Iteration 43700, loss = 57.8718\r\n",
        "I0309 02:53:58.635273 1946825472 solver.cpp:222]     Train net output #0: cross_entropy_loss = 57.8718 (* 1 = 57.8718 loss)\r\n",
        "I0309 02:53:58.635282 1946825472 solver.cpp:222]     Train net output #1: l2_error = 1.9441\r\n",
        "I0309 02:53:58.635292 1946825472 solver.cpp:419] Iteration 43700, lr = 1e-06\r\n"
       ]
      },
      {
       "output_type": "stream",
       "stream": "stdout",
       "text": [
        "I0309 02:54:01.548046 1946825472 solver.cpp:207] Iteration 43800, loss = 59.8033\r\n",
        "I0309 02:54:01.548090 1946825472 solver.cpp:222]     Train net output #0: cross_entropy_loss = 59.8033 (* 1 = 59.8033 loss)\r\n",
        "I0309 02:54:01.548099 1946825472 solver.cpp:222]     Train net output #1: l2_error = 1.87746\r\n",
        "I0309 02:54:01.548107 1946825472 solver.cpp:419] Iteration 43800, lr = 1e-06\r\n"
       ]
      },
      {
       "output_type": "stream",
       "stream": "stdout",
       "text": [
        "I0309 02:54:04.491442 1946825472 solver.cpp:207] Iteration 43900, loss = 61.1038\r\n",
        "I0309 02:54:04.491487 1946825472 solver.cpp:222]     Train net output #0: cross_entropy_loss = 61.1038 (* 1 = 61.1038 loss)\r\n",
        "I0309 02:54:04.491497 1946825472 solver.cpp:222]     Train net output #1: l2_error = 2.03614\r\n",
        "I0309 02:54:04.491505 1946825472 solver.cpp:419] Iteration 43900, lr = 1e-06\r\n"
       ]
      },
      {
       "output_type": "stream",
       "stream": "stdout",
       "text": [
        "I0309 02:54:07.375296 1946825472 solver.cpp:263] Iteration 44000, Testing net (#0)\r\n"
       ]
      },
      {
       "output_type": "stream",
       "stream": "stdout",
       "text": [
        "I0309 02:54:13.839784 1946825472 solver.cpp:301] Test loss: 60.6313\r\n",
        "I0309 02:54:13.839828 1946825472 solver.cpp:314]     Test net output #0: cross_entropy_loss = 60.6313 (* 1 = 60.6313 loss)\r\n",
        "I0309 02:54:13.839836 1946825472 solver.cpp:314]     Test net output #1: l2_error = 1.99432\r\n",
        "I0309 02:54:13.839843 1946825472 solver.cpp:263] Iteration 44000, Testing net (#1)\r\n"
       ]
      },
      {
       "output_type": "stream",
       "stream": "stdout",
       "text": [
        "I0309 02:54:15.111168 1946825472 solver.cpp:301] Test loss: 60.4988\r\n",
        "I0309 02:54:15.111210 1946825472 solver.cpp:314]     Test net output #0: cross_entropy_loss = 60.4988 (* 1 = 60.4988 loss)\r\n",
        "I0309 02:54:15.111219 1946825472 solver.cpp:314]     Test net output #1: l2_error = 2.02342\r\n",
        "I0309 02:54:15.132757 1946825472 solver.cpp:207] Iteration 44000, loss = 61.3039\r\n",
        "I0309 02:54:15.132799 1946825472 solver.cpp:222]     Train net output #0: cross_entropy_loss = 61.3039 (* 1 = 61.3039 loss)\r\n",
        "I0309 02:54:15.132807 1946825472 solver.cpp:222]     Train net output #1: l2_error = 2.04085\r\n",
        "I0309 02:54:15.132815 1946825472 solver.cpp:419] Iteration 44000, lr = 1e-06\r\n"
       ]
      },
      {
       "output_type": "stream",
       "stream": "stdout",
       "text": [
        "I0309 02:54:18.046191 1946825472 solver.cpp:207] Iteration 44100, loss = 64.3178\r\n",
        "I0309 02:54:18.046236 1946825472 solver.cpp:222]     Train net output #0: cross_entropy_loss = 64.3178 (* 1 = 64.3178 loss)\r\n",
        "I0309 02:54:18.046246 1946825472 solver.cpp:222]     Train net output #1: l2_error = 2.25983\r\n",
        "I0309 02:54:18.046253 1946825472 solver.cpp:419] Iteration 44100, lr = 1e-06\r\n"
       ]
      },
      {
       "output_type": "stream",
       "stream": "stdout",
       "text": [
        "I0309 02:54:20.953439 1946825472 solver.cpp:207] Iteration 44200, loss = 58.9554\r\n",
        "I0309 02:54:20.953485 1946825472 solver.cpp:222]     Train net output #0: cross_entropy_loss = 58.9554 (* 1 = 58.9554 loss)\r\n",
        "I0309 02:54:20.953531 1946825472 solver.cpp:222]     Train net output #1: l2_error = 1.91857\r\n",
        "I0309 02:54:20.953541 1946825472 solver.cpp:419] Iteration 44200, lr = 1e-06\r\n"
       ]
      },
      {
       "output_type": "stream",
       "stream": "stdout",
       "text": [
        "I0309 02:54:23.890008 1946825472 solver.cpp:207] Iteration 44300, loss = 57.8717\r\n",
        "I0309 02:54:23.890069 1946825472 solver.cpp:222]     Train net output #0: cross_entropy_loss = 57.8717 (* 1 = 57.8717 loss)\r\n",
        "I0309 02:54:23.890079 1946825472 solver.cpp:222]     Train net output #1: l2_error = 1.94409\r\n",
        "I0309 02:54:23.890089 1946825472 solver.cpp:419] Iteration 44300, lr = 1e-06\r\n"
       ]
      },
      {
       "output_type": "stream",
       "stream": "stdout",
       "text": [
        "I0309 02:54:26.786036 1946825472 solver.cpp:207] Iteration 44400, loss = 59.8033\r\n",
        "I0309 02:54:26.786080 1946825472 solver.cpp:222]     Train net output #0: cross_entropy_loss = 59.8033 (* 1 = 59.8033 loss)\r\n",
        "I0309 02:54:26.786089 1946825472 solver.cpp:222]     Train net output #1: l2_error = 1.87746\r\n",
        "I0309 02:54:26.786098 1946825472 solver.cpp:419] Iteration 44400, lr = 1e-06\r\n"
       ]
      },
      {
       "output_type": "stream",
       "stream": "stdout",
       "text": [
        "I0309 02:54:29.683269 1946825472 solver.cpp:263] Iteration 44500, Testing net (#0)\r\n"
       ]
      },
      {
       "output_type": "stream",
       "stream": "stdout",
       "text": [
        "I0309 02:54:36.028622 1946825472 solver.cpp:301] Test loss: 60.6022\r\n",
        "I0309 02:54:36.028664 1946825472 solver.cpp:314]     Test net output #0: cross_entropy_loss = 60.6022 (* 1 = 60.6022 loss)\r\n",
        "I0309 02:54:36.028673 1946825472 solver.cpp:314]     Test net output #1: l2_error = 1.99591\r\n",
        "I0309 02:54:36.028681 1946825472 solver.cpp:263] Iteration 44500, Testing net (#1)\r\n"
       ]
      },
      {
       "output_type": "stream",
       "stream": "stdout",
       "text": [
        "I0309 02:54:37.319236 1946825472 solver.cpp:301] Test loss: 60.4988\r\n",
        "I0309 02:54:37.319275 1946825472 solver.cpp:314]     Test net output #0: cross_entropy_loss = 60.4988 (* 1 = 60.4988 loss)\r\n",
        "I0309 02:54:37.319283 1946825472 solver.cpp:314]     Test net output #1: l2_error = 2.02339\r\n",
        "I0309 02:54:37.357193 1946825472 solver.cpp:207] Iteration 44500, loss = 61.1037\r\n",
        "I0309 02:54:37.357249 1946825472 solver.cpp:222]     Train net output #0: cross_entropy_loss = 61.1037 (* 1 = 61.1037 loss)\r\n",
        "I0309 02:54:37.357259 1946825472 solver.cpp:222]     Train net output #1: l2_error = 2.03614\r\n",
        "I0309 02:54:37.357269 1946825472 solver.cpp:419] Iteration 44500, lr = 1e-06\r\n"
       ]
      },
      {
       "output_type": "stream",
       "stream": "stdout",
       "text": [
        "I0309 02:54:40.309337 1946825472 solver.cpp:207] Iteration 44600, loss = 61.3038\r\n",
        "I0309 02:54:40.309382 1946825472 solver.cpp:222]     Train net output #0: cross_entropy_loss = 61.3038 (* 1 = 61.3038 loss)\r\n",
        "I0309 02:54:40.309391 1946825472 solver.cpp:222]     Train net output #1: l2_error = 2.04084\r\n",
        "I0309 02:54:40.309401 1946825472 solver.cpp:419] Iteration 44600, lr = 1e-06\r\n"
       ]
      },
      {
       "output_type": "stream",
       "stream": "stdout",
       "text": [
        "I0309 02:54:43.284692 1946825472 solver.cpp:207] Iteration 44700, loss = 64.3179\r\n",
        "I0309 02:54:43.284736 1946825472 solver.cpp:222]     Train net output #0: cross_entropy_loss = 64.3179 (* 1 = 64.3179 loss)\r\n",
        "I0309 02:54:43.284745 1946825472 solver.cpp:222]     Train net output #1: l2_error = 2.25982\r\n",
        "I0309 02:54:43.284754 1946825472 solver.cpp:419] Iteration 44700, lr = 1e-06\r\n"
       ]
      },
      {
       "output_type": "stream",
       "stream": "stdout",
       "text": [
        "I0309 02:54:46.270243 1946825472 solver.cpp:207] Iteration 44800, loss = 58.9554\r\n",
        "I0309 02:54:46.270287 1946825472 solver.cpp:222]     Train net output #0: cross_entropy_loss = 58.9554 (* 1 = 58.9554 loss)\r\n",
        "I0309 02:54:46.270297 1946825472 solver.cpp:222]     Train net output #1: l2_error = 1.91856\r\n",
        "I0309 02:54:46.270304 1946825472 solver.cpp:419] Iteration 44800, lr = 1e-06\r\n"
       ]
      },
      {
       "output_type": "stream",
       "stream": "stdout",
       "text": [
        "I0309 02:54:49.256477 1946825472 solver.cpp:207] Iteration 44900, loss = 57.8717\r\n",
        "I0309 02:54:49.256522 1946825472 solver.cpp:222]     Train net output #0: cross_entropy_loss = 57.8717 (* 1 = 57.8717 loss)\r\n",
        "I0309 02:54:49.256531 1946825472 solver.cpp:222]     Train net output #1: l2_error = 1.94408\r\n",
        "I0309 02:54:49.256539 1946825472 solver.cpp:419] Iteration 44900, lr = 1e-06\r\n"
       ]
      },
      {
       "output_type": "stream",
       "stream": "stdout",
       "text": [
        "I0309 02:54:52.228554 1946825472 solver.cpp:263] Iteration 45000, Testing net (#0)\r\n"
       ]
      },
      {
       "output_type": "stream",
       "stream": "stdout",
       "text": [
        "I0309 02:54:58.619523 1946825472 solver.cpp:301] Test loss: 60.531\r\n",
        "I0309 02:54:58.619601 1946825472 solver.cpp:314]     Test net output #0: cross_entropy_loss = 60.531 (* 1 = 60.531 loss)\r\n",
        "I0309 02:54:58.619611 1946825472 solver.cpp:314]     Test net output #1: l2_error = 1.99173\r\n",
        "I0309 02:54:58.619617 1946825472 solver.cpp:263] Iteration 45000, Testing net (#1)\r\n"
       ]
      },
      {
       "output_type": "stream",
       "stream": "stdout",
       "text": [
        "I0309 02:54:59.895628 1946825472 solver.cpp:301] Test loss: 60.4987\r\n",
        "I0309 02:54:59.895668 1946825472 solver.cpp:314]     Test net output #0: cross_entropy_loss = 60.4987 (* 1 = 60.4987 loss)\r\n",
        "I0309 02:54:59.895676 1946825472 solver.cpp:314]     Test net output #1: l2_error = 2.0234\r\n",
        "I0309 02:54:59.917274 1946825472 solver.cpp:207] Iteration 45000, loss = 59.8033\r\n",
        "I0309 02:54:59.917317 1946825472 solver.cpp:222]     Train net output #0: cross_entropy_loss = 59.8033 (* 1 = 59.8033 loss)\r\n",
        "I0309 02:54:59.917326 1946825472 solver.cpp:222]     Train net output #1: l2_error = 1.87745\r\n",
        "I0309 02:54:59.917335 1946825472 solver.cpp:419] Iteration 45000, lr = 1e-06\r\n"
       ]
      },
      {
       "output_type": "stream",
       "stream": "stdout",
       "text": [
        "I0309 02:55:02.844255 1946825472 solver.cpp:207] Iteration 45100, loss = 61.1037\r\n",
        "I0309 02:55:02.844301 1946825472 solver.cpp:222]     Train net output #0: cross_entropy_loss = 61.1037 (* 1 = 61.1037 loss)\r\n",
        "I0309 02:55:02.844311 1946825472 solver.cpp:222]     Train net output #1: l2_error = 2.03613\r\n",
        "I0309 02:55:02.844321 1946825472 solver.cpp:419] Iteration 45100, lr = 1e-06\r\n"
       ]
      },
      {
       "output_type": "stream",
       "stream": "stdout",
       "text": [
        "I0309 02:55:05.761431 1946825472 solver.cpp:207] Iteration 45200, loss = 61.3038\r\n",
        "I0309 02:55:05.761483 1946825472 solver.cpp:222]     Train net output #0: cross_entropy_loss = 61.3038 (* 1 = 61.3038 loss)\r\n",
        "I0309 02:55:05.761498 1946825472 solver.cpp:222]     Train net output #1: l2_error = 2.04083\r\n",
        "I0309 02:55:05.761512 1946825472 solver.cpp:419] Iteration 45200, lr = 1e-06\r\n"
       ]
      },
      {
       "output_type": "stream",
       "stream": "stdout",
       "text": [
        "I0309 02:55:08.812193 1946825472 solver.cpp:207] Iteration 45300, loss = 64.3179\r\n",
        "I0309 02:55:08.812234 1946825472 solver.cpp:222]     Train net output #0: cross_entropy_loss = 64.3179 (* 1 = 64.3179 loss)\r\n",
        "I0309 02:55:08.812243 1946825472 solver.cpp:222]     Train net output #1: l2_error = 2.25982\r\n",
        "I0309 02:55:08.812252 1946825472 solver.cpp:419] Iteration 45300, lr = 1e-06\r\n"
       ]
      },
      {
       "output_type": "stream",
       "stream": "stdout",
       "text": [
        "I0309 02:55:11.747885 1946825472 solver.cpp:207] Iteration 45400, loss = 58.9553\r\n",
        "I0309 02:55:11.747931 1946825472 solver.cpp:222]     Train net output #0: cross_entropy_loss = 58.9553 (* 1 = 58.9553 loss)\r\n",
        "I0309 02:55:11.747939 1946825472 solver.cpp:222]     Train net output #1: l2_error = 1.91856\r\n",
        "I0309 02:55:11.747948 1946825472 solver.cpp:419] Iteration 45400, lr = 1e-06\r\n"
       ]
      },
      {
       "output_type": "stream",
       "stream": "stdout",
       "text": [
        "I0309 02:55:14.674137 1946825472 solver.cpp:263] Iteration 45500, Testing net (#0)\r\n"
       ]
      },
      {
       "output_type": "stream",
       "stream": "stdout",
       "text": [
        "I0309 02:55:21.091531 1946825472 solver.cpp:301] Test loss: 60.4045\r\n",
        "I0309 02:55:21.091572 1946825472 solver.cpp:314]     Test net output #0: cross_entropy_loss = 60.4045 (* 1 = 60.4045 loss)\r\n",
        "I0309 02:55:21.091581 1946825472 solver.cpp:314]     Test net output #1: l2_error = 1.97551\r\n",
        "I0309 02:55:21.091588 1946825472 solver.cpp:263] Iteration 45500, Testing net (#1)\r\n"
       ]
      },
      {
       "output_type": "stream",
       "stream": "stdout",
       "text": [
        "I0309 02:55:22.362612 1946825472 solver.cpp:301] Test loss: 60.4987\r\n",
        "I0309 02:55:22.362653 1946825472 solver.cpp:314]     Test net output #0: cross_entropy_loss = 60.4987 (* 1 = 60.4987 loss)\r\n",
        "I0309 02:55:22.362663 1946825472 solver.cpp:314]     Test net output #1: l2_error = 2.0234\r\n"
       ]
      },
      {
       "output_type": "stream",
       "stream": "stdout",
       "text": [
        "I0309 02:55:22.385730 1946825472 solver.cpp:207] Iteration 45500, loss = 57.8717\r\n",
        "I0309 02:55:22.385772 1946825472 solver.cpp:222]     Train net output #0: cross_entropy_loss = 57.8717 (* 1 = 57.8717 loss)\r\n",
        "I0309 02:55:22.385782 1946825472 solver.cpp:222]     Train net output #1: l2_error = 1.94407\r\n",
        "I0309 02:55:22.385789 1946825472 solver.cpp:419] Iteration 45500, lr = 1e-06\r\n"
       ]
      },
      {
       "output_type": "stream",
       "stream": "stdout",
       "text": [
        "I0309 02:55:25.306924 1946825472 solver.cpp:207] Iteration 45600, loss = 59.8032\r\n",
        "I0309 02:55:25.306968 1946825472 solver.cpp:222]     Train net output #0: cross_entropy_loss = 59.8032 (* 1 = 59.8032 loss)\r\n",
        "I0309 02:55:25.306977 1946825472 solver.cpp:222]     Train net output #1: l2_error = 1.87745\r\n",
        "I0309 02:55:25.306985 1946825472 solver.cpp:419] Iteration 45600, lr = 1e-06\r\n"
       ]
      },
      {
       "output_type": "stream",
       "stream": "stdout",
       "text": [
        "I0309 02:55:28.241955 1946825472 solver.cpp:207] Iteration 45700, loss = 61.1036\r\n",
        "I0309 02:55:28.241996 1946825472 solver.cpp:222]     Train net output #0: cross_entropy_loss = 61.1036 (* 1 = 61.1036 loss)\r\n",
        "I0309 02:55:28.242043 1946825472 solver.cpp:222]     Train net output #1: l2_error = 2.03612\r\n",
        "I0309 02:55:28.242053 1946825472 solver.cpp:419] Iteration 45700, lr = 1e-06\r\n"
       ]
      },
      {
       "output_type": "stream",
       "stream": "stdout",
       "text": [
        "I0309 02:55:31.167498 1946825472 solver.cpp:207] Iteration 45800, loss = 61.3038\r\n",
        "I0309 02:55:31.167558 1946825472 solver.cpp:222]     Train net output #0: cross_entropy_loss = 61.3038 (* 1 = 61.3038 loss)\r\n",
        "I0309 02:55:31.167567 1946825472 solver.cpp:222]     Train net output #1: l2_error = 2.04082\r\n",
        "I0309 02:55:31.167577 1946825472 solver.cpp:419] Iteration 45800, lr = 1e-06\r\n"
       ]
      },
      {
       "output_type": "stream",
       "stream": "stdout",
       "text": [
        "I0309 02:55:34.203207 1946825472 solver.cpp:207] Iteration 45900, loss = 64.318\r\n",
        "I0309 02:55:34.203253 1946825472 solver.cpp:222]     Train net output #0: cross_entropy_loss = 64.318 (* 1 = 64.318 loss)\r\n",
        "I0309 02:55:34.203263 1946825472 solver.cpp:222]     Train net output #1: l2_error = 2.25982\r\n",
        "I0309 02:55:34.203271 1946825472 solver.cpp:419] Iteration 45900, lr = 1e-06\r\n"
       ]
      },
      {
       "output_type": "stream",
       "stream": "stdout",
       "text": [
        "I0309 02:55:37.264864 1946825472 solver.cpp:263] Iteration 46000, Testing net (#0)\r\n"
       ]
      },
      {
       "output_type": "stream",
       "stream": "stdout",
       "text": [
        "I0309 02:55:43.717569 1946825472 solver.cpp:301] Test loss: 60.541\r\n",
        "I0309 02:55:43.717610 1946825472 solver.cpp:314]     Test net output #0: cross_entropy_loss = 60.541 (* 1 = 60.541 loss)\r\n",
        "I0309 02:55:43.717619 1946825472 solver.cpp:314]     Test net output #1: l2_error = 1.98862\r\n",
        "I0309 02:55:43.717627 1946825472 solver.cpp:263] Iteration 46000, Testing net (#1)\r\n"
       ]
      },
      {
       "output_type": "stream",
       "stream": "stdout",
       "text": [
        "I0309 02:55:45.023213 1946825472 solver.cpp:301] Test loss: 60.4987\r\n",
        "I0309 02:55:45.023257 1946825472 solver.cpp:314]     Test net output #0: cross_entropy_loss = 60.4987 (* 1 = 60.4987 loss)\r\n",
        "I0309 02:55:45.023265 1946825472 solver.cpp:314]     Test net output #1: l2_error = 2.02342\r\n"
       ]
      },
      {
       "output_type": "stream",
       "stream": "stdout",
       "text": [
        "I0309 02:55:45.045070 1946825472 solver.cpp:207] Iteration 46000, loss = 58.9553\r\n",
        "I0309 02:55:45.045115 1946825472 solver.cpp:222]     Train net output #0: cross_entropy_loss = 58.9553 (* 1 = 58.9553 loss)\r\n",
        "I0309 02:55:45.045125 1946825472 solver.cpp:222]     Train net output #1: l2_error = 1.91855\r\n",
        "I0309 02:55:45.045133 1946825472 solver.cpp:419] Iteration 46000, lr = 1e-06\r\n"
       ]
      },
      {
       "output_type": "stream",
       "stream": "stdout",
       "text": [
        "I0309 02:55:48.044580 1946825472 solver.cpp:207] Iteration 46100, loss = 57.8716\r\n",
        "I0309 02:55:48.044628 1946825472 solver.cpp:222]     Train net output #0: cross_entropy_loss = 57.8716 (* 1 = 57.8716 loss)\r\n",
        "I0309 02:55:48.044637 1946825472 solver.cpp:222]     Train net output #1: l2_error = 1.94406\r\n",
        "I0309 02:55:48.044646 1946825472 solver.cpp:419] Iteration 46100, lr = 1e-06\r\n"
       ]
      },
      {
       "output_type": "stream",
       "stream": "stdout",
       "text": [
        "I0309 02:55:51.047639 1946825472 solver.cpp:207] Iteration 46200, loss = 59.8033\r\n",
        "I0309 02:55:51.047684 1946825472 solver.cpp:222]     Train net output #0: cross_entropy_loss = 59.8033 (* 1 = 59.8033 loss)\r\n",
        "I0309 02:55:51.047693 1946825472 solver.cpp:222]     Train net output #1: l2_error = 1.87744\r\n",
        "I0309 02:55:51.047701 1946825472 solver.cpp:419] Iteration 46200, lr = 1e-06\r\n"
       ]
      },
      {
       "output_type": "stream",
       "stream": "stdout",
       "text": [
        "I0309 02:55:53.973306 1946825472 solver.cpp:207] Iteration 46300, loss = 61.1035\r\n",
        "I0309 02:55:53.973351 1946825472 solver.cpp:222]     Train net output #0: cross_entropy_loss = 61.1035 (* 1 = 61.1035 loss)\r\n",
        "I0309 02:55:53.973359 1946825472 solver.cpp:222]     Train net output #1: l2_error = 2.03612\r\n",
        "I0309 02:55:53.973367 1946825472 solver.cpp:419] Iteration 46300, lr = 1e-06\r\n"
       ]
      },
      {
       "output_type": "stream",
       "stream": "stdout",
       "text": [
        "I0309 02:55:56.883744 1946825472 solver.cpp:207] Iteration 46400, loss = 61.3037\r\n",
        "I0309 02:55:56.883787 1946825472 solver.cpp:222]     Train net output #0: cross_entropy_loss = 61.3037 (* 1 = 61.3037 loss)\r\n",
        "I0309 02:55:56.883796 1946825472 solver.cpp:222]     Train net output #1: l2_error = 2.04081\r\n",
        "I0309 02:55:56.883805 1946825472 solver.cpp:419] Iteration 46400, lr = 1e-06\r\n"
       ]
      },
      {
       "output_type": "stream",
       "stream": "stdout",
       "text": [
        "I0309 02:55:59.763739 1946825472 solver.cpp:263] Iteration 46500, Testing net (#0)\r\n"
       ]
      },
      {
       "output_type": "stream",
       "stream": "stdout",
       "text": [
        "I0309 02:56:06.133380 1946825472 solver.cpp:301] Test loss: 60.6297\r\n",
        "I0309 02:56:06.133460 1946825472 solver.cpp:314]     Test net output #0: cross_entropy_loss = 60.6297 (* 1 = 60.6297 loss)\r\n",
        "I0309 02:56:06.133468 1946825472 solver.cpp:314]     Test net output #1: l2_error = 1.99332\r\n",
        "I0309 02:56:06.133476 1946825472 solver.cpp:263] Iteration 46500, Testing net (#1)\r\n"
       ]
      },
      {
       "output_type": "stream",
       "stream": "stdout",
       "text": [
        "I0309 02:56:07.434031 1946825472 solver.cpp:301] Test loss: 60.4987\r\n",
        "I0309 02:56:07.434072 1946825472 solver.cpp:314]     Test net output #0: cross_entropy_loss = 60.4987 (* 1 = 60.4987 loss)\r\n",
        "I0309 02:56:07.434082 1946825472 solver.cpp:314]     Test net output #1: l2_error = 2.02345\r\n"
       ]
      },
      {
       "output_type": "stream",
       "stream": "stdout",
       "text": [
        "I0309 02:56:07.457085 1946825472 solver.cpp:207] Iteration 46500, loss = 64.318\r\n",
        "I0309 02:56:07.457124 1946825472 solver.cpp:222]     Train net output #0: cross_entropy_loss = 64.318 (* 1 = 64.318 loss)\r\n",
        "I0309 02:56:07.457134 1946825472 solver.cpp:222]     Train net output #1: l2_error = 2.25982\r\n",
        "I0309 02:56:07.457142 1946825472 solver.cpp:419] Iteration 46500, lr = 1e-06\r\n"
       ]
      },
      {
       "output_type": "stream",
       "stream": "stdout",
       "text": [
        "I0309 02:56:10.418531 1946825472 solver.cpp:207] Iteration 46600, loss = 58.9553\r\n",
        "I0309 02:56:10.418576 1946825472 solver.cpp:222]     Train net output #0: cross_entropy_loss = 58.9553 (* 1 = 58.9553 loss)\r\n",
        "I0309 02:56:10.418586 1946825472 solver.cpp:222]     Train net output #1: l2_error = 1.91854\r\n",
        "I0309 02:56:10.418594 1946825472 solver.cpp:419] Iteration 46600, lr = 1e-06\r\n"
       ]
      },
      {
       "output_type": "stream",
       "stream": "stdout",
       "text": [
        "I0309 02:56:13.365875 1946825472 solver.cpp:207] Iteration 46700, loss = 57.8716\r\n",
        "I0309 02:56:13.365921 1946825472 solver.cpp:222]     Train net output #0: cross_entropy_loss = 57.8716 (* 1 = 57.8716 loss)\r\n",
        "I0309 02:56:13.365931 1946825472 solver.cpp:222]     Train net output #1: l2_error = 1.94405\r\n",
        "I0309 02:56:13.365939 1946825472 solver.cpp:419] Iteration 46700, lr = 1e-06\r\n"
       ]
      },
      {
       "output_type": "stream",
       "stream": "stdout",
       "text": [
        "I0309 02:56:16.407685 1946825472 solver.cpp:207] Iteration 46800, loss = 59.8032\r\n",
        "I0309 02:56:16.407727 1946825472 solver.cpp:222]     Train net output #0: cross_entropy_loss = 59.8032 (* 1 = 59.8032 loss)\r\n",
        "I0309 02:56:16.407735 1946825472 solver.cpp:222]     Train net output #1: l2_error = 1.87744\r\n",
        "I0309 02:56:16.407743 1946825472 solver.cpp:419] Iteration 46800, lr = 1e-06\r\n"
       ]
      },
      {
       "output_type": "stream",
       "stream": "stdout",
       "text": [
        "I0309 02:56:19.319203 1946825472 solver.cpp:207] Iteration 46900, loss = 61.1034\r\n",
        "I0309 02:56:19.319247 1946825472 solver.cpp:222]     Train net output #0: cross_entropy_loss = 61.1034 (* 1 = 61.1034 loss)\r\n",
        "I0309 02:56:19.319257 1946825472 solver.cpp:222]     Train net output #1: l2_error = 2.03611\r\n",
        "I0309 02:56:19.319264 1946825472 solver.cpp:419] Iteration 46900, lr = 1e-06\r\n"
       ]
      },
      {
       "output_type": "stream",
       "stream": "stdout",
       "text": [
        "I0309 02:56:22.188477 1946825472 solver.cpp:263] Iteration 47000, Testing net (#0)\r\n"
       ]
      },
      {
       "output_type": "stream",
       "stream": "stdout",
       "text": [
        "I0309 02:56:28.589696 1946825472 solver.cpp:301] Test loss: 60.6311\r\n",
        "I0309 02:56:28.589740 1946825472 solver.cpp:314]     Test net output #0: cross_entropy_loss = 60.6311 (* 1 = 60.6311 loss)\r\n",
        "I0309 02:56:28.589748 1946825472 solver.cpp:314]     Test net output #1: l2_error = 1.9943\r\n",
        "I0309 02:56:28.589756 1946825472 solver.cpp:263] Iteration 47000, Testing net (#1)\r\n"
       ]
      },
      {
       "output_type": "stream",
       "stream": "stdout",
       "text": [
        "I0309 02:56:29.883195 1946825472 solver.cpp:301] Test loss: 60.4987\r\n",
        "I0309 02:56:29.883237 1946825472 solver.cpp:314]     Test net output #0: cross_entropy_loss = 60.4987 (* 1 = 60.4987 loss)\r\n",
        "I0309 02:56:29.883245 1946825472 solver.cpp:314]     Test net output #1: l2_error = 2.02339\r\n"
       ]
      },
      {
       "output_type": "stream",
       "stream": "stdout",
       "text": [
        "I0309 02:56:29.907163 1946825472 solver.cpp:207] Iteration 47000, loss = 61.3037\r\n",
        "I0309 02:56:29.907207 1946825472 solver.cpp:222]     Train net output #0: cross_entropy_loss = 61.3037 (* 1 = 61.3037 loss)\r\n",
        "I0309 02:56:29.907217 1946825472 solver.cpp:222]     Train net output #1: l2_error = 2.04081\r\n",
        "I0309 02:56:29.907224 1946825472 solver.cpp:419] Iteration 47000, lr = 1e-06\r\n"
       ]
      },
      {
       "output_type": "stream",
       "stream": "stdout",
       "text": [
        "I0309 02:56:32.806432 1946825472 solver.cpp:207] Iteration 47100, loss = 64.318\r\n",
        "I0309 02:56:32.806471 1946825472 solver.cpp:222]     Train net output #0: cross_entropy_loss = 64.318 (* 1 = 64.318 loss)\r\n",
        "I0309 02:56:32.806481 1946825472 solver.cpp:222]     Train net output #1: l2_error = 2.25981\r\n",
        "I0309 02:56:32.806489 1946825472 solver.cpp:419] Iteration 47100, lr = 1e-06\r\n"
       ]
      },
      {
       "output_type": "stream",
       "stream": "stdout",
       "text": [
        "I0309 02:56:35.736481 1946825472 solver.cpp:207] Iteration 47200, loss = 58.9551\r\n",
        "I0309 02:56:35.736524 1946825472 solver.cpp:222]     Train net output #0: cross_entropy_loss = 58.9551 (* 1 = 58.9551 loss)\r\n",
        "I0309 02:56:35.736572 1946825472 solver.cpp:222]     Train net output #1: l2_error = 1.91854\r\n",
        "I0309 02:56:35.736582 1946825472 solver.cpp:419] Iteration 47200, lr = 1e-06\r\n"
       ]
      },
      {
       "output_type": "stream",
       "stream": "stdout",
       "text": [
        "I0309 02:56:38.713589 1946825472 solver.cpp:207] Iteration 47300, loss = 57.8716\r\n",
        "I0309 02:56:38.713652 1946825472 solver.cpp:222]     Train net output #0: cross_entropy_loss = 57.8716 (* 1 = 57.8716 loss)\r\n",
        "I0309 02:56:38.713662 1946825472 solver.cpp:222]     Train net output #1: l2_error = 1.94404\r\n",
        "I0309 02:56:38.713671 1946825472 solver.cpp:419] Iteration 47300, lr = 1e-06\r\n"
       ]
      },
      {
       "output_type": "stream",
       "stream": "stdout",
       "text": [
        "I0309 02:56:41.657482 1946825472 solver.cpp:207] Iteration 47400, loss = 59.8033\r\n",
        "I0309 02:56:41.657526 1946825472 solver.cpp:222]     Train net output #0: cross_entropy_loss = 59.8033 (* 1 = 59.8033 loss)\r\n",
        "I0309 02:56:41.657536 1946825472 solver.cpp:222]     Train net output #1: l2_error = 1.87743\r\n",
        "I0309 02:56:41.657543 1946825472 solver.cpp:419] Iteration 47400, lr = 1e-06\r\n"
       ]
      },
      {
       "output_type": "stream",
       "stream": "stdout",
       "text": [
        "I0309 02:56:44.628621 1946825472 solver.cpp:263] Iteration 47500, Testing net (#0)\r\n"
       ]
      },
      {
       "output_type": "stream",
       "stream": "stdout",
       "text": [
        "I0309 02:56:51.110662 1946825472 solver.cpp:301] Test loss: 60.6021\r\n",
        "I0309 02:56:51.110707 1946825472 solver.cpp:314]     Test net output #0: cross_entropy_loss = 60.6021 (* 1 = 60.6021 loss)\r\n",
        "I0309 02:56:51.110714 1946825472 solver.cpp:314]     Test net output #1: l2_error = 1.99589\r\n",
        "I0309 02:56:51.110721 1946825472 solver.cpp:263] Iteration 47500, Testing net (#1)\r\n"
       ]
      },
      {
       "output_type": "stream",
       "stream": "stdout",
       "text": [
        "I0309 02:56:52.380462 1946825472 solver.cpp:301] Test loss: 60.4986\r\n",
        "I0309 02:56:52.380509 1946825472 solver.cpp:314]     Test net output #0: cross_entropy_loss = 60.4986 (* 1 = 60.4986 loss)\r\n",
        "I0309 02:56:52.380522 1946825472 solver.cpp:314]     Test net output #1: l2_error = 2.02337\r\n",
        "I0309 02:56:52.401907 1946825472 solver.cpp:207] Iteration 47500, loss = 61.1034\r\n",
        "I0309 02:56:52.401953 1946825472 solver.cpp:222]     Train net output #0: cross_entropy_loss = 61.1034 (* 1 = 61.1034 loss)\r\n",
        "I0309 02:56:52.401963 1946825472 solver.cpp:222]     Train net output #1: l2_error = 2.03611\r\n",
        "I0309 02:56:52.401989 1946825472 solver.cpp:419] Iteration 47500, lr = 1e-06\r\n"
       ]
      },
      {
       "output_type": "stream",
       "stream": "stdout",
       "text": [
        "I0309 02:56:55.353647 1946825472 solver.cpp:207] Iteration 47600, loss = 61.3037\r\n",
        "I0309 02:56:55.353689 1946825472 solver.cpp:222]     Train net output #0: cross_entropy_loss = 61.3037 (* 1 = 61.3037 loss)\r\n",
        "I0309 02:56:55.353699 1946825472 solver.cpp:222]     Train net output #1: l2_error = 2.0408\r\n",
        "I0309 02:56:55.353708 1946825472 solver.cpp:419] Iteration 47600, lr = 1e-06\r\n"
       ]
      },
      {
       "output_type": "stream",
       "stream": "stdout",
       "text": [
        "I0309 02:56:58.270047 1946825472 solver.cpp:207] Iteration 47700, loss = 64.3178\r\n",
        "I0309 02:56:58.270092 1946825472 solver.cpp:222]     Train net output #0: cross_entropy_loss = 64.3178 (* 1 = 64.3178 loss)\r\n",
        "I0309 02:56:58.270102 1946825472 solver.cpp:222]     Train net output #1: l2_error = 2.25981\r\n",
        "I0309 02:56:58.270110 1946825472 solver.cpp:419] Iteration 47700, lr = 1e-06\r\n"
       ]
      },
      {
       "output_type": "stream",
       "stream": "stdout",
       "text": [
        "I0309 02:57:01.203280 1946825472 solver.cpp:207] Iteration 47800, loss = 58.9551\r\n",
        "I0309 02:57:01.203325 1946825472 solver.cpp:222]     Train net output #0: cross_entropy_loss = 58.9551 (* 1 = 58.9551 loss)\r\n",
        "I0309 02:57:01.203335 1946825472 solver.cpp:222]     Train net output #1: l2_error = 1.91853\r\n",
        "I0309 02:57:01.203342 1946825472 solver.cpp:419] Iteration 47800, lr = 1e-06\r\n"
       ]
      },
      {
       "output_type": "stream",
       "stream": "stdout",
       "text": [
        "I0309 02:57:04.113396 1946825472 solver.cpp:207] Iteration 47900, loss = 57.8715\r\n",
        "I0309 02:57:04.113448 1946825472 solver.cpp:222]     Train net output #0: cross_entropy_loss = 57.8715 (* 1 = 57.8715 loss)\r\n",
        "I0309 02:57:04.113462 1946825472 solver.cpp:222]     Train net output #1: l2_error = 1.94404\r\n",
        "I0309 02:57:04.113474 1946825472 solver.cpp:419] Iteration 47900, lr = 1e-06\r\n"
       ]
      },
      {
       "output_type": "stream",
       "stream": "stdout",
       "text": [
        "I0309 02:57:07.016051 1946825472 solver.cpp:263] Iteration 48000, Testing net (#0)\r\n"
       ]
      },
      {
       "output_type": "stream",
       "stream": "stdout",
       "text": [
        "I0309 02:57:13.482990 1946825472 solver.cpp:301] Test loss: 60.5309\r\n",
        "I0309 02:57:13.483062 1946825472 solver.cpp:314]     Test net output #0: cross_entropy_loss = 60.5309 (* 1 = 60.5309 loss)\r\n",
        "I0309 02:57:13.483070 1946825472 solver.cpp:314]     Test net output #1: l2_error = 1.9917\r\n",
        "I0309 02:57:13.483078 1946825472 solver.cpp:263] Iteration 48000, Testing net (#1)\r\n"
       ]
      },
      {
       "output_type": "stream",
       "stream": "stdout",
       "text": [
        "I0309 02:57:14.793918 1946825472 solver.cpp:301] Test loss: 60.4986\r\n",
        "I0309 02:57:14.793962 1946825472 solver.cpp:314]     Test net output #0: cross_entropy_loss = 60.4986 (* 1 = 60.4986 loss)\r\n",
        "I0309 02:57:14.793970 1946825472 solver.cpp:314]     Test net output #1: l2_error = 2.02338\r\n"
       ]
      },
      {
       "output_type": "stream",
       "stream": "stdout",
       "text": [
        "I0309 02:57:14.816040 1946825472 solver.cpp:207] Iteration 48000, loss = 59.8033\r\n",
        "I0309 02:57:14.816090 1946825472 solver.cpp:222]     Train net output #0: cross_entropy_loss = 59.8033 (* 1 = 59.8033 loss)\r\n",
        "I0309 02:57:14.816104 1946825472 solver.cpp:222]     Train net output #1: l2_error = 1.87743\r\n",
        "I0309 02:57:14.816115 1946825472 solver.cpp:419] Iteration 48000, lr = 1e-06\r\n"
       ]
      },
      {
       "output_type": "stream",
       "stream": "stdout",
       "text": [
        "I0309 02:57:17.809875 1946825472 solver.cpp:207] Iteration 48100, loss = 61.1033\r\n",
        "I0309 02:57:17.809918 1946825472 solver.cpp:222]     Train net output #0: cross_entropy_loss = 61.1033 (* 1 = 61.1033 loss)\r\n",
        "I0309 02:57:17.809927 1946825472 solver.cpp:222]     Train net output #1: l2_error = 2.0361\r\n",
        "I0309 02:57:17.809936 1946825472 solver.cpp:419] Iteration 48100, lr = 1e-06\r\n"
       ]
      },
      {
       "output_type": "stream",
       "stream": "stdout",
       "text": [
        "I0309 02:57:20.719341 1946825472 solver.cpp:207] Iteration 48200, loss = 61.3036\r\n",
        "I0309 02:57:20.719383 1946825472 solver.cpp:222]     Train net output #0: cross_entropy_loss = 61.3036 (* 1 = 61.3036 loss)\r\n",
        "I0309 02:57:20.719393 1946825472 solver.cpp:222]     Train net output #1: l2_error = 2.04079\r\n",
        "I0309 02:57:20.719401 1946825472 solver.cpp:419] Iteration 48200, lr = 1e-06\r\n"
       ]
      },
      {
       "output_type": "stream",
       "stream": "stdout",
       "text": [
        "I0309 02:57:23.738804 1946825472 solver.cpp:207] Iteration 48300, loss = 64.3178\r\n",
        "I0309 02:57:23.738848 1946825472 solver.cpp:222]     Train net output #0: cross_entropy_loss = 64.3178 (* 1 = 64.3178 loss)\r\n",
        "I0309 02:57:23.738857 1946825472 solver.cpp:222]     Train net output #1: l2_error = 2.25981\r\n",
        "I0309 02:57:23.738865 1946825472 solver.cpp:419] Iteration 48300, lr = 1e-06\r\n"
       ]
      },
      {
       "output_type": "stream",
       "stream": "stdout",
       "text": [
        "I0309 02:57:26.619316 1946825472 solver.cpp:207] Iteration 48400, loss = 58.955\r\n",
        "I0309 02:57:26.619362 1946825472 solver.cpp:222]     Train net output #0: cross_entropy_loss = 58.955 (* 1 = 58.955 loss)\r\n",
        "I0309 02:57:26.619371 1946825472 solver.cpp:222]     Train net output #1: l2_error = 1.91853\r\n",
        "I0309 02:57:26.619380 1946825472 solver.cpp:419] Iteration 48400, lr = 1e-06\r\n"
       ]
      },
      {
       "output_type": "stream",
       "stream": "stdout",
       "text": [
        "I0309 02:57:29.530536 1946825472 solver.cpp:263] Iteration 48500, Testing net (#0)\r\n"
       ]
      },
      {
       "output_type": "stream",
       "stream": "stdout",
       "text": [
        "I0309 02:57:35.904376 1946825472 solver.cpp:301] Test loss: 60.4043\r\n",
        "I0309 02:57:35.904418 1946825472 solver.cpp:314]     Test net output #0: cross_entropy_loss = 60.4043 (* 1 = 60.4043 loss)\r\n",
        "I0309 02:57:35.904428 1946825472 solver.cpp:314]     Test net output #1: l2_error = 1.97549\r\n",
        "I0309 02:57:35.904434 1946825472 solver.cpp:263] Iteration 48500, Testing net (#1)\r\n"
       ]
      },
      {
       "output_type": "stream",
       "stream": "stdout",
       "text": [
        "I0309 02:57:37.204116 1946825472 solver.cpp:301] Test loss: 60.4986\r\n",
        "I0309 02:57:37.204156 1946825472 solver.cpp:314]     Test net output #0: cross_entropy_loss = 60.4986 (* 1 = 60.4986 loss)\r\n",
        "I0309 02:57:37.204164 1946825472 solver.cpp:314]     Test net output #1: l2_error = 2.02338\r\n",
        "I0309 02:57:37.225483 1946825472 solver.cpp:207] Iteration 48500, loss = 57.8715\r\n",
        "I0309 02:57:37.225528 1946825472 solver.cpp:222]     Train net output #0: cross_entropy_loss = 57.8715 (* 1 = 57.8715 loss)\r\n",
        "I0309 02:57:37.225538 1946825472 solver.cpp:222]     Train net output #1: l2_error = 1.94403\r\n",
        "I0309 02:57:37.225546 1946825472 solver.cpp:419] Iteration 48500, lr = 1e-06\r\n"
       ]
      },
      {
       "output_type": "stream",
       "stream": "stdout",
       "text": [
        "I0309 02:57:40.172519 1946825472 solver.cpp:207] Iteration 48600, loss = 59.8033\r\n",
        "I0309 02:57:40.172564 1946825472 solver.cpp:222]     Train net output #0: cross_entropy_loss = 59.8033 (* 1 = 59.8033 loss)\r\n",
        "I0309 02:57:40.172572 1946825472 solver.cpp:222]     Train net output #1: l2_error = 1.87742\r\n",
        "I0309 02:57:40.172580 1946825472 solver.cpp:419] Iteration 48600, lr = 1e-06\r\n"
       ]
      },
      {
       "output_type": "stream",
       "stream": "stdout",
       "text": [
        "I0309 02:57:43.087456 1946825472 solver.cpp:207] Iteration 48700, loss = 61.1033\r\n",
        "I0309 02:57:43.087502 1946825472 solver.cpp:222]     Train net output #0: cross_entropy_loss = 61.1033 (* 1 = 61.1033 loss)\r\n"
       ]
      },
      {
       "output_type": "stream",
       "stream": "stdout",
       "text": [
        "I0309 02:57:43.087546 1946825472 solver.cpp:222]     Train net output #1: l2_error = 2.0361\r\n",
        "I0309 02:57:43.087558 1946825472 solver.cpp:419] Iteration 48700, lr = 1e-06\r\n"
       ]
      },
      {
       "output_type": "stream",
       "stream": "stdout",
       "text": [
        "I0309 02:57:46.110659 1946825472 solver.cpp:207] Iteration 48800, loss = 61.3035\r\n",
        "I0309 02:57:46.110723 1946825472 solver.cpp:222]     Train net output #0: cross_entropy_loss = 61.3035 (* 1 = 61.3035 loss)\r\n",
        "I0309 02:57:46.110731 1946825472 solver.cpp:222]     Train net output #1: l2_error = 2.04078\r\n",
        "I0309 02:57:46.110740 1946825472 solver.cpp:419] Iteration 48800, lr = 1e-06\r\n"
       ]
      },
      {
       "output_type": "stream",
       "stream": "stdout",
       "text": [
        "I0309 02:57:49.040551 1946825472 solver.cpp:207] Iteration 48900, loss = 64.3177\r\n",
        "I0309 02:57:49.040626 1946825472 solver.cpp:222]     Train net output #0: cross_entropy_loss = 64.3177 (* 1 = 64.3177 loss)\r\n",
        "I0309 02:57:49.040637 1946825472 solver.cpp:222]     Train net output #1: l2_error = 2.2598\r\n",
        "I0309 02:57:49.040645 1946825472 solver.cpp:419] Iteration 48900, lr = 1e-06\r\n"
       ]
      },
      {
       "output_type": "stream",
       "stream": "stdout",
       "text": [
        "I0309 02:57:52.049078 1946825472 solver.cpp:263] Iteration 49000, Testing net (#0)\r\n"
       ]
      },
      {
       "output_type": "stream",
       "stream": "stdout",
       "text": [
        "I0309 02:57:58.443354 1946825472 solver.cpp:301] Test loss: 60.5408\r\n",
        "I0309 02:57:58.443397 1946825472 solver.cpp:314]     Test net output #0: cross_entropy_loss = 60.5408 (* 1 = 60.5408 loss)\r\n",
        "I0309 02:57:58.443404 1946825472 solver.cpp:314]     Test net output #1: l2_error = 1.9886\r\n",
        "I0309 02:57:58.443411 1946825472 solver.cpp:263] Iteration 49000, Testing net (#1)\r\n"
       ]
      },
      {
       "output_type": "stream",
       "stream": "stdout",
       "text": [
        "I0309 02:57:59.718693 1946825472 solver.cpp:301] Test loss: 60.4986\r\n",
        "I0309 02:57:59.718734 1946825472 solver.cpp:314]     Test net output #0: cross_entropy_loss = 60.4986 (* 1 = 60.4986 loss)\r\n",
        "I0309 02:57:59.718741 1946825472 solver.cpp:314]     Test net output #1: l2_error = 2.0234\r\n"
       ]
      },
      {
       "output_type": "stream",
       "stream": "stdout",
       "text": [
        "I0309 02:57:59.740946 1946825472 solver.cpp:207] Iteration 49000, loss = 58.9549\r\n",
        "I0309 02:57:59.740989 1946825472 solver.cpp:222]     Train net output #0: cross_entropy_loss = 58.9549 (* 1 = 58.9549 loss)\r\n",
        "I0309 02:57:59.740998 1946825472 solver.cpp:222]     Train net output #1: l2_error = 1.91852\r\n",
        "I0309 02:57:59.741006 1946825472 solver.cpp:419] Iteration 49000, lr = 1e-06\r\n"
       ]
      },
      {
       "output_type": "stream",
       "stream": "stdout",
       "text": [
        "I0309 02:58:02.659343 1946825472 solver.cpp:207] Iteration 49100, loss = 57.8714\r\n",
        "I0309 02:58:02.659389 1946825472 solver.cpp:222]     Train net output #0: cross_entropy_loss = 57.8714 (* 1 = 57.8714 loss)\r\n",
        "I0309 02:58:02.659399 1946825472 solver.cpp:222]     Train net output #1: l2_error = 1.94402\r\n",
        "I0309 02:58:02.659407 1946825472 solver.cpp:419] Iteration 49100, lr = 1e-06\r\n"
       ]
      },
      {
       "output_type": "stream",
       "stream": "stdout",
       "text": [
        "I0309 02:58:05.744402 1946825472 solver.cpp:207] Iteration 49200, loss = 59.8032\r\n",
        "I0309 02:58:05.744448 1946825472 solver.cpp:222]     Train net output #0: cross_entropy_loss = 59.8032 (* 1 = 59.8032 loss)\r\n",
        "I0309 02:58:05.744458 1946825472 solver.cpp:222]     Train net output #1: l2_error = 1.87742\r\n",
        "I0309 02:58:05.744467 1946825472 solver.cpp:419] Iteration 49200, lr = 1e-06\r\n"
       ]
      },
      {
       "output_type": "stream",
       "stream": "stdout",
       "text": [
        "I0309 02:58:08.678128 1946825472 solver.cpp:207] Iteration 49300, loss = 61.1033\r\n",
        "I0309 02:58:08.678171 1946825472 solver.cpp:222]     Train net output #0: cross_entropy_loss = 61.1033 (* 1 = 61.1033 loss)\r\n",
        "I0309 02:58:08.678179 1946825472 solver.cpp:222]     Train net output #1: l2_error = 2.03609\r\n",
        "I0309 02:58:08.678189 1946825472 solver.cpp:419] Iteration 49300, lr = 1e-06\r\n"
       ]
      },
      {
       "output_type": "stream",
       "stream": "stdout",
       "text": [
        "I0309 02:58:11.622684 1946825472 solver.cpp:207] Iteration 49400, loss = 61.3035\r\n",
        "I0309 02:58:11.622727 1946825472 solver.cpp:222]     Train net output #0: cross_entropy_loss = 61.3035 (* 1 = 61.3035 loss)\r\n",
        "I0309 02:58:11.622736 1946825472 solver.cpp:222]     Train net output #1: l2_error = 2.04078\r\n",
        "I0309 02:58:11.622745 1946825472 solver.cpp:419] Iteration 49400, lr = 1e-06\r\n"
       ]
      },
      {
       "output_type": "stream",
       "stream": "stdout",
       "text": [
        "I0309 02:58:14.542747 1946825472 solver.cpp:263] Iteration 49500, Testing net (#0)\r\n"
       ]
      },
      {
       "output_type": "stream",
       "stream": "stdout",
       "text": [
        "I0309 02:58:20.945147 1946825472 solver.cpp:301] Test loss: 60.6296\r\n",
        "I0309 02:58:20.945227 1946825472 solver.cpp:314]     Test net output #0: cross_entropy_loss = 60.6296 (* 1 = 60.6296 loss)\r\n",
        "I0309 02:58:20.945236 1946825472 solver.cpp:314]     Test net output #1: l2_error = 1.9933\r\n",
        "I0309 02:58:20.945243 1946825472 solver.cpp:263] Iteration 49500, Testing net (#1)\r\n"
       ]
      },
      {
       "output_type": "stream",
       "stream": "stdout",
       "text": [
        "I0309 02:58:22.216616 1946825472 solver.cpp:301] Test loss: 60.4985\r\n",
        "I0309 02:58:22.216658 1946825472 solver.cpp:314]     Test net output #0: cross_entropy_loss = 60.4985 (* 1 = 60.4985 loss)\r\n",
        "I0309 02:58:22.216667 1946825472 solver.cpp:314]     Test net output #1: l2_error = 2.02343\r\n",
        "I0309 02:58:22.238162 1946825472 solver.cpp:207] Iteration 49500, loss = 64.3178\r\n",
        "I0309 02:58:22.238204 1946825472 solver.cpp:222]     Train net output #0: cross_entropy_loss = 64.3178 (* 1 = 64.3178 loss)\r\n",
        "I0309 02:58:22.238214 1946825472 solver.cpp:222]     Train net output #1: l2_error = 2.2598\r\n",
        "I0309 02:58:22.238221 1946825472 solver.cpp:419] Iteration 49500, lr = 1e-06\r\n"
       ]
      },
      {
       "output_type": "stream",
       "stream": "stdout",
       "text": [
        "I0309 02:58:25.097271 1946825472 solver.cpp:207] Iteration 49600, loss = 58.9549\r\n",
        "I0309 02:58:25.097317 1946825472 solver.cpp:222]     Train net output #0: cross_entropy_loss = 58.9549 (* 1 = 58.9549 loss)\r\n",
        "I0309 02:58:25.097327 1946825472 solver.cpp:222]     Train net output #1: l2_error = 1.91852\r\n",
        "I0309 02:58:25.097336 1946825472 solver.cpp:419] Iteration 49600, lr = 1e-06\r\n"
       ]
      },
      {
       "output_type": "stream",
       "stream": "stdout",
       "text": [
        "I0309 02:58:28.021312 1946825472 solver.cpp:207] Iteration 49700, loss = 57.8713\r\n",
        "I0309 02:58:28.021356 1946825472 solver.cpp:222]     Train net output #0: cross_entropy_loss = 57.8713 (* 1 = 57.8713 loss)\r\n",
        "I0309 02:58:28.021365 1946825472 solver.cpp:222]     Train net output #1: l2_error = 1.94401\r\n",
        "I0309 02:58:28.021373 1946825472 solver.cpp:419] Iteration 49700, lr = 1e-06\r\n"
       ]
      },
      {
       "output_type": "stream",
       "stream": "stdout",
       "text": [
        "I0309 02:58:30.932468 1946825472 solver.cpp:207] Iteration 49800, loss = 59.8032\r\n",
        "I0309 02:58:30.932512 1946825472 solver.cpp:222]     Train net output #0: cross_entropy_loss = 59.8032 (* 1 = 59.8032 loss)\r\n",
        "I0309 02:58:30.932521 1946825472 solver.cpp:222]     Train net output #1: l2_error = 1.87741\r\n",
        "I0309 02:58:30.932529 1946825472 solver.cpp:419] Iteration 49800, lr = 1e-06\r\n"
       ]
      },
      {
       "output_type": "stream",
       "stream": "stdout",
       "text": [
        "I0309 02:58:33.855464 1946825472 solver.cpp:207] Iteration 49900, loss = 61.1033\r\n",
        "I0309 02:58:33.855507 1946825472 solver.cpp:222]     Train net output #0: cross_entropy_loss = 61.1033 (* 1 = 61.1033 loss)\r\n",
        "I0309 02:58:33.855516 1946825472 solver.cpp:222]     Train net output #1: l2_error = 2.03609\r\n",
        "I0309 02:58:33.855525 1946825472 solver.cpp:419] Iteration 49900, lr = 1e-06\r\n"
       ]
      },
      {
       "output_type": "stream",
       "stream": "stdout",
       "text": [
        "I0309 02:58:36.753062 1946825472 solver.cpp:333] Snapshotting to examples/mnist/mnist_autoencoder_iter_50000.caffemodel\r\n"
       ]
      },
      {
       "output_type": "stream",
       "stream": "stdout",
       "text": [
        "I0309 02:58:36.836091 1946825472 solver.cpp:340] Snapshotting solver state to examples/mnist/mnist_autoencoder_iter_50000.solverstate\r\n"
       ]
      },
      {
       "output_type": "stream",
       "stream": "stdout",
       "text": [
        "I0309 02:58:36.900557 1946825472 solver.cpp:263] Iteration 50000, Testing net (#0)\r\n"
       ]
      },
      {
       "output_type": "stream",
       "stream": "stdout",
       "text": [
        "I0309 02:58:43.351246 1946825472 solver.cpp:301] Test loss: 60.631\r\n",
        "I0309 02:58:43.351287 1946825472 solver.cpp:314]     Test net output #0: cross_entropy_loss = 60.631 (* 1 = 60.631 loss)\r\n",
        "I0309 02:58:43.351296 1946825472 solver.cpp:314]     Test net output #1: l2_error = 1.99427\r\n",
        "I0309 02:58:43.351302 1946825472 solver.cpp:263] Iteration 50000, Testing net (#1)\r\n"
       ]
      },
      {
       "output_type": "stream",
       "stream": "stdout",
       "text": [
        "I0309 02:58:44.658949 1946825472 solver.cpp:301] Test loss: 60.4986\r\n",
        "I0309 02:58:44.658993 1946825472 solver.cpp:314]     Test net output #0: cross_entropy_loss = 60.4986 (* 1 = 60.4986 loss)\r\n",
        "I0309 02:58:44.659000 1946825472 solver.cpp:314]     Test net output #1: l2_error = 2.02338\r\n"
       ]
      },
      {
       "output_type": "stream",
       "stream": "stdout",
       "text": [
        "I0309 02:58:44.682091 1946825472 solver.cpp:207] Iteration 50000, loss = 61.3034\r\n",
        "I0309 02:58:44.682132 1946825472 solver.cpp:222]     Train net output #0: cross_entropy_loss = 61.3034 (* 1 = 61.3034 loss)\r\n",
        "I0309 02:58:44.682140 1946825472 solver.cpp:222]     Train net output #1: l2_error = 2.04077\r\n",
        "I0309 02:58:44.682148 1946825472 solver.cpp:419] Iteration 50000, lr = 1e-07\r\n"
       ]
      },
      {
       "output_type": "stream",
       "stream": "stdout",
       "text": [
        "I0309 02:58:47.634251 1946825472 solver.cpp:207] Iteration 50100, loss = 64.3176\r\n",
        "I0309 02:58:47.634296 1946825472 solver.cpp:222]     Train net output #0: cross_entropy_loss = 64.3176 (* 1 = 64.3176 loss)\r\n",
        "I0309 02:58:47.634305 1946825472 solver.cpp:222]     Train net output #1: l2_error = 2.25972\r\n",
        "I0309 02:58:47.634351 1946825472 solver.cpp:419] Iteration 50100, lr = 1e-07\r\n"
       ]
      },
      {
       "output_type": "stream",
       "stream": "stdout",
       "text": [
        "I0309 02:58:50.612339 1946825472 solver.cpp:207] Iteration 50200, loss = 58.9546\r\n",
        "I0309 02:58:50.612382 1946825472 solver.cpp:222]     Train net output #0: cross_entropy_loss = 58.9546 (* 1 = 58.9546 loss)\r\n",
        "I0309 02:58:50.612392 1946825472 solver.cpp:222]     Train net output #1: l2_error = 1.91848\r\n",
        "I0309 02:58:50.612401 1946825472 solver.cpp:419] Iteration 50200, lr = 1e-07\r\n"
       ]
      },
      {
       "output_type": "stream",
       "stream": "stdout",
       "text": [
        "I0309 02:58:53.540285 1946825472 solver.cpp:207] Iteration 50300, loss = 57.8712\r\n",
        "I0309 02:58:53.540343 1946825472 solver.cpp:222]     Train net output #0: cross_entropy_loss = 57.8712 (* 1 = 57.8712 loss)\r\n",
        "I0309 02:58:53.540352 1946825472 solver.cpp:222]     Train net output #1: l2_error = 1.94394\r\n",
        "I0309 02:58:53.540360 1946825472 solver.cpp:419] Iteration 50300, lr = 1e-07\r\n"
       ]
      },
      {
       "output_type": "stream",
       "stream": "stdout",
       "text": [
        "I0309 02:58:56.449581 1946825472 solver.cpp:207] Iteration 50400, loss = 59.8028\r\n",
        "I0309 02:58:56.449625 1946825472 solver.cpp:222]     Train net output #0: cross_entropy_loss = 59.8028 (* 1 = 59.8028 loss)\r\n",
        "I0309 02:58:56.449635 1946825472 solver.cpp:222]     Train net output #1: l2_error = 1.87739\r\n",
        "I0309 02:58:56.449643 1946825472 solver.cpp:419] Iteration 50400, lr = 1e-07\r\n"
       ]
      },
      {
       "output_type": "stream",
       "stream": "stdout",
       "text": [
        "I0309 02:58:59.466620 1946825472 solver.cpp:263] Iteration 50500, Testing net (#0)\r\n"
       ]
      },
      {
       "output_type": "stream",
       "stream": "stdout",
       "text": [
        "I0309 02:59:05.830837 1946825472 solver.cpp:301] Test loss: 60.602\r\n",
        "I0309 02:59:05.830889 1946825472 solver.cpp:314]     Test net output #0: cross_entropy_loss = 60.602 (* 1 = 60.602 loss)\r\n",
        "I0309 02:59:05.830899 1946825472 solver.cpp:314]     Test net output #1: l2_error = 1.9959\r\n",
        "I0309 02:59:05.830905 1946825472 solver.cpp:263] Iteration 50500, Testing net (#1)\r\n"
       ]
      },
      {
       "output_type": "stream",
       "stream": "stdout",
       "text": [
        "I0309 02:59:07.099354 1946825472 solver.cpp:301] Test loss: 60.4986\r\n",
        "I0309 02:59:07.099397 1946825472 solver.cpp:314]     Test net output #0: cross_entropy_loss = 60.4986 (* 1 = 60.4986 loss)\r\n",
        "I0309 02:59:07.099406 1946825472 solver.cpp:314]     Test net output #1: l2_error = 2.02338\r\n",
        "I0309 02:59:07.121295 1946825472 solver.cpp:207] Iteration 50500, loss = 61.103\r\n",
        "I0309 02:59:07.121338 1946825472 solver.cpp:222]     Train net output #0: cross_entropy_loss = 61.103 (* 1 = 61.103 loss)\r\n",
        "I0309 02:59:07.121347 1946825472 solver.cpp:222]     Train net output #1: l2_error = 2.03607\r\n",
        "I0309 02:59:07.121356 1946825472 solver.cpp:419] Iteration 50500, lr = 1e-07\r\n"
       ]
      },
      {
       "output_type": "stream",
       "stream": "stdout",
       "text": [
        "I0309 02:59:09.984400 1946825472 solver.cpp:207] Iteration 50600, loss = 61.3033\r\n",
        "I0309 02:59:09.984439 1946825472 solver.cpp:222]     Train net output #0: cross_entropy_loss = 61.3033 (* 1 = 61.3033 loss)\r\n",
        "I0309 02:59:09.984448 1946825472 solver.cpp:222]     Train net output #1: l2_error = 2.04077\r\n",
        "I0309 02:59:09.984457 1946825472 solver.cpp:419] Iteration 50600, lr = 1e-07\r\n"
       ]
      },
      {
       "output_type": "stream",
       "stream": "stdout",
       "text": [
        "I0309 02:59:12.948722 1946825472 solver.cpp:207] Iteration 50700, loss = 64.3175\r\n",
        "I0309 02:59:12.948766 1946825472 solver.cpp:222]     Train net output #0: cross_entropy_loss = 64.3175 (* 1 = 64.3175 loss)\r\n",
        "I0309 02:59:12.948776 1946825472 solver.cpp:222]     Train net output #1: l2_error = 2.25971\r\n",
        "I0309 02:59:12.948784 1946825472 solver.cpp:419] Iteration 50700, lr = 1e-07\r\n"
       ]
      },
      {
       "output_type": "stream",
       "stream": "stdout",
       "text": [
        "I0309 02:59:15.865931 1946825472 solver.cpp:207] Iteration 50800, loss = 58.9546\r\n",
        "I0309 02:59:15.865978 1946825472 solver.cpp:222]     Train net output #0: cross_entropy_loss = 58.9546 (* 1 = 58.9546 loss)\r\n",
        "I0309 02:59:15.865989 1946825472 solver.cpp:222]     Train net output #1: l2_error = 1.91848\r\n",
        "I0309 02:59:15.865998 1946825472 solver.cpp:419] Iteration 50800, lr = 1e-07\r\n"
       ]
      },
      {
       "output_type": "stream",
       "stream": "stdout",
       "text": [
        "I0309 02:59:18.851755 1946825472 solver.cpp:207] Iteration 50900, loss = 57.8712\r\n",
        "I0309 02:59:18.851804 1946825472 solver.cpp:222]     Train net output #0: cross_entropy_loss = 57.8712 (* 1 = 57.8712 loss)\r\n",
        "I0309 02:59:18.851815 1946825472 solver.cpp:222]     Train net output #1: l2_error = 1.94394\r\n",
        "I0309 02:59:18.851824 1946825472 solver.cpp:419] Iteration 50900, lr = 1e-07\r\n"
       ]
      },
      {
       "output_type": "stream",
       "stream": "stdout",
       "text": [
        "I0309 02:59:21.714424 1946825472 solver.cpp:263] Iteration 51000, Testing net (#0)\r\n"
       ]
      },
      {
       "output_type": "stream",
       "stream": "stdout",
       "text": [
        "I0309 02:59:28.071096 1946825472 solver.cpp:301] Test loss: 60.5308\r\n",
        "I0309 02:59:28.071171 1946825472 solver.cpp:314]     Test net output #0: cross_entropy_loss = 60.5308 (* 1 = 60.5308 loss)\r\n",
        "I0309 02:59:28.071180 1946825472 solver.cpp:314]     Test net output #1: l2_error = 1.99169\r\n",
        "I0309 02:59:28.071187 1946825472 solver.cpp:263] Iteration 51000, Testing net (#1)\r\n"
       ]
      },
      {
       "output_type": "stream",
       "stream": "stdout",
       "text": [
        "I0309 02:59:29.353695 1946825472 solver.cpp:301] Test loss: 60.4985\r\n",
        "I0309 02:59:29.353739 1946825472 solver.cpp:314]     Test net output #0: cross_entropy_loss = 60.4985 (* 1 = 60.4985 loss)\r\n",
        "I0309 02:59:29.353747 1946825472 solver.cpp:314]     Test net output #1: l2_error = 2.02339\r\n"
       ]
      },
      {
       "output_type": "stream",
       "stream": "stdout",
       "text": [
        "I0309 02:59:29.375463 1946825472 solver.cpp:207] Iteration 51000, loss = 59.8028\r\n",
        "I0309 02:59:29.375507 1946825472 solver.cpp:222]     Train net output #0: cross_entropy_loss = 59.8028 (* 1 = 59.8028 loss)\r\n",
        "I0309 02:59:29.375516 1946825472 solver.cpp:222]     Train net output #1: l2_error = 1.87739\r\n",
        "I0309 02:59:29.375524 1946825472 solver.cpp:419] Iteration 51000, lr = 1e-07\r\n"
       ]
      },
      {
       "output_type": "stream",
       "stream": "stdout",
       "text": [
        "I0309 02:59:32.287567 1946825472 solver.cpp:207] Iteration 51100, loss = 61.103\r\n",
        "I0309 02:59:32.287612 1946825472 solver.cpp:222]     Train net output #0: cross_entropy_loss = 61.103 (* 1 = 61.103 loss)\r\n",
        "I0309 02:59:32.287621 1946825472 solver.cpp:222]     Train net output #1: l2_error = 2.03607\r\n",
        "I0309 02:59:32.287631 1946825472 solver.cpp:419] Iteration 51100, lr = 1e-07\r\n"
       ]
      },
      {
       "output_type": "stream",
       "stream": "stdout",
       "text": [
        "I0309 02:59:35.191182 1946825472 solver.cpp:207] Iteration 51200, loss = 61.3033\r\n",
        "I0309 02:59:35.191226 1946825472 solver.cpp:222]     Train net output #0: cross_entropy_loss = 61.3033 (* 1 = 61.3033 loss)\r\n",
        "I0309 02:59:35.191237 1946825472 solver.cpp:222]     Train net output #1: l2_error = 2.04077\r\n",
        "I0309 02:59:35.191246 1946825472 solver.cpp:419] Iteration 51200, lr = 1e-07\r\n"
       ]
      },
      {
       "output_type": "stream",
       "stream": "stdout",
       "text": [
        "I0309 02:59:38.155900 1946825472 solver.cpp:207] Iteration 51300, loss = 64.3175\r\n",
        "I0309 02:59:38.155944 1946825472 solver.cpp:222]     Train net output #0: cross_entropy_loss = 64.3175 (* 1 = 64.3175 loss)\r\n",
        "I0309 02:59:38.155953 1946825472 solver.cpp:222]     Train net output #1: l2_error = 2.25971\r\n",
        "I0309 02:59:38.155962 1946825472 solver.cpp:419] Iteration 51300, lr = 1e-07\r\n"
       ]
      },
      {
       "output_type": "stream",
       "stream": "stdout",
       "text": [
        "I0309 02:59:41.059944 1946825472 solver.cpp:207] Iteration 51400, loss = 58.9545\r\n",
        "I0309 02:59:41.059990 1946825472 solver.cpp:222]     Train net output #0: cross_entropy_loss = 58.9545 (* 1 = 58.9545 loss)\r\n",
        "I0309 02:59:41.059999 1946825472 solver.cpp:222]     Train net output #1: l2_error = 1.91847\r\n",
        "I0309 02:59:41.060008 1946825472 solver.cpp:419] Iteration 51400, lr = 1e-07\r\n"
       ]
      },
      {
       "output_type": "stream",
       "stream": "stdout",
       "text": [
        "I0309 02:59:44.062899 1946825472 solver.cpp:263] Iteration 51500, Testing net (#0)\r\n"
       ]
      },
      {
       "output_type": "stream",
       "stream": "stdout",
       "text": [
        "I0309 02:59:50.749152 1946825472 solver.cpp:301] Test loss: 60.4042\r\n",
        "I0309 02:59:50.749197 1946825472 solver.cpp:314]     Test net output #0: cross_entropy_loss = 60.4042 (* 1 = 60.4042 loss)\r\n",
        "I0309 02:59:50.749205 1946825472 solver.cpp:314]     Test net output #1: l2_error = 1.97546\r\n",
        "I0309 02:59:50.749212 1946825472 solver.cpp:263] Iteration 51500, Testing net (#1)\r\n"
       ]
      },
      {
       "output_type": "stream",
       "stream": "stdout",
       "text": [
        "I0309 02:59:52.016307 1946825472 solver.cpp:301] Test loss: 60.4986\r\n",
        "I0309 02:59:52.016350 1946825472 solver.cpp:314]     Test net output #0: cross_entropy_loss = 60.4986 (* 1 = 60.4986 loss)\r\n",
        "I0309 02:59:52.016358 1946825472 solver.cpp:314]     Test net output #1: l2_error = 2.02338\r\n"
       ]
      },
      {
       "output_type": "stream",
       "stream": "stdout",
       "text": [
        "I0309 02:59:52.038061 1946825472 solver.cpp:207] Iteration 51500, loss = 57.8713\r\n",
        "I0309 02:59:52.038110 1946825472 solver.cpp:222]     Train net output #0: cross_entropy_loss = 57.8713 (* 1 = 57.8713 loss)\r\n",
        "I0309 02:59:52.038118 1946825472 solver.cpp:222]     Train net output #1: l2_error = 1.94395\r\n",
        "I0309 02:59:52.038126 1946825472 solver.cpp:419] Iteration 51500, lr = 1e-07\r\n"
       ]
      },
      {
       "output_type": "stream",
       "stream": "stdout",
       "text": [
        "I0309 02:59:54.989267 1946825472 solver.cpp:207] Iteration 51600, loss = 59.8028\r\n",
        "I0309 02:59:54.989313 1946825472 solver.cpp:222]     Train net output #0: cross_entropy_loss = 59.8028 (* 1 = 59.8028 loss)\r\n",
        "I0309 02:59:54.989322 1946825472 solver.cpp:222]     Train net output #1: l2_error = 1.87739\r\n",
        "I0309 02:59:54.989331 1946825472 solver.cpp:419] Iteration 51600, lr = 1e-07\r\n"
       ]
      },
      {
       "output_type": "stream",
       "stream": "stdout",
       "text": [
        "I0309 02:59:57.910276 1946825472 solver.cpp:207] Iteration 51700, loss = 61.103\r\n",
        "I0309 02:59:57.910320 1946825472 solver.cpp:222]     Train net output #0: cross_entropy_loss = 61.103 (* 1 = 61.103 loss)\r\n",
        "I0309 02:59:57.910367 1946825472 solver.cpp:222]     Train net output #1: l2_error = 2.03608\r\n",
        "I0309 02:59:57.910375 1946825472 solver.cpp:419] Iteration 51700, lr = 1e-07\r\n"
       ]
      },
      {
       "output_type": "stream",
       "stream": "stdout",
       "text": [
        "I0309 03:00:01.497164 1946825472 solver.cpp:207] Iteration 51800, loss = 61.3032\r\n",
        "I0309 03:00:01.497225 1946825472 solver.cpp:222]     Train net output #0: cross_entropy_loss = 61.3032 (* 1 = 61.3032 loss)\r\n",
        "I0309 03:00:01.497234 1946825472 solver.cpp:222]     Train net output #1: l2_error = 2.04076\r\n",
        "I0309 03:00:01.497243 1946825472 solver.cpp:419] Iteration 51800, lr = 1e-07\r\n"
       ]
      },
      {
       "output_type": "stream",
       "stream": "stdout",
       "text": [
        "I0309 03:00:04.561905 1946825472 solver.cpp:207] Iteration 51900, loss = 64.3175\r\n",
        "I0309 03:00:04.561960 1946825472 solver.cpp:222]     Train net output #0: cross_entropy_loss = 64.3175 (* 1 = 64.3175 loss)\r\n",
        "I0309 03:00:04.561970 1946825472 solver.cpp:222]     Train net output #1: l2_error = 2.25971\r\n",
        "I0309 03:00:04.561978 1946825472 solver.cpp:419] Iteration 51900, lr = 1e-07\r\n"
       ]
      },
      {
       "output_type": "stream",
       "stream": "stdout",
       "text": [
        "I0309 03:00:07.530062 1946825472 solver.cpp:263] Iteration 52000, Testing net (#0)\r\n"
       ]
      },
      {
       "output_type": "stream",
       "stream": "stdout",
       "text": [
        "I0309 03:00:13.998991 1946825472 solver.cpp:301] Test loss: 60.5407\r\n",
        "I0309 03:00:13.999032 1946825472 solver.cpp:314]     Test net output #0: cross_entropy_loss = 60.5407 (* 1 = 60.5407 loss)\r\n",
        "I0309 03:00:13.999042 1946825472 solver.cpp:314]     Test net output #1: l2_error = 1.98856\r\n",
        "I0309 03:00:13.999048 1946825472 solver.cpp:263] Iteration 52000, Testing net (#1)\r\n"
       ]
      },
      {
       "output_type": "stream",
       "stream": "stdout",
       "text": [
        "I0309 03:00:15.281150 1946825472 solver.cpp:301] Test loss: 60.4986\r\n",
        "I0309 03:00:15.281189 1946825472 solver.cpp:314]     Test net output #0: cross_entropy_loss = 60.4986 (* 1 = 60.4986 loss)\r\n",
        "I0309 03:00:15.281198 1946825472 solver.cpp:314]     Test net output #1: l2_error = 2.02339\r\n",
        "I0309 03:00:15.303304 1946825472 solver.cpp:207] Iteration 52000, loss = 58.9546\r\n",
        "I0309 03:00:15.303349 1946825472 solver.cpp:222]     Train net output #0: cross_entropy_loss = 58.9546 (* 1 = 58.9546 loss)\r\n",
        "I0309 03:00:15.303357 1946825472 solver.cpp:222]     Train net output #1: l2_error = 1.91847\r\n",
        "I0309 03:00:15.303365 1946825472 solver.cpp:419] Iteration 52000, lr = 1e-07\r\n"
       ]
      },
      {
       "output_type": "stream",
       "stream": "stdout",
       "text": [
        "I0309 03:00:18.311386 1946825472 solver.cpp:207] Iteration 52100, loss = 57.8713\r\n",
        "I0309 03:00:18.311430 1946825472 solver.cpp:222]     Train net output #0: cross_entropy_loss = 57.8713 (* 1 = 57.8713 loss)\r\n",
        "I0309 03:00:18.311439 1946825472 solver.cpp:222]     Train net output #1: l2_error = 1.94395\r\n",
        "I0309 03:00:18.311449 1946825472 solver.cpp:419] Iteration 52100, lr = 1e-07\r\n"
       ]
      },
      {
       "output_type": "stream",
       "stream": "stdout",
       "text": [
        "I0309 03:00:21.251124 1946825472 solver.cpp:207] Iteration 52200, loss = 59.8028\r\n",
        "I0309 03:00:21.251169 1946825472 solver.cpp:222]     Train net output #0: cross_entropy_loss = 59.8028 (* 1 = 59.8028 loss)\r\n",
        "I0309 03:00:21.251178 1946825472 solver.cpp:222]     Train net output #1: l2_error = 1.87739\r\n",
        "I0309 03:00:21.251188 1946825472 solver.cpp:419] Iteration 52200, lr = 1e-07\r\n"
       ]
      },
      {
       "output_type": "stream",
       "stream": "stdout",
       "text": [
        "I0309 03:00:24.234316 1946825472 solver.cpp:207] Iteration 52300, loss = 61.1031\r\n",
        "I0309 03:00:24.234360 1946825472 solver.cpp:222]     Train net output #0: cross_entropy_loss = 61.1031 (* 1 = 61.1031 loss)\r\n",
        "I0309 03:00:24.234369 1946825472 solver.cpp:222]     Train net output #1: l2_error = 2.03608\r\n",
        "I0309 03:00:24.234379 1946825472 solver.cpp:419] Iteration 52300, lr = 1e-07\r\n"
       ]
      },
      {
       "output_type": "stream",
       "stream": "stdout",
       "text": [
        "I0309 03:00:27.136579 1946825472 solver.cpp:207] Iteration 52400, loss = 61.3033\r\n",
        "I0309 03:00:27.136621 1946825472 solver.cpp:222]     Train net output #0: cross_entropy_loss = 61.3033 (* 1 = 61.3033 loss)\r\n",
        "I0309 03:00:27.136631 1946825472 solver.cpp:222]     Train net output #1: l2_error = 2.04076\r\n",
        "I0309 03:00:27.136639 1946825472 solver.cpp:419] Iteration 52400, lr = 1e-07\r\n"
       ]
      },
      {
       "output_type": "stream",
       "stream": "stdout",
       "text": [
        "I0309 03:00:30.010690 1946825472 solver.cpp:263] Iteration 52500, Testing net (#0)\r\n"
       ]
      },
      {
       "output_type": "stream",
       "stream": "stdout",
       "text": [
        "I0309 03:00:36.415320 1946825472 solver.cpp:301] Test loss: 60.6295\r\n",
        "I0309 03:00:36.415398 1946825472 solver.cpp:314]     Test net output #0: cross_entropy_loss = 60.6295 (* 1 = 60.6295 loss)\r\n",
        "I0309 03:00:36.415407 1946825472 solver.cpp:314]     Test net output #1: l2_error = 1.99323\r\n",
        "I0309 03:00:36.415415 1946825472 solver.cpp:263] Iteration 52500, Testing net (#1)\r\n"
       ]
      },
      {
       "output_type": "stream",
       "stream": "stdout",
       "text": [
        "I0309 03:00:37.688169 1946825472 solver.cpp:301] Test loss: 60.4986\r\n",
        "I0309 03:00:37.688211 1946825472 solver.cpp:314]     Test net output #0: cross_entropy_loss = 60.4986 (* 1 = 60.4986 loss)\r\n",
        "I0309 03:00:37.688220 1946825472 solver.cpp:314]     Test net output #1: l2_error = 2.02339\r\n"
       ]
      },
      {
       "output_type": "stream",
       "stream": "stdout",
       "text": [
        "I0309 03:00:37.709967 1946825472 solver.cpp:207] Iteration 52500, loss = 64.3175\r\n",
        "I0309 03:00:37.710011 1946825472 solver.cpp:222]     Train net output #0: cross_entropy_loss = 64.3175 (* 1 = 64.3175 loss)\r\n",
        "I0309 03:00:37.710019 1946825472 solver.cpp:222]     Train net output #1: l2_error = 2.2597\r\n",
        "I0309 03:00:37.710027 1946825472 solver.cpp:419] Iteration 52500, lr = 1e-07\r\n"
       ]
      },
      {
       "output_type": "stream",
       "stream": "stdout",
       "text": [
        "I0309 03:00:40.794497 1946825472 solver.cpp:207] Iteration 52600, loss = 58.9545\r\n",
        "I0309 03:00:40.794543 1946825472 solver.cpp:222]     Train net output #0: cross_entropy_loss = 58.9545 (* 1 = 58.9545 loss)\r\n",
        "I0309 03:00:40.794553 1946825472 solver.cpp:222]     Train net output #1: l2_error = 1.91847\r\n",
        "I0309 03:00:40.794561 1946825472 solver.cpp:419] Iteration 52600, lr = 1e-07\r\n"
       ]
      },
      {
       "output_type": "stream",
       "stream": "stdout",
       "text": [
        "I0309 03:00:43.848656 1946825472 solver.cpp:207] Iteration 52700, loss = 57.8713\r\n",
        "I0309 03:00:43.848701 1946825472 solver.cpp:222]     Train net output #0: cross_entropy_loss = 57.8713 (* 1 = 57.8713 loss)\r\n",
        "I0309 03:00:43.848709 1946825472 solver.cpp:222]     Train net output #1: l2_error = 1.94395\r\n",
        "I0309 03:00:43.848717 1946825472 solver.cpp:419] Iteration 52700, lr = 1e-07\r\n"
       ]
      },
      {
       "output_type": "stream",
       "stream": "stdout",
       "text": [
        "I0309 03:00:46.864862 1946825472 solver.cpp:207] Iteration 52800, loss = 59.8028\r\n",
        "I0309 03:00:46.864907 1946825472 solver.cpp:222]     Train net output #0: cross_entropy_loss = 59.8028 (* 1 = 59.8028 loss)\r\n",
        "I0309 03:00:46.864915 1946825472 solver.cpp:222]     Train net output #1: l2_error = 1.87739\r\n",
        "I0309 03:00:46.864923 1946825472 solver.cpp:419] Iteration 52800, lr = 1e-07\r\n"
       ]
      },
      {
       "output_type": "stream",
       "stream": "stdout",
       "text": [
        "I0309 03:00:49.824566 1946825472 solver.cpp:207] Iteration 52900, loss = 61.103\r\n",
        "I0309 03:00:49.824609 1946825472 solver.cpp:222]     Train net output #0: cross_entropy_loss = 61.103 (* 1 = 61.103 loss)\r\n",
        "I0309 03:00:49.824620 1946825472 solver.cpp:222]     Train net output #1: l2_error = 2.03608\r\n",
        "I0309 03:00:49.824628 1946825472 solver.cpp:419] Iteration 52900, lr = 1e-07\r\n"
       ]
      },
      {
       "output_type": "stream",
       "stream": "stdout",
       "text": [
        "I0309 03:00:52.736953 1946825472 solver.cpp:263] Iteration 53000, Testing net (#0)\r\n"
       ]
      },
      {
       "output_type": "stream",
       "stream": "stdout",
       "text": [
        "I0309 03:00:59.094019 1946825472 solver.cpp:301] Test loss: 60.631\r\n",
        "I0309 03:00:59.094058 1946825472 solver.cpp:314]     Test net output #0: cross_entropy_loss = 60.631 (* 1 = 60.631 loss)\r\n",
        "I0309 03:00:59.094068 1946825472 solver.cpp:314]     Test net output #1: l2_error = 1.99428\r\n",
        "I0309 03:00:59.094074 1946825472 solver.cpp:263] Iteration 53000, Testing net (#1)\r\n"
       ]
      },
      {
       "output_type": "stream",
       "stream": "stdout",
       "text": [
        "I0309 03:01:00.383604 1946825472 solver.cpp:301] Test loss: 60.4985\r\n",
        "I0309 03:01:00.383646 1946825472 solver.cpp:314]     Test net output #0: cross_entropy_loss = 60.4985 (* 1 = 60.4985 loss)\r\n",
        "I0309 03:01:00.383654 1946825472 solver.cpp:314]     Test net output #1: l2_error = 2.02338\r\n"
       ]
      },
      {
       "output_type": "stream",
       "stream": "stdout",
       "text": [
        "I0309 03:01:00.405133 1946825472 solver.cpp:207] Iteration 53000, loss = 61.3032\r\n",
        "I0309 03:01:00.405185 1946825472 solver.cpp:222]     Train net output #0: cross_entropy_loss = 61.3032 (* 1 = 61.3032 loss)\r\n",
        "I0309 03:01:00.405223 1946825472 solver.cpp:222]     Train net output #1: l2_error = 2.04076\r\n",
        "I0309 03:01:00.405235 1946825472 solver.cpp:419] Iteration 53000, lr = 1e-07\r\n"
       ]
      },
      {
       "output_type": "stream",
       "stream": "stdout",
       "text": [
        "I0309 03:01:03.262725 1946825472 solver.cpp:207] Iteration 53100, loss = 64.3175\r\n",
        "I0309 03:01:03.262769 1946825472 solver.cpp:222]     Train net output #0: cross_entropy_loss = 64.3175 (* 1 = 64.3175 loss)\r\n",
        "I0309 03:01:03.262778 1946825472 solver.cpp:222]     Train net output #1: l2_error = 2.2597\r\n",
        "I0309 03:01:03.262787 1946825472 solver.cpp:419] Iteration 53100, lr = 1e-07\r\n"
       ]
      },
      {
       "output_type": "stream",
       "stream": "stdout",
       "text": [
        "I0309 03:01:06.224959 1946825472 solver.cpp:207] Iteration 53200, loss = 58.9545\r\n",
        "I0309 03:01:06.225005 1946825472 solver.cpp:222]     Train net output #0: cross_entropy_loss = 58.9545 (* 1 = 58.9545 loss)\r\n",
        "I0309 03:01:06.225051 1946825472 solver.cpp:222]     Train net output #1: l2_error = 1.91846\r\n",
        "I0309 03:01:06.225061 1946825472 solver.cpp:419] Iteration 53200, lr = 1e-07\r\n"
       ]
      },
      {
       "output_type": "stream",
       "stream": "stdout",
       "text": [
        "I0309 03:01:09.171344 1946825472 solver.cpp:207] Iteration 53300, loss = 57.8712\r\n",
        "I0309 03:01:09.171406 1946825472 solver.cpp:222]     Train net output #0: cross_entropy_loss = 57.8712 (* 1 = 57.8712 loss)\r\n",
        "I0309 03:01:09.171416 1946825472 solver.cpp:222]     Train net output #1: l2_error = 1.94395\r\n",
        "I0309 03:01:09.171424 1946825472 solver.cpp:419] Iteration 53300, lr = 1e-07\r\n"
       ]
      },
      {
       "output_type": "stream",
       "stream": "stdout",
       "text": [
        "I0309 03:01:12.119499 1946825472 solver.cpp:207] Iteration 53400, loss = 59.8028\r\n",
        "I0309 03:01:12.119544 1946825472 solver.cpp:222]     Train net output #0: cross_entropy_loss = 59.8028 (* 1 = 59.8028 loss)\r\n",
        "I0309 03:01:12.119552 1946825472 solver.cpp:222]     Train net output #1: l2_error = 1.87739\r\n",
        "I0309 03:01:12.119560 1946825472 solver.cpp:419] Iteration 53400, lr = 1e-07\r\n"
       ]
      },
      {
       "output_type": "stream",
       "stream": "stdout",
       "text": [
        "I0309 03:01:14.988648 1946825472 solver.cpp:263] Iteration 53500, Testing net (#0)\r\n"
       ]
      },
      {
       "output_type": "stream",
       "stream": "stdout",
       "text": [
        "I0309 03:01:21.354814 1946825472 solver.cpp:301] Test loss: 60.602\r\n",
        "I0309 03:01:21.354856 1946825472 solver.cpp:314]     Test net output #0: cross_entropy_loss = 60.602 (* 1 = 60.602 loss)\r\n",
        "I0309 03:01:21.354864 1946825472 solver.cpp:314]     Test net output #1: l2_error = 1.99589\r\n",
        "I0309 03:01:21.354871 1946825472 solver.cpp:263] Iteration 53500, Testing net (#1)\r\n"
       ]
      },
      {
       "output_type": "stream",
       "stream": "stdout",
       "text": [
        "I0309 03:01:22.621188 1946825472 solver.cpp:301] Test loss: 60.4985\r\n",
        "I0309 03:01:22.621230 1946825472 solver.cpp:314]     Test net output #0: cross_entropy_loss = 60.4985 (* 1 = 60.4985 loss)\r\n",
        "I0309 03:01:22.621239 1946825472 solver.cpp:314]     Test net output #1: l2_error = 2.02338\r\n"
       ]
      },
      {
       "output_type": "stream",
       "stream": "stdout",
       "text": [
        "I0309 03:01:22.643280 1946825472 solver.cpp:207] Iteration 53500, loss = 61.1031\r\n",
        "I0309 03:01:22.643324 1946825472 solver.cpp:222]     Train net output #0: cross_entropy_loss = 61.1031 (* 1 = 61.1031 loss)\r\n",
        "I0309 03:01:22.643332 1946825472 solver.cpp:222]     Train net output #1: l2_error = 2.03609\r\n",
        "I0309 03:01:22.643340 1946825472 solver.cpp:419] Iteration 53500, lr = 1e-07\r\n"
       ]
      },
      {
       "output_type": "stream",
       "stream": "stdout",
       "text": [
        "I0309 03:01:25.568585 1946825472 solver.cpp:207] Iteration 53600, loss = 61.3032\r\n",
        "I0309 03:01:25.568629 1946825472 solver.cpp:222]     Train net output #0: cross_entropy_loss = 61.3032 (* 1 = 61.3032 loss)\r\n",
        "I0309 03:01:25.568639 1946825472 solver.cpp:222]     Train net output #1: l2_error = 2.04076\r\n",
        "I0309 03:01:25.568647 1946825472 solver.cpp:419] Iteration 53600, lr = 1e-07\r\n"
       ]
      },
      {
       "output_type": "stream",
       "stream": "stdout",
       "text": [
        "I0309 03:01:28.582983 1946825472 solver.cpp:207] Iteration 53700, loss = 64.3175\r\n",
        "I0309 03:01:28.583029 1946825472 solver.cpp:222]     Train net output #0: cross_entropy_loss = 64.3175 (* 1 = 64.3175 loss)\r\n",
        "I0309 03:01:28.583039 1946825472 solver.cpp:222]     Train net output #1: l2_error = 2.2597\r\n",
        "I0309 03:01:28.583048 1946825472 solver.cpp:419] Iteration 53700, lr = 1e-07\r\n"
       ]
      },
      {
       "output_type": "stream",
       "stream": "stdout",
       "text": [
        "I0309 03:01:31.750318 1946825472 solver.cpp:207] Iteration 53800, loss = 58.9545\r\n",
        "I0309 03:01:31.750360 1946825472 solver.cpp:222]     Train net output #0: cross_entropy_loss = 58.9545 (* 1 = 58.9545 loss)\r\n",
        "I0309 03:01:31.750370 1946825472 solver.cpp:222]     Train net output #1: l2_error = 1.91846\r\n",
        "I0309 03:01:31.750378 1946825472 solver.cpp:419] Iteration 53800, lr = 1e-07\r\n"
       ]
      },
      {
       "output_type": "stream",
       "stream": "stdout",
       "text": [
        "I0309 03:01:34.650125 1946825472 solver.cpp:207] Iteration 53900, loss = 57.8712\r\n",
        "I0309 03:01:34.650169 1946825472 solver.cpp:222]     Train net output #0: cross_entropy_loss = 57.8712 (* 1 = 57.8712 loss)\r\n",
        "I0309 03:01:34.650179 1946825472 solver.cpp:222]     Train net output #1: l2_error = 1.94395\r\n",
        "I0309 03:01:34.650187 1946825472 solver.cpp:419] Iteration 53900, lr = 1e-07\r\n"
       ]
      },
      {
       "output_type": "stream",
       "stream": "stdout",
       "text": [
        "I0309 03:01:37.602776 1946825472 solver.cpp:263] Iteration 54000, Testing net (#0)\r\n"
       ]
      },
      {
       "output_type": "stream",
       "stream": "stdout",
       "text": [
        "I0309 03:01:44.015827 1946825472 solver.cpp:301] Test loss: 60.5308\r\n",
        "I0309 03:01:44.015909 1946825472 solver.cpp:314]     Test net output #0: cross_entropy_loss = 60.5308 (* 1 = 60.5308 loss)\r\n",
        "I0309 03:01:44.015919 1946825472 solver.cpp:314]     Test net output #1: l2_error = 1.99168\r\n",
        "I0309 03:01:44.015928 1946825472 solver.cpp:263] Iteration 54000, Testing net (#1)\r\n"
       ]
      },
      {
       "output_type": "stream",
       "stream": "stdout",
       "text": [
        "I0309 03:01:45.328266 1946825472 solver.cpp:301] Test loss: 60.4985\r\n",
        "I0309 03:01:45.328310 1946825472 solver.cpp:314]     Test net output #0: cross_entropy_loss = 60.4985 (* 1 = 60.4985 loss)\r\n",
        "I0309 03:01:45.328318 1946825472 solver.cpp:314]     Test net output #1: l2_error = 2.02338\r\n",
        "I0309 03:01:45.350678 1946825472 solver.cpp:207] Iteration 54000, loss = 59.8028\r\n",
        "I0309 03:01:45.350723 1946825472 solver.cpp:222]     Train net output #0: cross_entropy_loss = 59.8028 (* 1 = 59.8028 loss)\r\n",
        "I0309 03:01:45.350733 1946825472 solver.cpp:222]     Train net output #1: l2_error = 1.87739\r\n",
        "I0309 03:01:45.350740 1946825472 solver.cpp:419] Iteration 54000, lr = 1e-07\r\n"
       ]
      },
      {
       "output_type": "stream",
       "stream": "stdout",
       "text": [
        "I0309 03:01:48.324106 1946825472 solver.cpp:207] Iteration 54100, loss = 61.1031\r\n",
        "I0309 03:01:48.324151 1946825472 solver.cpp:222]     Train net output #0: cross_entropy_loss = 61.1031 (* 1 = 61.1031 loss)\r\n",
        "I0309 03:01:48.324159 1946825472 solver.cpp:222]     Train net output #1: l2_error = 2.03609\r\n",
        "I0309 03:01:48.324168 1946825472 solver.cpp:419] Iteration 54100, lr = 1e-07\r\n"
       ]
      },
      {
       "output_type": "stream",
       "stream": "stdout",
       "text": [
        "I0309 03:01:51.311498 1946825472 solver.cpp:207] Iteration 54200, loss = 61.3032\r\n",
        "I0309 03:01:51.311542 1946825472 solver.cpp:222]     Train net output #0: cross_entropy_loss = 61.3032 (* 1 = 61.3032 loss)\r\n",
        "I0309 03:01:51.311553 1946825472 solver.cpp:222]     Train net output #1: l2_error = 2.04075\r\n",
        "I0309 03:01:51.311560 1946825472 solver.cpp:419] Iteration 54200, lr = 1e-07\r\n"
       ]
      },
      {
       "output_type": "stream",
       "stream": "stdout",
       "text": [
        "I0309 03:01:54.219887 1946825472 solver.cpp:207] Iteration 54300, loss = 64.3175\r\n",
        "I0309 03:01:54.219934 1946825472 solver.cpp:222]     Train net output #0: cross_entropy_loss = 64.3175 (* 1 = 64.3175 loss)\r\n",
        "I0309 03:01:54.219944 1946825472 solver.cpp:222]     Train net output #1: l2_error = 2.2597\r\n",
        "I0309 03:01:54.219952 1946825472 solver.cpp:419] Iteration 54300, lr = 1e-07\r\n"
       ]
      },
      {
       "output_type": "stream",
       "stream": "stdout",
       "text": [
        "I0309 03:01:57.127972 1946825472 solver.cpp:207] Iteration 54400, loss = 58.9545\r\n",
        "I0309 03:01:57.128021 1946825472 solver.cpp:222]     Train net output #0: cross_entropy_loss = 58.9545 (* 1 = 58.9545 loss)\r\n",
        "I0309 03:01:57.128047 1946825472 solver.cpp:222]     Train net output #1: l2_error = 1.91846\r\n",
        "I0309 03:01:57.128057 1946825472 solver.cpp:419] Iteration 54400, lr = 1e-07\r\n"
       ]
      },
      {
       "output_type": "stream",
       "stream": "stdout",
       "text": [
        "I0309 03:02:00.005409 1946825472 solver.cpp:263] Iteration 54500, Testing net (#0)\r\n"
       ]
      },
      {
       "output_type": "stream",
       "stream": "stdout",
       "text": [
        "I0309 03:02:06.359216 1946825472 solver.cpp:301] Test loss: 60.4042\r\n",
        "I0309 03:02:06.359258 1946825472 solver.cpp:314]     Test net output #0: cross_entropy_loss = 60.4042 (* 1 = 60.4042 loss)\r\n",
        "I0309 03:02:06.359267 1946825472 solver.cpp:314]     Test net output #1: l2_error = 1.97546\r\n",
        "I0309 03:02:06.359273 1946825472 solver.cpp:263] Iteration 54500, Testing net (#1)\r\n"
       ]
      },
      {
       "output_type": "stream",
       "stream": "stdout",
       "text": [
        "I0309 03:02:07.662349 1946825472 solver.cpp:301] Test loss: 60.4985\r\n",
        "I0309 03:02:07.662394 1946825472 solver.cpp:314]     Test net output #0: cross_entropy_loss = 60.4985 (* 1 = 60.4985 loss)\r\n",
        "I0309 03:02:07.662401 1946825472 solver.cpp:314]     Test net output #1: l2_error = 2.02338\r\n",
        "I0309 03:02:07.684026 1946825472 solver.cpp:207] Iteration 54500, loss = 57.8712\r\n",
        "I0309 03:02:07.684068 1946825472 solver.cpp:222]     Train net output #0: cross_entropy_loss = 57.8712 (* 1 = 57.8712 loss)\r\n",
        "I0309 03:02:07.684077 1946825472 solver.cpp:222]     Train net output #1: l2_error = 1.94395\r\n",
        "I0309 03:02:07.684085 1946825472 solver.cpp:419] Iteration 54500, lr = 1e-07\r\n"
       ]
      },
      {
       "output_type": "stream",
       "stream": "stdout",
       "text": [
        "I0309 03:02:10.599233 1946825472 solver.cpp:207] Iteration 54600, loss = 59.8028\r\n",
        "I0309 03:02:10.599277 1946825472 solver.cpp:222]     Train net output #0: cross_entropy_loss = 59.8028 (* 1 = 59.8028 loss)\r\n",
        "I0309 03:02:10.599287 1946825472 solver.cpp:222]     Train net output #1: l2_error = 1.87739\r\n",
        "I0309 03:02:10.599294 1946825472 solver.cpp:419] Iteration 54600, lr = 1e-07\r\n"
       ]
      },
      {
       "output_type": "stream",
       "stream": "stdout",
       "text": [
        "I0309 03:02:13.524093 1946825472 solver.cpp:207] Iteration 54700, loss = 61.103\r\n",
        "I0309 03:02:13.524135 1946825472 solver.cpp:222]     Train net output #0: cross_entropy_loss = 61.103 (* 1 = 61.103 loss)\r\n",
        "I0309 03:02:13.524183 1946825472 solver.cpp:222]     Train net output #1: l2_error = 2.03609\r\n",
        "I0309 03:02:13.524193 1946825472 solver.cpp:419] Iteration 54700, lr = 1e-07\r\n"
       ]
      },
      {
       "output_type": "stream",
       "stream": "stdout",
       "text": [
        "I0309 03:02:16.462941 1946825472 solver.cpp:207] Iteration 54800, loss = 61.3031\r\n",
        "I0309 03:02:16.463002 1946825472 solver.cpp:222]     Train net output #0: cross_entropy_loss = 61.3031 (* 1 = 61.3031 loss)\r\n",
        "I0309 03:02:16.463011 1946825472 solver.cpp:222]     Train net output #1: l2_error = 2.04075\r\n",
        "I0309 03:02:16.463021 1946825472 solver.cpp:419] Iteration 54800, lr = 1e-07\r\n"
       ]
      },
      {
       "output_type": "stream",
       "stream": "stdout",
       "text": [
        "I0309 03:02:19.382671 1946825472 solver.cpp:207] Iteration 54900, loss = 64.3175\r\n",
        "I0309 03:02:19.382717 1946825472 solver.cpp:222]     Train net output #0: cross_entropy_loss = 64.3175 (* 1 = 64.3175 loss)\r\n",
        "I0309 03:02:19.382727 1946825472 solver.cpp:222]     Train net output #1: l2_error = 2.2597\r\n",
        "I0309 03:02:19.382735 1946825472 solver.cpp:419] Iteration 54900, lr = 1e-07\r\n"
       ]
      },
      {
       "output_type": "stream",
       "stream": "stdout",
       "text": [
        "I0309 03:02:22.251973 1946825472 solver.cpp:263] Iteration 55000, Testing net (#0)\r\n"
       ]
      },
      {
       "output_type": "stream",
       "stream": "stdout",
       "text": [
        "I0309 03:02:28.628227 1946825472 solver.cpp:301] Test loss: 60.5407\r\n",
        "I0309 03:02:28.628268 1946825472 solver.cpp:314]     Test net output #0: cross_entropy_loss = 60.5407 (* 1 = 60.5407 loss)\r\n",
        "I0309 03:02:28.628275 1946825472 solver.cpp:314]     Test net output #1: l2_error = 1.98856\r\n",
        "I0309 03:02:28.628283 1946825472 solver.cpp:263] Iteration 55000, Testing net (#1)\r\n"
       ]
      },
      {
       "output_type": "stream",
       "stream": "stdout",
       "text": [
        "I0309 03:02:29.911839 1946825472 solver.cpp:301] Test loss: 60.4986\r\n",
        "I0309 03:02:29.911890 1946825472 solver.cpp:314]     Test net output #0: cross_entropy_loss = 60.4986 (* 1 = 60.4986 loss)\r\n",
        "I0309 03:02:29.911898 1946825472 solver.cpp:314]     Test net output #1: l2_error = 2.02338\r\n"
       ]
      },
      {
       "output_type": "stream",
       "stream": "stdout",
       "text": [
        "I0309 03:02:29.933651 1946825472 solver.cpp:207] Iteration 55000, loss = 58.9545\r\n",
        "I0309 03:02:29.933694 1946825472 solver.cpp:222]     Train net output #0: cross_entropy_loss = 58.9545 (* 1 = 58.9545 loss)\r\n",
        "I0309 03:02:29.933703 1946825472 solver.cpp:222]     Train net output #1: l2_error = 1.91846\r\n",
        "I0309 03:02:29.933712 1946825472 solver.cpp:419] Iteration 55000, lr = 1e-07\r\n"
       ]
      },
      {
       "output_type": "stream",
       "stream": "stdout",
       "text": [
        "I0309 03:02:32.781767 1946825472 solver.cpp:207] Iteration 55100, loss = 57.8712\r\n",
        "I0309 03:02:32.781813 1946825472 solver.cpp:222]     Train net output #0: cross_entropy_loss = 57.8712 (* 1 = 57.8712 loss)\r\n",
        "I0309 03:02:32.781822 1946825472 solver.cpp:222]     Train net output #1: l2_error = 1.94395\r\n",
        "I0309 03:02:32.781831 1946825472 solver.cpp:419] Iteration 55100, lr = 1e-07\r\n"
       ]
      },
      {
       "output_type": "stream",
       "stream": "stdout",
       "text": [
        "I0309 03:02:35.747385 1946825472 solver.cpp:207] Iteration 55200, loss = 59.8028\r\n",
        "I0309 03:02:35.747429 1946825472 solver.cpp:222]     Train net output #0: cross_entropy_loss = 59.8028 (* 1 = 59.8028 loss)\r\n",
        "I0309 03:02:35.747438 1946825472 solver.cpp:222]     Train net output #1: l2_error = 1.87739\r\n",
        "I0309 03:02:35.747447 1946825472 solver.cpp:419] Iteration 55200, lr = 1e-07\r\n"
       ]
      },
      {
       "output_type": "stream",
       "stream": "stdout",
       "text": [
        "I0309 03:02:38.699981 1946825472 solver.cpp:207] Iteration 55300, loss = 61.103\r\n",
        "I0309 03:02:38.700024 1946825472 solver.cpp:222]     Train net output #0: cross_entropy_loss = 61.103 (* 1 = 61.103 loss)\r\n",
        "I0309 03:02:38.700033 1946825472 solver.cpp:222]     Train net output #1: l2_error = 2.03609\r\n",
        "I0309 03:02:38.700042 1946825472 solver.cpp:419] Iteration 55300, lr = 1e-07\r\n"
       ]
      },
      {
       "output_type": "stream",
       "stream": "stdout",
       "text": [
        "I0309 03:02:41.624917 1946825472 solver.cpp:207] Iteration 55400, loss = 61.3031\r\n",
        "I0309 03:02:41.624961 1946825472 solver.cpp:222]     Train net output #0: cross_entropy_loss = 61.3031 (* 1 = 61.3031 loss)\r\n",
        "I0309 03:02:41.624971 1946825472 solver.cpp:222]     Train net output #1: l2_error = 2.04075\r\n",
        "I0309 03:02:41.624980 1946825472 solver.cpp:419] Iteration 55400, lr = 1e-07\r\n"
       ]
      },
      {
       "output_type": "stream",
       "stream": "stdout",
       "text": [
        "I0309 03:02:44.616422 1946825472 solver.cpp:263] Iteration 55500, Testing net (#0)\r\n"
       ]
      },
      {
       "output_type": "stream",
       "stream": "stdout",
       "text": [
        "I0309 03:02:51.107527 1946825472 solver.cpp:301] Test loss: 60.6295\r\n",
        "I0309 03:02:51.107579 1946825472 solver.cpp:314]     Test net output #0: cross_entropy_loss = 60.6295 (* 1 = 60.6295 loss)\r\n",
        "I0309 03:02:51.107589 1946825472 solver.cpp:314]     Test net output #1: l2_error = 1.99323\r\n",
        "I0309 03:02:51.107596 1946825472 solver.cpp:263] Iteration 55500, Testing net (#1)\r\n"
       ]
      },
      {
       "output_type": "stream",
       "stream": "stdout",
       "text": [
        "I0309 03:02:52.429153 1946825472 solver.cpp:301] Test loss: 60.4985\r\n",
        "I0309 03:02:52.429193 1946825472 solver.cpp:314]     Test net output #0: cross_entropy_loss = 60.4985 (* 1 = 60.4985 loss)\r\n",
        "I0309 03:02:52.429203 1946825472 solver.cpp:314]     Test net output #1: l2_error = 2.02338\r\n",
        "I0309 03:02:52.451174 1946825472 solver.cpp:207] Iteration 55500, loss = 64.3174\r\n",
        "I0309 03:02:52.451216 1946825472 solver.cpp:222]     Train net output #0: cross_entropy_loss = 64.3174 (* 1 = 64.3174 loss)\r\n",
        "I0309 03:02:52.451225 1946825472 solver.cpp:222]     Train net output #1: l2_error = 2.25969\r\n",
        "I0309 03:02:52.451233 1946825472 solver.cpp:419] Iteration 55500, lr = 1e-07\r\n"
       ]
      },
      {
       "output_type": "stream",
       "stream": "stdout",
       "text": [
        "I0309 03:02:55.424510 1946825472 solver.cpp:207] Iteration 55600, loss = 58.9546\r\n",
        "I0309 03:02:55.424556 1946825472 solver.cpp:222]     Train net output #0: cross_entropy_loss = 58.9546 (* 1 = 58.9546 loss)\r\n",
        "I0309 03:02:55.424566 1946825472 solver.cpp:222]     Train net output #1: l2_error = 1.91845\r\n",
        "I0309 03:02:55.424574 1946825472 solver.cpp:419] Iteration 55600, lr = 1e-07\r\n"
       ]
      },
      {
       "output_type": "stream",
       "stream": "stdout",
       "text": [
        "I0309 03:02:58.344027 1946825472 solver.cpp:207] Iteration 55700, loss = 57.8711\r\n",
        "I0309 03:02:58.344071 1946825472 solver.cpp:222]     Train net output #0: cross_entropy_loss = 57.8711 (* 1 = 57.8711 loss)\r\n",
        "I0309 03:02:58.344080 1946825472 solver.cpp:222]     Train net output #1: l2_error = 1.94395\r\n",
        "I0309 03:02:58.344089 1946825472 solver.cpp:419] Iteration 55700, lr = 1e-07\r\n"
       ]
      },
      {
       "output_type": "stream",
       "stream": "stdout",
       "text": [
        "I0309 03:03:01.300420 1946825472 solver.cpp:207] Iteration 55800, loss = 59.8029\r\n",
        "I0309 03:03:01.300462 1946825472 solver.cpp:222]     Train net output #0: cross_entropy_loss = 59.8029 (* 1 = 59.8029 loss)\r\n",
        "I0309 03:03:01.300472 1946825472 solver.cpp:222]     Train net output #1: l2_error = 1.87739\r\n",
        "I0309 03:03:01.300479 1946825472 solver.cpp:419] Iteration 55800, lr = 1e-07\r\n"
       ]
      },
      {
       "output_type": "stream",
       "stream": "stdout",
       "text": [
        "I0309 03:03:04.210532 1946825472 solver.cpp:207] Iteration 55900, loss = 61.103\r\n",
        "I0309 03:03:04.210577 1946825472 solver.cpp:222]     Train net output #0: cross_entropy_loss = 61.103 (* 1 = 61.103 loss)\r\n",
        "I0309 03:03:04.210587 1946825472 solver.cpp:222]     Train net output #1: l2_error = 2.03609\r\n",
        "I0309 03:03:04.210594 1946825472 solver.cpp:419] Iteration 55900, lr = 1e-07\r\n"
       ]
      },
      {
       "output_type": "stream",
       "stream": "stdout",
       "text": [
        "I0309 03:03:07.100373 1946825472 solver.cpp:263] Iteration 56000, Testing net (#0)\r\n"
       ]
      },
      {
       "output_type": "stream",
       "stream": "stdout",
       "text": [
        "I0309 03:03:13.499693 1946825472 solver.cpp:301] Test loss: 60.631\r\n",
        "I0309 03:03:13.499735 1946825472 solver.cpp:314]     Test net output #0: cross_entropy_loss = 60.631 (* 1 = 60.631 loss)\r\n",
        "I0309 03:03:13.499743 1946825472 solver.cpp:314]     Test net output #1: l2_error = 1.99428\r\n",
        "I0309 03:03:13.499750 1946825472 solver.cpp:263] Iteration 56000, Testing net (#1)\r\n"
       ]
      },
      {
       "output_type": "stream",
       "stream": "stdout",
       "text": [
        "I0309 03:03:14.775369 1946825472 solver.cpp:301] Test loss: 60.4985\r\n",
        "I0309 03:03:14.775408 1946825472 solver.cpp:314]     Test net output #0: cross_entropy_loss = 60.4985 (* 1 = 60.4985 loss)\r\n",
        "I0309 03:03:14.775416 1946825472 solver.cpp:314]     Test net output #1: l2_error = 2.02338\r\n",
        "I0309 03:03:14.799192 1946825472 solver.cpp:207] Iteration 56000, loss = 61.3031\r\n",
        "I0309 03:03:14.799237 1946825472 solver.cpp:222]     Train net output #0: cross_entropy_loss = 61.3031 (* 1 = 61.3031 loss)\r\n",
        "I0309 03:03:14.799244 1946825472 solver.cpp:222]     Train net output #1: l2_error = 2.04075\r\n",
        "I0309 03:03:14.799252 1946825472 solver.cpp:419] Iteration 56000, lr = 1e-07\r\n"
       ]
      },
      {
       "output_type": "stream",
       "stream": "stdout",
       "text": [
        "I0309 03:03:17.771664 1946825472 solver.cpp:207] Iteration 56100, loss = 64.3174\r\n",
        "I0309 03:03:17.771709 1946825472 solver.cpp:222]     Train net output #0: cross_entropy_loss = 64.3174 (* 1 = 64.3174 loss)\r\n",
        "I0309 03:03:17.771718 1946825472 solver.cpp:222]     Train net output #1: l2_error = 2.25969\r\n",
        "I0309 03:03:17.771728 1946825472 solver.cpp:419] Iteration 56100, lr = 1e-07\r\n"
       ]
      },
      {
       "output_type": "stream",
       "stream": "stdout",
       "text": [
        "I0309 03:03:20.715188 1946825472 solver.cpp:207] Iteration 56200, loss = 58.9546\r\n",
        "I0309 03:03:20.715234 1946825472 solver.cpp:222]     Train net output #0: cross_entropy_loss = 58.9546 (* 1 = 58.9546 loss)\r\n",
        "I0309 03:03:20.715281 1946825472 solver.cpp:222]     Train net output #1: l2_error = 1.91845\r\n",
        "I0309 03:03:20.715289 1946825472 solver.cpp:419] Iteration 56200, lr = 1e-07\r\n"
       ]
      },
      {
       "output_type": "stream",
       "stream": "stdout",
       "text": [
        "I0309 03:03:23.665652 1946825472 solver.cpp:207] Iteration 56300, loss = 57.8712\r\n",
        "I0309 03:03:23.665714 1946825472 solver.cpp:222]     Train net output #0: cross_entropy_loss = 57.8712 (* 1 = 57.8712 loss)\r\n",
        "I0309 03:03:23.665724 1946825472 solver.cpp:222]     Train net output #1: l2_error = 1.94395\r\n",
        "I0309 03:03:23.665732 1946825472 solver.cpp:419] Iteration 56300, lr = 1e-07\r\n"
       ]
      },
      {
       "output_type": "stream",
       "stream": "stdout",
       "text": [
        "I0309 03:03:26.577327 1946825472 solver.cpp:207] Iteration 56400, loss = 59.8029\r\n",
        "I0309 03:03:26.577370 1946825472 solver.cpp:222]     Train net output #0: cross_entropy_loss = 59.8029 (* 1 = 59.8029 loss)\r\n",
        "I0309 03:03:26.577379 1946825472 solver.cpp:222]     Train net output #1: l2_error = 1.87739\r\n",
        "I0309 03:03:26.577389 1946825472 solver.cpp:419] Iteration 56400, lr = 1e-07\r\n"
       ]
      },
      {
       "output_type": "stream",
       "stream": "stdout",
       "text": [
        "I0309 03:03:29.687186 1946825472 solver.cpp:263] Iteration 56500, Testing net (#0)\r\n"
       ]
      },
      {
       "output_type": "stream",
       "stream": "stdout",
       "text": [
        "I0309 03:03:36.103950 1946825472 solver.cpp:301] Test loss: 60.6019\r\n",
        "I0309 03:03:36.104002 1946825472 solver.cpp:314]     Test net output #0: cross_entropy_loss = 60.6019 (* 1 = 60.6019 loss)\r\n",
        "I0309 03:03:36.104012 1946825472 solver.cpp:314]     Test net output #1: l2_error = 1.99589\r\n",
        "I0309 03:03:36.104018 1946825472 solver.cpp:263] Iteration 56500, Testing net (#1)\r\n"
       ]
      },
      {
       "output_type": "stream",
       "stream": "stdout",
       "text": [
        "I0309 03:03:37.394826 1946825472 solver.cpp:301] Test loss: 60.4985\r\n",
        "I0309 03:03:37.394871 1946825472 solver.cpp:314]     Test net output #0: cross_entropy_loss = 60.4985 (* 1 = 60.4985 loss)\r\n",
        "I0309 03:03:37.394886 1946825472 solver.cpp:314]     Test net output #1: l2_error = 2.02338\r\n"
       ]
      },
      {
       "output_type": "stream",
       "stream": "stdout",
       "text": [
        "I0309 03:03:37.416607 1946825472 solver.cpp:207] Iteration 56500, loss = 61.1031\r\n",
        "I0309 03:03:37.416648 1946825472 solver.cpp:222]     Train net output #0: cross_entropy_loss = 61.1031 (* 1 = 61.1031 loss)\r\n",
        "I0309 03:03:37.416657 1946825472 solver.cpp:222]     Train net output #1: l2_error = 2.0361\r\n",
        "I0309 03:03:37.416666 1946825472 solver.cpp:419] Iteration 56500, lr = 1e-07\r\n"
       ]
      },
      {
       "output_type": "stream",
       "stream": "stdout",
       "text": [
        "I0309 03:03:40.351330 1946825472 solver.cpp:207] Iteration 56600, loss = 61.3031\r\n",
        "I0309 03:03:40.351375 1946825472 solver.cpp:222]     Train net output #0: cross_entropy_loss = 61.3031 (* 1 = 61.3031 loss)\r\n",
        "I0309 03:03:40.351384 1946825472 solver.cpp:222]     Train net output #1: l2_error = 2.04075\r\n",
        "I0309 03:03:40.351393 1946825472 solver.cpp:419] Iteration 56600, lr = 1e-07\r\n"
       ]
      },
      {
       "output_type": "stream",
       "stream": "stdout",
       "text": [
        "I0309 03:03:43.277712 1946825472 solver.cpp:207] Iteration 56700, loss = 64.3174\r\n",
        "I0309 03:03:43.277755 1946825472 solver.cpp:222]     Train net output #0: cross_entropy_loss = 64.3174 (* 1 = 64.3174 loss)\r\n",
        "I0309 03:03:43.277765 1946825472 solver.cpp:222]     Train net output #1: l2_error = 2.25969\r\n",
        "I0309 03:03:43.277773 1946825472 solver.cpp:419] Iteration 56700, lr = 1e-07\r\n"
       ]
      },
      {
       "output_type": "stream",
       "stream": "stdout",
       "text": [
        "I0309 03:03:46.307695 1946825472 solver.cpp:207] Iteration 56800, loss = 58.9546\r\n",
        "I0309 03:03:46.307740 1946825472 solver.cpp:222]     Train net output #0: cross_entropy_loss = 58.9546 (* 1 = 58.9546 loss)\r\n",
        "I0309 03:03:46.307749 1946825472 solver.cpp:222]     Train net output #1: l2_error = 1.91845\r\n",
        "I0309 03:03:46.307759 1946825472 solver.cpp:419] Iteration 56800, lr = 1e-07\r\n"
       ]
      },
      {
       "output_type": "stream",
       "stream": "stdout",
       "text": [
        "I0309 03:03:49.237617 1946825472 solver.cpp:207] Iteration 56900, loss = 57.8712\r\n",
        "I0309 03:03:49.237661 1946825472 solver.cpp:222]     Train net output #0: cross_entropy_loss = 57.8712 (* 1 = 57.8712 loss)\r\n",
        "I0309 03:03:49.237670 1946825472 solver.cpp:222]     Train net output #1: l2_error = 1.94395\r\n",
        "I0309 03:03:49.237679 1946825472 solver.cpp:419] Iteration 56900, lr = 1e-07\r\n"
       ]
      },
      {
       "output_type": "stream",
       "stream": "stdout",
       "text": [
        "I0309 03:03:52.207732 1946825472 solver.cpp:263] Iteration 57000, Testing net (#0)\r\n"
       ]
      },
      {
       "output_type": "stream",
       "stream": "stdout",
       "text": [
        "I0309 03:03:58.555956 1946825472 solver.cpp:301] Test loss: 60.5308\r\n",
        "I0309 03:03:58.556041 1946825472 solver.cpp:314]     Test net output #0: cross_entropy_loss = 60.5308 (* 1 = 60.5308 loss)\r\n",
        "I0309 03:03:58.556049 1946825472 solver.cpp:314]     Test net output #1: l2_error = 1.99168\r\n",
        "I0309 03:03:58.556056 1946825472 solver.cpp:263] Iteration 57000, Testing net (#1)\r\n"
       ]
      },
      {
       "output_type": "stream",
       "stream": "stdout",
       "text": [
        "I0309 03:03:59.838650 1946825472 solver.cpp:301] Test loss: 60.4985\r\n",
        "I0309 03:03:59.838691 1946825472 solver.cpp:314]     Test net output #0: cross_entropy_loss = 60.4985 (* 1 = 60.4985 loss)\r\n",
        "I0309 03:03:59.838701 1946825472 solver.cpp:314]     Test net output #1: l2_error = 2.02338\r\n"
       ]
      },
      {
       "output_type": "stream",
       "stream": "stdout",
       "text": [
        "I0309 03:03:59.860846 1946825472 solver.cpp:207] Iteration 57000, loss = 59.8029\r\n",
        "I0309 03:03:59.860888 1946825472 solver.cpp:222]     Train net output #0: cross_entropy_loss = 59.8029 (* 1 = 59.8029 loss)\r\n",
        "I0309 03:03:59.860896 1946825472 solver.cpp:222]     Train net output #1: l2_error = 1.87739\r\n",
        "I0309 03:03:59.860904 1946825472 solver.cpp:419] Iteration 57000, lr = 1e-07\r\n"
       ]
      },
      {
       "output_type": "stream",
       "stream": "stdout",
       "text": [
        "I0309 03:04:02.719923 1946825472 solver.cpp:207] Iteration 57100, loss = 61.1031\r\n",
        "I0309 03:04:02.719970 1946825472 solver.cpp:222]     Train net output #0: cross_entropy_loss = 61.1031 (* 1 = 61.1031 loss)\r\n",
        "I0309 03:04:02.719980 1946825472 solver.cpp:222]     Train net output #1: l2_error = 2.0361\r\n",
        "I0309 03:04:02.719990 1946825472 solver.cpp:419] Iteration 57100, lr = 1e-07\r\n"
       ]
      },
      {
       "output_type": "stream",
       "stream": "stdout",
       "text": [
        "I0309 03:04:05.690803 1946825472 solver.cpp:207] Iteration 57200, loss = 61.303\r\n",
        "I0309 03:04:05.690850 1946825472 solver.cpp:222]     Train net output #0: cross_entropy_loss = 61.303 (* 1 = 61.303 loss)\r\n",
        "I0309 03:04:05.690858 1946825472 solver.cpp:222]     Train net output #1: l2_error = 2.04074\r\n",
        "I0309 03:04:05.690866 1946825472 solver.cpp:419] Iteration 57200, lr = 1e-07\r\n"
       ]
      },
      {
       "output_type": "stream",
       "stream": "stdout",
       "text": [
        "I0309 03:04:08.708613 1946825472 solver.cpp:207] Iteration 57300, loss = 64.3173\r\n",
        "I0309 03:04:08.708654 1946825472 solver.cpp:222]     Train net output #0: cross_entropy_loss = 64.3173 (* 1 = 64.3173 loss)\r\n",
        "I0309 03:04:08.708663 1946825472 solver.cpp:222]     Train net output #1: l2_error = 2.25969\r\n",
        "I0309 03:04:08.708672 1946825472 solver.cpp:419] Iteration 57300, lr = 1e-07\r\n"
       ]
      },
      {
       "output_type": "stream",
       "stream": "stdout",
       "text": [
        "I0309 03:04:11.653192 1946825472 solver.cpp:207] Iteration 57400, loss = 58.9546\r\n",
        "I0309 03:04:11.653236 1946825472 solver.cpp:222]     Train net output #0: cross_entropy_loss = 58.9546 (* 1 = 58.9546 loss)\r\n",
        "I0309 03:04:11.653245 1946825472 solver.cpp:222]     Train net output #1: l2_error = 1.91845\r\n",
        "I0309 03:04:11.653254 1946825472 solver.cpp:419] Iteration 57400, lr = 1e-07\r\n"
       ]
      },
      {
       "output_type": "stream",
       "stream": "stdout",
       "text": [
        "I0309 03:04:14.524425 1946825472 solver.cpp:263] Iteration 57500, Testing net (#0)\r\n"
       ]
      },
      {
       "output_type": "stream",
       "stream": "stdout",
       "text": [
        "I0309 03:04:20.917768 1946825472 solver.cpp:301] Test loss: 60.4042\r\n",
        "I0309 03:04:20.917810 1946825472 solver.cpp:314]     Test net output #0: cross_entropy_loss = 60.4042 (* 1 = 60.4042 loss)\r\n",
        "I0309 03:04:20.917819 1946825472 solver.cpp:314]     Test net output #1: l2_error = 1.97546\r\n",
        "I0309 03:04:20.917826 1946825472 solver.cpp:263] Iteration 57500, Testing net (#1)\r\n"
       ]
      },
      {
       "output_type": "stream",
       "stream": "stdout",
       "text": [
        "I0309 03:04:22.222465 1946825472 solver.cpp:301] Test loss: 60.4985\r\n",
        "I0309 03:04:22.222507 1946825472 solver.cpp:314]     Test net output #0: cross_entropy_loss = 60.4985 (* 1 = 60.4985 loss)\r\n",
        "I0309 03:04:22.222517 1946825472 solver.cpp:314]     Test net output #1: l2_error = 2.02338\r\n",
        "I0309 03:04:22.243870 1946825472 solver.cpp:207] Iteration 57500, loss = 57.8712\r\n",
        "I0309 03:04:22.243928 1946825472 solver.cpp:222]     Train net output #0: cross_entropy_loss = 57.8712 (* 1 = 57.8712 loss)\r\n",
        "I0309 03:04:22.243938 1946825472 solver.cpp:222]     Train net output #1: l2_error = 1.94395\r\n",
        "I0309 03:04:22.243947 1946825472 solver.cpp:419] Iteration 57500, lr = 1e-07\r\n"
       ]
      },
      {
       "output_type": "stream",
       "stream": "stdout",
       "text": [
        "I0309 03:04:25.143651 1946825472 solver.cpp:207] Iteration 57600, loss = 59.8029\r\n",
        "I0309 03:04:25.143695 1946825472 solver.cpp:222]     Train net output #0: cross_entropy_loss = 59.8029 (* 1 = 59.8029 loss)\r\n",
        "I0309 03:04:25.143705 1946825472 solver.cpp:222]     Train net output #1: l2_error = 1.87739\r\n",
        "I0309 03:04:25.143713 1946825472 solver.cpp:419] Iteration 57600, lr = 1e-07\r\n"
       ]
      },
      {
       "output_type": "stream",
       "stream": "stdout",
       "text": [
        "I0309 03:04:28.072638 1946825472 solver.cpp:207] Iteration 57700, loss = 61.1031\r\n",
        "I0309 03:04:28.072680 1946825472 solver.cpp:222]     Train net output #0: cross_entropy_loss = 61.1031 (* 1 = 61.1031 loss)\r\n",
        "I0309 03:04:28.072726 1946825472 solver.cpp:222]     Train net output #1: l2_error = 2.0361\r\n",
        "I0309 03:04:28.072736 1946825472 solver.cpp:419] Iteration 57700, lr = 1e-07\r\n"
       ]
      },
      {
       "output_type": "stream",
       "stream": "stdout",
       "text": [
        "I0309 03:04:31.003597 1946825472 solver.cpp:207] Iteration 57800, loss = 61.3031\r\n",
        "I0309 03:04:31.003659 1946825472 solver.cpp:222]     Train net output #0: cross_entropy_loss = 61.3031 (* 1 = 61.3031 loss)\r\n",
        "I0309 03:04:31.003667 1946825472 solver.cpp:222]     Train net output #1: l2_error = 2.04074\r\n",
        "I0309 03:04:31.003675 1946825472 solver.cpp:419] Iteration 57800, lr = 1e-07\r\n"
       ]
      },
      {
       "output_type": "stream",
       "stream": "stdout",
       "text": [
        "I0309 03:04:33.928740 1946825472 solver.cpp:207] Iteration 57900, loss = 64.3173\r\n",
        "I0309 03:04:33.928784 1946825472 solver.cpp:222]     Train net output #0: cross_entropy_loss = 64.3173 (* 1 = 64.3173 loss)\r\n",
        "I0309 03:04:33.928793 1946825472 solver.cpp:222]     Train net output #1: l2_error = 2.25969\r\n",
        "I0309 03:04:33.928802 1946825472 solver.cpp:419] Iteration 57900, lr = 1e-07\r\n"
       ]
      },
      {
       "output_type": "stream",
       "stream": "stdout",
       "text": [
        "I0309 03:04:36.855721 1946825472 solver.cpp:263] Iteration 58000, Testing net (#0)\r\n"
       ]
      },
      {
       "output_type": "stream",
       "stream": "stdout",
       "text": [
        "I0309 03:04:43.349290 1946825472 solver.cpp:301] Test loss: 60.5407\r\n",
        "I0309 03:04:43.349341 1946825472 solver.cpp:314]     Test net output #0: cross_entropy_loss = 60.5407 (* 1 = 60.5407 loss)\r\n",
        "I0309 03:04:43.349349 1946825472 solver.cpp:314]     Test net output #1: l2_error = 1.98855\r\n",
        "I0309 03:04:43.349356 1946825472 solver.cpp:263] Iteration 58000, Testing net (#1)\r\n"
       ]
      },
      {
       "output_type": "stream",
       "stream": "stdout",
       "text": [
        "I0309 03:04:44.674268 1946825472 solver.cpp:301] Test loss: 60.4985\r\n",
        "I0309 03:04:44.674316 1946825472 solver.cpp:314]     Test net output #0: cross_entropy_loss = 60.4985 (* 1 = 60.4985 loss)\r\n",
        "I0309 03:04:44.674325 1946825472 solver.cpp:314]     Test net output #1: l2_error = 2.02338\r\n",
        "I0309 03:04:44.695652 1946825472 solver.cpp:207] Iteration 58000, loss = 58.9546\r\n",
        "I0309 03:04:44.695695 1946825472 solver.cpp:222]     Train net output #0: cross_entropy_loss = 58.9546 (* 1 = 58.9546 loss)\r\n",
        "I0309 03:04:44.695704 1946825472 solver.cpp:222]     Train net output #1: l2_error = 1.91845\r\n",
        "I0309 03:04:44.695713 1946825472 solver.cpp:419] Iteration 58000, lr = 1e-07\r\n"
       ]
      },
      {
       "output_type": "stream",
       "stream": "stdout",
       "text": [
        "I0309 03:04:47.677403 1946825472 solver.cpp:207] Iteration 58100, loss = 57.8712\r\n",
        "I0309 03:04:47.677448 1946825472 solver.cpp:222]     Train net output #0: cross_entropy_loss = 57.8712 (* 1 = 57.8712 loss)\r\n",
        "I0309 03:04:47.677456 1946825472 solver.cpp:222]     Train net output #1: l2_error = 1.94395\r\n",
        "I0309 03:04:47.677464 1946825472 solver.cpp:419] Iteration 58100, lr = 1e-07\r\n"
       ]
      },
      {
       "output_type": "stream",
       "stream": "stdout",
       "text": [
        "I0309 03:04:50.667002 1946825472 solver.cpp:207] Iteration 58200, loss = 59.8029\r\n",
        "I0309 03:04:50.667047 1946825472 solver.cpp:222]     Train net output #0: cross_entropy_loss = 59.8029 (* 1 = 59.8029 loss)\r\n",
        "I0309 03:04:50.667057 1946825472 solver.cpp:222]     Train net output #1: l2_error = 1.87739\r\n",
        "I0309 03:04:50.667065 1946825472 solver.cpp:419] Iteration 58200, lr = 1e-07\r\n"
       ]
      },
      {
       "output_type": "stream",
       "stream": "stdout",
       "text": [
        "I0309 03:04:53.576354 1946825472 solver.cpp:207] Iteration 58300, loss = 61.1031\r\n",
        "I0309 03:04:53.576397 1946825472 solver.cpp:222]     Train net output #0: cross_entropy_loss = 61.1031 (* 1 = 61.1031 loss)\r\n",
        "I0309 03:04:53.576406 1946825472 solver.cpp:222]     Train net output #1: l2_error = 2.0361\r\n",
        "I0309 03:04:53.576414 1946825472 solver.cpp:419] Iteration 58300, lr = 1e-07\r\n"
       ]
      },
      {
       "output_type": "stream",
       "stream": "stdout",
       "text": [
        "I0309 03:04:56.470185 1946825472 solver.cpp:207] Iteration 58400, loss = 61.303\r\n",
        "I0309 03:04:56.470230 1946825472 solver.cpp:222]     Train net output #0: cross_entropy_loss = 61.303 (* 1 = 61.303 loss)\r\n",
        "I0309 03:04:56.470239 1946825472 solver.cpp:222]     Train net output #1: l2_error = 2.04074\r\n",
        "I0309 03:04:56.470247 1946825472 solver.cpp:419] Iteration 58400, lr = 1e-07\r\n"
       ]
      },
      {
       "output_type": "stream",
       "stream": "stdout",
       "text": [
        "I0309 03:04:59.361310 1946825472 solver.cpp:263] Iteration 58500, Testing net (#0)\r\n"
       ]
      },
      {
       "output_type": "stream",
       "stream": "stdout",
       "text": [
        "I0309 03:05:05.720983 1946825472 solver.cpp:301] Test loss: 60.6295\r\n",
        "I0309 03:05:05.721061 1946825472 solver.cpp:314]     Test net output #0: cross_entropy_loss = 60.6295 (* 1 = 60.6295 loss)\r\n",
        "I0309 03:05:05.721071 1946825472 solver.cpp:314]     Test net output #1: l2_error = 1.99323\r\n",
        "I0309 03:05:05.721077 1946825472 solver.cpp:263] Iteration 58500, Testing net (#1)\r\n"
       ]
      },
      {
       "output_type": "stream",
       "stream": "stdout",
       "text": [
        "I0309 03:05:07.010463 1946825472 solver.cpp:301] Test loss: 60.4985\r\n",
        "I0309 03:05:07.010505 1946825472 solver.cpp:314]     Test net output #0: cross_entropy_loss = 60.4985 (* 1 = 60.4985 loss)\r\n",
        "I0309 03:05:07.010514 1946825472 solver.cpp:314]     Test net output #1: l2_error = 2.02338\r\n"
       ]
      },
      {
       "output_type": "stream",
       "stream": "stdout",
       "text": [
        "I0309 03:05:07.032599 1946825472 solver.cpp:207] Iteration 58500, loss = 64.3173\r\n",
        "I0309 03:05:07.032644 1946825472 solver.cpp:222]     Train net output #0: cross_entropy_loss = 64.3173 (* 1 = 64.3173 loss)\r\n",
        "I0309 03:05:07.032652 1946825472 solver.cpp:222]     Train net output #1: l2_error = 2.25969\r\n",
        "I0309 03:05:07.032660 1946825472 solver.cpp:419] Iteration 58500, lr = 1e-07\r\n"
       ]
      },
      {
       "output_type": "stream",
       "stream": "stdout",
       "text": [
        "I0309 03:05:10.011582 1946825472 solver.cpp:207] Iteration 58600, loss = 58.9546\r\n",
        "I0309 03:05:10.011629 1946825472 solver.cpp:222]     Train net output #0: cross_entropy_loss = 58.9546 (* 1 = 58.9546 loss)\r\n",
        "I0309 03:05:10.011639 1946825472 solver.cpp:222]     Train net output #1: l2_error = 1.91845\r\n",
        "I0309 03:05:10.011648 1946825472 solver.cpp:419] Iteration 58600, lr = 1e-07\r\n"
       ]
      },
      {
       "output_type": "stream",
       "stream": "stdout",
       "text": [
        "I0309 03:05:13.107267 1946825472 solver.cpp:207] Iteration 58700, loss = 57.8712\r\n",
        "I0309 03:05:13.107313 1946825472 solver.cpp:222]     Train net output #0: cross_entropy_loss = 57.8712 (* 1 = 57.8712 loss)\r\n",
        "I0309 03:05:13.107323 1946825472 solver.cpp:222]     Train net output #1: l2_error = 1.94395\r\n",
        "I0309 03:05:13.107331 1946825472 solver.cpp:419] Iteration 58700, lr = 1e-07\r\n"
       ]
      },
      {
       "output_type": "stream",
       "stream": "stdout",
       "text": [
        "I0309 03:05:16.214649 1946825472 solver.cpp:207] Iteration 58800, loss = 59.8029\r\n",
        "I0309 03:05:16.214697 1946825472 solver.cpp:222]     Train net output #0: cross_entropy_loss = 59.8029 (* 1 = 59.8029 loss)\r\n",
        "I0309 03:05:16.214709 1946825472 solver.cpp:222]     Train net output #1: l2_error = 1.87739\r\n"
       ]
      },
      {
       "output_type": "stream",
       "stream": "stdout",
       "text": [
        "I0309 03:05:16.214717 1946825472 solver.cpp:419] Iteration 58800, lr = 1e-07\r\n"
       ]
      },
      {
       "output_type": "stream",
       "stream": "stdout",
       "text": [
        "I0309 03:05:19.256690 1946825472 solver.cpp:207] Iteration 58900, loss = 61.103\r\n",
        "I0309 03:05:19.256733 1946825472 solver.cpp:222]     Train net output #0: cross_entropy_loss = 61.103 (* 1 = 61.103 loss)\r\n",
        "I0309 03:05:19.256742 1946825472 solver.cpp:222]     Train net output #1: l2_error = 2.0361\r\n",
        "I0309 03:05:19.256750 1946825472 solver.cpp:419] Iteration 58900, lr = 1e-07\r\n"
       ]
      },
      {
       "output_type": "stream",
       "stream": "stdout",
       "text": [
        "I0309 03:05:22.127207 1946825472 solver.cpp:263] Iteration 59000, Testing net (#0)\r\n"
       ]
      },
      {
       "output_type": "stream",
       "stream": "stdout",
       "text": [
        "I0309 03:05:28.509742 1946825472 solver.cpp:301] Test loss: 60.631\r\n",
        "I0309 03:05:28.509783 1946825472 solver.cpp:314]     Test net output #0: cross_entropy_loss = 60.631 (* 1 = 60.631 loss)\r\n",
        "I0309 03:05:28.509793 1946825472 solver.cpp:314]     Test net output #1: l2_error = 1.99428\r\n",
        "I0309 03:05:28.509799 1946825472 solver.cpp:263] Iteration 59000, Testing net (#1)\r\n"
       ]
      },
      {
       "output_type": "stream",
       "stream": "stdout",
       "text": [
        "I0309 03:05:29.778762 1946825472 solver.cpp:301] Test loss: 60.4985\r\n",
        "I0309 03:05:29.778805 1946825472 solver.cpp:314]     Test net output #0: cross_entropy_loss = 60.4985 (* 1 = 60.4985 loss)\r\n",
        "I0309 03:05:29.778813 1946825472 solver.cpp:314]     Test net output #1: l2_error = 2.02337\r\n"
       ]
      },
      {
       "output_type": "stream",
       "stream": "stdout",
       "text": [
        "I0309 03:05:29.801244 1946825472 solver.cpp:207] Iteration 59000, loss = 61.3031\r\n",
        "I0309 03:05:29.801287 1946825472 solver.cpp:222]     Train net output #0: cross_entropy_loss = 61.3031 (* 1 = 61.3031 loss)\r\n",
        "I0309 03:05:29.801295 1946825472 solver.cpp:222]     Train net output #1: l2_error = 2.04074\r\n",
        "I0309 03:05:29.801303 1946825472 solver.cpp:419] Iteration 59000, lr = 1e-07\r\n"
       ]
      },
      {
       "output_type": "stream",
       "stream": "stdout",
       "text": [
        "I0309 03:05:32.677022 1946825472 solver.cpp:207] Iteration 59100, loss = 64.3173\r\n",
        "I0309 03:05:32.677069 1946825472 solver.cpp:222]     Train net output #0: cross_entropy_loss = 64.3173 (* 1 = 64.3173 loss)\r\n",
        "I0309 03:05:32.677078 1946825472 solver.cpp:222]     Train net output #1: l2_error = 2.25969\r\n",
        "I0309 03:05:32.677088 1946825472 solver.cpp:419] Iteration 59100, lr = 1e-07\r\n"
       ]
      },
      {
       "output_type": "stream",
       "stream": "stdout",
       "text": [
        "I0309 03:05:35.619115 1946825472 solver.cpp:207] Iteration 59200, loss = 58.9546\r\n",
        "I0309 03:05:35.619156 1946825472 solver.cpp:222]     Train net output #0: cross_entropy_loss = 58.9546 (* 1 = 58.9546 loss)\r\n",
        "I0309 03:05:35.619204 1946825472 solver.cpp:222]     Train net output #1: l2_error = 1.91844\r\n",
        "I0309 03:05:35.619213 1946825472 solver.cpp:419] Iteration 59200, lr = 1e-07\r\n"
       ]
      },
      {
       "output_type": "stream",
       "stream": "stdout",
       "text": [
        "I0309 03:05:38.632985 1946825472 solver.cpp:207] Iteration 59300, loss = 57.8711\r\n",
        "I0309 03:05:38.633047 1946825472 solver.cpp:222]     Train net output #0: cross_entropy_loss = 57.8711 (* 1 = 57.8711 loss)\r\n",
        "I0309 03:05:38.633057 1946825472 solver.cpp:222]     Train net output #1: l2_error = 1.94395\r\n",
        "I0309 03:05:38.633065 1946825472 solver.cpp:419] Iteration 59300, lr = 1e-07\r\n"
       ]
      },
      {
       "output_type": "stream",
       "stream": "stdout",
       "text": [
        "I0309 03:05:41.546736 1946825472 solver.cpp:207] Iteration 59400, loss = 59.8029\r\n",
        "I0309 03:05:41.546779 1946825472 solver.cpp:222]     Train net output #0: cross_entropy_loss = 59.8029 (* 1 = 59.8029 loss)\r\n",
        "I0309 03:05:41.546788 1946825472 solver.cpp:222]     Train net output #1: l2_error = 1.87739\r\n",
        "I0309 03:05:41.546797 1946825472 solver.cpp:419] Iteration 59400, lr = 1e-07\r\n"
       ]
      },
      {
       "output_type": "stream",
       "stream": "stdout",
       "text": [
        "I0309 03:05:44.549314 1946825472 solver.cpp:263] Iteration 59500, Testing net (#0)\r\n"
       ]
      },
      {
       "output_type": "stream",
       "stream": "stdout",
       "text": [
        "I0309 03:05:51.058900 1946825472 solver.cpp:301] Test loss: 60.602\r\n",
        "I0309 03:05:51.058944 1946825472 solver.cpp:314]     Test net output #0: cross_entropy_loss = 60.602 (* 1 = 60.602 loss)\r\n",
        "I0309 03:05:51.058954 1946825472 solver.cpp:314]     Test net output #1: l2_error = 1.99589\r\n",
        "I0309 03:05:51.058960 1946825472 solver.cpp:263] Iteration 59500, Testing net (#1)\r\n"
       ]
      },
      {
       "output_type": "stream",
       "stream": "stdout",
       "text": [
        "I0309 03:05:52.346693 1946825472 solver.cpp:301] Test loss: 60.4985\r\n",
        "I0309 03:05:52.346735 1946825472 solver.cpp:314]     Test net output #0: cross_entropy_loss = 60.4985 (* 1 = 60.4985 loss)\r\n",
        "I0309 03:05:52.346743 1946825472 solver.cpp:314]     Test net output #1: l2_error = 2.02337\r\n"
       ]
      },
      {
       "output_type": "stream",
       "stream": "stdout",
       "text": [
        "I0309 03:05:52.368075 1946825472 solver.cpp:207] Iteration 59500, loss = 61.1031\r\n",
        "I0309 03:05:52.368144 1946825472 solver.cpp:222]     Train net output #0: cross_entropy_loss = 61.1031 (* 1 = 61.1031 loss)\r\n",
        "I0309 03:05:52.368173 1946825472 solver.cpp:222]     Train net output #1: l2_error = 2.0361\r\n",
        "I0309 03:05:52.368203 1946825472 solver.cpp:419] Iteration 59500, lr = 1e-07\r\n"
       ]
      },
      {
       "output_type": "stream",
       "stream": "stdout",
       "text": [
        "I0309 03:05:55.279376 1946825472 solver.cpp:207] Iteration 59600, loss = 61.303\r\n",
        "I0309 03:05:55.279422 1946825472 solver.cpp:222]     Train net output #0: cross_entropy_loss = 61.303 (* 1 = 61.303 loss)\r\n",
        "I0309 03:05:55.279430 1946825472 solver.cpp:222]     Train net output #1: l2_error = 2.04074\r\n",
        "I0309 03:05:55.279439 1946825472 solver.cpp:419] Iteration 59600, lr = 1e-07\r\n"
       ]
      },
      {
       "output_type": "stream",
       "stream": "stdout",
       "text": [
        "I0309 03:05:58.162397 1946825472 solver.cpp:207] Iteration 59700, loss = 64.3173\r\n",
        "I0309 03:05:58.162442 1946825472 solver.cpp:222]     Train net output #0: cross_entropy_loss = 64.3173 (* 1 = 64.3173 loss)\r\n",
        "I0309 03:05:58.162451 1946825472 solver.cpp:222]     Train net output #1: l2_error = 2.25969\r\n",
        "I0309 03:05:58.162459 1946825472 solver.cpp:419] Iteration 59700, lr = 1e-07\r\n"
       ]
      },
      {
       "output_type": "stream",
       "stream": "stdout",
       "text": [
        "I0309 03:06:01.088539 1946825472 solver.cpp:207] Iteration 59800, loss = 58.9546\r\n",
        "I0309 03:06:01.088585 1946825472 solver.cpp:222]     Train net output #0: cross_entropy_loss = 58.9546 (* 1 = 58.9546 loss)\r\n",
        "I0309 03:06:01.088595 1946825472 solver.cpp:222]     Train net output #1: l2_error = 1.91844\r\n",
        "I0309 03:06:01.088603 1946825472 solver.cpp:419] Iteration 59800, lr = 1e-07\r\n"
       ]
      },
      {
       "output_type": "stream",
       "stream": "stdout",
       "text": [
        "I0309 03:06:03.991422 1946825472 solver.cpp:207] Iteration 59900, loss = 57.8711\r\n",
        "I0309 03:06:03.991466 1946825472 solver.cpp:222]     Train net output #0: cross_entropy_loss = 57.8711 (* 1 = 57.8711 loss)\r\n",
        "I0309 03:06:03.991475 1946825472 solver.cpp:222]     Train net output #1: l2_error = 1.94395\r\n",
        "I0309 03:06:03.991484 1946825472 solver.cpp:419] Iteration 59900, lr = 1e-07\r\n"
       ]
      },
      {
       "output_type": "stream",
       "stream": "stdout",
       "text": [
        "I0309 03:06:06.894376 1946825472 solver.cpp:333] Snapshotting to examples/mnist/mnist_autoencoder_iter_60000.caffemodel\r\n"
       ]
      },
      {
       "output_type": "stream",
       "stream": "stdout",
       "text": [
        "I0309 03:06:06.985097 1946825472 solver.cpp:340] Snapshotting solver state to examples/mnist/mnist_autoencoder_iter_60000.solverstate\r\n"
       ]
      },
      {
       "output_type": "stream",
       "stream": "stdout",
       "text": [
        "I0309 03:06:07.047200 1946825472 solver.cpp:263] Iteration 60000, Testing net (#0)\r\n"
       ]
      },
      {
       "output_type": "stream",
       "stream": "stdout",
       "text": [
        "I0309 03:06:13.434180 1946825472 solver.cpp:301] Test loss: 60.5308\r\n",
        "I0309 03:06:13.434285 1946825472 solver.cpp:314]     Test net output #0: cross_entropy_loss = 60.5308 (* 1 = 60.5308 loss)\r\n",
        "I0309 03:06:13.434295 1946825472 solver.cpp:314]     Test net output #1: l2_error = 1.99168\r\n",
        "I0309 03:06:13.434303 1946825472 solver.cpp:263] Iteration 60000, Testing net (#1)\r\n"
       ]
      },
      {
       "output_type": "stream",
       "stream": "stdout",
       "text": [
        "I0309 03:06:14.709445 1946825472 solver.cpp:301] Test loss: 60.4985\r\n",
        "I0309 03:06:14.709502 1946825472 solver.cpp:314]     Test net output #0: cross_entropy_loss = 60.4985 (* 1 = 60.4985 loss)\r\n",
        "I0309 03:06:14.709509 1946825472 solver.cpp:314]     Test net output #1: l2_error = 2.02337\r\n",
        "I0309 03:06:14.731967 1946825472 solver.cpp:207] Iteration 60000, loss = 59.8029\r\n",
        "I0309 03:06:14.732010 1946825472 solver.cpp:222]     Train net output #0: cross_entropy_loss = 59.8029 (* 1 = 59.8029 loss)\r\n",
        "I0309 03:06:14.732019 1946825472 solver.cpp:222]     Train net output #1: l2_error = 1.87739\r\n",
        "I0309 03:06:14.732028 1946825472 solver.cpp:419] Iteration 60000, lr = 1e-08\r\n"
       ]
      },
      {
       "output_type": "stream",
       "stream": "stdout",
       "text": [
        "I0309 03:06:17.602546 1946825472 solver.cpp:207] Iteration 60100, loss = 61.1031\r\n",
        "I0309 03:06:17.602589 1946825472 solver.cpp:222]     Train net output #0: cross_entropy_loss = 61.1031 (* 1 = 61.1031 loss)\r\n",
        "I0309 03:06:17.602599 1946825472 solver.cpp:222]     Train net output #1: l2_error = 2.03611\r\n",
        "I0309 03:06:17.602607 1946825472 solver.cpp:419] Iteration 60100, lr = 1e-08\r\n"
       ]
      },
      {
       "output_type": "stream",
       "stream": "stdout",
       "text": [
        "I0309 03:06:20.558051 1946825472 solver.cpp:207] Iteration 60200, loss = 61.303\r\n",
        "I0309 03:06:20.558095 1946825472 solver.cpp:222]     Train net output #0: cross_entropy_loss = 61.303 (* 1 = 61.303 loss)\r\n",
        "I0309 03:06:20.558105 1946825472 solver.cpp:222]     Train net output #1: l2_error = 2.04074\r\n",
        "I0309 03:06:20.558114 1946825472 solver.cpp:419] Iteration 60200, lr = 1e-08\r\n"
       ]
      },
      {
       "output_type": "stream",
       "stream": "stdout",
       "text": [
        "I0309 03:06:23.455534 1946825472 solver.cpp:207] Iteration 60300, loss = 64.3172\r\n",
        "I0309 03:06:23.455579 1946825472 solver.cpp:222]     Train net output #0: cross_entropy_loss = 64.3172 (* 1 = 64.3172 loss)\r\n",
        "I0309 03:06:23.455588 1946825472 solver.cpp:222]     Train net output #1: l2_error = 2.25967\r\n",
        "I0309 03:06:23.455596 1946825472 solver.cpp:419] Iteration 60300, lr = 1e-08\r\n"
       ]
      },
      {
       "output_type": "stream",
       "stream": "stdout",
       "text": [
        "I0309 03:06:26.368301 1946825472 solver.cpp:207] Iteration 60400, loss = 58.9545\r\n",
        "I0309 03:06:26.368346 1946825472 solver.cpp:222]     Train net output #0: cross_entropy_loss = 58.9545 (* 1 = 58.9545 loss)\r\n",
        "I0309 03:06:26.368355 1946825472 solver.cpp:222]     Train net output #1: l2_error = 1.91843\r\n",
        "I0309 03:06:26.368363 1946825472 solver.cpp:419] Iteration 60400, lr = 1e-08\r\n"
       ]
      },
      {
       "output_type": "stream",
       "stream": "stdout",
       "text": [
        "I0309 03:06:29.279623 1946825472 solver.cpp:263] Iteration 60500, Testing net (#0)\r\n"
       ]
      },
      {
       "output_type": "stream",
       "stream": "stdout",
       "text": [
        "I0309 03:06:35.668807 1946825472 solver.cpp:301] Test loss: 60.4042\r\n",
        "I0309 03:06:35.668848 1946825472 solver.cpp:314]     Test net output #0: cross_entropy_loss = 60.4042 (* 1 = 60.4042 loss)\r\n",
        "I0309 03:06:35.668858 1946825472 solver.cpp:314]     Test net output #1: l2_error = 1.97546\r\n",
        "I0309 03:06:35.668864 1946825472 solver.cpp:263] Iteration 60500, Testing net (#1)\r\n"
       ]
      },
      {
       "output_type": "stream",
       "stream": "stdout",
       "text": [
        "I0309 03:06:36.937203 1946825472 solver.cpp:301] Test loss: 60.4985\r\n",
        "I0309 03:06:36.937263 1946825472 solver.cpp:314]     Test net output #0: cross_entropy_loss = 60.4985 (* 1 = 60.4985 loss)\r\n",
        "I0309 03:06:36.937273 1946825472 solver.cpp:314]     Test net output #1: l2_error = 2.02337\r\n"
       ]
      },
      {
       "output_type": "stream",
       "stream": "stdout",
       "text": [
        "I0309 03:06:36.962996 1946825472 solver.cpp:207] Iteration 60500, loss = 57.8711\r\n",
        "I0309 03:06:36.963045 1946825472 solver.cpp:222]     Train net output #0: cross_entropy_loss = 57.8711 (* 1 = 57.8711 loss)\r\n",
        "I0309 03:06:36.963054 1946825472 solver.cpp:222]     Train net output #1: l2_error = 1.94395\r\n",
        "I0309 03:06:36.963063 1946825472 solver.cpp:419] Iteration 60500, lr = 1e-08\r\n"
       ]
      },
      {
       "output_type": "stream",
       "stream": "stdout",
       "text": [
        "I0309 03:06:39.859858 1946825472 solver.cpp:207] Iteration 60600, loss = 59.8029\r\n",
        "I0309 03:06:39.859906 1946825472 solver.cpp:222]     Train net output #0: cross_entropy_loss = 59.8029 (* 1 = 59.8029 loss)\r\n",
        "I0309 03:06:39.859920 1946825472 solver.cpp:222]     Train net output #1: l2_error = 1.87739\r\n",
        "I0309 03:06:39.859932 1946825472 solver.cpp:419] Iteration 60600, lr = 1e-08\r\n"
       ]
      },
      {
       "output_type": "stream",
       "stream": "stdout",
       "text": [
        "I0309 03:06:42.821041 1946825472 solver.cpp:207] Iteration 60700, loss = 61.1031\r\n",
        "I0309 03:06:42.821086 1946825472 solver.cpp:222]     Train net output #0: cross_entropy_loss = 61.1031 (* 1 = 61.1031 loss)\r\n",
        "I0309 03:06:42.821135 1946825472 solver.cpp:222]     Train net output #1: l2_error = 2.03611\r\n",
        "I0309 03:06:42.821143 1946825472 solver.cpp:419] Iteration 60700, lr = 1e-08\r\n"
       ]
      },
      {
       "output_type": "stream",
       "stream": "stdout",
       "text": [
        "I0309 03:06:45.846601 1946825472 solver.cpp:207] Iteration 60800, loss = 61.303\r\n",
        "I0309 03:06:45.846662 1946825472 solver.cpp:222]     Train net output #0: cross_entropy_loss = 61.303 (* 1 = 61.303 loss)\r\n",
        "I0309 03:06:45.846671 1946825472 solver.cpp:222]     Train net output #1: l2_error = 2.04074\r\n",
        "I0309 03:06:45.846680 1946825472 solver.cpp:419] Iteration 60800, lr = 1e-08\r\n"
       ]
      },
      {
       "output_type": "stream",
       "stream": "stdout",
       "text": [
        "I0309 03:06:48.814584 1946825472 solver.cpp:207] Iteration 60900, loss = 64.3172\r\n",
        "I0309 03:06:48.814627 1946825472 solver.cpp:222]     Train net output #0: cross_entropy_loss = 64.3172 (* 1 = 64.3172 loss)\r\n",
        "I0309 03:06:48.814636 1946825472 solver.cpp:222]     Train net output #1: l2_error = 2.25967\r\n",
        "I0309 03:06:48.814645 1946825472 solver.cpp:419] Iteration 60900, lr = 1e-08\r\n"
       ]
      },
      {
       "output_type": "stream",
       "stream": "stdout",
       "text": [
        "I0309 03:06:51.819816 1946825472 solver.cpp:263] Iteration 61000, Testing net (#0)\r\n"
       ]
      },
      {
       "output_type": "stream",
       "stream": "stdout",
       "text": [
        "I0309 03:06:58.191234 1946825472 solver.cpp:301] Test loss: 60.5407\r\n",
        "I0309 03:06:58.191285 1946825472 solver.cpp:314]     Test net output #0: cross_entropy_loss = 60.5407 (* 1 = 60.5407 loss)\r\n",
        "I0309 03:06:58.191293 1946825472 solver.cpp:314]     Test net output #1: l2_error = 1.98855\r\n",
        "I0309 03:06:58.191301 1946825472 solver.cpp:263] Iteration 61000, Testing net (#1)\r\n"
       ]
      },
      {
       "output_type": "stream",
       "stream": "stdout",
       "text": [
        "I0309 03:06:59.466356 1946825472 solver.cpp:301] Test loss: 60.4985\r\n",
        "I0309 03:06:59.466400 1946825472 solver.cpp:314]     Test net output #0: cross_entropy_loss = 60.4985 (* 1 = 60.4985 loss)\r\n",
        "I0309 03:06:59.466408 1946825472 solver.cpp:314]     Test net output #1: l2_error = 2.02337\r\n"
       ]
      },
      {
       "output_type": "stream",
       "stream": "stdout",
       "text": [
        "I0309 03:06:59.487864 1946825472 solver.cpp:207] Iteration 61000, loss = 58.9545\r\n",
        "I0309 03:06:59.487906 1946825472 solver.cpp:222]     Train net output #0: cross_entropy_loss = 58.9545 (* 1 = 58.9545 loss)\r\n",
        "I0309 03:06:59.487915 1946825472 solver.cpp:222]     Train net output #1: l2_error = 1.91843\r\n",
        "I0309 03:06:59.487923 1946825472 solver.cpp:419] Iteration 61000, lr = 1e-08\r\n"
       ]
      },
      {
       "output_type": "stream",
       "stream": "stdout",
       "text": [
        "I0309 03:07:02.365253 1946825472 solver.cpp:207] Iteration 61100, loss = 57.8711\r\n",
        "I0309 03:07:02.365298 1946825472 solver.cpp:222]     Train net output #0: cross_entropy_loss = 57.8711 (* 1 = 57.8711 loss)\r\n",
        "I0309 03:07:02.365308 1946825472 solver.cpp:222]     Train net output #1: l2_error = 1.94395\r\n",
        "I0309 03:07:02.365315 1946825472 solver.cpp:419] Iteration 61100, lr = 1e-08\r\n"
       ]
      },
      {
       "output_type": "stream",
       "stream": "stdout",
       "text": [
        "I0309 03:07:05.301933 1946825472 solver.cpp:207] Iteration 61200, loss = 59.8029\r\n",
        "I0309 03:07:05.301975 1946825472 solver.cpp:222]     Train net output #0: cross_entropy_loss = 59.8029 (* 1 = 59.8029 loss)\r\n",
        "I0309 03:07:05.301985 1946825472 solver.cpp:222]     Train net output #1: l2_error = 1.87739\r\n",
        "I0309 03:07:05.301993 1946825472 solver.cpp:419] Iteration 61200, lr = 1e-08\r\n"
       ]
      },
      {
       "output_type": "stream",
       "stream": "stdout",
       "text": [
        "I0309 03:07:08.200855 1946825472 solver.cpp:207] Iteration 61300, loss = 61.1031\r\n",
        "I0309 03:07:08.200897 1946825472 solver.cpp:222]     Train net output #0: cross_entropy_loss = 61.1031 (* 1 = 61.1031 loss)\r\n",
        "I0309 03:07:08.200906 1946825472 solver.cpp:222]     Train net output #1: l2_error = 2.03611\r\n",
        "I0309 03:07:08.200914 1946825472 solver.cpp:419] Iteration 61300, lr = 1e-08\r\n"
       ]
      },
      {
       "output_type": "stream",
       "stream": "stdout",
       "text": [
        "I0309 03:07:11.202927 1946825472 solver.cpp:207] Iteration 61400, loss = 61.303\r\n",
        "I0309 03:07:11.202972 1946825472 solver.cpp:222]     Train net output #0: cross_entropy_loss = 61.303 (* 1 = 61.303 loss)\r\n",
        "I0309 03:07:11.202981 1946825472 solver.cpp:222]     Train net output #1: l2_error = 2.04074\r\n",
        "I0309 03:07:11.202989 1946825472 solver.cpp:419] Iteration 61400, lr = 1e-08\r\n"
       ]
      },
      {
       "output_type": "stream",
       "stream": "stdout",
       "text": [
        "I0309 03:07:14.100499 1946825472 solver.cpp:263] Iteration 61500, Testing net (#0)\r\n"
       ]
      },
      {
       "output_type": "stream",
       "stream": "stdout",
       "text": [
        "I0309 03:07:20.492252 1946825472 solver.cpp:301] Test loss: 60.6295\r\n",
        "I0309 03:07:20.492328 1946825472 solver.cpp:314]     Test net output #0: cross_entropy_loss = 60.6295 (* 1 = 60.6295 loss)\r\n",
        "I0309 03:07:20.492338 1946825472 solver.cpp:314]     Test net output #1: l2_error = 1.99322\r\n",
        "I0309 03:07:20.492346 1946825472 solver.cpp:263] Iteration 61500, Testing net (#1)\r\n"
       ]
      },
      {
       "output_type": "stream",
       "stream": "stdout",
       "text": [
        "I0309 03:07:21.762433 1946825472 solver.cpp:301] Test loss: 60.4985\r\n",
        "I0309 03:07:21.762480 1946825472 solver.cpp:314]     Test net output #0: cross_entropy_loss = 60.4985 (* 1 = 60.4985 loss)\r\n",
        "I0309 03:07:21.762488 1946825472 solver.cpp:314]     Test net output #1: l2_error = 2.02337\r\n"
       ]
      },
      {
       "output_type": "stream",
       "stream": "stdout",
       "text": [
        "I0309 03:07:21.787288 1946825472 solver.cpp:207] Iteration 61500, loss = 64.3172\r\n",
        "I0309 03:07:21.787331 1946825472 solver.cpp:222]     Train net output #0: cross_entropy_loss = 64.3172 (* 1 = 64.3172 loss)\r\n",
        "I0309 03:07:21.787340 1946825472 solver.cpp:222]     Train net output #1: l2_error = 2.25967\r\n",
        "I0309 03:07:21.787349 1946825472 solver.cpp:419] Iteration 61500, lr = 1e-08\r\n"
       ]
      },
      {
       "output_type": "stream",
       "stream": "stdout",
       "text": [
        "I0309 03:07:24.682800 1946825472 solver.cpp:207] Iteration 61600, loss = 58.9545\r\n",
        "I0309 03:07:24.682847 1946825472 solver.cpp:222]     Train net output #0: cross_entropy_loss = 58.9545 (* 1 = 58.9545 loss)\r\n",
        "I0309 03:07:24.682855 1946825472 solver.cpp:222]     Train net output #1: l2_error = 1.91843\r\n",
        "I0309 03:07:24.682864 1946825472 solver.cpp:419] Iteration 61600, lr = 1e-08\r\n"
       ]
      },
      {
       "output_type": "stream",
       "stream": "stdout",
       "text": [
        "I0309 03:07:27.594373 1946825472 solver.cpp:207] Iteration 61700, loss = 57.8711\r\n",
        "I0309 03:07:27.594419 1946825472 solver.cpp:222]     Train net output #0: cross_entropy_loss = 57.8711 (* 1 = 57.8711 loss)\r\n",
        "I0309 03:07:27.594427 1946825472 solver.cpp:222]     Train net output #1: l2_error = 1.94395\r\n",
        "I0309 03:07:27.594435 1946825472 solver.cpp:419] Iteration 61700, lr = 1e-08\r\n"
       ]
      },
      {
       "output_type": "stream",
       "stream": "stdout",
       "text": [
        "I0309 03:07:30.479573 1946825472 solver.cpp:207] Iteration 61800, loss = 59.8029\r\n",
        "I0309 03:07:30.479619 1946825472 solver.cpp:222]     Train net output #0: cross_entropy_loss = 59.8029 (* 1 = 59.8029 loss)\r\n",
        "I0309 03:07:30.479629 1946825472 solver.cpp:222]     Train net output #1: l2_error = 1.87739\r\n",
        "I0309 03:07:30.479636 1946825472 solver.cpp:419] Iteration 61800, lr = 1e-08\r\n"
       ]
      },
      {
       "output_type": "stream",
       "stream": "stdout",
       "text": [
        "I0309 03:07:33.390360 1946825472 solver.cpp:207] Iteration 61900, loss = 61.1031\r\n",
        "I0309 03:07:33.390403 1946825472 solver.cpp:222]     Train net output #0: cross_entropy_loss = 61.1031 (* 1 = 61.1031 loss)\r\n",
        "I0309 03:07:33.390413 1946825472 solver.cpp:222]     Train net output #1: l2_error = 2.03611\r\n",
        "I0309 03:07:33.390421 1946825472 solver.cpp:419] Iteration 61900, lr = 1e-08\r\n"
       ]
      },
      {
       "output_type": "stream",
       "stream": "stdout",
       "text": [
        "I0309 03:07:36.297788 1946825472 solver.cpp:263] Iteration 62000, Testing net (#0)\r\n"
       ]
      },
      {
       "output_type": "stream",
       "stream": "stdout",
       "text": [
        "I0309 03:07:42.686651 1946825472 solver.cpp:301] Test loss: 60.631\r\n",
        "I0309 03:07:42.686694 1946825472 solver.cpp:314]     Test net output #0: cross_entropy_loss = 60.631 (* 1 = 60.631 loss)\r\n",
        "I0309 03:07:42.686703 1946825472 solver.cpp:314]     Test net output #1: l2_error = 1.99428\r\n",
        "I0309 03:07:42.686709 1946825472 solver.cpp:263] Iteration 62000, Testing net (#1)\r\n"
       ]
      },
      {
       "output_type": "stream",
       "stream": "stdout",
       "text": [
        "I0309 03:07:44.007570 1946825472 solver.cpp:301] Test loss: 60.4985\r\n",
        "I0309 03:07:44.007611 1946825472 solver.cpp:314]     Test net output #0: cross_entropy_loss = 60.4985 (* 1 = 60.4985 loss)\r\n",
        "I0309 03:07:44.007621 1946825472 solver.cpp:314]     Test net output #1: l2_error = 2.02337\r\n",
        "I0309 03:07:44.029469 1946825472 solver.cpp:207] Iteration 62000, loss = 61.303\r\n",
        "I0309 03:07:44.029531 1946825472 solver.cpp:222]     Train net output #0: cross_entropy_loss = 61.303 (* 1 = 61.303 loss)\r\n",
        "I0309 03:07:44.029541 1946825472 solver.cpp:222]     Train net output #1: l2_error = 2.04073\r\n",
        "I0309 03:07:44.029549 1946825472 solver.cpp:419] Iteration 62000, lr = 1e-08\r\n"
       ]
      },
      {
       "output_type": "stream",
       "stream": "stdout",
       "text": [
        "I0309 03:07:47.052217 1946825472 solver.cpp:207] Iteration 62100, loss = 64.3172\r\n",
        "I0309 03:07:47.052263 1946825472 solver.cpp:222]     Train net output #0: cross_entropy_loss = 64.3172 (* 1 = 64.3172 loss)\r\n",
        "I0309 03:07:47.052271 1946825472 solver.cpp:222]     Train net output #1: l2_error = 2.25967\r\n",
        "I0309 03:07:47.052280 1946825472 solver.cpp:419] Iteration 62100, lr = 1e-08\r\n"
       ]
      },
      {
       "output_type": "stream",
       "stream": "stdout",
       "text": [
        "I0309 03:07:50.018786 1946825472 solver.cpp:207] Iteration 62200, loss = 58.9545\r\n",
        "I0309 03:07:50.018829 1946825472 solver.cpp:222]     Train net output #0: cross_entropy_loss = 58.9545 (* 1 = 58.9545 loss)\r\n",
        "I0309 03:07:50.018873 1946825472 solver.cpp:222]     Train net output #1: l2_error = 1.91843\r\n",
        "I0309 03:07:50.018883 1946825472 solver.cpp:419] Iteration 62200, lr = 1e-08\r\n"
       ]
      },
      {
       "output_type": "stream",
       "stream": "stdout",
       "text": [
        "I0309 03:07:53.154310 1946825472 solver.cpp:207] Iteration 62300, loss = 57.8711\r\n",
        "I0309 03:07:53.154371 1946825472 solver.cpp:222]     Train net output #0: cross_entropy_loss = 57.8711 (* 1 = 57.8711 loss)\r\n",
        "I0309 03:07:53.154381 1946825472 solver.cpp:222]     Train net output #1: l2_error = 1.94395\r\n",
        "I0309 03:07:53.154389 1946825472 solver.cpp:419] Iteration 62300, lr = 1e-08\r\n"
       ]
      },
      {
       "output_type": "stream",
       "stream": "stdout",
       "text": [
        "I0309 03:07:56.063518 1946825472 solver.cpp:207] Iteration 62400, loss = 59.8029\r\n",
        "I0309 03:07:56.063560 1946825472 solver.cpp:222]     Train net output #0: cross_entropy_loss = 59.8029 (* 1 = 59.8029 loss)\r\n",
        "I0309 03:07:56.063568 1946825472 solver.cpp:222]     Train net output #1: l2_error = 1.87739\r\n",
        "I0309 03:07:56.063576 1946825472 solver.cpp:419] Iteration 62400, lr = 1e-08\r\n"
       ]
      },
      {
       "output_type": "stream",
       "stream": "stdout",
       "text": [
        "I0309 03:07:58.951570 1946825472 solver.cpp:263] Iteration 62500, Testing net (#0)\r\n"
       ]
      },
      {
       "output_type": "stream",
       "stream": "stdout",
       "text": [
        "I0309 03:08:05.322037 1946825472 solver.cpp:301] Test loss: 60.602\r\n",
        "I0309 03:08:05.322079 1946825472 solver.cpp:314]     Test net output #0: cross_entropy_loss = 60.602 (* 1 = 60.602 loss)\r\n",
        "I0309 03:08:05.322088 1946825472 solver.cpp:314]     Test net output #1: l2_error = 1.99589\r\n",
        "I0309 03:08:05.322094 1946825472 solver.cpp:263] Iteration 62500, Testing net (#1)\r\n"
       ]
      },
      {
       "output_type": "stream",
       "stream": "stdout",
       "text": [
        "I0309 03:08:06.595660 1946825472 solver.cpp:301] Test loss: 60.4985\r\n",
        "I0309 03:08:06.595703 1946825472 solver.cpp:314]     Test net output #0: cross_entropy_loss = 60.4985 (* 1 = 60.4985 loss)\r\n",
        "I0309 03:08:06.595711 1946825472 solver.cpp:314]     Test net output #1: l2_error = 2.02337\r\n",
        "I0309 03:08:06.617235 1946825472 solver.cpp:207] Iteration 62500, loss = 61.1031\r\n",
        "I0309 03:08:06.617280 1946825472 solver.cpp:222]     Train net output #0: cross_entropy_loss = 61.1031 (* 1 = 61.1031 loss)\r\n",
        "I0309 03:08:06.617290 1946825472 solver.cpp:222]     Train net output #1: l2_error = 2.03611\r\n",
        "I0309 03:08:06.617298 1946825472 solver.cpp:419] Iteration 62500, lr = 1e-08\r\n"
       ]
      },
      {
       "output_type": "stream",
       "stream": "stdout",
       "text": [
        "I0309 03:08:09.491427 1946825472 solver.cpp:207] Iteration 62600, loss = 61.303\r\n",
        "I0309 03:08:09.491472 1946825472 solver.cpp:222]     Train net output #0: cross_entropy_loss = 61.303 (* 1 = 61.303 loss)\r\n",
        "I0309 03:08:09.491482 1946825472 solver.cpp:222]     Train net output #1: l2_error = 2.04073\r\n",
        "I0309 03:08:09.491490 1946825472 solver.cpp:419] Iteration 62600, lr = 1e-08\r\n"
       ]
      },
      {
       "output_type": "stream",
       "stream": "stdout",
       "text": [
        "I0309 03:08:12.426355 1946825472 solver.cpp:207] Iteration 62700, loss = 64.3172\r\n",
        "I0309 03:08:12.426399 1946825472 solver.cpp:222]     Train net output #0: cross_entropy_loss = 64.3172 (* 1 = 64.3172 loss)\r\n",
        "I0309 03:08:12.426409 1946825472 solver.cpp:222]     Train net output #1: l2_error = 2.25967\r\n",
        "I0309 03:08:12.426416 1946825472 solver.cpp:419] Iteration 62700, lr = 1e-08\r\n"
       ]
      },
      {
       "output_type": "stream",
       "stream": "stdout",
       "text": [
        "I0309 03:08:15.379884 1946825472 solver.cpp:207] Iteration 62800, loss = 58.9545\r\n",
        "I0309 03:08:15.379928 1946825472 solver.cpp:222]     Train net output #0: cross_entropy_loss = 58.9545 (* 1 = 58.9545 loss)\r\n",
        "I0309 03:08:15.379937 1946825472 solver.cpp:222]     Train net output #1: l2_error = 1.91843\r\n",
        "I0309 03:08:15.379946 1946825472 solver.cpp:419] Iteration 62800, lr = 1e-08\r\n"
       ]
      },
      {
       "output_type": "stream",
       "stream": "stdout",
       "text": [
        "I0309 03:08:18.345453 1946825472 solver.cpp:207] Iteration 62900, loss = 57.8711\r\n",
        "I0309 03:08:18.345497 1946825472 solver.cpp:222]     Train net output #0: cross_entropy_loss = 57.8711 (* 1 = 57.8711 loss)\r\n",
        "I0309 03:08:18.345506 1946825472 solver.cpp:222]     Train net output #1: l2_error = 1.94395\r\n",
        "I0309 03:08:18.345515 1946825472 solver.cpp:419] Iteration 62900, lr = 1e-08\r\n"
       ]
      },
      {
       "output_type": "stream",
       "stream": "stdout",
       "text": [
        "I0309 03:08:21.221138 1946825472 solver.cpp:263] Iteration 63000, Testing net (#0)\r\n"
       ]
      },
      {
       "output_type": "stream",
       "stream": "stdout",
       "text": [
        "I0309 03:08:27.603229 1946825472 solver.cpp:301] Test loss: 60.5308\r\n",
        "I0309 03:08:27.603308 1946825472 solver.cpp:314]     Test net output #0: cross_entropy_loss = 60.5308 (* 1 = 60.5308 loss)\r\n",
        "I0309 03:08:27.603317 1946825472 solver.cpp:314]     Test net output #1: l2_error = 1.99168\r\n",
        "I0309 03:08:27.603324 1946825472 solver.cpp:263] Iteration 63000, Testing net (#1)\r\n"
       ]
      },
      {
       "output_type": "stream",
       "stream": "stdout",
       "text": [
        "I0309 03:08:28.876530 1946825472 solver.cpp:301] Test loss: 60.4985\r\n",
        "I0309 03:08:28.876570 1946825472 solver.cpp:314]     Test net output #0: cross_entropy_loss = 60.4985 (* 1 = 60.4985 loss)\r\n",
        "I0309 03:08:28.876579 1946825472 solver.cpp:314]     Test net output #1: l2_error = 2.02337\r\n"
       ]
      },
      {
       "output_type": "stream",
       "stream": "stdout",
       "text": [
        "I0309 03:08:28.898104 1946825472 solver.cpp:207] Iteration 63000, loss = 59.8029\r\n",
        "I0309 03:08:28.898147 1946825472 solver.cpp:222]     Train net output #0: cross_entropy_loss = 59.8029 (* 1 = 59.8029 loss)\r\n",
        "I0309 03:08:28.898156 1946825472 solver.cpp:222]     Train net output #1: l2_error = 1.87739\r\n",
        "I0309 03:08:28.898165 1946825472 solver.cpp:419] Iteration 63000, lr = 1e-08\r\n"
       ]
      },
      {
       "output_type": "stream",
       "stream": "stdout",
       "text": [
        "I0309 03:08:31.854347 1946825472 solver.cpp:207] Iteration 63100, loss = 61.1031\r\n",
        "I0309 03:08:31.854393 1946825472 solver.cpp:222]     Train net output #0: cross_entropy_loss = 61.1031 (* 1 = 61.1031 loss)\r\n",
        "I0309 03:08:31.854403 1946825472 solver.cpp:222]     Train net output #1: l2_error = 2.03611\r\n",
        "I0309 03:08:31.854411 1946825472 solver.cpp:419] Iteration 63100, lr = 1e-08\r\n"
       ]
      },
      {
       "output_type": "stream",
       "stream": "stdout",
       "text": [
        "I0309 03:08:34.772495 1946825472 solver.cpp:207] Iteration 63200, loss = 61.303\r\n",
        "I0309 03:08:34.772536 1946825472 solver.cpp:222]     Train net output #0: cross_entropy_loss = 61.303 (* 1 = 61.303 loss)\r\n",
        "I0309 03:08:34.772546 1946825472 solver.cpp:222]     Train net output #1: l2_error = 2.04073\r\n",
        "I0309 03:08:34.772553 1946825472 solver.cpp:419] Iteration 63200, lr = 1e-08\r\n"
       ]
      },
      {
       "output_type": "stream",
       "stream": "stdout",
       "text": [
        "I0309 03:08:37.704772 1946825472 solver.cpp:207] Iteration 63300, loss = 64.3172\r\n",
        "I0309 03:08:37.704818 1946825472 solver.cpp:222]     Train net output #0: cross_entropy_loss = 64.3172 (* 1 = 64.3172 loss)\r\n",
        "I0309 03:08:37.704826 1946825472 solver.cpp:222]     Train net output #1: l2_error = 2.25967\r\n",
        "I0309 03:08:37.704835 1946825472 solver.cpp:419] Iteration 63300, lr = 1e-08\r\n"
       ]
      },
      {
       "output_type": "stream",
       "stream": "stdout",
       "text": [
        "I0309 03:08:40.690361 1946825472 solver.cpp:207] Iteration 63400, loss = 58.9545\r\n",
        "I0309 03:08:40.690407 1946825472 solver.cpp:222]     Train net output #0: cross_entropy_loss = 58.9545 (* 1 = 58.9545 loss)\r\n",
        "I0309 03:08:40.690417 1946825472 solver.cpp:222]     Train net output #1: l2_error = 1.91843\r\n",
        "I0309 03:08:40.690424 1946825472 solver.cpp:419] Iteration 63400, lr = 1e-08\r\n"
       ]
      },
      {
       "output_type": "stream",
       "stream": "stdout",
       "text": [
        "I0309 03:08:43.606947 1946825472 solver.cpp:263] Iteration 63500, Testing net (#0)\r\n"
       ]
      },
      {
       "output_type": "stream",
       "stream": "stdout",
       "text": [
        "I0309 03:08:50.107707 1946825472 solver.cpp:301] Test loss: 60.4042\r\n",
        "I0309 03:08:50.107748 1946825472 solver.cpp:314]     Test net output #0: cross_entropy_loss = 60.4042 (* 1 = 60.4042 loss)\r\n",
        "I0309 03:08:50.107758 1946825472 solver.cpp:314]     Test net output #1: l2_error = 1.97546\r\n",
        "I0309 03:08:50.107764 1946825472 solver.cpp:263] Iteration 63500, Testing net (#1)\r\n"
       ]
      },
      {
       "output_type": "stream",
       "stream": "stdout",
       "text": [
        "I0309 03:08:51.444169 1946825472 solver.cpp:301] Test loss: 60.4985\r\n",
        "I0309 03:08:51.444211 1946825472 solver.cpp:314]     Test net output #0: cross_entropy_loss = 60.4985 (* 1 = 60.4985 loss)\r\n",
        "I0309 03:08:51.444221 1946825472 solver.cpp:314]     Test net output #1: l2_error = 2.02337\r\n"
       ]
      },
      {
       "output_type": "stream",
       "stream": "stdout",
       "text": [
        "I0309 03:08:51.466544 1946825472 solver.cpp:207] Iteration 63500, loss = 57.8711\r\n",
        "I0309 03:08:51.466586 1946825472 solver.cpp:222]     Train net output #0: cross_entropy_loss = 57.8711 (* 1 = 57.8711 loss)\r\n",
        "I0309 03:08:51.466595 1946825472 solver.cpp:222]     Train net output #1: l2_error = 1.94395\r\n",
        "I0309 03:08:51.466603 1946825472 solver.cpp:419] Iteration 63500, lr = 1e-08\r\n"
       ]
      },
      {
       "output_type": "stream",
       "stream": "stdout",
       "text": [
        "I0309 03:08:54.433907 1946825472 solver.cpp:207] Iteration 63600, loss = 59.8029\r\n",
        "I0309 03:08:54.433953 1946825472 solver.cpp:222]     Train net output #0: cross_entropy_loss = 59.8029 (* 1 = 59.8029 loss)\r\n",
        "I0309 03:08:54.433961 1946825472 solver.cpp:222]     Train net output #1: l2_error = 1.87739\r\n",
        "I0309 03:08:54.433969 1946825472 solver.cpp:419] Iteration 63600, lr = 1e-08\r\n"
       ]
      },
      {
       "output_type": "stream",
       "stream": "stdout",
       "text": [
        "I0309 03:08:57.324154 1946825472 solver.cpp:207] Iteration 63700, loss = 61.1031\r\n",
        "I0309 03:08:57.324194 1946825472 solver.cpp:222]     Train net output #0: cross_entropy_loss = 61.1031 (* 1 = 61.1031 loss)\r\n",
        "I0309 03:08:57.324236 1946825472 solver.cpp:222]     Train net output #1: l2_error = 2.03611\r\n",
        "I0309 03:08:57.324247 1946825472 solver.cpp:419] Iteration 63700, lr = 1e-08\r\n"
       ]
      },
      {
       "output_type": "stream",
       "stream": "stdout",
       "text": [
        "I0309 03:09:00.260706 1946825472 solver.cpp:207] Iteration 63800, loss = 61.303\r\n",
        "I0309 03:09:00.260769 1946825472 solver.cpp:222]     Train net output #0: cross_entropy_loss = 61.303 (* 1 = 61.303 loss)\r\n",
        "I0309 03:09:00.260778 1946825472 solver.cpp:222]     Train net output #1: l2_error = 2.04074\r\n",
        "I0309 03:09:00.260787 1946825472 solver.cpp:419] Iteration 63800, lr = 1e-08\r\n"
       ]
      },
      {
       "output_type": "stream",
       "stream": "stdout",
       "text": [
        "I0309 03:09:03.171787 1946825472 solver.cpp:207] Iteration 63900, loss = 64.3172\r\n",
        "I0309 03:09:03.171826 1946825472 solver.cpp:222]     Train net output #0: cross_entropy_loss = 64.3172 (* 1 = 64.3172 loss)\r\n",
        "I0309 03:09:03.171836 1946825472 solver.cpp:222]     Train net output #1: l2_error = 2.25967\r\n",
        "I0309 03:09:03.171844 1946825472 solver.cpp:419] Iteration 63900, lr = 1e-08\r\n"
       ]
      },
      {
       "output_type": "stream",
       "stream": "stdout",
       "text": [
        "I0309 03:09:06.041683 1946825472 solver.cpp:263] Iteration 64000, Testing net (#0)\r\n"
       ]
      },
      {
       "output_type": "stream",
       "stream": "stdout",
       "text": [
        "I0309 03:09:12.485014 1946825472 solver.cpp:301] Test loss: 60.5407\r\n",
        "I0309 03:09:12.485057 1946825472 solver.cpp:314]     Test net output #0: cross_entropy_loss = 60.5407 (* 1 = 60.5407 loss)\r\n",
        "I0309 03:09:12.485069 1946825472 solver.cpp:314]     Test net output #1: l2_error = 1.98855\r\n",
        "I0309 03:09:12.485081 1946825472 solver.cpp:263] Iteration 64000, Testing net (#1)\r\n"
       ]
      },
      {
       "output_type": "stream",
       "stream": "stdout",
       "text": [
        "I0309 03:09:13.758365 1946825472 solver.cpp:301] Test loss: 60.4985\r\n",
        "I0309 03:09:13.758409 1946825472 solver.cpp:314]     Test net output #0: cross_entropy_loss = 60.4985 (* 1 = 60.4985 loss)\r\n",
        "I0309 03:09:13.758417 1946825472 solver.cpp:314]     Test net output #1: l2_error = 2.02337\r\n"
       ]
      },
      {
       "output_type": "stream",
       "stream": "stdout",
       "text": [
        "I0309 03:09:13.779893 1946825472 solver.cpp:207] Iteration 64000, loss = 58.9545\r\n",
        "I0309 03:09:13.779935 1946825472 solver.cpp:222]     Train net output #0: cross_entropy_loss = 58.9545 (* 1 = 58.9545 loss)\r\n",
        "I0309 03:09:13.779944 1946825472 solver.cpp:222]     Train net output #1: l2_error = 1.91843\r\n",
        "I0309 03:09:13.779953 1946825472 solver.cpp:419] Iteration 64000, lr = 1e-08\r\n"
       ]
      },
      {
       "output_type": "stream",
       "stream": "stdout",
       "text": [
        "I0309 03:09:16.784682 1946825472 solver.cpp:207] Iteration 64100, loss = 57.8711\r\n",
        "I0309 03:09:16.784725 1946825472 solver.cpp:222]     Train net output #0: cross_entropy_loss = 57.8711 (* 1 = 57.8711 loss)\r\n",
        "I0309 03:09:16.784734 1946825472 solver.cpp:222]     Train net output #1: l2_error = 1.94395\r\n",
        "I0309 03:09:16.784744 1946825472 solver.cpp:419] Iteration 64100, lr = 1e-08\r\n"
       ]
      },
      {
       "output_type": "stream",
       "stream": "stdout",
       "text": [
        "I0309 03:09:19.744551 1946825472 solver.cpp:207] Iteration 64200, loss = 59.8029\r\n",
        "I0309 03:09:19.744596 1946825472 solver.cpp:222]     Train net output #0: cross_entropy_loss = 59.8029 (* 1 = 59.8029 loss)\r\n",
        "I0309 03:09:19.744606 1946825472 solver.cpp:222]     Train net output #1: l2_error = 1.87739\r\n",
        "I0309 03:09:19.744614 1946825472 solver.cpp:419] Iteration 64200, lr = 1e-08\r\n"
       ]
      },
      {
       "output_type": "stream",
       "stream": "stdout",
       "text": [
        "I0309 03:09:22.674860 1946825472 solver.cpp:207] Iteration 64300, loss = 61.1031\r\n",
        "I0309 03:09:22.674906 1946825472 solver.cpp:222]     Train net output #0: cross_entropy_loss = 61.1031 (* 1 = 61.1031 loss)\r\n",
        "I0309 03:09:22.674914 1946825472 solver.cpp:222]     Train net output #1: l2_error = 2.03611\r\n",
        "I0309 03:09:22.674922 1946825472 solver.cpp:419] Iteration 64300, lr = 1e-08\r\n"
       ]
      },
      {
       "output_type": "stream",
       "stream": "stdout",
       "text": [
        "I0309 03:09:25.599402 1946825472 solver.cpp:207] Iteration 64400, loss = 61.303\r\n",
        "I0309 03:09:25.599447 1946825472 solver.cpp:222]     Train net output #0: cross_entropy_loss = 61.303 (* 1 = 61.303 loss)\r\n",
        "I0309 03:09:25.599455 1946825472 solver.cpp:222]     Train net output #1: l2_error = 2.04073\r\n",
        "I0309 03:09:25.599464 1946825472 solver.cpp:419] Iteration 64400, lr = 1e-08\r\n"
       ]
      },
      {
       "output_type": "stream",
       "stream": "stdout",
       "text": [
        "I0309 03:09:28.470276 1946825472 solver.cpp:263] Iteration 64500, Testing net (#0)\r\n"
       ]
      },
      {
       "output_type": "stream",
       "stream": "stdout",
       "text": [
        "I0309 03:09:34.869372 1946825472 solver.cpp:301] Test loss: 60.6295\r\n",
        "I0309 03:09:34.869472 1946825472 solver.cpp:314]     Test net output #0: cross_entropy_loss = 60.6295 (* 1 = 60.6295 loss)\r\n",
        "I0309 03:09:34.869482 1946825472 solver.cpp:314]     Test net output #1: l2_error = 1.99322\r\n",
        "I0309 03:09:34.869489 1946825472 solver.cpp:263] Iteration 64500, Testing net (#1)\r\n"
       ]
      },
      {
       "output_type": "stream",
       "stream": "stdout",
       "text": [
        "I0309 03:09:36.143519 1946825472 solver.cpp:301] Test loss: 60.4985\r\n",
        "I0309 03:09:36.143570 1946825472 solver.cpp:314]     Test net output #0: cross_entropy_loss = 60.4985 (* 1 = 60.4985 loss)\r\n",
        "I0309 03:09:36.143579 1946825472 solver.cpp:314]     Test net output #1: l2_error = 2.02337\r\n",
        "I0309 03:09:36.165366 1946825472 solver.cpp:207] Iteration 64500, loss = 64.3172\r\n",
        "I0309 03:09:36.165410 1946825472 solver.cpp:222]     Train net output #0: cross_entropy_loss = 64.3172 (* 1 = 64.3172 loss)\r\n",
        "I0309 03:09:36.165419 1946825472 solver.cpp:222]     Train net output #1: l2_error = 2.25967\r\n",
        "I0309 03:09:36.165428 1946825472 solver.cpp:419] Iteration 64500, lr = 1e-08\r\n"
       ]
      },
      {
       "output_type": "stream",
       "stream": "stdout",
       "text": [
        "I0309 03:09:39.195803 1946825472 solver.cpp:207] Iteration 64600, loss = 58.9545\r\n",
        "I0309 03:09:39.195847 1946825472 solver.cpp:222]     Train net output #0: cross_entropy_loss = 58.9545 (* 1 = 58.9545 loss)\r\n",
        "I0309 03:09:39.195858 1946825472 solver.cpp:222]     Train net output #1: l2_error = 1.91843\r\n",
        "I0309 03:09:39.195865 1946825472 solver.cpp:419] Iteration 64600, lr = 1e-08\r\n"
       ]
      },
      {
       "output_type": "stream",
       "stream": "stdout",
       "text": [
        "I0309 03:09:42.128603 1946825472 solver.cpp:207] Iteration 64700, loss = 57.8711\r\n",
        "I0309 03:09:42.128648 1946825472 solver.cpp:222]     Train net output #0: cross_entropy_loss = 57.8711 (* 1 = 57.8711 loss)\r\n",
        "I0309 03:09:42.128657 1946825472 solver.cpp:222]     Train net output #1: l2_error = 1.94395\r\n",
        "I0309 03:09:42.128665 1946825472 solver.cpp:419] Iteration 64700, lr = 1e-08\r\n"
       ]
      },
      {
       "output_type": "stream",
       "stream": "stdout",
       "text": [
        "I0309 03:09:45.192612 1946825472 solver.cpp:207] Iteration 64800, loss = 59.8029\r\n",
        "I0309 03:09:45.192663 1946825472 solver.cpp:222]     Train net output #0: cross_entropy_loss = 59.8029 (* 1 = 59.8029 loss)\r\n",
        "I0309 03:09:45.192678 1946825472 solver.cpp:222]     Train net output #1: l2_error = 1.87739\r\n",
        "I0309 03:09:45.192692 1946825472 solver.cpp:419] Iteration 64800, lr = 1e-08\r\n"
       ]
      },
      {
       "output_type": "stream",
       "stream": "stdout",
       "text": [
        "I0309 03:09:48.149462 1946825472 solver.cpp:207] Iteration 64900, loss = 61.1031\r\n",
        "I0309 03:09:48.149505 1946825472 solver.cpp:222]     Train net output #0: cross_entropy_loss = 61.1031 (* 1 = 61.1031 loss)\r\n",
        "I0309 03:09:48.149514 1946825472 solver.cpp:222]     Train net output #1: l2_error = 2.03611\r\n",
        "I0309 03:09:48.149523 1946825472 solver.cpp:419] Iteration 64900, lr = 1e-08\r\n"
       ]
      },
      {
       "output_type": "stream",
       "stream": "stdout",
       "text": [
        "I0309 03:09:51.148190 1946825472 solver.cpp:333] Snapshotting to examples/mnist/mnist_autoencoder_iter_65000.caffemodel\r\n"
       ]
      },
      {
       "output_type": "stream",
       "stream": "stdout",
       "text": [
        "I0309 03:09:51.231808 1946825472 solver.cpp:340] Snapshotting solver state to examples/mnist/mnist_autoencoder_iter_65000.solverstate\r\n"
       ]
      },
      {
       "output_type": "stream",
       "stream": "stdout",
       "text": [
        "I0309 03:09:51.308996 1946825472 solver.cpp:244] Iteration 65000, loss = 61.303\r\n",
        "I0309 03:09:51.309037 1946825472 solver.cpp:263] Iteration 65000, Testing net (#0)\r\n"
       ]
      },
      {
       "output_type": "stream",
       "stream": "stdout",
       "text": [
        "I0309 03:09:57.746011 1946825472 solver.cpp:301] Test loss: 60.631\r\n",
        "I0309 03:09:57.746053 1946825472 solver.cpp:314]     Test net output #0: cross_entropy_loss = 60.631 (* 1 = 60.631 loss)\r\n",
        "I0309 03:09:57.746062 1946825472 solver.cpp:314]     Test net output #1: l2_error = 1.99428\r\n",
        "I0309 03:09:57.746068 1946825472 solver.cpp:263] Iteration 65000, Testing net (#1)\r\n"
       ]
      },
      {
       "output_type": "stream",
       "stream": "stdout",
       "text": [
        "I0309 03:09:59.023102 1946825472 solver.cpp:301] Test loss: 60.4985\r\n",
        "I0309 03:09:59.023145 1946825472 solver.cpp:314]     Test net output #0: cross_entropy_loss = 60.4985 (* 1 = 60.4985 loss)\r\n",
        "I0309 03:09:59.023154 1946825472 solver.cpp:314]     Test net output #1: l2_error = 2.02337\r\n",
        "I0309 03:09:59.023161 1946825472 solver.cpp:249] Optimization Done.\r\n",
        "I0309 03:09:59.023166 1946825472 caffe.cpp:121] Optimization Done.\r\n"
       ]
      }
     ],
     "prompt_number": 3
    },
    {
     "cell_type": "code",
     "collapsed": false,
     "input": [],
     "language": "python",
     "metadata": {},
     "outputs": []
    }
   ],
   "metadata": {}
  }
 ]
}