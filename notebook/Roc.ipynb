{
 "metadata": {
  "name": "",
  "signature": "sha256:63e89f6cd5b52abefd759849b1aeecf2b111d0338b23c182c69cf36338318119"
 },
 "nbformat": 3,
 "nbformat_minor": 0,
 "worksheets": [
  {
   "cells": [
    {
     "cell_type": "markdown",
     "metadata": {},
     "source": [
      "### plot_roc.py"
     ]
    },
    {
     "cell_type": "code",
     "collapsed": false,
     "input": [
      "print(__doc__)\n",
      "\n",
      "import numpy as np\n",
      "import matplotlib.pyplot as plt\n",
      "from sklearn import svm, datasets\n",
      "from sklearn.metrics import roc_curve, auc\n",
      "from sklearn.cross_validation import train_test_split\n",
      "from sklearn.preprocessing import label_binarize\n",
      "from sklearn.multiclass import OneVsRestClassifier\n",
      "\n",
      "# Import some data to play with\n",
      "iris = datasets.load_iris()\n",
      "X = iris.data\n",
      "y = iris.target\n",
      "\n",
      "# Binarize the output\n",
      "y = label_binarize(y, classes=[0, 1, 2])\n",
      "n_classes = y.shape[1]\n",
      "\n",
      "# Add noisy features to make the problem harder\n",
      "random_state = np.random.RandomState(0)\n",
      "n_samples, n_features = X.shape\n",
      "X = np.c_[X, random_state.randn(n_samples, 200 * n_features)]\n",
      "\n",
      "# shuffle and split training and test sets\n",
      "X_train, X_test, y_train, y_test = train_test_split(X, y, test_size=.5,\n",
      "                                                    random_state=0)\n",
      "\n",
      "# Learn to predict each class against the other\n",
      "classifier = OneVsRestClassifier(svm.SVC(kernel='linear', probability=True,\n",
      "                                 random_state=random_state))\n",
      "y_score = classifier.fit(X_train, y_train).decision_function(X_test)\n",
      "\n",
      "# Compute ROC curve and ROC area for each class\n",
      "fpr = dict()\n",
      "tpr = dict()\n",
      "roc_auc = dict()\n",
      "for i in range(n_classes):\n",
      "    fpr[i], tpr[i], _ = roc_curve(y_test[:, i], y_score[:, i])\n",
      "    roc_auc[i] = auc(fpr[i], tpr[i])\n",
      "\n",
      "# Compute micro-average ROC curve and ROC area\n",
      "fpr[\"micro\"], tpr[\"micro\"], _ = roc_curve(y_test.ravel(), y_score.ravel())\n",
      "roc_auc[\"micro\"] = auc(fpr[\"micro\"], tpr[\"micro\"])\n",
      "\n",
      "# Plot of a ROC curve for a specific class\n",
      "plt.figure()\n",
      "plt.plot(fpr[2], tpr[2], label='ROC curve (area = %0.2f)' % roc_auc[2])\n",
      "plt.plot([0, 1], [0, 1], 'k--')\n",
      "plt.xlim([0.0, 1.0])\n",
      "plt.ylim([0.0, 1.05])\n",
      "plt.xlabel('False Positive Rate')\n",
      "plt.ylabel('True Positive Rate')\n",
      "plt.title('Receiver operating characteristic example')\n",
      "plt.legend(loc=\"lower right\")\n",
      "plt.show()\n",
      "\n",
      "# Plot ROC curve\n",
      "plt.figure()\n",
      "plt.plot(fpr[\"micro\"], tpr[\"micro\"],\n",
      "         label='micro-average ROC curve (area = {0:0.2f})'\n",
      "               ''.format(roc_auc[\"micro\"]))\n",
      "for i in range(n_classes):\n",
      "    plt.plot(fpr[i], tpr[i], label='ROC curve of class {0} (area = {1:0.2f})'\n",
      "                                   ''.format(i, roc_auc[i]))\n",
      "\n",
      "plt.plot([0, 1], [0, 1], 'k--')\n",
      "plt.xlim([0.0, 1.0])\n",
      "plt.ylim([0.0, 1.05])\n",
      "plt.xlabel('False Positive Rate')\n",
      "plt.ylabel('True Positive Rate')\n",
      "plt.title('Some extension of Receiver operating characteristic to multi-class')\n",
      "plt.legend(loc=\"lower right\")\n",
      "plt.show()"
     ],
     "language": "python",
     "metadata": {},
     "outputs": [
      {
       "output_type": "stream",
       "stream": "stdout",
       "text": [
        "Automatically created module for IPython interactive environment\n"
       ]
      }
     ],
     "prompt_number": 4
    },
    {
     "cell_type": "markdown",
     "metadata": {},
     "source": [
      "### plot_roc_crossval.py"
     ]
    },
    {
     "cell_type": "code",
     "collapsed": false,
     "input": [
      "print(__doc__)\n",
      "\n",
      "import numpy as np\n",
      "from scipy import interp\n",
      "import matplotlib.pyplot as plt\n",
      "\n",
      "from sklearn import svm, datasets\n",
      "from sklearn.metrics import roc_curve, auc\n",
      "from sklearn.cross_validation import StratifiedKFold\n",
      "\n",
      "###############################################################################\n",
      "# Data IO and generation\n",
      "\n",
      "# import some data to play with\n",
      "iris = datasets.load_iris()\n",
      "X = iris.data\n",
      "y = iris.target\n",
      "X, y = X[y != 2], y[y != 2]\n",
      "n_samples, n_features = X.shape\n",
      "\n",
      "# Add noisy features\n",
      "random_state = np.random.RandomState(0)\n",
      "X = np.c_[X, random_state.randn(n_samples, 200 * n_features)]\n",
      "\n",
      "###############################################################################\n",
      "# Classification and ROC analysis\n",
      "\n",
      "# Run classifier with cross-validation and plot ROC curves\n",
      "cv = StratifiedKFold(y, n_folds=6)\n",
      "classifier = svm.SVC(kernel='linear', probability=True,\n",
      "                     random_state=random_state)\n",
      "\n",
      "mean_tpr = 0.0\n",
      "mean_fpr = np.linspace(0, 1, 100)\n",
      "all_tpr = []\n",
      "\n",
      "for i, (train, test) in enumerate(cv):\n",
      "    probas_ = classifier.fit(X[train], y[train]).predict_proba(X[test])\n",
      "    # Compute ROC curve and area the curve\n",
      "    fpr, tpr, thresholds = roc_curve(y[test], probas_[:, 1])\n",
      "    mean_tpr += interp(mean_fpr, fpr, tpr)\n",
      "    mean_tpr[0] = 0.0\n",
      "    roc_auc = auc(fpr, tpr)\n",
      "    plt.plot(fpr, tpr, lw=1, label='ROC fold %d (area = %0.2f)' % (i, roc_auc))\n",
      "\n",
      "plt.plot([0, 1], [0, 1], '--', color=(0.6, 0.6, 0.6), label='Luck')\n",
      "\n",
      "mean_tpr /= len(cv)\n",
      "mean_tpr[-1] = 1.0\n",
      "mean_auc = auc(mean_fpr, mean_tpr)\n",
      "plt.plot(mean_fpr, mean_tpr, 'k--',\n",
      "         label='Mean ROC (area = %0.2f)' % mean_auc, lw=2)\n",
      "\n",
      "plt.xlim([-0.05, 1.05])\n",
      "plt.ylim([-0.05, 1.05])\n",
      "plt.xlabel('False Positive Rate')\n",
      "plt.ylabel('True Positive Rate')\n",
      "plt.title('Receiver operating characteristic example')\n",
      "plt.legend(loc=\"lower right\")\n",
      "plt.show()"
     ],
     "language": "python",
     "metadata": {},
     "outputs": [
      {
       "output_type": "stream",
       "stream": "stdout",
       "text": [
        "Automatically created module for IPython interactive environment\n"
       ]
      }
     ],
     "prompt_number": 3
    },
    {
     "cell_type": "code",
     "collapsed": false,
     "input": [],
     "language": "python",
     "metadata": {},
     "outputs": []
    }
   ],
   "metadata": {}
  }
 ]
}