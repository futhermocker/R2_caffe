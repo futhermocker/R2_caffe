{
 "metadata": {
  "name": "",
  "signature": "sha256:753c99c62eaf64fa320b2a2cb8ef75ad599007a5ddf426d2f73c22d0b8d4dc43"
 },
 "nbformat": 3,
 "nbformat_minor": 0,
 "worksheets": [
  {
   "cells": [
    {
     "cell_type": "code",
     "collapsed": false,
     "input": [
      "import cv2\n",
      "import numpy as np\n",
      "import os"
     ],
     "language": "python",
     "metadata": {},
     "outputs": [],
     "prompt_number": 1
    },
    {
     "cell_type": "markdown",
     "metadata": {},
     "source": [
      "###\u8bfb\u53d6\u6307\u5b9a\u76ee\u5f55\u4e0b\u7684\u8d1f\u6837\u672c\u6587\u4ef6\uff08\u539f\u56fe\uff09\uff0c\u5e76\u5c06\u6587\u4ef6\u540d\u8f93\u51fa\u5230txt\u6587\u6863\u4e2d"
     ]
    },
    {
     "cell_type": "code",
     "collapsed": false,
     "input": [
      "import re\n",
      "\n",
      "pattern = re.compile(r'.*txt')\n",
      "def GetFileList(direct, fileList):\n",
      "    newdir = direct\n",
      "    if os.path.isfile(direct):\n",
      "#         fileList.append(direct.decode('gbk'))\n",
      "        fileList.append(direct)\n",
      "    elif os.path.isdir(direct):\n",
      "        for s in os.listdir(direct):\n",
      "            #\u5982\u679c\u9700\u8981\u5ffd\u7565\u67d0\u4e9b\u6587\u4ef6\u5939\uff0c\u4f7f\u7528\u4ee5\u4e0b\u4ee3\u7801\n",
      "            if s == \".DS_Store\" or s == \"Thumbs.db\" or s == 'pos_sub_url.txt':\n",
      "                continue\n",
      "            if pattern.match(s):\n",
      "                print s\n",
      "                continue\n",
      "            newdir = os.path.join(direct,s)\n",
      "            GetFileList(newdir, fileList)\n",
      "        return fileList"
     ],
     "language": "python",
     "metadata": {},
     "outputs": [],
     "prompt_number": 2
    },
    {
     "cell_type": "code",
     "collapsed": false,
     "input": [
      "posdir = '/Users/chickenchen/Data/R2_hand/test_20x20/'\n",
      "\n",
      "txt = GetFileList(posdir, [])\n",
      "output = open(posdir+'pos_sub_url.txt', 'w')\n",
      "for t in txt:\n",
      "    output.writelines(t+'\\n')\n",
      "output.close()"
     ],
     "language": "python",
     "metadata": {},
     "outputs": [
      {
       "output_type": "stream",
       "stream": "stdout",
       "text": [
        "lefttxt\n"
       ]
      }
     ],
     "prompt_number": 3
    },
    {
     "cell_type": "raw",
     "metadata": {},
     "source": [
      "### \u6d4b\u8bd5\u6a21\u5757\n",
      "import re\n",
      "\n",
      "# \u5c06\u6b63\u5219\u8868\u8fbe\u5f0f\u7f16\u8bd1\u6210Pattern\u5bf9\u8c61\n",
      "pattern = re.compile(r'.*txt')\n",
      "\n",
      "# \u4f7f\u7528python\u5339\u914d\u6587\u672c\uff0c\u83b7\u5f97\u5339\u914d\u7ed3\u679c\uff0c\u65e0\u6cd5\u5339\u914d\u65f6\u5219\u8fd4\u56deNone\n",
      "match = pattern.match('111.txt')\n",
      "print match\n",
      "\n",
      "if match:\n",
      "    # \u4f7f\u7528Match\u83b7\u5f97\u5206\u7ec4\u4fe1\u606f\n",
      "    print match.group()"
     ]
    },
    {
     "cell_type": "code",
     "collapsed": false,
     "input": [],
     "language": "python",
     "metadata": {},
     "outputs": []
    }
   ],
   "metadata": {}
  }
 ]
}