{
 "metadata": {
  "name": "",
  "signature": "sha256:66c3b7df6dd3f1b98cb47eead216e92d441853cc4515daa5e8dcc0c14854e3f7"
 },
 "nbformat": 3,
 "nbformat_minor": 0,
 "worksheets": [
  {
   "cells": [
    {
     "cell_type": "code",
     "collapsed": false,
     "input": [
      "import os\n",
      "import h5py\n",
      "import sklearn\n",
      "import cv2\n",
      "import pandas as pd\n",
      "import numpy as np\n",
      "import sklearn.datasets\n",
      "import sklearn.linear_model\n",
      "import matplotlib.pyplot as plt\n",
      "%matplotlib inline\n",
      "\n",
      "# Make sure that caffe is on the python path:\n",
      "caffe_root = '../'  # this file is expected to be in {caffe_root}/examples\n",
      "import sys\n",
      "sys.path.insert(0, caffe_root + 'python')\n",
      "\n",
      "import caffe, caffe.draw"
     ],
     "language": "python",
     "metadata": {},
     "outputs": [],
     "prompt_number": 1
    },
    {
     "cell_type": "markdown",
     "metadata": {},
     "source": [
      "###\u4ece\u6587\u6863\u5217\u8868\u4e2d\u5bfc\u5165\u8bad\u7ec3\u6570\u636e\uff0c\u5e76\u5206\u79bb\u51fa\u90e8\u5206\u6d4b\u8bd5\u6570\u636e"
     ]
    },
    {
     "cell_type": "code",
     "collapsed": false,
     "input": [
      "\n",
      "# \u5c06\u6b63\u6837\u672c\u6570\u636e\u5199\u5165hdf5\u6587\u4ef6\n",
      "img_url = open('./R2_hand_classification/R2_hand/img_url.txt')\n",
      "dirname = os.path.abspath('./R2_hand_classification/data')\n",
      "if not os.path.exists(dirname):\n",
      "    os.makedirs(dirname)\n",
      "train_filename = os.path.join(dirname, 'train_pos.h5')\n",
      "\n",
      "# \u5c06\u6b63\u6837\u672c\u6570\u636e\u5b58\u50a8\u4e3ahdf5\u683c\u5f0f\uff0c\u5e76\u5c06hdf5\u6587\u4ef6\u7684\u4f4d\u7f6e\u8f93\u51fa\u5230\u6587\u672c\u6587\u4ef6\n",
      "with h5py.File(train_filename, 'w') as f:\n",
      "    dset_data = f.create_dataset('data', (0,1, 24,16), maxshape=(None, 1, 24, 16))\n",
      "    dset_label = f.create_dataset('label', (0,), maxshape=(None,))\n",
      "    for i in img_url:\n",
      "        img = cv2.imread(i.strip('\\n'),0)\n",
      "        img = img/255.0\n",
      "        dset_data.resize( (dset_data.shape[0]+1, 1, 24, 16) )\n",
      "        dset_data[-1, : ,: ,: ] = img\n",
      "        dset_label.resize( (dset_label.shape[0]+1,) )\n",
      "        dset_label[-1] = 1.0\n",
      "    print dset_data.shape\n",
      "    print dset_label.shape\n",
      "with open(os.path.join(dirname, 'train.txt'), 'w') as f:\n",
      "    f.write(train_filename + '\\n')\n",
      "\n",
      "# \u5c06\u8d1f\u6837\u672c\u6570\u636e\u5bfc\u5165hdf5\u6587\u4ef6\n",
      "neg_url = []\n",
      "neg_sub0_url = open(os.path.join(basedir,'neg/sub0/neg_sub_url.txt'))\n",
      "neg_url.append(neg_sub0_url)\n",
      "neg_sub1_url = open(os.path.join(basedir,'neg/sub1/neg_sub_url.txt'))\n",
      "neg_url.append(neg_sub1_url)\n",
      "# neg_sub2_url = open(os.path.join(basedir,'neg/sub2/neg_sub_url.txt'))\n",
      "# neg_url.append(neg_sub2_url)\n",
      "# neg_sub3_url = open(os.path.join(basedir,'neg/sub3/neg_sub_url.txt'))\n",
      "# neg_url.append(neg_sub3_url)\n",
      "# neg_sub4_url = open(os.path.join(basedir,'neg/sub4/neg_sub_url.txt'))\n",
      "# neg_url.append(neg_sub4_url)\n",
      "# neg_sub5_url = open(os.path.join(basedir,'neg/sub5/neg_sub_url.txt'))\n",
      "# neg_url.append(neg_sub5_url)\n",
      "# neg_sub6_url = open(os.path.join(basedir,'neg/sub6/neg_sub_url.txt'))\n",
      "# neg_url.append(neg_sub6_url)\n",
      "# neg_sub7_url = open(os.path.join(basedir,'neg/sub7/neg_sub_url.txt'))\n",
      "# neg_url.append(neg_sub7_url)\n",
      "# neg_sub8_url = open(os.path.join(basedir,'neg/sub8/neg_sub_url.txt'))\n",
      "# neg_url.append(neg_sub8_url)\n",
      "# neg_sub9_url = open(os.path.join(basedir,'neg/sub9/neg_sub_url.txt'))\n",
      "# neg_url.append(neg_sub9_url)\n",
      "# neg_sub10_url = open(os.path.join(basedir,'neg/sub10/neg_sub_url.txt'))\n",
      "# neg_url.append(neg_sub10_url)\n",
      "# neg_sub11_url = open(os.path.join(basedir,'neg/sub11/neg_sub_url.txt'))\n",
      "# neg_url.append(neg_sub11_url)\n",
      "# neg_sub12_url = open(os.path.join(basedir,'neg/sub12/neg_sub_url.txt'))\n",
      "# neg_url.append(neg_sub12_url)\n",
      "# neg_sub13_url = open(os.path.join(basedir,'neg/sub13/neg_sub_url.txt'))\n",
      "# neg_url.append(neg_sub13_url)\n",
      "# neg_sub14_url = open(os.path.join(basedir,'neg/sub14/neg_sub_url.txt'))\n",
      "# neg_url.append(neg_sub14_url)\n",
      "# neg_sub15_url = open(os.path.join(basedir,'neg/sub15/neg_sub_url.txt'))\n",
      "# neg_url.append(neg_sub15_url)\n",
      "# neg_sub16_url = open(os.path.join(basedir,'neg/sub16/neg_sub_url.txt'))\n",
      "# neg_url.append(neg_sub16_url)\n",
      "\n",
      "dirname = os.path.abspath('./R2_hand_classification/data')\n",
      "if not os.path.exists(dirname):\n",
      "    os.makedirs(dirname)\n",
      "train_filename = os.path.join(dirname, 'train_neg.h5')\n",
      "\n",
      "# \u5c06\u8d1f\u6837\u672c\u6570\u636e\u5b58\u50a8\u4e3ahdf5\u683c\u5f0f\uff0c\u5e76\u5c06hdf5\u6587\u4ef6\u7684\u4f4d\u7f6e\u8f93\u51fa\u5230\u6587\u672c\u6587\u4ef6\n",
      "with h5py.File(train_filename, 'w') as f:\n",
      "    dset_data = f.create_dataset('data', (0,1, 24,16), maxshape=(None, 1, 24, 16))\n",
      "    dset_label = f.create_dataset('label', (0,), maxshape=(None,))\n",
      "    for url in neg_url:\n",
      "        for i in url:\n",
      "            img = cv2.imread(i.strip('\\n'),0)\n",
      "            img = img/255.0\n",
      "            dset_data.resize( (dset_data.shape[0]+1, 1, 24, 16) )\n",
      "            dset_data[-1, :,:] = img\n",
      "            dset_label.resize( (dset_label.shape[0]+1,) )\n",
      "            dset_label[-1] = 0.0\n",
      "    print dset_data.shape\n",
      "    print dset_label.shape\n",
      "with open(os.path.join(dirname, 'train.txt'), 'a') as f:\n",
      "    f.write(train_filename + '\\n')\n"
     ],
     "language": "python",
     "metadata": {},
     "outputs": [
      {
       "output_type": "stream",
       "stream": "stdout",
       "text": [
        "(3617, 1, 24, 16)\n",
        "(3617,)\n"
       ]
      },
      {
       "ename": "NameError",
       "evalue": "name 'basedir' is not defined",
       "output_type": "pyerr",
       "traceback": [
        "\u001b[0;31m---------------------------------------------------------------------------\u001b[0m\n\u001b[0;31mNameError\u001b[0m                                 Traceback (most recent call last)",
        "\u001b[0;32m<ipython-input-7-959dbfc941f1>\u001b[0m in \u001b[0;36m<module>\u001b[0;34m()\u001b[0m\n\u001b[1;32m     25\u001b[0m \u001b[0;31m# \u5c06\u8d1f\u6837\u672c\u6570\u636e\u5bfc\u5165hdf5\u6587\u4ef6\u001b[0m\u001b[0;34m\u001b[0m\u001b[0;34m\u001b[0m\u001b[0m\n\u001b[1;32m     26\u001b[0m \u001b[0mneg_url\u001b[0m \u001b[0;34m=\u001b[0m \u001b[0;34m[\u001b[0m\u001b[0;34m]\u001b[0m\u001b[0;34m\u001b[0m\u001b[0m\n\u001b[0;32m---> 27\u001b[0;31m \u001b[0mneg_sub0_url\u001b[0m \u001b[0;34m=\u001b[0m \u001b[0mopen\u001b[0m\u001b[0;34m(\u001b[0m\u001b[0mos\u001b[0m\u001b[0;34m.\u001b[0m\u001b[0mpath\u001b[0m\u001b[0;34m.\u001b[0m\u001b[0mjoin\u001b[0m\u001b[0;34m(\u001b[0m\u001b[0mbasedir\u001b[0m\u001b[0;34m,\u001b[0m\u001b[0;34m'neg/sub0/neg_sub_url.txt'\u001b[0m\u001b[0;34m)\u001b[0m\u001b[0;34m)\u001b[0m\u001b[0;34m\u001b[0m\u001b[0m\n\u001b[0m\u001b[1;32m     28\u001b[0m \u001b[0mneg_url\u001b[0m\u001b[0;34m.\u001b[0m\u001b[0mappend\u001b[0m\u001b[0;34m(\u001b[0m\u001b[0mneg_sub0_url\u001b[0m\u001b[0;34m)\u001b[0m\u001b[0;34m\u001b[0m\u001b[0m\n\u001b[1;32m     29\u001b[0m \u001b[0mneg_sub1_url\u001b[0m \u001b[0;34m=\u001b[0m \u001b[0mopen\u001b[0m\u001b[0;34m(\u001b[0m\u001b[0mos\u001b[0m\u001b[0;34m.\u001b[0m\u001b[0mpath\u001b[0m\u001b[0;34m.\u001b[0m\u001b[0mjoin\u001b[0m\u001b[0;34m(\u001b[0m\u001b[0mbasedir\u001b[0m\u001b[0;34m,\u001b[0m\u001b[0;34m'neg/sub1/neg_sub_url.txt'\u001b[0m\u001b[0;34m)\u001b[0m\u001b[0;34m)\u001b[0m\u001b[0;34m\u001b[0m\u001b[0m\n",
        "\u001b[0;31mNameError\u001b[0m: name 'basedir' is not defined"
       ]
      }
     ],
     "prompt_number": 7
    },
    {
     "cell_type": "code",
     "collapsed": false,
     "input": [
      "!cd .. && python ./python/draw_net.py examples/R2_hand_classification/R2_hand_train.prototxt examples/R2_hand_classification/R2_hand.png"
     ],
     "language": "python",
     "metadata": {},
     "outputs": [
      {
       "output_type": "stream",
       "stream": "stdout",
       "text": [
        "Drawing net to examples/R2_hand_classification/R2_hand.png\r\n"
       ]
      }
     ],
     "prompt_number": 55
    },
    {
     "cell_type": "code",
     "collapsed": false,
     "input": [
      "!cd .. && ./build/tools/caffe train -solver examples/R2_hand_classification/R2_hand_solver.prototxt"
     ],
     "language": "python",
     "metadata": {},
     "outputs": [
      {
       "output_type": "stream",
       "stream": "stdout",
       "text": [
        "I0302 16:40:15.747341 2061132544 caffe.cpp:103] Use CPU.\r\n",
        "I0302 16:40:15.748400 2061132544 caffe.cpp:107] Starting Optimization\r\n",
        "I0302 16:40:15.748412 2061132544 solver.cpp:32] Initializing solver from parameters: \r\n",
        "test_iter: 100\r\n",
        "test_interval: 500\r\n",
        "base_lr: 0.01\r\n",
        "display: 100\r\n",
        "max_iter: 10000\r\n",
        "lr_policy: \"inv\"\r\n",
        "gamma: 0.0001\r\n",
        "power: 0.75\r\n",
        "momentum: 0.9\r\n",
        "weight_decay: 0.0005\r\n",
        "snapshot: 5000\r\n",
        "snapshot_prefix: \"examples/R2_hand_classification/data/train\"\r\n",
        "solver_mode: CPU\r\n",
        "net: \"examples/R2_hand_classification/R2_hand_train.prototxt\"\r\n",
        "I0302 16:40:15.748544 2061132544 solver.cpp:67] Creating training net from net file: examples/R2_hand_classification/R2_hand_train.prototxt\r\n",
        "I0302 16:40:15.749300 2061132544 net.cpp:39] Initializing net from parameters: \r\n",
        "name: \"R2hand\"\r\n",
        "layers {\r\n",
        "  top: \"data\"\r\n",
        "  top: \"label\"\r\n",
        "  name: \"data\"\r\n",
        "  type: HDF5_DATA\r\n",
        "  hdf5_data_param {\r\n",
        "    source: \"examples/R2_hand_classification/data/train.txt\"\r\n",
        "    batch_size: 10000\r\n",
        "  }\r\n",
        "}\r\n",
        "layers {\r\n",
        "  bottom: \"data\"\r\n",
        "  top: \"conv1\"\r\n",
        "  name: \"conv1\"\r\n",
        "  type: CONVOLUTION\r\n",
        "  blobs_lr: 1\r\n",
        "  blobs_lr: 2\r\n",
        "  convolution_param {\r\n",
        "    num_output: 20\r\n",
        "    kernel_size: 5\r\n",
        "    stride: 1\r\n",
        "    weight_filler {\r\n",
        "      type: \"xavier\"\r\n",
        "    }\r\n",
        "    bias_filler {\r\n",
        "      type: \"constant\"\r\n",
        "    }\r\n",
        "  }\r\n",
        "}\r\n",
        "layers {\r\n",
        "  bottom: \"conv1\"\r\n",
        "  top: \"pool1\"\r\n",
        "  name: \"pool1\"\r\n",
        "  type: POOLING\r\n",
        "  pooling_param {\r\n",
        "    pool: MAX\r\n",
        "    kernel_size: 2\r\n",
        "    stride: 2\r\n",
        "  }\r\n",
        "}\r\n",
        "layers {\r\n",
        "  bottom: \"pool1\"\r\n",
        "  top: \"ip1\"\r\n",
        "  name: \"ip1\"\r\n",
        "  type: INNER_PRODUCT\r\n",
        "  blobs_lr: 1\r\n",
        "  blobs_lr: 2\r\n",
        "  inner_product_param {\r\n",
        "    num_output: 100\r\n",
        "    weight_filler {\r\n",
        "      type: \"xavier\"\r\n",
        "    }\r\n",
        "    bias_filler {\r\n",
        "      type: \"constant\"\r\n",
        "    }\r\n",
        "  }\r\n",
        "}\r\n",
        "layers {\r\n",
        "  bottom: \"ip1\"\r\n",
        "  top: \"ip1\"\r\n",
        "  name: \"relu1\"\r\n",
        "  type: RELU\r\n",
        "}\r\n",
        "layers {\r\n",
        "  bottom: \"ip1\"\r\n",
        "  top: \"ip2\"\r\n",
        "  name: \"ip2\"\r\n",
        "  type: INNER_PRODUCT\r\n",
        "  blobs_lr: 1\r\n",
        "  blobs_lr: 2\r\n",
        "  inner_product_param {\r\n",
        "    num_output: 2\r\n",
        "    weight_filler {\r\n",
        "      type: \"xavier\"\r\n",
        "    }\r\n",
        "    bias_filler {\r\n",
        "      type: \"constant\"\r\n",
        "    }\r\n",
        "  }\r\n",
        "}\r\n",
        "layers {\r\n",
        "  bottom: \"ip2\"\r\n",
        "  bottom: \"label\"\r\n",
        "  top: \"loss\"\r\n",
        "  name: \"loss\"\r\n",
        "  type: SOFTMAX_LOSS\r\n",
        "}\r\n",
        "state {\r\n",
        "  phase: TRAIN\r\n",
        "}\r\n",
        "I0302 16:40:15.749577 2061132544 layer_factory.hpp:78] Creating layer data\r\n",
        "I0302 16:40:15.749596 2061132544 net.cpp:67] Creating Layer data\r\n",
        "I0302 16:40:15.749605 2061132544 net.cpp:356] data -> data\r\n",
        "I0302 16:40:15.749622 2061132544 net.cpp:356] data -> label\r\n",
        "I0302 16:40:15.749634 2061132544 net.cpp:96] Setting up data\r\n",
        "I0302 16:40:15.749642 2061132544 hdf5_data_layer.cpp:63] Loading list of HDF5 filenames from: examples/R2_hand_classification/data/train.txt\r\n",
        "I0302 16:40:15.749688 2061132544 hdf5_data_layer.cpp:77] Number of HDF5 files: 2\r\n"
       ]
      },
      {
       "output_type": "stream",
       "stream": "stdout",
       "text": [
        "I0302 16:40:15.873507 2061132544 net.cpp:103] Top shape: 10000 1 24 16 (3840000)\r\n",
        "I0302 16:40:15.873538 2061132544 net.cpp:103] Top shape: 10000 1 1 1 (10000)\r\n",
        "I0302 16:40:15.873545 2061132544 layer_factory.hpp:78] Creating layer conv1\r\n",
        "I0302 16:40:15.873561 2061132544 net.cpp:67] Creating Layer conv1\r\n",
        "I0302 16:40:15.873567 2061132544 net.cpp:394] conv1 <- data\r\n",
        "I0302 16:40:15.873579 2061132544 net.cpp:356] conv1 -> conv1\r\n",
        "I0302 16:40:15.873590 2061132544 net.cpp:96] Setting up conv1\r\n"
       ]
      },
      {
       "output_type": "stream",
       "stream": "stdout",
       "text": [
        "I0302 16:40:15.879001 2061132544 net.cpp:103] Top shape: 10000 20 20 12 (48000000)\r\n",
        "I0302 16:40:15.879060 2061132544 layer_factory.hpp:78] Creating layer pool1\r\n",
        "I0302 16:40:15.879104 2061132544 net.cpp:67] Creating Layer pool1\r\n",
        "I0302 16:40:15.879117 2061132544 net.cpp:394] pool1 <- conv1\r\n",
        "I0302 16:40:15.879128 2061132544 net.cpp:356] pool1 -> pool1\r\n",
        "I0302 16:40:15.879137 2061132544 net.cpp:96] Setting up pool1\r\n",
        "I0302 16:40:15.879158 2061132544 net.cpp:103] Top shape: 10000 20 10 6 (12000000)\r\n",
        "I0302 16:40:15.879163 2061132544 layer_factory.hpp:78] Creating layer ip1\r\n",
        "I0302 16:40:15.879174 2061132544 net.cpp:67] Creating Layer ip1\r\n",
        "I0302 16:40:15.879179 2061132544 net.cpp:394] ip1 <- pool1\r\n",
        "I0302 16:40:15.879186 2061132544 net.cpp:356] ip1 -> ip1\r\n",
        "I0302 16:40:15.879196 2061132544 net.cpp:96] Setting up ip1\r\n",
        "I0302 16:40:15.880205 2061132544 net.cpp:103] Top shape: 10000 100 1 1 (1000000)\r\n",
        "I0302 16:40:15.880237 2061132544 layer_factory.hpp:78] Creating layer relu1\r\n",
        "I0302 16:40:15.880288 2061132544 net.cpp:67] Creating Layer relu1\r\n",
        "I0302 16:40:15.880298 2061132544 net.cpp:394] relu1 <- ip1\r\n",
        "I0302 16:40:15.880357 2061132544 net.cpp:345] relu1 -> ip1 (in-place)\r\n",
        "I0302 16:40:15.880367 2061132544 net.cpp:96] Setting up relu1\r\n",
        "I0302 16:40:15.880373 2061132544 net.cpp:103] Top shape: 10000 100 1 1 (1000000)\r\n",
        "I0302 16:40:15.880378 2061132544 layer_factory.hpp:78] Creating layer ip2\r\n",
        "I0302 16:40:15.880385 2061132544 net.cpp:67] Creating Layer ip2\r\n",
        "I0302 16:40:15.880390 2061132544 net.cpp:394] ip2 <- ip1\r\n",
        "I0302 16:40:15.880398 2061132544 net.cpp:356] ip2 -> ip2\r\n",
        "I0302 16:40:15.880408 2061132544 net.cpp:96] Setting up ip2\r\n",
        "I0302 16:40:15.880434 2061132544 net.cpp:103] Top shape: 10000 2 1 1 (20000)\r\n",
        "I0302 16:40:15.880445 2061132544 layer_factory.hpp:78] Creating layer loss\r\n",
        "I0302 16:40:15.880460 2061132544 net.cpp:67] Creating Layer loss\r\n",
        "I0302 16:40:15.880465 2061132544 net.cpp:394] loss <- ip2\r\n",
        "I0302 16:40:15.880470 2061132544 net.cpp:394] loss <- label\r\n",
        "I0302 16:40:15.880491 2061132544 net.cpp:356] loss -> loss\r\n",
        "I0302 16:40:15.880499 2061132544 net.cpp:96] Setting up loss\r\n",
        "I0302 16:40:15.880518 2061132544 net.cpp:103] Top shape: 1 1 1 1 (1)\r\n",
        "I0302 16:40:15.880523 2061132544 net.cpp:109]     with loss weight 1\r\n",
        "I0302 16:40:15.880545 2061132544 net.cpp:170] loss needs backward computation.\r\n",
        "I0302 16:40:15.880550 2061132544 net.cpp:170] ip2 needs backward computation.\r\n",
        "I0302 16:40:15.880555 2061132544 net.cpp:170] relu1 needs backward computation.\r\n",
        "I0302 16:40:15.880560 2061132544 net.cpp:170] ip1 needs backward computation.\r\n",
        "I0302 16:40:15.880565 2061132544 net.cpp:170] pool1 needs backward computation.\r\n",
        "I0302 16:40:15.880569 2061132544 net.cpp:170] conv1 needs backward computation.\r\n",
        "I0302 16:40:15.880574 2061132544 net.cpp:172] data does not need backward computation.\r\n",
        "I0302 16:40:15.880579 2061132544 net.cpp:208] This network produces output loss\r\n",
        "I0302 16:40:15.880589 2061132544 net.cpp:467] Collecting Learning Rate and Weight Decay.\r\n",
        "I0302 16:40:15.880666 2061132544 net.cpp:219] Network initialization done.\r\n",
        "I0302 16:40:15.880674 2061132544 net.cpp:220] Memory required for data: 263480004\r\n",
        "I0302 16:40:15.881033 2061132544 solver.cpp:151] Creating test net (#0) specified by net file: examples/R2_hand_classification/R2_hand_train.prototxt\r\n",
        "I0302 16:40:15.881062 2061132544 net.cpp:39] Initializing net from parameters: \r\n",
        "name: \"R2hand\"\r\n",
        "layers {\r\n",
        "  top: \"data\"\r\n",
        "  top: \"label\"\r\n",
        "  name: \"data\"\r\n",
        "  type: HDF5_DATA\r\n",
        "  hdf5_data_param {\r\n",
        "    source: \"examples/R2_hand_classification/data/train.txt\"\r\n",
        "    batch_size: 10000\r\n",
        "  }\r\n",
        "}\r\n",
        "layers {\r\n",
        "  bottom: \"data\"\r\n",
        "  top: \"conv1\"\r\n",
        "  name: \"conv1\"\r\n",
        "  type: CONVOLUTION\r\n",
        "  blobs_lr: 1\r\n",
        "  blobs_lr: 2\r\n",
        "  convolution_param {\r\n",
        "    num_output: 20\r\n",
        "    kernel_size: 5\r\n",
        "    stride: 1\r\n",
        "    weight_filler {\r\n",
        "      type: \"xavier\"\r\n",
        "    }\r\n",
        "    bias_filler {\r\n",
        "      type: \"constant\"\r\n",
        "    }\r\n",
        "  }\r\n",
        "}\r\n",
        "layers {\r\n",
        "  bottom: \"conv1\"\r\n",
        "  top: \"pool1\"\r\n",
        "  name: \"pool1\"\r\n",
        "  type: POOLING\r\n",
        "  pooling_param {\r\n",
        "    pool: MAX\r\n",
        "    kernel_size: 2\r\n",
        "    stride: 2\r\n",
        "  }\r\n",
        "}\r\n",
        "layers {\r\n",
        "  bottom: \"pool1\"\r\n",
        "  top: \"ip1\"\r\n",
        "  name: \"ip1\"\r\n",
        "  type: INNER_PRODUCT\r\n",
        "  blobs_lr: 1\r\n",
        "  blobs_lr: 2\r\n",
        "  inner_product_param {\r\n",
        "    num_output: 100\r\n",
        "    weight_filler {\r\n",
        "      type: \"xavier\"\r\n",
        "    }\r\n",
        "    bias_filler {\r\n",
        "      type: \"constant\"\r\n",
        "    }\r\n",
        "  }\r\n",
        "}\r\n",
        "layers {\r\n",
        "  bottom: \"ip1\"\r\n",
        "  top: \"ip1\"\r\n",
        "  name: \"relu1\"\r\n",
        "  type: RELU\r\n",
        "}\r\n",
        "layers {\r\n",
        "  bottom: \"ip1\"\r\n",
        "  top: \"ip2\"\r\n",
        "  name: \"ip2\"\r\n",
        "  type: INNER_PRODUCT\r\n",
        "  blobs_lr: 1\r\n",
        "  blobs_lr: 2\r\n",
        "  inner_product_param {\r\n",
        "    num_output: 2\r\n",
        "    weight_filler {\r\n",
        "      type: \"xavier\"\r\n",
        "    }\r\n",
        "    bias_filler {\r\n",
        "      type: \"constant\"\r\n",
        "    }\r\n",
        "  }\r\n",
        "}\r\n",
        "layers {\r\n",
        "  bottom: \"ip2\"\r\n",
        "  bottom: \"label\"\r\n",
        "  top: \"loss\"\r\n",
        "  name: \"loss\"\r\n",
        "  type: SOFTMAX_LOSS\r\n",
        "}\r\n",
        "state {\r\n",
        "  phase: TEST\r\n",
        "}\r\n",
        "I0302 16:40:15.881302 2061132544 layer_factory.hpp:78] Creating layer data\r\n",
        "I0302 16:40:15.881312 2061132544 net.cpp:67] Creating Layer data\r\n",
        "I0302 16:40:15.881319 2061132544 net.cpp:356] data -> data\r\n",
        "I0302 16:40:15.881328 2061132544 net.cpp:356] data -> label\r\n",
        "I0302 16:40:15.881335 2061132544 net.cpp:96] Setting up data\r\n",
        "I0302 16:40:15.881341 2061132544 hdf5_data_layer.cpp:63] Loading list of HDF5 filenames from: examples/R2_hand_classification/data/train.txt\r\n",
        "I0302 16:40:15.881371 2061132544 hdf5_data_layer.cpp:77] Number of HDF5 files: 2\r\n"
       ]
      },
      {
       "output_type": "stream",
       "stream": "stdout",
       "text": [
        "I0302 16:40:15.998111 2061132544 net.cpp:103] Top shape: 10000 1 24 16 (3840000)\r\n",
        "I0302 16:40:15.998169 2061132544 net.cpp:103] Top shape: 10000 1 1 1 (10000)\r\n",
        "I0302 16:40:15.998178 2061132544 layer_factory.hpp:78] Creating layer conv1\r\n",
        "I0302 16:40:15.998193 2061132544 net.cpp:67] Creating Layer conv1\r\n",
        "I0302 16:40:15.998198 2061132544 net.cpp:394] conv1 <- data\r\n",
        "I0302 16:40:15.998208 2061132544 net.cpp:356] conv1 -> conv1\r\n",
        "I0302 16:40:15.998219 2061132544 net.cpp:96] Setting up conv1\r\n",
        "I0302 16:40:15.998240 2061132544 net.cpp:103] Top shape: 10000 20 20 12 (48000000)\r\n",
        "I0302 16:40:15.998251 2061132544 layer_factory.hpp:78] Creating layer pool1\r\n",
        "I0302 16:40:15.998260 2061132544 net.cpp:67] Creating Layer pool1\r\n",
        "I0302 16:40:15.998265 2061132544 net.cpp:394] pool1 <- conv1\r\n",
        "I0302 16:40:15.998271 2061132544 net.cpp:356] pool1 -> pool1\r\n",
        "I0302 16:40:15.998280 2061132544 net.cpp:96] Setting up pool1\r\n",
        "I0302 16:40:15.998286 2061132544 net.cpp:103] Top shape: 10000 20 10 6 (12000000)\r\n",
        "I0302 16:40:15.998291 2061132544 layer_factory.hpp:78] Creating layer ip1\r\n",
        "I0302 16:40:15.998299 2061132544 net.cpp:67] Creating Layer ip1\r\n",
        "I0302 16:40:15.998303 2061132544 net.cpp:394] ip1 <- pool1\r\n",
        "I0302 16:40:15.998311 2061132544 net.cpp:356] ip1 -> ip1\r\n",
        "I0302 16:40:15.998318 2061132544 net.cpp:96] Setting up ip1\r\n",
        "I0302 16:40:15.999249 2061132544 net.cpp:103] Top shape: 10000 100 1 1 (1000000)\r\n",
        "I0302 16:40:15.999261 2061132544 layer_factory.hpp:78] Creating layer relu1\r\n",
        "I0302 16:40:15.999269 2061132544 net.cpp:67] Creating Layer relu1\r\n",
        "I0302 16:40:15.999274 2061132544 net.cpp:394] relu1 <- ip1\r\n",
        "I0302 16:40:15.999280 2061132544 net.cpp:345] relu1 -> ip1 (in-place)\r\n",
        "I0302 16:40:15.999286 2061132544 net.cpp:96] Setting up relu1\r\n",
        "I0302 16:40:15.999291 2061132544 net.cpp:103] Top shape: 10000 100 1 1 (1000000)\r\n",
        "I0302 16:40:15.999296 2061132544 layer_factory.hpp:78] Creating layer ip2\r\n",
        "I0302 16:40:15.999303 2061132544 net.cpp:67] Creating Layer ip2\r\n",
        "I0302 16:40:15.999307 2061132544 net.cpp:394] ip2 <- ip1\r\n",
        "I0302 16:40:15.999315 2061132544 net.cpp:356] ip2 -> ip2\r\n",
        "I0302 16:40:15.999322 2061132544 net.cpp:96] Setting up ip2\r\n",
        "I0302 16:40:15.999337 2061132544 net.cpp:103] Top shape: 10000 2 1 1 (20000)\r\n",
        "I0302 16:40:15.999346 2061132544 layer_factory.hpp:78] Creating layer loss\r\n",
        "I0302 16:40:15.999353 2061132544 net.cpp:67] Creating Layer loss\r\n",
        "I0302 16:40:15.999358 2061132544 net.cpp:394] loss <- ip2\r\n",
        "I0302 16:40:15.999363 2061132544 net.cpp:394] loss <- label\r\n",
        "I0302 16:40:15.999369 2061132544 net.cpp:356] loss -> loss\r\n",
        "I0302 16:40:15.999377 2061132544 net.cpp:96] Setting up loss\r\n",
        "I0302 16:40:15.999384 2061132544 net.cpp:103] Top shape: 1 1 1 1 (1)\r\n",
        "I0302 16:40:15.999389 2061132544 net.cpp:109]     with loss weight 1\r\n",
        "I0302 16:40:15.999402 2061132544 net.cpp:170] loss needs backward computation.\r\n",
        "I0302 16:40:15.999407 2061132544 net.cpp:170] ip2 needs backward computation.\r\n",
        "I0302 16:40:15.999411 2061132544 net.cpp:170] relu1 needs backward computation.\r\n",
        "I0302 16:40:15.999480 2061132544 net.cpp:170] ip1 needs backward computation.\r\n",
        "I0302 16:40:15.999491 2061132544 net.cpp:170] pool1 needs backward computation.\r\n",
        "I0302 16:40:15.999498 2061132544 net.cpp:170] conv1 needs backward computation.\r\n",
        "I0302 16:40:15.999505 2061132544 net.cpp:172] data does not need backward computation.\r\n",
        "I0302 16:40:15.999508 2061132544 net.cpp:208] This network produces output loss\r\n",
        "I0302 16:40:15.999517 2061132544 net.cpp:467] Collecting Learning Rate and Weight Decay.\r\n",
        "I0302 16:40:15.999526 2061132544 net.cpp:219] Network initialization done.\r\n",
        "I0302 16:40:15.999529 2061132544 net.cpp:220] Memory required for data: 263480004\r\n",
        "I0302 16:40:15.999583 2061132544 solver.cpp:41] Solver scaffolding done.\r\n",
        "I0302 16:40:15.999606 2061132544 solver.cpp:160] Solving R2hand\r\n",
        "I0302 16:40:15.999655 2061132544 solver.cpp:263] Iteration 0, Testing net (#0)\r\n"
       ]
      },
      {
       "output_type": "stream",
       "stream": "stdout",
       "text": [
        "I0302 16:41:37.636292 2061132544 solver.cpp:314]     Test net output #0: loss = 0.69144 (* 1 = 0.69144 loss)\r\n"
       ]
      },
      {
       "output_type": "stream",
       "stream": "stdout",
       "text": [
        "I0302 16:41:39.022704 2061132544 solver.cpp:207] Iteration 0, loss = 0.691091\r\n",
        "I0302 16:41:39.022768 2061132544 solver.cpp:222]     Train net output #0: loss = 0.691091 (* 1 = 0.691091 loss)\r\n",
        "I0302 16:41:39.022783 2061132544 solver.cpp:419] Iteration 0, lr = 0.01\r\n"
       ]
      },
      {
       "output_type": "stream",
       "stream": "stdout",
       "text": [
        "I0302 16:43:35.440691 2061132544 solver.cpp:207] Iteration 100, loss = 0.0905546\r\n",
        "I0302 16:43:35.440775 2061132544 solver.cpp:222]     Train net output #0: loss = 0.0905544 (* 1 = 0.0905544 loss)\r\n",
        "I0302 16:43:35.440789 2061132544 solver.cpp:419] Iteration 100, lr = 0.00992565\r\n"
       ]
      },
      {
       "output_type": "stream",
       "stream": "stdout",
       "text": [
        "I0302 16:45:31.817895 2061132544 solver.cpp:207] Iteration 200, loss = 0.727461\r\n",
        "I0302 16:45:31.817955 2061132544 solver.cpp:222]     Train net output #0: loss = 0.727461 (* 1 = 0.727461 loss)\r\n",
        "I0302 16:45:31.817965 2061132544 solver.cpp:419] Iteration 200, lr = 0.00985258\r\n"
       ]
      },
      {
       "output_type": "stream",
       "stream": "stdout",
       "text": [
        "I0302 16:47:29.740150 2061132544 solver.cpp:207] Iteration 300, loss = 0.0529637\r\n",
        "I0302 16:47:29.740208 2061132544 solver.cpp:222]     Train net output #0: loss = 0.0529634 (* 1 = 0.0529634 loss)\r\n",
        "I0302 16:47:29.740218 2061132544 solver.cpp:419] Iteration 300, lr = 0.00978075\r\n"
       ]
      },
      {
       "output_type": "stream",
       "stream": "stdout",
       "text": [
        "I0302 16:49:26.668081 2061132544 solver.cpp:207] Iteration 400, loss = 0.0266786\r\n",
        "I0302 16:49:26.668149 2061132544 solver.cpp:222]     Train net output #0: loss = 0.0266781 (* 1 = 0.0266781 loss)\r\n",
        "I0302 16:49:26.668160 2061132544 solver.cpp:419] Iteration 400, lr = 0.00971013\r\n"
       ]
      },
      {
       "output_type": "stream",
       "stream": "stdout",
       "text": [
        "I0302 16:51:29.304446 2061132544 solver.cpp:263] Iteration 500, Testing net (#0)\r\n"
       ]
      },
      {
       "output_type": "stream",
       "stream": "stdout",
       "text": [
        "I0302 16:52:50.109459 2061132544 solver.cpp:314]     Test net output #0: loss = 0.0945118 (* 1 = 0.0945118 loss)\r\n"
       ]
      },
      {
       "output_type": "stream",
       "stream": "stdout",
       "text": [
        "I0302 16:52:51.294486 2061132544 solver.cpp:207] Iteration 500, loss = 0.0401772\r\n",
        "I0302 16:52:51.294528 2061132544 solver.cpp:222]     Train net output #0: loss = 0.0401766 (* 1 = 0.0401766 loss)\r\n",
        "I0302 16:52:51.294538 2061132544 solver.cpp:419] Iteration 500, lr = 0.00964069\r\n"
       ]
      },
      {
       "output_type": "stream",
       "stream": "stdout",
       "text": [
        "I0302 16:54:50.442491 2061132544 solver.cpp:207] Iteration 600, loss = 0.0440975\r\n",
        "I0302 16:54:50.442586 2061132544 solver.cpp:222]     Train net output #0: loss = 0.044097 (* 1 = 0.044097 loss)\r\n",
        "I0302 16:54:50.442598 2061132544 solver.cpp:419] Iteration 600, lr = 0.0095724\r\n"
       ]
      },
      {
       "output_type": "stream",
       "stream": "stdout",
       "text": [
        "I0302 16:56:47.286155 2061132544 solver.cpp:207] Iteration 700, loss = 0.249908\r\n",
        "I0302 16:56:47.286221 2061132544 solver.cpp:222]     Train net output #0: loss = 0.249908 (* 1 = 0.249908 loss)\r\n",
        "I0302 16:56:47.286231 2061132544 solver.cpp:419] Iteration 700, lr = 0.00950522\r\n"
       ]
      },
      {
       "output_type": "stream",
       "stream": "stdout",
       "text": [
        "I0302 16:58:52.677886 2061132544 solver.cpp:207] Iteration 800, loss = 0.035245\r\n",
        "I0302 16:58:52.677953 2061132544 solver.cpp:222]     Train net output #0: loss = 0.0352447 (* 1 = 0.0352447 loss)\r\n",
        "I0302 16:58:52.677963 2061132544 solver.cpp:419] Iteration 800, lr = 0.00943913\r\n"
       ]
      },
      {
       "output_type": "stream",
       "stream": "stdout",
       "text": [
        "I0302 17:00:50.568716 2061132544 solver.cpp:207] Iteration 900, loss = 0.0224328\r\n",
        "I0302 17:00:50.568773 2061132544 solver.cpp:222]     Train net output #0: loss = 0.0224324 (* 1 = 0.0224324 loss)\r\n",
        "I0302 17:00:50.568784 2061132544 solver.cpp:419] Iteration 900, lr = 0.00937411\r\n"
       ]
      },
      {
       "output_type": "stream",
       "stream": "stdout",
       "text": [
        "I0302 17:02:45.930212 2061132544 solver.cpp:263] Iteration 1000, Testing net (#0)\r\n"
       ]
      },
      {
       "output_type": "stream",
       "stream": "stdout",
       "text": [
        "I0302 17:04:03.552382 2061132544 solver.cpp:314]     Test net output #0: loss = 0.0561541 (* 1 = 0.0561541 loss)\r\n"
       ]
      },
      {
       "output_type": "stream",
       "stream": "stdout",
       "text": [
        "I0302 17:04:04.680754 2061132544 solver.cpp:207] Iteration 1000, loss = 0.02136\r\n",
        "I0302 17:04:04.680807 2061132544 solver.cpp:222]     Train net output #0: loss = 0.0213597 (* 1 = 0.0213597 loss)\r\n",
        "I0302 17:04:04.680819 2061132544 solver.cpp:419] Iteration 1000, lr = 0.00931012\r\n"
       ]
      },
      {
       "output_type": "stream",
       "stream": "stdout",
       "text": [
        "I0302 17:05:59.825150 2061132544 solver.cpp:207] Iteration 1100, loss = 0.0308017\r\n",
        "I0302 17:05:59.825208 2061132544 solver.cpp:222]     Train net output #0: loss = 0.0308014 (* 1 = 0.0308014 loss)\r\n",
        "I0302 17:05:59.825218 2061132544 solver.cpp:419] Iteration 1100, lr = 0.00924715\r\n"
       ]
      },
      {
       "output_type": "stream",
       "stream": "stdout",
       "text": [
        "I0302 17:07:55.650190 2061132544 solver.cpp:207] Iteration 1200, loss = 0.152397\r\n",
        "I0302 17:07:55.650248 2061132544 solver.cpp:222]     Train net output #0: loss = 0.152397 (* 1 = 0.152397 loss)\r\n",
        "I0302 17:07:55.650257 2061132544 solver.cpp:419] Iteration 1200, lr = 0.00918515\r\n"
       ]
      },
      {
       "output_type": "stream",
       "stream": "stdout",
       "text": [
        "I0302 17:09:51.617179 2061132544 solver.cpp:207] Iteration 1300, loss = 0.0260172\r\n",
        "I0302 17:09:51.617247 2061132544 solver.cpp:222]     Train net output #0: loss = 0.026017 (* 1 = 0.026017 loss)\r\n",
        "I0302 17:09:51.617257 2061132544 solver.cpp:419] Iteration 1300, lr = 0.00912412\r\n"
       ]
      },
      {
       "output_type": "stream",
       "stream": "stdout",
       "text": [
        "I0302 17:11:47.294024 2061132544 solver.cpp:207] Iteration 1400, loss = 0.0170917\r\n",
        "I0302 17:11:47.294105 2061132544 solver.cpp:222]     Train net output #0: loss = 0.0170914 (* 1 = 0.0170914 loss)\r\n",
        "I0302 17:11:47.294116 2061132544 solver.cpp:419] Iteration 1400, lr = 0.00906403\r\n"
       ]
      },
      {
       "output_type": "stream",
       "stream": "stdout",
       "text": [
        "I0302 17:13:41.869375 2061132544 solver.cpp:263] Iteration 1500, Testing net (#0)\r\n"
       ]
      },
      {
       "output_type": "stream",
       "stream": "stdout",
       "text": [
        "I0302 17:14:59.005368 2061132544 solver.cpp:314]     Test net output #0: loss = 0.0381467 (* 1 = 0.0381467 loss)\r\n"
       ]
      },
      {
       "output_type": "stream",
       "stream": "stdout",
       "text": [
        "I0302 17:15:00.121994 2061132544 solver.cpp:207] Iteration 1500, loss = 0.0171475\r\n",
        "I0302 17:15:00.122040 2061132544 solver.cpp:222]     Train net output #0: loss = 0.0171472 (* 1 = 0.0171472 loss)\r\n",
        "I0302 17:15:00.122050 2061132544 solver.cpp:419] Iteration 1500, lr = 0.00900485\r\n"
       ]
      },
      {
       "output_type": "stream",
       "stream": "stdout",
       "text": [
        "I0302 17:16:55.116389 2061132544 solver.cpp:207] Iteration 1600, loss = 0.0249845\r\n",
        "I0302 17:16:55.116457 2061132544 solver.cpp:222]     Train net output #0: loss = 0.0249842 (* 1 = 0.0249842 loss)\r\n",
        "I0302 17:16:55.116468 2061132544 solver.cpp:419] Iteration 1600, lr = 0.00894657\r\n"
       ]
      },
      {
       "output_type": "stream",
       "stream": "stdout",
       "text": [
        "I0302 17:18:51.103165 2061132544 solver.cpp:207] Iteration 1700, loss = 0.108177\r\n",
        "I0302 17:18:51.103229 2061132544 solver.cpp:222]     Train net output #0: loss = 0.108177 (* 1 = 0.108177 loss)\r\n",
        "I0302 17:18:51.103243 2061132544 solver.cpp:419] Iteration 1700, lr = 0.00888916\r\n"
       ]
      },
      {
       "output_type": "stream",
       "stream": "stdout",
       "text": [
        "I0302 17:20:47.190860 2061132544 solver.cpp:207] Iteration 1800, loss = 0.023459\r\n",
        "I0302 17:20:47.190930 2061132544 solver.cpp:222]     Train net output #0: loss = 0.0234587 (* 1 = 0.0234587 loss)\r\n",
        "I0302 17:20:47.190940 2061132544 solver.cpp:419] Iteration 1800, lr = 0.0088326\r\n"
       ]
      },
      {
       "output_type": "stream",
       "stream": "stdout",
       "text": [
        "I0302 17:22:43.132894 2061132544 solver.cpp:207] Iteration 1900, loss = 0.0124286\r\n",
        "I0302 17:22:43.132963 2061132544 solver.cpp:222]     Train net output #0: loss = 0.0124283 (* 1 = 0.0124283 loss)\r\n",
        "I0302 17:22:43.132977 2061132544 solver.cpp:419] Iteration 1900, lr = 0.00877687\r\n"
       ]
      },
      {
       "output_type": "stream",
       "stream": "stdout",
       "text": [
        "I0302 17:24:38.006029 2061132544 solver.cpp:263] Iteration 2000, Testing net (#0)\r\n"
       ]
      },
      {
       "output_type": "stream",
       "stream": "stdout",
       "text": [
        "I0302 17:25:55.194699 2061132544 solver.cpp:314]     Test net output #0: loss = 0.0288053 (* 1 = 0.0288053 loss)\r\n"
       ]
      },
      {
       "output_type": "stream",
       "stream": "stdout",
       "text": [
        "I0302 17:25:56.325616 2061132544 solver.cpp:207] Iteration 2000, loss = 0.0128161\r\n",
        "I0302 17:25:56.325669 2061132544 solver.cpp:222]     Train net output #0: loss = 0.0128158 (* 1 = 0.0128158 loss)\r\n",
        "I0302 17:25:56.325680 2061132544 solver.cpp:419] Iteration 2000, lr = 0.00872196\r\n"
       ]
      },
      {
       "output_type": "stream",
       "stream": "stdout",
       "text": [
        "I0302 17:27:51.865388 2061132544 solver.cpp:207] Iteration 2100, loss = 0.0170195\r\n",
        "I0302 17:27:51.865454 2061132544 solver.cpp:222]     Train net output #0: loss = 0.0170193 (* 1 = 0.0170193 loss)\r\n",
        "I0302 17:27:51.865464 2061132544 solver.cpp:419] Iteration 2100, lr = 0.00866784\r\n"
       ]
      },
      {
       "output_type": "stream",
       "stream": "stdout",
       "text": [
        "I0302 17:29:47.820996 2061132544 solver.cpp:207] Iteration 2200, loss = 0.086436\r\n",
        "I0302 17:29:47.821074 2061132544 solver.cpp:222]     Train net output #0: loss = 0.0864357 (* 1 = 0.0864357 loss)\r\n",
        "I0302 17:29:47.821084 2061132544 solver.cpp:419] Iteration 2200, lr = 0.0086145\r\n"
       ]
      },
      {
       "output_type": "stream",
       "stream": "stdout",
       "text": [
        "I0302 17:31:43.593741 2061132544 solver.cpp:207] Iteration 2300, loss = 0.0196424\r\n",
        "I0302 17:31:43.593801 2061132544 solver.cpp:222]     Train net output #0: loss = 0.0196421 (* 1 = 0.0196421 loss)\r\n",
        "I0302 17:31:43.593813 2061132544 solver.cpp:419] Iteration 2300, lr = 0.00856192\r\n"
       ]
      },
      {
       "output_type": "stream",
       "stream": "stdout",
       "text": [
        "I0302 17:33:39.339990 2061132544 solver.cpp:207] Iteration 2400, loss = 0.00980749\r\n",
        "I0302 17:33:39.340064 2061132544 solver.cpp:222]     Train net output #0: loss = 0.0098072 (* 1 = 0.0098072 loss)\r\n",
        "I0302 17:33:39.340075 2061132544 solver.cpp:419] Iteration 2400, lr = 0.00851008\r\n"
       ]
      },
      {
       "output_type": "stream",
       "stream": "stdout",
       "text": [
        "I0302 17:35:34.007256 2061132544 solver.cpp:263] Iteration 2500, Testing net (#0)\r\n"
       ]
      },
      {
       "output_type": "stream",
       "stream": "stdout",
       "text": [
        "I0302 17:36:51.409169 2061132544 solver.cpp:314]     Test net output #0: loss = 0.0221155 (* 1 = 0.0221155 loss)\r\n"
       ]
      },
      {
       "output_type": "stream",
       "stream": "stdout",
       "text": [
        "I0302 17:36:52.555037 2061132544 solver.cpp:207] Iteration 2500, loss = 0.0103944\r\n",
        "I0302 17:36:52.555090 2061132544 solver.cpp:222]     Train net output #0: loss = 0.0103941 (* 1 = 0.0103941 loss)\r\n",
        "I0302 17:36:52.555100 2061132544 solver.cpp:419] Iteration 2500, lr = 0.00845897\r\n"
       ]
      },
      {
       "output_type": "stream",
       "stream": "stdout",
       "text": [
        "I0302 17:38:48.027560 2061132544 solver.cpp:207] Iteration 2600, loss = 0.0120416\r\n",
        "I0302 17:38:48.027638 2061132544 solver.cpp:222]     Train net output #0: loss = 0.0120413 (* 1 = 0.0120413 loss)\r\n",
        "I0302 17:38:48.027654 2061132544 solver.cpp:419] Iteration 2600, lr = 0.00840857\r\n"
       ]
      },
      {
       "output_type": "stream",
       "stream": "stdout",
       "text": [
        "I0302 17:40:43.921890 2061132544 solver.cpp:207] Iteration 2700, loss = 0.0735338\r\n",
        "I0302 17:40:43.921979 2061132544 solver.cpp:222]     Train net output #0: loss = 0.0735334 (* 1 = 0.0735334 loss)\r\n",
        "I0302 17:40:43.921989 2061132544 solver.cpp:419] Iteration 2700, lr = 0.00835886\r\n"
       ]
      },
      {
       "output_type": "stream",
       "stream": "stdout",
       "text": [
        "I0302 17:42:39.775753 2061132544 solver.cpp:207] Iteration 2800, loss = 0.0161326\r\n",
        "I0302 17:42:39.775822 2061132544 solver.cpp:222]     Train net output #0: loss = 0.0161322 (* 1 = 0.0161322 loss)\r\n",
        "I0302 17:42:39.775835 2061132544 solver.cpp:419] Iteration 2800, lr = 0.00830984\r\n"
       ]
      },
      {
       "output_type": "stream",
       "stream": "stdout",
       "text": [
        "I0302 17:44:35.759893 2061132544 solver.cpp:207] Iteration 2900, loss = 0.00815525\r\n",
        "I0302 17:44:35.759954 2061132544 solver.cpp:222]     Train net output #0: loss = 0.00815493 (* 1 = 0.00815493 loss)\r\n",
        "I0302 17:44:35.759966 2061132544 solver.cpp:419] Iteration 2900, lr = 0.00826148\r\n"
       ]
      },
      {
       "output_type": "stream",
       "stream": "stdout",
       "text": [
        "I0302 17:46:30.786244 2061132544 solver.cpp:263] Iteration 3000, Testing net (#0)\r\n"
       ]
      },
      {
       "output_type": "stream",
       "stream": "stdout",
       "text": [
        "I0302 17:47:48.294411 2061132544 solver.cpp:314]     Test net output #0: loss = 0.0181926 (* 1 = 0.0181926 loss)\r\n"
       ]
      },
      {
       "output_type": "stream",
       "stream": "stdout",
       "text": [
        "I0302 17:47:49.429072 2061132544 solver.cpp:207] Iteration 3000, loss = 0.00828278\r\n",
        "I0302 17:47:49.429127 2061132544 solver.cpp:222]     Train net output #0: loss = 0.00828247 (* 1 = 0.00828247 loss)\r\n",
        "I0302 17:47:49.429142 2061132544 solver.cpp:419] Iteration 3000, lr = 0.00821377\r\n"
       ]
      },
      {
       "output_type": "stream",
       "stream": "stdout",
       "text": [
        "I0302 17:49:44.815187 2061132544 solver.cpp:207] Iteration 3100, loss = 0.00920863\r\n",
        "I0302 17:49:44.815248 2061132544 solver.cpp:222]     Train net output #0: loss = 0.00920833 (* 1 = 0.00920833 loss)\r\n",
        "I0302 17:49:44.815258 2061132544 solver.cpp:419] Iteration 3100, lr = 0.0081667\r\n"
       ]
      },
      {
       "output_type": "stream",
       "stream": "stdout",
       "text": [
        "I0302 17:51:40.712409 2061132544 solver.cpp:207] Iteration 3200, loss = 0.0603175\r\n",
        "I0302 17:51:40.712484 2061132544 solver.cpp:222]     Train net output #0: loss = 0.0603172 (* 1 = 0.0603172 loss)\r\n",
        "I0302 17:51:40.712499 2061132544 solver.cpp:419] Iteration 3200, lr = 0.00812025\r\n"
       ]
      },
      {
       "output_type": "stream",
       "stream": "stdout",
       "text": [
        "I0302 17:53:36.574453 2061132544 solver.cpp:207] Iteration 3300, loss = 0.0129419\r\n",
        "I0302 17:53:36.574509 2061132544 solver.cpp:222]     Train net output #0: loss = 0.0129416 (* 1 = 0.0129416 loss)\r\n",
        "I0302 17:53:36.574527 2061132544 solver.cpp:419] Iteration 3300, lr = 0.00807442\r\n"
       ]
      },
      {
       "output_type": "stream",
       "stream": "stdout",
       "text": [
        "I0302 17:55:32.674268 2061132544 solver.cpp:207] Iteration 3400, loss = 0.00689985\r\n",
        "I0302 17:55:32.674330 2061132544 solver.cpp:222]     Train net output #0: loss = 0.00689954 (* 1 = 0.00689954 loss)\r\n",
        "I0302 17:55:32.674341 2061132544 solver.cpp:419] Iteration 3400, lr = 0.00802918\r\n"
       ]
      },
      {
       "output_type": "stream",
       "stream": "stdout",
       "text": [
        "I0302 17:57:27.493726 2061132544 solver.cpp:263] Iteration 3500, Testing net (#0)\r\n"
       ]
      },
      {
       "output_type": "stream",
       "stream": "stdout",
       "text": [
        "I0302 17:58:44.842344 2061132544 solver.cpp:314]     Test net output #0: loss = 0.015935 (* 1 = 0.015935 loss)\r\n"
       ]
      },
      {
       "output_type": "stream",
       "stream": "stdout",
       "text": [
        "I0302 17:58:45.972925 2061132544 solver.cpp:207] Iteration 3500, loss = 0.00656873\r\n",
        "I0302 17:58:45.972967 2061132544 solver.cpp:222]     Train net output #0: loss = 0.00656844 (* 1 = 0.00656844 loss)\r\n",
        "I0302 17:58:45.972978 2061132544 solver.cpp:419] Iteration 3500, lr = 0.00798454\r\n"
       ]
      },
      {
       "output_type": "stream",
       "stream": "stdout",
       "text": [
        "I0302 18:00:41.418493 2061132544 solver.cpp:207] Iteration 3600, loss = 0.00805383\r\n",
        "I0302 18:00:41.418555 2061132544 solver.cpp:222]     Train net output #0: loss = 0.00805354 (* 1 = 0.00805354 loss)\r\n",
        "I0302 18:00:41.418565 2061132544 solver.cpp:419] Iteration 3600, lr = 0.00794046\r\n"
       ]
      },
      {
       "output_type": "stream",
       "stream": "stdout",
       "text": [
        "I0302 18:02:38.350566 2061132544 solver.cpp:207] Iteration 3700, loss = 0.0509835\r\n",
        "I0302 18:02:38.350625 2061132544 solver.cpp:222]     Train net output #0: loss = 0.0509833 (* 1 = 0.0509833 loss)\r\n",
        "I0302 18:02:38.350635 2061132544 solver.cpp:419] Iteration 3700, lr = 0.00789695\r\n"
       ]
      },
      {
       "output_type": "stream",
       "stream": "stdout",
       "text": [
        "I0302 18:04:35.651707 2061132544 solver.cpp:207] Iteration 3800, loss = 0.0105187\r\n",
        "I0302 18:04:35.651767 2061132544 solver.cpp:222]     Train net output #0: loss = 0.0105184 (* 1 = 0.0105184 loss)\r\n",
        "I0302 18:04:35.651780 2061132544 solver.cpp:419] Iteration 3800, lr = 0.007854\r\n"
       ]
      },
      {
       "output_type": "stream",
       "stream": "stdout",
       "text": [
        "I0302 18:06:33.121520 2061132544 solver.cpp:207] Iteration 3900, loss = 0.006068\r\n",
        "I0302 18:06:33.121590 2061132544 solver.cpp:222]     Train net output #0: loss = 0.00606771 (* 1 = 0.00606771 loss)\r\n",
        "I0302 18:06:33.121601 2061132544 solver.cpp:419] Iteration 3900, lr = 0.00781158\r\n"
       ]
      },
      {
       "output_type": "stream",
       "stream": "stdout",
       "text": [
        "I0302 18:08:45.472004 2061132544 solver.cpp:263] Iteration 4000, Testing net (#0)\r\n"
       ]
      },
      {
       "output_type": "stream",
       "stream": "stdout",
       "text": [
        "I0302 18:10:14.420789 2061132544 solver.cpp:314]     Test net output #0: loss = 0.0136543 (* 1 = 0.0136543 loss)\r\n"
       ]
      },
      {
       "output_type": "stream",
       "stream": "stdout",
       "text": [
        "I0302 18:10:15.668297 2061132544 solver.cpp:207] Iteration 4000, loss = 0.00596203\r\n",
        "I0302 18:10:15.668344 2061132544 solver.cpp:222]     Train net output #0: loss = 0.00596174 (* 1 = 0.00596174 loss)\r\n",
        "I0302 18:10:15.668354 2061132544 solver.cpp:419] Iteration 4000, lr = 0.0077697\r\n"
       ]
      },
      {
       "output_type": "stream",
       "stream": "stdout",
       "text": [
        "I0302 18:12:12.921751 2061132544 solver.cpp:207] Iteration 4100, loss = 0.0070471\r\n",
        "I0302 18:12:12.921809 2061132544 solver.cpp:222]     Train net output #0: loss = 0.00704681 (* 1 = 0.00704681 loss)\r\n",
        "I0302 18:12:12.921819 2061132544 solver.cpp:419] Iteration 4100, lr = 0.00772833\r\n"
       ]
      },
      {
       "output_type": "stream",
       "stream": "stdout",
       "text": [
        "I0302 18:14:08.812983 2061132544 solver.cpp:207] Iteration 4200, loss = 0.043363\r\n",
        "I0302 18:14:08.813040 2061132544 solver.cpp:222]     Train net output #0: loss = 0.0433627 (* 1 = 0.0433627 loss)\r\n",
        "I0302 18:14:08.813050 2061132544 solver.cpp:419] Iteration 4200, lr = 0.00768748\r\n"
       ]
      },
      {
       "output_type": "stream",
       "stream": "stdout",
       "text": [
        "I0302 18:16:04.473635 2061132544 solver.cpp:207] Iteration 4300, loss = 0.00855253\r\n",
        "I0302 18:16:04.473701 2061132544 solver.cpp:222]     Train net output #0: loss = 0.00855223 (* 1 = 0.00855223 loss)\r\n",
        "I0302 18:16:04.473712 2061132544 solver.cpp:419] Iteration 4300, lr = 0.00764712\r\n"
       ]
      },
      {
       "output_type": "stream",
       "stream": "stdout",
       "text": [
        "I0302 18:18:00.207653 2061132544 solver.cpp:207] Iteration 4400, loss = 0.00517436\r\n",
        "I0302 18:18:00.207711 2061132544 solver.cpp:222]     Train net output #0: loss = 0.00517406 (* 1 = 0.00517406 loss)\r\n",
        "I0302 18:18:00.207721 2061132544 solver.cpp:419] Iteration 4400, lr = 0.00760726\r\n"
       ]
      },
      {
       "output_type": "stream",
       "stream": "stdout",
       "text": [
        "I0302 18:19:54.877605 2061132544 solver.cpp:263] Iteration 4500, Testing net (#0)\r\n"
       ]
      },
      {
       "output_type": "stream",
       "stream": "stdout",
       "text": [
        "I0302 18:21:12.104642 2061132544 solver.cpp:314]     Test net output #0: loss = 0.0125318 (* 1 = 0.0125318 loss)\r\n"
       ]
      },
      {
       "output_type": "stream",
       "stream": "stdout",
       "text": [
        "I0302 18:21:13.235216 2061132544 solver.cpp:207] Iteration 4500, loss = 0.00555164\r\n",
        "I0302 18:21:13.235275 2061132544 solver.cpp:222]     Train net output #0: loss = 0.00555134 (* 1 = 0.00555134 loss)\r\n",
        "I0302 18:21:13.235290 2061132544 solver.cpp:419] Iteration 4500, lr = 0.00756788\r\n"
       ]
      },
      {
       "output_type": "stream",
       "stream": "stdout",
       "text": [
        "I0302 18:23:08.874934 2061132544 solver.cpp:207] Iteration 4600, loss = 0.00575148\r\n",
        "I0302 18:23:08.874991 2061132544 solver.cpp:222]     Train net output #0: loss = 0.00575117 (* 1 = 0.00575117 loss)\r\n",
        "I0302 18:23:08.875001 2061132544 solver.cpp:419] Iteration 4600, lr = 0.00752897\r\n"
       ]
      },
      {
       "output_type": "stream",
       "stream": "stdout",
       "text": [
        "I0302 18:25:04.314934 2061132544 solver.cpp:207] Iteration 4700, loss = 0.0382593\r\n",
        "I0302 18:25:04.315400 2061132544 solver.cpp:222]     Train net output #0: loss = 0.038259 (* 1 = 0.038259 loss)\r\n",
        "I0302 18:25:04.315429 2061132544 solver.cpp:419] Iteration 4700, lr = 0.00749052\r\n"
       ]
      },
      {
       "output_type": "stream",
       "stream": "stdout",
       "text": [
        "I0302 18:26:59.870903 2061132544 solver.cpp:207] Iteration 4800, loss = 0.00765368\r\n",
        "I0302 18:26:59.870973 2061132544 solver.cpp:222]     Train net output #0: loss = 0.00765337 (* 1 = 0.00765337 loss)\r\n",
        "I0302 18:26:59.870983 2061132544 solver.cpp:419] Iteration 4800, lr = 0.00745253\r\n"
       ]
      },
      {
       "output_type": "stream",
       "stream": "stdout",
       "text": [
        "I0302 18:28:55.544148 2061132544 solver.cpp:207] Iteration 4900, loss = 0.00466722\r\n",
        "I0302 18:28:55.544215 2061132544 solver.cpp:222]     Train net output #0: loss = 0.00466691 (* 1 = 0.00466691 loss)\r\n",
        "I0302 18:28:55.544226 2061132544 solver.cpp:419] Iteration 4900, lr = 0.00741498\r\n"
       ]
      },
      {
       "output_type": "stream",
       "stream": "stdout",
       "text": [
        "I0302 18:30:50.162158 2061132544 solver.cpp:333] Snapshotting to examples/R2_hand_classification/data/train_iter_5000.caffemodel\r\n"
       ]
      },
      {
       "output_type": "stream",
       "stream": "stdout",
       "text": [
        "I0302 18:30:50.172713 2061132544 solver.cpp:340] Snapshotting solver state to examples/R2_hand_classification/data/train_iter_5000.solverstate\r\n",
        "I0302 18:30:50.175313 2061132544 solver.cpp:263] Iteration 5000, Testing net (#0)\r\n"
       ]
      },
      {
       "output_type": "stream",
       "stream": "stdout",
       "text": [
        "I0302 18:32:07.575286 2061132544 solver.cpp:314]     Test net output #0: loss = 0.0111751 (* 1 = 0.0111751 loss)\r\n"
       ]
      },
      {
       "output_type": "stream",
       "stream": "stdout",
       "text": [
        "I0302 18:32:08.701297 2061132544 solver.cpp:207] Iteration 5000, loss = 0.0059264\r\n",
        "I0302 18:32:08.701349 2061132544 solver.cpp:222]     Train net output #0: loss = 0.00592611 (* 1 = 0.00592611 loss)\r\n",
        "I0302 18:32:08.701364 2061132544 solver.cpp:419] Iteration 5000, lr = 0.00737788\r\n"
       ]
      },
      {
       "output_type": "stream",
       "stream": "stdout",
       "text": [
        "I0302 18:34:04.205993 2061132544 solver.cpp:207] Iteration 5100, loss = 0.0046674\r\n",
        "I0302 18:34:04.206084 2061132544 solver.cpp:222]     Train net output #0: loss = 0.0046671 (* 1 = 0.0046671 loss)\r\n",
        "I0302 18:34:04.206094 2061132544 solver.cpp:419] Iteration 5100, lr = 0.0073412\r\n"
       ]
      },
      {
       "output_type": "stream",
       "stream": "stdout",
       "text": [
        "I0302 18:35:59.866639 2061132544 solver.cpp:207] Iteration 5200, loss = 0.0357843\r\n",
        "I0302 18:35:59.866705 2061132544 solver.cpp:222]     Train net output #0: loss = 0.035784 (* 1 = 0.035784 loss)\r\n",
        "I0302 18:35:59.866716 2061132544 solver.cpp:419] Iteration 5200, lr = 0.00730495\r\n"
       ]
      },
      {
       "output_type": "stream",
       "stream": "stdout",
       "text": [
        "I0302 18:37:55.252229 2061132544 solver.cpp:207] Iteration 5300, loss = 0.00761751\r\n",
        "I0302 18:37:55.252290 2061132544 solver.cpp:222]     Train net output #0: loss = 0.00761721 (* 1 = 0.00761721 loss)\r\n",
        "I0302 18:37:55.252300 2061132544 solver.cpp:419] Iteration 5300, lr = 0.00726911\r\n"
       ]
      },
      {
       "output_type": "stream",
       "stream": "stdout",
       "text": [
        "I0302 18:39:51.384330 2061132544 solver.cpp:207] Iteration 5400, loss = 0.0041999\r\n",
        "I0302 18:39:51.384397 2061132544 solver.cpp:222]     Train net output #0: loss = 0.00419959 (* 1 = 0.00419959 loss)\r\n",
        "I0302 18:39:51.384407 2061132544 solver.cpp:419] Iteration 5400, lr = 0.00723368\r\n"
       ]
      },
      {
       "output_type": "stream",
       "stream": "stdout",
       "text": [
        "I0302 18:41:46.293396 2061132544 solver.cpp:263] Iteration 5500, Testing net (#0)\r\n"
       ]
      },
      {
       "output_type": "stream",
       "stream": "stdout",
       "text": [
        "I0302 18:43:03.702455 2061132544 solver.cpp:314]     Test net output #0: loss = 0.0103494 (* 1 = 0.0103494 loss)\r\n"
       ]
      },
      {
       "output_type": "stream",
       "stream": "stdout",
       "text": [
        "I0302 18:43:04.826639 2061132544 solver.cpp:207] Iteration 5500, loss = 0.00568565\r\n",
        "I0302 18:43:04.826685 2061132544 solver.cpp:222]     Train net output #0: loss = 0.00568534 (* 1 = 0.00568534 loss)\r\n",
        "I0302 18:43:04.826699 2061132544 solver.cpp:419] Iteration 5500, lr = 0.00719865\r\n"
       ]
      },
      {
       "output_type": "stream",
       "stream": "stdout",
       "text": [
        "I0302 18:45:00.429769 2061132544 solver.cpp:207] Iteration 5600, loss = 0.00427682\r\n",
        "I0302 18:45:00.429822 2061132544 solver.cpp:222]     Train net output #0: loss = 0.00427651 (* 1 = 0.00427651 loss)\r\n",
        "I0302 18:45:00.429833 2061132544 solver.cpp:419] Iteration 5600, lr = 0.00716402\r\n"
       ]
      },
      {
       "output_type": "stream",
       "stream": "stdout",
       "text": [
        "I0302 18:46:56.380154 2061132544 solver.cpp:207] Iteration 5700, loss = 0.0347128\r\n",
        "I0302 18:46:56.380218 2061132544 solver.cpp:222]     Train net output #0: loss = 0.0347125 (* 1 = 0.0347125 loss)\r\n",
        "I0302 18:46:56.380231 2061132544 solver.cpp:419] Iteration 5700, lr = 0.00712977\r\n"
       ]
      },
      {
       "output_type": "stream",
       "stream": "stdout",
       "text": [
        "I0302 18:48:52.201241 2061132544 solver.cpp:207] Iteration 5800, loss = 0.00683891\r\n",
        "I0302 18:48:52.201316 2061132544 solver.cpp:222]     Train net output #0: loss = 0.00683859 (* 1 = 0.00683859 loss)\r\n",
        "I0302 18:48:52.201333 2061132544 solver.cpp:419] Iteration 5800, lr = 0.0070959\r\n"
       ]
      },
      {
       "output_type": "stream",
       "stream": "stdout",
       "text": [
        "I0302 18:50:48.395923 2061132544 solver.cpp:207] Iteration 5900, loss = 0.00395283\r\n",
        "I0302 18:50:48.395990 2061132544 solver.cpp:222]     Train net output #0: loss = 0.00395251 (* 1 = 0.00395251 loss)\r\n",
        "I0302 18:50:48.396003 2061132544 solver.cpp:419] Iteration 5900, lr = 0.0070624\r\n"
       ]
      },
      {
       "output_type": "stream",
       "stream": "stdout",
       "text": [
        "I0302 18:52:53.035976 2061132544 solver.cpp:263] Iteration 6000, Testing net (#0)\r\n"
       ]
      },
      {
       "output_type": "stream",
       "stream": "stdout",
       "text": [
        "I0302 18:54:11.049511 2061132544 solver.cpp:314]     Test net output #0: loss = 0.00985731 (* 1 = 0.00985731 loss)\r\n"
       ]
      },
      {
       "output_type": "stream",
       "stream": "stdout",
       "text": [
        "I0302 18:54:12.178253 2061132544 solver.cpp:207] Iteration 6000, loss = 0.00511487\r\n",
        "I0302 18:54:12.178294 2061132544 solver.cpp:222]     Train net output #0: loss = 0.00511455 (* 1 = 0.00511455 loss)\r\n",
        "I0302 18:54:12.178304 2061132544 solver.cpp:419] Iteration 6000, lr = 0.00702927\r\n"
       ]
      },
      {
       "output_type": "stream",
       "stream": "stdout",
       "text": [
        "I0302 18:56:09.004272 2061132544 solver.cpp:207] Iteration 6100, loss = 0.00385512\r\n",
        "I0302 18:56:09.004329 2061132544 solver.cpp:222]     Train net output #0: loss = 0.00385481 (* 1 = 0.00385481 loss)\r\n",
        "I0302 18:56:09.004339 2061132544 solver.cpp:419] Iteration 6100, lr = 0.0069965\r\n"
       ]
      },
      {
       "output_type": "stream",
       "stream": "stdout",
       "text": [
        "I0302 18:58:04.726305 2061132544 solver.cpp:207] Iteration 6200, loss = 0.0351072\r\n",
        "I0302 18:58:04.726372 2061132544 solver.cpp:222]     Train net output #0: loss = 0.0351068 (* 1 = 0.0351068 loss)\r\n",
        "I0302 18:58:04.726382 2061132544 solver.cpp:419] Iteration 6200, lr = 0.00696408\r\n"
       ]
      },
      {
       "output_type": "stream",
       "stream": "stdout",
       "text": [
        "I0302 19:00:01.009135 2061132544 solver.cpp:207] Iteration 6300, loss = 0.00641979\r\n",
        "I0302 19:00:01.009201 2061132544 solver.cpp:222]     Train net output #0: loss = 0.00641947 (* 1 = 0.00641947 loss)\r\n",
        "I0302 19:00:01.009215 2061132544 solver.cpp:419] Iteration 6300, lr = 0.00693201\r\n"
       ]
      },
      {
       "output_type": "stream",
       "stream": "stdout",
       "text": [
        "I0302 19:01:57.151582 2061132544 solver.cpp:207] Iteration 6400, loss = 0.00619298\r\n",
        "I0302 19:01:57.151651 2061132544 solver.cpp:222]     Train net output #0: loss = 0.00619266 (* 1 = 0.00619266 loss)\r\n",
        "I0302 19:01:57.151662 2061132544 solver.cpp:419] Iteration 6400, lr = 0.00690029\r\n"
       ]
      },
      {
       "output_type": "stream",
       "stream": "stdout",
       "text": [
        "I0302 19:03:51.875424 2061132544 solver.cpp:263] Iteration 6500, Testing net (#0)\r\n"
       ]
      },
      {
       "output_type": "stream",
       "stream": "stdout",
       "text": [
        "I0302 19:05:09.163820 2061132544 solver.cpp:314]     Test net output #0: loss = 0.0090582 (* 1 = 0.0090582 loss)\r\n"
       ]
      },
      {
       "output_type": "stream",
       "stream": "stdout",
       "text": [
        "I0302 19:05:10.304930 2061132544 solver.cpp:207] Iteration 6500, loss = 0.00456759\r\n",
        "I0302 19:05:10.304972 2061132544 solver.cpp:222]     Train net output #0: loss = 0.00456726 (* 1 = 0.00456726 loss)\r\n",
        "I0302 19:05:10.304983 2061132544 solver.cpp:419] Iteration 6500, lr = 0.0068689\r\n"
       ]
      },
      {
       "output_type": "stream",
       "stream": "stdout",
       "text": [
        "I0302 19:07:06.039212 2061132544 solver.cpp:207] Iteration 6600, loss = 0.00385482\r\n",
        "I0302 19:07:06.039279 2061132544 solver.cpp:222]     Train net output #0: loss = 0.00385448 (* 1 = 0.00385448 loss)\r\n",
        "I0302 19:07:06.039293 2061132544 solver.cpp:419] Iteration 6600, lr = 0.00683784\r\n"
       ]
      },
      {
       "output_type": "stream",
       "stream": "stdout",
       "text": [
        "I0302 19:09:02.377656 2061132544 solver.cpp:207] Iteration 6700, loss = 0.0354859\r\n",
        "I0302 19:09:02.377727 2061132544 solver.cpp:222]     Train net output #0: loss = 0.0354856 (* 1 = 0.0354856 loss)\r\n",
        "I0302 19:09:02.377737 2061132544 solver.cpp:419] Iteration 6700, lr = 0.00680711\r\n"
       ]
      },
      {
       "output_type": "stream",
       "stream": "stdout",
       "text": [
        "I0302 19:10:58.977736 2061132544 solver.cpp:207] Iteration 6800, loss = 0.0060299\r\n",
        "I0302 19:10:58.977800 2061132544 solver.cpp:222]     Train net output #0: loss = 0.00602956 (* 1 = 0.00602956 loss)\r\n",
        "I0302 19:10:58.977813 2061132544 solver.cpp:419] Iteration 6800, lr = 0.0067767\r\n"
       ]
      },
      {
       "output_type": "stream",
       "stream": "stdout",
       "text": [
        "I0302 19:12:54.795877 2061132544 solver.cpp:207] Iteration 6900, loss = 0.00701805\r\n",
        "I0302 19:12:54.795940 2061132544 solver.cpp:222]     Train net output #0: loss = 0.00701772 (* 1 = 0.00701772 loss)\r\n",
        "I0302 19:12:54.795951 2061132544 solver.cpp:419] Iteration 6900, lr = 0.0067466\r\n"
       ]
      },
      {
       "output_type": "stream",
       "stream": "stdout",
       "text": [
        "I0302 19:14:49.823813 2061132544 solver.cpp:263] Iteration 7000, Testing net (#0)\r\n"
       ]
      },
      {
       "output_type": "stream",
       "stream": "stdout",
       "text": [
        "I0302 19:16:07.480530 2061132544 solver.cpp:314]     Test net output #0: loss = 0.0088055 (* 1 = 0.0088055 loss)\r\n"
       ]
      },
      {
       "output_type": "stream",
       "stream": "stdout",
       "text": [
        "I0302 19:16:08.610105 2061132544 solver.cpp:207] Iteration 7000, loss = 0.00413619\r\n",
        "I0302 19:16:08.610148 2061132544 solver.cpp:222]     Train net output #0: loss = 0.00413586 (* 1 = 0.00413586 loss)\r\n",
        "I0302 19:16:08.610158 2061132544 solver.cpp:419] Iteration 7000, lr = 0.00671681\r\n"
       ]
      },
      {
       "output_type": "stream",
       "stream": "stdout",
       "text": [
        "I0302 19:18:04.686980 2061132544 solver.cpp:207] Iteration 7100, loss = 0.00382419\r\n",
        "I0302 19:18:04.687049 2061132544 solver.cpp:222]     Train net output #0: loss = 0.00382386 (* 1 = 0.00382386 loss)\r\n",
        "I0302 19:18:04.687060 2061132544 solver.cpp:419] Iteration 7100, lr = 0.00668733\r\n"
       ]
      },
      {
       "output_type": "stream",
       "stream": "stdout",
       "text": [
        "I0302 19:20:01.161052 2061132544 solver.cpp:207] Iteration 7200, loss = 0.0290783\r\n",
        "I0302 19:20:01.161123 2061132544 solver.cpp:222]     Train net output #0: loss = 0.029078 (* 1 = 0.029078 loss)\r\n",
        "I0302 19:20:01.161134 2061132544 solver.cpp:419] Iteration 7200, lr = 0.00665815\r\n"
       ]
      },
      {
       "output_type": "stream",
       "stream": "stdout",
       "text": [
        "I0302 19:24:53.096009 2061132544 solver.cpp:207] Iteration 7300, loss = 0.00531451\r\n",
        "I0302 19:24:53.102617 2061132544 solver.cpp:222]     Train net output #0: loss = 0.0053142 (* 1 = 0.0053142 loss)\r\n",
        "I0302 19:24:53.102650 2061132544 solver.cpp:419] Iteration 7300, lr = 0.00662927\r\n"
       ]
      },
      {
       "output_type": "stream",
       "stream": "stdout",
       "text": [
        "I0302 19:26:54.640449 2061132544 solver.cpp:207] Iteration 7400, loss = 0.00847536\r\n",
        "I0302 19:26:54.641013 2061132544 solver.cpp:222]     Train net output #0: loss = 0.00847504 (* 1 = 0.00847504 loss)\r\n",
        "I0302 19:26:54.641036 2061132544 solver.cpp:419] Iteration 7400, lr = 0.00660067\r\n"
       ]
      },
      {
       "output_type": "stream",
       "stream": "stdout",
       "text": [
        "I0302 19:28:50.438861 2061132544 solver.cpp:263] Iteration 7500, Testing net (#0)\r\n"
       ]
      },
      {
       "output_type": "stream",
       "stream": "stdout",
       "text": [
        "I0302 19:30:07.452438 2061132544 solver.cpp:314]     Test net output #0: loss = 0.00820985 (* 1 = 0.00820985 loss)\r\n"
       ]
      },
      {
       "output_type": "stream",
       "stream": "stdout",
       "text": [
        "I0302 19:30:08.552533 2061132544 solver.cpp:207] Iteration 7500, loss = 0.00353524\r\n",
        "I0302 19:30:08.552587 2061132544 solver.cpp:222]     Train net output #0: loss = 0.00353492 (* 1 = 0.00353492 loss)\r\n",
        "I0302 19:30:08.552597 2061132544 solver.cpp:419] Iteration 7500, lr = 0.00657236\r\n"
       ]
      },
      {
       "output_type": "stream",
       "stream": "stdout",
       "text": [
        "I0302 19:32:05.470523 2061132544 solver.cpp:207] Iteration 7600, loss = 0.00373282\r\n",
        "I0302 19:32:05.470873 2061132544 solver.cpp:222]     Train net output #0: loss = 0.0037325 (* 1 = 0.0037325 loss)\r\n",
        "I0302 19:32:05.470886 2061132544 solver.cpp:419] Iteration 7600, lr = 0.00654433\r\n"
       ]
      },
      {
       "output_type": "stream",
       "stream": "stdout",
       "text": [
        "I0302 19:34:02.728179 2061132544 solver.cpp:207] Iteration 7700, loss = 0.0246548\r\n",
        "I0302 19:34:02.728513 2061132544 solver.cpp:222]     Train net output #0: loss = 0.0246545 (* 1 = 0.0246545 loss)\r\n",
        "I0302 19:34:02.728535 2061132544 solver.cpp:419] Iteration 7700, lr = 0.00651658\r\n"
       ]
      },
      {
       "output_type": "stream",
       "stream": "stdout",
       "text": [
        "I0302 19:36:03.696699 2061132544 solver.cpp:207] Iteration 7800, loss = 0.0049076\r\n",
        "I0302 19:36:03.697017 2061132544 solver.cpp:222]     Train net output #0: loss = 0.00490728 (* 1 = 0.00490728 loss)\r\n",
        "I0302 19:36:03.697031 2061132544 solver.cpp:419] Iteration 7800, lr = 0.00648911\r\n"
       ]
      },
      {
       "output_type": "stream",
       "stream": "stdout",
       "text": [
        "I0302 19:37:59.769330 2061132544 solver.cpp:207] Iteration 7900, loss = 0.0127811\r\n",
        "I0302 19:37:59.775938 2061132544 solver.cpp:222]     Train net output #0: loss = 0.0127807 (* 1 = 0.0127807 loss)\r\n",
        "I0302 19:37:59.775959 2061132544 solver.cpp:419] Iteration 7900, lr = 0.0064619\r\n"
       ]
      },
      {
       "output_type": "stream",
       "stream": "stdout",
       "text": [
        "I0302 19:39:54.875241 2061132544 solver.cpp:263] Iteration 8000, Testing net (#0)\r\n"
       ]
      },
      {
       "output_type": "stream",
       "stream": "stdout",
       "text": [
        "I0302 19:41:12.991950 2061132544 solver.cpp:314]     Test net output #0: loss = 0.00783761 (* 1 = 0.00783761 loss)\r\n"
       ]
      },
      {
       "output_type": "stream",
       "stream": "stdout",
       "text": [
        "I0302 19:41:14.104979 2061132544 solver.cpp:207] Iteration 8000, loss = 0.00353287\r\n",
        "I0302 19:41:14.105031 2061132544 solver.cpp:222]     Train net output #0: loss = 0.00353254 (* 1 = 0.00353254 loss)\r\n",
        "I0302 19:41:14.105051 2061132544 solver.cpp:419] Iteration 8000, lr = 0.00643496\r\n"
       ]
      },
      {
       "output_type": "stream",
       "stream": "stdout",
       "text": [
        "I0302 19:43:08.631270 2061132544 solver.cpp:207] Iteration 8100, loss = 0.00354704\r\n",
        "I0302 19:43:08.631345 2061132544 solver.cpp:222]     Train net output #0: loss = 0.00354671 (* 1 = 0.00354671 loss)\r\n",
        "I0302 19:43:08.631356 2061132544 solver.cpp:419] Iteration 8100, lr = 0.00640827\r\n"
       ]
      },
      {
       "output_type": "stream",
       "stream": "stdout",
       "text": [
        "I0302 19:45:03.297976 2061132544 solver.cpp:207] Iteration 8200, loss = 0.0195237\r\n",
        "I0302 19:45:03.298032 2061132544 solver.cpp:222]     Train net output #0: loss = 0.0195234 (* 1 = 0.0195234 loss)\r\n",
        "I0302 19:45:03.298043 2061132544 solver.cpp:419] Iteration 8200, lr = 0.00638185\r\n"
       ]
      },
      {
       "output_type": "stream",
       "stream": "stdout",
       "text": [
        "I0302 19:46:57.787459 2061132544 solver.cpp:207] Iteration 8300, loss = 0.00463407\r\n",
        "I0302 19:46:57.787518 2061132544 solver.cpp:222]     Train net output #0: loss = 0.00463374 (* 1 = 0.00463374 loss)\r\n",
        "I0302 19:46:57.787530 2061132544 solver.cpp:419] Iteration 8300, lr = 0.00635567\r\n"
       ]
      },
      {
       "output_type": "stream",
       "stream": "stdout",
       "text": [
        "I0302 19:48:52.261067 2061132544 solver.cpp:207] Iteration 8400, loss = 0.0128012\r\n",
        "I0302 19:48:52.261142 2061132544 solver.cpp:222]     Train net output #0: loss = 0.0128009 (* 1 = 0.0128009 loss)\r\n",
        "I0302 19:48:52.261152 2061132544 solver.cpp:419] Iteration 8400, lr = 0.00632975\r\n"
       ]
      },
      {
       "output_type": "stream",
       "stream": "stdout",
       "text": [
        "I0302 19:50:46.597757 2061132544 solver.cpp:263] Iteration 8500, Testing net (#0)\r\n"
       ]
      },
      {
       "output_type": "stream",
       "stream": "stdout",
       "text": [
        "I0302 19:52:04.875370 2061132544 solver.cpp:314]     Test net output #0: loss = 0.00768349 (* 1 = 0.00768349 loss)\r\n"
       ]
      },
      {
       "output_type": "stream",
       "stream": "stdout",
       "text": [
        "I0302 19:52:06.016096 2061132544 solver.cpp:207] Iteration 8500, loss = 0.00346515\r\n",
        "I0302 19:52:06.016147 2061132544 solver.cpp:222]     Train net output #0: loss = 0.00346482 (* 1 = 0.00346482 loss)\r\n",
        "I0302 19:52:06.016160 2061132544 solver.cpp:419] Iteration 8500, lr = 0.00630407\r\n"
       ]
      },
      {
       "output_type": "stream",
       "stream": "stdout",
       "text": [
        "I0302 19:54:01.593667 2061132544 solver.cpp:207] Iteration 8600, loss = 0.00362396\r\n",
        "I0302 19:54:01.593732 2061132544 solver.cpp:222]     Train net output #0: loss = 0.00362364 (* 1 = 0.00362364 loss)\r\n",
        "I0302 19:54:01.593744 2061132544 solver.cpp:419] Iteration 8600, lr = 0.00627864\r\n"
       ]
      },
      {
       "output_type": "stream",
       "stream": "stdout",
       "text": [
        "I0302 19:55:58.796387 2061132544 solver.cpp:207] Iteration 8700, loss = 0.0131432\r\n",
        "I0302 19:55:58.802813 2061132544 solver.cpp:222]     Train net output #0: loss = 0.0131429 (* 1 = 0.0131429 loss)\r\n",
        "I0302 19:55:58.802829 2061132544 solver.cpp:419] Iteration 8700, lr = 0.00625344\r\n"
       ]
      },
      {
       "output_type": "stream",
       "stream": "stdout",
       "text": [
        "I0302 19:57:57.583109 2061132544 solver.cpp:207] Iteration 8800, loss = 0.0045731\r\n"
       ]
      },
      {
       "output_type": "stream",
       "stream": "stdout",
       "text": [
        "I0302 19:57:57.589709 2061132544 solver.cpp:222]     Train net output #0: loss = 0.00457277 (* 1 = 0.00457277 loss)\r\n",
        "I0302 19:57:57.589730 2061132544 solver.cpp:419] Iteration 8800, lr = 0.00622847\r\n"
       ]
      },
      {
       "output_type": "stream",
       "stream": "stdout",
       "text": [
        "I0302 19:59:54.423724 2061132544 solver.cpp:207] Iteration 8900, loss = 0.0122934\r\n",
        "I0302 19:59:54.430431 2061132544 solver.cpp:222]     Train net output #0: loss = 0.012293 (* 1 = 0.012293 loss)\r\n",
        "I0302 19:59:54.430466 2061132544 solver.cpp:419] Iteration 8900, lr = 0.00620374\r\n"
       ]
      },
      {
       "output_type": "stream",
       "stream": "stdout",
       "text": [
        "I0302 20:01:49.804965 2061132544 solver.cpp:263] Iteration 9000, Testing net (#0)\r\n"
       ]
      },
      {
       "output_type": "stream",
       "stream": "stdout",
       "text": [
        "I0302 20:03:09.487710 2061132544 solver.cpp:314]     Test net output #0: loss = 0.00723339 (* 1 = 0.00723339 loss)\r\n"
       ]
      },
      {
       "output_type": "stream",
       "stream": "stdout",
       "text": [
        "I0302 20:03:10.660342 2061132544 solver.cpp:207] Iteration 9000, loss = 0.00362929\r\n",
        "I0302 20:03:10.660387 2061132544 solver.cpp:222]     Train net output #0: loss = 0.00362896 (* 1 = 0.00362896 loss)\r\n",
        "I0302 20:03:10.660397 2061132544 solver.cpp:419] Iteration 9000, lr = 0.00617924\r\n"
       ]
      },
      {
       "output_type": "stream",
       "stream": "stdout",
       "text": [
        "I0302 20:05:08.040352 2061132544 solver.cpp:207] Iteration 9100, loss = 0.00339863\r\n",
        "I0302 20:05:08.040413 2061132544 solver.cpp:222]     Train net output #0: loss = 0.0033983 (* 1 = 0.0033983 loss)\r\n",
        "I0302 20:05:08.040423 2061132544 solver.cpp:419] Iteration 9100, lr = 0.00615496\r\n"
       ]
      },
      {
       "output_type": "stream",
       "stream": "stdout",
       "text": [
        "I0302 20:07:04.852553 2061132544 solver.cpp:207] Iteration 9200, loss = 0.0119027\r\n",
        "I0302 20:07:04.852622 2061132544 solver.cpp:222]     Train net output #0: loss = 0.0119024 (* 1 = 0.0119024 loss)\r\n",
        "I0302 20:07:04.852633 2061132544 solver.cpp:419] Iteration 9200, lr = 0.0061309\r\n"
       ]
      },
      {
       "output_type": "stream",
       "stream": "stdout",
       "text": [
        "I0302 20:09:01.525905 2061132544 solver.cpp:207] Iteration 9300, loss = 0.00431376\r\n",
        "I0302 20:09:01.525964 2061132544 solver.cpp:222]     Train net output #0: loss = 0.00431343 (* 1 = 0.00431343 loss)\r\n",
        "I0302 20:09:01.525974 2061132544 solver.cpp:419] Iteration 9300, lr = 0.00610706\r\n"
       ]
      },
      {
       "output_type": "stream",
       "stream": "stdout",
       "text": [
        "I0302 20:10:57.979179 2061132544 solver.cpp:207] Iteration 9400, loss = 0.0135847\r\n",
        "I0302 20:10:57.979250 2061132544 solver.cpp:222]     Train net output #0: loss = 0.0135844 (* 1 = 0.0135844 loss)\r\n",
        "I0302 20:10:57.979261 2061132544 solver.cpp:419] Iteration 9400, lr = 0.00608343\r\n"
       ]
      },
      {
       "output_type": "stream",
       "stream": "stdout",
       "text": [
        "I0302 20:12:53.127434 2061132544 solver.cpp:263] Iteration 9500, Testing net (#0)\r\n"
       ]
      },
      {
       "output_type": "stream",
       "stream": "stdout",
       "text": [
        "I0302 20:14:10.489388 2061132544 solver.cpp:314]     Test net output #0: loss = 0.00718328 (* 1 = 0.00718328 loss)\r\n"
       ]
      },
      {
       "output_type": "stream",
       "stream": "stdout",
       "text": [
        "I0302 20:14:11.609194 2061132544 solver.cpp:207] Iteration 9500, loss = 0.00379147\r\n",
        "I0302 20:14:11.609268 2061132544 solver.cpp:222]     Train net output #0: loss = 0.00379113 (* 1 = 0.00379113 loss)\r\n",
        "I0302 20:14:11.609285 2061132544 solver.cpp:419] Iteration 9500, lr = 0.00606002\r\n"
       ]
      },
      {
       "output_type": "stream",
       "stream": "stdout",
       "text": [
        "I0302 20:16:07.031796 2061132544 solver.cpp:207] Iteration 9600, loss = 0.00289991\r\n",
        "I0302 20:16:07.031870 2061132544 solver.cpp:222]     Train net output #0: loss = 0.00289958 (* 1 = 0.00289958 loss)\r\n",
        "I0302 20:16:07.031887 2061132544 solver.cpp:419] Iteration 9600, lr = 0.00603682\r\n"
       ]
      },
      {
       "output_type": "stream",
       "stream": "stdout",
       "text": [
        "I0302 20:18:02.894966 2061132544 solver.cpp:207] Iteration 9700, loss = 0.0110384\r\n",
        "I0302 20:18:02.895021 2061132544 solver.cpp:222]     Train net output #0: loss = 0.0110381 (* 1 = 0.0110381 loss)\r\n",
        "I0302 20:18:02.895031 2061132544 solver.cpp:419] Iteration 9700, lr = 0.00601382\r\n"
       ]
      },
      {
       "output_type": "stream",
       "stream": "stdout",
       "text": [
        "I0302 20:19:58.543473 2061132544 solver.cpp:207] Iteration 9800, loss = 0.00460285\r\n",
        "I0302 20:19:58.543541 2061132544 solver.cpp:222]     Train net output #0: loss = 0.00460253 (* 1 = 0.00460253 loss)\r\n",
        "I0302 20:19:58.543555 2061132544 solver.cpp:419] Iteration 9800, lr = 0.00599102\r\n"
       ]
      },
      {
       "output_type": "stream",
       "stream": "stdout",
       "text": [
        "I0302 20:21:54.237848 2061132544 solver.cpp:207] Iteration 9900, loss = 0.0178939\r\n",
        "I0302 20:21:54.237896 2061132544 solver.cpp:222]     Train net output #0: loss = 0.0178936 (* 1 = 0.0178936 loss)\r\n",
        "I0302 20:21:54.237907 2061132544 solver.cpp:419] Iteration 9900, lr = 0.00596843\r\n"
       ]
      },
      {
       "output_type": "stream",
       "stream": "stdout",
       "text": [
        "I0302 20:24:03.957639 2061132544 solver.cpp:333] Snapshotting to examples/R2_hand_classification/data/train_iter_10000.caffemodel\r\n",
        "I0302 20:24:03.962882 2061132544 solver.cpp:340] Snapshotting solver state to examples/R2_hand_classification/data/train_iter_10000.solverstate\r\n"
       ]
      },
      {
       "output_type": "stream",
       "stream": "stdout",
       "text": [
        "I0302 20:24:04.755048 2061132544 solver.cpp:244] Iteration 10000, loss = 0.00372132\r\n",
        "I0302 20:24:04.755116 2061132544 solver.cpp:263] Iteration 10000, Testing net (#0)\r\n"
       ]
      },
      {
       "output_type": "stream",
       "stream": "stdout",
       "text": [
        "I0302 20:25:27.255261 2061132544 solver.cpp:314]     Test net output #0: loss = 0.00686065 (* 1 = 0.00686065 loss)\r\n",
        "I0302 20:25:27.255311 2061132544 solver.cpp:249] Optimization Done.\r\n",
        "I0302 20:25:27.255319 2061132544 caffe.cpp:121] Optimization Done.\r\n"
       ]
      }
     ],
     "prompt_number": 62
    },
    {
     "cell_type": "code",
     "collapsed": false,
     "input": [],
     "language": "python",
     "metadata": {},
     "outputs": []
    }
   ],
   "metadata": {}
  }
 ]
}