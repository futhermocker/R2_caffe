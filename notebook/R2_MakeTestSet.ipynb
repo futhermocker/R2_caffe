{
 "metadata": {
  "name": "",
  "signature": "sha256:51e523d687031b9b3c331e6cad81b8aa57492cb92a8f1f8fbb819d776fafefbf"
 },
 "nbformat": 3,
 "nbformat_minor": 0,
 "worksheets": [
  {
   "cells": [
    {
     "cell_type": "code",
     "collapsed": false,
     "input": [
      "import os\n",
      "import h5py\n",
      "import sklearn\n",
      "import cv2\n",
      "import pandas as pd\n",
      "import numpy as np\n",
      "import sklearn.datasets\n",
      "import sklearn.linear_model\n",
      "import matplotlib.pyplot as plt\n",
      "%matplotlib inline\n",
      "\n",
      "# Make sure that caffe is on the python path:\n",
      "caffe_root = '../'  # this file is expected to be in {caffe_root}/examples\n",
      "import sys\n",
      "sys.path.insert(0, caffe_root + 'python')\n",
      "\n",
      "import caffe, caffe.draw"
     ],
     "language": "python",
     "metadata": {},
     "outputs": [],
     "prompt_number": 25
    },
    {
     "cell_type": "code",
     "collapsed": false,
     "input": [
      "import random\n",
      "\n",
      "pos_dir = '/Users/chickenchen/Data/R2_hand/test_20x20/'\n",
      "neg_dir = '/Users/chickenchen/Data/train_non_face_scenes/'\n",
      "pos_url = open(pos_dir + 'pos_sub_url.txt')\n",
      "neg_url = open(os.path.join(neg_dir,'sub0/neg_sub_url.txt'))\n",
      "pos_num = len(pos_url.readlines())\n",
      "neg_num = len(neg_url.readlines())\n",
      "\n",
      "# print pos_num\n",
      "# print neg_num\n",
      "pos_list = []\n",
      "neg_list = []\n",
      "\n",
      "for i in range(300):\n",
      "    p = random.randint(0, pos_num)\n",
      "    while p in pos_list:\n",
      "        p = random.randint(0, pos_num)\n",
      "    pos_list.append(p)\n",
      "# print pos_list\n",
      "# print len(pos_list)\n",
      "\n",
      "for i in range(700):\n",
      "    p = random.randint(0, neg_num)\n",
      "    while p in neg_list:\n",
      "        p = random.randint(0, neg_num)\n",
      "    neg_list.append(p)\n",
      "# print neg_list\n",
      "# print len(neg_list)"
     ],
     "language": "python",
     "metadata": {},
     "outputs": [],
     "prompt_number": 26
    },
    {
     "cell_type": "code",
     "collapsed": false,
     "input": [
      "import linecache\n",
      "\n",
      "if not os.path.exists(pos_dir):\n",
      "    os.makedirs(pos_dir)\n",
      "train_filename = os.path.join(pos_dir, 'test.h5')\n",
      "\n",
      "# \u5c06\u6b63\u6837\u672c\u6570\u636e\u5b58\u50a8\u4e3ahdf5\u683c\u5f0f\uff0c\u5e76\u5c06hdf5\u6587\u4ef6\u7684\u4f4d\u7f6e\u8f93\u51fa\u5230\u6587\u672c\u6587\u4ef6\n",
      "with h5py.File(train_filename, 'w') as f:\n",
      "    dset_data = f.create_dataset('data', (0,1, 20,20), maxshape=(None, 1, 20, 20))\n",
      "    dset_label = f.create_dataset('label', (0,), maxshape=(None,))\n",
      "    for i in range(300):\n",
      "        d = linecache.getline(pos_dir + 'pos_sub_url.txt',pos_list[i])\n",
      "        # print d\n",
      "        img = cv2.imread(d.strip('\\n'),0)\n",
      "        cv2.imwrite('/Users/chickenchen/Desktop/test/pos/'+str(i)+'.jpg', img)\n",
      "        img = img/255.0\n",
      "        dset_data.resize( (dset_data.shape[0]+1, 1, 20, 20) )\n",
      "        dset_data[-1, :, :, :] = img\n",
      "        dset_label.resize( (dset_label.shape[0]+1,) )\n",
      "        dset_label[-1] = 1.0\n",
      "    print dset_data.shape\n",
      "    print dset_label.shape\n",
      "    \n",
      "    for i in range(700):\n",
      "        d = linecache.getline(neg_dir + 'sub0/neg_sub_url.txt',neg_list[i])\n",
      "        # print d\n",
      "        img = cv2.imread(d.strip('\\n'),0)\n",
      "        cv2.imwrite('/Users/chickenchen/Desktop/test/neg/'+str(i)+'.jpg', img)\n",
      "        img = img/255.0\n",
      "        dset_data.resize( (dset_data.shape[0]+1, 1, 20, 20) )\n",
      "        dset_data[-1, :, :, :] = img\n",
      "        dset_label.resize( (dset_label.shape[0]+1,) )\n",
      "        dset_label[-1] = 0.0\n",
      "    print dset_data.shape\n",
      "    print dset_label.shape"
     ],
     "language": "python",
     "metadata": {},
     "outputs": [
      {
       "output_type": "stream",
       "stream": "stdout",
       "text": [
        "(300, 1, 20, 20)\n",
        "(300,)\n",
        "(1000, 1, 20, 20)"
       ]
      },
      {
       "output_type": "stream",
       "stream": "stdout",
       "text": [
        "\n",
        "(1000,)\n"
       ]
      }
     ],
     "prompt_number": 28
    },
    {
     "cell_type": "code",
     "collapsed": false,
     "input": [],
     "language": "python",
     "metadata": {},
     "outputs": []
    }
   ],
   "metadata": {}
  }
 ]
}