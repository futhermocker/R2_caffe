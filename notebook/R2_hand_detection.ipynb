{
 "metadata": {
  "name": "",
  "signature": "sha256:17195f99760d827ae2335ce891cf1639afcf4f8a61d60f1ebbdcac6c492e10fa"
 },
 "nbformat": 3,
 "nbformat_minor": 0,
 "worksheets": [
  {
   "cells": [
    {
     "cell_type": "markdown",
     "metadata": {},
     "source": [
      "# Detection System test"
     ]
    },
    {
     "cell_type": "code",
     "collapsed": false,
     "input": [
      "# Make sure that 'selective_search_ijcv_with_python' is on the python path:\n",
      "search_root = '../..'  # this file is expected to be in {caffe_root}/examples\n",
      "\n",
      "import sys\n",
      "sys.path.insert(0, search_root)\n",
      "# print sys.path[0]\n",
      "# print dir(sys.path)\n",
      "import selective_search_ijcv_with_python as selective_search"
     ],
     "language": "python",
     "metadata": {},
     "outputs": [],
     "prompt_number": 8
    },
    {
     "cell_type": "code",
     "collapsed": false,
     "input": [],
     "language": "python",
     "metadata": {},
     "outputs": []
    }
   ],
   "metadata": {}
  }
 ]
}