{
 "metadata": {
  "name": "",
  "signature": "sha256:c4fdb4ccf1e6b0cf17c4898ca6f0be4906430a179d31e0897d4f7d10f8136a08"
 },
 "nbformat": 3,
 "nbformat_minor": 0,
 "worksheets": [
  {
   "cells": [
    {
     "cell_type": "code",
     "collapsed": false,
     "input": [
      "import os"
     ],
     "language": "python",
     "metadata": {},
     "outputs": [],
     "prompt_number": 1
    },
    {
     "cell_type": "markdown",
     "metadata": {},
     "source": [
      "###\u8bfb\u53d6\u6307\u5b9a\u76ee\u5f55\u4e0b\u7684\u8d1f\u6837\u672c\u6587\u4ef6\uff08\u539f\u56fe\uff09\uff0c\u5e76\u5c06\u76f8\u5bf9\u6587\u4ef6\u8def\u5f84\u8f93\u51fa\u5230txt\u6587\u6863\u4e2d"
     ]
    },
    {
     "cell_type": "code",
     "collapsed": false,
     "input": [
      "import re\n",
      "\n",
      "pattern = re.compile(r'.*list.*|.*txt')\n",
      "\n",
      "def GetFileList(direct, fileList):\n",
      "    newdir = direct\n",
      "    if os.path.isfile(direct):\n",
      "#         fileList.append(direct.decode('gbk'))\u3011\n",
      "        fileList.append(direct)\n",
      "    elif os.path.isdir(direct):\n",
      "        for s in os.listdir(direct):\n",
      "            #\u5982\u679c\u9700\u8981\u5ffd\u7565\u67d0\u4e9b\u6587\u4ef6\u5939\uff0c\u4f7f\u7528\u4ee5\u4e0b\u4ee3\u7801\n",
      "            if s == \".DS_Store\" or s == \"Thumbs.db\" or s == 'neg_sub_url.txt':\n",
      "                continue\n",
      "            if pattern.match(s):\n",
      "                continue\n",
      "            newdir = os.path.join(direct,s)\n",
      "            GetFileList(newdir, fileList)\n",
      "        return fileList"
     ],
     "language": "python",
     "metadata": {},
     "outputs": [],
     "prompt_number": 2
    },
    {
     "cell_type": "code",
     "collapsed": false,
     "input": [
      "root = '/Users/chickenchen/Data/R2_hand/train_palm_binary_20X20/'  \n",
      "negdir = 'neg/'\n",
      "posdir = 'palm_20x20/'\n",
      "testnegdir = 'neg_test/'\n",
      "testposdir = 'palm_test_20x20/'\n",
      "\n",
      "negtxt = GetFileList(root+negdir, [])\n",
      "postxt = GetFileList(root+posdir, [])\n",
      "\n",
      "testnegtxt = GetFileList(root+testnegdir, [])\n",
      "testpostxt = GetFileList(root+testposdir, [])\n",
      "\n",
      "output = open(root+'list.txt', 'w')\n",
      "for t in negtxt:\n",
      "    output.writelines('ne'+t.strip(root) + ' 0'+'\\n')\n",
      "for t in postxt:\n",
      "    output.writelines('palm_20'+t.strip(root) + ' 1'+'\\n')\n",
      "output.close()\n",
      "\n",
      "output = open(root + 'testlist.txt', 'w')\n",
      "for t in testnegtxt:\n",
      "    output.writelines('ne'+t.strip(root) + ' 0'+'\\n')\n",
      "for t in testpostxt:\n",
      "    output.writelines('palm_test_20'+t.strip(root) + ' 1'+'\\n')\n",
      "output.close()"
     ],
     "language": "python",
     "metadata": {},
     "outputs": [],
     "prompt_number": 8
    },
    {
     "cell_type": "code",
     "collapsed": false,
     "input": [
      "!cd .. && ./build/tools/convert_imageset --gray=true --resize_height=20 --resize_width=20 --shuffle /Users/chickenchen/Data/R2_hand/train_palm_binary_20X20/ /Users/chickenchen/Data/R2_hand/train_palm_binary_20X20/list.txt /Users/chickenchen/Data/R2_hand/train_palm_binary_20X20/traindb"
     ],
     "language": "python",
     "metadata": {},
     "outputs": [
      {
       "output_type": "stream",
       "stream": "stdout",
       "text": [
        "E0323 14:15:08.554721 2077332224 convert_imageset.cpp:182] Processed 1000 files.\r\n"
       ]
      },
      {
       "output_type": "stream",
       "stream": "stdout",
       "text": [
        "E0323 14:15:09.183293 2077332224 convert_imageset.cpp:182] Processed 2000 files.\r\n"
       ]
      },
      {
       "output_type": "stream",
       "stream": "stdout",
       "text": [
        "E0323 14:15:09.786133 2077332224 convert_imageset.cpp:182] Processed 3000 files.\r\n"
       ]
      },
      {
       "output_type": "stream",
       "stream": "stdout",
       "text": [
        "E0323 14:15:10.426848 2077332224 convert_imageset.cpp:182] Processed 4000 files.\r\n"
       ]
      },
      {
       "output_type": "stream",
       "stream": "stdout",
       "text": [
        "E0323 14:15:11.035941 2077332224 convert_imageset.cpp:182] Processed 5000 files.\r\n"
       ]
      },
      {
       "output_type": "stream",
       "stream": "stdout",
       "text": [
        "E0323 14:15:11.738683 2077332224 convert_imageset.cpp:182] Processed 6000 files.\r\n"
       ]
      },
      {
       "output_type": "stream",
       "stream": "stdout",
       "text": [
        "E0323 14:15:12.317699 2077332224 convert_imageset.cpp:182] Processed 7000 files.\r\n"
       ]
      },
      {
       "output_type": "stream",
       "stream": "stdout",
       "text": [
        "E0323 14:15:12.915745 2077332224 convert_imageset.cpp:182] Processed 8000 files.\r\n"
       ]
      },
      {
       "output_type": "stream",
       "stream": "stdout",
       "text": [
        "E0323 14:15:13.498989 2077332224 convert_imageset.cpp:182] Processed 9000 files.\r\n"
       ]
      },
      {
       "output_type": "stream",
       "stream": "stdout",
       "text": [
        "E0323 14:15:14.065237 2077332224 convert_imageset.cpp:182] Processed 10000 files.\r\n"
       ]
      },
      {
       "output_type": "stream",
       "stream": "stdout",
       "text": [
        "E0323 14:15:14.640811 2077332224 convert_imageset.cpp:182] Processed 11000 files.\r\n"
       ]
      },
      {
       "output_type": "stream",
       "stream": "stdout",
       "text": [
        "E0323 14:15:15.216909 2077332224 convert_imageset.cpp:182] Processed 12000 files.\r\n"
       ]
      },
      {
       "output_type": "stream",
       "stream": "stdout",
       "text": [
        "E0323 14:15:15.777483 2077332224 convert_imageset.cpp:182] Processed 13000 files.\r\n"
       ]
      },
      {
       "output_type": "stream",
       "stream": "stdout",
       "text": [
        "E0323 14:15:16.309487 2077332224 convert_imageset.cpp:182] Processed 14000 files.\r\n"
       ]
      },
      {
       "output_type": "stream",
       "stream": "stdout",
       "text": [
        "E0323 14:15:16.895849 2077332224 convert_imageset.cpp:182] Processed 15000 files.\r\n"
       ]
      },
      {
       "output_type": "stream",
       "stream": "stdout",
       "text": [
        "E0323 14:15:17.476398 2077332224 convert_imageset.cpp:182] Processed 16000 files.\r\n"
       ]
      },
      {
       "output_type": "stream",
       "stream": "stdout",
       "text": [
        "E0323 14:15:18.109786 2077332224 convert_imageset.cpp:182] Processed 17000 files.\r\n"
       ]
      },
      {
       "output_type": "stream",
       "stream": "stdout",
       "text": [
        "E0323 14:15:18.646672 2077332224 convert_imageset.cpp:182] Processed 18000 files.\r\n"
       ]
      },
      {
       "output_type": "stream",
       "stream": "stdout",
       "text": [
        "E0323 14:15:19.160697 2077332224 convert_imageset.cpp:182] Processed 19000 files.\r\n"
       ]
      },
      {
       "output_type": "stream",
       "stream": "stdout",
       "text": [
        "E0323 14:15:19.795495 2077332224 convert_imageset.cpp:182] Processed 20000 files.\r\n"
       ]
      },
      {
       "output_type": "stream",
       "stream": "stdout",
       "text": [
        "E0323 14:15:20.364207 2077332224 convert_imageset.cpp:182] Processed 21000 files.\r\n"
       ]
      },
      {
       "output_type": "stream",
       "stream": "stdout",
       "text": [
        "E0323 14:15:20.931044 2077332224 convert_imageset.cpp:182] Processed 22000 files.\r\n"
       ]
      },
      {
       "output_type": "stream",
       "stream": "stdout",
       "text": [
        "E0323 14:15:21.501432 2077332224 convert_imageset.cpp:182] Processed 23000 files.\r\n"
       ]
      },
      {
       "output_type": "stream",
       "stream": "stdout",
       "text": [
        "E0323 14:15:22.066149 2077332224 convert_imageset.cpp:182] Processed 24000 files.\r\n"
       ]
      },
      {
       "output_type": "stream",
       "stream": "stdout",
       "text": [
        "E0323 14:15:22.612087 2077332224 convert_imageset.cpp:182] Processed 25000 files.\r\n"
       ]
      },
      {
       "output_type": "stream",
       "stream": "stdout",
       "text": [
        "E0323 14:15:23.158476 2077332224 convert_imageset.cpp:182] Processed 26000 files.\r\n"
       ]
      },
      {
       "output_type": "stream",
       "stream": "stdout",
       "text": [
        "E0323 14:15:23.729476 2077332224 convert_imageset.cpp:182] Processed 27000 files.\r\n"
       ]
      },
      {
       "output_type": "stream",
       "stream": "stdout",
       "text": [
        "E0323 14:15:24.265697 2077332224 convert_imageset.cpp:182] Processed 28000 files.\r\n"
       ]
      },
      {
       "output_type": "stream",
       "stream": "stdout",
       "text": [
        "E0323 14:15:24.827834 2077332224 convert_imageset.cpp:182] Processed 29000 files.\r\n"
       ]
      },
      {
       "output_type": "stream",
       "stream": "stdout",
       "text": [
        "E0323 14:15:25.401621 2077332224 convert_imageset.cpp:182] Processed 30000 files.\r\n"
       ]
      },
      {
       "output_type": "stream",
       "stream": "stdout",
       "text": [
        "E0323 14:15:25.966981 2077332224 convert_imageset.cpp:182] Processed 31000 files.\r\n"
       ]
      },
      {
       "output_type": "stream",
       "stream": "stdout",
       "text": [
        "E0323 14:15:26.514039 2077332224 convert_imageset.cpp:182] Processed 32000 files.\r\n"
       ]
      },
      {
       "output_type": "stream",
       "stream": "stdout",
       "text": [
        "E0323 14:15:27.067790 2077332224 convert_imageset.cpp:182] Processed 33000 files.\r\n"
       ]
      },
      {
       "output_type": "stream",
       "stream": "stdout",
       "text": [
        "E0323 14:15:27.623687 2077332224 convert_imageset.cpp:182] Processed 34000 files.\r\n"
       ]
      },
      {
       "output_type": "stream",
       "stream": "stdout",
       "text": [
        "E0323 14:15:28.214896 2077332224 convert_imageset.cpp:182] Processed 35000 files.\r\n"
       ]
      },
      {
       "output_type": "stream",
       "stream": "stdout",
       "text": [
        "E0323 14:15:28.791450 2077332224 convert_imageset.cpp:182] Processed 36000 files.\r\n"
       ]
      },
      {
       "output_type": "stream",
       "stream": "stdout",
       "text": [
        "E0323 14:15:29.309723 2077332224 convert_imageset.cpp:182] Processed 37000 files.\r\n"
       ]
      },
      {
       "output_type": "stream",
       "stream": "stdout",
       "text": [
        "E0323 14:15:29.831631 2077332224 convert_imageset.cpp:182] Processed 38000 files.\r\n"
       ]
      },
      {
       "output_type": "stream",
       "stream": "stdout",
       "text": [
        "E0323 14:15:30.399266 2077332224 convert_imageset.cpp:182] Processed 39000 files.\r\n"
       ]
      },
      {
       "output_type": "stream",
       "stream": "stdout",
       "text": [
        "E0323 14:15:30.955910 2077332224 convert_imageset.cpp:182] Processed 40000 files.\r\n"
       ]
      },
      {
       "output_type": "stream",
       "stream": "stdout",
       "text": [
        "E0323 14:15:31.462182 2077332224 convert_imageset.cpp:182] Processed 41000 files.\r\n"
       ]
      },
      {
       "output_type": "stream",
       "stream": "stdout",
       "text": [
        "E0323 14:15:32.022038 2077332224 convert_imageset.cpp:182] Processed 42000 files.\r\n"
       ]
      },
      {
       "output_type": "stream",
       "stream": "stdout",
       "text": [
        "E0323 14:15:32.575285 2077332224 convert_imageset.cpp:182] Processed 43000 files.\r\n"
       ]
      },
      {
       "output_type": "stream",
       "stream": "stdout",
       "text": [
        "E0323 14:15:33.102476 2077332224 convert_imageset.cpp:182] Processed 44000 files.\r\n"
       ]
      },
      {
       "output_type": "stream",
       "stream": "stdout",
       "text": [
        "E0323 14:15:33.670228 2077332224 convert_imageset.cpp:182] Processed 45000 files.\r\n"
       ]
      },
      {
       "output_type": "stream",
       "stream": "stdout",
       "text": [
        "E0323 14:15:34.202987 2077332224 convert_imageset.cpp:182] Processed 46000 files.\r\n"
       ]
      },
      {
       "output_type": "stream",
       "stream": "stdout",
       "text": [
        "E0323 14:15:34.727613 2077332224 convert_imageset.cpp:182] Processed 47000 files.\r\n"
       ]
      },
      {
       "output_type": "stream",
       "stream": "stdout",
       "text": [
        "E0323 14:15:35.323772 2077332224 convert_imageset.cpp:182] Processed 48000 files.\r\n"
       ]
      },
      {
       "output_type": "stream",
       "stream": "stdout",
       "text": [
        "E0323 14:15:35.908335 2077332224 convert_imageset.cpp:182] Processed 49000 files.\r\n"
       ]
      },
      {
       "output_type": "stream",
       "stream": "stdout",
       "text": [
        "E0323 14:15:36.529373 2077332224 convert_imageset.cpp:182] Processed 50000 files.\r\n"
       ]
      },
      {
       "output_type": "stream",
       "stream": "stdout",
       "text": [
        "E0323 14:15:37.081164 2077332224 convert_imageset.cpp:182] Processed 51000 files.\r\n"
       ]
      },
      {
       "output_type": "stream",
       "stream": "stdout",
       "text": [
        "E0323 14:15:37.644414 2077332224 convert_imageset.cpp:182] Processed 52000 files.\r\n"
       ]
      },
      {
       "output_type": "stream",
       "stream": "stdout",
       "text": [
        "E0323 14:15:38.177083 2077332224 convert_imageset.cpp:182] Processed 53000 files.\r\n"
       ]
      },
      {
       "output_type": "stream",
       "stream": "stdout",
       "text": [
        "E0323 14:15:38.728926 2077332224 convert_imageset.cpp:182] Processed 54000 files.\r\n"
       ]
      },
      {
       "output_type": "stream",
       "stream": "stdout",
       "text": [
        "E0323 14:15:39.278594 2077332224 convert_imageset.cpp:182] Processed 55000 files.\r\n"
       ]
      },
      {
       "output_type": "stream",
       "stream": "stdout",
       "text": [
        "E0323 14:15:39.831974 2077332224 convert_imageset.cpp:182] Processed 56000 files.\r\n"
       ]
      },
      {
       "output_type": "stream",
       "stream": "stdout",
       "text": [
        "E0323 14:15:40.357018 2077332224 convert_imageset.cpp:182] Processed 57000 files.\r\n"
       ]
      },
      {
       "output_type": "stream",
       "stream": "stdout",
       "text": [
        "E0323 14:15:40.900892 2077332224 convert_imageset.cpp:182] Processed 58000 files.\r\n"
       ]
      },
      {
       "output_type": "stream",
       "stream": "stdout",
       "text": [
        "E0323 14:15:41.458789 2077332224 convert_imageset.cpp:182] Processed 59000 files.\r\n"
       ]
      },
      {
       "output_type": "stream",
       "stream": "stdout",
       "text": [
        "E0323 14:15:41.991549 2077332224 convert_imageset.cpp:182] Processed 60000 files.\r\n"
       ]
      },
      {
       "output_type": "stream",
       "stream": "stdout",
       "text": [
        "E0323 14:15:42.558220 2077332224 convert_imageset.cpp:182] Processed 61000 files.\r\n"
       ]
      },
      {
       "output_type": "stream",
       "stream": "stdout",
       "text": [
        "E0323 14:15:43.056531 2077332224 convert_imageset.cpp:182] Processed 62000 files.\r\n"
       ]
      },
      {
       "output_type": "stream",
       "stream": "stdout",
       "text": [
        "E0323 14:15:43.615135 2077332224 convert_imageset.cpp:182] Processed 63000 files.\r\n"
       ]
      },
      {
       "output_type": "stream",
       "stream": "stdout",
       "text": [
        "E0323 14:15:44.203188 2077332224 convert_imageset.cpp:182] Processed 64000 files.\r\n"
       ]
      },
      {
       "output_type": "stream",
       "stream": "stdout",
       "text": [
        "E0323 14:15:44.782307 2077332224 convert_imageset.cpp:182] Processed 65000 files.\r\n"
       ]
      },
      {
       "output_type": "stream",
       "stream": "stdout",
       "text": [
        "E0323 14:15:45.321552 2077332224 convert_imageset.cpp:182] Processed 66000 files.\r\n"
       ]
      },
      {
       "output_type": "stream",
       "stream": "stdout",
       "text": [
        "E0323 14:15:45.939702 2077332224 convert_imageset.cpp:182] Processed 67000 files.\r\n"
       ]
      },
      {
       "output_type": "stream",
       "stream": "stdout",
       "text": [
        "E0323 14:15:46.463495 2077332224 convert_imageset.cpp:182] Processed 68000 files.\r\n"
       ]
      },
      {
       "output_type": "stream",
       "stream": "stdout",
       "text": [
        "E0323 14:15:47.022611 2077332224 convert_imageset.cpp:182] Processed 69000 files.\r\n"
       ]
      },
      {
       "output_type": "stream",
       "stream": "stdout",
       "text": [
        "E0323 14:15:47.573278 2077332224 convert_imageset.cpp:182] Processed 70000 files.\r\n"
       ]
      },
      {
       "output_type": "stream",
       "stream": "stdout",
       "text": [
        "E0323 14:15:48.082834 2077332224 convert_imageset.cpp:182] Processed 71000 files.\r\n"
       ]
      },
      {
       "output_type": "stream",
       "stream": "stdout",
       "text": [
        "E0323 14:15:48.145624 2077332224 convert_imageset.cpp:198] Processed 71152 files.\r\n"
       ]
      }
     ],
     "prompt_number": 2
    },
    {
     "cell_type": "code",
     "collapsed": false,
     "input": [
      "!cd .. && ./build/tools/convert_imageset --gray=true --resize_height=20 --resize_width=20 --shuffle /Users/chickenchen/Data/R2_hand/train_palm_binary_20X20/ /Users/chickenchen/Data/R2_hand/train_palm_binary_20X20/testlist.txt /Users/chickenchen/Data/R2_hand/train_palm_binary_20X20/testdb"
     ],
     "language": "python",
     "metadata": {},
     "outputs": [
      {
       "output_type": "stream",
       "stream": "stdout",
       "text": [
        "E0323 14:16:00.417137 2077332224 convert_imageset.cpp:182] Processed 1000 files.\r\n"
       ]
      },
      {
       "output_type": "stream",
       "stream": "stdout",
       "text": [
        "E0323 14:16:00.746526 2077332224 convert_imageset.cpp:182] Processed 2000 files.\r\n"
       ]
      },
      {
       "output_type": "stream",
       "stream": "stdout",
       "text": [
        "E0323 14:16:01.071874 2077332224 convert_imageset.cpp:182] Processed 3000 files.\r\n"
       ]
      },
      {
       "output_type": "stream",
       "stream": "stdout",
       "text": [
        "E0323 14:16:01.405153 2077332224 convert_imageset.cpp:182] Processed 4000 files.\r\n"
       ]
      },
      {
       "output_type": "stream",
       "stream": "stdout",
       "text": [
        "E0323 14:16:01.738204 2077332224 convert_imageset.cpp:182] Processed 5000 files.\r\n"
       ]
      },
      {
       "output_type": "stream",
       "stream": "stdout",
       "text": [
        "E0323 14:16:01.889264 2077332224 convert_imageset.cpp:198] Processed 5426 files.\r\n"
       ]
      }
     ],
     "prompt_number": 3
    },
    {
     "cell_type": "code",
     "collapsed": false,
     "input": [
      "!cd .. && python ./python/draw_net.py examples/R2_hand_classification/tmp_solver/lenet_train_test.prototxt examples/R2_hand_classification/tmp_solver/pic0.png"
     ],
     "language": "python",
     "metadata": {},
     "outputs": [
      {
       "output_type": "stream",
       "stream": "stdout",
       "text": [
        "Drawing net to examples/R2_hand_classification/tmp_solver/pic0.png\r\n"
       ]
      }
     ],
     "prompt_number": 11
    },
    {
     "cell_type": "code",
     "collapsed": false,
     "input": [
      "!cd .. && ./build/tools/caffe train -solver examples/R2_hand_classification/tmp_solver/lenet_solver.prototxt"
     ],
     "language": "python",
     "metadata": {},
     "outputs": [
      {
       "output_type": "stream",
       "stream": "stdout",
       "text": [
        "I0323 19:43:50.735355 2077332224 caffe.cpp:103] Use CPU.\r\n",
        "I0323 19:43:50.737390 2077332224 caffe.cpp:107] Starting Optimization\r\n",
        "I0323 19:43:50.737404 2077332224 solver.cpp:32] Initializing solver from parameters: \r\n",
        "test_iter: 100\r\n",
        "test_interval: 500\r\n",
        "base_lr: 0.01\r\n",
        "display: 100\r\n",
        "max_iter: 10000\r\n",
        "lr_policy: \"inv\"\r\n",
        "gamma: 0.0001\r\n",
        "power: 0.75\r\n",
        "momentum: 0.9\r\n",
        "weight_decay: 0.0005\r\n",
        "snapshot: 5000\r\n",
        "snapshot_prefix: \"examples/R2_hand_classification/tmp_solver/result/shit\"\r\n",
        "solver_mode: CPU\r\n",
        "net: \"examples/R2_hand_classification/tmp_solver/lenet_train_test.prototxt\"\r\n",
        "I0323 19:43:50.738030 2077332224 solver.cpp:67] Creating training net from net file: examples/R2_hand_classification/tmp_solver/lenet_train_test.prototxt\r\n",
        "I0323 19:43:50.739799 2077332224 net.cpp:275] The NetState phase (0) differed from the phase (1) specified by a rule in layer mnist\r\n",
        "I0323 19:43:50.739843 2077332224 net.cpp:275] The NetState phase (0) differed from the phase (1) specified by a rule in layer accuracy\r\n",
        "I0323 19:43:50.739851 2077332224 net.cpp:39] Initializing net from parameters: \r\n",
        "name: \"LeNet\"\r\n",
        "layers {\r\n",
        "  top: \"data\"\r\n",
        "  top: \"label\"\r\n",
        "  name: \"mnist\"\r\n",
        "  type: DATA\r\n",
        "  data_param {\r\n",
        "    source: \"/Users/chickenchen/Data/R2_hand/train_palm_binary_20X20/traindb\"\r\n",
        "    batch_size: 64\r\n",
        "    backend: LMDB\r\n",
        "  }\r\n",
        "  include {\r\n",
        "    phase: TRAIN\r\n",
        "  }\r\n",
        "  transform_param {\r\n",
        "    scale: 0.00390625\r\n",
        "  }\r\n",
        "}\r\n",
        "layers {\r\n",
        "  bottom: \"data\"\r\n",
        "  top: \"conv1\"\r\n",
        "  name: \"conv1\"\r\n",
        "  type: CONVOLUTION\r\n",
        "  blobs_lr: 1\r\n",
        "  blobs_lr: 2\r\n",
        "  convolution_param {\r\n",
        "    num_output: 20\r\n",
        "    kernel_size: 5\r\n",
        "    stride: 1\r\n",
        "    weight_filler {\r\n",
        "      type: \"xavier\"\r\n",
        "    }\r\n",
        "    bias_filler {\r\n",
        "      type: \"constant\"\r\n",
        "    }\r\n",
        "  }\r\n",
        "}\r\n",
        "layers {\r\n",
        "  bottom: \"conv1\"\r\n",
        "  top: \"pool1\"\r\n",
        "  name: \"pool1\"\r\n",
        "  type: POOLING\r\n",
        "  pooling_param {\r\n",
        "    pool: MAX\r\n",
        "    kernel_size: 2\r\n",
        "    stride: 2\r\n",
        "  }\r\n",
        "}\r\n",
        "layers {\r\n",
        "  bottom: \"pool1\"\r\n",
        "  top: \"conv2\"\r\n",
        "  name: \"conv2\"\r\n",
        "  type: CONVOLUTION\r\n",
        "  blobs_lr: 1\r\n",
        "  blobs_lr: 2\r\n",
        "  convolution_param {\r\n",
        "    num_output: 50\r\n",
        "    kernel_size: 5\r",
        "\r\n",
        "    stride: 1\r\n",
        "    weight_filler {\r\n",
        "      type: \"xavier\"\r\n",
        "    }\r\n",
        "    bias_filler {\r\n",
        "      type: \"constant\"\r\n",
        "    }\r\n",
        "  }\r\n",
        "}\r\n",
        "layers {\r\n",
        "  bottom: \"conv2\"\r\n",
        "  top: \"pool2\"\r\n",
        "  name: \"pool2\"\r\n",
        "  type: POOLING\r\n",
        "  pooling_param {\r\n",
        "    pool: MAX\r\n",
        "    kernel_size: 2\r\n",
        "    stride: 2\r\n",
        "  }\r\n",
        "}\r\n",
        "layers {\r\n",
        "  bottom: \"pool2\"\r\n",
        "  top: \"ip1\"\r\n",
        "  name: \"ip1\"\r\n",
        "  type: INNER_PRODUCT\r\n",
        "  blobs_lr: 1\r\n",
        "  blobs_lr: 2\r\n",
        "  inner_product_param {\r\n",
        "    num_output: 500\r\n",
        "    weight_filler {\r\n",
        "      type: \"xavier\"\r\n",
        "    }\r\n",
        "    bias_filler {\r\n",
        "      type: \"constant\"\r\n",
        "    }\r\n",
        "  }\r\n",
        "}\r\n",
        "layers {\r\n",
        "  bottom: \"ip1\"\r\n",
        "  top: \"ip1\"\r\n",
        "  name: \"relu1\"\r\n",
        "  type: RELU\r\n",
        "}\r\n",
        "layers {\r\n",
        "  bottom: \"ip1\"\r\n",
        "  top: \"ip2\"\r\n",
        "  name: \"ip2\"\r\n",
        "  type: INNER_PRODUCT\r\n",
        "  blobs_lr: 1\r\n",
        "  blobs_lr: 2\r\n",
        "  inner_product_param {\r\n",
        "    num_output: 2\r\n",
        "    weight_filler {\r\n",
        "      type: \"xavier\"\r\n",
        "    }\r\n",
        "    bias_filler {\r\n",
        "      type: \"constant\"\r\n",
        "    }\r\n",
        "  }\r\n",
        "}\r\n",
        "layers {\r\n",
        "  bottom: \"ip2\"\r\n",
        "  bottom: \"label\"\r\n",
        "  top: \"loss\"\r\n",
        "  name: \"loss\"\r\n",
        "  type: SOFTMAX_LOSS\r\n",
        "}\r\n",
        "state {\r\n",
        "  phase: TRAIN\r\n",
        "}\r\n",
        "I0323 19:43:50.740253 2077332224 layer_factory.hpp:78] Creating layer mnist\r\n",
        "I0323 19:43:50.740372 2077332224 net.cpp:67] Creating Layer mnist\r\n",
        "I0323 19:43:50.740383 2077332224 net.cpp:356] mnist -> data\r\n",
        "I0323 19:43:50.740398 2077332224 net.cpp:356] mnist -> label\r\n",
        "I0323 19:43:50.740409 2077332224 net.cpp:96] Setting up mnist\r\n",
        "I0323 19:43:50.742712 2077332224 data_layer.cpp:68] Opening lmdb /Users/chickenchen/Data/R2_hand/train_palm_binary_20X20/traindb\r\n",
        "I0323 19:43:50.743983 2077332224 data_layer.cpp:131] output data size: 64,1,20,20\r\n",
        "I0323 19:43:50.744354 2077332224 net.cpp:103] Top shape: 64 1 20 20 (25600)\r\n",
        "I0323 19:43:50.744371 2077332224 net.cpp:103] Top shape: 64 1 1 1 (64)\r\n",
        "I0323 19:43:50.744379 2077332224 layer_factory.hpp:78] Creating layer conv1\r\n",
        "I0323 19:43:50.744390 2077332224 net.cpp:67] Creating Layer conv1\r\n",
        "I0323 19:43:50.744395 2077332224 net.cpp:394] conv1 <- data\r\n",
        "I0323 19:43:50.744406 2077332224 net.cpp:356] conv1 -> conv1\r\n",
        "I0323 19:43:50.744417 2077332224 net.cpp:96] Setting up conv1\r\n",
        "I0323 19:43:50.749217 2077332224 net.cpp:103] Top shape: 64 20 16 16 (327680)\r\n",
        "I0323 19:43:50.749243 2077332224 layer_factory.hpp:78] Creating layer pool1\r\n",
        "I0323 19:43:50.749267 2077332224 net.cpp:67] Creating Layer pool1\r\n",
        "I0323 19:43:50.749274 2077332224 net.cpp:394] pool1 <- conv1\r\n",
        "I0323 19:43:50.749310 2077332224 net.cpp:356] pool1 -> pool1\r\n",
        "I0323 19:43:50.749320 2077332224 net.cpp:96] Setting up pool1\r\n",
        "I0323 19:43:50.749336 2077332224 net.cpp:103] Top shape: 64 20 8 8 (81920)\r\n",
        "I0323 19:43:50.749341 2077332224 layer_factory.hpp:78] Creating layer conv2\r\n",
        "I0323 19:43:50.749349 2077332224 net.cpp:67] Creating Layer conv2\r\n",
        "I0323 19:43:50.749363 2077332224 net.cpp:394] conv2 <- pool1\r\n",
        "I0323 19:43:50.749371 2077332224 net.cpp:356] conv2 -> conv2\r\n",
        "I0323 19:43:50.749378 2077332224 net.cpp:96] Setting up conv2\r\n",
        "I0323 19:43:50.749619 2077332224 net.cpp:103] Top shape: 64 50 4 4 (51200)\r\n",
        "I0323 19:43:50.749632 2077332224 layer_factory.hpp:78] Creating layer pool2\r\n",
        "I0323 19:43:50.749642 2077332224 net.cpp:67] Creating Layer pool2\r\n",
        "I0323 19:43:50.749649 2077332224 net.cpp:394] pool2 <- conv2\r\n",
        "I0323 19:43:50.749655 2077332224 net.cpp:356] pool2 -> pool2\r\n",
        "I0323 19:43:50.749661 2077332224 net.cpp:96] Setting up pool2\r\n",
        "I0323 19:43:50.749667 2077332224 net.cpp:103] Top shape: 64 50 2 2 (12800)\r\n",
        "I0323 19:43:50.749672 2077332224 layer_factory.hpp:78] Creating layer ip1\r\n",
        "I0323 19:43:50.749682 2077332224 net.cpp:67] Creating Layer ip1\r\n",
        "I0323 19:43:50.749687 2077332224 net.cpp:394] ip1 <- pool2\r\n",
        "I0323 19:43:50.749694 2077332224 net.cpp:356] ip1 -> ip1\r\n",
        "I0323 19:43:50.749701 2077332224 net.cpp:96] Setting up ip1\r\n",
        "I0323 19:43:50.750691 2077332224 net.cpp:103] Top shape: 64 500 1 1 (32000)\r\n",
        "I0323 19:43:50.750705 2077332224 layer_factory.hpp:78] Creating layer relu1\r\n",
        "I0323 19:43:50.750711 2077332224 net.cpp:67] Creating Layer relu1\r\n",
        "I0323 19:43:50.750716 2077332224 net.cpp:394] relu1 <- ip1\r\n",
        "I0323 19:43:50.750725 2077332224 net.cpp:345] relu1 -> ip1 (in-place)\r\n",
        "I0323 19:43:50.750733 2077332224 net.cpp:96] Setting up relu1\r\n",
        "I0323 19:43:50.750738 2077332224 net.cpp:103] Top shape: 64 500 1 1 (32000)\r\n",
        "I0323 19:43:50.750743 2077332224 layer_factory.hpp:78] Creating layer ip2\r\n",
        "I0323 19:43:50.750749 2077332224 net.cpp:67] Creating Layer ip2\r\n",
        "I0323 19:43:50.750754 2077332224 net.cpp:394] ip2 <- ip1\r\n",
        "I0323 19:43:50.750761 2077332224 net.cpp:356] ip2 -> ip2\r\n",
        "I0323 19:43:50.750768 2077332224 net.cpp:96] Setting up ip2\r\n",
        "I0323 19:43:50.750784 2077332224 net.cpp:103] Top shape: 64 2 1 1 (128)\r\n",
        "I0323 19:43:50.750792 2077332224 layer_factory.hpp:78] Creating layer loss\r\n",
        "I0323 19:43:50.750804 2077332224 net.cpp:67] Creating Layer loss\r\n",
        "I0323 19:43:50.750810 2077332224 net.cpp:394] loss <- ip2\r\n",
        "I0323 19:43:50.750815 2077332224 net.cpp:394] loss <- label\r\n",
        "I0323 19:43:50.750821 2077332224 net.cpp:356] loss -> loss\r\n",
        "I0323 19:43:50.750876 2077332224 net.cpp:96] Setting up loss\r\n",
        "I0323 19:43:50.750895 2077332224 net.cpp:103] Top shape: 1 1 1 1 (1)\r\n",
        "I0323 19:43:50.750900 2077332224 net.cpp:109]     with loss weight 1\r\n",
        "I0323 19:43:50.751363 2077332224 net.cpp:170] loss needs backward computation.\r\n",
        "I0323 19:43:50.751371 2077332224 net.cpp:170] ip2 needs backward computation.\r\n",
        "I0323 19:43:50.751376 2077332224 net.cpp:170] relu1 needs backward computation.\r\n",
        "I0323 19:43:50.751380 2077332224 net.cpp:170] ip1 needs backward computation.\r\n",
        "I0323 19:43:50.751385 2077332224 net.cpp:170] pool2 needs backward computation.\r\n",
        "I0323 19:43:50.751390 2077332224 net.cpp:170] conv2 needs backward computation.\r\n",
        "I0323 19:43:50.751395 2077332224 net.cpp:170] pool1 needs backward computation.\r\n",
        "I0323 19:43:50.751399 2077332224 net.cpp:170] conv1 needs backward computation.\r\n",
        "I0323 19:43:50.751405 2077332224 net.cpp:172] mnist does not need backward computation.\r\n",
        "I0323 19:43:50.751410 2077332224 net.cpp:208] This network produces output loss\r\n",
        "I0323 19:43:50.751420 2077332224 net.cpp:467] Collecting Learning Rate and Weight Decay.\r\n",
        "I0323 19:43:50.751427 2077332224 net.cpp:219] Network initialization done.\r\n",
        "I0323 19:43:50.751431 2077332224 net.cpp:220] Memory required for data: 2253572\r\n",
        "I0323 19:43:50.752068 2077332224 solver.cpp:151] Creating test net (#0) specified by net file: examples/R2_hand_classification/tmp_solver/lenet_train_test.prototxt\r\n",
        "I0323 19:43:50.752095 2077332224 net.cpp:275] The NetState phase (1) differed from the phase (0) specified by a rule in layer mnist\r\n",
        "I0323 19:43:50.752110 2077332224 net.cpp:39] Initializing net from parameters: \r\n",
        "name: \"LeNet\"\r\n",
        "layers {\r\n",
        "  top: \"data\"\r\n",
        "  top: \"label\"\r\n",
        "  name: \"mnist\"\r\n",
        "  type: DATA\r\n",
        "  data_param {\r\n",
        "    source: \"/Users/chickenchen/Data/R2_hand/train_palm_binary_20X20/testdb\"\r\n",
        "    batch_size: 10\r\n",
        "    backend: LMDB\r\n",
        "  }\r\n",
        "  include {\r\n",
        "    phase: TEST\r\n",
        "  }\r\n",
        "  transform_param {\r\n",
        "    scale: 0.00390625\r\n",
        "  }\r\n",
        "}\r\n",
        "layers {\r\n",
        "  bottom: \"data\"\r\n",
        "  top: \"conv1\"\r\n",
        "  name: \"conv1\"\r\n",
        "  type: CONVOLUTION\r\n",
        "  blobs_lr: 1\r\n",
        "  blobs_lr: 2\r\n",
        "  convolution_param {\r\n",
        "    num_output: 20\r\n",
        "    kernel_size: 5\r\n",
        "    stride: 1\r\n",
        "    weight_filler {\r\n",
        "      type: \"xavier\"\r\n",
        "    }\r\n",
        "    bias_filler {\r\n",
        "      type: \"constant\"\r\n",
        "    }\r\n",
        "  }\r\n",
        "}\r\n",
        "layers {\r\n",
        "  bottom: \"conv1\"\r\n",
        "  top: \"pool1\"\r\n",
        "  name: \"pool1\"\r\n",
        "  type: POOLING\r\n",
        "  pooling_param {\r\n",
        "    pool: MAX\r\n",
        "    kernel_size: 2\r\n",
        "    stride: 2\r\n",
        "  }\r\n",
        "}\r\n",
        "layers {\r\n",
        "  bottom: \"pool1\"\r\n",
        "  top: \"conv2\"\r\n",
        "  name: \"conv2\"\r\n",
        "  type: CONVOLUTION\r\n",
        "  blobs_lr: 1\r\n",
        "  blobs_lr: 2\r\n",
        "  convolution_param {\r\n",
        "    num_output: 50\r\n",
        "    kernel_size: 5\r\n",
        "    stride: 1\r\n",
        "    weight_filler {\r\n",
        "      type: \"xavier\"\r\n",
        "    }\r\n",
        "    bias_filler {\r\n",
        "      type: \"constant\"\r\n",
        "    }\r\n",
        "  }\r\n",
        "}\r\n",
        "layers {\r\n",
        "  bottom: \"conv2\"\r\n",
        "  top: \"pool2\"\r\n",
        "  name: \"pool2\"\r\n",
        "  type: POOLING\r\n",
        "  pooling_param {\r\n",
        "    pool: MAX\r\n",
        "    kernel_size: 2\r\n",
        "    stride: 2\r\n",
        "  }\r\n",
        "}\r\n",
        "layers {\r\n",
        "  bottom: \"pool2\"\r\n",
        "  top: \"ip1\"\r\n",
        "  name: \"ip1\"\r\n",
        "  type: INNER_PRODUCT\r\n",
        "  blobs_lr: 1\r\n",
        "  blobs_lr: 2\r\n",
        "  inner_product_param {\r\n",
        "    num_output: 500\r\n",
        "    weight_filler {\r\n",
        "      type: \"xavier\"\r\n",
        "    }\r\n",
        "    bias_filler {\r\n",
        "      type: \"constant\"\r\n",
        "    }\r\n",
        "  }\r\n",
        "}\r\n",
        "layers {\r\n",
        "  bottom: \"ip1\"\r\n",
        "  top: \"ip1\"\r\n",
        "  name: \"relu1\"\r\n",
        "  type: RELU\r\n",
        "}\r\n",
        "layers {\r\n",
        "  bottom: \"ip1\"\r\n",
        "  top: \"ip2\"\r\n",
        "  name: \"ip2\"\r\n",
        "  type: INNER_PRODUCT\r\n",
        "  blobs_lr: 1\r\n",
        "  blobs_lr: 2\r\n",
        "  inner_product_param {\r\n",
        "    num_output: 2\r\n",
        "    weight_filler {\r\n",
        "      type: \"xavier\"\r\n",
        "    }\r\n",
        "    bias_filler {\r\n",
        "      type: \"constant\"\r\n",
        "    }\r\n",
        "  }\r\n",
        "}\r\n",
        "layers {\r\n",
        "  bottom: \"ip2\"\r\n",
        "  bottom: \"label\"\r\n",
        "  top: \"accuracy\"\r\n",
        "  name: \"accuracy\"\r\n",
        "  type: ACCURACY\r\n",
        "  include {\r\n",
        "    phase: TEST\r\n",
        "  }\r\n",
        "}\r\n",
        "layers {\r\n",
        "  bottom: \"ip2\"\r\n",
        "  bottom: \"label\"\r\n",
        "  top: \"loss\"\r\n",
        "  name: \"loss\"\r\n",
        "  type: SOFTMAX_LOSS\r\n",
        "}\r\n",
        "state {\r\n",
        "  phase: TEST\r\n",
        "}\r\n",
        "I0323 19:43:50.752682 2077332224 layer_factory.hpp:78] Creating layer mnist\r\n",
        "I0323 19:43:50.752693 2077332224 net.cpp:67] Creating Layer mnist\r\n",
        "I0323 19:43:50.752701 2077332224 net.cpp:356] mnist -> data\r\n",
        "I0323 19:43:50.752710 2077332224 net.cpp:356] mnist -> label\r\n",
        "I0323 19:43:50.752718 2077332224 net.cpp:96] Setting up mnist\r\n",
        "I0323 19:43:50.754286 2077332224 data_layer.cpp:68] Opening lmdb /Users/chickenchen/Data/R2_hand/train_palm_binary_20X20/testdb\r\n",
        "I0323 19:43:50.754897 2077332224 data_layer.cpp:131] output data size: 10,1,20,20\r\n",
        "I0323 19:43:50.754976 2077332224 net.cpp:103] Top shape: 10 1 20 20 (4000)\r\n",
        "I0323 19:43:50.754984 2077332224 net.cpp:103] Top shape: 10 1 1 1 (10)\r\n",
        "I0323 19:43:50.754989 2077332224 layer_factory.hpp:78] Creating layer label_mnist_1_split\r\n",
        "I0323 19:43:50.754997 2077332224 net.cpp:67] Creating Layer label_mnist_1_split\r\n",
        "I0323 19:43:50.755002 2077332224 net.cpp:394] label_mnist_1_split <- label\r\n",
        "I0323 19:43:50.755009 2077332224 net.cpp:356] label_mnist_1_split -> label_mnist_1_split_0\r\n",
        "I0323 19:43:50.755018 2077332224 net.cpp:356] label_mnist_1_split -> label_mnist_1_split_1\r\n",
        "I0323 19:43:50.755028 2077332224 net.cpp:96] Setting up label_mnist_1_split\r\n",
        "I0323 19:43:50.755035 2077332224 net.cpp:103] Top shape: 10 1 1 1 (10)\r\n",
        "I0323 19:43:50.755040 2077332224 net.cpp:103] Top shape: 10 1 1 1 (10)\r\n",
        "I0323 19:43:50.755045 2077332224 layer_factory.hpp:78] Creating layer conv1\r\n",
        "I0323 19:43:50.755053 2077332224 net.cpp:67] Creating Layer conv1\r\n",
        "I0323 19:43:50.755059 2077332224 net.cpp:394] conv1 <- data\r\n",
        "I0323 19:43:50.755065 2077332224 net.cpp:356] conv1 -> conv1\r\n",
        "I0323 19:43:50.755188 2077332224 net.cpp:96] Setting up conv1\r\n",
        "I0323 19:43:50.755206 2077332224 net.cpp:103] Top shape: 10 20 16 16 (51200)\r\n",
        "I0323 19:43:50.755216 2077332224 layer_factory.hpp:78] Creating layer pool1\r\n",
        "I0323 19:43:50.755223 2077332224 net.cpp:67] Creating Layer pool1\r\n",
        "I0323 19:43:50.755228 2077332224 net.cpp:394] pool1 <- conv1\r\n",
        "I0323 19:43:50.755234 2077332224 net.cpp:356] pool1 -> pool1\r\n",
        "I0323 19:43:50.755241 2077332224 net.cpp:96] Setting up pool1\r\n",
        "I0323 19:43:50.755249 2077332224 net.cpp:103] Top shape: 10 20 8 8 (12800)\r\n",
        "I0323 19:43:50.755267 2077332224 layer_factory.hpp:78] Creating layer conv2\r\n",
        "I0323 19:43:50.755275 2077332224 net.cpp:67] Creating Layer conv2\r\n",
        "I0323 19:43:50.755280 2077332224 net.cpp:394] conv2 <- pool1\r\n",
        "I0323 19:43:50.755287 2077332224 net.cpp:356] conv2 -> conv2\r\n",
        "I0323 19:43:50.755295 2077332224 net.cpp:96] Setting up conv2\r\n",
        "I0323 19:43:50.755540 2077332224 net.cpp:103] Top shape: 10 50 4 4 (8000)\r\n",
        "I0323 19:43:50.755553 2077332224 layer_factory.hpp:78] Creating layer pool2\r\n",
        "I0323 19:43:50.755559 2077332224 net.cpp:67] Creating Layer pool2\r\n",
        "I0323 19:43:50.755564 2077332224 net.cpp:394] pool2 <- conv2\r\n",
        "I0323 19:43:50.755571 2077332224 net.cpp:356] pool2 -> pool2\r\n",
        "I0323 19:43:50.755578 2077332224 net.cpp:96] Setting up pool2\r\n",
        "I0323 19:43:50.755584 2077332224 net.cpp:103] Top shape: 10 50 2 2 (2000)\r\n",
        "I0323 19:43:50.755589 2077332224 layer_factory.hpp:78] Creating layer ip1\r\n",
        "I0323 19:43:50.755596 2077332224 net.cpp:67] Creating Layer ip1\r\n",
        "I0323 19:43:50.755601 2077332224 net.cpp:394] ip1 <- pool2\r\n",
        "I0323 19:43:50.755607 2077332224 net.cpp:356] ip1 -> ip1\r\n",
        "I0323 19:43:50.755615 2077332224 net.cpp:96] Setting up ip1\r\n",
        "I0323 19:43:50.756600 2077332224 net.cpp:103] Top shape: 10 500 1 1 (5000)\r\n",
        "I0323 19:43:50.756613 2077332224 layer_factory.hpp:78] Creating layer relu1\r\n",
        "I0323 19:43:50.756620 2077332224 net.cpp:67] Creating Layer relu1\r\n",
        "I0323 19:43:50.756625 2077332224 net.cpp:394] relu1 <- ip1\r\n",
        "I0323 19:43:50.756631 2077332224 net.cpp:345] relu1 -> ip1 (in-place)\r\n",
        "I0323 19:43:50.756639 2077332224 net.cpp:96] Setting up relu1\r\n",
        "I0323 19:43:50.756644 2077332224 net.cpp:103] Top shape: 10 500 1 1 (5000)\r\n",
        "I0323 19:43:50.756649 2077332224 layer_factory.hpp:78] Creating layer ip2\r\n",
        "I0323 19:43:50.756655 2077332224 net.cpp:67] Creating Layer ip2\r\n",
        "I0323 19:43:50.756660 2077332224 net.cpp:394] ip2 <- ip1\r\n",
        "I0323 19:43:50.756667 2077332224 net.cpp:356] ip2 -> ip2\r\n",
        "I0323 19:43:50.756675 2077332224 net.cpp:96] Setting up ip2\r\n",
        "I0323 19:43:50.756691 2077332224 net.cpp:103] Top shape: 10 2 1 1 (20)\r\n",
        "I0323 19:43:50.756700 2077332224 layer_factory.hpp:78] Creating layer ip2_ip2_0_split\r\n",
        "I0323 19:43:50.756705 2077332224 net.cpp:67] Creating Layer ip2_ip2_0_split\r\n",
        "I0323 19:43:50.756711 2077332224 net.cpp:394] ip2_ip2_0_split <- ip2\r\n",
        "I0323 19:43:50.756716 2077332224 net.cpp:356] ip2_ip2_0_split -> ip2_ip2_0_split_0\r\n",
        "I0323 19:43:50.756849 2077332224 net.cpp:356] ip2_ip2_0_split -> ip2_ip2_0_split_1\r\n",
        "I0323 19:43:50.756866 2077332224 net.cpp:96] Setting up ip2_ip2_0_split\r\n",
        "I0323 19:43:50.756873 2077332224 net.cpp:103] Top shape: 10 2 1 1 (20)\r\n",
        "I0323 19:43:50.756878 2077332224 net.cpp:103] Top shape: 10 2 1 1 (20)\r\n",
        "I0323 19:43:50.756883 2077332224 layer_factory.hpp:78] Creating layer accuracy\r\n",
        "I0323 19:43:50.756891 2077332224 net.cpp:67] Creating Layer accuracy\r\n",
        "I0323 19:43:50.756896 2077332224 net.cpp:394] accuracy <- ip2_ip2_0_split_0\r\n",
        "I0323 19:43:50.756901 2077332224 net.cpp:394] accuracy <- label_mnist_1_split_0\r\n",
        "I0323 19:43:50.756908 2077332224 net.cpp:356] accuracy -> accuracy\r\n",
        "I0323 19:43:50.756916 2077332224 net.cpp:96] Setting up accuracy\r\n",
        "I0323 19:43:50.756922 2077332224 net.cpp:103] Top shape: 1 1 1 1 (1)\r\n",
        "I0323 19:43:50.756927 2077332224 layer_factory.hpp:78] Creating layer loss\r\n",
        "I0323 19:43:50.756934 2077332224 net.cpp:67] Creating Layer loss\r\n",
        "I0323 19:43:50.756939 2077332224 net.cpp:394] loss <- ip2_ip2_0_split_1\r\n",
        "I0323 19:43:50.756994 2077332224 net.cpp:394] loss <- label_mnist_1_split_1\r\n",
        "I0323 19:43:50.757009 2077332224 net.cpp:356] loss -> loss\r\n",
        "I0323 19:43:50.757019 2077332224 net.cpp:96] Setting up loss\r\n",
        "I0323 19:43:50.757030 2077332224 net.cpp:103] Top shape: 1 1 1 1 (1)\r\n",
        "I0323 19:43:50.757037 2077332224 net.cpp:109]     with loss weight 1\r\n",
        "I0323 19:43:50.757046 2077332224 net.cpp:170] loss needs backward computation.\r\n",
        "I0323 19:43:50.757051 2077332224 net.cpp:172] accuracy does not need backward computation.\r\n",
        "I0323 19:43:50.757056 2077332224 net.cpp:170] ip2_ip2_0_split needs backward computation.\r\n",
        "I0323 19:43:50.757061 2077332224 net.cpp:170] ip2 needs backward computation.\r\n",
        "I0323 19:43:50.757066 2077332224 net.cpp:170] relu1 needs backward computation.\r\n",
        "I0323 19:43:50.757071 2077332224 net.cpp:170] ip1 needs backward computation.\r\n",
        "I0323 19:43:50.757091 2077332224 net.cpp:170] pool2 needs backward computation.\r\n",
        "I0323 19:43:50.757097 2077332224 net.cpp:170] conv2 needs backward computation.\r\n",
        "I0323 19:43:50.757135 2077332224 net.cpp:170] pool1 needs backward computation.\r\n",
        "I0323 19:43:50.757141 2077332224 net.cpp:170] conv1 needs backward computation.\r\n",
        "I0323 19:43:50.757146 2077332224 net.cpp:172] label_mnist_1_split does not need backward computation.\r\n",
        "I0323 19:43:50.757151 2077332224 net.cpp:172] mnist does not need backward computation.\r\n",
        "I0323 19:43:50.757155 2077332224 net.cpp:208] This network produces output accuracy\r\n",
        "I0323 19:43:50.757160 2077332224 net.cpp:208] This network produces output loss\r\n",
        "I0323 19:43:50.757171 2077332224 net.cpp:467] Collecting Learning Rate and Weight Decay.\r\n",
        "I0323 19:43:50.757177 2077332224 net.cpp:219] Network initialization done.\r\n",
        "I0323 19:43:50.757181 2077332224 net.cpp:220] Memory required for data: 352368\r\n",
        "I0323 19:43:50.757230 2077332224 solver.cpp:41] Solver scaffolding done.\r\n",
        "I0323 19:43:50.757241 2077332224 solver.cpp:160] Solving LeNet\r\n",
        "I0323 19:43:50.757264 2077332224 solver.cpp:263] Iteration 0, Testing net (#0)\r\n"
       ]
      },
      {
       "output_type": "stream",
       "stream": "stdout",
       "text": [
        "I0323 19:43:50.907990 2077332224 solver.cpp:314]     Test net output #0: accuracy = 0.359\r\n",
        "I0323 19:43:50.908026 2077332224 solver.cpp:314]     Test net output #1: loss = 0.694446 (* 1 = 0.694446 loss)\r\n"
       ]
      },
      {
       "output_type": "stream",
       "stream": "stdout",
       "text": [
        "I0323 19:43:50.930137 2077332224 solver.cpp:207] Iteration 0, loss = 0.692461\r\n",
        "I0323 19:43:50.930186 2077332224 solver.cpp:222]     Train net output #0: loss = 0.692461 (* 1 = 0.692461 loss)\r\n",
        "I0323 19:43:50.930203 2077332224 solver.cpp:419] Iteration 0, lr = 0.01\r\n"
       ]
      },
      {
       "output_type": "stream",
       "stream": "stdout",
       "text": [
        "I0323 19:43:52.905382 2077332224 solver.cpp:207] Iteration 100, loss = 0.47588\r\n",
        "I0323 19:43:52.905421 2077332224 solver.cpp:222]     Train net output #0: loss = 0.47588 (* 1 = 0.47588 loss)\r\n",
        "I0323 19:43:52.905431 2077332224 solver.cpp:419] Iteration 100, lr = 0.00992565\r\n"
       ]
      },
      {
       "output_type": "stream",
       "stream": "stdout",
       "text": [
        "I0323 19:43:54.881785 2077332224 solver.cpp:207] Iteration 200, loss = 0.359081\r\n",
        "I0323 19:43:54.881824 2077332224 solver.cpp:222]     Train net output #0: loss = 0.359081 (* 1 = 0.359081 loss)\r\n",
        "I0323 19:43:54.881834 2077332224 solver.cpp:419] Iteration 200, lr = 0.00985258\r\n"
       ]
      },
      {
       "output_type": "stream",
       "stream": "stdout",
       "text": [
        "I0323 19:43:56.858909 2077332224 solver.cpp:207] Iteration 300, loss = 0.242455\r\n",
        "I0323 19:43:56.858957 2077332224 solver.cpp:222]     Train net output #0: loss = 0.242455 (* 1 = 0.242455 loss)\r\n",
        "I0323 19:43:56.858966 2077332224 solver.cpp:419] Iteration 300, lr = 0.00978075\r\n"
       ]
      },
      {
       "output_type": "stream",
       "stream": "stdout",
       "text": [
        "I0323 19:43:58.836174 2077332224 solver.cpp:207] Iteration 400, loss = 0.241253\r\n",
        "I0323 19:43:58.836211 2077332224 solver.cpp:222]     Train net output #0: loss = 0.241253 (* 1 = 0.241253 loss)\r\n",
        "I0323 19:43:58.836221 2077332224 solver.cpp:419] Iteration 400, lr = 0.00971013\r\n"
       ]
      },
      {
       "output_type": "stream",
       "stream": "stdout",
       "text": [
        "I0323 19:44:00.775391 2077332224 solver.cpp:263] Iteration 500, Testing net (#0)\r\n"
       ]
      },
      {
       "output_type": "stream",
       "stream": "stdout",
       "text": [
        "I0323 19:44:00.925155 2077332224 solver.cpp:314]     Test net output #0: accuracy = 0.831\r\n",
        "I0323 19:44:00.925189 2077332224 solver.cpp:314]     Test net output #1: loss = 0.353628 (* 1 = 0.353628 loss)\r\n",
        "I0323 19:44:00.944005 2077332224 solver.cpp:207] Iteration 500, loss = 0.187264\r\n",
        "I0323 19:44:00.944048 2077332224 solver.cpp:222]     Train net output #0: loss = 0.187264 (* 1 = 0.187264 loss)\r\n",
        "I0323 19:44:00.944058 2077332224 solver.cpp:419] Iteration 500, lr = 0.00964069\r\n"
       ]
      },
      {
       "output_type": "stream",
       "stream": "stdout",
       "text": [
        "I0323 19:44:02.971381 2077332224 solver.cpp:207] Iteration 600, loss = 0.154701\r\n",
        "I0323 19:44:02.971422 2077332224 solver.cpp:222]     Train net output #0: loss = 0.154701 (* 1 = 0.154701 loss)\r\n",
        "I0323 19:44:02.971432 2077332224 solver.cpp:419] Iteration 600, lr = 0.0095724\r\n"
       ]
      },
      {
       "output_type": "stream",
       "stream": "stdout",
       "text": [
        "I0323 19:44:04.949045 2077332224 solver.cpp:207] Iteration 700, loss = 0.186487\r\n",
        "I0323 19:44:04.949095 2077332224 solver.cpp:222]     Train net output #0: loss = 0.186487 (* 1 = 0.186487 loss)\r\n",
        "I0323 19:44:04.949110 2077332224 solver.cpp:419] Iteration 700, lr = 0.00950522\r\n"
       ]
      },
      {
       "output_type": "stream",
       "stream": "stdout",
       "text": [
        "I0323 19:44:06.931210 2077332224 solver.cpp:207] Iteration 800, loss = 0.220754\r\n",
        "I0323 19:44:06.931246 2077332224 solver.cpp:222]     Train net output #0: loss = 0.220754 (* 1 = 0.220754 loss)\r\n",
        "I0323 19:44:06.931257 2077332224 solver.cpp:419] Iteration 800, lr = 0.00943913\r\n"
       ]
      },
      {
       "output_type": "stream",
       "stream": "stdout",
       "text": [
        "I0323 19:44:09.040310 2077332224 solver.cpp:207] Iteration 900, loss = 0.196664\r\n",
        "I0323 19:44:09.040350 2077332224 solver.cpp:222]     Train net output #0: loss = 0.196664 (* 1 = 0.196664 loss)\r\n",
        "I0323 19:44:09.040360 2077332224 solver.cpp:419] Iteration 900, lr = 0.00937411\r\n"
       ]
      },
      {
       "output_type": "stream",
       "stream": "stdout",
       "text": [
        "I0323 19:44:11.019564 2077332224 solver.cpp:263] Iteration 1000, Testing net (#0)\r\n"
       ]
      },
      {
       "output_type": "stream",
       "stream": "stdout",
       "text": [
        "I0323 19:44:11.184451 2077332224 solver.cpp:314]     Test net output #0: accuracy = 0.883001\r\n",
        "I0323 19:44:11.184489 2077332224 solver.cpp:314]     Test net output #1: loss = 0.265926 (* 1 = 0.265926 loss)\r\n",
        "I0323 19:44:11.203707 2077332224 solver.cpp:207] Iteration 1000, loss = 0.205194\r\n",
        "I0323 19:44:11.203747 2077332224 solver.cpp:222]     Train net output #0: loss = 0.205194 (* 1 = 0.205194 loss)\r\n",
        "I0323 19:44:11.203758 2077332224 solver.cpp:419] Iteration 1000, lr = 0.00931012\r\n"
       ]
      },
      {
       "output_type": "stream",
       "stream": "stdout",
       "text": [
        "I0323 19:44:13.186125 2077332224 solver.cpp:207] Iteration 1100, loss = 0.136678\r\n",
        "I0323 19:44:13.186177 2077332224 solver.cpp:222]     Train net output #0: loss = 0.136678 (* 1 = 0.136678 loss)\r\n",
        "I0323 19:44:13.186185 2077332224 solver.cpp:419] Iteration 1100, lr = 0.00924715\r\n"
       ]
      },
      {
       "output_type": "stream",
       "stream": "stdout",
       "text": [
        "I0323 19:44:15.322345 2077332224 solver.cpp:207] Iteration 1200, loss = 0.158204\r\n",
        "I0323 19:44:15.322386 2077332224 solver.cpp:222]     Train net output #0: loss = 0.158204 (* 1 = 0.158204 loss)\r\n",
        "I0323 19:44:15.322396 2077332224 solver.cpp:419] Iteration 1200, lr = 0.00918515\r\n"
       ]
      },
      {
       "output_type": "stream",
       "stream": "stdout",
       "text": [
        "I0323 19:44:17.328552 2077332224 solver.cpp:207] Iteration 1300, loss = 0.108806\r\n",
        "I0323 19:44:17.328591 2077332224 solver.cpp:222]     Train net output #0: loss = 0.108806 (* 1 = 0.108806 loss)\r\n",
        "I0323 19:44:17.328603 2077332224 solver.cpp:419] Iteration 1300, lr = 0.00912412\r\n"
       ]
      },
      {
       "output_type": "stream",
       "stream": "stdout",
       "text": [
        "I0323 19:44:19.334475 2077332224 solver.cpp:207] Iteration 1400, loss = 0.208472\r\n",
        "I0323 19:44:19.334516 2077332224 solver.cpp:222]     Train net output #0: loss = 0.208472 (* 1 = 0.208472 loss)\r\n",
        "I0323 19:44:19.334525 2077332224 solver.cpp:419] Iteration 1400, lr = 0.00906403\r\n"
       ]
      },
      {
       "output_type": "stream",
       "stream": "stdout",
       "text": [
        "I0323 19:44:21.272428 2077332224 solver.cpp:263] Iteration 1500, Testing net (#0)\r\n"
       ]
      },
      {
       "output_type": "stream",
       "stream": "stdout",
       "text": [
        "I0323 19:44:21.429466 2077332224 solver.cpp:314]     Test net output #0: accuracy = 0.901\r\n",
        "I0323 19:44:21.429503 2077332224 solver.cpp:314]     Test net output #1: loss = 0.256884 (* 1 = 0.256884 loss)\r\n",
        "I0323 19:44:21.448647 2077332224 solver.cpp:207] Iteration 1500, loss = 0.165729\r\n",
        "I0323 19:44:21.448693 2077332224 solver.cpp:222]     Train net output #0: loss = 0.165729 (* 1 = 0.165729 loss)\r\n",
        "I0323 19:44:21.448704 2077332224 solver.cpp:419] Iteration 1500, lr = 0.00900485\r\n"
       ]
      },
      {
       "output_type": "stream",
       "stream": "stdout",
       "text": [
        "I0323 19:44:23.437032 2077332224 solver.cpp:207] Iteration 1600, loss = 0.110143\r\n",
        "I0323 19:44:23.437073 2077332224 solver.cpp:222]     Train net output #0: loss = 0.110143 (* 1 = 0.110143 loss)\r\n",
        "I0323 19:44:23.437083 2077332224 solver.cpp:419] Iteration 1600, lr = 0.00894657\r\n"
       ]
      },
      {
       "output_type": "stream",
       "stream": "stdout",
       "text": [
        "I0323 19:44:25.401324 2077332224 solver.cpp:207] Iteration 1700, loss = 0.0947345\r\n",
        "I0323 19:44:25.401384 2077332224 solver.cpp:222]     Train net output #0: loss = 0.0947345 (* 1 = 0.0947345 loss)\r\n",
        "I0323 19:44:25.401394 2077332224 solver.cpp:419] Iteration 1700, lr = 0.00888916\r\n"
       ]
      },
      {
       "output_type": "stream",
       "stream": "stdout",
       "text": [
        "I0323 19:44:27.367236 2077332224 solver.cpp:207] Iteration 1800, loss = 0.147119\r\n",
        "I0323 19:44:27.367279 2077332224 solver.cpp:222]     Train net output #0: loss = 0.147119 (* 1 = 0.147119 loss)\r\n",
        "I0323 19:44:27.367290 2077332224 solver.cpp:419] Iteration 1800, lr = 0.0088326\r\n"
       ]
      },
      {
       "output_type": "stream",
       "stream": "stdout",
       "text": [
        "I0323 19:44:29.376627 2077332224 solver.cpp:207] Iteration 1900, loss = 0.162888\r\n",
        "I0323 19:44:29.376673 2077332224 solver.cpp:222]     Train net output #0: loss = 0.162888 (* 1 = 0.162888 loss)\r\n",
        "I0323 19:44:29.376683 2077332224 solver.cpp:419] Iteration 1900, lr = 0.00877687\r\n"
       ]
      },
      {
       "output_type": "stream",
       "stream": "stdout",
       "text": [
        "I0323 19:44:31.337508 2077332224 solver.cpp:263] Iteration 2000, Testing net (#0)\r\n"
       ]
      },
      {
       "output_type": "stream",
       "stream": "stdout",
       "text": [
        "I0323 19:44:31.497722 2077332224 solver.cpp:314]     Test net output #0: accuracy = 0.926\r\n",
        "I0323 19:44:31.497761 2077332224 solver.cpp:314]     Test net output #1: loss = 0.184429 (* 1 = 0.184429 loss)\r\n"
       ]
      },
      {
       "output_type": "stream",
       "stream": "stdout",
       "text": [
        "I0323 19:44:31.525323 2077332224 solver.cpp:207] Iteration 2000, loss = 0.100233\r\n",
        "I0323 19:44:31.525365 2077332224 solver.cpp:222]     Train net output #0: loss = 0.100233 (* 1 = 0.100233 loss)\r\n",
        "I0323 19:44:31.525377 2077332224 solver.cpp:419] Iteration 2000, lr = 0.00872196\r\n"
       ]
      },
      {
       "output_type": "stream",
       "stream": "stdout",
       "text": [
        "I0323 19:44:33.477191 2077332224 solver.cpp:207] Iteration 2100, loss = 0.0707281\r\n",
        "I0323 19:44:33.477233 2077332224 solver.cpp:222]     Train net output #0: loss = 0.0707281 (* 1 = 0.0707281 loss)\r\n",
        "I0323 19:44:33.477243 2077332224 solver.cpp:419] Iteration 2100, lr = 0.00866784\r\n"
       ]
      },
      {
       "output_type": "stream",
       "stream": "stdout",
       "text": [
        "I0323 19:44:35.425958 2077332224 solver.cpp:207] Iteration 2200, loss = 0.178604\r\n",
        "I0323 19:44:35.426007 2077332224 solver.cpp:222]     Train net output #0: loss = 0.178604 (* 1 = 0.178604 loss)\r\n",
        "I0323 19:44:35.426018 2077332224 solver.cpp:419] Iteration 2200, lr = 0.0086145\r\n"
       ]
      },
      {
       "output_type": "stream",
       "stream": "stdout",
       "text": [
        "I0323 19:44:37.375370 2077332224 solver.cpp:207] Iteration 2300, loss = 0.200947\r\n",
        "I0323 19:44:37.375411 2077332224 solver.cpp:222]     Train net output #0: loss = 0.200947 (* 1 = 0.200947 loss)\r\n",
        "I0323 19:44:37.375422 2077332224 solver.cpp:419] Iteration 2300, lr = 0.00856192\r\n"
       ]
      },
      {
       "output_type": "stream",
       "stream": "stdout",
       "text": [
        "I0323 19:44:39.332942 2077332224 solver.cpp:207] Iteration 2400, loss = 0.0964792\r\n",
        "I0323 19:44:39.332985 2077332224 solver.cpp:222]     Train net output #0: loss = 0.0964791 (* 1 = 0.0964791 loss)\r\n",
        "I0323 19:44:39.332995 2077332224 solver.cpp:419] Iteration 2400, lr = 0.00851008\r\n"
       ]
      },
      {
       "output_type": "stream",
       "stream": "stdout",
       "text": [
        "I0323 19:44:41.306478 2077332224 solver.cpp:263] Iteration 2500, Testing net (#0)\r\n"
       ]
      },
      {
       "output_type": "stream",
       "stream": "stdout",
       "text": [
        "I0323 19:44:41.464323 2077332224 solver.cpp:314]     Test net output #0: accuracy = 0.927\r\n",
        "I0323 19:44:41.464359 2077332224 solver.cpp:314]     Test net output #1: loss = 0.177671 (* 1 = 0.177671 loss)\r\n",
        "I0323 19:44:41.483292 2077332224 solver.cpp:207] Iteration 2500, loss = 0.0941818\r\n",
        "I0323 19:44:41.483351 2077332224 solver.cpp:222]     Train net output #0: loss = 0.0941818 (* 1 = 0.0941818 loss)\r\n",
        "I0323 19:44:41.483361 2077332224 solver.cpp:419] Iteration 2500, lr = 0.00845897\r\n"
       ]
      },
      {
       "output_type": "stream",
       "stream": "stdout",
       "text": [
        "I0323 19:44:43.441519 2077332224 solver.cpp:207] Iteration 2600, loss = 0.133788\r\n",
        "I0323 19:44:43.441561 2077332224 solver.cpp:222]     Train net output #0: loss = 0.133788 (* 1 = 0.133788 loss)\r\n",
        "I0323 19:44:43.441572 2077332224 solver.cpp:419] Iteration 2600, lr = 0.00840857\r\n"
       ]
      },
      {
       "output_type": "stream",
       "stream": "stdout",
       "text": [
        "I0323 19:44:45.489352 2077332224 solver.cpp:207] Iteration 2700, loss = 0.125257\r\n",
        "I0323 19:44:45.489416 2077332224 solver.cpp:222]     Train net output #0: loss = 0.125257 (* 1 = 0.125257 loss)\r\n",
        "I0323 19:44:45.489428 2077332224 solver.cpp:419] Iteration 2700, lr = 0.00835886\r\n"
       ]
      },
      {
       "output_type": "stream",
       "stream": "stdout",
       "text": [
        "I0323 19:44:47.501734 2077332224 solver.cpp:207] Iteration 2800, loss = 0.145762\r\n",
        "I0323 19:44:47.501775 2077332224 solver.cpp:222]     Train net output #0: loss = 0.145762 (* 1 = 0.145762 loss)\r\n",
        "I0323 19:44:47.501786 2077332224 solver.cpp:419] Iteration 2800, lr = 0.00830984\r\n"
       ]
      },
      {
       "output_type": "stream",
       "stream": "stdout",
       "text": [
        "I0323 19:44:49.483934 2077332224 solver.cpp:207] Iteration 2900, loss = 0.136391\r\n",
        "I0323 19:44:49.483984 2077332224 solver.cpp:222]     Train net output #0: loss = 0.136391 (* 1 = 0.136391 loss)\r\n",
        "I0323 19:44:49.483994 2077332224 solver.cpp:419] Iteration 2900, lr = 0.00826148\r\n"
       ]
      },
      {
       "output_type": "stream",
       "stream": "stdout",
       "text": [
        "I0323 19:44:51.508878 2077332224 solver.cpp:263] Iteration 3000, Testing net (#0)\r\n"
       ]
      },
      {
       "output_type": "stream",
       "stream": "stdout",
       "text": [
        "I0323 19:44:51.659178 2077332224 solver.cpp:314]     Test net output #0: accuracy = 0.952\r\n",
        "I0323 19:44:51.659216 2077332224 solver.cpp:314]     Test net output #1: loss = 0.111899 (* 1 = 0.111899 loss)\r\n",
        "I0323 19:44:51.678170 2077332224 solver.cpp:207] Iteration 3000, loss = 0.106577\r\n",
        "I0323 19:44:51.678212 2077332224 solver.cpp:222]     Train net output #0: loss = 0.106577 (* 1 = 0.106577 loss)\r\n",
        "I0323 19:44:51.678222 2077332224 solver.cpp:419] Iteration 3000, lr = 0.00821377\r\n"
       ]
      },
      {
       "output_type": "stream",
       "stream": "stdout",
       "text": [
        "I0323 19:44:53.687911 2077332224 solver.cpp:207] Iteration 3100, loss = 0.115503\r\n",
        "I0323 19:44:53.687953 2077332224 solver.cpp:222]     Train net output #0: loss = 0.115503 (* 1 = 0.115503 loss)\r\n",
        "I0323 19:44:53.687963 2077332224 solver.cpp:419] Iteration 3100, lr = 0.0081667\r\n"
       ]
      },
      {
       "output_type": "stream",
       "stream": "stdout",
       "text": [
        "I0323 19:44:55.672229 2077332224 solver.cpp:207] Iteration 3200, loss = 0.0881797\r\n",
        "I0323 19:44:55.672271 2077332224 solver.cpp:222]     Train net output #0: loss = 0.0881797 (* 1 = 0.0881797 loss)\r\n",
        "I0323 19:44:55.672279 2077332224 solver.cpp:419] Iteration 3200, lr = 0.00812025\r\n"
       ]
      },
      {
       "output_type": "stream",
       "stream": "stdout",
       "text": [
        "I0323 19:44:57.690162 2077332224 solver.cpp:207] Iteration 3300, loss = 0.115194\r\n",
        "I0323 19:44:57.690202 2077332224 solver.cpp:222]     Train net output #0: loss = 0.115194 (* 1 = 0.115194 loss)\r\n",
        "I0323 19:44:57.690212 2077332224 solver.cpp:419] Iteration 3300, lr = 0.00807442\r\n"
       ]
      },
      {
       "output_type": "stream",
       "stream": "stdout",
       "text": [
        "I0323 19:44:59.743566 2077332224 solver.cpp:207] Iteration 3400, loss = 0.111277\r\n",
        "I0323 19:44:59.743608 2077332224 solver.cpp:222]     Train net output #0: loss = 0.111277 (* 1 = 0.111277 loss)\r\n",
        "I0323 19:44:59.743619 2077332224 solver.cpp:419] Iteration 3400, lr = 0.00802918\r\n"
       ]
      },
      {
       "output_type": "stream",
       "stream": "stdout",
       "text": [
        "I0323 19:45:01.722900 2077332224 solver.cpp:263] Iteration 3500, Testing net (#0)\r\n"
       ]
      },
      {
       "output_type": "stream",
       "stream": "stdout",
       "text": [
        "I0323 19:45:01.877718 2077332224 solver.cpp:314]     Test net output #0: accuracy = 0.92\r\n",
        "I0323 19:45:01.877754 2077332224 solver.cpp:314]     Test net output #1: loss = 0.236341 (* 1 = 0.236341 loss)\r\n",
        "I0323 19:45:01.896837 2077332224 solver.cpp:207] Iteration 3500, loss = 0.104689\r\n",
        "I0323 19:45:01.896879 2077332224 solver.cpp:222]     Train net output #0: loss = 0.104689 (* 1 = 0.104689 loss)\r\n",
        "I0323 19:45:01.896888 2077332224 solver.cpp:419] Iteration 3500, lr = 0.00798454\r\n"
       ]
      },
      {
       "output_type": "stream",
       "stream": "stdout",
       "text": [
        "I0323 19:45:03.971627 2077332224 solver.cpp:207] Iteration 3600, loss = 0.164288\r\n",
        "I0323 19:45:03.971671 2077332224 solver.cpp:222]     Train net output #0: loss = 0.164288 (* 1 = 0.164288 loss)\r\n",
        "I0323 19:45:03.971681 2077332224 solver.cpp:419] Iteration 3600, lr = 0.00794046\r\n"
       ]
      },
      {
       "output_type": "stream",
       "stream": "stdout",
       "text": [
        "I0323 19:45:06.184346 2077332224 solver.cpp:207] Iteration 3700, loss = 0.0781331\r\n",
        "I0323 19:45:06.184387 2077332224 solver.cpp:222]     Train net output #0: loss = 0.0781331 (* 1 = 0.0781331 loss)\r\n",
        "I0323 19:45:06.184397 2077332224 solver.cpp:419] Iteration 3700, lr = 0.00789695\r\n"
       ]
      },
      {
       "output_type": "stream",
       "stream": "stdout",
       "text": [
        "I0323 19:45:08.275899 2077332224 solver.cpp:207] Iteration 3800, loss = 0.0876983\r\n",
        "I0323 19:45:08.275945 2077332224 solver.cpp:222]     Train net output #0: loss = 0.0876984 (* 1 = 0.0876984 loss)\r\n",
        "I0323 19:45:08.275956 2077332224 solver.cpp:419] Iteration 3800, lr = 0.007854\r\n"
       ]
      },
      {
       "output_type": "stream",
       "stream": "stdout",
       "text": [
        "I0323 19:45:10.274377 2077332224 solver.cpp:207] Iteration 3900, loss = 0.10846\r\n",
        "I0323 19:45:10.274420 2077332224 solver.cpp:222]     Train net output #0: loss = 0.108461 (* 1 = 0.108461 loss)\r\n",
        "I0323 19:45:10.274430 2077332224 solver.cpp:419] Iteration 3900, lr = 0.00781158\r\n"
       ]
      },
      {
       "output_type": "stream",
       "stream": "stdout",
       "text": [
        "I0323 19:45:12.299110 2077332224 solver.cpp:263] Iteration 4000, Testing net (#0)\r\n"
       ]
      },
      {
       "output_type": "stream",
       "stream": "stdout",
       "text": [
        "I0323 19:45:12.451097 2077332224 solver.cpp:314]     Test net output #0: accuracy = 0.942\r\n",
        "I0323 19:45:12.451139 2077332224 solver.cpp:314]     Test net output #1: loss = 0.132062 (* 1 = 0.132062 loss)\r\n"
       ]
      },
      {
       "output_type": "stream",
       "stream": "stdout",
       "text": [
        "I0323 19:45:12.471184 2077332224 solver.cpp:207] Iteration 4000, loss = 0.0898707\r\n",
        "I0323 19:45:12.471226 2077332224 solver.cpp:222]     Train net output #0: loss = 0.0898708 (* 1 = 0.0898708 loss)\r\n",
        "I0323 19:45:12.471236 2077332224 solver.cpp:419] Iteration 4000, lr = 0.0077697\r\n"
       ]
      },
      {
       "output_type": "stream",
       "stream": "stdout",
       "text": [
        "I0323 19:45:14.590286 2077332224 solver.cpp:207] Iteration 4100, loss = 0.117437\r\n",
        "I0323 19:45:14.590327 2077332224 solver.cpp:222]     Train net output #0: loss = 0.117437 (* 1 = 0.117437 loss)\r\n",
        "I0323 19:45:14.590338 2077332224 solver.cpp:419] Iteration 4100, lr = 0.00772833\r\n"
       ]
      },
      {
       "output_type": "stream",
       "stream": "stdout",
       "text": [
        "I0323 19:45:16.727952 2077332224 solver.cpp:207] Iteration 4200, loss = 0.0467\r\n",
        "I0323 19:45:16.728029 2077332224 solver.cpp:222]     Train net output #0: loss = 0.0467001 (* 1 = 0.0467001 loss)\r\n",
        "I0323 19:45:16.728040 2077332224 solver.cpp:419] Iteration 4200, lr = 0.00768748\r\n"
       ]
      },
      {
       "output_type": "stream",
       "stream": "stdout",
       "text": [
        "I0323 19:45:18.850097 2077332224 solver.cpp:207] Iteration 4300, loss = 0.0443769\r\n",
        "I0323 19:45:18.850142 2077332224 solver.cpp:222]     Train net output #0: loss = 0.044377 (* 1 = 0.044377 loss)\r\n",
        "I0323 19:45:18.850153 2077332224 solver.cpp:419] Iteration 4300, lr = 0.00764712\r\n"
       ]
      },
      {
       "output_type": "stream",
       "stream": "stdout",
       "text": [
        "I0323 19:45:20.878528 2077332224 solver.cpp:207] Iteration 4400, loss = 0.0851795\r\n",
        "I0323 19:45:20.878567 2077332224 solver.cpp:222]     Train net output #0: loss = 0.0851796 (* 1 = 0.0851796 loss)\r\n",
        "I0323 19:45:20.878578 2077332224 solver.cpp:419] Iteration 4400, lr = 0.00760726\r\n"
       ]
      },
      {
       "output_type": "stream",
       "stream": "stdout",
       "text": [
        "I0323 19:45:23.186511 2077332224 solver.cpp:263] Iteration 4500, Testing net (#0)\r\n"
       ]
      },
      {
       "output_type": "stream",
       "stream": "stdout",
       "text": [
        "I0323 19:45:23.355500 2077332224 solver.cpp:314]     Test net output #0: accuracy = 0.952\r\n",
        "I0323 19:45:23.355537 2077332224 solver.cpp:314]     Test net output #1: loss = 0.121939 (* 1 = 0.121939 loss)\r\n",
        "I0323 19:45:23.375186 2077332224 solver.cpp:207] Iteration 4500, loss = 0.131525\r\n",
        "I0323 19:45:23.375227 2077332224 solver.cpp:222]     Train net output #0: loss = 0.131525 (* 1 = 0.131525 loss)\r\n",
        "I0323 19:45:23.375237 2077332224 solver.cpp:419] Iteration 4500, lr = 0.00756788\r\n"
       ]
      },
      {
       "output_type": "stream",
       "stream": "stdout",
       "text": [
        "I0323 19:45:25.412896 2077332224 solver.cpp:207] Iteration 4600, loss = 0.0320352\r\n",
        "I0323 19:45:25.412936 2077332224 solver.cpp:222]     Train net output #0: loss = 0.0320353 (* 1 = 0.0320353 loss)\r\n",
        "I0323 19:45:25.412946 2077332224 solver.cpp:419] Iteration 4600, lr = 0.00752897\r\n"
       ]
      }
     ]
    },
    {
     "cell_type": "code",
     "collapsed": false,
     "input": [],
     "language": "python",
     "metadata": {},
     "outputs": []
    }
   ],
   "metadata": {}
  }
 ]
}